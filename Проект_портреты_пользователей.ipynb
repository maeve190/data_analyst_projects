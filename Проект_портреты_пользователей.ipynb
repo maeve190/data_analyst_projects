{
 "cells": [
  {
   "cell_type": "markdown",
   "metadata": {},
   "source": [
    "# Сборный проект"
   ]
  },
  {
   "cell_type": "markdown",
   "metadata": {},
   "source": [
    "**Цель исследования:**\n",
    "1. Найти закономерности, определяющие успешность игры.\n",
    "<br>\n",
    "2. Проверить гипотезы:\n",
    "<ul>\n",
    "<li>Средние пользовательские рейтинги платформ Xbox One и PC одинаковые;</li>\n",
    "<li>Средние пользовательские рейтинги жанров Action и Sports разные.</li>\n",
    "<ul>\n",
    "**Ход исследования:**\n",
    " 1. Обзор данных.\n",
    " 2. Предобработка данных.\n",
    " 3. Анализ данных.\n",
    " 4. Проверка гипотез."
   ]
  },
  {
   "cell_type": "markdown",
   "metadata": {},
   "source": [
    "### Изучение общей информации"
   ]
  },
  {
   "cell_type": "code",
   "execution_count": 1,
   "metadata": {},
   "outputs": [],
   "source": [
    "import pandas as pd\n",
    "import matplotlib.pyplot as plt\n",
    "import warnings\n",
    "from scipy import stats as st"
   ]
  },
  {
   "cell_type": "code",
   "execution_count": 2,
   "metadata": {
    "scrolled": true
   },
   "outputs": [
    {
     "data": {
      "text/html": [
       "<div>\n",
       "<style scoped>\n",
       "    .dataframe tbody tr th:only-of-type {\n",
       "        vertical-align: middle;\n",
       "    }\n",
       "\n",
       "    .dataframe tbody tr th {\n",
       "        vertical-align: top;\n",
       "    }\n",
       "\n",
       "    .dataframe thead th {\n",
       "        text-align: right;\n",
       "    }\n",
       "</style>\n",
       "<table border=\"1\" class=\"dataframe\">\n",
       "  <thead>\n",
       "    <tr style=\"text-align: right;\">\n",
       "      <th></th>\n",
       "      <th>Name</th>\n",
       "      <th>Platform</th>\n",
       "      <th>Year_of_Release</th>\n",
       "      <th>Genre</th>\n",
       "      <th>NA_sales</th>\n",
       "      <th>EU_sales</th>\n",
       "      <th>JP_sales</th>\n",
       "      <th>Other_sales</th>\n",
       "      <th>Critic_Score</th>\n",
       "      <th>User_Score</th>\n",
       "      <th>Rating</th>\n",
       "    </tr>\n",
       "  </thead>\n",
       "  <tbody>\n",
       "    <tr>\n",
       "      <th>0</th>\n",
       "      <td>Wii Sports</td>\n",
       "      <td>Wii</td>\n",
       "      <td>2006.0</td>\n",
       "      <td>Sports</td>\n",
       "      <td>41.36</td>\n",
       "      <td>28.96</td>\n",
       "      <td>3.77</td>\n",
       "      <td>8.45</td>\n",
       "      <td>76.0</td>\n",
       "      <td>8</td>\n",
       "      <td>E</td>\n",
       "    </tr>\n",
       "    <tr>\n",
       "      <th>1</th>\n",
       "      <td>Super Mario Bros.</td>\n",
       "      <td>NES</td>\n",
       "      <td>1985.0</td>\n",
       "      <td>Platform</td>\n",
       "      <td>29.08</td>\n",
       "      <td>3.58</td>\n",
       "      <td>6.81</td>\n",
       "      <td>0.77</td>\n",
       "      <td>NaN</td>\n",
       "      <td>NaN</td>\n",
       "      <td>NaN</td>\n",
       "    </tr>\n",
       "    <tr>\n",
       "      <th>2</th>\n",
       "      <td>Mario Kart Wii</td>\n",
       "      <td>Wii</td>\n",
       "      <td>2008.0</td>\n",
       "      <td>Racing</td>\n",
       "      <td>15.68</td>\n",
       "      <td>12.76</td>\n",
       "      <td>3.79</td>\n",
       "      <td>3.29</td>\n",
       "      <td>82.0</td>\n",
       "      <td>8.3</td>\n",
       "      <td>E</td>\n",
       "    </tr>\n",
       "    <tr>\n",
       "      <th>3</th>\n",
       "      <td>Wii Sports Resort</td>\n",
       "      <td>Wii</td>\n",
       "      <td>2009.0</td>\n",
       "      <td>Sports</td>\n",
       "      <td>15.61</td>\n",
       "      <td>10.93</td>\n",
       "      <td>3.28</td>\n",
       "      <td>2.95</td>\n",
       "      <td>80.0</td>\n",
       "      <td>8</td>\n",
       "      <td>E</td>\n",
       "    </tr>\n",
       "    <tr>\n",
       "      <th>4</th>\n",
       "      <td>Pokemon Red/Pokemon Blue</td>\n",
       "      <td>GB</td>\n",
       "      <td>1996.0</td>\n",
       "      <td>Role-Playing</td>\n",
       "      <td>11.27</td>\n",
       "      <td>8.89</td>\n",
       "      <td>10.22</td>\n",
       "      <td>1.00</td>\n",
       "      <td>NaN</td>\n",
       "      <td>NaN</td>\n",
       "      <td>NaN</td>\n",
       "    </tr>\n",
       "    <tr>\n",
       "      <th>5</th>\n",
       "      <td>Tetris</td>\n",
       "      <td>GB</td>\n",
       "      <td>1989.0</td>\n",
       "      <td>Puzzle</td>\n",
       "      <td>23.20</td>\n",
       "      <td>2.26</td>\n",
       "      <td>4.22</td>\n",
       "      <td>0.58</td>\n",
       "      <td>NaN</td>\n",
       "      <td>NaN</td>\n",
       "      <td>NaN</td>\n",
       "    </tr>\n",
       "    <tr>\n",
       "      <th>6</th>\n",
       "      <td>New Super Mario Bros.</td>\n",
       "      <td>DS</td>\n",
       "      <td>2006.0</td>\n",
       "      <td>Platform</td>\n",
       "      <td>11.28</td>\n",
       "      <td>9.14</td>\n",
       "      <td>6.50</td>\n",
       "      <td>2.88</td>\n",
       "      <td>89.0</td>\n",
       "      <td>8.5</td>\n",
       "      <td>E</td>\n",
       "    </tr>\n",
       "    <tr>\n",
       "      <th>7</th>\n",
       "      <td>Wii Play</td>\n",
       "      <td>Wii</td>\n",
       "      <td>2006.0</td>\n",
       "      <td>Misc</td>\n",
       "      <td>13.96</td>\n",
       "      <td>9.18</td>\n",
       "      <td>2.93</td>\n",
       "      <td>2.84</td>\n",
       "      <td>58.0</td>\n",
       "      <td>6.6</td>\n",
       "      <td>E</td>\n",
       "    </tr>\n",
       "    <tr>\n",
       "      <th>8</th>\n",
       "      <td>New Super Mario Bros. Wii</td>\n",
       "      <td>Wii</td>\n",
       "      <td>2009.0</td>\n",
       "      <td>Platform</td>\n",
       "      <td>14.44</td>\n",
       "      <td>6.94</td>\n",
       "      <td>4.70</td>\n",
       "      <td>2.24</td>\n",
       "      <td>87.0</td>\n",
       "      <td>8.4</td>\n",
       "      <td>E</td>\n",
       "    </tr>\n",
       "    <tr>\n",
       "      <th>9</th>\n",
       "      <td>Duck Hunt</td>\n",
       "      <td>NES</td>\n",
       "      <td>1984.0</td>\n",
       "      <td>Shooter</td>\n",
       "      <td>26.93</td>\n",
       "      <td>0.63</td>\n",
       "      <td>0.28</td>\n",
       "      <td>0.47</td>\n",
       "      <td>NaN</td>\n",
       "      <td>NaN</td>\n",
       "      <td>NaN</td>\n",
       "    </tr>\n",
       "  </tbody>\n",
       "</table>\n",
       "</div>"
      ],
      "text/plain": [
       "                        Name Platform  Year_of_Release         Genre  \\\n",
       "0                 Wii Sports      Wii           2006.0        Sports   \n",
       "1          Super Mario Bros.      NES           1985.0      Platform   \n",
       "2             Mario Kart Wii      Wii           2008.0        Racing   \n",
       "3          Wii Sports Resort      Wii           2009.0        Sports   \n",
       "4   Pokemon Red/Pokemon Blue       GB           1996.0  Role-Playing   \n",
       "5                     Tetris       GB           1989.0        Puzzle   \n",
       "6      New Super Mario Bros.       DS           2006.0      Platform   \n",
       "7                   Wii Play      Wii           2006.0          Misc   \n",
       "8  New Super Mario Bros. Wii      Wii           2009.0      Platform   \n",
       "9                  Duck Hunt      NES           1984.0       Shooter   \n",
       "\n",
       "   NA_sales  EU_sales  JP_sales  Other_sales  Critic_Score User_Score Rating  \n",
       "0     41.36     28.96      3.77         8.45          76.0          8      E  \n",
       "1     29.08      3.58      6.81         0.77           NaN        NaN    NaN  \n",
       "2     15.68     12.76      3.79         3.29          82.0        8.3      E  \n",
       "3     15.61     10.93      3.28         2.95          80.0          8      E  \n",
       "4     11.27      8.89     10.22         1.00           NaN        NaN    NaN  \n",
       "5     23.20      2.26      4.22         0.58           NaN        NaN    NaN  \n",
       "6     11.28      9.14      6.50         2.88          89.0        8.5      E  \n",
       "7     13.96      9.18      2.93         2.84          58.0        6.6      E  \n",
       "8     14.44      6.94      4.70         2.24          87.0        8.4      E  \n",
       "9     26.93      0.63      0.28         0.47           NaN        NaN    NaN  "
      ]
     },
     "execution_count": 2,
     "metadata": {},
     "output_type": "execute_result"
    }
   ],
   "source": [
    "data = pd.read_csv('/datasets/games.csv')\n",
    "data.head(10)"
   ]
  },
  {
   "cell_type": "code",
   "execution_count": 3,
   "metadata": {
    "scrolled": true
   },
   "outputs": [
    {
     "name": "stdout",
     "output_type": "stream",
     "text": [
      "<class 'pandas.core.frame.DataFrame'>\n",
      "RangeIndex: 16715 entries, 0 to 16714\n",
      "Data columns (total 11 columns):\n",
      " #   Column           Non-Null Count  Dtype  \n",
      "---  ------           --------------  -----  \n",
      " 0   Name             16713 non-null  object \n",
      " 1   Platform         16715 non-null  object \n",
      " 2   Year_of_Release  16446 non-null  float64\n",
      " 3   Genre            16713 non-null  object \n",
      " 4   NA_sales         16715 non-null  float64\n",
      " 5   EU_sales         16715 non-null  float64\n",
      " 6   JP_sales         16715 non-null  float64\n",
      " 7   Other_sales      16715 non-null  float64\n",
      " 8   Critic_Score     8137 non-null   float64\n",
      " 9   User_Score       10014 non-null  object \n",
      " 10  Rating           9949 non-null   object \n",
      "dtypes: float64(6), object(5)\n",
      "memory usage: 1.4+ MB\n"
     ]
    }
   ],
   "source": [
    "data.info()"
   ]
  },
  {
   "cell_type": "markdown",
   "metadata": {},
   "source": [
    "**В данных есть пропущенные значения, в названиях столбцов используются верхний регистр.**"
   ]
  },
  {
   "cell_type": "markdown",
   "metadata": {},
   "source": [
    "### Предобработка данных"
   ]
  },
  {
   "cell_type": "code",
   "execution_count": 4,
   "metadata": {},
   "outputs": [
    {
     "data": {
      "text/plain": [
       "0"
      ]
     },
     "execution_count": 4,
     "metadata": {},
     "output_type": "execute_result"
    }
   ],
   "source": [
    "data.duplicated().sum() #Проверка на явные дубликаты"
   ]
  },
  {
   "cell_type": "code",
   "execution_count": 5,
   "metadata": {},
   "outputs": [],
   "source": [
    "#Приводим названия столбцов к нижнему регистру\n",
    "data = data.rename(columns = {'Name':'name', 'Platform':'platform', 'Year_of_Release':'year_of_release', 'Genre':'genre', 'NA_sales':'na_sales', 'EU_sales':'eu_sales', 'JP_sales':'jp_sales', 'Other_sales':'other_sales', 'Critic_Score':'critic_score', 'User_Score':'user_score', 'Rating':'rating'})"
   ]
  },
  {
   "cell_type": "code",
   "execution_count": 6,
   "metadata": {
    "scrolled": true
   },
   "outputs": [
    {
     "data": {
      "text/plain": [
       "name                  2\n",
       "platform              0\n",
       "year_of_release     269\n",
       "genre                 2\n",
       "na_sales              0\n",
       "eu_sales              0\n",
       "jp_sales              0\n",
       "other_sales           0\n",
       "critic_score       8578\n",
       "user_score         6701\n",
       "rating             6766\n",
       "dtype: int64"
      ]
     },
     "execution_count": 6,
     "metadata": {},
     "output_type": "execute_result"
    }
   ],
   "source": [
    "data.isna().sum()"
   ]
  },
  {
   "cell_type": "markdown",
   "metadata": {},
   "source": [
    "**В данных есть пропуски, избавимся от них там, где это возможно.**"
   ]
  },
  {
   "cell_type": "markdown",
   "metadata": {},
   "source": [
    "**Есть по два пропуска в столбцах в названиями и жанрами, удалим их.**"
   ]
  },
  {
   "cell_type": "code",
   "execution_count": 7,
   "metadata": {},
   "outputs": [
    {
     "data": {
      "text/html": [
       "<div>\n",
       "<style scoped>\n",
       "    .dataframe tbody tr th:only-of-type {\n",
       "        vertical-align: middle;\n",
       "    }\n",
       "\n",
       "    .dataframe tbody tr th {\n",
       "        vertical-align: top;\n",
       "    }\n",
       "\n",
       "    .dataframe thead th {\n",
       "        text-align: right;\n",
       "    }\n",
       "</style>\n",
       "<table border=\"1\" class=\"dataframe\">\n",
       "  <thead>\n",
       "    <tr style=\"text-align: right;\">\n",
       "      <th></th>\n",
       "      <th>name</th>\n",
       "      <th>platform</th>\n",
       "      <th>year_of_release</th>\n",
       "      <th>genre</th>\n",
       "      <th>na_sales</th>\n",
       "      <th>eu_sales</th>\n",
       "      <th>jp_sales</th>\n",
       "      <th>other_sales</th>\n",
       "      <th>critic_score</th>\n",
       "      <th>user_score</th>\n",
       "      <th>rating</th>\n",
       "    </tr>\n",
       "  </thead>\n",
       "  <tbody>\n",
       "    <tr>\n",
       "      <th>659</th>\n",
       "      <td>NaN</td>\n",
       "      <td>GEN</td>\n",
       "      <td>1993.0</td>\n",
       "      <td>NaN</td>\n",
       "      <td>1.78</td>\n",
       "      <td>0.53</td>\n",
       "      <td>0.00</td>\n",
       "      <td>0.08</td>\n",
       "      <td>NaN</td>\n",
       "      <td>NaN</td>\n",
       "      <td>NaN</td>\n",
       "    </tr>\n",
       "    <tr>\n",
       "      <th>14244</th>\n",
       "      <td>NaN</td>\n",
       "      <td>GEN</td>\n",
       "      <td>1993.0</td>\n",
       "      <td>NaN</td>\n",
       "      <td>0.00</td>\n",
       "      <td>0.00</td>\n",
       "      <td>0.03</td>\n",
       "      <td>0.00</td>\n",
       "      <td>NaN</td>\n",
       "      <td>NaN</td>\n",
       "      <td>NaN</td>\n",
       "    </tr>\n",
       "  </tbody>\n",
       "</table>\n",
       "</div>"
      ],
      "text/plain": [
       "      name platform  year_of_release genre  na_sales  eu_sales  jp_sales  \\\n",
       "659    NaN      GEN           1993.0   NaN      1.78      0.53      0.00   \n",
       "14244  NaN      GEN           1993.0   NaN      0.00      0.00      0.03   \n",
       "\n",
       "       other_sales  critic_score user_score rating  \n",
       "659           0.08           NaN        NaN    NaN  \n",
       "14244         0.00           NaN        NaN    NaN  "
      ]
     },
     "execution_count": 7,
     "metadata": {},
     "output_type": "execute_result"
    }
   ],
   "source": [
    "data.loc[data['name'].isna()]"
   ]
  },
  {
   "cell_type": "code",
   "execution_count": 8,
   "metadata": {},
   "outputs": [],
   "source": [
    "data = data.loc[~data['name'].isna()]"
   ]
  },
  {
   "cell_type": "markdown",
   "metadata": {},
   "source": [
    "**Также удалим строки, в которых отсутствует год релиза игры, т.к. таких строк не так много.**"
   ]
  },
  {
   "cell_type": "code",
   "execution_count": 9,
   "metadata": {},
   "outputs": [],
   "source": [
    "data = data.loc[~data['year_of_release'].isna()]"
   ]
  },
  {
   "cell_type": "markdown",
   "metadata": {},
   "source": [
    "**Заменим пропуски в категориальном столбце \"rating\" на \"unknown\".**"
   ]
  },
  {
   "cell_type": "code",
   "execution_count": 10,
   "metadata": {},
   "outputs": [],
   "source": [
    "data.loc[data['rating'].isna(), 'rating'] = 'unknown' "
   ]
  },
  {
   "cell_type": "markdown",
   "metadata": {},
   "source": [
    "**Пропуски в столбцах \"user_score\" и \"critic_score\" заполнять не будем, т.к. это может сильно исказить результаты анализа.**"
   ]
  },
  {
   "cell_type": "markdown",
   "metadata": {},
   "source": [
    "**Изменим тип данных столбца \"year_of_release\" на целочисленный, т.к. год указывается только целым числом.**"
   ]
  },
  {
   "cell_type": "code",
   "execution_count": 11,
   "metadata": {},
   "outputs": [],
   "source": [
    "data['year_of_release'] = data['year_of_release'].astype('int')"
   ]
  },
  {
   "cell_type": "markdown",
   "metadata": {},
   "source": [
    "**Заменим значения \"tbd\" в столбце \"user_score\" на пропуски, далее заменим тип столбца на нецелочисленный.**"
   ]
  },
  {
   "cell_type": "code",
   "execution_count": 12,
   "metadata": {},
   "outputs": [],
   "source": [
    "data.loc[data['user_score'] == 'tbd', 'user_score'] = float('nan')"
   ]
  },
  {
   "cell_type": "code",
   "execution_count": 13,
   "metadata": {},
   "outputs": [],
   "source": [
    "data['user_score'] = data['user_score'].astype('float')"
   ]
  },
  {
   "cell_type": "markdown",
   "metadata": {},
   "source": [
    "**Создадим столбец \"total_sales\" и запишем в него сумму продаж всех регионов.**"
   ]
  },
  {
   "cell_type": "code",
   "execution_count": 14,
   "metadata": {},
   "outputs": [],
   "source": [
    "data['total_sales'] = data['na_sales'] + data['eu_sales'] + data['jp_sales'] + data['other_sales']"
   ]
  },
  {
   "cell_type": "markdown",
   "metadata": {},
   "source": [
    "**В данных были обнаружены пропуски, от некоторых мы избавились, но пропуски в столбцах с оценками пользователей и критиков заполнить не удалось, т.к. их заполнение может некорректно сказаться за итоговых результатах, часть столбцов была преведена к другому типу данных, также были изменены названия столбцов в соответствии с «хорошим стилем».** "
   ]
  },
  {
   "cell_type": "markdown",
   "metadata": {},
   "source": [
    "### Анализ данных"
   ]
  },
  {
   "cell_type": "markdown",
   "metadata": {},
   "source": [
    "**Посмотрим на количество выпущенных игр в каждый год.**"
   ]
  },
  {
   "cell_type": "code",
   "execution_count": 15,
   "metadata": {},
   "outputs": [
    {
     "data": {
      "text/plain": [
       "2008    1427\n",
       "2009    1426\n",
       "2010    1255\n",
       "2007    1197\n",
       "2011    1136\n",
       "2006    1006\n",
       "2005     939\n",
       "2002     829\n",
       "2003     775\n",
       "2004     762\n",
       "2012     653\n",
       "2015     606\n",
       "2014     581\n",
       "2013     544\n",
       "2016     502\n",
       "2001     482\n",
       "1998     379\n",
       "2000     350\n",
       "1999     338\n",
       "1997     289\n",
       "1996     263\n",
       "1995     219\n",
       "1994     121\n",
       "1993      60\n",
       "1981      46\n",
       "1992      43\n",
       "1991      41\n",
       "1982      36\n",
       "1986      21\n",
       "1983      17\n",
       "1989      17\n",
       "1990      16\n",
       "1987      16\n",
       "1988      15\n",
       "1985      14\n",
       "1984      14\n",
       "1980       9\n",
       "Name: year_of_release, dtype: int64"
      ]
     },
     "execution_count": 15,
     "metadata": {},
     "output_type": "execute_result"
    }
   ],
   "source": [
    "data['year_of_release'].value_counts()"
   ]
  },
  {
   "cell_type": "code",
   "execution_count": 16,
   "metadata": {
    "scrolled": false
   },
   "outputs": [
    {
     "data": {
      "image/png": "[encoded data removed]",
      "text/plain": [
       "<Figure size 576x432 with 1 Axes>"
      ]
     },
     "metadata": {
      "needs_background": "light"
     },
     "output_type": "display_data"
    }
   ],
   "source": [
    "data.hist('year_of_release', bins = len(data['year_of_release'].unique()), figsize=(8,6));"
   ]
  },
  {
   "cell_type": "markdown",
   "metadata": {},
   "source": [
    "**До 1993 года количество выпускаемых в год игр было менее 100, начиная с 1994 года количество игр начало стремительно расти, в период 2006-2011 год количество выпускаемых игр превышало 1000 за каждый год, после 2011 года число выпускаемых игр резко упало.** "
   ]
  },
  {
   "cell_type": "code",
   "execution_count": 17,
   "metadata": {},
   "outputs": [],
   "source": [
    "top_platforms = data.pivot_table(index='platform', values='total_sales', aggfunc='sum').sort_values(by='total_sales', ascending=False).head(6)"
   ]
  },
  {
   "cell_type": "code",
   "execution_count": 18,
   "metadata": {},
   "outputs": [],
   "source": [
    "top_platforms_by_years = data.query('platform in @top_platforms.index').pivot_table(index='year_of_release', columns='platform', values='total_sales', aggfunc='sum')"
   ]
  },
  {
   "cell_type": "code",
   "execution_count": 19,
   "metadata": {},
   "outputs": [
    {
     "data": {
      "image/png": "[encoded data removed]",
      "text/plain": [
       "<Figure size 648x432 with 1 Axes>"
      ]
     },
     "metadata": {
      "needs_background": "light"
     },
     "output_type": "display_data"
    }
   ],
   "source": [
    "top_platforms_by_years.plot(xlabel = 'год выпуска', ylabel = 'продажи', figsize = (9,6), grid = True, title = 'Продажи топ-6 платформ по годам');"
   ]
  },
  {
   "cell_type": "markdown",
   "metadata": {},
   "source": [
    "**Определим актуальный прериод, для этого возьмеем среднее количество продаж для всех топ шести компаний, далее выберем те года, когда продажи каждой платформы были выше средней и найдем среднее этих лет.**"
   ]
  },
  {
   "cell_type": "code",
   "execution_count": 20,
   "metadata": {},
   "outputs": [
    {
     "data": {
      "text/plain": [
       "82.38693939393943"
      ]
     },
     "execution_count": 20,
     "metadata": {},
     "output_type": "execute_result"
    }
   ],
   "source": [
    "top_platforms_by_years.mean().mean()"
   ]
  },
  {
   "cell_type": "code",
   "execution_count": 21,
   "metadata": {},
   "outputs": [
    {
     "data": {
      "text/plain": [
       "5.833333333333333"
      ]
     },
     "execution_count": 21,
     "metadata": {},
     "output_type": "execute_result"
    }
   ],
   "source": [
    "(len(top_platforms_by_years.query('PS2>83')) + len(top_platforms_by_years.query('X360>83')) + len(top_platforms_by_years.query('PS3>83')) + len(top_platforms_by_years.query('Wii>83')) + len(top_platforms_by_years.query('DS>83')) + len(top_platforms_by_years.query('PS>83'))) / 6"
   ]
  },
  {
   "cell_type": "markdown",
   "metadata": {},
   "source": [
    "**Получаем почти шесть лет, но возьмем актуальный период 5 лет, т.к. во многие годы у платформ были низкие продажи, что повлияло на среднее значение(медиану не было смысла брать, т.к. небольшое количество лет).**"
   ]
  },
  {
   "cell_type": "code",
   "execution_count": 22,
   "metadata": {},
   "outputs": [],
   "source": [
    "#Создаем датафрейм с играми, выпущенными после 2011 года\n",
    "data_actual = data.query('year_of_release>2011')"
   ]
  },
  {
   "cell_type": "code",
   "execution_count": 23,
   "metadata": {},
   "outputs": [],
   "source": [
    "actual_pivot = data_actual.pivot_table(index='year_of_release', columns='platform', values='total_sales', aggfunc='sum')"
   ]
  },
  {
   "cell_type": "code",
   "execution_count": 24,
   "metadata": {
    "scrolled": true
   },
   "outputs": [
    {
     "data": {
      "text/plain": [
       "platform\n",
       "PS4     314.14\n",
       "PS3     288.79\n",
       "X360    236.54\n",
       "3DS     194.61\n",
       "XOne    159.32\n",
       "WiiU     82.19\n",
       "PC       62.65\n",
       "PSV      49.18\n",
       "Wii      35.37\n",
       "DS       12.55\n",
       "PSP      11.19\n",
       "dtype: float64"
      ]
     },
     "execution_count": 24,
     "metadata": {},
     "output_type": "execute_result"
    }
   ],
   "source": [
    "#Смотрим на продажи платформ за актуальный период\n",
    "actual_pivot.sum().sort_values(ascending=False)"
   ]
  },
  {
   "cell_type": "markdown",
   "metadata": {},
   "source": [
    "**В топ-5 лидирующих по продажам платформ входят PS4, PS3, X360, 3DS, XOne.**   "
   ]
  },
  {
   "cell_type": "code",
   "execution_count": 25,
   "metadata": {},
   "outputs": [
    {
     "data": {
      "text/html": [
       "<div>\n",
       "<style scoped>\n",
       "    .dataframe tbody tr th:only-of-type {\n",
       "        vertical-align: middle;\n",
       "    }\n",
       "\n",
       "    .dataframe tbody tr th {\n",
       "        vertical-align: top;\n",
       "    }\n",
       "\n",
       "    .dataframe thead th {\n",
       "        text-align: right;\n",
       "    }\n",
       "</style>\n",
       "<table border=\"1\" class=\"dataframe\">\n",
       "  <thead>\n",
       "    <tr style=\"text-align: right;\">\n",
       "      <th>platform</th>\n",
       "      <th>3DS</th>\n",
       "      <th>DS</th>\n",
       "      <th>PC</th>\n",
       "      <th>PS3</th>\n",
       "      <th>PS4</th>\n",
       "      <th>PSP</th>\n",
       "      <th>PSV</th>\n",
       "      <th>Wii</th>\n",
       "      <th>WiiU</th>\n",
       "      <th>X360</th>\n",
       "      <th>XOne</th>\n",
       "    </tr>\n",
       "    <tr>\n",
       "      <th>year_of_release</th>\n",
       "      <th></th>\n",
       "      <th></th>\n",
       "      <th></th>\n",
       "      <th></th>\n",
       "      <th></th>\n",
       "      <th></th>\n",
       "      <th></th>\n",
       "      <th></th>\n",
       "      <th></th>\n",
       "      <th></th>\n",
       "      <th></th>\n",
       "    </tr>\n",
       "  </thead>\n",
       "  <tbody>\n",
       "    <tr>\n",
       "      <th>2012</th>\n",
       "      <td>51.36</td>\n",
       "      <td>11.01</td>\n",
       "      <td>23.22</td>\n",
       "      <td>107.36</td>\n",
       "      <td>NaN</td>\n",
       "      <td>7.69</td>\n",
       "      <td>16.19</td>\n",
       "      <td>21.71</td>\n",
       "      <td>17.56</td>\n",
       "      <td>99.74</td>\n",
       "      <td>NaN</td>\n",
       "    </tr>\n",
       "    <tr>\n",
       "      <th>2013</th>\n",
       "      <td>56.57</td>\n",
       "      <td>1.54</td>\n",
       "      <td>12.38</td>\n",
       "      <td>113.25</td>\n",
       "      <td>25.99</td>\n",
       "      <td>3.14</td>\n",
       "      <td>10.59</td>\n",
       "      <td>8.59</td>\n",
       "      <td>21.65</td>\n",
       "      <td>88.58</td>\n",
       "      <td>18.96</td>\n",
       "    </tr>\n",
       "    <tr>\n",
       "      <th>2014</th>\n",
       "      <td>43.76</td>\n",
       "      <td>NaN</td>\n",
       "      <td>13.28</td>\n",
       "      <td>47.76</td>\n",
       "      <td>100.00</td>\n",
       "      <td>0.24</td>\n",
       "      <td>11.90</td>\n",
       "      <td>3.75</td>\n",
       "      <td>22.03</td>\n",
       "      <td>34.74</td>\n",
       "      <td>54.07</td>\n",
       "    </tr>\n",
       "    <tr>\n",
       "      <th>2015</th>\n",
       "      <td>27.78</td>\n",
       "      <td>NaN</td>\n",
       "      <td>8.52</td>\n",
       "      <td>16.82</td>\n",
       "      <td>118.90</td>\n",
       "      <td>0.12</td>\n",
       "      <td>6.25</td>\n",
       "      <td>1.14</td>\n",
       "      <td>16.35</td>\n",
       "      <td>11.96</td>\n",
       "      <td>60.14</td>\n",
       "    </tr>\n",
       "    <tr>\n",
       "      <th>2016</th>\n",
       "      <td>15.14</td>\n",
       "      <td>NaN</td>\n",
       "      <td>5.25</td>\n",
       "      <td>3.60</td>\n",
       "      <td>69.25</td>\n",
       "      <td>NaN</td>\n",
       "      <td>4.25</td>\n",
       "      <td>0.18</td>\n",
       "      <td>4.60</td>\n",
       "      <td>1.52</td>\n",
       "      <td>26.15</td>\n",
       "    </tr>\n",
       "  </tbody>\n",
       "</table>\n",
       "</div>"
      ],
      "text/plain": [
       "platform           3DS     DS     PC     PS3     PS4   PSP    PSV    Wii  \\\n",
       "year_of_release                                                            \n",
       "2012             51.36  11.01  23.22  107.36     NaN  7.69  16.19  21.71   \n",
       "2013             56.57   1.54  12.38  113.25   25.99  3.14  10.59   8.59   \n",
       "2014             43.76    NaN  13.28   47.76  100.00  0.24  11.90   3.75   \n",
       "2015             27.78    NaN   8.52   16.82  118.90  0.12   6.25   1.14   \n",
       "2016             15.14    NaN   5.25    3.60   69.25   NaN   4.25   0.18   \n",
       "\n",
       "platform          WiiU   X360   XOne  \n",
       "year_of_release                       \n",
       "2012             17.56  99.74    NaN  \n",
       "2013             21.65  88.58  18.96  \n",
       "2014             22.03  34.74  54.07  \n",
       "2015             16.35  11.96  60.14  \n",
       "2016              4.60   1.52  26.15  "
      ]
     },
     "execution_count": 25,
     "metadata": {},
     "output_type": "execute_result"
    }
   ],
   "source": [
    "actual_pivot"
   ]
  },
  {
   "cell_type": "code",
   "execution_count": 26,
   "metadata": {
    "scrolled": false
   },
   "outputs": [
    {
     "data": {
      "image/png": "[encoded data removed]",
      "text/plain": [
       "<Figure size 720x432 with 1 Axes>"
      ]
     },
     "metadata": {
      "needs_background": "light"
     },
     "output_type": "display_data"
    }
   ],
   "source": [
    "actual_pivot.plot(xlabel = 'год', ylabel = 'продажи', title = 'Продажи платформ по годам', figsize=(10,6));"
   ]
  },
  {
   "cell_type": "markdown",
   "metadata": {},
   "source": [
    "**Все платформы в 2016 году сделали меньше продаж, по сравнению с 2015 годом, многие платформы начали падать еще до этого, исключением являются PS4 и XOne, они росли вплоть до 2015 года. Эти платформы в 2017 потенциально могут показать результаты лучше, чем в 2016, т.к. только они показывали рост продаж в каждый год, кроме 2016(падение в 2016 году продаж у всех платформ может быть связано с уменьшением количества выпущенных игр или с каким-либо другим фактором).**"
   ]
  },
  {
   "cell_type": "code",
   "execution_count": 27,
   "metadata": {},
   "outputs": [
    {
     "data": {
      "image/png": "[encoded data removed]",
      "text/plain": [
       "<Figure size 864x720 with 1 Axes>"
      ]
     },
     "metadata": {
      "needs_background": "light"
     },
     "output_type": "display_data"
    }
   ],
   "source": [
    "data_actual.boxplot('total_sales', by='platform', figsize=(12,10))\n",
    "plt.suptitle('')\n",
    "plt.title('Диаграмма размаха по продажам игр для каждой платформы')\n",
    "plt.xlabel('платформа')\n",
    "plt.ylabel('продано копий игры')\n",
    "plt.ylim(0,2.5);"
   ]
  },
  {
   "cell_type": "markdown",
   "metadata": {},
   "source": [
    "**У большинства платформ медиана продаж находится ниже 0,25 миллионов, лишь у X360 медиана превышает это значение, также у этой платформы наибольший порог выбросов(около 1,9 миллионов продаж), далее идет PS4, у этой платформы выбросами являются игры, продажи которых превышают 1,75 миллиона копий, рядом стоят Wii и XOne, у них выбросы начинаются примерно с 1,6 миллиона.**"
   ]
  },
  {
   "cell_type": "markdown",
   "metadata": {},
   "source": [
    "**Посмотрим на влияние отзывов критиков и покупателей на продажи внутри платформы PS4.**"
   ]
  },
  {
   "cell_type": "code",
   "execution_count": 28,
   "metadata": {
    "scrolled": false
   },
   "outputs": [
    {
     "data": {
      "image/png": "[encoded data removed]",
      "text/plain": [
       "<Figure size 720x576 with 1 Axes>"
      ]
     },
     "metadata": {
      "needs_background": "light"
     },
     "output_type": "display_data"
    }
   ],
   "source": [
    "data_actual.query('platform==\"PS4\"').plot(x='critic_score', y='total_sales', kind='scatter', figsize=(10,8), grid = True, xlabel='оценка критиков', ylabel='число продаж', title='Диаграмма рессеяния для PS4');"
   ]
  },
  {
   "cell_type": "markdown",
   "metadata": {},
   "source": [
    "**Игры, которые купили 2 и более миллиона раз, имеют выскоие оценки от критиков, свыше 70 баллов, но также есть множество игр, у которых мало продаж и которые имеют высокие оценки, а вот игр, которые имеют много продаж и невысокие оценки практически нет, т.е. зависимость прослеживается, но не всегда.** "
   ]
  },
  {
   "cell_type": "code",
   "execution_count": 29,
   "metadata": {},
   "outputs": [
    {
     "data": {
      "image/png": "[encoded data removed]",
      "text/plain": [
       "<Figure size 720x576 with 1 Axes>"
      ]
     },
     "metadata": {
      "needs_background": "light"
     },
     "output_type": "display_data"
    }
   ],
   "source": [
    "data_actual.query('platform==\"PS4\"').plot(x='user_score', y='total_sales', kind='scatter', figsize=(10,8), grid = True, xlabel='оценка пользователей', ylabel='число продаж', title='Диаграмма рессеяния для PS4');"
   ]
  },
  {
   "cell_type": "markdown",
   "metadata": {},
   "source": [
    "**С оценками пользователей картина немного иная, есть много игр с большим количеством продаж и невысокими или средними оценками, также много игр с высокими оценками и низким количеством продаж.**"
   ]
  },
  {
   "cell_type": "code",
   "execution_count": 30,
   "metadata": {
    "scrolled": true
   },
   "outputs": [
    {
     "data": {
      "text/plain": [
       "0.40656790206178095"
      ]
     },
     "execution_count": 30,
     "metadata": {},
     "output_type": "execute_result"
    }
   ],
   "source": [
    "#Посмотрим корреляцию продаж и оценок критиков\n",
    "data_actual.query('platform==\"PS4\"')['critic_score'].corr(data_actual.query('platform==\"PS4\"')['total_sales'])"
   ]
  },
  {
   "cell_type": "markdown",
   "metadata": {},
   "source": [
    "**В подтверждение к графику корреляция указывает на наличие зависимости, но небольшой.**"
   ]
  },
  {
   "cell_type": "code",
   "execution_count": 31,
   "metadata": {
    "scrolled": true
   },
   "outputs": [
    {
     "data": {
      "text/plain": [
       "-0.031957110204556376"
      ]
     },
     "execution_count": 31,
     "metadata": {},
     "output_type": "execute_result"
    }
   ],
   "source": [
    "#Корреляция продаж и оценок пользователей \n",
    "data_actual.query('platform==\"PS4\"')['user_score'].corr(data_actual.query('platform==\"PS4\"')['total_sales'])"
   ]
  },
  {
   "cell_type": "markdown",
   "metadata": {},
   "source": [
    "**Корреляция около нулевая, это указывает на то, что зависимости между продажами игр и оценками пользователей практически нет.**"
   ]
  },
  {
   "cell_type": "markdown",
   "metadata": {},
   "source": [
    "**Сравним результаты с другими платформами из топ-3 по продажам.**"
   ]
  },
  {
   "cell_type": "code",
   "execution_count": 32,
   "metadata": {},
   "outputs": [
    {
     "data": {
      "image/png": "[encoded data removed]",
      "text/plain": [
       "<Figure size 720x576 with 1 Axes>"
      ]
     },
     "metadata": {
      "needs_background": "light"
     },
     "output_type": "display_data"
    }
   ],
   "source": [
    "#Диаграмма рассеяния продаж и оценок критиков для PS3\n",
    "data_actual.query('platform==\"PS3\"').plot(x='critic_score', y='total_sales', kind='scatter', figsize=(10,8), grid = True, xlabel='оценка критиков', ylabel='число продаж', title='Диаграмма рессеяния для PS3');"
   ]
  },
  {
   "cell_type": "markdown",
   "metadata": {},
   "source": [
    "**Практически такая же картина, как и у PS4, все игры, имеющие свыше 2,5 миллионов продаж имеют высокие оценки критиков, нет игр с низкими оценками и высокими продажами, но есть много игр с низкими продажами и высокими оценками.**"
   ]
  },
  {
   "cell_type": "code",
   "execution_count": 33,
   "metadata": {},
   "outputs": [
    {
     "data": {
      "text/plain": [
       "0.3314972592629587"
      ]
     },
     "execution_count": 33,
     "metadata": {},
     "output_type": "execute_result"
    }
   ],
   "source": [
    "data_actual.query('platform==\"PS3\"')['critic_score'].corr(data_actual.query('platform==\"PS3\"')['total_sales'])"
   ]
  },
  {
   "cell_type": "markdown",
   "metadata": {},
   "source": [
    "**Корреляция 0,33 также говорит о наличии небольшой зависимости.**"
   ]
  },
  {
   "cell_type": "code",
   "execution_count": 34,
   "metadata": {},
   "outputs": [
    {
     "data": {
      "image/png": "[encoded data removed]",
      "text/plain": [
       "<Figure size 720x576 with 1 Axes>"
      ]
     },
     "metadata": {
      "needs_background": "light"
     },
     "output_type": "display_data"
    }
   ],
   "source": [
    "#Диаграмма рассеяния продаж и оценок пользователей для PS3\n",
    "data_actual.query('platform==\"PS3\"').plot(x='user_score', y='total_sales', kind='scatter', figsize=(10,8), grid = True, xlabel='оценка пользователей', ylabel='число продаж', title='Диаграмма рессеяния для PS3');"
   ]
  },
  {
   "cell_type": "markdown",
   "metadata": {},
   "source": [
    "**Здесь диаграмма также схожа с диаграммой для PS4, игры с достаточно высокими продажами имеют как высокие, так и средние и низкие оценки, много игр с высокими оценками и низкими продажами.**"
   ]
  },
  {
   "cell_type": "code",
   "execution_count": 35,
   "metadata": {},
   "outputs": [
    {
     "data": {
      "text/plain": [
       "-0.005143522887113828"
      ]
     },
     "execution_count": 35,
     "metadata": {},
     "output_type": "execute_result"
    }
   ],
   "source": [
    "data_actual.query('platform==\"PS3\"')['user_score'].corr(data_actual.query('platform==\"PS3\"')['total_sales'])"
   ]
  },
  {
   "cell_type": "markdown",
   "metadata": {},
   "source": [
    "**Также практически нулевая корреляция, сведетельствующая об отсутствии зависимостм между продажами и оценками пользователей.**"
   ]
  },
  {
   "cell_type": "code",
   "execution_count": 36,
   "metadata": {},
   "outputs": [
    {
     "data": {
      "image/png": "[encoded data removed]",
      "text/plain": [
       "<Figure size 720x576 with 1 Axes>"
      ]
     },
     "metadata": {
      "needs_background": "light"
     },
     "output_type": "display_data"
    }
   ],
   "source": [
    "#Диаграмма рассеяния продаж и оценок критиков для X360\n",
    "data_actual.query('platform==\"X360\"').plot(x='critic_score', y='total_sales', kind='scatter', figsize=(10,8), grid = True, xlabel='оценка критиков', ylabel='число продаж', title='Диаграмма рессеяния для X360');"
   ]
  },
  {
   "cell_type": "markdown",
   "metadata": {},
   "source": [
    "**У X360 идентичная картина для диаграммы рассеяния продаж и оценок критиков.**"
   ]
  },
  {
   "cell_type": "code",
   "execution_count": 37,
   "metadata": {},
   "outputs": [
    {
     "data": {
      "text/plain": [
       "0.3605734888507336"
      ]
     },
     "execution_count": 37,
     "metadata": {},
     "output_type": "execute_result"
    }
   ],
   "source": [
    "data_actual.query('platform==\"X360\"')['critic_score'].corr(data_actual.query('platform==\"X360\"')['total_sales'])"
   ]
  },
  {
   "cell_type": "markdown",
   "metadata": {},
   "source": [
    "**Корреляция 0.36 также гооврит о небольшой зависимости.**"
   ]
  },
  {
   "cell_type": "code",
   "execution_count": 38,
   "metadata": {},
   "outputs": [
    {
     "data": {
      "image/png": "[encoded data removed]",
      "text/plain": [
       "<Figure size 720x576 with 1 Axes>"
      ]
     },
     "metadata": {
      "needs_background": "light"
     },
     "output_type": "display_data"
    }
   ],
   "source": [
    "#Диаграмма рассеяния продаж и оценок пользователей для X360\n",
    "data_actual.query('platform==\"X360\"').plot(x='user_score', y='total_sales', kind='scatter', figsize=(10,8), grid = True, xlabel='оценка пользователей', ylabel='число продаж', title='Диаграмма рессеяния для X360');"
   ]
  },
  {
   "cell_type": "markdown",
   "metadata": {},
   "source": [
    "**С диаграммой для оценок пользователей и продаж у X360 все схоже с PS3 и PS4.**"
   ]
  },
  {
   "cell_type": "code",
   "execution_count": 39,
   "metadata": {},
   "outputs": [
    {
     "data": {
      "text/plain": [
       "0.006163978646213326"
      ]
     },
     "execution_count": 39,
     "metadata": {},
     "output_type": "execute_result"
    }
   ],
   "source": [
    "data_actual.query('platform==\"X360\"')['user_score'].corr(data_actual.query('platform==\"X360\"')['total_sales'])"
   ]
  },
  {
   "cell_type": "markdown",
   "metadata": {},
   "source": [
    "**Здесь также корреляция близка к нулю.**"
   ]
  },
  {
   "cell_type": "markdown",
   "metadata": {},
   "source": [
    "**Посчитаем корреляции у других платформ.**"
   ]
  },
  {
   "cell_type": "code",
   "execution_count": 40,
   "metadata": {
    "scrolled": true
   },
   "outputs": [
    {
     "name": "stdout",
     "output_type": "stream",
     "text": [
      "Корреляция между оценками критиков и продажами для 3DS равна 0.3208028695360785\n",
      "Корреляция между оценками критиков и продажами для XOne равна 0.4169983280084017\n",
      "Корреляция между оценками критиков и продажами для WiiU равна 0.34837976012017485\n",
      "Корреляция между оценками критиков и продажами для PC равна 0.23724324311567915\n",
      "Корреляция между оценками критиков и продажами для PSV равна 0.0944878992931617\n",
      "Корреляция между оценками критиков и продажами для Wii равна -0.4243413011077494\n",
      "Корреляция между оценками критиков и продажами для DS равна nan\n",
      "Корреляция между оценками критиков и продажами для PSP равна nan\n"
     ]
    }
   ],
   "source": [
    "warnings.filterwarnings('ignore')\n",
    "for platform in actual_pivot.sum().sort_values(ascending=False).tail(8).index:\n",
    "    print('Корреляция между оценками критиков и продажами для', platform, 'равна', data_actual.query('platform==@platform')['critic_score'].corr(data_actual.query('platform==@platform')['total_sales']))"
   ]
  },
  {
   "cell_type": "markdown",
   "metadata": {},
   "source": [
    "**Среди таких платформ, как 3DS, XOne, WiiU, PC также прослеживается небольшая зависимость между оценками критиков и числом продаж, у платформ Wii, DS, PSP недостаточно данных, лишь у платформы PSV практически нет зависимости.**"
   ]
  },
  {
   "cell_type": "code",
   "execution_count": 41,
   "metadata": {},
   "outputs": [
    {
     "name": "stdout",
     "output_type": "stream",
     "text": [
      "Корреляция между оценками пользователей и продажами для 3DS равна 0.19758263411038599\n",
      "Корреляция между оценками пользователей и продажами для XOne равна -0.06892505328279414\n",
      "Корреляция между оценками пользователей и продажами для WiiU равна 0.4002190202148617\n",
      "Корреляция между оценками пользователей и продажами для PC равна -0.12186747630735577\n",
      "Корреляция между оценками пользователей и продажами для PSV равна -0.004339437514314869\n",
      "Корреляция между оценками пользователей и продажами для Wii равна 0.29619680007479526\n",
      "Корреляция между оценками пользователей и продажами для DS равна 0.88270872757644\n",
      "Корреляция между оценками пользователей и продажами для PSP равна -0.802302061939321\n"
     ]
    }
   ],
   "source": [
    "for platform in actual_pivot.sum().sort_values(ascending=False).tail(8).index:\n",
    "    print('Корреляция между оценками пользователей и продажами для', platform, 'равна', data_actual.query('platform==@platform')['user_score'].corr(data_actual.query('platform==@platform')['total_sales']))"
   ]
  },
  {
   "cell_type": "markdown",
   "metadata": {},
   "source": [
    "**Зависимость между оценками пользователей и числом продаж прослеживается только у платформы WiiU и немного у платформы 3DS, среди платформ XOne, PC и PSV зависимости практически нет, а у платформ Wii, DS и PSP недостаточно наблюдений для анализа.**"
   ]
  },
  {
   "cell_type": "markdown",
   "metadata": {},
   "source": [
    "**Посмотрим на количество игр и на продажи по жанрам.**"
   ]
  },
  {
   "cell_type": "code",
   "execution_count": 42,
   "metadata": {},
   "outputs": [],
   "source": [
    "games = data_actual.pivot_table(index='genre', values='name', aggfunc='count')"
   ]
  },
  {
   "cell_type": "code",
   "execution_count": 43,
   "metadata": {},
   "outputs": [],
   "source": [
    "sales = data_actual.pivot_table(index='genre', values='total_sales', aggfunc='sum')"
   ]
  },
  {
   "cell_type": "code",
   "execution_count": 44,
   "metadata": {},
   "outputs": [
    {
     "data": {
      "image/png": "[encoded data removed]",
      "text/plain": [
       "<Figure size 720x576 with 2 Axes>"
      ]
     },
     "metadata": {
      "needs_background": "light"
     },
     "output_type": "display_data"
    }
   ],
   "source": [
    "fig = plt.figure(figsize=(10,8))\n",
    "ax_games = fig.add_subplot()\n",
    "ax_sales = ax_games.twinx()\n",
    "games.plot(kind='bar', ax=ax_games, position=1, color='red', width=0.3)\n",
    "sales.plot(kind='bar', ax=ax_sales, position=0, width=0.3)\n",
    "ax_games.legend().set_visible(False)\n",
    "ax_sales.legend().set_visible(False)\n",
    "ax_games.set_ylabel('игры', color='red')\n",
    "ax_sales.set_ylabel('продажи', color='blue')\n",
    "ax_games.set_xlabel('жанр')\n",
    "plt.title('Распределение игр по жанрам');"
   ]
  },
  {
   "cell_type": "markdown",
   "metadata": {},
   "source": [
    "**Самым популярным жанром является Action, игр этого жанра более 1000, также он выступает лидером по количеству продаж, их более 400 миллионов, самым непопулярным жанром является Puzzle, также у этого жанра меньше всего продаж. Самым успешным жанром можно назвать Shooter, у него, при относительно небольшом количестве игр(около 250), высокое число продаж(чуть более 300 миллионов), а с играми жанра Adventure иначе, таких игр около 300, но продаж мало, около 30 миллионов.** "
   ]
  },
  {
   "cell_type": "markdown",
   "metadata": {},
   "source": [
    "**С 1994 года начало стремительно увеличиваться количество выпускаемых с каждым годом игр, так, если в 1994 году была выпущено 121 игра, то в 2008 году вышло чуть более 1400 игр, но после 2009 года количество игр начало снижаться, и в 2016 году было выпущено почти в три раза меньше игр, чем в 2008 или 2009 году.**\n",
    "\n",
    "**Для исследования был взят период за последние пять лет(2012-2016). За этот период в пятурку лидеров платформ по числу продаж вошли PS4, PS3, X360, 3DS, XOne. У всех платформ снизилось количество продаж в 2016 году, по сравнению с 2015 годом, лишь все платформы росли до 2015 года: PS4 и XOne, они могут показать результаты лучше, чем в 2016 году.** \n",
    "\n",
    "**Исходя из исследования, продажи платформ зависят от оценки критиков, но не сильно, исключением является платформа PSV,там зависимость практически не прослеживается. Оценки пользователей почти никак не влияют на продажи, лишь у платформ WiiU и 3DS есть небольшая зависимость.**\n",
    "\n",
    "**Самым популярным жанром игр является Action, также он и явлется лидером по продажам, саммы непопулярным жанром выступает Puzzle, здесь также меньше всего продаж. Часто бывает, что жанры с небольшим количеством игр имеют высокие продажи, например, Shooter, или наоборот, игры с большим количеством игр имеют низкие продажи, например, Adventure.**"
   ]
  },
  {
   "cell_type": "markdown",
   "metadata": {},
   "source": [
    "### Составление портрета пользователя каждого региона"
   ]
  },
  {
   "cell_type": "code",
   "execution_count": 45,
   "metadata": {},
   "outputs": [
    {
     "data": {
      "image/png": "[encoded data removed]",
      "text/plain": [
       "<Figure size 1440x360 with 3 Axes>"
      ]
     },
     "metadata": {},
     "output_type": "display_data"
    }
   ],
   "source": [
    "top5 = data_actual.pivot_table(index='platform', values='na_sales', aggfunc='sum').sort_values(by='na_sales').tail()\n",
    "data_copy = data_actual.copy()\n",
    "data_copy.loc[~data_copy['platform'].isin(top5.index), 'platform'] = 'Other'\n",
    "top5_na_platforms = data_copy.pivot_table(index='platform', values='na_sales', aggfunc='sum').sort_values(by='na_sales')\n",
    "\n",
    "top5_eu = data_actual.pivot_table(index='platform', values='eu_sales', aggfunc='sum').sort_values(by='eu_sales').tail()\n",
    "data_copy2 = data_actual.copy()\n",
    "data_copy2.loc[~data_copy2['platform'].isin(top5_eu.index), 'platform'] = 'Other'\n",
    "top5_eu_platforms = data_copy2.pivot_table(index='platform', values='eu_sales', aggfunc='sum').sort_values(by='eu_sales')\n",
    "\n",
    "top5_jp = data_actual.pivot_table(index='platform', values='jp_sales', aggfunc='sum').sort_values(by='jp_sales').tail()\n",
    "data_copy3 = data_actual.copy()\n",
    "data_copy3.loc[~data_copy3['platform'].isin(top5_jp.index), 'platform'] = 'Other'\n",
    "top5_jp_platforms = data_copy3.pivot_table(index='platform', values='jp_sales', aggfunc='sum').sort_values(by='jp_sales')\n",
    "\n",
    "plt.subplots(figsize=(20,5))\n",
    "top5_na_platforms.plot(kind='pie', subplots=True, autopct='%.2f', ax = plt.subplot(1,3,1), ylabel='NA', title='Доли платформ в каждом регионе');\n",
    "top5_eu_platforms.plot(kind='pie', subplots=True, autopct='%.2f', ax = plt.subplot(1,3,2), ylabel='EU');\n",
    "top5_jp_platforms.plot(kind='pie', subplots=True, autopct='%.2f', ax = plt.subplot(1,3,3), ylabel='JP');\n"
   ]
  },
  {
   "cell_type": "markdown",
   "metadata": {},
   "source": [
    "**В NA регионе в топ-5 платформ по продажам входят X360, PS4, PS3, XOne, 3DS, лидирующую позицию занимает X360, доля продаж у этой платформы занимает 23.7%.**\n",
    "**В EU регионе в топ-5 входят те же платформы, что и в NA, но самая большая доля продаж у PS4(27.84%), а не у X360, здесь эта платформа лишь на третьем месте c долей 14.7%, пятерку лидеров, также, как и в NA закрывает 3DS.**\n",
    "**В JP региона ситуация иная, на платформу 3DS приходится почти половина продаж(45.59%), в топ-5 также попали PS4, PS3, PSV, WiiU.**"
   ]
  },
  {
   "cell_type": "code",
   "execution_count": 46,
   "metadata": {
    "scrolled": true
   },
   "outputs": [
    {
     "data": {
      "image/png": "[encoded data removed]",
      "text/plain": [
       "<Figure size 1440x360 with 3 Axes>"
      ]
     },
     "metadata": {},
     "output_type": "display_data"
    }
   ],
   "source": [
    "top5_g_na = data_actual.pivot_table(index='genre', values='na_sales', aggfunc='sum').sort_values(by='na_sales').tail()\n",
    "data_copy4 = data_actual.copy()\n",
    "data_copy4.loc[~data_copy4['genre'].isin(top5_g_na.index), 'genre'] = 'Other'\n",
    "top5_na_genres = data_copy4.pivot_table(index='genre', values='na_sales', aggfunc='sum').sort_values(by='na_sales')\n",
    "\n",
    "top5_g_eu = data_actual.pivot_table(index='genre', values='eu_sales', aggfunc='sum').sort_values(by='eu_sales').tail()\n",
    "data_copy5 = data_actual.copy()\n",
    "data_copy5.loc[~data_copy5['genre'].isin(top5_g_eu.index), 'genre'] = 'Other'\n",
    "top5_eu_genres = data_copy5.pivot_table(index='genre', values='eu_sales', aggfunc='sum').sort_values(by='eu_sales')\n",
    "\n",
    "top5_g_jp = data_actual.pivot_table(index='genre', values='jp_sales', aggfunc='sum').sort_values(by='jp_sales').tail()\n",
    "data_copy6 = data_actual.copy()\n",
    "data_copy6.loc[~data_copy6['genre'].isin(top5_g_jp.index), 'genre'] = 'Other'\n",
    "top5_jp_genres = data_copy6.pivot_table(index='genre', values='jp_sales', aggfunc='sum').sort_values(by='jp_sales')\n",
    "\n",
    "plt.subplots(figsize=(20,5))\n",
    "top5_na_genres.plot(kind='pie', subplots=True, autopct='%.2f', ax = plt.subplot(1,3,1), ylabel='NA', title='Доли жанров в каждом регионе');\n",
    "top5_eu_genres.plot(kind='pie', subplots=True, autopct='%.2f', ax = plt.subplot(1,3,2), ylabel='EU');\n",
    "top5_jp_genres.plot(kind='pie', subplots=True, autopct='%.2f', ax = plt.subplot(1,3,3), ylabel='JP');\n"
   ]
  },
  {
   "cell_type": "markdown",
   "metadata": {},
   "source": [
    "**В топ-5 популярных жанров в NA регионе вошли Action, Shooter, Sports, Role-Playying и Misc.**\n",
    "**В EU регионе топ-4 совпадает с NA, но топ-5 закрывает жанр Racing, а не Misc. Каждый жанр занимает практически одинаковые доли в обоих регионах.**\n",
    "**В JP регионе лидирует жанр Role-Playying, который занимает треть продаж, также в пятерку лидеров вошли такие жанры, как Action, Misc, Simulation, Fighting.**"
   ]
  },
  {
   "cell_type": "code",
   "execution_count": 47,
   "metadata": {},
   "outputs": [
    {
     "data": {
      "image/png": "[encoded data removed]",
      "text/plain": [
       "<Figure size 1440x360 with 3 Axes>"
      ]
     },
     "metadata": {},
     "output_type": "display_data"
    }
   ],
   "source": [
    "plt.subplots(figsize=(20,5))\n",
    "data_actual.pivot_table(index='rating', values='na_sales', aggfunc='sum').plot(kind='pie', subplots=True, autopct='%.2f', ax = plt.subplot(1,3,1), ylabel='NA', title='Доли рейтингов в каждом регионе')\n",
    "data_actual.pivot_table(index='rating', values='eu_sales', aggfunc='sum').plot(kind='pie', subplots=True, autopct='%.2f', ax = plt.subplot(1,3,2), ylabel='EU')\n",
    "data_actual.pivot_table(index='rating', values='jp_sales', aggfunc='sum').plot(kind='pie', subplots=True, autopct='%.2f', ax = plt.subplot(1,3,3), ylabel='JP');"
   ]
  },
  {
   "cell_type": "markdown",
   "metadata": {},
   "source": [
    "**В NA и EU регионах игр в рейтингом \"M\" продается больше всего, почти 40 процентов в каждом из регионов, на втором месте идут игры с рейтингом \"E\", на третьем и четверотом месте игры с рейтингами \"E10+\" и \"T\". В JP регионе больше всего игр с рейтингом \"E\", далее идут \"T\", \"M\", \"E10+\". Но в каждом регионе много продаж занимают игр, в которых рейтинг не известен, в JP регионе доля составляет почти 57%. Скорее всего это из-за того, что в этом регионе в топе по продажам находятся платформы и игры, которые намного менее популярны в NA и EU, возможно этим играм не присвоен рейтинг или же для многих этих игр рейтинг пропущен.**"
   ]
  },
  {
   "cell_type": "code",
   "execution_count": 48,
   "metadata": {},
   "outputs": [
    {
     "data": {
      "text/html": [
       "<div>\n",
       "<style scoped>\n",
       "    .dataframe tbody tr th:only-of-type {\n",
       "        vertical-align: middle;\n",
       "    }\n",
       "\n",
       "    .dataframe tbody tr th {\n",
       "        vertical-align: top;\n",
       "    }\n",
       "\n",
       "    .dataframe thead th {\n",
       "        text-align: right;\n",
       "    }\n",
       "</style>\n",
       "<table border=\"1\" class=\"dataframe\">\n",
       "  <thead>\n",
       "    <tr style=\"text-align: right;\">\n",
       "      <th></th>\n",
       "      <th>jp_sales</th>\n",
       "    </tr>\n",
       "    <tr>\n",
       "      <th>name</th>\n",
       "      <th></th>\n",
       "    </tr>\n",
       "  </thead>\n",
       "  <tbody>\n",
       "    <tr>\n",
       "      <th>Dragon Quest VII: Warriors of Eden</th>\n",
       "      <td>1.30</td>\n",
       "    </tr>\n",
       "    <tr>\n",
       "      <th>Yokai Watch 3</th>\n",
       "      <td>1.33</td>\n",
       "    </tr>\n",
       "    <tr>\n",
       "      <th>Yokai Watch</th>\n",
       "      <td>1.33</td>\n",
       "    </tr>\n",
       "    <tr>\n",
       "      <th>Animal Crossing: Happy Home Designer</th>\n",
       "      <td>1.40</td>\n",
       "    </tr>\n",
       "    <tr>\n",
       "      <th>Splatoon</th>\n",
       "      <td>1.46</td>\n",
       "    </tr>\n",
       "    <tr>\n",
       "      <th>Puzzle &amp; Dragons</th>\n",
       "      <td>1.51</td>\n",
       "    </tr>\n",
       "    <tr>\n",
       "      <th>Super Smash Bros. for Wii U and 3DS</th>\n",
       "      <td>1.62</td>\n",
       "    </tr>\n",
       "    <tr>\n",
       "      <th>Tomodachi Life</th>\n",
       "      <td>1.90</td>\n",
       "    </tr>\n",
       "    <tr>\n",
       "      <th>Pokemon Sun/Moon</th>\n",
       "      <td>2.26</td>\n",
       "    </tr>\n",
       "    <tr>\n",
       "      <th>Yokai Watch Busters</th>\n",
       "      <td>2.29</td>\n",
       "    </tr>\n",
       "    <tr>\n",
       "      <th>New Super Mario Bros. 2</th>\n",
       "      <td>2.47</td>\n",
       "    </tr>\n",
       "    <tr>\n",
       "      <th>Monster Hunter 4 Ultimate</th>\n",
       "      <td>2.62</td>\n",
       "    </tr>\n",
       "    <tr>\n",
       "      <th>Yokai Watch 2 Shinuchi</th>\n",
       "      <td>2.68</td>\n",
       "    </tr>\n",
       "    <tr>\n",
       "      <th>Monster Hunter X</th>\n",
       "      <td>2.79</td>\n",
       "    </tr>\n",
       "    <tr>\n",
       "      <th>Pokemon Omega Ruby/Pokemon Alpha Sapphire</th>\n",
       "      <td>3.10</td>\n",
       "    </tr>\n",
       "    <tr>\n",
       "      <th>Pokemon Black 2/Pokemon White 2</th>\n",
       "      <td>3.14</td>\n",
       "    </tr>\n",
       "    <tr>\n",
       "      <th>Yokai Watch 2 Ganso/Honke</th>\n",
       "      <td>3.18</td>\n",
       "    </tr>\n",
       "    <tr>\n",
       "      <th>Monster Hunter 4</th>\n",
       "      <td>3.44</td>\n",
       "    </tr>\n",
       "    <tr>\n",
       "      <th>Pokemon X/Pokemon Y</th>\n",
       "      <td>4.35</td>\n",
       "    </tr>\n",
       "    <tr>\n",
       "      <th>Animal Crossing: New Leaf</th>\n",
       "      <td>4.39</td>\n",
       "    </tr>\n",
       "  </tbody>\n",
       "</table>\n",
       "</div>"
      ],
      "text/plain": [
       "                                           jp_sales\n",
       "name                                               \n",
       "Dragon Quest VII: Warriors of Eden             1.30\n",
       "Yokai Watch 3                                  1.33\n",
       "Yokai Watch                                    1.33\n",
       "Animal Crossing: Happy Home Designer           1.40\n",
       "Splatoon                                       1.46\n",
       "Puzzle & Dragons                               1.51\n",
       "Super Smash Bros. for Wii U and 3DS            1.62\n",
       "Tomodachi Life                                 1.90\n",
       "Pokemon Sun/Moon                               2.26\n",
       "Yokai Watch Busters                            2.29\n",
       "New Super Mario Bros. 2                        2.47\n",
       "Monster Hunter 4 Ultimate                      2.62\n",
       "Yokai Watch 2 Shinuchi                         2.68\n",
       "Monster Hunter X                               2.79\n",
       "Pokemon Omega Ruby/Pokemon Alpha Sapphire      3.10\n",
       "Pokemon Black 2/Pokemon White 2                3.14\n",
       "Yokai Watch 2 Ganso/Honke                      3.18\n",
       "Monster Hunter 4                               3.44\n",
       "Pokemon X/Pokemon Y                            4.35\n",
       "Animal Crossing: New Leaf                      4.39"
      ]
     },
     "execution_count": 48,
     "metadata": {},
     "output_type": "execute_result"
    }
   ],
   "source": [
    "data_actual.pivot_table(index='name', values='jp_sales').sort_values(by='jp_sales').tail(20)"
   ]
  },
  {
   "cell_type": "code",
   "execution_count": 49,
   "metadata": {},
   "outputs": [
    {
     "data": {
      "text/html": [
       "<div>\n",
       "<style scoped>\n",
       "    .dataframe tbody tr th:only-of-type {\n",
       "        vertical-align: middle;\n",
       "    }\n",
       "\n",
       "    .dataframe tbody tr th {\n",
       "        vertical-align: top;\n",
       "    }\n",
       "\n",
       "    .dataframe thead th {\n",
       "        text-align: right;\n",
       "    }\n",
       "</style>\n",
       "<table border=\"1\" class=\"dataframe\">\n",
       "  <thead>\n",
       "    <tr style=\"text-align: right;\">\n",
       "      <th></th>\n",
       "      <th>name</th>\n",
       "      <th>platform</th>\n",
       "      <th>year_of_release</th>\n",
       "      <th>genre</th>\n",
       "      <th>na_sales</th>\n",
       "      <th>eu_sales</th>\n",
       "      <th>jp_sales</th>\n",
       "      <th>other_sales</th>\n",
       "      <th>critic_score</th>\n",
       "      <th>user_score</th>\n",
       "      <th>rating</th>\n",
       "      <th>total_sales</th>\n",
       "    </tr>\n",
       "  </thead>\n",
       "  <tbody>\n",
       "    <tr>\n",
       "      <th>33</th>\n",
       "      <td>Pokemon X/Pokemon Y</td>\n",
       "      <td>3DS</td>\n",
       "      <td>2013</td>\n",
       "      <td>Role-Playing</td>\n",
       "      <td>5.28</td>\n",
       "      <td>4.19</td>\n",
       "      <td>4.35</td>\n",
       "      <td>0.78</td>\n",
       "      <td>NaN</td>\n",
       "      <td>NaN</td>\n",
       "      <td>unknown</td>\n",
       "      <td>14.6</td>\n",
       "    </tr>\n",
       "  </tbody>\n",
       "</table>\n",
       "</div>"
      ],
      "text/plain": [
       "                   name platform  year_of_release         genre  na_sales  \\\n",
       "33  Pokemon X/Pokemon Y      3DS             2013  Role-Playing      5.28   \n",
       "\n",
       "    eu_sales  jp_sales  other_sales  critic_score  user_score   rating  \\\n",
       "33      4.19      4.35         0.78           NaN         NaN  unknown   \n",
       "\n",
       "    total_sales  \n",
       "33         14.6  "
      ]
     },
     "execution_count": 49,
     "metadata": {},
     "output_type": "execute_result"
    }
   ],
   "source": [
    "data_actual.query('name==\"Pokemon X/Pokemon Y\"')"
   ]
  },
  {
   "cell_type": "code",
   "execution_count": 50,
   "metadata": {},
   "outputs": [
    {
     "data": {
      "text/html": [
       "<div>\n",
       "<style scoped>\n",
       "    .dataframe tbody tr th:only-of-type {\n",
       "        vertical-align: middle;\n",
       "    }\n",
       "\n",
       "    .dataframe tbody tr th {\n",
       "        vertical-align: top;\n",
       "    }\n",
       "\n",
       "    .dataframe thead th {\n",
       "        text-align: right;\n",
       "    }\n",
       "</style>\n",
       "<table border=\"1\" class=\"dataframe\">\n",
       "  <thead>\n",
       "    <tr style=\"text-align: right;\">\n",
       "      <th></th>\n",
       "      <th>name</th>\n",
       "      <th>platform</th>\n",
       "      <th>year_of_release</th>\n",
       "      <th>genre</th>\n",
       "      <th>na_sales</th>\n",
       "      <th>eu_sales</th>\n",
       "      <th>jp_sales</th>\n",
       "      <th>other_sales</th>\n",
       "      <th>critic_score</th>\n",
       "      <th>user_score</th>\n",
       "      <th>rating</th>\n",
       "      <th>total_sales</th>\n",
       "    </tr>\n",
       "  </thead>\n",
       "  <tbody>\n",
       "    <tr>\n",
       "      <th>16</th>\n",
       "      <td>Grand Theft Auto V</td>\n",
       "      <td>PS3</td>\n",
       "      <td>2013</td>\n",
       "      <td>Action</td>\n",
       "      <td>7.02</td>\n",
       "      <td>9.09</td>\n",
       "      <td>0.98</td>\n",
       "      <td>3.96</td>\n",
       "      <td>97.0</td>\n",
       "      <td>8.2</td>\n",
       "      <td>M</td>\n",
       "      <td>21.05</td>\n",
       "    </tr>\n",
       "    <tr>\n",
       "      <th>23</th>\n",
       "      <td>Grand Theft Auto V</td>\n",
       "      <td>X360</td>\n",
       "      <td>2013</td>\n",
       "      <td>Action</td>\n",
       "      <td>9.66</td>\n",
       "      <td>5.14</td>\n",
       "      <td>0.06</td>\n",
       "      <td>1.41</td>\n",
       "      <td>97.0</td>\n",
       "      <td>8.1</td>\n",
       "      <td>M</td>\n",
       "      <td>16.27</td>\n",
       "    </tr>\n",
       "    <tr>\n",
       "      <th>31</th>\n",
       "      <td>Call of Duty: Black Ops 3</td>\n",
       "      <td>PS4</td>\n",
       "      <td>2015</td>\n",
       "      <td>Shooter</td>\n",
       "      <td>6.03</td>\n",
       "      <td>5.86</td>\n",
       "      <td>0.36</td>\n",
       "      <td>2.38</td>\n",
       "      <td>NaN</td>\n",
       "      <td>NaN</td>\n",
       "      <td>unknown</td>\n",
       "      <td>14.63</td>\n",
       "    </tr>\n",
       "    <tr>\n",
       "      <th>33</th>\n",
       "      <td>Pokemon X/Pokemon Y</td>\n",
       "      <td>3DS</td>\n",
       "      <td>2013</td>\n",
       "      <td>Role-Playing</td>\n",
       "      <td>5.28</td>\n",
       "      <td>4.19</td>\n",
       "      <td>4.35</td>\n",
       "      <td>0.78</td>\n",
       "      <td>NaN</td>\n",
       "      <td>NaN</td>\n",
       "      <td>unknown</td>\n",
       "      <td>14.60</td>\n",
       "    </tr>\n",
       "    <tr>\n",
       "      <th>34</th>\n",
       "      <td>Call of Duty: Black Ops II</td>\n",
       "      <td>PS3</td>\n",
       "      <td>2012</td>\n",
       "      <td>Shooter</td>\n",
       "      <td>4.99</td>\n",
       "      <td>5.73</td>\n",
       "      <td>0.65</td>\n",
       "      <td>2.42</td>\n",
       "      <td>83.0</td>\n",
       "      <td>5.3</td>\n",
       "      <td>M</td>\n",
       "      <td>13.79</td>\n",
       "    </tr>\n",
       "    <tr>\n",
       "      <th>35</th>\n",
       "      <td>Call of Duty: Black Ops II</td>\n",
       "      <td>X360</td>\n",
       "      <td>2012</td>\n",
       "      <td>Shooter</td>\n",
       "      <td>8.25</td>\n",
       "      <td>4.24</td>\n",
       "      <td>0.07</td>\n",
       "      <td>1.12</td>\n",
       "      <td>83.0</td>\n",
       "      <td>4.8</td>\n",
       "      <td>M</td>\n",
       "      <td>13.68</td>\n",
       "    </tr>\n",
       "    <tr>\n",
       "      <th>42</th>\n",
       "      <td>Grand Theft Auto V</td>\n",
       "      <td>PS4</td>\n",
       "      <td>2014</td>\n",
       "      <td>Action</td>\n",
       "      <td>3.96</td>\n",
       "      <td>6.31</td>\n",
       "      <td>0.38</td>\n",
       "      <td>1.97</td>\n",
       "      <td>97.0</td>\n",
       "      <td>8.3</td>\n",
       "      <td>M</td>\n",
       "      <td>12.62</td>\n",
       "    </tr>\n",
       "    <tr>\n",
       "      <th>47</th>\n",
       "      <td>Pokemon Omega Ruby/Pokemon Alpha Sapphire</td>\n",
       "      <td>3DS</td>\n",
       "      <td>2014</td>\n",
       "      <td>Role-Playing</td>\n",
       "      <td>4.35</td>\n",
       "      <td>3.49</td>\n",
       "      <td>3.10</td>\n",
       "      <td>0.74</td>\n",
       "      <td>NaN</td>\n",
       "      <td>NaN</td>\n",
       "      <td>unknown</td>\n",
       "      <td>11.68</td>\n",
       "    </tr>\n",
       "    <tr>\n",
       "      <th>60</th>\n",
       "      <td>Call of Duty: Ghosts</td>\n",
       "      <td>X360</td>\n",
       "      <td>2013</td>\n",
       "      <td>Shooter</td>\n",
       "      <td>6.73</td>\n",
       "      <td>2.56</td>\n",
       "      <td>0.04</td>\n",
       "      <td>0.91</td>\n",
       "      <td>73.0</td>\n",
       "      <td>2.6</td>\n",
       "      <td>M</td>\n",
       "      <td>10.24</td>\n",
       "    </tr>\n",
       "    <tr>\n",
       "      <th>62</th>\n",
       "      <td>New Super Mario Bros. 2</td>\n",
       "      <td>3DS</td>\n",
       "      <td>2012</td>\n",
       "      <td>Platform</td>\n",
       "      <td>3.66</td>\n",
       "      <td>3.14</td>\n",
       "      <td>2.47</td>\n",
       "      <td>0.63</td>\n",
       "      <td>78.0</td>\n",
       "      <td>7.2</td>\n",
       "      <td>E</td>\n",
       "      <td>9.90</td>\n",
       "    </tr>\n",
       "  </tbody>\n",
       "</table>\n",
       "</div>"
      ],
      "text/plain": [
       "                                         name platform  year_of_release  \\\n",
       "16                         Grand Theft Auto V      PS3             2013   \n",
       "23                         Grand Theft Auto V     X360             2013   \n",
       "31                  Call of Duty: Black Ops 3      PS4             2015   \n",
       "33                        Pokemon X/Pokemon Y      3DS             2013   \n",
       "34                 Call of Duty: Black Ops II      PS3             2012   \n",
       "35                 Call of Duty: Black Ops II     X360             2012   \n",
       "42                         Grand Theft Auto V      PS4             2014   \n",
       "47  Pokemon Omega Ruby/Pokemon Alpha Sapphire      3DS             2014   \n",
       "60                       Call of Duty: Ghosts     X360             2013   \n",
       "62                    New Super Mario Bros. 2      3DS             2012   \n",
       "\n",
       "           genre  na_sales  eu_sales  jp_sales  other_sales  critic_score  \\\n",
       "16        Action      7.02      9.09      0.98         3.96          97.0   \n",
       "23        Action      9.66      5.14      0.06         1.41          97.0   \n",
       "31       Shooter      6.03      5.86      0.36         2.38           NaN   \n",
       "33  Role-Playing      5.28      4.19      4.35         0.78           NaN   \n",
       "34       Shooter      4.99      5.73      0.65         2.42          83.0   \n",
       "35       Shooter      8.25      4.24      0.07         1.12          83.0   \n",
       "42        Action      3.96      6.31      0.38         1.97          97.0   \n",
       "47  Role-Playing      4.35      3.49      3.10         0.74           NaN   \n",
       "60       Shooter      6.73      2.56      0.04         0.91          73.0   \n",
       "62      Platform      3.66      3.14      2.47         0.63          78.0   \n",
       "\n",
       "    user_score   rating  total_sales  \n",
       "16         8.2        M        21.05  \n",
       "23         8.1        M        16.27  \n",
       "31         NaN  unknown        14.63  \n",
       "33         NaN  unknown        14.60  \n",
       "34         5.3        M        13.79  \n",
       "35         4.8        M        13.68  \n",
       "42         8.3        M        12.62  \n",
       "47         NaN  unknown        11.68  \n",
       "60         2.6        M        10.24  \n",
       "62         7.2        E         9.90  "
      ]
     },
     "execution_count": 50,
     "metadata": {},
     "output_type": "execute_result"
    }
   ],
   "source": [
    "data_actual.head(10)"
   ]
  },
  {
   "cell_type": "markdown",
   "metadata": {},
   "source": [
    "### Проверка гипотез"
   ]
  },
  {
   "cell_type": "markdown",
   "metadata": {},
   "source": [
    "**Гипотеза 1:**   \n",
    "H_0: средняя пользовательская оценка платформы Xbox One = средняя пользовательская оценка платформы PC    \n",
    "H_1: средняя пользовательская оценка платформы Xbox One ≠ средняя пользовательская оценка платформы PC"
   ]
  },
  {
   "cell_type": "code",
   "execution_count": 51,
   "metadata": {},
   "outputs": [],
   "source": [
    "xone_score = list(data_actual.loc[(data_actual['platform']=='XOne')&(~data_actual['user_score'].isna()), 'user_score'])\n",
    "pc_score = list(data_actual.loc[(data_actual['platform']=='PC')&(~data_actual['user_score'].isna()), 'user_score'])"
   ]
  },
  {
   "cell_type": "code",
   "execution_count": 52,
   "metadata": {},
   "outputs": [
    {
     "name": "stdout",
     "output_type": "stream",
     "text": [
      "p-value:  0.5489537965134912\n",
      "Не получилось отвергнуть нулевую гипотезу\n"
     ]
    }
   ],
   "source": [
    "alpha = .05\n",
    "results = st.ttest_ind(xone_score, pc_score, equal_var = False)\n",
    "print('p-value: ', results.pvalue)\n",
    "if results.pvalue < alpha:\n",
    "    print('Отвергаем нулевую гипотезу')\n",
    "else:\n",
    "    print('Не получилось отвергнуть нулевую гипотезу')"
   ]
  },
  {
   "cell_type": "markdown",
   "metadata": {},
   "source": [
    "**Значение p-value получилось большим, нельзя сказать, что оценки пользователей, зависят от платформы.**"
   ]
  },
  {
   "cell_type": "markdown",
   "metadata": {},
   "source": [
    "**Гипотеза 2:**   \n",
    "H_0: средняя пользовательская оценка платформы жанра Action = средняя пользовательская оценка платформы жанра Sports    \n",
    "H_1: средняя пользовательская оценка платформы жанра Action ≠ средняя пользовательская оценка платформы жанра Sports "
   ]
  },
  {
   "cell_type": "code",
   "execution_count": 53,
   "metadata": {},
   "outputs": [],
   "source": [
    "action_score = list(data_actual.loc[(data_actual['genre']=='Action')&(~data_actual['user_score'].isna()), 'user_score'])\n",
    "sports_score = list(data_actual.loc[(data_actual['genre']=='Sports')&(~data_actual['user_score'].isna()), 'user_score'])"
   ]
  },
  {
   "cell_type": "code",
   "execution_count": 54,
   "metadata": {},
   "outputs": [
    {
     "name": "stdout",
     "output_type": "stream",
     "text": [
      "p-value:  4.24307776572644e-20\n",
      "Отвергаем нулевую гипотезу\n"
     ]
    }
   ],
   "source": [
    "results_genre = st.ttest_ind(action_score, sports_score, equal_var = False)\n",
    "print('p-value: ', results_genre.pvalue)\n",
    "if results_genre.pvalue < alpha:\n",
    "    print('Отвергаем нулевую гипотезу')\n",
    "else:\n",
    "    print('Не получилось отвергнуть нулевую гипотезу')"
   ]
  },
  {
   "cell_type": "markdown",
   "metadata": {},
   "source": [
    "**Нулевая гипотеза отвергнута, значит оценка пользователей зависит от жанра игры.**"
   ]
  },
  {
   "cell_type": "markdown",
   "metadata": {},
   "source": [
    "### Общий вывод"
   ]
  },
  {
   "cell_type": "markdown",
   "metadata": {},
   "source": [
    "**В исходных данных были обнаружены пропущенные значения, были удалены строки с пропущенными названиями и годами релизов игр, часть пропусков была заполнена, но от некоторых пропусков избавиться не удалось, т.к. их заполнение может некорректно сказаться за итоговых результатах, также были изменены названия столбцов в соответствии с «хорошим стилем».**\n",
    "\n",
    "**В ходе исследования выяснилось, что в период 1980-1993 года выпускалось менее 100 игр в год и начиная с 1994 года число выпускаем игр начало увеличиваться вплоть до 2009 года, далее количество выпускаемых в год игр начало сокращаться. Был определен актуальный период: 2012-2016 год, в дальнейшем исследовании использовались данные только за этот срок.**\n",
    "\n",
    "**В пятерку лидирующих по продажам платформам вошли PS4, PS3, X360, 3DS, XOne. Все платформы в 2016 году сделали меньше продаж, по сравнению с 2015 годом, многие платформы начали падать еще до этого, исключением являются PS4 и XOne, они росли вплоть до 2015 года. Эти платформы в 2017 потенциально могут показать результаты лучше, чем в 2016.**\n",
    "\n",
    "**Была выявлена небольшая зависимость между продажами и оценками критиков, исключением является платформа PSV, тут зависимости практически не наблюдается. Также нет зависимости между оценками пользователей и продажами, но и здесь есть исключения, у платформ WiiU и 3DS прослеживается небольшая зависимость.**\n",
    "\n",
    "**Самым популярным жанром игр серди всех платформ оказался жанр Action, наименее популярные Puzzle-игры. Самым успешным жанром можно назвать Shooter, у него, при относительно небольшом количестве игр, высокое число продаж, а с играми жанра Adventure иначе, при большом количестве таких игр продаж относительно мало.**\n",
    "\n",
    "**В NA и EU регионах в топ-5 платформ вошли PS4, PS3, XOne, X360, 3DS, разница только в лидерах: в NA это X360, а в EU это PS4. У JP региона картина сильно отличается, так почти половину от продаж занимает платформа 3DS, еще в топ-5 вошли PS4, PS3, PSV, WiiU.**\n",
    "\n",
    "**Жанры Action, Shooter, Sports, Role-Playying в NA и EU регионах занимают практически одинаковые доли от продаж, но на пятом месте жанры разные: в NA это Misc, в EU это Racing. В JP, как и в случае с платформами, картина разница с остальными регионами. В топ-5 жанров здесь входят Role-Playing, Action, Misc, Simulation, Fighting.**\n",
    "\n",
    "**Игры с одним рейтингом ESRB в регионах NA и EU занимают практически одинаковые доли, в JP регионе абсолютное большинство продаж занимают игры без рейтинга, скорее всего здесь более популярны игры, которым рейтинг не присвоен или у которых пропущен.**\n",
    "\n",
    "**В ходе проверок гипотез выяснилось, что оценки пользователей не зависят от платформы XOne или PC, а вот оценки у жанров Sports и Action разнятся.**"
   ]
  }
 ],
 "metadata": {
  "ExecuteTimeLog": [
   {
    "duration": 344,
    "start_time": "2022-12-02T13:48:16.130Z"
   },
   {
    "duration": 196,
    "start_time": "2022-12-02T13:48:40.696Z"
   },
   {
    "duration": 66,
    "start_time": "2022-12-02T13:51:06.486Z"
   },
   {
    "duration": 13,
    "start_time": "2022-12-02T13:51:13.925Z"
   },
   {
    "duration": 16,
    "start_time": "2022-12-02T14:32:35.922Z"
   },
   {
    "duration": 1305,
    "start_time": "2022-12-02T14:34:39.775Z"
   },
   {
    "duration": 4,
    "start_time": "2022-12-02T14:39:45.350Z"
   },
   {
    "duration": 13,
    "start_time": "2022-12-02T14:39:51.751Z"
   },
   {
    "duration": 9,
    "start_time": "2022-12-02T15:21:28.540Z"
   },
   {
    "duration": 8,
    "start_time": "2022-12-02T15:21:33.199Z"
   },
   {
    "duration": 5,
    "start_time": "2022-12-02T15:22:11.533Z"
   },
   {
    "duration": 6,
    "start_time": "2022-12-02T15:22:32.583Z"
   },
   {
    "duration": 13,
    "start_time": "2022-12-02T15:22:43.293Z"
   },
   {
    "duration": 6,
    "start_time": "2022-12-02T15:23:47.327Z"
   },
   {
    "duration": 9,
    "start_time": "2022-12-02T15:24:35.893Z"
   },
   {
    "duration": 9,
    "start_time": "2022-12-02T15:24:40.597Z"
   },
   {
    "duration": 8,
    "start_time": "2022-12-02T15:24:45.545Z"
   },
   {
    "duration": 10,
    "start_time": "2022-12-02T15:24:47.984Z"
   },
   {
    "duration": 67,
    "start_time": "2022-12-02T15:24:56.161Z"
   },
   {
    "duration": 12,
    "start_time": "2022-12-02T15:24:56.229Z"
   },
   {
    "duration": 16,
    "start_time": "2022-12-02T15:24:56.242Z"
   },
   {
    "duration": 18,
    "start_time": "2022-12-02T15:24:56.260Z"
   },
   {
    "duration": 9,
    "start_time": "2022-12-02T15:24:56.280Z"
   },
   {
    "duration": 8,
    "start_time": "2022-12-02T15:24:59.808Z"
   },
   {
    "duration": 9,
    "start_time": "2022-12-02T15:25:53.866Z"
   },
   {
    "duration": 9,
    "start_time": "2022-12-02T15:26:13.304Z"
   },
   {
    "duration": 12,
    "start_time": "2022-12-02T15:26:16.189Z"
   },
   {
    "duration": 9,
    "start_time": "2022-12-02T15:26:22.178Z"
   },
   {
    "duration": 8,
    "start_time": "2022-12-02T15:26:26.824Z"
   },
   {
    "duration": 8,
    "start_time": "2022-12-02T15:26:35.093Z"
   },
   {
    "duration": 8,
    "start_time": "2022-12-02T15:26:50.142Z"
   },
   {
    "duration": 8,
    "start_time": "2022-12-02T15:27:06.707Z"
   },
   {
    "duration": 5,
    "start_time": "2022-12-02T15:27:30.066Z"
   },
   {
    "duration": 8,
    "start_time": "2022-12-02T15:27:32.469Z"
   },
   {
    "duration": 8,
    "start_time": "2022-12-02T15:27:40.461Z"
   },
   {
    "duration": 8,
    "start_time": "2022-12-02T15:27:47.680Z"
   },
   {
    "duration": 12,
    "start_time": "2022-12-02T15:27:58.788Z"
   },
   {
    "duration": 59,
    "start_time": "2022-12-02T15:28:15.834Z"
   },
   {
    "duration": 11,
    "start_time": "2022-12-02T15:28:15.895Z"
   },
   {
    "duration": 13,
    "start_time": "2022-12-02T15:28:15.908Z"
   },
   {
    "duration": 5,
    "start_time": "2022-12-02T15:28:19.471Z"
   },
   {
    "duration": 13,
    "start_time": "2022-12-02T15:28:21.220Z"
   },
   {
    "duration": 19,
    "start_time": "2022-12-02T15:28:59.056Z"
   },
   {
    "duration": 8,
    "start_time": "2022-12-02T15:29:03.618Z"
   },
   {
    "duration": 7,
    "start_time": "2022-12-02T15:29:07.649Z"
   },
   {
    "duration": 13,
    "start_time": "2022-12-02T15:30:10.576Z"
   },
   {
    "duration": 16,
    "start_time": "2022-12-02T15:32:08.123Z"
   },
   {
    "duration": 7,
    "start_time": "2022-12-02T15:32:18.936Z"
   },
   {
    "duration": 19,
    "start_time": "2022-12-02T15:32:28.614Z"
   },
   {
    "duration": 5,
    "start_time": "2022-12-02T15:32:38.703Z"
   },
   {
    "duration": 13,
    "start_time": "2022-12-02T15:32:52.071Z"
   },
   {
    "duration": 5,
    "start_time": "2022-12-02T15:34:21.813Z"
   },
   {
    "duration": 24,
    "start_time": "2022-12-02T15:34:28.805Z"
   },
   {
    "duration": 5,
    "start_time": "2022-12-02T15:37:12.247Z"
   },
   {
    "duration": 5,
    "start_time": "2022-12-02T15:40:51.793Z"
   },
   {
    "duration": 5,
    "start_time": "2022-12-02T15:41:35.740Z"
   },
   {
    "duration": 14,
    "start_time": "2022-12-02T15:45:13.063Z"
   },
   {
    "duration": 4,
    "start_time": "2022-12-02T15:45:23.529Z"
   },
   {
    "duration": 285,
    "start_time": "2022-12-02T15:51:43.698Z"
   },
   {
    "duration": 319,
    "start_time": "2022-12-02T15:51:48.924Z"
   },
   {
    "duration": 5,
    "start_time": "2022-12-02T15:52:14.990Z"
   },
   {
    "duration": 61,
    "start_time": "2022-12-02T15:52:37.738Z"
   },
   {
    "duration": 12,
    "start_time": "2022-12-02T15:52:37.801Z"
   },
   {
    "duration": 16,
    "start_time": "2022-12-02T15:52:37.814Z"
   },
   {
    "duration": 18,
    "start_time": "2022-12-02T15:52:37.831Z"
   },
   {
    "duration": 35,
    "start_time": "2022-12-02T15:52:37.851Z"
   },
   {
    "duration": 27,
    "start_time": "2022-12-02T15:52:37.887Z"
   },
   {
    "duration": 24,
    "start_time": "2022-12-02T15:52:37.916Z"
   },
   {
    "duration": 13,
    "start_time": "2022-12-02T15:52:37.941Z"
   },
   {
    "duration": 33,
    "start_time": "2022-12-02T15:52:37.956Z"
   },
   {
    "duration": 16,
    "start_time": "2022-12-02T15:52:37.990Z"
   },
   {
    "duration": 4,
    "start_time": "2022-12-02T15:52:41.673Z"
   },
   {
    "duration": 3,
    "start_time": "2022-12-02T15:52:45.791Z"
   },
   {
    "duration": 5,
    "start_time": "2022-12-02T15:52:48.989Z"
   },
   {
    "duration": 12,
    "start_time": "2022-12-02T15:54:01.824Z"
   },
   {
    "duration": 11,
    "start_time": "2022-12-02T17:06:38.454Z"
   },
   {
    "duration": 6,
    "start_time": "2022-12-02T17:10:44.030Z"
   },
   {
    "duration": 5,
    "start_time": "2022-12-02T17:11:01.585Z"
   },
   {
    "duration": 6,
    "start_time": "2022-12-02T17:11:13.197Z"
   },
   {
    "duration": 4,
    "start_time": "2022-12-02T17:11:21.962Z"
   },
   {
    "duration": 286,
    "start_time": "2022-12-02T17:11:31.162Z"
   },
   {
    "duration": 6,
    "start_time": "2022-12-02T17:11:41.676Z"
   },
   {
    "duration": 13,
    "start_time": "2022-12-02T17:13:11.057Z"
   },
   {
    "duration": 4,
    "start_time": "2022-12-02T17:13:48.298Z"
   },
   {
    "duration": 14,
    "start_time": "2022-12-02T17:13:52.795Z"
   },
   {
    "duration": 12,
    "start_time": "2022-12-02T17:14:23.446Z"
   },
   {
    "duration": 4,
    "start_time": "2022-12-02T17:15:31.537Z"
   },
   {
    "duration": 7,
    "start_time": "2022-12-02T17:15:41.781Z"
   },
   {
    "duration": 4,
    "start_time": "2022-12-02T17:15:51.889Z"
   },
   {
    "duration": 10,
    "start_time": "2022-12-02T17:15:53.820Z"
   },
   {
    "duration": 12,
    "start_time": "2022-12-02T17:16:05.087Z"
   },
   {
    "duration": 6,
    "start_time": "2022-12-02T17:16:44.709Z"
   },
   {
    "duration": 72,
    "start_time": "2022-12-02T17:17:58.349Z"
   },
   {
    "duration": 11,
    "start_time": "2022-12-02T17:18:41.832Z"
   },
   {
    "duration": 4,
    "start_time": "2022-12-02T17:18:52.366Z"
   },
   {
    "duration": 10,
    "start_time": "2022-12-02T17:18:57.374Z"
   },
   {
    "duration": 13,
    "start_time": "2022-12-02T17:19:05.427Z"
   },
   {
    "duration": 5,
    "start_time": "2022-12-02T17:19:13.818Z"
   },
   {
    "duration": 14,
    "start_time": "2022-12-02T17:19:24.974Z"
   },
   {
    "duration": 5,
    "start_time": "2022-12-02T17:20:31.167Z"
   },
   {
    "duration": 5,
    "start_time": "2022-12-02T17:20:45.324Z"
   },
   {
    "duration": 4,
    "start_time": "2022-12-02T17:21:07.218Z"
   },
   {
    "duration": 4,
    "start_time": "2022-12-02T17:24:48.432Z"
   },
   {
    "duration": 12,
    "start_time": "2022-12-02T17:25:18.589Z"
   },
   {
    "duration": 13,
    "start_time": "2022-12-02T17:25:35.067Z"
   },
   {
    "duration": 5,
    "start_time": "2022-12-02T17:26:58.619Z"
   },
   {
    "duration": 16,
    "start_time": "2022-12-02T17:27:02.873Z"
   },
   {
    "duration": 4,
    "start_time": "2022-12-02T17:27:21.223Z"
   },
   {
    "duration": 5,
    "start_time": "2022-12-02T17:27:40.460Z"
   },
   {
    "duration": 5,
    "start_time": "2022-12-02T17:27:42.538Z"
   },
   {
    "duration": 11,
    "start_time": "2022-12-02T17:28:12.322Z"
   },
   {
    "duration": 13,
    "start_time": "2022-12-02T17:28:14.407Z"
   },
   {
    "duration": 15,
    "start_time": "2022-12-02T17:30:00.192Z"
   },
   {
    "duration": 6,
    "start_time": "2022-12-02T17:30:11.974Z"
   },
   {
    "duration": 6,
    "start_time": "2022-12-02T17:30:13.961Z"
   },
   {
    "duration": 3,
    "start_time": "2022-12-02T17:32:33.642Z"
   },
   {
    "duration": 5,
    "start_time": "2022-12-02T17:32:42.938Z"
   },
   {
    "duration": 11,
    "start_time": "2022-12-02T17:32:56.257Z"
   },
   {
    "duration": 13,
    "start_time": "2022-12-02T17:33:35.901Z"
   },
   {
    "duration": 11,
    "start_time": "2022-12-02T17:34:06.981Z"
   },
   {
    "duration": 456,
    "start_time": "2022-12-02T17:38:32.220Z"
   },
   {
    "duration": 13,
    "start_time": "2022-12-02T17:38:32.678Z"
   },
   {
    "duration": 14,
    "start_time": "2022-12-02T17:38:32.693Z"
   },
   {
    "duration": 4,
    "start_time": "2022-12-02T17:38:32.709Z"
   },
   {
    "duration": 17,
    "start_time": "2022-12-02T17:38:32.716Z"
   },
   {
    "duration": 17,
    "start_time": "2022-12-02T17:38:32.734Z"
   },
   {
    "duration": 30,
    "start_time": "2022-12-02T17:38:32.752Z"
   },
   {
    "duration": 8,
    "start_time": "2022-12-02T17:38:32.784Z"
   },
   {
    "duration": 10,
    "start_time": "2022-12-02T17:38:32.796Z"
   },
   {
    "duration": 6,
    "start_time": "2022-12-02T17:38:32.807Z"
   },
   {
    "duration": 5,
    "start_time": "2022-12-02T17:38:32.815Z"
   },
   {
    "duration": 8,
    "start_time": "2022-12-02T17:38:32.821Z"
   },
   {
    "duration": 14,
    "start_time": "2022-12-02T17:38:41.156Z"
   },
   {
    "duration": 1213,
    "start_time": "2022-12-02T17:43:27.047Z"
   },
   {
    "duration": 6,
    "start_time": "2022-12-02T17:43:46.516Z"
   },
   {
    "duration": 15,
    "start_time": "2022-12-02T17:43:51.809Z"
   },
   {
    "duration": 9,
    "start_time": "2022-12-02T18:24:12.124Z"
   },
   {
    "duration": 7,
    "start_time": "2022-12-02T18:24:16.996Z"
   },
   {
    "duration": 5,
    "start_time": "2022-12-02T18:24:43.694Z"
   },
   {
    "duration": 509,
    "start_time": "2022-12-02T18:24:55.850Z"
   },
   {
    "duration": 6,
    "start_time": "2022-12-02T18:25:01.790Z"
   },
   {
    "duration": 151,
    "start_time": "2022-12-02T18:29:21.331Z"
   },
   {
    "duration": 171,
    "start_time": "2022-12-02T18:29:54.431Z"
   },
   {
    "duration": 165,
    "start_time": "2022-12-02T18:30:01.490Z"
   },
   {
    "duration": 220,
    "start_time": "2022-12-02T18:30:35.291Z"
   },
   {
    "duration": 5,
    "start_time": "2022-12-02T18:31:11.859Z"
   },
   {
    "duration": 5,
    "start_time": "2022-12-02T19:22:30.518Z"
   },
   {
    "duration": 18,
    "start_time": "2022-12-02T21:21:31.901Z"
   },
   {
    "duration": 14,
    "start_time": "2022-12-02T21:22:10.320Z"
   },
   {
    "duration": 13,
    "start_time": "2022-12-02T21:22:23.314Z"
   },
   {
    "duration": 24,
    "start_time": "2022-12-02T21:22:37.268Z"
   },
   {
    "duration": 26,
    "start_time": "2022-12-02T21:22:52.770Z"
   },
   {
    "duration": 20,
    "start_time": "2022-12-02T21:34:23.423Z"
   },
   {
    "duration": 24,
    "start_time": "2022-12-02T21:34:29.768Z"
   },
   {
    "duration": 15,
    "start_time": "2022-12-02T21:34:33.806Z"
   },
   {
    "duration": 14,
    "start_time": "2022-12-02T21:35:31.022Z"
   },
   {
    "duration": 13,
    "start_time": "2022-12-02T21:35:48.730Z"
   },
   {
    "duration": 6,
    "start_time": "2022-12-02T21:35:52.810Z"
   },
   {
    "duration": 117,
    "start_time": "2022-12-02T21:36:51.910Z"
   },
   {
    "duration": 23,
    "start_time": "2022-12-02T21:39:18.958Z"
   },
   {
    "duration": 14,
    "start_time": "2022-12-02T21:40:15.289Z"
   },
   {
    "duration": 45,
    "start_time": "2022-12-02T21:40:20.294Z"
   },
   {
    "duration": 13,
    "start_time": "2022-12-02T21:42:15.002Z"
   },
   {
    "duration": 15,
    "start_time": "2022-12-02T21:42:17.177Z"
   },
   {
    "duration": 33,
    "start_time": "2022-12-02T21:44:19.118Z"
   },
   {
    "duration": 26,
    "start_time": "2022-12-02T21:44:23.846Z"
   },
   {
    "duration": 8,
    "start_time": "2022-12-02T21:44:35.294Z"
   },
   {
    "duration": 18,
    "start_time": "2022-12-02T21:44:45.117Z"
   },
   {
    "duration": 18,
    "start_time": "2022-12-02T21:45:47.407Z"
   },
   {
    "duration": 187,
    "start_time": "2022-12-02T21:46:00.518Z"
   },
   {
    "duration": 170,
    "start_time": "2022-12-02T21:46:06.592Z"
   },
   {
    "duration": 26,
    "start_time": "2022-12-02T21:46:24.475Z"
   },
   {
    "duration": 172,
    "start_time": "2022-12-02T21:48:10.653Z"
   },
   {
    "duration": 204,
    "start_time": "2022-12-02T21:48:56.745Z"
   },
   {
    "duration": 174,
    "start_time": "2022-12-02T21:49:03.500Z"
   },
   {
    "duration": 189,
    "start_time": "2022-12-02T21:49:30.048Z"
   },
   {
    "duration": 193,
    "start_time": "2022-12-02T21:49:44.247Z"
   },
   {
    "duration": 201,
    "start_time": "2022-12-02T21:49:53.461Z"
   },
   {
    "duration": 79,
    "start_time": "2022-12-02T21:50:46.357Z"
   },
   {
    "duration": 197,
    "start_time": "2022-12-02T21:50:50.499Z"
   },
   {
    "duration": 81,
    "start_time": "2022-12-02T21:51:44.213Z"
   },
   {
    "duration": 253,
    "start_time": "2022-12-02T21:51:48.092Z"
   },
   {
    "duration": 146,
    "start_time": "2022-12-02T21:51:52.659Z"
   },
   {
    "duration": 190,
    "start_time": "2022-12-02T21:53:13.121Z"
   },
   {
    "duration": 187,
    "start_time": "2022-12-02T21:53:19.214Z"
   },
   {
    "duration": 234,
    "start_time": "2022-12-02T21:53:32.765Z"
   },
   {
    "duration": 197,
    "start_time": "2022-12-02T21:53:52.149Z"
   },
   {
    "duration": 47,
    "start_time": "2022-12-05T17:34:05.064Z"
   },
   {
    "duration": 514,
    "start_time": "2022-12-05T17:34:10.748Z"
   },
   {
    "duration": 13,
    "start_time": "2022-12-05T17:34:11.264Z"
   },
   {
    "duration": 21,
    "start_time": "2022-12-05T17:34:11.278Z"
   },
   {
    "duration": 4,
    "start_time": "2022-12-05T17:34:11.301Z"
   },
   {
    "duration": 21,
    "start_time": "2022-12-05T17:34:11.307Z"
   },
   {
    "duration": 24,
    "start_time": "2022-12-05T17:34:11.334Z"
   },
   {
    "duration": 12,
    "start_time": "2022-12-05T17:34:11.360Z"
   },
   {
    "duration": 12,
    "start_time": "2022-12-05T17:34:11.374Z"
   },
   {
    "duration": 20,
    "start_time": "2022-12-05T17:34:11.387Z"
   },
   {
    "duration": 10,
    "start_time": "2022-12-05T17:34:11.410Z"
   },
   {
    "duration": 17,
    "start_time": "2022-12-05T17:34:11.422Z"
   },
   {
    "duration": 14,
    "start_time": "2022-12-05T17:34:11.442Z"
   },
   {
    "duration": 12,
    "start_time": "2022-12-05T17:34:11.458Z"
   },
   {
    "duration": 29,
    "start_time": "2022-12-05T17:34:11.471Z"
   },
   {
    "duration": 611,
    "start_time": "2022-12-05T17:34:11.502Z"
   },
   {
    "duration": 7,
    "start_time": "2022-12-05T17:34:12.115Z"
   },
   {
    "duration": 24,
    "start_time": "2022-12-05T17:34:12.123Z"
   },
   {
    "duration": 21,
    "start_time": "2022-12-05T17:34:12.149Z"
   },
   {
    "duration": 208,
    "start_time": "2022-12-05T17:34:12.172Z"
   },
   {
    "duration": 24,
    "start_time": "2022-12-05T17:34:12.382Z"
   },
   {
    "duration": 12,
    "start_time": "2022-12-05T17:39:58.154Z"
   },
   {
    "duration": 8,
    "start_time": "2022-12-05T17:40:05.077Z"
   },
   {
    "duration": 14,
    "start_time": "2022-12-05T17:40:25.214Z"
   },
   {
    "duration": 11,
    "start_time": "2022-12-05T17:40:34.903Z"
   },
   {
    "duration": 7,
    "start_time": "2022-12-05T17:40:36.852Z"
   },
   {
    "duration": 12,
    "start_time": "2022-12-05T17:40:46.013Z"
   },
   {
    "duration": 7,
    "start_time": "2022-12-05T17:40:47.144Z"
   },
   {
    "duration": 12,
    "start_time": "2022-12-05T17:42:14.497Z"
   },
   {
    "duration": 7,
    "start_time": "2022-12-05T17:42:15.931Z"
   },
   {
    "duration": 124,
    "start_time": "2022-12-05T17:45:24.346Z"
   },
   {
    "duration": 259,
    "start_time": "2022-12-05T17:46:09.052Z"
   },
   {
    "duration": 29,
    "start_time": "2022-12-05T17:46:57.373Z"
   },
   {
    "duration": 15,
    "start_time": "2022-12-05T17:48:30.989Z"
   },
   {
    "duration": 948,
    "start_time": "2022-12-05T17:50:14.683Z"
   },
   {
    "duration": 16,
    "start_time": "2022-12-05T17:50:28.896Z"
   },
   {
    "duration": 7,
    "start_time": "2022-12-05T17:51:02.783Z"
   },
   {
    "duration": 24,
    "start_time": "2022-12-05T17:51:11.553Z"
   },
   {
    "duration": 6,
    "start_time": "2022-12-05T17:51:36.622Z"
   },
   {
    "duration": 5,
    "start_time": "2022-12-05T17:51:48.120Z"
   },
   {
    "duration": 6,
    "start_time": "2022-12-05T17:52:05.798Z"
   },
   {
    "duration": 28,
    "start_time": "2022-12-05T17:52:37.789Z"
   },
   {
    "duration": 40,
    "start_time": "2022-12-05T17:52:46.927Z"
   },
   {
    "duration": 21,
    "start_time": "2022-12-05T17:52:56.686Z"
   },
   {
    "duration": 7,
    "start_time": "2022-12-05T17:53:31.164Z"
   },
   {
    "duration": 6,
    "start_time": "2022-12-05T17:53:34.415Z"
   },
   {
    "duration": 12,
    "start_time": "2022-12-05T17:53:49.116Z"
   },
   {
    "duration": 27,
    "start_time": "2022-12-05T17:53:56.434Z"
   },
   {
    "duration": 736,
    "start_time": "2022-12-05T17:55:13.486Z"
   },
   {
    "duration": 8,
    "start_time": "2022-12-05T17:55:29.422Z"
   },
   {
    "duration": 6,
    "start_time": "2022-12-05T17:55:38.923Z"
   },
   {
    "duration": 7,
    "start_time": "2022-12-05T17:55:46.963Z"
   },
   {
    "duration": 7,
    "start_time": "2022-12-05T17:55:58.391Z"
   },
   {
    "duration": 17,
    "start_time": "2022-12-05T17:56:15.524Z"
   },
   {
    "duration": 10,
    "start_time": "2022-12-05T17:56:30.162Z"
   },
   {
    "duration": 17,
    "start_time": "2022-12-05T17:56:50.152Z"
   },
   {
    "duration": 723,
    "start_time": "2022-12-05T17:57:03.117Z"
   },
   {
    "duration": 16,
    "start_time": "2022-12-05T17:57:08.449Z"
   },
   {
    "duration": 6,
    "start_time": "2022-12-05T17:57:15.304Z"
   },
   {
    "duration": 21,
    "start_time": "2022-12-05T17:57:32.719Z"
   },
   {
    "duration": 12,
    "start_time": "2022-12-05T17:57:57.873Z"
   },
   {
    "duration": 6,
    "start_time": "2022-12-05T17:58:11.723Z"
   },
   {
    "duration": 6,
    "start_time": "2022-12-05T17:58:28.121Z"
   },
   {
    "duration": 211,
    "start_time": "2022-12-05T17:59:50.685Z"
   },
   {
    "duration": 27,
    "start_time": "2022-12-05T18:00:12.948Z"
   },
   {
    "duration": 9,
    "start_time": "2022-12-05T18:00:38.008Z"
   },
   {
    "duration": 7,
    "start_time": "2022-12-05T18:00:48.896Z"
   },
   {
    "duration": 9,
    "start_time": "2022-12-05T18:01:16.705Z"
   },
   {
    "duration": 9,
    "start_time": "2022-12-05T18:01:38.013Z"
   },
   {
    "duration": 6,
    "start_time": "2022-12-05T18:02:33.850Z"
   },
   {
    "duration": 79,
    "start_time": "2022-12-05T18:02:52.528Z"
   },
   {
    "duration": 50,
    "start_time": "2022-12-05T18:02:58.705Z"
   },
   {
    "duration": 30,
    "start_time": "2022-12-05T18:03:01.318Z"
   },
   {
    "duration": 4,
    "start_time": "2022-12-05T18:03:24.890Z"
   },
   {
    "duration": 4,
    "start_time": "2022-12-05T18:03:42.092Z"
   },
   {
    "duration": 7,
    "start_time": "2022-12-05T18:03:49.501Z"
   },
   {
    "duration": 4,
    "start_time": "2022-12-05T18:03:56.214Z"
   },
   {
    "duration": 5,
    "start_time": "2022-12-05T18:04:08.458Z"
   },
   {
    "duration": 5,
    "start_time": "2022-12-05T18:06:46.532Z"
   },
   {
    "duration": 9,
    "start_time": "2022-12-05T18:07:27.984Z"
   },
   {
    "duration": 190,
    "start_time": "2022-12-05T18:07:38.788Z"
   },
   {
    "duration": 4,
    "start_time": "2022-12-05T18:07:44.673Z"
   },
   {
    "duration": 4,
    "start_time": "2022-12-05T18:07:48.657Z"
   },
   {
    "duration": 4,
    "start_time": "2022-12-05T18:07:54.773Z"
   },
   {
    "duration": 3,
    "start_time": "2022-12-05T18:07:59.444Z"
   },
   {
    "duration": 5,
    "start_time": "2022-12-05T18:08:02.522Z"
   },
   {
    "duration": 4,
    "start_time": "2022-12-05T18:08:10.399Z"
   },
   {
    "duration": 4,
    "start_time": "2022-12-05T18:08:19.092Z"
   },
   {
    "duration": 38,
    "start_time": "2022-12-05T18:08:37.853Z"
   },
   {
    "duration": 44,
    "start_time": "2022-12-05T18:08:42.234Z"
   },
   {
    "duration": 5,
    "start_time": "2022-12-05T18:08:45.032Z"
   },
   {
    "duration": 4,
    "start_time": "2022-12-05T18:08:53.410Z"
   },
   {
    "duration": 4,
    "start_time": "2022-12-05T18:09:28.279Z"
   },
   {
    "duration": 3,
    "start_time": "2022-12-05T18:10:52.083Z"
   },
   {
    "duration": 49,
    "start_time": "2022-12-05T18:10:59.508Z"
   },
   {
    "duration": 4,
    "start_time": "2022-12-05T18:11:03.019Z"
   },
   {
    "duration": 4,
    "start_time": "2022-12-05T18:11:07.368Z"
   },
   {
    "duration": 4,
    "start_time": "2022-12-05T18:13:36.030Z"
   },
   {
    "duration": 5,
    "start_time": "2022-12-05T18:13:37.956Z"
   },
   {
    "duration": 54,
    "start_time": "2022-12-05T18:13:57.017Z"
   },
   {
    "duration": 5,
    "start_time": "2022-12-05T18:14:19.333Z"
   },
   {
    "duration": 4,
    "start_time": "2022-12-05T18:14:24.104Z"
   },
   {
    "duration": 4,
    "start_time": "2022-12-05T18:16:25.555Z"
   },
   {
    "duration": 52,
    "start_time": "2022-12-05T18:16:32.077Z"
   },
   {
    "duration": 4,
    "start_time": "2022-12-05T18:17:38.628Z"
   },
   {
    "duration": 8,
    "start_time": "2022-12-05T18:17:47.304Z"
   },
   {
    "duration": 4,
    "start_time": "2022-12-05T18:17:53.065Z"
   },
   {
    "duration": 49,
    "start_time": "2022-12-05T18:18:21.436Z"
   },
   {
    "duration": 44,
    "start_time": "2022-12-05T18:18:29.903Z"
   },
   {
    "duration": 46,
    "start_time": "2022-12-05T18:18:31.624Z"
   },
   {
    "duration": 40,
    "start_time": "2022-12-05T18:18:33.273Z"
   },
   {
    "duration": 46,
    "start_time": "2022-12-05T18:18:35.523Z"
   },
   {
    "duration": 10,
    "start_time": "2022-12-05T18:18:52.209Z"
   },
   {
    "duration": 4,
    "start_time": "2022-12-05T18:20:16.704Z"
   },
   {
    "duration": 19,
    "start_time": "2022-12-05T18:20:40.065Z"
   },
   {
    "duration": 7,
    "start_time": "2022-12-05T18:20:49.734Z"
   },
   {
    "duration": 8,
    "start_time": "2022-12-05T18:20:53.509Z"
   },
   {
    "duration": 5,
    "start_time": "2022-12-05T18:21:03.241Z"
   },
   {
    "duration": 16,
    "start_time": "2022-12-05T18:21:27.461Z"
   },
   {
    "duration": 9,
    "start_time": "2022-12-05T18:22:59.890Z"
   },
   {
    "duration": 18,
    "start_time": "2022-12-05T18:23:45.941Z"
   },
   {
    "duration": 18,
    "start_time": "2022-12-05T18:23:56.915Z"
   },
   {
    "duration": 5,
    "start_time": "2022-12-05T18:24:07.396Z"
   },
   {
    "duration": 14,
    "start_time": "2022-12-05T18:24:14.860Z"
   },
   {
    "duration": 8,
    "start_time": "2022-12-05T18:25:04.161Z"
   },
   {
    "duration": 746,
    "start_time": "2022-12-05T18:25:51.074Z"
   },
   {
    "duration": 743,
    "start_time": "2022-12-05T18:25:53.583Z"
   },
   {
    "duration": 15,
    "start_time": "2022-12-05T18:25:58.839Z"
   },
   {
    "duration": 7,
    "start_time": "2022-12-05T18:26:14.353Z"
   },
   {
    "duration": 7,
    "start_time": "2022-12-05T18:26:18.426Z"
   },
   {
    "duration": 7,
    "start_time": "2022-12-05T18:26:21.002Z"
   },
   {
    "duration": 15,
    "start_time": "2022-12-05T18:26:30.024Z"
   },
   {
    "duration": 4,
    "start_time": "2022-12-05T18:26:35.986Z"
   },
   {
    "duration": 4,
    "start_time": "2022-12-05T18:26:43.483Z"
   },
   {
    "duration": 4,
    "start_time": "2022-12-05T18:26:48.006Z"
   },
   {
    "duration": 4,
    "start_time": "2022-12-05T18:27:02.055Z"
   },
   {
    "duration": 3,
    "start_time": "2022-12-05T18:27:11.485Z"
   },
   {
    "duration": 5,
    "start_time": "2022-12-05T18:27:21.999Z"
   },
   {
    "duration": 15,
    "start_time": "2022-12-05T18:27:45.697Z"
   },
   {
    "duration": 5,
    "start_time": "2022-12-05T18:29:12.797Z"
   },
   {
    "duration": 8,
    "start_time": "2022-12-05T18:29:26.012Z"
   },
   {
    "duration": 6,
    "start_time": "2022-12-05T18:29:39.173Z"
   },
   {
    "duration": 5,
    "start_time": "2022-12-05T18:29:44.190Z"
   },
   {
    "duration": 7,
    "start_time": "2022-12-05T18:29:52.870Z"
   },
   {
    "duration": 7,
    "start_time": "2022-12-05T18:30:04.591Z"
   },
   {
    "duration": 6,
    "start_time": "2022-12-05T18:30:07.673Z"
   },
   {
    "duration": 13,
    "start_time": "2022-12-05T18:35:15.137Z"
   },
   {
    "duration": 13,
    "start_time": "2022-12-05T18:35:47.234Z"
   },
   {
    "duration": 14,
    "start_time": "2022-12-05T18:36:09.437Z"
   },
   {
    "duration": 6,
    "start_time": "2022-12-05T18:36:15.406Z"
   },
   {
    "duration": 6,
    "start_time": "2022-12-05T18:36:21.021Z"
   },
   {
    "duration": 25,
    "start_time": "2022-12-05T18:36:25.584Z"
   },
   {
    "duration": 6,
    "start_time": "2022-12-05T18:36:34.290Z"
   },
   {
    "duration": 5,
    "start_time": "2022-12-05T18:36:58.416Z"
   },
   {
    "duration": 8,
    "start_time": "2022-12-05T18:37:07.412Z"
   },
   {
    "duration": 17,
    "start_time": "2022-12-05T18:37:21.789Z"
   },
   {
    "duration": 6,
    "start_time": "2022-12-05T18:38:17.616Z"
   },
   {
    "duration": 7,
    "start_time": "2022-12-05T18:38:34.242Z"
   },
   {
    "duration": 6,
    "start_time": "2022-12-05T18:38:37.787Z"
   },
   {
    "duration": 8,
    "start_time": "2022-12-05T18:38:40.468Z"
   },
   {
    "duration": 6,
    "start_time": "2022-12-05T18:38:45.377Z"
   },
   {
    "duration": 15,
    "start_time": "2022-12-05T18:39:08.811Z"
   },
   {
    "duration": 6,
    "start_time": "2022-12-05T18:44:18.441Z"
   },
   {
    "duration": 5,
    "start_time": "2022-12-05T18:44:24.565Z"
   },
   {
    "duration": 6,
    "start_time": "2022-12-05T18:44:31.550Z"
   },
   {
    "duration": 6,
    "start_time": "2022-12-05T18:44:38.123Z"
   },
   {
    "duration": 6,
    "start_time": "2022-12-05T18:44:52.212Z"
   },
   {
    "duration": 6,
    "start_time": "2022-12-05T18:46:15.866Z"
   },
   {
    "duration": 18,
    "start_time": "2022-12-05T18:46:38.764Z"
   },
   {
    "duration": 6,
    "start_time": "2022-12-05T18:46:48.174Z"
   },
   {
    "duration": 5,
    "start_time": "2022-12-05T18:46:51.803Z"
   },
   {
    "duration": 764,
    "start_time": "2022-12-05T18:47:17.411Z"
   },
   {
    "duration": 656,
    "start_time": "2022-12-05T18:47:31.675Z"
   },
   {
    "duration": 711,
    "start_time": "2022-12-05T18:47:55.507Z"
   },
   {
    "duration": 7,
    "start_time": "2022-12-05T18:48:25.906Z"
   },
   {
    "duration": 49,
    "start_time": "2022-12-05T18:48:38.808Z"
   },
   {
    "duration": 14,
    "start_time": "2022-12-05T18:48:41.029Z"
   },
   {
    "duration": 10,
    "start_time": "2022-12-05T18:50:24.263Z"
   },
   {
    "duration": 6,
    "start_time": "2022-12-05T18:50:32.361Z"
   },
   {
    "duration": 3,
    "start_time": "2022-12-05T18:51:25.188Z"
   },
   {
    "duration": 16,
    "start_time": "2022-12-05T18:51:28.031Z"
   },
   {
    "duration": 5,
    "start_time": "2022-12-05T18:51:39.766Z"
   },
   {
    "duration": 8,
    "start_time": "2022-12-05T18:52:39.323Z"
   },
   {
    "duration": 6,
    "start_time": "2022-12-05T18:52:43.632Z"
   },
   {
    "duration": 7,
    "start_time": "2022-12-05T18:52:53.218Z"
   },
   {
    "duration": 6,
    "start_time": "2022-12-05T18:52:58.554Z"
   },
   {
    "duration": 15,
    "start_time": "2022-12-05T18:53:17.166Z"
   },
   {
    "duration": 7,
    "start_time": "2022-12-05T18:53:33.410Z"
   },
   {
    "duration": 15,
    "start_time": "2022-12-05T18:54:14.573Z"
   },
   {
    "duration": 63,
    "start_time": "2022-12-05T18:54:21.640Z"
   },
   {
    "duration": 13,
    "start_time": "2022-12-05T18:54:21.705Z"
   },
   {
    "duration": 17,
    "start_time": "2022-12-05T18:54:21.720Z"
   },
   {
    "duration": 4,
    "start_time": "2022-12-05T18:54:21.740Z"
   },
   {
    "duration": 22,
    "start_time": "2022-12-05T18:54:21.745Z"
   },
   {
    "duration": 27,
    "start_time": "2022-12-05T18:54:21.769Z"
   },
   {
    "duration": 16,
    "start_time": "2022-12-05T18:54:21.798Z"
   },
   {
    "duration": 22,
    "start_time": "2022-12-05T18:54:21.816Z"
   },
   {
    "duration": 10,
    "start_time": "2022-12-05T18:54:21.840Z"
   },
   {
    "duration": 8,
    "start_time": "2022-12-05T18:54:21.852Z"
   },
   {
    "duration": 10,
    "start_time": "2022-12-05T18:54:21.861Z"
   },
   {
    "duration": 10,
    "start_time": "2022-12-05T18:54:21.873Z"
   },
   {
    "duration": 13,
    "start_time": "2022-12-05T18:54:21.884Z"
   },
   {
    "duration": 11,
    "start_time": "2022-12-05T18:54:21.898Z"
   },
   {
    "duration": 193,
    "start_time": "2022-12-05T18:54:21.910Z"
   },
   {
    "duration": 5,
    "start_time": "2022-12-05T18:54:22.105Z"
   },
   {
    "duration": 23,
    "start_time": "2022-12-05T18:54:22.112Z"
   },
   {
    "duration": 19,
    "start_time": "2022-12-05T18:54:22.137Z"
   },
   {
    "duration": 212,
    "start_time": "2022-12-05T18:54:22.158Z"
   },
   {
    "duration": 14,
    "start_time": "2022-12-05T18:54:22.373Z"
   },
   {
    "duration": 19,
    "start_time": "2022-12-05T18:54:22.389Z"
   },
   {
    "duration": 24,
    "start_time": "2022-12-05T18:54:22.410Z"
   },
   {
    "duration": 18,
    "start_time": "2022-12-05T18:54:25.343Z"
   },
   {
    "duration": 8,
    "start_time": "2022-12-05T18:54:40.057Z"
   },
   {
    "duration": 5,
    "start_time": "2022-12-05T19:09:57.839Z"
   },
   {
    "duration": 13,
    "start_time": "2022-12-05T19:10:14.874Z"
   },
   {
    "duration": 6,
    "start_time": "2022-12-05T19:10:27.679Z"
   },
   {
    "duration": 5,
    "start_time": "2022-12-05T19:10:33.607Z"
   },
   {
    "duration": 18,
    "start_time": "2022-12-05T19:15:46.149Z"
   },
   {
    "duration": 5,
    "start_time": "2022-12-05T19:17:16.209Z"
   },
   {
    "duration": 15,
    "start_time": "2022-12-05T19:17:22.058Z"
   },
   {
    "duration": 12,
    "start_time": "2022-12-05T19:17:30.454Z"
   },
   {
    "duration": 20,
    "start_time": "2022-12-05T19:18:22.244Z"
   },
   {
    "duration": 16,
    "start_time": "2022-12-05T19:18:38.820Z"
   },
   {
    "duration": 5,
    "start_time": "2022-12-05T19:19:14.700Z"
   },
   {
    "duration": 8,
    "start_time": "2022-12-05T19:19:32.197Z"
   },
   {
    "duration": 4,
    "start_time": "2022-12-05T19:19:35.910Z"
   },
   {
    "duration": 7,
    "start_time": "2022-12-05T19:19:43.148Z"
   },
   {
    "duration": 7,
    "start_time": "2022-12-05T19:20:06.070Z"
   },
   {
    "duration": 7,
    "start_time": "2022-12-05T19:20:42.784Z"
   },
   {
    "duration": 13,
    "start_time": "2022-12-05T19:24:20.073Z"
   },
   {
    "duration": 15,
    "start_time": "2022-12-05T19:24:23.597Z"
   },
   {
    "duration": 6,
    "start_time": "2022-12-05T19:24:49.667Z"
   },
   {
    "duration": 14,
    "start_time": "2022-12-05T19:24:56.632Z"
   },
   {
    "duration": 240,
    "start_time": "2022-12-05T19:25:44.679Z"
   },
   {
    "duration": 6,
    "start_time": "2022-12-05T19:27:18.375Z"
   },
   {
    "duration": 7,
    "start_time": "2022-12-05T19:27:25.173Z"
   },
   {
    "duration": 7,
    "start_time": "2022-12-05T19:29:55.698Z"
   },
   {
    "duration": 16,
    "start_time": "2022-12-05T19:31:47.287Z"
   },
   {
    "duration": 12,
    "start_time": "2022-12-05T19:34:14.217Z"
   },
   {
    "duration": 14,
    "start_time": "2022-12-05T19:34:29.428Z"
   },
   {
    "duration": 48,
    "start_time": "2022-12-05T19:41:50.424Z"
   },
   {
    "duration": 256,
    "start_time": "2022-12-05T19:41:53.272Z"
   },
   {
    "duration": 297,
    "start_time": "2022-12-05T19:42:20.472Z"
   },
   {
    "duration": 367,
    "start_time": "2022-12-05T19:42:27.068Z"
   },
   {
    "duration": 265,
    "start_time": "2022-12-05T19:42:33.601Z"
   },
   {
    "duration": 206,
    "start_time": "2022-12-05T19:46:38.642Z"
   },
   {
    "duration": 7,
    "start_time": "2022-12-05T19:46:56.296Z"
   },
   {
    "duration": 16,
    "start_time": "2022-12-05T19:58:39.350Z"
   },
   {
    "duration": 9,
    "start_time": "2022-12-05T21:56:55.800Z"
   },
   {
    "duration": 13,
    "start_time": "2022-12-05T21:57:03.990Z"
   },
   {
    "duration": 9,
    "start_time": "2022-12-05T21:57:09.368Z"
   },
   {
    "duration": 10,
    "start_time": "2022-12-05T21:57:16.752Z"
   },
   {
    "duration": 4,
    "start_time": "2022-12-05T21:58:10.978Z"
   },
   {
    "duration": 6259,
    "start_time": "2022-12-05T21:58:44.480Z"
   },
   {
    "duration": 9,
    "start_time": "2022-12-05T21:59:03.769Z"
   },
   {
    "duration": 42,
    "start_time": "2022-12-05T21:59:19.827Z"
   },
   {
    "duration": 2099,
    "start_time": "2022-12-05T21:59:27.501Z"
   },
   {
    "duration": 2445,
    "start_time": "2022-12-05T21:59:48.780Z"
   },
   {
    "duration": 218,
    "start_time": "2022-12-05T22:03:59.129Z"
   },
   {
    "duration": 240,
    "start_time": "2022-12-05T22:04:20.146Z"
   },
   {
    "duration": 8,
    "start_time": "2022-12-05T22:04:49.509Z"
   },
   {
    "duration": 250,
    "start_time": "2022-12-05T22:05:13.461Z"
   },
   {
    "duration": 44,
    "start_time": "2022-12-05T22:05:36.875Z"
   },
   {
    "duration": 340,
    "start_time": "2022-12-05T22:05:40.403Z"
   },
   {
    "duration": 254,
    "start_time": "2022-12-05T22:05:47.492Z"
   },
   {
    "duration": 460,
    "start_time": "2022-12-05T22:05:55.313Z"
   },
   {
    "duration": 281,
    "start_time": "2022-12-05T22:06:20.959Z"
   },
   {
    "duration": 17,
    "start_time": "2022-12-05T22:07:56.734Z"
   },
   {
    "duration": 291,
    "start_time": "2022-12-05T22:08:58.213Z"
   },
   {
    "duration": 277,
    "start_time": "2022-12-05T22:09:19.073Z"
   },
   {
    "duration": 22,
    "start_time": "2022-12-05T22:09:32.946Z"
   },
   {
    "duration": 21,
    "start_time": "2022-12-05T22:09:47.129Z"
   },
   {
    "duration": 21,
    "start_time": "2022-12-05T22:11:19.322Z"
   },
   {
    "duration": 288,
    "start_time": "2022-12-05T22:11:52.082Z"
   },
   {
    "duration": 22,
    "start_time": "2022-12-05T22:13:29.757Z"
   },
   {
    "duration": 39,
    "start_time": "2022-12-05T22:13:53.066Z"
   },
   {
    "duration": 28,
    "start_time": "2022-12-05T22:14:22.419Z"
   },
   {
    "duration": 21,
    "start_time": "2022-12-05T22:14:28.323Z"
   },
   {
    "duration": 22,
    "start_time": "2022-12-05T22:14:33.465Z"
   },
   {
    "duration": 22,
    "start_time": "2022-12-05T22:14:46.504Z"
   },
   {
    "duration": 24,
    "start_time": "2022-12-05T22:14:48.635Z"
   },
   {
    "duration": 20,
    "start_time": "2022-12-05T22:15:42.475Z"
   },
   {
    "duration": 272,
    "start_time": "2022-12-05T22:16:05.953Z"
   },
   {
    "duration": 293,
    "start_time": "2022-12-05T22:16:48.116Z"
   },
   {
    "duration": 259,
    "start_time": "2022-12-05T22:19:03.720Z"
   },
   {
    "duration": 259,
    "start_time": "2022-12-05T22:33:17.313Z"
   },
   {
    "duration": 258,
    "start_time": "2022-12-05T22:33:28.825Z"
   },
   {
    "duration": 266,
    "start_time": "2022-12-05T22:33:37.254Z"
   },
   {
    "duration": 17,
    "start_time": "2022-12-05T22:45:39.038Z"
   },
   {
    "duration": 16,
    "start_time": "2022-12-05T22:45:45.698Z"
   },
   {
    "duration": 145,
    "start_time": "2022-12-05T22:49:01.021Z"
   },
   {
    "duration": 171,
    "start_time": "2022-12-05T22:49:23.131Z"
   },
   {
    "duration": 148,
    "start_time": "2022-12-05T22:50:08.094Z"
   },
   {
    "duration": 9,
    "start_time": "2022-12-05T22:51:32.069Z"
   },
   {
    "duration": 10,
    "start_time": "2022-12-05T22:51:41.598Z"
   },
   {
    "duration": 16,
    "start_time": "2022-12-05T22:52:30.649Z"
   },
   {
    "duration": 24,
    "start_time": "2022-12-05T22:52:34.414Z"
   },
   {
    "duration": 12,
    "start_time": "2022-12-05T22:52:43.111Z"
   },
   {
    "duration": 13,
    "start_time": "2022-12-05T22:54:35.159Z"
   },
   {
    "duration": 164,
    "start_time": "2022-12-06T00:20:07.239Z"
   },
   {
    "duration": 207,
    "start_time": "2022-12-06T00:21:12.736Z"
   },
   {
    "duration": 163,
    "start_time": "2022-12-06T00:27:55.424Z"
   },
   {
    "duration": 9,
    "start_time": "2022-12-06T00:30:17.913Z"
   },
   {
    "duration": 12,
    "start_time": "2022-12-06T00:31:59.235Z"
   },
   {
    "duration": 141,
    "start_time": "2022-12-06T00:34:33.970Z"
   },
   {
    "duration": 379,
    "start_time": "2022-12-06T00:34:50.285Z"
   },
   {
    "duration": 11,
    "start_time": "2022-12-06T00:36:09.598Z"
   },
   {
    "duration": 9,
    "start_time": "2022-12-06T00:36:23.305Z"
   },
   {
    "duration": 140,
    "start_time": "2022-12-06T00:38:55.939Z"
   },
   {
    "duration": 9,
    "start_time": "2022-12-06T00:43:29.030Z"
   },
   {
    "duration": 171,
    "start_time": "2022-12-06T00:44:38.819Z"
   },
   {
    "duration": 9,
    "start_time": "2022-12-06T00:45:04.798Z"
   },
   {
    "duration": 159,
    "start_time": "2022-12-06T00:47:32.106Z"
   },
   {
    "duration": 9,
    "start_time": "2022-12-06T00:47:57.913Z"
   },
   {
    "duration": 157,
    "start_time": "2022-12-06T00:48:08.945Z"
   },
   {
    "duration": 15,
    "start_time": "2022-12-06T00:52:21.103Z"
   },
   {
    "duration": 7,
    "start_time": "2022-12-06T00:52:26.368Z"
   },
   {
    "duration": 5,
    "start_time": "2022-12-06T00:52:30.394Z"
   },
   {
    "duration": 54,
    "start_time": "2022-12-06T00:55:05.122Z"
   },
   {
    "duration": 41,
    "start_time": "2022-12-06T00:56:49.612Z"
   },
   {
    "duration": 38,
    "start_time": "2022-12-06T00:57:48.785Z"
   },
   {
    "duration": 27,
    "start_time": "2022-12-06T00:58:08.399Z"
   },
   {
    "duration": 23,
    "start_time": "2022-12-06T00:58:19.472Z"
   },
   {
    "duration": 40,
    "start_time": "2022-12-06T00:58:43.053Z"
   },
   {
    "duration": 40,
    "start_time": "2022-12-06T00:59:06.826Z"
   },
   {
    "duration": 38,
    "start_time": "2022-12-06T00:59:10.908Z"
   },
   {
    "duration": 41,
    "start_time": "2022-12-06T00:59:22.513Z"
   },
   {
    "duration": 37,
    "start_time": "2022-12-06T00:59:41.403Z"
   },
   {
    "duration": 6,
    "start_time": "2022-12-06T01:00:11.177Z"
   },
   {
    "duration": 7,
    "start_time": "2022-12-06T01:00:17.447Z"
   },
   {
    "duration": 7,
    "start_time": "2022-12-06T01:00:23.110Z"
   },
   {
    "duration": 7,
    "start_time": "2022-12-06T01:00:31.799Z"
   },
   {
    "duration": 175,
    "start_time": "2022-12-06T01:01:10.323Z"
   },
   {
    "duration": 22,
    "start_time": "2022-12-06T01:01:21.612Z"
   },
   {
    "duration": 139,
    "start_time": "2022-12-06T01:02:10.874Z"
   },
   {
    "duration": 145,
    "start_time": "2022-12-06T01:02:20.894Z"
   },
   {
    "duration": 147,
    "start_time": "2022-12-06T01:02:52.227Z"
   },
   {
    "duration": 156,
    "start_time": "2022-12-06T01:05:21.035Z"
   },
   {
    "duration": 39,
    "start_time": "2022-12-06T01:08:28.276Z"
   },
   {
    "duration": 42,
    "start_time": "2022-12-06T01:08:36.786Z"
   },
   {
    "duration": 147,
    "start_time": "2022-12-06T01:11:44.081Z"
   },
   {
    "duration": 160,
    "start_time": "2022-12-06T01:11:49.644Z"
   },
   {
    "duration": 151,
    "start_time": "2022-12-06T01:11:57.826Z"
   },
   {
    "duration": 152,
    "start_time": "2022-12-06T01:12:05.644Z"
   },
   {
    "duration": 157,
    "start_time": "2022-12-06T01:12:14.178Z"
   },
   {
    "duration": 159,
    "start_time": "2022-12-06T01:12:21.875Z"
   },
   {
    "duration": 139,
    "start_time": "2022-12-06T01:12:31.042Z"
   },
   {
    "duration": 136,
    "start_time": "2022-12-06T01:12:37.540Z"
   },
   {
    "duration": 150,
    "start_time": "2022-12-06T01:12:54.360Z"
   },
   {
    "duration": 137,
    "start_time": "2022-12-06T01:13:03.106Z"
   },
   {
    "duration": 155,
    "start_time": "2022-12-06T01:14:05.291Z"
   },
   {
    "duration": 153,
    "start_time": "2022-12-06T01:15:30.382Z"
   },
   {
    "duration": 151,
    "start_time": "2022-12-06T01:15:37.134Z"
   },
   {
    "duration": 154,
    "start_time": "2022-12-06T01:15:43.825Z"
   },
   {
    "duration": 44,
    "start_time": "2022-12-06T11:30:01.039Z"
   },
   {
    "duration": 613,
    "start_time": "2022-12-06T11:30:07.635Z"
   },
   {
    "duration": 13,
    "start_time": "2022-12-06T11:30:08.250Z"
   },
   {
    "duration": 15,
    "start_time": "2022-12-06T11:30:08.265Z"
   },
   {
    "duration": 4,
    "start_time": "2022-12-06T11:30:08.282Z"
   },
   {
    "duration": 15,
    "start_time": "2022-12-06T11:30:08.288Z"
   },
   {
    "duration": 14,
    "start_time": "2022-12-06T11:30:08.305Z"
   },
   {
    "duration": 6,
    "start_time": "2022-12-06T11:30:08.321Z"
   },
   {
    "duration": 6,
    "start_time": "2022-12-06T11:30:08.329Z"
   },
   {
    "duration": 6,
    "start_time": "2022-12-06T11:30:08.336Z"
   },
   {
    "duration": 37,
    "start_time": "2022-12-06T11:30:08.345Z"
   },
   {
    "duration": 6,
    "start_time": "2022-12-06T11:30:08.384Z"
   },
   {
    "duration": 10,
    "start_time": "2022-12-06T11:30:08.392Z"
   },
   {
    "duration": 10,
    "start_time": "2022-12-06T11:30:08.403Z"
   },
   {
    "duration": 9,
    "start_time": "2022-12-06T11:30:08.414Z"
   },
   {
    "duration": 589,
    "start_time": "2022-12-06T11:30:08.425Z"
   },
   {
    "duration": 6,
    "start_time": "2022-12-06T11:30:09.016Z"
   },
   {
    "duration": 14,
    "start_time": "2022-12-06T11:30:09.023Z"
   },
   {
    "duration": 17,
    "start_time": "2022-12-06T11:30:09.039Z"
   },
   {
    "duration": 211,
    "start_time": "2022-12-06T11:30:09.058Z"
   },
   {
    "duration": 6,
    "start_time": "2022-12-06T11:30:09.277Z"
   },
   {
    "duration": 26,
    "start_time": "2022-12-06T11:30:09.284Z"
   },
   {
    "duration": 17,
    "start_time": "2022-12-06T11:30:09.312Z"
   },
   {
    "duration": 13,
    "start_time": "2022-12-06T11:30:09.330Z"
   },
   {
    "duration": 6,
    "start_time": "2022-12-06T11:30:09.345Z"
   },
   {
    "duration": 25,
    "start_time": "2022-12-06T11:30:09.353Z"
   },
   {
    "duration": 265,
    "start_time": "2022-12-06T11:30:09.379Z"
   },
   {
    "duration": 322,
    "start_time": "2022-12-06T11:30:09.645Z"
   },
   {
    "duration": 167,
    "start_time": "2022-12-06T11:30:09.970Z"
   },
   {
    "duration": 187,
    "start_time": "2022-12-06T11:30:10.139Z"
   },
   {
    "duration": 11,
    "start_time": "2022-12-06T11:30:10.328Z"
   },
   {
    "duration": 25,
    "start_time": "2022-12-06T11:30:10.342Z"
   },
   {
    "duration": 160,
    "start_time": "2022-12-06T11:30:10.368Z"
   },
   {
    "duration": 13,
    "start_time": "2022-12-06T11:30:10.531Z"
   },
   {
    "duration": 152,
    "start_time": "2022-12-06T11:30:10.546Z"
   },
   {
    "duration": 11,
    "start_time": "2022-12-06T11:30:10.700Z"
   },
   {
    "duration": 193,
    "start_time": "2022-12-06T11:30:10.713Z"
   },
   {
    "duration": 11,
    "start_time": "2022-12-06T11:30:10.908Z"
   },
   {
    "duration": 211,
    "start_time": "2022-12-06T11:30:10.921Z"
   },
   {
    "duration": 11,
    "start_time": "2022-12-06T11:30:11.134Z"
   },
   {
    "duration": 73,
    "start_time": "2022-12-06T11:30:11.147Z"
   },
   {
    "duration": 60,
    "start_time": "2022-12-06T11:30:11.222Z"
   },
   {
    "duration": 190,
    "start_time": "2022-12-06T11:30:11.284Z"
   },
   {
    "duration": 11,
    "start_time": "2022-12-06T11:30:11.476Z"
   },
   {
    "duration": 12,
    "start_time": "2022-12-06T11:36:49.011Z"
   },
   {
    "duration": 119,
    "start_time": "2022-12-06T11:36:58.135Z"
   },
   {
    "duration": 167,
    "start_time": "2022-12-06T11:37:05.340Z"
   },
   {
    "duration": 40,
    "start_time": "2022-12-06T11:38:02.631Z"
   },
   {
    "duration": 246,
    "start_time": "2022-12-06T11:38:18.495Z"
   },
   {
    "duration": 187,
    "start_time": "2022-12-06T11:43:15.597Z"
   },
   {
    "duration": 100,
    "start_time": "2022-12-06T11:45:51.151Z"
   },
   {
    "duration": 9,
    "start_time": "2022-12-06T11:45:55.752Z"
   },
   {
    "duration": 15,
    "start_time": "2022-12-06T11:45:57.224Z"
   },
   {
    "duration": 115,
    "start_time": "2022-12-06T11:45:59.400Z"
   },
   {
    "duration": 96,
    "start_time": "2022-12-06T11:46:09.147Z"
   },
   {
    "duration": 98,
    "start_time": "2022-12-06T11:48:09.938Z"
   },
   {
    "duration": 108,
    "start_time": "2022-12-06T11:49:35.776Z"
   },
   {
    "duration": 228,
    "start_time": "2022-12-06T11:50:24.633Z"
   },
   {
    "duration": 246,
    "start_time": "2022-12-06T11:51:06.470Z"
   },
   {
    "duration": 347,
    "start_time": "2022-12-06T11:51:26.871Z"
   },
   {
    "duration": 240,
    "start_time": "2022-12-06T11:51:46.259Z"
   },
   {
    "duration": 255,
    "start_time": "2022-12-06T11:52:09.645Z"
   },
   {
    "duration": 270,
    "start_time": "2022-12-06T11:52:20.039Z"
   },
   {
    "duration": 267,
    "start_time": "2022-12-06T11:52:25.776Z"
   },
   {
    "duration": 245,
    "start_time": "2022-12-06T11:52:32.385Z"
   },
   {
    "duration": 10,
    "start_time": "2022-12-06T11:53:31.528Z"
   },
   {
    "duration": 9,
    "start_time": "2022-12-06T11:53:32.890Z"
   },
   {
    "duration": 327,
    "start_time": "2022-12-06T11:53:35.234Z"
   },
   {
    "duration": 9,
    "start_time": "2022-12-06T11:54:01.603Z"
   },
   {
    "duration": 319,
    "start_time": "2022-12-06T11:54:03.894Z"
   },
   {
    "duration": 10,
    "start_time": "2022-12-06T11:54:44.873Z"
   },
   {
    "duration": 250,
    "start_time": "2022-12-06T11:54:46.584Z"
   },
   {
    "duration": 295,
    "start_time": "2022-12-06T11:55:20.799Z"
   },
   {
    "duration": 13,
    "start_time": "2022-12-06T11:55:31.179Z"
   },
   {
    "duration": 263,
    "start_time": "2022-12-06T11:56:40.600Z"
   },
   {
    "duration": 377,
    "start_time": "2022-12-06T11:56:50.773Z"
   },
   {
    "duration": 277,
    "start_time": "2022-12-06T11:57:26.735Z"
   },
   {
    "duration": 347,
    "start_time": "2022-12-06T11:57:38.633Z"
   },
   {
    "duration": 284,
    "start_time": "2022-12-06T11:59:25.063Z"
   },
   {
    "duration": 308,
    "start_time": "2022-12-06T11:59:40.441Z"
   },
   {
    "duration": 293,
    "start_time": "2022-12-06T12:00:03.655Z"
   },
   {
    "duration": 334,
    "start_time": "2022-12-06T12:00:18.748Z"
   },
   {
    "duration": 400,
    "start_time": "2022-12-06T12:00:26.023Z"
   },
   {
    "duration": 258,
    "start_time": "2022-12-06T12:00:43.584Z"
   },
   {
    "duration": 288,
    "start_time": "2022-12-06T12:00:48.610Z"
   },
   {
    "duration": 271,
    "start_time": "2022-12-06T12:02:20.330Z"
   },
   {
    "duration": 262,
    "start_time": "2022-12-06T12:02:29.694Z"
   },
   {
    "duration": 272,
    "start_time": "2022-12-06T12:02:40.548Z"
   },
   {
    "duration": 286,
    "start_time": "2022-12-06T12:02:53.318Z"
   },
   {
    "duration": 329,
    "start_time": "2022-12-06T12:03:44.059Z"
   },
   {
    "duration": 301,
    "start_time": "2022-12-06T12:04:04.548Z"
   },
   {
    "duration": 422,
    "start_time": "2022-12-06T12:04:11.583Z"
   },
   {
    "duration": 316,
    "start_time": "2022-12-06T12:04:15.924Z"
   },
   {
    "duration": 317,
    "start_time": "2022-12-06T12:05:18.513Z"
   },
   {
    "duration": 274,
    "start_time": "2022-12-06T12:05:23.604Z"
   },
   {
    "duration": 272,
    "start_time": "2022-12-06T12:05:35.113Z"
   },
   {
    "duration": 307,
    "start_time": "2022-12-06T12:05:45.471Z"
   },
   {
    "duration": 288,
    "start_time": "2022-12-06T12:05:51.473Z"
   },
   {
    "duration": 4,
    "start_time": "2022-12-06T12:06:09.431Z"
   },
   {
    "duration": 5,
    "start_time": "2022-12-06T12:06:17.583Z"
   },
   {
    "duration": 287,
    "start_time": "2022-12-06T12:06:55.753Z"
   },
   {
    "duration": 294,
    "start_time": "2022-12-06T12:07:14.769Z"
   },
   {
    "duration": 280,
    "start_time": "2022-12-06T12:08:06.126Z"
   },
   {
    "duration": 469,
    "start_time": "2022-12-06T12:08:12.220Z"
   },
   {
    "duration": 297,
    "start_time": "2022-12-06T12:08:40.197Z"
   },
   {
    "duration": 298,
    "start_time": "2022-12-06T12:08:50.510Z"
   },
   {
    "duration": 268,
    "start_time": "2022-12-06T12:09:09.788Z"
   },
   {
    "duration": 271,
    "start_time": "2022-12-06T12:09:26.228Z"
   },
   {
    "duration": 248,
    "start_time": "2022-12-06T12:10:02.832Z"
   },
   {
    "duration": 273,
    "start_time": "2022-12-06T12:10:25.946Z"
   },
   {
    "duration": 250,
    "start_time": "2022-12-06T12:10:42.583Z"
   },
   {
    "duration": 259,
    "start_time": "2022-12-06T12:12:58.975Z"
   },
   {
    "duration": 284,
    "start_time": "2022-12-06T12:13:30.144Z"
   },
   {
    "duration": 259,
    "start_time": "2022-12-06T12:14:03.320Z"
   },
   {
    "duration": 483,
    "start_time": "2022-12-06T12:14:23.058Z"
   },
   {
    "duration": 294,
    "start_time": "2022-12-06T12:14:30.761Z"
   },
   {
    "duration": 258,
    "start_time": "2022-12-06T12:25:25.277Z"
   },
   {
    "duration": 278,
    "start_time": "2022-12-06T12:25:36.387Z"
   },
   {
    "duration": 295,
    "start_time": "2022-12-06T12:25:56.756Z"
   },
   {
    "duration": 267,
    "start_time": "2022-12-06T12:26:10.545Z"
   },
   {
    "duration": 325,
    "start_time": "2022-12-06T12:26:19.295Z"
   },
   {
    "duration": 278,
    "start_time": "2022-12-06T12:27:48.411Z"
   },
   {
    "duration": 291,
    "start_time": "2022-12-06T12:28:03.282Z"
   },
   {
    "duration": 292,
    "start_time": "2022-12-06T12:28:12.050Z"
   },
   {
    "duration": 282,
    "start_time": "2022-12-06T12:28:32.333Z"
   },
   {
    "duration": 274,
    "start_time": "2022-12-06T12:28:40.383Z"
   },
   {
    "duration": 525,
    "start_time": "2022-12-06T12:28:44.502Z"
   },
   {
    "duration": 270,
    "start_time": "2022-12-06T12:28:49.804Z"
   },
   {
    "duration": 334,
    "start_time": "2022-12-06T12:28:53.807Z"
   },
   {
    "duration": 295,
    "start_time": "2022-12-06T12:29:01.040Z"
   },
   {
    "duration": 298,
    "start_time": "2022-12-06T12:29:47.970Z"
   },
   {
    "duration": 292,
    "start_time": "2022-12-06T12:29:58.520Z"
   },
   {
    "duration": 273,
    "start_time": "2022-12-06T12:30:04.252Z"
   },
   {
    "duration": 311,
    "start_time": "2022-12-06T12:30:16.241Z"
   },
   {
    "duration": 323,
    "start_time": "2022-12-06T12:31:37.818Z"
   },
   {
    "duration": 277,
    "start_time": "2022-12-06T12:31:46.048Z"
   },
   {
    "duration": 258,
    "start_time": "2022-12-06T12:31:54.492Z"
   },
   {
    "duration": 283,
    "start_time": "2022-12-06T12:32:01.520Z"
   },
   {
    "duration": 546,
    "start_time": "2022-12-06T12:32:14.867Z"
   },
   {
    "duration": 287,
    "start_time": "2022-12-06T12:32:25.691Z"
   },
   {
    "duration": 284,
    "start_time": "2022-12-06T12:32:36.241Z"
   },
   {
    "duration": 252,
    "start_time": "2022-12-06T12:32:41.439Z"
   },
   {
    "duration": 270,
    "start_time": "2022-12-06T12:33:05.966Z"
   },
   {
    "duration": 260,
    "start_time": "2022-12-06T12:34:25.970Z"
   },
   {
    "duration": 264,
    "start_time": "2022-12-06T12:34:31.679Z"
   },
   {
    "duration": 268,
    "start_time": "2022-12-06T12:34:57.773Z"
   },
   {
    "duration": 233,
    "start_time": "2022-12-06T12:35:05.943Z"
   },
   {
    "duration": 282,
    "start_time": "2022-12-06T12:35:16.944Z"
   },
   {
    "duration": 273,
    "start_time": "2022-12-06T12:35:26.251Z"
   },
   {
    "duration": 314,
    "start_time": "2022-12-06T12:35:37.729Z"
   },
   {
    "duration": 273,
    "start_time": "2022-12-06T12:35:50.976Z"
   },
   {
    "duration": 536,
    "start_time": "2022-12-06T12:35:56.352Z"
   },
   {
    "duration": 265,
    "start_time": "2022-12-06T12:36:34.814Z"
   },
   {
    "duration": 259,
    "start_time": "2022-12-06T12:36:42.976Z"
   },
   {
    "duration": 252,
    "start_time": "2022-12-06T12:37:04.895Z"
   },
   {
    "duration": 265,
    "start_time": "2022-12-06T12:37:10.923Z"
   },
   {
    "duration": 283,
    "start_time": "2022-12-06T12:37:19.960Z"
   },
   {
    "duration": 10,
    "start_time": "2022-12-06T13:07:31.778Z"
   },
   {
    "duration": 9,
    "start_time": "2022-12-06T13:07:32.818Z"
   },
   {
    "duration": 260,
    "start_time": "2022-12-06T13:07:34.069Z"
   },
   {
    "duration": 9,
    "start_time": "2022-12-06T13:08:02.809Z"
   },
   {
    "duration": 10,
    "start_time": "2022-12-06T13:08:08.360Z"
   },
   {
    "duration": 257,
    "start_time": "2022-12-06T13:08:09.501Z"
   },
   {
    "duration": 9,
    "start_time": "2022-12-06T13:09:55.777Z"
   },
   {
    "duration": 245,
    "start_time": "2022-12-06T13:10:02.403Z"
   },
   {
    "duration": 12,
    "start_time": "2022-12-06T13:10:35.756Z"
   },
   {
    "duration": 265,
    "start_time": "2022-12-06T13:10:37.180Z"
   },
   {
    "duration": 9,
    "start_time": "2022-12-06T13:11:32.723Z"
   },
   {
    "duration": 6,
    "start_time": "2022-12-06T13:11:39.031Z"
   },
   {
    "duration": 7,
    "start_time": "2022-12-06T13:11:42.902Z"
   },
   {
    "duration": 333,
    "start_time": "2022-12-06T13:12:19.804Z"
   },
   {
    "duration": 8,
    "start_time": "2022-12-06T13:14:14.004Z"
   },
   {
    "duration": 10,
    "start_time": "2022-12-06T13:14:17.185Z"
   },
   {
    "duration": 274,
    "start_time": "2022-12-06T13:14:54.346Z"
   },
   {
    "duration": 7,
    "start_time": "2022-12-06T13:17:31.491Z"
   },
   {
    "duration": 7,
    "start_time": "2022-12-06T13:17:36.663Z"
   },
   {
    "duration": 243,
    "start_time": "2022-12-06T13:19:22.391Z"
   },
   {
    "duration": 530,
    "start_time": "2022-12-06T13:19:55.332Z"
   },
   {
    "duration": 260,
    "start_time": "2022-12-06T13:20:33.031Z"
   },
   {
    "duration": 284,
    "start_time": "2022-12-06T13:21:38.108Z"
   },
   {
    "duration": 250,
    "start_time": "2022-12-06T13:21:49.483Z"
   },
   {
    "duration": 45,
    "start_time": "2022-12-06T13:40:15.200Z"
   },
   {
    "duration": 48,
    "start_time": "2022-12-06T13:40:23.979Z"
   },
   {
    "duration": 13,
    "start_time": "2022-12-06T14:23:18.367Z"
   },
   {
    "duration": 13,
    "start_time": "2022-12-06T14:23:29.849Z"
   },
   {
    "duration": 15,
    "start_time": "2022-12-06T14:23:37.993Z"
   },
   {
    "duration": 18,
    "start_time": "2022-12-06T14:23:54.001Z"
   },
   {
    "duration": 18,
    "start_time": "2022-12-06T14:26:11.197Z"
   },
   {
    "duration": 22,
    "start_time": "2022-12-06T14:26:22.937Z"
   },
   {
    "duration": 17,
    "start_time": "2022-12-06T14:26:32.277Z"
   },
   {
    "duration": 18,
    "start_time": "2022-12-06T14:26:44.095Z"
   },
   {
    "duration": 193,
    "start_time": "2022-12-06T14:28:36.685Z"
   },
   {
    "duration": 182,
    "start_time": "2022-12-06T14:47:07.496Z"
   },
   {
    "duration": 14,
    "start_time": "2022-12-06T14:47:27.651Z"
   },
   {
    "duration": 12,
    "start_time": "2022-12-06T14:48:04.015Z"
   },
   {
    "duration": 13,
    "start_time": "2022-12-06T14:48:53.428Z"
   },
   {
    "duration": 11,
    "start_time": "2022-12-06T14:49:08.036Z"
   },
   {
    "duration": 12,
    "start_time": "2022-12-06T14:49:19.501Z"
   },
   {
    "duration": 23,
    "start_time": "2022-12-06T14:49:24.186Z"
   },
   {
    "duration": 16,
    "start_time": "2022-12-06T14:49:36.661Z"
   },
   {
    "duration": 16,
    "start_time": "2022-12-06T14:49:57.135Z"
   },
   {
    "duration": 15,
    "start_time": "2022-12-06T14:50:01.272Z"
   },
   {
    "duration": 15,
    "start_time": "2022-12-06T14:50:22.558Z"
   },
   {
    "duration": 14,
    "start_time": "2022-12-06T14:50:27.425Z"
   },
   {
    "duration": 12,
    "start_time": "2022-12-06T14:50:44.825Z"
   },
   {
    "duration": 16,
    "start_time": "2022-12-06T14:50:48.800Z"
   },
   {
    "duration": 12,
    "start_time": "2022-12-06T14:51:00.602Z"
   },
   {
    "duration": 17,
    "start_time": "2022-12-06T14:51:10.038Z"
   },
   {
    "duration": 17,
    "start_time": "2022-12-06T14:51:16.173Z"
   },
   {
    "duration": 20,
    "start_time": "2022-12-06T14:52:19.583Z"
   },
   {
    "duration": 15,
    "start_time": "2022-12-06T14:53:29.143Z"
   },
   {
    "duration": 19,
    "start_time": "2022-12-06T14:53:50.794Z"
   },
   {
    "duration": 74,
    "start_time": "2022-12-06T14:57:05.733Z"
   },
   {
    "duration": 15,
    "start_time": "2022-12-06T14:57:21.350Z"
   },
   {
    "duration": 15,
    "start_time": "2022-12-06T14:57:27.153Z"
   },
   {
    "duration": 16,
    "start_time": "2022-12-06T14:57:33.840Z"
   },
   {
    "duration": 73,
    "start_time": "2022-12-06T14:57:37.853Z"
   },
   {
    "duration": 16,
    "start_time": "2022-12-06T14:58:26.455Z"
   },
   {
    "duration": 15,
    "start_time": "2022-12-06T14:58:35.888Z"
   },
   {
    "duration": 13,
    "start_time": "2022-12-06T14:59:32.389Z"
   },
   {
    "duration": 14,
    "start_time": "2022-12-06T14:59:39.858Z"
   },
   {
    "duration": 17,
    "start_time": "2022-12-06T14:59:55.140Z"
   },
   {
    "duration": 19,
    "start_time": "2022-12-06T15:00:15.535Z"
   },
   {
    "duration": 17,
    "start_time": "2022-12-06T15:01:21.985Z"
   },
   {
    "duration": 644,
    "start_time": "2022-12-06T15:02:26.614Z"
   },
   {
    "duration": 16,
    "start_time": "2022-12-06T15:02:32.675Z"
   },
   {
    "duration": 18,
    "start_time": "2022-12-06T15:02:37.771Z"
   },
   {
    "duration": 211,
    "start_time": "2022-12-06T15:03:00.672Z"
   },
   {
    "duration": 521,
    "start_time": "2022-12-06T15:09:53.493Z"
   },
   {
    "duration": 204,
    "start_time": "2022-12-06T15:12:54.208Z"
   },
   {
    "duration": 15,
    "start_time": "2022-12-06T15:13:13.644Z"
   },
   {
    "duration": 16,
    "start_time": "2022-12-06T15:13:41.783Z"
   },
   {
    "duration": 23,
    "start_time": "2022-12-06T15:13:47.220Z"
   },
   {
    "duration": 20,
    "start_time": "2022-12-06T15:14:35.647Z"
   },
   {
    "duration": 12,
    "start_time": "2022-12-06T15:14:51.852Z"
   },
   {
    "duration": 13,
    "start_time": "2022-12-06T15:14:56.858Z"
   },
   {
    "duration": 16,
    "start_time": "2022-12-06T15:15:07.248Z"
   },
   {
    "duration": 13,
    "start_time": "2022-12-06T15:15:10.213Z"
   },
   {
    "duration": 208,
    "start_time": "2022-12-06T15:15:21.244Z"
   },
   {
    "duration": 71,
    "start_time": "2022-12-06T15:16:02.234Z"
   },
   {
    "duration": 618,
    "start_time": "2022-12-06T15:16:11.752Z"
   },
   {
    "duration": 205,
    "start_time": "2022-12-06T15:16:39.556Z"
   },
   {
    "duration": 732,
    "start_time": "2022-12-06T15:16:47.506Z"
   },
   {
    "duration": 678,
    "start_time": "2022-12-06T15:17:07.958Z"
   },
   {
    "duration": 189,
    "start_time": "2022-12-06T15:19:03.655Z"
   },
   {
    "duration": 20,
    "start_time": "2022-12-06T15:21:33.563Z"
   },
   {
    "duration": 1150,
    "start_time": "2022-12-06T15:25:15.953Z"
   },
   {
    "duration": 20,
    "start_time": "2022-12-06T15:25:26.814Z"
   },
   {
    "duration": 14,
    "start_time": "2022-12-06T15:25:49.055Z"
   },
   {
    "duration": 18,
    "start_time": "2022-12-06T15:26:02.971Z"
   },
   {
    "duration": 11,
    "start_time": "2022-12-06T15:26:07.597Z"
   },
   {
    "duration": 12,
    "start_time": "2022-12-06T15:26:12.197Z"
   },
   {
    "duration": 16,
    "start_time": "2022-12-06T15:26:16.341Z"
   },
   {
    "duration": 14,
    "start_time": "2022-12-06T15:26:43.067Z"
   },
   {
    "duration": 13,
    "start_time": "2022-12-06T15:26:50.283Z"
   },
   {
    "duration": 20,
    "start_time": "2022-12-06T15:26:54.998Z"
   },
   {
    "duration": 16,
    "start_time": "2022-12-06T15:27:10.724Z"
   },
   {
    "duration": 10,
    "start_time": "2022-12-06T15:28:46.768Z"
   },
   {
    "duration": 10,
    "start_time": "2022-12-06T15:28:51.706Z"
   },
   {
    "duration": 13,
    "start_time": "2022-12-06T15:28:55.570Z"
   },
   {
    "duration": 1144,
    "start_time": "2022-12-06T15:29:03.328Z"
   },
   {
    "duration": 13,
    "start_time": "2022-12-06T15:29:15.106Z"
   },
   {
    "duration": 11,
    "start_time": "2022-12-06T15:29:19.041Z"
   },
   {
    "duration": 14,
    "start_time": "2022-12-06T15:30:25.277Z"
   },
   {
    "duration": 12,
    "start_time": "2022-12-06T15:31:14.116Z"
   },
   {
    "duration": 15,
    "start_time": "2022-12-06T15:31:23.804Z"
   },
   {
    "duration": 14,
    "start_time": "2022-12-06T15:31:27.640Z"
   },
   {
    "duration": 19,
    "start_time": "2022-12-06T15:31:48.895Z"
   },
   {
    "duration": 81,
    "start_time": "2022-12-06T15:32:53.769Z"
   },
   {
    "duration": 71,
    "start_time": "2022-12-06T15:33:01.428Z"
   },
   {
    "duration": 16,
    "start_time": "2022-12-06T15:33:06.318Z"
   },
   {
    "duration": 18,
    "start_time": "2022-12-06T15:33:16.250Z"
   },
   {
    "duration": 18,
    "start_time": "2022-12-06T15:33:57.389Z"
   },
   {
    "duration": 12,
    "start_time": "2022-12-06T15:34:29.322Z"
   },
   {
    "duration": 20,
    "start_time": "2022-12-06T15:35:08.464Z"
   },
   {
    "duration": 21,
    "start_time": "2022-12-06T15:35:16.656Z"
   },
   {
    "duration": 20,
    "start_time": "2022-12-06T15:35:23.032Z"
   },
   {
    "duration": 7,
    "start_time": "2022-12-06T15:35:25.097Z"
   },
   {
    "duration": 19,
    "start_time": "2022-12-06T15:35:33.759Z"
   },
   {
    "duration": 26,
    "start_time": "2022-12-06T15:35:43.945Z"
   },
   {
    "duration": 462,
    "start_time": "2022-12-06T15:36:11.136Z"
   },
   {
    "duration": 15,
    "start_time": "2022-12-06T15:36:11.600Z"
   },
   {
    "duration": 44,
    "start_time": "2022-12-06T15:36:11.617Z"
   },
   {
    "duration": 4,
    "start_time": "2022-12-06T15:36:11.666Z"
   },
   {
    "duration": 32,
    "start_time": "2022-12-06T15:36:11.672Z"
   },
   {
    "duration": 33,
    "start_time": "2022-12-06T15:36:11.705Z"
   },
   {
    "duration": 42,
    "start_time": "2022-12-06T15:36:11.740Z"
   },
   {
    "duration": 36,
    "start_time": "2022-12-06T15:36:11.784Z"
   },
   {
    "duration": 51,
    "start_time": "2022-12-06T15:36:11.822Z"
   },
   {
    "duration": 17,
    "start_time": "2022-12-06T15:36:11.876Z"
   },
   {
    "duration": 16,
    "start_time": "2022-12-06T15:36:11.895Z"
   },
   {
    "duration": 12,
    "start_time": "2022-12-06T15:36:11.913Z"
   },
   {
    "duration": 13,
    "start_time": "2022-12-06T15:36:11.927Z"
   },
   {
    "duration": 5,
    "start_time": "2022-12-06T15:36:11.942Z"
   },
   {
    "duration": 425,
    "start_time": "2022-12-06T15:36:11.949Z"
   },
   {
    "duration": 10,
    "start_time": "2022-12-06T15:36:12.377Z"
   },
   {
    "duration": 15,
    "start_time": "2022-12-06T15:36:12.388Z"
   },
   {
    "duration": 214,
    "start_time": "2022-12-06T15:36:12.405Z"
   },
   {
    "duration": 5,
    "start_time": "2022-12-06T15:36:12.621Z"
   },
   {
    "duration": 16,
    "start_time": "2022-12-06T15:36:12.627Z"
   },
   {
    "duration": 9,
    "start_time": "2022-12-06T15:36:12.644Z"
   },
   {
    "duration": 25,
    "start_time": "2022-12-06T15:36:12.655Z"
   },
   {
    "duration": 6,
    "start_time": "2022-12-06T15:36:12.682Z"
   },
   {
    "duration": 19,
    "start_time": "2022-12-06T15:36:12.689Z"
   },
   {
    "duration": 271,
    "start_time": "2022-12-06T15:36:12.710Z"
   },
   {
    "duration": 320,
    "start_time": "2022-12-06T15:36:12.983Z"
   },
   {
    "duration": 168,
    "start_time": "2022-12-06T15:36:13.305Z"
   },
   {
    "duration": 167,
    "start_time": "2022-12-06T15:36:13.477Z"
   },
   {
    "duration": 11,
    "start_time": "2022-12-06T15:36:13.645Z"
   },
   {
    "duration": 27,
    "start_time": "2022-12-06T15:36:13.657Z"
   },
   {
    "duration": 146,
    "start_time": "2022-12-06T15:36:13.685Z"
   },
   {
    "duration": 9,
    "start_time": "2022-12-06T15:36:13.832Z"
   },
   {
    "duration": 174,
    "start_time": "2022-12-06T15:36:13.843Z"
   },
   {
    "duration": 12,
    "start_time": "2022-12-06T15:36:14.019Z"
   },
   {
    "duration": 197,
    "start_time": "2022-12-06T15:36:14.033Z"
   },
   {
    "duration": 10,
    "start_time": "2022-12-06T15:36:14.231Z"
   },
   {
    "duration": 163,
    "start_time": "2022-12-06T15:36:14.243Z"
   },
   {
    "duration": 9,
    "start_time": "2022-12-06T15:36:14.408Z"
   },
   {
    "duration": 41,
    "start_time": "2022-12-06T15:36:14.419Z"
   },
   {
    "duration": 52,
    "start_time": "2022-12-06T15:36:14.462Z"
   },
   {
    "duration": 174,
    "start_time": "2022-12-06T15:36:14.515Z"
   },
   {
    "duration": 9,
    "start_time": "2022-12-06T15:36:14.691Z"
   },
   {
    "duration": 10,
    "start_time": "2022-12-06T15:36:14.702Z"
   },
   {
    "duration": 276,
    "start_time": "2022-12-06T15:36:14.713Z"
   },
   {
    "duration": 75,
    "start_time": "2022-12-06T15:36:14.991Z"
   },
   {
    "duration": 0,
    "start_time": "2022-12-06T15:36:15.078Z"
   },
   {
    "duration": 0,
    "start_time": "2022-12-06T15:36:15.079Z"
   },
   {
    "duration": 22,
    "start_time": "2022-12-06T15:36:41.707Z"
   },
   {
    "duration": 6,
    "start_time": "2022-12-06T15:36:45.840Z"
   },
   {
    "duration": 18,
    "start_time": "2022-12-06T15:37:57.891Z"
   },
   {
    "duration": 201,
    "start_time": "2022-12-06T15:38:07.738Z"
   },
   {
    "duration": 283,
    "start_time": "2022-12-06T15:38:42.231Z"
   },
   {
    "duration": 483,
    "start_time": "2022-12-06T15:40:10.429Z"
   },
   {
    "duration": 70,
    "start_time": "2022-12-06T15:44:02.132Z"
   },
   {
    "duration": 82,
    "start_time": "2022-12-06T15:44:34.054Z"
   },
   {
    "duration": 558,
    "start_time": "2022-12-06T15:45:36.205Z"
   },
   {
    "duration": 209,
    "start_time": "2022-12-06T15:46:41.059Z"
   },
   {
    "duration": 98,
    "start_time": "2022-12-06T15:46:50.560Z"
   },
   {
    "duration": 85,
    "start_time": "2022-12-06T15:46:59.032Z"
   },
   {
    "duration": 88,
    "start_time": "2022-12-06T15:47:04.168Z"
   },
   {
    "duration": 12,
    "start_time": "2022-12-06T15:47:19.226Z"
   },
   {
    "duration": 8,
    "start_time": "2022-12-06T15:47:31.390Z"
   },
   {
    "duration": 426,
    "start_time": "2022-12-06T15:47:54.777Z"
   },
   {
    "duration": 73,
    "start_time": "2022-12-06T15:48:17.837Z"
   },
   {
    "duration": 432,
    "start_time": "2022-12-06T15:48:39.048Z"
   },
   {
    "duration": 363,
    "start_time": "2022-12-06T15:48:57.257Z"
   },
   {
    "duration": 22,
    "start_time": "2022-12-06T15:49:15.628Z"
   },
   {
    "duration": 23,
    "start_time": "2022-12-06T15:49:23.770Z"
   },
   {
    "duration": 349,
    "start_time": "2022-12-06T15:49:27.060Z"
   },
   {
    "duration": 7,
    "start_time": "2022-12-06T15:57:23.813Z"
   },
   {
    "duration": 45,
    "start_time": "2022-12-06T15:57:27.132Z"
   },
   {
    "duration": 7,
    "start_time": "2022-12-06T15:57:29.425Z"
   },
   {
    "duration": 9,
    "start_time": "2022-12-06T15:57:36.927Z"
   },
   {
    "duration": 6,
    "start_time": "2022-12-06T15:57:49.670Z"
   },
   {
    "duration": 40,
    "start_time": "2022-12-06T15:59:27.231Z"
   },
   {
    "duration": 7,
    "start_time": "2022-12-06T15:59:28.980Z"
   },
   {
    "duration": 7,
    "start_time": "2022-12-06T15:59:33.747Z"
   },
   {
    "duration": 8,
    "start_time": "2022-12-06T15:59:48.983Z"
   },
   {
    "duration": 36,
    "start_time": "2022-12-06T16:00:14.239Z"
   },
   {
    "duration": 8,
    "start_time": "2022-12-06T16:00:18.803Z"
   },
   {
    "duration": 464,
    "start_time": "2022-12-06T16:01:31.445Z"
   },
   {
    "duration": 15,
    "start_time": "2022-12-06T16:01:31.911Z"
   },
   {
    "duration": 28,
    "start_time": "2022-12-06T16:01:31.928Z"
   },
   {
    "duration": 6,
    "start_time": "2022-12-06T16:01:31.977Z"
   },
   {
    "duration": 18,
    "start_time": "2022-12-06T16:01:31.986Z"
   },
   {
    "duration": 21,
    "start_time": "2022-12-06T16:01:32.007Z"
   },
   {
    "duration": 11,
    "start_time": "2022-12-06T16:01:32.030Z"
   },
   {
    "duration": 10,
    "start_time": "2022-12-06T16:01:32.043Z"
   },
   {
    "duration": 23,
    "start_time": "2022-12-06T16:01:32.055Z"
   },
   {
    "duration": 6,
    "start_time": "2022-12-06T16:01:32.082Z"
   },
   {
    "duration": 10,
    "start_time": "2022-12-06T16:01:32.090Z"
   },
   {
    "duration": 8,
    "start_time": "2022-12-06T16:01:32.102Z"
   },
   {
    "duration": 11,
    "start_time": "2022-12-06T16:01:32.112Z"
   },
   {
    "duration": 7,
    "start_time": "2022-12-06T16:01:32.125Z"
   },
   {
    "duration": 464,
    "start_time": "2022-12-06T16:01:32.133Z"
   },
   {
    "duration": 11,
    "start_time": "2022-12-06T16:01:32.599Z"
   },
   {
    "duration": 19,
    "start_time": "2022-12-06T16:01:32.612Z"
   },
   {
    "duration": 215,
    "start_time": "2022-12-06T16:01:32.632Z"
   },
   {
    "duration": 5,
    "start_time": "2022-12-06T16:01:32.849Z"
   },
   {
    "duration": 31,
    "start_time": "2022-12-06T16:01:32.856Z"
   },
   {
    "duration": 8,
    "start_time": "2022-12-06T16:01:32.889Z"
   },
   {
    "duration": 17,
    "start_time": "2022-12-06T16:01:32.899Z"
   },
   {
    "duration": 8,
    "start_time": "2022-12-06T16:01:32.918Z"
   },
   {
    "duration": 17,
    "start_time": "2022-12-06T16:01:32.928Z"
   },
   {
    "duration": 285,
    "start_time": "2022-12-06T16:01:32.947Z"
   },
   {
    "duration": 337,
    "start_time": "2022-12-06T16:01:33.233Z"
   },
   {
    "duration": 169,
    "start_time": "2022-12-06T16:01:33.572Z"
   },
   {
    "duration": 164,
    "start_time": "2022-12-06T16:01:33.744Z"
   },
   {
    "duration": 14,
    "start_time": "2022-12-06T16:01:33.910Z"
   },
   {
    "duration": 42,
    "start_time": "2022-12-06T16:01:33.925Z"
   },
   {
    "duration": 206,
    "start_time": "2022-12-06T16:01:33.969Z"
   },
   {
    "duration": 12,
    "start_time": "2022-12-06T16:01:34.177Z"
   },
   {
    "duration": 147,
    "start_time": "2022-12-06T16:01:34.191Z"
   },
   {
    "duration": 10,
    "start_time": "2022-12-06T16:01:34.340Z"
   },
   {
    "duration": 197,
    "start_time": "2022-12-06T16:01:34.352Z"
   },
   {
    "duration": 12,
    "start_time": "2022-12-06T16:01:34.551Z"
   },
   {
    "duration": 165,
    "start_time": "2022-12-06T16:01:34.578Z"
   },
   {
    "duration": 11,
    "start_time": "2022-12-06T16:01:34.745Z"
   },
   {
    "duration": 54,
    "start_time": "2022-12-06T16:01:34.758Z"
   },
   {
    "duration": 44,
    "start_time": "2022-12-06T16:01:34.814Z"
   },
   {
    "duration": 186,
    "start_time": "2022-12-06T16:01:34.879Z"
   },
   {
    "duration": 14,
    "start_time": "2022-12-06T16:01:35.067Z"
   },
   {
    "duration": 13,
    "start_time": "2022-12-06T16:01:35.082Z"
   },
   {
    "duration": 272,
    "start_time": "2022-12-06T16:01:35.097Z"
   },
   {
    "duration": 91,
    "start_time": "2022-12-06T16:01:35.371Z"
   },
   {
    "duration": 0,
    "start_time": "2022-12-06T16:01:35.464Z"
   },
   {
    "duration": 0,
    "start_time": "2022-12-06T16:01:35.465Z"
   },
   {
    "duration": 30,
    "start_time": "2022-12-06T16:01:58.055Z"
   },
   {
    "duration": 39,
    "start_time": "2022-12-06T16:02:31.245Z"
   },
   {
    "duration": 43,
    "start_time": "2022-12-06T16:02:34.988Z"
   },
   {
    "duration": 7,
    "start_time": "2022-12-06T16:02:40.186Z"
   },
   {
    "duration": 39,
    "start_time": "2022-12-06T16:02:52.831Z"
   },
   {
    "duration": 7,
    "start_time": "2022-12-06T16:02:54.333Z"
   },
   {
    "duration": 505,
    "start_time": "2022-12-06T16:03:03.773Z"
   },
   {
    "duration": 14,
    "start_time": "2022-12-06T16:03:04.280Z"
   },
   {
    "duration": 54,
    "start_time": "2022-12-06T16:03:04.295Z"
   },
   {
    "duration": 33,
    "start_time": "2022-12-06T16:03:04.351Z"
   },
   {
    "duration": 40,
    "start_time": "2022-12-06T16:03:04.385Z"
   },
   {
    "duration": 36,
    "start_time": "2022-12-06T16:03:04.427Z"
   },
   {
    "duration": 38,
    "start_time": "2022-12-06T16:03:04.464Z"
   },
   {
    "duration": 28,
    "start_time": "2022-12-06T16:03:04.504Z"
   },
   {
    "duration": 34,
    "start_time": "2022-12-06T16:03:04.533Z"
   },
   {
    "duration": 66,
    "start_time": "2022-12-06T16:03:04.569Z"
   },
   {
    "duration": 46,
    "start_time": "2022-12-06T16:03:04.636Z"
   },
   {
    "duration": 55,
    "start_time": "2022-12-06T16:03:04.684Z"
   },
   {
    "duration": 33,
    "start_time": "2022-12-06T16:03:04.741Z"
   },
   {
    "duration": 19,
    "start_time": "2022-12-06T16:03:04.776Z"
   },
   {
    "duration": 450,
    "start_time": "2022-12-06T16:03:04.796Z"
   },
   {
    "duration": 10,
    "start_time": "2022-12-06T16:03:05.248Z"
   },
   {
    "duration": 54,
    "start_time": "2022-12-06T16:03:05.260Z"
   },
   {
    "duration": 201,
    "start_time": "2022-12-06T16:03:05.316Z"
   },
   {
    "duration": 5,
    "start_time": "2022-12-06T16:03:05.518Z"
   },
   {
    "duration": 49,
    "start_time": "2022-12-06T16:03:05.525Z"
   },
   {
    "duration": 48,
    "start_time": "2022-12-06T16:03:05.575Z"
   },
   {
    "duration": 39,
    "start_time": "2022-12-06T16:03:05.625Z"
   },
   {
    "duration": 49,
    "start_time": "2022-12-06T16:03:05.666Z"
   },
   {
    "duration": 47,
    "start_time": "2022-12-06T16:03:05.717Z"
   },
   {
    "duration": 335,
    "start_time": "2022-12-06T16:03:05.766Z"
   },
   {
    "duration": 316,
    "start_time": "2022-12-06T16:03:06.102Z"
   },
   {
    "duration": 165,
    "start_time": "2022-12-06T16:03:06.420Z"
   },
   {
    "duration": 165,
    "start_time": "2022-12-06T16:03:06.588Z"
   },
   {
    "duration": 9,
    "start_time": "2022-12-06T16:03:06.754Z"
   },
   {
    "duration": 21,
    "start_time": "2022-12-06T16:03:06.765Z"
   },
   {
    "duration": 141,
    "start_time": "2022-12-06T16:03:06.787Z"
   },
   {
    "duration": 12,
    "start_time": "2022-12-06T16:03:06.930Z"
   },
   {
    "duration": 141,
    "start_time": "2022-12-06T16:03:06.944Z"
   },
   {
    "duration": 10,
    "start_time": "2022-12-06T16:03:07.087Z"
   },
   {
    "duration": 174,
    "start_time": "2022-12-06T16:03:07.099Z"
   },
   {
    "duration": 9,
    "start_time": "2022-12-06T16:03:07.278Z"
   },
   {
    "duration": 158,
    "start_time": "2022-12-06T16:03:07.288Z"
   },
   {
    "duration": 9,
    "start_time": "2022-12-06T16:03:07.448Z"
   },
   {
    "duration": 97,
    "start_time": "2022-12-06T16:03:07.459Z"
   },
   {
    "duration": 68,
    "start_time": "2022-12-06T16:03:07.558Z"
   },
   {
    "duration": 152,
    "start_time": "2022-12-06T16:03:07.627Z"
   },
   {
    "duration": 9,
    "start_time": "2022-12-06T16:03:07.781Z"
   },
   {
    "duration": 35,
    "start_time": "2022-12-06T16:03:07.791Z"
   },
   {
    "duration": 265,
    "start_time": "2022-12-06T16:03:07.828Z"
   },
   {
    "duration": 41,
    "start_time": "2022-12-06T16:03:08.095Z"
   },
   {
    "duration": 20,
    "start_time": "2022-12-06T16:03:08.138Z"
   },
   {
    "duration": 74,
    "start_time": "2022-12-06T16:03:08.160Z"
   },
   {
    "duration": 667,
    "start_time": "2022-12-06T16:03:51.937Z"
   },
   {
    "duration": 83,
    "start_time": "2022-12-06T16:15:34.879Z"
   },
   {
    "duration": 13,
    "start_time": "2022-12-06T16:15:46.839Z"
   },
   {
    "duration": 12,
    "start_time": "2022-12-06T16:16:07.780Z"
   },
   {
    "duration": 21,
    "start_time": "2022-12-06T16:17:52.596Z"
   },
   {
    "duration": 13,
    "start_time": "2022-12-06T16:19:10.345Z"
   },
   {
    "duration": 17,
    "start_time": "2022-12-06T16:19:19.033Z"
   },
   {
    "duration": 18,
    "start_time": "2022-12-06T16:19:41.986Z"
   },
   {
    "duration": 7,
    "start_time": "2022-12-06T16:19:46.759Z"
   },
   {
    "duration": 699,
    "start_time": "2022-12-06T16:23:37.716Z"
   },
   {
    "duration": 604,
    "start_time": "2022-12-06T16:25:25.043Z"
   },
   {
    "duration": 584,
    "start_time": "2022-12-06T16:25:44.616Z"
   },
   {
    "duration": 13,
    "start_time": "2022-12-06T16:34:33.842Z"
   },
   {
    "duration": 4,
    "start_time": "2022-12-06T16:35:02.338Z"
   },
   {
    "duration": 4,
    "start_time": "2022-12-06T16:35:12.276Z"
   },
   {
    "duration": 12,
    "start_time": "2022-12-06T16:35:34.664Z"
   },
   {
    "duration": 22,
    "start_time": "2022-12-06T16:35:55.182Z"
   },
   {
    "duration": 112,
    "start_time": "2022-12-06T16:37:47.518Z"
   },
   {
    "duration": 18,
    "start_time": "2022-12-06T16:38:19.638Z"
   },
   {
    "duration": 67,
    "start_time": "2022-12-06T16:38:26.822Z"
   },
   {
    "duration": 148,
    "start_time": "2022-12-06T16:38:32.593Z"
   },
   {
    "duration": 586,
    "start_time": "2022-12-06T16:39:37.742Z"
   },
   {
    "duration": 654,
    "start_time": "2022-12-06T16:39:43.179Z"
   },
   {
    "duration": 13,
    "start_time": "2022-12-06T17:07:17.877Z"
   },
   {
    "duration": 4,
    "start_time": "2022-12-06T17:08:10.087Z"
   },
   {
    "duration": 4,
    "start_time": "2022-12-06T17:08:17.786Z"
   },
   {
    "duration": 4,
    "start_time": "2022-12-06T17:08:20.792Z"
   },
   {
    "duration": 5,
    "start_time": "2022-12-06T17:08:38.140Z"
   },
   {
    "duration": 4,
    "start_time": "2022-12-06T17:08:42.196Z"
   },
   {
    "duration": 5,
    "start_time": "2022-12-06T17:08:59.970Z"
   },
   {
    "duration": 4,
    "start_time": "2022-12-06T17:09:06.743Z"
   },
   {
    "duration": 6,
    "start_time": "2022-12-06T17:09:16.263Z"
   },
   {
    "duration": 4,
    "start_time": "2022-12-06T17:09:41.780Z"
   },
   {
    "duration": 5,
    "start_time": "2022-12-06T17:09:43.339Z"
   },
   {
    "duration": 8,
    "start_time": "2022-12-06T17:10:05.522Z"
   },
   {
    "duration": 6,
    "start_time": "2022-12-06T17:10:09.428Z"
   },
   {
    "duration": 6,
    "start_time": "2022-12-06T17:10:19.669Z"
   },
   {
    "duration": 7,
    "start_time": "2022-12-06T17:10:36.070Z"
   },
   {
    "duration": 8,
    "start_time": "2022-12-06T17:11:37.054Z"
   },
   {
    "duration": 9,
    "start_time": "2022-12-06T17:11:43.883Z"
   },
   {
    "duration": 7,
    "start_time": "2022-12-06T17:12:18.596Z"
   },
   {
    "duration": 5,
    "start_time": "2022-12-06T17:12:27.416Z"
   },
   {
    "duration": 4,
    "start_time": "2022-12-06T17:12:39.341Z"
   },
   {
    "duration": 365,
    "start_time": "2022-12-06T17:13:54.006Z"
   },
   {
    "duration": 6,
    "start_time": "2022-12-06T17:16:35.234Z"
   },
   {
    "duration": 7,
    "start_time": "2022-12-06T17:23:30.604Z"
   },
   {
    "duration": 4,
    "start_time": "2022-12-06T17:23:38.079Z"
   },
   {
    "duration": 3,
    "start_time": "2022-12-06T17:23:43.097Z"
   },
   {
    "duration": 5,
    "start_time": "2022-12-06T17:24:09.167Z"
   },
   {
    "duration": 5,
    "start_time": "2022-12-06T17:36:09.960Z"
   },
   {
    "duration": 5,
    "start_time": "2022-12-06T17:36:14.424Z"
   },
   {
    "duration": 5,
    "start_time": "2022-12-06T17:36:21.546Z"
   },
   {
    "duration": 5,
    "start_time": "2022-12-06T17:37:05.175Z"
   },
   {
    "duration": 534,
    "start_time": "2022-12-07T04:49:18.216Z"
   },
   {
    "duration": 13,
    "start_time": "2022-12-07T04:49:18.751Z"
   },
   {
    "duration": 14,
    "start_time": "2022-12-07T04:49:18.766Z"
   },
   {
    "duration": 4,
    "start_time": "2022-12-07T04:49:18.781Z"
   },
   {
    "duration": 11,
    "start_time": "2022-12-07T04:49:18.786Z"
   },
   {
    "duration": 24,
    "start_time": "2022-12-07T04:49:18.798Z"
   },
   {
    "duration": 5,
    "start_time": "2022-12-07T04:49:18.823Z"
   },
   {
    "duration": 9,
    "start_time": "2022-12-07T04:49:18.829Z"
   },
   {
    "duration": 8,
    "start_time": "2022-12-07T04:49:18.839Z"
   },
   {
    "duration": 6,
    "start_time": "2022-12-07T04:49:18.849Z"
   },
   {
    "duration": 13,
    "start_time": "2022-12-07T04:49:18.856Z"
   },
   {
    "duration": 7,
    "start_time": "2022-12-07T04:49:18.871Z"
   },
   {
    "duration": 8,
    "start_time": "2022-12-07T04:49:18.879Z"
   },
   {
    "duration": 6,
    "start_time": "2022-12-07T04:49:18.888Z"
   },
   {
    "duration": 560,
    "start_time": "2022-12-07T04:49:18.896Z"
   },
   {
    "duration": 11,
    "start_time": "2022-12-07T04:49:19.457Z"
   },
   {
    "duration": 17,
    "start_time": "2022-12-07T04:49:19.469Z"
   },
   {
    "duration": 193,
    "start_time": "2022-12-07T04:49:19.487Z"
   },
   {
    "duration": 5,
    "start_time": "2022-12-07T04:49:19.682Z"
   },
   {
    "duration": 15,
    "start_time": "2022-12-07T04:49:19.688Z"
   },
   {
    "duration": 16,
    "start_time": "2022-12-07T04:49:19.705Z"
   },
   {
    "duration": 11,
    "start_time": "2022-12-07T04:49:19.722Z"
   },
   {
    "duration": 6,
    "start_time": "2022-12-07T04:49:19.734Z"
   },
   {
    "duration": 16,
    "start_time": "2022-12-07T04:49:19.741Z"
   },
   {
    "duration": 265,
    "start_time": "2022-12-07T04:49:19.759Z"
   },
   {
    "duration": 303,
    "start_time": "2022-12-07T04:49:20.026Z"
   },
   {
    "duration": 176,
    "start_time": "2022-12-07T04:49:20.330Z"
   },
   {
    "duration": 160,
    "start_time": "2022-12-07T04:49:20.509Z"
   },
   {
    "duration": 9,
    "start_time": "2022-12-07T04:49:20.670Z"
   },
   {
    "duration": 10,
    "start_time": "2022-12-07T04:49:20.680Z"
   },
   {
    "duration": 138,
    "start_time": "2022-12-07T04:49:20.691Z"
   },
   {
    "duration": 9,
    "start_time": "2022-12-07T04:49:20.830Z"
   },
   {
    "duration": 140,
    "start_time": "2022-12-07T04:49:20.840Z"
   },
   {
    "duration": 8,
    "start_time": "2022-12-07T04:49:20.982Z"
   },
   {
    "duration": 170,
    "start_time": "2022-12-07T04:49:20.992Z"
   },
   {
    "duration": 8,
    "start_time": "2022-12-07T04:49:21.164Z"
   },
   {
    "duration": 147,
    "start_time": "2022-12-07T04:49:21.174Z"
   },
   {
    "duration": 9,
    "start_time": "2022-12-07T04:49:21.323Z"
   },
   {
    "duration": 39,
    "start_time": "2022-12-07T04:49:21.333Z"
   },
   {
    "duration": 61,
    "start_time": "2022-12-07T04:49:21.374Z"
   },
   {
    "duration": 179,
    "start_time": "2022-12-07T04:49:21.436Z"
   },
   {
    "duration": 9,
    "start_time": "2022-12-07T04:49:21.621Z"
   },
   {
    "duration": 16,
    "start_time": "2022-12-07T04:49:21.632Z"
   },
   {
    "duration": 249,
    "start_time": "2022-12-07T04:49:21.649Z"
   },
   {
    "duration": 637,
    "start_time": "2022-12-07T04:49:21.899Z"
   },
   {
    "duration": 587,
    "start_time": "2022-12-07T04:49:22.537Z"
   },
   {
    "duration": 481,
    "start_time": "2022-12-07T04:49:23.126Z"
   },
   {
    "duration": 6,
    "start_time": "2022-12-07T04:49:23.608Z"
   },
   {
    "duration": 468,
    "start_time": "2022-12-07T04:49:23.615Z"
   },
   {
    "duration": 6,
    "start_time": "2022-12-07T04:49:24.084Z"
   },
   {
    "duration": 8,
    "start_time": "2022-12-07T04:49:24.091Z"
   },
   {
    "duration": 48,
    "start_time": "2022-12-07T06:05:32.557Z"
   },
   {
    "duration": 417,
    "start_time": "2022-12-07T06:05:37.564Z"
   },
   {
    "duration": 211,
    "start_time": "2022-12-07T06:05:37.982Z"
   },
   {
    "duration": 15,
    "start_time": "2022-12-07T06:05:38.195Z"
   },
   {
    "duration": 17,
    "start_time": "2022-12-07T06:05:38.212Z"
   },
   {
    "duration": 4,
    "start_time": "2022-12-07T06:05:38.230Z"
   },
   {
    "duration": 18,
    "start_time": "2022-12-07T06:05:38.236Z"
   },
   {
    "duration": 14,
    "start_time": "2022-12-07T06:05:38.255Z"
   },
   {
    "duration": 9,
    "start_time": "2022-12-07T06:05:38.270Z"
   },
   {
    "duration": 6,
    "start_time": "2022-12-07T06:05:38.281Z"
   },
   {
    "duration": 6,
    "start_time": "2022-12-07T06:05:38.289Z"
   },
   {
    "duration": 5,
    "start_time": "2022-12-07T06:05:38.297Z"
   },
   {
    "duration": 7,
    "start_time": "2022-12-07T06:05:38.303Z"
   },
   {
    "duration": 8,
    "start_time": "2022-12-07T06:05:38.312Z"
   },
   {
    "duration": 33,
    "start_time": "2022-12-07T06:05:38.322Z"
   },
   {
    "duration": 6,
    "start_time": "2022-12-07T06:05:38.357Z"
   },
   {
    "duration": 610,
    "start_time": "2022-12-07T06:05:38.365Z"
   },
   {
    "duration": 10,
    "start_time": "2022-12-07T06:05:38.977Z"
   },
   {
    "duration": 17,
    "start_time": "2022-12-07T06:05:38.989Z"
   },
   {
    "duration": 237,
    "start_time": "2022-12-07T06:05:39.008Z"
   },
   {
    "duration": 5,
    "start_time": "2022-12-07T06:05:39.251Z"
   },
   {
    "duration": 22,
    "start_time": "2022-12-07T06:05:39.259Z"
   },
   {
    "duration": 26,
    "start_time": "2022-12-07T06:05:39.283Z"
   },
   {
    "duration": 26,
    "start_time": "2022-12-07T06:05:39.311Z"
   },
   {
    "duration": 16,
    "start_time": "2022-12-07T06:05:39.339Z"
   },
   {
    "duration": 21,
    "start_time": "2022-12-07T06:05:39.357Z"
   },
   {
    "duration": 318,
    "start_time": "2022-12-07T06:05:39.380Z"
   },
   {
    "duration": 374,
    "start_time": "2022-12-07T06:05:39.700Z"
   },
   {
    "duration": 192,
    "start_time": "2022-12-07T06:05:40.077Z"
   },
   {
    "duration": 175,
    "start_time": "2022-12-07T06:05:40.271Z"
   },
   {
    "duration": 9,
    "start_time": "2022-12-07T06:05:40.450Z"
   },
   {
    "duration": 11,
    "start_time": "2022-12-07T06:05:40.460Z"
   },
   {
    "duration": 173,
    "start_time": "2022-12-07T06:05:40.472Z"
   },
   {
    "duration": 11,
    "start_time": "2022-12-07T06:05:40.650Z"
   },
   {
    "duration": 164,
    "start_time": "2022-12-07T06:05:40.663Z"
   },
   {
    "duration": 10,
    "start_time": "2022-12-07T06:05:40.828Z"
   },
   {
    "duration": 202,
    "start_time": "2022-12-07T06:05:40.840Z"
   },
   {
    "duration": 13,
    "start_time": "2022-12-07T06:05:41.043Z"
   },
   {
    "duration": 170,
    "start_time": "2022-12-07T06:05:41.058Z"
   },
   {
    "duration": 9,
    "start_time": "2022-12-07T06:05:41.230Z"
   },
   {
    "duration": 38,
    "start_time": "2022-12-07T06:05:41.251Z"
   },
   {
    "duration": 38,
    "start_time": "2022-12-07T06:05:41.290Z"
   },
   {
    "duration": 193,
    "start_time": "2022-12-07T06:05:41.330Z"
   },
   {
    "duration": 9,
    "start_time": "2022-12-07T06:05:41.525Z"
   },
   {
    "duration": 19,
    "start_time": "2022-12-07T06:05:41.536Z"
   },
   {
    "duration": 273,
    "start_time": "2022-12-07T06:05:41.556Z"
   },
   {
    "duration": 701,
    "start_time": "2022-12-07T06:05:41.831Z"
   },
   {
    "duration": 600,
    "start_time": "2022-12-07T06:05:42.534Z"
   },
   {
    "duration": 516,
    "start_time": "2022-12-07T06:05:43.137Z"
   },
   {
    "duration": 6,
    "start_time": "2022-12-07T06:05:43.655Z"
   },
   {
    "duration": 471,
    "start_time": "2022-12-07T06:05:43.663Z"
   },
   {
    "duration": 6,
    "start_time": "2022-12-07T06:05:44.135Z"
   },
   {
    "duration": 11,
    "start_time": "2022-12-07T06:05:44.142Z"
   },
   {
    "duration": 354,
    "start_time": "2022-12-07T06:05:54.565Z"
   },
   {
    "duration": 294,
    "start_time": "2022-12-07T06:06:06.518Z"
   },
   {
    "duration": 300,
    "start_time": "2022-12-07T06:06:23.253Z"
   },
   {
    "duration": 9,
    "start_time": "2022-12-07T06:07:27.323Z"
   },
   {
    "duration": 16,
    "start_time": "2022-12-07T06:07:37.703Z"
   },
   {
    "duration": 311,
    "start_time": "2022-12-07T06:07:49.991Z"
   },
   {
    "duration": 295,
    "start_time": "2022-12-07T06:08:03.847Z"
   },
   {
    "duration": 280,
    "start_time": "2022-12-07T06:08:15.424Z"
   },
   {
    "duration": 231,
    "start_time": "2022-12-07T06:10:54.062Z"
   },
   {
    "duration": 300,
    "start_time": "2022-12-07T06:11:18.267Z"
   },
   {
    "duration": 68,
    "start_time": "2022-12-07T06:16:15.573Z"
   },
   {
    "duration": 279,
    "start_time": "2022-12-07T06:16:21.491Z"
   },
   {
    "duration": 213,
    "start_time": "2022-12-07T06:18:22.449Z"
   },
   {
    "duration": 291,
    "start_time": "2022-12-07T06:30:44.863Z"
   },
   {
    "duration": 190,
    "start_time": "2022-12-07T06:31:14.816Z"
   },
   {
    "duration": 231,
    "start_time": "2022-12-07T06:31:43.060Z"
   },
   {
    "duration": 233,
    "start_time": "2022-12-07T06:32:39.777Z"
   },
   {
    "duration": 258,
    "start_time": "2022-12-07T06:32:49.604Z"
   },
   {
    "duration": 73,
    "start_time": "2022-12-07T06:34:00.540Z"
   },
   {
    "duration": 618,
    "start_time": "2022-12-07T06:34:31.340Z"
   },
   {
    "duration": 12,
    "start_time": "2022-12-07T06:34:46.715Z"
   },
   {
    "duration": 138,
    "start_time": "2022-12-07T06:37:33.206Z"
   },
   {
    "duration": 379,
    "start_time": "2022-12-07T06:37:44.821Z"
   },
   {
    "duration": 281,
    "start_time": "2022-12-07T06:38:01.236Z"
   },
   {
    "duration": 291,
    "start_time": "2022-12-07T06:38:16.964Z"
   },
   {
    "duration": 269,
    "start_time": "2022-12-07T06:38:29.933Z"
   },
   {
    "duration": 281,
    "start_time": "2022-12-07T06:39:17.491Z"
   },
   {
    "duration": 321,
    "start_time": "2022-12-07T06:39:30.547Z"
   },
   {
    "duration": 382,
    "start_time": "2022-12-07T06:39:37.390Z"
   },
   {
    "duration": 268,
    "start_time": "2022-12-07T06:40:08.585Z"
   },
   {
    "duration": 287,
    "start_time": "2022-12-07T06:42:00.514Z"
   },
   {
    "duration": 255,
    "start_time": "2022-12-07T06:42:05.482Z"
   },
   {
    "duration": 258,
    "start_time": "2022-12-07T06:42:21.694Z"
   },
   {
    "duration": 382,
    "start_time": "2022-12-07T06:43:38.642Z"
   },
   {
    "duration": 279,
    "start_time": "2022-12-07T06:45:18.045Z"
   },
   {
    "duration": 167,
    "start_time": "2022-12-07T06:47:29.881Z"
   },
   {
    "duration": 185,
    "start_time": "2022-12-07T06:49:27.448Z"
   },
   {
    "duration": 176,
    "start_time": "2022-12-07T06:49:35.666Z"
   },
   {
    "duration": 183,
    "start_time": "2022-12-07T06:50:42.563Z"
   },
   {
    "duration": 154,
    "start_time": "2022-12-07T06:51:42.500Z"
   },
   {
    "duration": 213,
    "start_time": "2022-12-07T06:52:09.674Z"
   },
   {
    "duration": 193,
    "start_time": "2022-12-07T06:52:26.660Z"
   },
   {
    "duration": 197,
    "start_time": "2022-12-07T06:52:46.616Z"
   },
   {
    "duration": 313,
    "start_time": "2022-12-07T06:56:03.470Z"
   },
   {
    "duration": 438,
    "start_time": "2022-12-07T06:56:17.095Z"
   },
   {
    "duration": 336,
    "start_time": "2022-12-07T06:57:39.483Z"
   },
   {
    "duration": 737,
    "start_time": "2022-12-07T07:23:16.273Z"
   },
   {
    "duration": 708,
    "start_time": "2022-12-07T07:23:37.395Z"
   },
   {
    "duration": 646,
    "start_time": "2022-12-07T07:24:35.443Z"
   },
   {
    "duration": 729,
    "start_time": "2022-12-07T07:24:47.776Z"
   },
   {
    "duration": 630,
    "start_time": "2022-12-07T07:25:03.949Z"
   },
   {
    "duration": 624,
    "start_time": "2022-12-07T07:25:13.872Z"
   },
   {
    "duration": 669,
    "start_time": "2022-12-07T07:25:35.756Z"
   },
   {
    "duration": 804,
    "start_time": "2022-12-07T07:25:49.454Z"
   },
   {
    "duration": 71,
    "start_time": "2022-12-07T07:26:15.817Z"
   },
   {
    "duration": 684,
    "start_time": "2022-12-07T07:26:20.092Z"
   },
   {
    "duration": 378,
    "start_time": "2022-12-07T07:26:34.681Z"
   },
   {
    "duration": 681,
    "start_time": "2022-12-07T07:26:41.618Z"
   },
   {
    "duration": 646,
    "start_time": "2022-12-07T07:27:11.989Z"
   },
   {
    "duration": 635,
    "start_time": "2022-12-07T07:27:56.299Z"
   },
   {
    "duration": 691,
    "start_time": "2022-12-07T07:28:31.553Z"
   },
   {
    "duration": 573,
    "start_time": "2022-12-07T07:29:17.687Z"
   },
   {
    "duration": 34,
    "start_time": "2022-12-07T07:44:45.046Z"
   },
   {
    "duration": 36,
    "start_time": "2022-12-07T07:45:32.569Z"
   },
   {
    "duration": 32,
    "start_time": "2022-12-07T07:48:27.120Z"
   },
   {
    "duration": 48,
    "start_time": "2022-12-07T07:53:12.718Z"
   },
   {
    "duration": 15,
    "start_time": "2022-12-07T08:04:31.823Z"
   },
   {
    "duration": 23,
    "start_time": "2022-12-07T08:05:51.879Z"
   },
   {
    "duration": 43,
    "start_time": "2022-12-07T08:06:00.226Z"
   },
   {
    "duration": 125,
    "start_time": "2022-12-07T08:06:04.792Z"
   },
   {
    "duration": 15,
    "start_time": "2022-12-07T08:07:05.409Z"
   },
   {
    "duration": 14,
    "start_time": "2022-12-07T08:07:13.747Z"
   },
   {
    "duration": 15,
    "start_time": "2022-12-07T08:07:57.892Z"
   },
   {
    "duration": 18,
    "start_time": "2022-12-07T08:08:24.403Z"
   },
   {
    "duration": 17,
    "start_time": "2022-12-07T08:08:43.779Z"
   },
   {
    "duration": 14,
    "start_time": "2022-12-07T08:09:06.814Z"
   },
   {
    "duration": 15,
    "start_time": "2022-12-07T08:15:47.666Z"
   },
   {
    "duration": 1195,
    "start_time": "2022-12-07T08:30:53.038Z"
   },
   {
    "duration": 83,
    "start_time": "2022-12-07T08:30:54.236Z"
   },
   {
    "duration": 16,
    "start_time": "2022-12-07T08:30:54.320Z"
   },
   {
    "duration": 22,
    "start_time": "2022-12-07T08:30:54.338Z"
   },
   {
    "duration": 5,
    "start_time": "2022-12-07T08:30:54.363Z"
   },
   {
    "duration": 20,
    "start_time": "2022-12-07T08:30:54.370Z"
   },
   {
    "duration": 16,
    "start_time": "2022-12-07T08:30:54.392Z"
   },
   {
    "duration": 8,
    "start_time": "2022-12-07T08:30:54.410Z"
   },
   {
    "duration": 31,
    "start_time": "2022-12-07T08:30:54.420Z"
   },
   {
    "duration": 9,
    "start_time": "2022-12-07T08:30:54.456Z"
   },
   {
    "duration": 10,
    "start_time": "2022-12-07T08:30:54.467Z"
   },
   {
    "duration": 10,
    "start_time": "2022-12-07T08:30:54.479Z"
   },
   {
    "duration": 9,
    "start_time": "2022-12-07T08:30:54.491Z"
   },
   {
    "duration": 10,
    "start_time": "2022-12-07T08:30:54.501Z"
   },
   {
    "duration": 7,
    "start_time": "2022-12-07T08:30:54.512Z"
   },
   {
    "duration": 246,
    "start_time": "2022-12-07T08:30:54.520Z"
   },
   {
    "duration": 14,
    "start_time": "2022-12-07T08:30:54.768Z"
   },
   {
    "duration": 22,
    "start_time": "2022-12-07T08:30:54.784Z"
   },
   {
    "duration": 256,
    "start_time": "2022-12-07T08:30:54.808Z"
   },
   {
    "duration": 5,
    "start_time": "2022-12-07T08:30:55.066Z"
   },
   {
    "duration": 16,
    "start_time": "2022-12-07T08:30:55.073Z"
   },
   {
    "duration": 8,
    "start_time": "2022-12-07T08:30:55.091Z"
   },
   {
    "duration": 12,
    "start_time": "2022-12-07T08:30:55.101Z"
   },
   {
    "duration": 39,
    "start_time": "2022-12-07T08:30:55.115Z"
   },
   {
    "duration": 17,
    "start_time": "2022-12-07T08:30:55.156Z"
   },
   {
    "duration": 369,
    "start_time": "2022-12-07T08:30:55.175Z"
   },
   {
    "duration": 297,
    "start_time": "2022-12-07T08:30:55.546Z"
   },
   {
    "duration": 199,
    "start_time": "2022-12-07T08:30:55.847Z"
   },
   {
    "duration": 226,
    "start_time": "2022-12-07T08:30:56.050Z"
   },
   {
    "duration": 13,
    "start_time": "2022-12-07T08:30:56.278Z"
   },
   {
    "duration": 12,
    "start_time": "2022-12-07T08:30:56.293Z"
   },
   {
    "duration": 243,
    "start_time": "2022-12-07T08:30:56.307Z"
   },
   {
    "duration": 11,
    "start_time": "2022-12-07T08:30:56.552Z"
   },
   {
    "duration": 172,
    "start_time": "2022-12-07T08:30:56.565Z"
   },
   {
    "duration": 19,
    "start_time": "2022-12-07T08:30:56.738Z"
   },
   {
    "duration": 304,
    "start_time": "2022-12-07T08:30:56.758Z"
   },
   {
    "duration": 10,
    "start_time": "2022-12-07T08:30:57.064Z"
   },
   {
    "duration": 196,
    "start_time": "2022-12-07T08:30:57.076Z"
   },
   {
    "duration": 10,
    "start_time": "2022-12-07T08:30:57.274Z"
   },
   {
    "duration": 43,
    "start_time": "2022-12-07T08:30:57.286Z"
   },
   {
    "duration": 42,
    "start_time": "2022-12-07T08:30:57.351Z"
   },
   {
    "duration": 10,
    "start_time": "2022-12-07T08:30:57.395Z"
   },
   {
    "duration": 12,
    "start_time": "2022-12-07T08:30:57.407Z"
   },
   {
    "duration": 333,
    "start_time": "2022-12-07T08:30:57.421Z"
   },
   {
    "duration": 675,
    "start_time": "2022-12-07T08:30:57.757Z"
   },
   {
    "duration": 687,
    "start_time": "2022-12-07T08:30:58.433Z"
   },
   {
    "duration": 601,
    "start_time": "2022-12-07T08:30:59.122Z"
   },
   {
    "duration": 28,
    "start_time": "2022-12-07T08:30:59.724Z"
   },
   {
    "duration": 20,
    "start_time": "2022-12-07T08:30:59.755Z"
   },
   {
    "duration": 34,
    "start_time": "2022-12-07T08:30:59.777Z"
   },
   {
    "duration": 15,
    "start_time": "2022-12-07T08:30:59.814Z"
   },
   {
    "duration": 24,
    "start_time": "2022-12-07T08:30:59.831Z"
   },
   {
    "duration": 17,
    "start_time": "2022-12-07T08:30:59.857Z"
   },
   {
    "duration": 9,
    "start_time": "2022-12-07T08:30:59.876Z"
   }
  ],
  "kernelspec": {
   "display_name": "Python 3 (ipykernel)",
   "language": "python",
   "name": "python3"
  },
  "language_info": {
   "codemirror_mode": {
    "name": "ipython",
    "version": 3
   },
   "file_extension": ".py",
   "mimetype": "text/x-python",
   "name": "python",
   "nbconvert_exporter": "python",
   "pygments_lexer": "ipython3",
   "version": "3.9.5"
  },
  "toc": {
   "base_numbering": 1,
   "nav_menu": {},
   "number_sections": true,
   "sideBar": true,
   "skip_h1_title": true,
   "title_cell": "Table of Contents",
   "title_sidebar": "Contents",
   "toc_cell": false,
   "toc_position": {},
   "toc_section_display": true,
   "toc_window_display": false
  }
 },
 "nbformat": 4,
 "nbformat_minor": 2
}
