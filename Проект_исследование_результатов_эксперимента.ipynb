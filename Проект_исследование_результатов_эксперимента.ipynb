{
 "cells": [
  {
   "cell_type": "markdown",
   "id": "2efecb44",
   "metadata": {},
   "source": [
    "# Сборный проект"
   ]
  },
  {
   "cell_type": "markdown",
   "id": "9d851d9c",
   "metadata": {},
   "source": [
    "**Цель исследования:**\n",
    "1. Изучить воронку продаж.\n",
    "<br>\n",
    "2. Анализ результатов A/A/B-эксперимента.\n",
    "\n",
    "**Ход исследования:**\n",
    " 1. Подготовка и предобработка данных.\n",
    " 2. Построение и изучение воронки продаж.\n",
    " 3. Проверка статистических гипотез"
   ]
  },
  {
   "cell_type": "markdown",
   "id": "a3983aa3",
   "metadata": {},
   "source": [
    "## Шаг 1"
   ]
  },
  {
   "cell_type": "code",
   "execution_count": 1,
   "id": "a0a4d5dc",
   "metadata": {},
   "outputs": [],
   "source": [
    "import pandas as pd\n",
    "import datetime as dt\n",
    "import numpy as np\n",
    "import matplotlib.pyplot as plt\n",
    "from pandas.plotting import register_matplotlib_converters\n",
    "import math as mth\n",
    "import scipy.stats as st"
   ]
  },
  {
   "cell_type": "code",
   "execution_count": 2,
   "id": "3a27377d",
   "metadata": {},
   "outputs": [],
   "source": [
    "df = pd.read_csv('/datasets/logs_exp.csv', sep =\"\\t\")"
   ]
  },
  {
   "cell_type": "code",
   "execution_count": 3,
   "id": "34ad300d",
   "metadata": {},
   "outputs": [
    {
     "data": {
      "text/html": [
       "<div>\n",
       "<style scoped>\n",
       "    .dataframe tbody tr th:only-of-type {\n",
       "        vertical-align: middle;\n",
       "    }\n",
       "\n",
       "    .dataframe tbody tr th {\n",
       "        vertical-align: top;\n",
       "    }\n",
       "\n",
       "    .dataframe thead th {\n",
       "        text-align: right;\n",
       "    }\n",
       "</style>\n",
       "<table border=\"1\" class=\"dataframe\">\n",
       "  <thead>\n",
       "    <tr style=\"text-align: right;\">\n",
       "      <th></th>\n",
       "      <th>EventName</th>\n",
       "      <th>DeviceIDHash</th>\n",
       "      <th>EventTimestamp</th>\n",
       "      <th>ExpId</th>\n",
       "    </tr>\n",
       "  </thead>\n",
       "  <tbody>\n",
       "    <tr>\n",
       "      <th>0</th>\n",
       "      <td>MainScreenAppear</td>\n",
       "      <td>4575588528974610257</td>\n",
       "      <td>1564029816</td>\n",
       "      <td>246</td>\n",
       "    </tr>\n",
       "    <tr>\n",
       "      <th>1</th>\n",
       "      <td>MainScreenAppear</td>\n",
       "      <td>7416695313311560658</td>\n",
       "      <td>1564053102</td>\n",
       "      <td>246</td>\n",
       "    </tr>\n",
       "    <tr>\n",
       "      <th>2</th>\n",
       "      <td>PaymentScreenSuccessful</td>\n",
       "      <td>3518123091307005509</td>\n",
       "      <td>1564054127</td>\n",
       "      <td>248</td>\n",
       "    </tr>\n",
       "    <tr>\n",
       "      <th>3</th>\n",
       "      <td>CartScreenAppear</td>\n",
       "      <td>3518123091307005509</td>\n",
       "      <td>1564054127</td>\n",
       "      <td>248</td>\n",
       "    </tr>\n",
       "    <tr>\n",
       "      <th>4</th>\n",
       "      <td>PaymentScreenSuccessful</td>\n",
       "      <td>6217807653094995999</td>\n",
       "      <td>1564055322</td>\n",
       "      <td>248</td>\n",
       "    </tr>\n",
       "  </tbody>\n",
       "</table>\n",
       "</div>"
      ],
      "text/plain": [
       "                 EventName         DeviceIDHash  EventTimestamp  ExpId\n",
       "0         MainScreenAppear  4575588528974610257      1564029816    246\n",
       "1         MainScreenAppear  7416695313311560658      1564053102    246\n",
       "2  PaymentScreenSuccessful  3518123091307005509      1564054127    248\n",
       "3         CartScreenAppear  3518123091307005509      1564054127    248\n",
       "4  PaymentScreenSuccessful  6217807653094995999      1564055322    248"
      ]
     },
     "execution_count": 3,
     "metadata": {},
     "output_type": "execute_result"
    }
   ],
   "source": [
    "df.head()"
   ]
  },
  {
   "cell_type": "code",
   "execution_count": 4,
   "id": "99902f7c",
   "metadata": {
    "scrolled": true
   },
   "outputs": [
    {
     "name": "stdout",
     "output_type": "stream",
     "text": [
      "<class 'pandas.core.frame.DataFrame'>\n",
      "RangeIndex: 244126 entries, 0 to 244125\n",
      "Data columns (total 4 columns):\n",
      " #   Column          Non-Null Count   Dtype \n",
      "---  ------          --------------   ----- \n",
      " 0   EventName       244126 non-null  object\n",
      " 1   DeviceIDHash    244126 non-null  int64 \n",
      " 2   EventTimestamp  244126 non-null  int64 \n",
      " 3   ExpId           244126 non-null  int64 \n",
      "dtypes: int64(3), object(1)\n",
      "memory usage: 7.5+ MB\n"
     ]
    }
   ],
   "source": [
    "df.info()"
   ]
  },
  {
   "cell_type": "markdown",
   "id": "35f4ccef",
   "metadata": {},
   "source": [
    "## Шаг 2"
   ]
  },
  {
   "cell_type": "code",
   "execution_count": 5,
   "id": "d1a45837",
   "metadata": {},
   "outputs": [],
   "source": [
    "#Переименуем названия столбцов\n",
    "df.rename(columns={'EventName':'event_name', 'DeviceIDHash':'device_id', 'EventTimestamp':'event_dt', 'ExpId':'group'}, inplace = True)"
   ]
  },
  {
   "cell_type": "code",
   "execution_count": 6,
   "id": "5e26e91a",
   "metadata": {},
   "outputs": [],
   "source": [
    "#Изменим тип в колонке с датой и временем\n",
    "df['event_dt'] = pd.to_datetime(df['event_dt'], unit='s')"
   ]
  },
  {
   "cell_type": "code",
   "execution_count": 7,
   "id": "ede158bd",
   "metadata": {},
   "outputs": [],
   "source": [
    "#Добавим столбец с датой\n",
    "df['date'] = pd.DatetimeIndex(df['event_dt']).date"
   ]
  },
  {
   "cell_type": "code",
   "execution_count": 8,
   "id": "2d344050",
   "metadata": {},
   "outputs": [
    {
     "data": {
      "text/plain": [
       "413"
      ]
     },
     "execution_count": 8,
     "metadata": {},
     "output_type": "execute_result"
    }
   ],
   "source": [
    "df.duplicated().sum()"
   ]
  },
  {
   "cell_type": "code",
   "execution_count": 9,
   "id": "6bb9320b",
   "metadata": {},
   "outputs": [],
   "source": [
    "#Удалим дубликаты\n",
    "df = df.drop_duplicates().reset_index(drop=True)"
   ]
  },
  {
   "cell_type": "code",
   "execution_count": 10,
   "id": "9604ea95",
   "metadata": {},
   "outputs": [
    {
     "data": {
      "text/plain": [
       "0"
      ]
     },
     "execution_count": 10,
     "metadata": {},
     "output_type": "execute_result"
    }
   ],
   "source": [
    "df.duplicated().sum()"
   ]
  },
  {
   "cell_type": "code",
   "execution_count": 11,
   "id": "acb51294",
   "metadata": {},
   "outputs": [
    {
     "data": {
      "text/plain": [
       "event_name    0\n",
       "device_id     0\n",
       "event_dt      0\n",
       "group         0\n",
       "date          0\n",
       "dtype: int64"
      ]
     },
     "execution_count": 11,
     "metadata": {},
     "output_type": "execute_result"
    }
   ],
   "source": [
    "df.isna().sum()"
   ]
  },
  {
   "cell_type": "markdown",
   "id": "f7b0151f",
   "metadata": {},
   "source": [
    "**Проверим есть ли в разных группах одинаковые пользователи** "
   ]
  },
  {
   "cell_type": "code",
   "execution_count": 12,
   "id": "27ac00c0",
   "metadata": {
    "scrolled": true
   },
   "outputs": [
    {
     "name": "stdout",
     "output_type": "stream",
     "text": [
      "В разных группах нет одинаковых пользователей\n"
     ]
    }
   ],
   "source": [
    "if df['device_id'].nunique() == df.groupby('group')['device_id'].nunique().sum():\n",
    "    print('В разных группах нет одинаковых пользователей')\n",
    "else:\n",
    "    print('В разных группах есть одни и те же пользователи')"
   ]
  },
  {
   "cell_type": "markdown",
   "id": "e6d1c996",
   "metadata": {},
   "source": [
    "**Проверим изменения**"
   ]
  },
  {
   "cell_type": "code",
   "execution_count": 13,
   "id": "e5e37188",
   "metadata": {
    "scrolled": true
   },
   "outputs": [
    {
     "data": {
      "text/html": [
       "<div>\n",
       "<style scoped>\n",
       "    .dataframe tbody tr th:only-of-type {\n",
       "        vertical-align: middle;\n",
       "    }\n",
       "\n",
       "    .dataframe tbody tr th {\n",
       "        vertical-align: top;\n",
       "    }\n",
       "\n",
       "    .dataframe thead th {\n",
       "        text-align: right;\n",
       "    }\n",
       "</style>\n",
       "<table border=\"1\" class=\"dataframe\">\n",
       "  <thead>\n",
       "    <tr style=\"text-align: right;\">\n",
       "      <th></th>\n",
       "      <th>event_name</th>\n",
       "      <th>device_id</th>\n",
       "      <th>event_dt</th>\n",
       "      <th>group</th>\n",
       "      <th>date</th>\n",
       "    </tr>\n",
       "  </thead>\n",
       "  <tbody>\n",
       "    <tr>\n",
       "      <th>0</th>\n",
       "      <td>MainScreenAppear</td>\n",
       "      <td>4575588528974610257</td>\n",
       "      <td>2019-07-25 04:43:36</td>\n",
       "      <td>246</td>\n",
       "      <td>2019-07-25</td>\n",
       "    </tr>\n",
       "    <tr>\n",
       "      <th>1</th>\n",
       "      <td>MainScreenAppear</td>\n",
       "      <td>7416695313311560658</td>\n",
       "      <td>2019-07-25 11:11:42</td>\n",
       "      <td>246</td>\n",
       "      <td>2019-07-25</td>\n",
       "    </tr>\n",
       "    <tr>\n",
       "      <th>2</th>\n",
       "      <td>PaymentScreenSuccessful</td>\n",
       "      <td>3518123091307005509</td>\n",
       "      <td>2019-07-25 11:28:47</td>\n",
       "      <td>248</td>\n",
       "      <td>2019-07-25</td>\n",
       "    </tr>\n",
       "    <tr>\n",
       "      <th>3</th>\n",
       "      <td>CartScreenAppear</td>\n",
       "      <td>3518123091307005509</td>\n",
       "      <td>2019-07-25 11:28:47</td>\n",
       "      <td>248</td>\n",
       "      <td>2019-07-25</td>\n",
       "    </tr>\n",
       "    <tr>\n",
       "      <th>4</th>\n",
       "      <td>PaymentScreenSuccessful</td>\n",
       "      <td>6217807653094995999</td>\n",
       "      <td>2019-07-25 11:48:42</td>\n",
       "      <td>248</td>\n",
       "      <td>2019-07-25</td>\n",
       "    </tr>\n",
       "  </tbody>\n",
       "</table>\n",
       "</div>"
      ],
      "text/plain": [
       "                event_name            device_id            event_dt  group  \\\n",
       "0         MainScreenAppear  4575588528974610257 2019-07-25 04:43:36    246   \n",
       "1         MainScreenAppear  7416695313311560658 2019-07-25 11:11:42    246   \n",
       "2  PaymentScreenSuccessful  3518123091307005509 2019-07-25 11:28:47    248   \n",
       "3         CartScreenAppear  3518123091307005509 2019-07-25 11:28:47    248   \n",
       "4  PaymentScreenSuccessful  6217807653094995999 2019-07-25 11:48:42    248   \n",
       "\n",
       "         date  \n",
       "0  2019-07-25  \n",
       "1  2019-07-25  \n",
       "2  2019-07-25  \n",
       "3  2019-07-25  \n",
       "4  2019-07-25  "
      ]
     },
     "execution_count": 13,
     "metadata": {},
     "output_type": "execute_result"
    }
   ],
   "source": [
    "df.head()"
   ]
  },
  {
   "cell_type": "code",
   "execution_count": 14,
   "id": "ba77de6b",
   "metadata": {},
   "outputs": [
    {
     "name": "stdout",
     "output_type": "stream",
     "text": [
      "<class 'pandas.core.frame.DataFrame'>\n",
      "RangeIndex: 243713 entries, 0 to 243712\n",
      "Data columns (total 5 columns):\n",
      " #   Column      Non-Null Count   Dtype         \n",
      "---  ------      --------------   -----         \n",
      " 0   event_name  243713 non-null  object        \n",
      " 1   device_id   243713 non-null  int64         \n",
      " 2   event_dt    243713 non-null  datetime64[ns]\n",
      " 3   group       243713 non-null  int64         \n",
      " 4   date        243713 non-null  object        \n",
      "dtypes: datetime64[ns](1), int64(2), object(2)\n",
      "memory usage: 9.3+ MB\n"
     ]
    }
   ],
   "source": [
    "df.info()"
   ]
  },
  {
   "cell_type": "markdown",
   "id": "e5ff451e",
   "metadata": {},
   "source": [
    "**В исходных данных были обнаружены и удалены дубликаты, были переименованы столбцы в соответствии с \"хорошим стилем\", колонка с датой и временем была приведена к нужному типу, также был добавлен столбец с датой, была проведена проверка попадания пользователей сразу в несколько групп, таковых пользователей не оказалось.**"
   ]
  },
  {
   "cell_type": "markdown",
   "id": "caf2d98f",
   "metadata": {},
   "source": [
    "## Шаг 3"
   ]
  },
  {
   "cell_type": "code",
   "execution_count": 15,
   "id": "53e2df2d",
   "metadata": {},
   "outputs": [
    {
     "name": "stdout",
     "output_type": "stream",
     "text": [
      "Количество событий: 243713\n"
     ]
    }
   ],
   "source": [
    "print('Количество событий:', len(df['event_name']))"
   ]
  },
  {
   "cell_type": "code",
   "execution_count": 16,
   "id": "19a85c47",
   "metadata": {},
   "outputs": [
    {
     "name": "stdout",
     "output_type": "stream",
     "text": [
      "Количество пользователей: 7551\n"
     ]
    }
   ],
   "source": [
    "print('Количество пользователей:', len(df['device_id'].unique()))"
   ]
  },
  {
   "cell_type": "code",
   "execution_count": 17,
   "id": "3785e28a",
   "metadata": {},
   "outputs": [
    {
     "name": "stdout",
     "output_type": "stream",
     "text": [
      "Среднее количество событий на пользователей: 32\n"
     ]
    }
   ],
   "source": [
    "print('Среднее количество событий на пользователей:', round(len(df['event_name'])/len(df['device_id'].unique())))"
   ]
  },
  {
   "cell_type": "code",
   "execution_count": 18,
   "id": "d73b3539",
   "metadata": {},
   "outputs": [
    {
     "name": "stdout",
     "output_type": "stream",
     "text": [
      "Исследуемый период: 2019-07-25 - 2019-08-07\n"
     ]
    }
   ],
   "source": [
    "print('Исследуемый период:',df['date'].min(),'-',df['date'].max())"
   ]
  },
  {
   "cell_type": "markdown",
   "id": "77038846",
   "metadata": {},
   "source": [
    "**Посмотрим на количество событий по датам**"
   ]
  },
  {
   "cell_type": "code",
   "execution_count": 19,
   "id": "96b393ce",
   "metadata": {},
   "outputs": [
    {
     "data": {
      "image/png": "[encoded data removed]",
      "text/plain": [
       "<Figure size 864x504 with 1 Axes>"
      ]
     },
     "metadata": {
      "needs_background": "light"
     },
     "output_type": "display_data"
    }
   ],
   "source": [
    "plt.figure(figsize=(12,7))\n",
    "df['event_dt'].hist(bins=13, grid=True)\n",
    "plt.title('Количество событий по датам')\n",
    "plt.xlabel('Дата'), plt.ylabel('Кол-во событий')\n",
    "plt.xticks(rotation = 90);"
   ]
  },
  {
   "cell_type": "code",
   "execution_count": 20,
   "id": "19f3f7e6",
   "metadata": {},
   "outputs": [
    {
     "data": {
      "text/html": [
       "<div>\n",
       "<style scoped>\n",
       "    .dataframe tbody tr th:only-of-type {\n",
       "        vertical-align: middle;\n",
       "    }\n",
       "\n",
       "    .dataframe tbody tr th {\n",
       "        vertical-align: top;\n",
       "    }\n",
       "\n",
       "    .dataframe thead th {\n",
       "        text-align: right;\n",
       "    }\n",
       "</style>\n",
       "<table border=\"1\" class=\"dataframe\">\n",
       "  <thead>\n",
       "    <tr style=\"text-align: right;\">\n",
       "      <th></th>\n",
       "      <th>event_name</th>\n",
       "    </tr>\n",
       "    <tr>\n",
       "      <th>date</th>\n",
       "      <th></th>\n",
       "    </tr>\n",
       "  </thead>\n",
       "  <tbody>\n",
       "    <tr>\n",
       "      <th>2019-07-25</th>\n",
       "      <td>9</td>\n",
       "    </tr>\n",
       "    <tr>\n",
       "      <th>2019-07-26</th>\n",
       "      <td>31</td>\n",
       "    </tr>\n",
       "    <tr>\n",
       "      <th>2019-07-27</th>\n",
       "      <td>55</td>\n",
       "    </tr>\n",
       "    <tr>\n",
       "      <th>2019-07-28</th>\n",
       "      <td>105</td>\n",
       "    </tr>\n",
       "    <tr>\n",
       "      <th>2019-07-29</th>\n",
       "      <td>184</td>\n",
       "    </tr>\n",
       "    <tr>\n",
       "      <th>2019-07-30</th>\n",
       "      <td>412</td>\n",
       "    </tr>\n",
       "    <tr>\n",
       "      <th>2019-07-31</th>\n",
       "      <td>2030</td>\n",
       "    </tr>\n",
       "    <tr>\n",
       "      <th>2019-08-01</th>\n",
       "      <td>36141</td>\n",
       "    </tr>\n",
       "    <tr>\n",
       "      <th>2019-08-02</th>\n",
       "      <td>35554</td>\n",
       "    </tr>\n",
       "    <tr>\n",
       "      <th>2019-08-03</th>\n",
       "      <td>33282</td>\n",
       "    </tr>\n",
       "    <tr>\n",
       "      <th>2019-08-04</th>\n",
       "      <td>32968</td>\n",
       "    </tr>\n",
       "    <tr>\n",
       "      <th>2019-08-05</th>\n",
       "      <td>36058</td>\n",
       "    </tr>\n",
       "    <tr>\n",
       "      <th>2019-08-06</th>\n",
       "      <td>35788</td>\n",
       "    </tr>\n",
       "    <tr>\n",
       "      <th>2019-08-07</th>\n",
       "      <td>31096</td>\n",
       "    </tr>\n",
       "  </tbody>\n",
       "</table>\n",
       "</div>"
      ],
      "text/plain": [
       "            event_name\n",
       "date                  \n",
       "2019-07-25           9\n",
       "2019-07-26          31\n",
       "2019-07-27          55\n",
       "2019-07-28         105\n",
       "2019-07-29         184\n",
       "2019-07-30         412\n",
       "2019-07-31        2030\n",
       "2019-08-01       36141\n",
       "2019-08-02       35554\n",
       "2019-08-03       33282\n",
       "2019-08-04       32968\n",
       "2019-08-05       36058\n",
       "2019-08-06       35788\n",
       "2019-08-07       31096"
      ]
     },
     "execution_count": 20,
     "metadata": {},
     "output_type": "execute_result"
    }
   ],
   "source": [
    "df.pivot_table(index='date', values='event_name', aggfunc='count')"
   ]
  },
  {
   "cell_type": "markdown",
   "id": "84e4dbf0",
   "metadata": {},
   "source": [
    "**Из графика и таблицы видно, что данные с 2019-07-25 по 2019-07-31 неполные, посчитаем количество событий в эти даты и отбросим их.**"
   ]
  },
  {
   "cell_type": "code",
   "execution_count": 21,
   "id": "90ea8caa",
   "metadata": {
    "scrolled": false
   },
   "outputs": [
    {
     "name": "stdout",
     "output_type": "stream",
     "text": [
      "Всего событий до 2019-08-01: 2826\n",
      "Это 1.16% от общего числа\n"
     ]
    }
   ],
   "source": [
    "print('Всего событий до 2019-08-01:',df.query('event_dt<\"2019-08-01\"')['event_name'].count())\n",
    "print('Это',str(round((df.query('event_dt<\"2019-08-01\"')['event_name'].count()/df['event_name'].count()*100),2)) + \"%\", 'от общего числа')"
   ]
  },
  {
   "cell_type": "code",
   "execution_count": 22,
   "id": "57ca616b",
   "metadata": {},
   "outputs": [],
   "source": [
    "user_lost = 0\n",
    "for user in df.query('event_dt<\"2019-08-01\"')['device_id'].unique():\n",
    "    if user not in df.query('event_dt>\"2019-08-01\"')['device_id'].unique():\n",
    "        user_lost+=1"
   ]
  },
  {
   "cell_type": "code",
   "execution_count": 23,
   "id": "454ffee8",
   "metadata": {},
   "outputs": [
    {
     "name": "stdout",
     "output_type": "stream",
     "text": [
      "Всего было потеряно 17 пользователей\n"
     ]
    }
   ],
   "source": [
    "print('Всего было потеряно',user_lost,'пользователей')"
   ]
  },
  {
   "cell_type": "code",
   "execution_count": 24,
   "id": "db5660d1",
   "metadata": {},
   "outputs": [],
   "source": [
    "#Удалим все события с 2019-07-25 по 2019-07-31, так как их доля незначительна\n",
    "df = df.query('event_dt>\"2019-08-01\t\"')"
   ]
  },
  {
   "cell_type": "markdown",
   "id": "e808cee9",
   "metadata": {},
   "source": [
    "**Проверим, остались ли у нас пользователи из всех трех групп**"
   ]
  },
  {
   "cell_type": "code",
   "execution_count": 25,
   "id": "a66109ce",
   "metadata": {},
   "outputs": [
    {
     "data": {
      "text/html": [
       "<div>\n",
       "<style scoped>\n",
       "    .dataframe tbody tr th:only-of-type {\n",
       "        vertical-align: middle;\n",
       "    }\n",
       "\n",
       "    .dataframe tbody tr th {\n",
       "        vertical-align: top;\n",
       "    }\n",
       "\n",
       "    .dataframe thead th {\n",
       "        text-align: right;\n",
       "    }\n",
       "</style>\n",
       "<table border=\"1\" class=\"dataframe\">\n",
       "  <thead>\n",
       "    <tr style=\"text-align: right;\">\n",
       "      <th></th>\n",
       "      <th>device_id</th>\n",
       "    </tr>\n",
       "    <tr>\n",
       "      <th>group</th>\n",
       "      <th></th>\n",
       "    </tr>\n",
       "  </thead>\n",
       "  <tbody>\n",
       "    <tr>\n",
       "      <th>246</th>\n",
       "      <td>79302</td>\n",
       "    </tr>\n",
       "    <tr>\n",
       "      <th>247</th>\n",
       "      <td>77022</td>\n",
       "    </tr>\n",
       "    <tr>\n",
       "      <th>248</th>\n",
       "      <td>84563</td>\n",
       "    </tr>\n",
       "  </tbody>\n",
       "</table>\n",
       "</div>"
      ],
      "text/plain": [
       "       device_id\n",
       "group           \n",
       "246        79302\n",
       "247        77022\n",
       "248        84563"
      ]
     },
     "execution_count": 25,
     "metadata": {},
     "output_type": "execute_result"
    }
   ],
   "source": [
    "df.pivot_table(index='group', values='device_id', aggfunc='count')"
   ]
  },
  {
   "cell_type": "markdown",
   "id": "3c82b496",
   "metadata": {},
   "source": [
    "## Шаг 4"
   ]
  },
  {
   "cell_type": "code",
   "execution_count": 26,
   "id": "04a09ac5",
   "metadata": {},
   "outputs": [
    {
     "data": {
      "text/html": [
       "<div>\n",
       "<style scoped>\n",
       "    .dataframe tbody tr th:only-of-type {\n",
       "        vertical-align: middle;\n",
       "    }\n",
       "\n",
       "    .dataframe tbody tr th {\n",
       "        vertical-align: top;\n",
       "    }\n",
       "\n",
       "    .dataframe thead th {\n",
       "        text-align: right;\n",
       "    }\n",
       "</style>\n",
       "<table border=\"1\" class=\"dataframe\">\n",
       "  <thead>\n",
       "    <tr style=\"text-align: right;\">\n",
       "      <th></th>\n",
       "      <th>device_id</th>\n",
       "    </tr>\n",
       "    <tr>\n",
       "      <th>event_name</th>\n",
       "      <th></th>\n",
       "    </tr>\n",
       "  </thead>\n",
       "  <tbody>\n",
       "    <tr>\n",
       "      <th>MainScreenAppear</th>\n",
       "      <td>117328</td>\n",
       "    </tr>\n",
       "    <tr>\n",
       "      <th>OffersScreenAppear</th>\n",
       "      <td>46333</td>\n",
       "    </tr>\n",
       "    <tr>\n",
       "      <th>CartScreenAppear</th>\n",
       "      <td>42303</td>\n",
       "    </tr>\n",
       "    <tr>\n",
       "      <th>PaymentScreenSuccessful</th>\n",
       "      <td>33918</td>\n",
       "    </tr>\n",
       "    <tr>\n",
       "      <th>Tutorial</th>\n",
       "      <td>1005</td>\n",
       "    </tr>\n",
       "  </tbody>\n",
       "</table>\n",
       "</div>"
      ],
      "text/plain": [
       "                         device_id\n",
       "event_name                        \n",
       "MainScreenAppear            117328\n",
       "OffersScreenAppear           46333\n",
       "CartScreenAppear             42303\n",
       "PaymentScreenSuccessful      33918\n",
       "Tutorial                      1005"
      ]
     },
     "execution_count": 26,
     "metadata": {},
     "output_type": "execute_result"
    }
   ],
   "source": [
    "df.pivot_table(index='event_name', values='device_id', aggfunc='count').sort_values(by='device_id', ascending=False)"
   ]
  },
  {
   "cell_type": "markdown",
   "id": "d3301f5d",
   "metadata": {},
   "source": [
    "**Самым популярным событием является открытие главной страницы, самым непопулярным - обучение.**"
   ]
  },
  {
   "cell_type": "code",
   "execution_count": 27,
   "id": "15d444ab",
   "metadata": {
    "scrolled": true
   },
   "outputs": [
    {
     "name": "stdout",
     "output_type": "stream",
     "text": [
      "Количество пользователей, совершивших каждое событие: 466\n"
     ]
    }
   ],
   "source": [
    "print('Количество пользователей, совершивших каждое событие:',int(df.pivot_table(index='device_id', values='event_name', aggfunc='nunique').query('event_name==5').count()))"
   ]
  },
  {
   "cell_type": "code",
   "execution_count": 28,
   "id": "765fe834",
   "metadata": {},
   "outputs": [],
   "source": [
    "rate = df.pivot_table(index='event_name', values='device_id', aggfunc='nunique')"
   ]
  },
  {
   "cell_type": "code",
   "execution_count": 29,
   "id": "ad810f7a",
   "metadata": {},
   "outputs": [],
   "source": [
    "rate['rate%'] = rate.values/df['device_id'].nunique()"
   ]
  },
  {
   "cell_type": "code",
   "execution_count": 30,
   "id": "616ffb71",
   "metadata": {},
   "outputs": [],
   "source": [
    "rate['rate%'] = rate['rate%'].map('{:.2%}'.format)"
   ]
  },
  {
   "cell_type": "code",
   "execution_count": 31,
   "id": "5c72f91e",
   "metadata": {},
   "outputs": [
    {
     "data": {
      "text/html": [
       "<div>\n",
       "<style scoped>\n",
       "    .dataframe tbody tr th:only-of-type {\n",
       "        vertical-align: middle;\n",
       "    }\n",
       "\n",
       "    .dataframe tbody tr th {\n",
       "        vertical-align: top;\n",
       "    }\n",
       "\n",
       "    .dataframe thead th {\n",
       "        text-align: right;\n",
       "    }\n",
       "</style>\n",
       "<table border=\"1\" class=\"dataframe\">\n",
       "  <thead>\n",
       "    <tr style=\"text-align: right;\">\n",
       "      <th></th>\n",
       "      <th>device_id</th>\n",
       "      <th>rate%</th>\n",
       "    </tr>\n",
       "    <tr>\n",
       "      <th>event_name</th>\n",
       "      <th></th>\n",
       "      <th></th>\n",
       "    </tr>\n",
       "  </thead>\n",
       "  <tbody>\n",
       "    <tr>\n",
       "      <th>MainScreenAppear</th>\n",
       "      <td>7419</td>\n",
       "      <td>98.47%</td>\n",
       "    </tr>\n",
       "    <tr>\n",
       "      <th>OffersScreenAppear</th>\n",
       "      <td>4593</td>\n",
       "      <td>60.96%</td>\n",
       "    </tr>\n",
       "    <tr>\n",
       "      <th>CartScreenAppear</th>\n",
       "      <td>3734</td>\n",
       "      <td>49.56%</td>\n",
       "    </tr>\n",
       "    <tr>\n",
       "      <th>PaymentScreenSuccessful</th>\n",
       "      <td>3539</td>\n",
       "      <td>46.97%</td>\n",
       "    </tr>\n",
       "    <tr>\n",
       "      <th>Tutorial</th>\n",
       "      <td>840</td>\n",
       "      <td>11.15%</td>\n",
       "    </tr>\n",
       "  </tbody>\n",
       "</table>\n",
       "</div>"
      ],
      "text/plain": [
       "                         device_id   rate%\n",
       "event_name                                \n",
       "MainScreenAppear              7419  98.47%\n",
       "OffersScreenAppear            4593  60.96%\n",
       "CartScreenAppear              3734  49.56%\n",
       "PaymentScreenSuccessful       3539  46.97%\n",
       "Tutorial                       840  11.15%"
      ]
     },
     "execution_count": 31,
     "metadata": {},
     "output_type": "execute_result"
    }
   ],
   "source": [
    "rate.sort_values(by='rate%', ascending=False)"
   ]
  },
  {
   "cell_type": "markdown",
   "id": "6ee602d4",
   "metadata": {},
   "source": [
    "**Почти 98.5% пользователей посещали главную страницу и только 11.15% пользователей проходили обучение. 61% пользователей посетли страницу с товарами, практически 50% перешли на страницу с корзиной и целых 47% перешили на сраницу с успешной оплатой товара.**"
   ]
  },
  {
   "cell_type": "markdown",
   "id": "f75cb249",
   "metadata": {},
   "source": [
    "**Все события выстраиваются в последовательную цепочку совершения покупки, кроме обучения, поэтому не будем учитывать это событие при расчете воронки.**"
   ]
  },
  {
   "cell_type": "code",
   "execution_count": 32,
   "id": "3b5de4a7",
   "metadata": {},
   "outputs": [],
   "source": [
    "voronka = df.query('event_name!=\"Tutorial\"').pivot_table(index='event_name', values='device_id', aggfunc='nunique').sort_values(by='device_id', ascending=False)"
   ]
  },
  {
   "cell_type": "code",
   "execution_count": 33,
   "id": "7e936179",
   "metadata": {},
   "outputs": [],
   "source": [
    "voronka['last_event'] = voronka['device_id'].shift(1)"
   ]
  },
  {
   "cell_type": "code",
   "execution_count": 34,
   "id": "d74f454a",
   "metadata": {},
   "outputs": [],
   "source": [
    "voronka['conversion'] = voronka['device_id']/voronka['last_event']"
   ]
  },
  {
   "cell_type": "code",
   "execution_count": 35,
   "id": "88e38570",
   "metadata": {},
   "outputs": [],
   "source": [
    "voronka['conversion'] = voronka['conversion'].map('{:.2%}'.format)"
   ]
  },
  {
   "cell_type": "code",
   "execution_count": 36,
   "id": "d4a6284a",
   "metadata": {},
   "outputs": [
    {
     "data": {
      "text/html": [
       "<div>\n",
       "<style scoped>\n",
       "    .dataframe tbody tr th:only-of-type {\n",
       "        vertical-align: middle;\n",
       "    }\n",
       "\n",
       "    .dataframe tbody tr th {\n",
       "        vertical-align: top;\n",
       "    }\n",
       "\n",
       "    .dataframe thead th {\n",
       "        text-align: right;\n",
       "    }\n",
       "</style>\n",
       "<table border=\"1\" class=\"dataframe\">\n",
       "  <thead>\n",
       "    <tr style=\"text-align: right;\">\n",
       "      <th></th>\n",
       "      <th>device_id</th>\n",
       "      <th>conversion</th>\n",
       "    </tr>\n",
       "    <tr>\n",
       "      <th>event_name</th>\n",
       "      <th></th>\n",
       "      <th></th>\n",
       "    </tr>\n",
       "  </thead>\n",
       "  <tbody>\n",
       "    <tr>\n",
       "      <th>MainScreenAppear</th>\n",
       "      <td>7419</td>\n",
       "      <td>nan%</td>\n",
       "    </tr>\n",
       "    <tr>\n",
       "      <th>OffersScreenAppear</th>\n",
       "      <td>4593</td>\n",
       "      <td>61.91%</td>\n",
       "    </tr>\n",
       "    <tr>\n",
       "      <th>CartScreenAppear</th>\n",
       "      <td>3734</td>\n",
       "      <td>81.30%</td>\n",
       "    </tr>\n",
       "    <tr>\n",
       "      <th>PaymentScreenSuccessful</th>\n",
       "      <td>3539</td>\n",
       "      <td>94.78%</td>\n",
       "    </tr>\n",
       "  </tbody>\n",
       "</table>\n",
       "</div>"
      ],
      "text/plain": [
       "                         device_id conversion\n",
       "event_name                                   \n",
       "MainScreenAppear              7419       nan%\n",
       "OffersScreenAppear            4593     61.91%\n",
       "CartScreenAppear              3734     81.30%\n",
       "PaymentScreenSuccessful       3539     94.78%"
      ]
     },
     "execution_count": 36,
     "metadata": {},
     "output_type": "execute_result"
    }
   ],
   "source": [
    "voronka[['device_id','conversion']]"
   ]
  },
  {
   "cell_type": "markdown",
   "id": "0e509224",
   "metadata": {},
   "source": [
    "**Из всех пользователей, посетивших главную страницу только 62% переходят на страницу с товарами, из этих пользователей 81.3% перешли на страницу с корзиной и почти 95% из них на страницу с успешной оплатой, то есть наибольшая потеря пользователей происходит на первом шаге.**"
   ]
  },
  {
   "cell_type": "code",
   "execution_count": 37,
   "id": "0516acd9",
   "metadata": {},
   "outputs": [
    {
     "name": "stdout",
     "output_type": "stream",
     "text": [
      "Только 47.7% пользователей доходят от просмотра главной страницы до оплаты товара.\n"
     ]
    }
   ],
   "source": [
    "print('Только',str(round(voronka['device_id'][3]/voronka['device_id'][0]*100, 1)) + \"%\",'пользователей доходят от просмотра главной страницы до оплаты товара.')"
   ]
  },
  {
   "cell_type": "markdown",
   "id": "07d7fbc7",
   "metadata": {},
   "source": [
    "## Шаг 5"
   ]
  },
  {
   "cell_type": "code",
   "execution_count": 38,
   "id": "3cf00d1b",
   "metadata": {},
   "outputs": [
    {
     "data": {
      "text/html": [
       "<div>\n",
       "<style scoped>\n",
       "    .dataframe tbody tr th:only-of-type {\n",
       "        vertical-align: middle;\n",
       "    }\n",
       "\n",
       "    .dataframe tbody tr th {\n",
       "        vertical-align: top;\n",
       "    }\n",
       "\n",
       "    .dataframe thead th {\n",
       "        text-align: right;\n",
       "    }\n",
       "</style>\n",
       "<table border=\"1\" class=\"dataframe\">\n",
       "  <thead>\n",
       "    <tr style=\"text-align: right;\">\n",
       "      <th></th>\n",
       "      <th>device_id</th>\n",
       "    </tr>\n",
       "    <tr>\n",
       "      <th>group</th>\n",
       "      <th></th>\n",
       "    </tr>\n",
       "  </thead>\n",
       "  <tbody>\n",
       "    <tr>\n",
       "      <th>246</th>\n",
       "      <td>2484</td>\n",
       "    </tr>\n",
       "    <tr>\n",
       "      <th>247</th>\n",
       "      <td>2513</td>\n",
       "    </tr>\n",
       "    <tr>\n",
       "      <th>248</th>\n",
       "      <td>2537</td>\n",
       "    </tr>\n",
       "  </tbody>\n",
       "</table>\n",
       "</div>"
      ],
      "text/plain": [
       "       device_id\n",
       "group           \n",
       "246         2484\n",
       "247         2513\n",
       "248         2537"
      ]
     },
     "execution_count": 38,
     "metadata": {},
     "output_type": "execute_result"
    }
   ],
   "source": [
    "df.pivot_table(index='group', values='device_id', aggfunc='nunique')"
   ]
  },
  {
   "cell_type": "markdown",
   "id": "85043e8b",
   "metadata": {},
   "source": [
    "**В каждой группе примерно по 2500 пользователей.**"
   ]
  },
  {
   "cell_type": "markdown",
   "id": "f7fbc80e",
   "metadata": {},
   "source": [
    "**Проверим, находят ли статистические критерии разницу между выборками 246 и 247.**"
   ]
  },
  {
   "cell_type": "markdown",
   "id": "0ddae3f7",
   "metadata": {},
   "source": [
    "**Создадим таблицу с воронками по каждой группа, а также функции для проверки гипотез о равенстве долей.**"
   ]
  },
  {
   "cell_type": "code",
   "execution_count": 39,
   "id": "82f4768c",
   "metadata": {},
   "outputs": [],
   "source": [
    "voronka_by_group = df.pivot_table(index = 'group', columns = 'event_name', values = 'device_id', aggfunc = 'nunique').reset_index()\n",
    "voronka_by_group['total'] = df.pivot_table(index='group', values='device_id', aggfunc='nunique').values"
   ]
  },
  {
   "cell_type": "code",
   "execution_count": 40,
   "id": "6d0b1825",
   "metadata": {},
   "outputs": [
    {
     "data": {
      "text/html": [
       "<div>\n",
       "<style scoped>\n",
       "    .dataframe tbody tr th:only-of-type {\n",
       "        vertical-align: middle;\n",
       "    }\n",
       "\n",
       "    .dataframe tbody tr th {\n",
       "        vertical-align: top;\n",
       "    }\n",
       "\n",
       "    .dataframe thead th {\n",
       "        text-align: right;\n",
       "    }\n",
       "</style>\n",
       "<table border=\"1\" class=\"dataframe\">\n",
       "  <thead>\n",
       "    <tr style=\"text-align: right;\">\n",
       "      <th>event_name</th>\n",
       "      <th>group</th>\n",
       "      <th>CartScreenAppear</th>\n",
       "      <th>MainScreenAppear</th>\n",
       "      <th>OffersScreenAppear</th>\n",
       "      <th>PaymentScreenSuccessful</th>\n",
       "      <th>Tutorial</th>\n",
       "      <th>total</th>\n",
       "    </tr>\n",
       "  </thead>\n",
       "  <tbody>\n",
       "    <tr>\n",
       "      <th>0</th>\n",
       "      <td>246</td>\n",
       "      <td>1266</td>\n",
       "      <td>2450</td>\n",
       "      <td>1542</td>\n",
       "      <td>1200</td>\n",
       "      <td>278</td>\n",
       "      <td>2484</td>\n",
       "    </tr>\n",
       "    <tr>\n",
       "      <th>1</th>\n",
       "      <td>247</td>\n",
       "      <td>1238</td>\n",
       "      <td>2476</td>\n",
       "      <td>1520</td>\n",
       "      <td>1158</td>\n",
       "      <td>283</td>\n",
       "      <td>2513</td>\n",
       "    </tr>\n",
       "    <tr>\n",
       "      <th>2</th>\n",
       "      <td>248</td>\n",
       "      <td>1230</td>\n",
       "      <td>2493</td>\n",
       "      <td>1531</td>\n",
       "      <td>1181</td>\n",
       "      <td>279</td>\n",
       "      <td>2537</td>\n",
       "    </tr>\n",
       "  </tbody>\n",
       "</table>\n",
       "</div>"
      ],
      "text/plain": [
       "event_name  group  CartScreenAppear  MainScreenAppear  OffersScreenAppear  \\\n",
       "0             246              1266              2450                1542   \n",
       "1             247              1238              2476                1520   \n",
       "2             248              1230              2493                1531   \n",
       "\n",
       "event_name  PaymentScreenSuccessful  Tutorial  total  \n",
       "0                              1200       278   2484  \n",
       "1                              1158       283   2513  \n",
       "2                              1181       279   2537  "
      ]
     },
     "execution_count": 40,
     "metadata": {},
     "output_type": "execute_result"
    }
   ],
   "source": [
    "voronka_by_group"
   ]
  },
  {
   "cell_type": "code",
   "execution_count": 41,
   "id": "94ad129d",
   "metadata": {},
   "outputs": [],
   "source": [
    "def z_test(success, trials, alpha):\n",
    "    # пропорция успехов в первой группе:\n",
    "    p1 = success[0] / trials[0]\n",
    "    # пропорция успехов во второй группе:\n",
    "    p2 = success[1] / trials[1]\n",
    "    # пропорция успехов в комбинированном датасете:\n",
    "    p_combined = (success[0] + success[1]) / (trials[0] + trials[1])\n",
    "    # разница пропорций в датасетах\n",
    "    difference = p1 - p2\n",
    " \n",
    "    z_value = difference / mth.sqrt(p_combined *(1-p_combined) * (1/trials[0] + 1/trials[1]))\n",
    "    \n",
    "    distr = st.norm(0, 1) \n",
    "    \n",
    "    p_value = (1 - distr.cdf(abs(z_value))) * 2\n",
    "    \n",
    "    print('p-value: ', p_value)\n",
    "    \n",
    "    if (p_value < alpha):\n",
    "        print(\"Отвергаем нулевую гипотезу: между долями есть значимая разница\")\n",
    "    else:\n",
    "        print(\"Не получилось отвергнуть нулевую гипотезу, нет оснований считать доли разными\")"
   ]
  },
  {
   "cell_type": "code",
   "execution_count": 42,
   "id": "966b7379",
   "metadata": {},
   "outputs": [],
   "source": [
    "def automation (group1, group2, alpha):\n",
    "    alpha_test = alpha\n",
    "    count_users = ([voronka_by_group['total'][group1], voronka_by_group['total'][group2]])\n",
    "    count_MainScreenAppear = ([voronka_by_group['MainScreenAppear'][group1], voronka_by_group['MainScreenAppear'][group2]])\n",
    "    count_OffersScreenAppear = ([voronka_by_group['OffersScreenAppear'][group1], voronka_by_group['OffersScreenAppear'][group2]])\n",
    "    count_CartScreenAppear = ([voronka_by_group['CartScreenAppear'][group1], voronka_by_group['CartScreenAppear'][group2]])\n",
    "    count_PaymentScreenSuccessful = ([voronka_by_group['PaymentScreenSuccessful'][group1], voronka_by_group['PaymentScreenSuccessful'][group2]])\n",
    "    count_Tutorial = ([voronka_by_group['Tutorial'][group1], voronka_by_group['Tutorial'][group2]])\n",
    "    \n",
    "    print('Тест для количества людей и события MainScreenAppear')\n",
    "    z_test(count_MainScreenAppear, count_users, alpha_test)\n",
    "    \n",
    "    print('Тест для количества людей и события OffersScreenAppear')\n",
    "    z_test(count_OffersScreenAppear, count_users, alpha_test)\n",
    "    \n",
    "    print('Тест для количества людей и события CartScreenAppear')\n",
    "    z_test(count_CartScreenAppear, count_users, alpha_test)\n",
    "    \n",
    "    print('Тест для количества людей и события PaymentScreenSuccessful')\n",
    "    z_test(count_PaymentScreenSuccessful, count_users, alpha_test)\n",
    "    \n",
    "    print('Тест для количества людей и события Tutorial')\n",
    "    z_test(count_Tutorial, count_users, alpha_test)"
   ]
  },
  {
   "cell_type": "markdown",
   "id": "a3f1b6c2",
   "metadata": {},
   "source": [
    "**Применим созданную функцию для проверки разницы между группами 226 и 227.**"
   ]
  },
  {
   "cell_type": "markdown",
   "id": "490c2ff5",
   "metadata": {},
   "source": [
    "Сформулируем гипотезы:<br>\n",
    "    Нулевая: Доли между группами 226 и 227 равны. <br>\n",
    "    Альтернативная: доля одной из групп больше или меньше доли другой группы.\n",
    "    <br>\n",
    "    Уровень статистической значимости alpha=0.1."
   ]
  },
  {
   "cell_type": "code",
   "execution_count": 43,
   "id": "9f57414c",
   "metadata": {
    "scrolled": true
   },
   "outputs": [
    {
     "name": "stdout",
     "output_type": "stream",
     "text": [
      "Тест для количества людей и события MainScreenAppear\n",
      "p-value:  0.7570597232046099\n",
      "Не получилось отвергнуть нулевую гипотезу, нет оснований считать доли разными\n",
      "Тест для количества людей и события OffersScreenAppear\n",
      "p-value:  0.2480954578522181\n",
      "Не получилось отвергнуть нулевую гипотезу, нет оснований считать доли разными\n",
      "Тест для количества людей и события CartScreenAppear\n",
      "p-value:  0.22883372237997213\n",
      "Не получилось отвергнуть нулевую гипотезу, нет оснований считать доли разными\n",
      "Тест для количества людей и события PaymentScreenSuccessful\n",
      "p-value:  0.11456679313141849\n",
      "Не получилось отвергнуть нулевую гипотезу, нет оснований считать доли разными\n",
      "Тест для количества людей и события Tutorial\n",
      "p-value:  0.9376996189257114\n",
      "Не получилось отвергнуть нулевую гипотезу, нет оснований считать доли разными\n"
     ]
    }
   ],
   "source": [
    "automation (0, 1, 0.1)"
   ]
  },
  {
   "cell_type": "markdown",
   "id": "87d152f9",
   "metadata": {},
   "source": [
    "**Статистические критерии не нашли разницу между выборками 246 и 247, тест работает корректно.**"
   ]
  },
  {
   "cell_type": "code",
   "execution_count": 44,
   "id": "73237fa8",
   "metadata": {},
   "outputs": [],
   "source": [
    "#Добавляем строку с соединенными группами 246 и 247\n",
    "voronka_by_group.loc['3'] = voronka_by_group.loc[0] + voronka_by_group.loc[1]\n",
    "voronka_by_group = voronka_by_group.replace([493],'246+247')\n",
    "voronka_by_group = voronka_by_group.reset_index()\n",
    "voronka_by_group.drop(columns=voronka_by_group.columns[0], axis= 1 , inplace= True )"
   ]
  },
  {
   "cell_type": "code",
   "execution_count": 45,
   "id": "10d9b1f2",
   "metadata": {},
   "outputs": [
    {
     "data": {
      "text/html": [
       "<div>\n",
       "<style scoped>\n",
       "    .dataframe tbody tr th:only-of-type {\n",
       "        vertical-align: middle;\n",
       "    }\n",
       "\n",
       "    .dataframe tbody tr th {\n",
       "        vertical-align: top;\n",
       "    }\n",
       "\n",
       "    .dataframe thead th {\n",
       "        text-align: right;\n",
       "    }\n",
       "</style>\n",
       "<table border=\"1\" class=\"dataframe\">\n",
       "  <thead>\n",
       "    <tr style=\"text-align: right;\">\n",
       "      <th>event_name</th>\n",
       "      <th>group</th>\n",
       "      <th>CartScreenAppear</th>\n",
       "      <th>MainScreenAppear</th>\n",
       "      <th>OffersScreenAppear</th>\n",
       "      <th>PaymentScreenSuccessful</th>\n",
       "      <th>Tutorial</th>\n",
       "      <th>total</th>\n",
       "    </tr>\n",
       "  </thead>\n",
       "  <tbody>\n",
       "    <tr>\n",
       "      <th>0</th>\n",
       "      <td>246</td>\n",
       "      <td>1266</td>\n",
       "      <td>2450</td>\n",
       "      <td>1542</td>\n",
       "      <td>1200</td>\n",
       "      <td>278</td>\n",
       "      <td>2484</td>\n",
       "    </tr>\n",
       "    <tr>\n",
       "      <th>1</th>\n",
       "      <td>247</td>\n",
       "      <td>1238</td>\n",
       "      <td>2476</td>\n",
       "      <td>1520</td>\n",
       "      <td>1158</td>\n",
       "      <td>283</td>\n",
       "      <td>2513</td>\n",
       "    </tr>\n",
       "    <tr>\n",
       "      <th>2</th>\n",
       "      <td>248</td>\n",
       "      <td>1230</td>\n",
       "      <td>2493</td>\n",
       "      <td>1531</td>\n",
       "      <td>1181</td>\n",
       "      <td>279</td>\n",
       "      <td>2537</td>\n",
       "    </tr>\n",
       "    <tr>\n",
       "      <th>3</th>\n",
       "      <td>246+247</td>\n",
       "      <td>2504</td>\n",
       "      <td>4926</td>\n",
       "      <td>3062</td>\n",
       "      <td>2358</td>\n",
       "      <td>561</td>\n",
       "      <td>4997</td>\n",
       "    </tr>\n",
       "  </tbody>\n",
       "</table>\n",
       "</div>"
      ],
      "text/plain": [
       "event_name    group CartScreenAppear MainScreenAppear OffersScreenAppear  \\\n",
       "0               246             1266             2450               1542   \n",
       "1               247             1238             2476               1520   \n",
       "2               248             1230             2493               1531   \n",
       "3           246+247             2504             4926               3062   \n",
       "\n",
       "event_name PaymentScreenSuccessful Tutorial total  \n",
       "0                             1200      278  2484  \n",
       "1                             1158      283  2513  \n",
       "2                             1181      279  2537  \n",
       "3                             2358      561  4997  "
      ]
     },
     "execution_count": 45,
     "metadata": {},
     "output_type": "execute_result"
    }
   ],
   "source": [
    "voronka_by_group "
   ]
  },
  {
   "cell_type": "markdown",
   "id": "c85ac610",
   "metadata": {},
   "source": [
    "**Проведем тест для разных групп**"
   ]
  },
  {
   "cell_type": "markdown",
   "id": "c9b0f7ca",
   "metadata": {},
   "source": [
    "Гипотезы:<br>\n",
    "    Нулевая: Доли между группами равны. <br>\n",
    "    Альтернативная: доля одной из групп больше или меньше доли другой группы.|<br>\n",
    "    Уровень статистической значимости alpha=0.1."
   ]
  },
  {
   "cell_type": "markdown",
   "id": "64b84e7f",
   "metadata": {},
   "source": [
    "**Тест для групп 246 и 248:**"
   ]
  },
  {
   "cell_type": "code",
   "execution_count": 46,
   "id": "ac76b2fb",
   "metadata": {},
   "outputs": [
    {
     "name": "stdout",
     "output_type": "stream",
     "text": [
      "Тест для количества людей и события MainScreenAppear\n",
      "p-value:  0.2949721933554552\n",
      "Не получилось отвергнуть нулевую гипотезу, нет оснований считать доли разными\n",
      "Тест для количества людей и события OffersScreenAppear\n",
      "p-value:  0.20836205402738917\n",
      "Не получилось отвергнуть нулевую гипотезу, нет оснований считать доли разными\n",
      "Тест для количества людей и события CartScreenAppear\n",
      "p-value:  0.07842923237520116\n",
      "Отвергаем нулевую гипотезу: между долями есть значимая разница\n",
      "Тест для количества людей и события PaymentScreenSuccessful\n",
      "p-value:  0.2122553275697796\n",
      "Не получилось отвергнуть нулевую гипотезу, нет оснований считать доли разными\n",
      "Тест для количества людей и события Tutorial\n",
      "p-value:  0.8264294010087645\n",
      "Не получилось отвергнуть нулевую гипотезу, нет оснований считать доли разными\n"
     ]
    }
   ],
   "source": [
    "automation (0, 2, 0.1)"
   ]
  },
  {
   "cell_type": "markdown",
   "id": "36364df5",
   "metadata": {},
   "source": [
    "**Для групп 246 и 248 есть разница в долях пользователей, открывших страницу с корзиной.**"
   ]
  },
  {
   "cell_type": "code",
   "execution_count": 47,
   "id": "34ffc84c",
   "metadata": {
    "scrolled": true
   },
   "outputs": [
    {
     "data": {
      "text/plain": [
       "0.51"
      ]
     },
     "execution_count": 47,
     "metadata": {},
     "output_type": "execute_result"
    }
   ],
   "source": [
    "round(float(voronka_by_group.query('group==246')['CartScreenAppear']/voronka_by_group.query('group==246')['total']), 2)"
   ]
  },
  {
   "cell_type": "code",
   "execution_count": 48,
   "id": "f5af9cc4",
   "metadata": {
    "scrolled": true
   },
   "outputs": [
    {
     "data": {
      "text/plain": [
       "0.48"
      ]
     },
     "execution_count": 48,
     "metadata": {},
     "output_type": "execute_result"
    }
   ],
   "source": [
    "round(float(voronka_by_group.query('group==248')['CartScreenAppear']/voronka_by_group.query('group==248')['total']), 2)"
   ]
  },
  {
   "cell_type": "markdown",
   "id": "862b39c9",
   "metadata": {},
   "source": [
    "**Разница по долям у этого события между группами 3%**"
   ]
  },
  {
   "cell_type": "markdown",
   "id": "f69edbe9",
   "metadata": {},
   "source": [
    "**Тест для групп 247 и 248:**"
   ]
  },
  {
   "cell_type": "code",
   "execution_count": 49,
   "id": "02e88d36",
   "metadata": {},
   "outputs": [
    {
     "name": "stdout",
     "output_type": "stream",
     "text": [
      "Тест для количества людей и события MainScreenAppear\n",
      "p-value:  0.4587053616621515\n",
      "Не получилось отвергнуть нулевую гипотезу, нет оснований считать доли разными\n",
      "Тест для количества людей и события OffersScreenAppear\n",
      "p-value:  0.9197817830592261\n",
      "Не получилось отвергнуть нулевую гипотезу, нет оснований считать доли разными\n",
      "Тест для количества людей и события CartScreenAppear\n",
      "p-value:  0.5786197879539783\n",
      "Не получилось отвергнуть нулевую гипотезу, нет оснований считать доли разными\n",
      "Тест для количества людей и события PaymentScreenSuccessful\n",
      "p-value:  0.7373415053803964\n",
      "Не получилось отвергнуть нулевую гипотезу, нет оснований считать доли разными\n",
      "Тест для количества людей и события Tutorial\n",
      "p-value:  0.765323922474501\n",
      "Не получилось отвергнуть нулевую гипотезу, нет оснований считать доли разными\n"
     ]
    }
   ],
   "source": [
    "automation (1, 2, 0.1)"
   ]
  },
  {
   "cell_type": "markdown",
   "id": "5cd14309",
   "metadata": {},
   "source": [
    "**Значимых различий между группами 247 и 248 нет.**"
   ]
  },
  {
   "cell_type": "markdown",
   "id": "a60c65e3",
   "metadata": {},
   "source": [
    "**Тест для объединных групп 246 и 247 и группой 248:**"
   ]
  },
  {
   "cell_type": "code",
   "execution_count": 50,
   "id": "b72a2ca8",
   "metadata": {},
   "outputs": [
    {
     "name": "stdout",
     "output_type": "stream",
     "text": [
      "Тест для количества людей и события MainScreenAppear\n",
      "p-value:  0.29424526837179577\n",
      "Не получилось отвергнуть нулевую гипотезу, нет оснований считать доли разными\n",
      "Тест для количества людей и события OffersScreenAppear\n",
      "p-value:  0.43425549655188256\n",
      "Не получилось отвергнуть нулевую гипотезу, нет оснований считать доли разными\n",
      "Тест для количества людей и события CartScreenAppear\n",
      "p-value:  0.18175875284404386\n",
      "Не получилось отвергнуть нулевую гипотезу, нет оснований считать доли разными\n",
      "Тест для количества людей и события PaymentScreenSuccessful\n",
      "p-value:  0.6004294282308704\n",
      "Не получилось отвергнуть нулевую гипотезу, нет оснований считать доли разными\n",
      "Тест для количества людей и события Tutorial\n",
      "p-value:  0.764862472531507\n",
      "Не получилось отвергнуть нулевую гипотезу, нет оснований считать доли разными\n"
     ]
    }
   ],
   "source": [
    "automation (3, 2, 0.1)"
   ]
  },
  {
   "cell_type": "markdown",
   "id": "de05f3f1",
   "metadata": {},
   "source": [
    "**Между объединенными 246 и 247 группами и группой 248 также нет значимых различий.**"
   ]
  },
  {
   "cell_type": "markdown",
   "id": "4574545b",
   "metadata": {},
   "source": [
    "**Проверим гипотезы с уровнем статистической значимости alpha=0.05.**"
   ]
  },
  {
   "cell_type": "markdown",
   "id": "52fb75a2",
   "metadata": {},
   "source": [
    "**Тест для групп 246 и 247:**"
   ]
  },
  {
   "cell_type": "code",
   "execution_count": 51,
   "id": "f2384b4b",
   "metadata": {},
   "outputs": [
    {
     "name": "stdout",
     "output_type": "stream",
     "text": [
      "Тест для количества людей и события MainScreenAppear\n",
      "p-value:  0.7570597232046099\n",
      "Не получилось отвергнуть нулевую гипотезу, нет оснований считать доли разными\n",
      "Тест для количества людей и события OffersScreenAppear\n",
      "p-value:  0.2480954578522181\n",
      "Не получилось отвергнуть нулевую гипотезу, нет оснований считать доли разными\n",
      "Тест для количества людей и события CartScreenAppear\n",
      "p-value:  0.22883372237997213\n",
      "Не получилось отвергнуть нулевую гипотезу, нет оснований считать доли разными\n",
      "Тест для количества людей и события PaymentScreenSuccessful\n",
      "p-value:  0.11456679313141849\n",
      "Не получилось отвергнуть нулевую гипотезу, нет оснований считать доли разными\n",
      "Тест для количества людей и события Tutorial\n",
      "p-value:  0.9376996189257114\n",
      "Не получилось отвергнуть нулевую гипотезу, нет оснований считать доли разными\n"
     ]
    }
   ],
   "source": [
    "automation (0, 1, 0.05)"
   ]
  },
  {
   "cell_type": "markdown",
   "id": "8d956624",
   "metadata": {},
   "source": [
    "**Тест для групп 246 и 248:**"
   ]
  },
  {
   "cell_type": "code",
   "execution_count": 52,
   "id": "f7d10119",
   "metadata": {},
   "outputs": [
    {
     "name": "stdout",
     "output_type": "stream",
     "text": [
      "Тест для количества людей и события MainScreenAppear\n",
      "p-value:  0.2949721933554552\n",
      "Не получилось отвергнуть нулевую гипотезу, нет оснований считать доли разными\n",
      "Тест для количества людей и события OffersScreenAppear\n",
      "p-value:  0.20836205402738917\n",
      "Не получилось отвергнуть нулевую гипотезу, нет оснований считать доли разными\n",
      "Тест для количества людей и события CartScreenAppear\n",
      "p-value:  0.07842923237520116\n",
      "Не получилось отвергнуть нулевую гипотезу, нет оснований считать доли разными\n",
      "Тест для количества людей и события PaymentScreenSuccessful\n",
      "p-value:  0.2122553275697796\n",
      "Не получилось отвергнуть нулевую гипотезу, нет оснований считать доли разными\n",
      "Тест для количества людей и события Tutorial\n",
      "p-value:  0.8264294010087645\n",
      "Не получилось отвергнуть нулевую гипотезу, нет оснований считать доли разными\n"
     ]
    }
   ],
   "source": [
    "automation (0, 2, 0.05)"
   ]
  },
  {
   "cell_type": "markdown",
   "id": "1b47d5f1",
   "metadata": {},
   "source": [
    "**Тест для групп 247 и 248:**"
   ]
  },
  {
   "cell_type": "code",
   "execution_count": 53,
   "id": "b8c793b1",
   "metadata": {},
   "outputs": [
    {
     "name": "stdout",
     "output_type": "stream",
     "text": [
      "Тест для количества людей и события MainScreenAppear\n",
      "p-value:  0.4587053616621515\n",
      "Не получилось отвергнуть нулевую гипотезу, нет оснований считать доли разными\n",
      "Тест для количества людей и события OffersScreenAppear\n",
      "p-value:  0.9197817830592261\n",
      "Не получилось отвергнуть нулевую гипотезу, нет оснований считать доли разными\n",
      "Тест для количества людей и события CartScreenAppear\n",
      "p-value:  0.5786197879539783\n",
      "Не получилось отвергнуть нулевую гипотезу, нет оснований считать доли разными\n",
      "Тест для количества людей и события PaymentScreenSuccessful\n",
      "p-value:  0.7373415053803964\n",
      "Не получилось отвергнуть нулевую гипотезу, нет оснований считать доли разными\n",
      "Тест для количества людей и события Tutorial\n",
      "p-value:  0.765323922474501\n",
      "Не получилось отвергнуть нулевую гипотезу, нет оснований считать доли разными\n"
     ]
    }
   ],
   "source": [
    "automation (1, 2, 0.05)"
   ]
  },
  {
   "cell_type": "markdown",
   "id": "4bc3baed",
   "metadata": {},
   "source": [
    "**Тест для объединных групп 246 и 247 и группой 248:**"
   ]
  },
  {
   "cell_type": "code",
   "execution_count": 54,
   "id": "bac40e75",
   "metadata": {},
   "outputs": [
    {
     "name": "stdout",
     "output_type": "stream",
     "text": [
      "Тест для количества людей и события MainScreenAppear\n",
      "p-value:  0.29424526837179577\n",
      "Не получилось отвергнуть нулевую гипотезу, нет оснований считать доли разными\n",
      "Тест для количества людей и события OffersScreenAppear\n",
      "p-value:  0.43425549655188256\n",
      "Не получилось отвергнуть нулевую гипотезу, нет оснований считать доли разными\n",
      "Тест для количества людей и события CartScreenAppear\n",
      "p-value:  0.18175875284404386\n",
      "Не получилось отвергнуть нулевую гипотезу, нет оснований считать доли разными\n",
      "Тест для количества людей и события PaymentScreenSuccessful\n",
      "p-value:  0.6004294282308704\n",
      "Не получилось отвергнуть нулевую гипотезу, нет оснований считать доли разными\n",
      "Тест для количества людей и события Tutorial\n",
      "p-value:  0.764862472531507\n",
      "Не получилось отвергнуть нулевую гипотезу, нет оснований считать доли разными\n"
     ]
    }
   ],
   "source": [
    "automation (3, 2, 0.05)"
   ]
  },
  {
   "cell_type": "markdown",
   "id": "54802dc7",
   "metadata": {},
   "source": [
    "**При уровне значимаости 0.05 тест показал что для групп 246 и 248 нет разница в долях пользователей, открывших страницу с корзиной, в отличие от теста с уровнем значимости 0.1, все остальные тесты также не выявили значимых различий.**"
   ]
  },
  {
   "cell_type": "markdown",
   "id": "245c8a4d",
   "metadata": {},
   "source": [
    "**Так как мы проводим множественную проверку гипотез, то с кажддой проверкой увеличивается риск ложнопозитивного результата, поэтому более оптимальным уровнем статистической значимости будет 0.05, в отличие от уровня 0.01, так как меньший данный показатель наиболее вероятно исключит ошибку первого рода, то есть будет меньшая вероятность найти значимые различия там, где их быть не должно.**"
   ]
  },
  {
   "cell_type": "markdown",
   "id": "967d188a",
   "metadata": {},
   "source": [
    "## Вывод"
   ]
  },
  {
   "cell_type": "markdown",
   "id": "7313ebb7",
   "metadata": {},
   "source": [
    "**В исходных данных были обнаружены и впоследствии удалены дубликаты, названия столбцов были переименованы в соответствии с \"хорошим стилем\", колонка с датами была приведена к нужному типу, пропусков обнаружено не было, также не были обнаружены пользователи, попавшие в несколько групп.**\n",
    "\n",
    "**Исследуемый период был с 2019-07-25 по 2019-08-07, но было обнаружено, что в период с 2019-07-25 по 2019-07-31 произошло всего 1.16% событий, поэтому было принято решение не учитывать этот период в исследовании.**\n",
    "\n",
    "**Самым популярным событием оказалось открытие главной страницы, самым непопулярным - обучение. Всего 466 пользователей совершили каждое событие. Почти 98.5% пользователей посещали главную страницу и только 11.15% пользователей проходили обучение. 61% пользователей посетли страницу с товарами, практически 50% перешли на страницу с корзиной и целых 47% перешили на сраницу с успешной оплатой товара.**\n",
    "\n",
    "**При расчете воронки продаж не учитывалось событие с прохождением обучения, так как оно не встраивается в последовательную цепочку совершения покупки вместе с остальными событиями. Воронка выглядит следующим образом: пользователь открывает главную сраницу, открывает страницу с товаром, добавляет товар в корзину и открывает ее страницу, далее оплачивает товар и переходит на страницу с успешной оплатой. Из всех пользователей, посетивших главную страницу только 62% переходят на страницу с товарами, из этих пользователей 81.3% перешли на страницу с корзиной и почти 95% из них на страницу с успешной оплатой, то есть наибольшая потеря пользователей происходит на первом шаге. Из всех пользователей 47.7% пользователей доходят от просмотра главной страницы до оплаты товара.**\n",
    "\n",
    "**В каждой группе около 2500 пользователей. При проведении тестов статистических различий между группами 246 и 247 не было найдено. Тесты проводились с двумя уровнями статистической значимости: alpha=0.1 и alpha=0.05. Все тесты показали, что разницы между группами 246 и 247, 246 и 248, 247 и 248, а также объединенными группами 246 и 247 и группой 248 нет, за исключением проверки групп 246 и 248 с уровенем статистической значимости alpha=0.1, тут тест показал разницу между долями пользователей, открывших страницу с корзиной у этих групп. Как выяснилось в группе 246 процент пользователей, добавивших товар в корзину 51%, а в группе 248 их 48%.**"
   ]
  }
 ],
 "metadata": {
  "ExecuteTimeLog": [
   {
    "duration": 1136,
    "start_time": "2023-04-18T20:13:35.900Z"
   },
   {
    "duration": 1095,
    "start_time": "2023-04-18T20:13:47.341Z"
   },
   {
    "duration": 10,
    "start_time": "2023-04-18T20:13:53.455Z"
   },
   {
    "duration": 54,
    "start_time": "2023-04-18T20:14:06.283Z"
   },
   {
    "duration": 44,
    "start_time": "2023-04-18T20:14:46.102Z"
   },
   {
    "duration": 48,
    "start_time": "2023-04-18T20:15:00.059Z"
   },
   {
    "duration": 7,
    "start_time": "2023-04-18T20:15:01.083Z"
   },
   {
    "duration": 136,
    "start_time": "2023-04-18T20:15:10.955Z"
   },
   {
    "duration": 151,
    "start_time": "2023-04-18T20:15:15.234Z"
   },
   {
    "duration": 7,
    "start_time": "2023-04-18T20:15:16.016Z"
   },
   {
    "duration": 137,
    "start_time": "2023-04-18T20:15:20.685Z"
   },
   {
    "duration": 7,
    "start_time": "2023-04-18T20:15:21.196Z"
   },
   {
    "duration": 134,
    "start_time": "2023-04-18T20:15:25.838Z"
   },
   {
    "duration": 17,
    "start_time": "2023-04-18T20:16:17.599Z"
   },
   {
    "duration": 350,
    "start_time": "2023-04-18T21:38:14.836Z"
   },
   {
    "duration": 511,
    "start_time": "2023-04-18T21:38:36.326Z"
   },
   {
    "duration": 214,
    "start_time": "2023-04-18T21:38:58.002Z"
   },
   {
    "duration": 3,
    "start_time": "2023-04-18T21:39:08.023Z"
   },
   {
    "duration": 8,
    "start_time": "2023-04-18T21:41:52.873Z"
   },
   {
    "duration": 8,
    "start_time": "2023-04-18T21:42:02.604Z"
   },
   {
    "duration": 8,
    "start_time": "2023-04-18T21:42:09.198Z"
   },
   {
    "duration": 7,
    "start_time": "2023-04-18T21:42:13.445Z"
   },
   {
    "duration": 8,
    "start_time": "2023-04-18T21:42:19.245Z"
   },
   {
    "duration": 16,
    "start_time": "2023-04-18T21:44:09.156Z"
   },
   {
    "duration": 13,
    "start_time": "2023-04-18T21:45:33.586Z"
   },
   {
    "duration": 9,
    "start_time": "2023-04-18T21:45:39.042Z"
   },
   {
    "duration": 10,
    "start_time": "2023-04-18T21:45:43.919Z"
   },
   {
    "duration": 7,
    "start_time": "2023-04-18T21:48:25.082Z"
   },
   {
    "duration": 8,
    "start_time": "2023-04-18T21:48:30.769Z"
   },
   {
    "duration": 8,
    "start_time": "2023-04-18T21:49:37.776Z"
   },
   {
    "duration": 16,
    "start_time": "2023-04-18T21:49:44.189Z"
   },
   {
    "duration": 10,
    "start_time": "2023-04-18T21:51:33.579Z"
   },
   {
    "duration": 19,
    "start_time": "2023-04-18T21:51:43.787Z"
   },
   {
    "duration": 14,
    "start_time": "2023-04-18T21:51:49.704Z"
   },
   {
    "duration": 9,
    "start_time": "2023-04-18T21:52:04.474Z"
   },
   {
    "duration": 11,
    "start_time": "2023-04-18T21:54:06.028Z"
   },
   {
    "duration": 8,
    "start_time": "2023-04-18T21:54:13.252Z"
   },
   {
    "duration": 8,
    "start_time": "2023-04-18T21:55:54.804Z"
   },
   {
    "duration": 9,
    "start_time": "2023-04-18T21:58:27.128Z"
   },
   {
    "duration": 8,
    "start_time": "2023-04-18T21:58:29.054Z"
   },
   {
    "duration": 9,
    "start_time": "2023-04-18T21:58:38.095Z"
   },
   {
    "duration": 9,
    "start_time": "2023-04-18T21:58:38.903Z"
   },
   {
    "duration": 7,
    "start_time": "2023-04-18T22:03:03.718Z"
   },
   {
    "duration": 57,
    "start_time": "2023-04-18T22:03:15.289Z"
   },
   {
    "duration": 8,
    "start_time": "2023-04-18T22:03:18.480Z"
   },
   {
    "duration": 8,
    "start_time": "2023-04-18T22:03:59.860Z"
   },
   {
    "duration": 23,
    "start_time": "2023-04-18T22:06:19.743Z"
   },
   {
    "duration": 59,
    "start_time": "2023-04-18T22:08:32.650Z"
   },
   {
    "duration": 80,
    "start_time": "2023-04-18T22:08:36.160Z"
   },
   {
    "duration": 62,
    "start_time": "2023-04-18T22:08:53.218Z"
   },
   {
    "duration": 64,
    "start_time": "2023-04-18T22:08:58.697Z"
   },
   {
    "duration": 9,
    "start_time": "2023-04-18T22:09:06.124Z"
   },
   {
    "duration": 86,
    "start_time": "2023-04-18T22:09:08.367Z"
   },
   {
    "duration": 85,
    "start_time": "2023-04-18T22:09:14.041Z"
   },
   {
    "duration": 19,
    "start_time": "2023-04-18T22:10:04.891Z"
   },
   {
    "duration": 64,
    "start_time": "2023-04-18T22:10:20.849Z"
   },
   {
    "duration": 77,
    "start_time": "2023-04-18T22:10:32.669Z"
   },
   {
    "duration": 63,
    "start_time": "2023-04-18T22:10:35.808Z"
   },
   {
    "duration": 19,
    "start_time": "2023-04-18T22:12:03.993Z"
   },
   {
    "duration": 35,
    "start_time": "2023-04-18T22:27:38.579Z"
   },
   {
    "duration": 8,
    "start_time": "2023-04-18T22:28:00.735Z"
   },
   {
    "duration": 7,
    "start_time": "2023-04-18T22:28:04.316Z"
   },
   {
    "duration": 38,
    "start_time": "2023-04-18T22:28:15.889Z"
   },
   {
    "duration": 11,
    "start_time": "2023-04-18T23:31:06.497Z"
   },
   {
    "duration": 23,
    "start_time": "2023-04-18T23:31:11.340Z"
   },
   {
    "duration": 11,
    "start_time": "2023-04-18T23:31:55.491Z"
   },
   {
    "duration": 23,
    "start_time": "2023-04-18T23:31:56.002Z"
   },
   {
    "duration": 11,
    "start_time": "2023-04-18T23:32:03.027Z"
   },
   {
    "duration": 23,
    "start_time": "2023-04-18T23:32:03.466Z"
   },
   {
    "duration": 33,
    "start_time": "2023-04-18T23:32:28.209Z"
   },
   {
    "duration": 36,
    "start_time": "2023-04-18T23:33:03.856Z"
   },
   {
    "duration": 40,
    "start_time": "2023-04-18T23:33:50.459Z"
   },
   {
    "duration": 51,
    "start_time": "2023-04-18T23:34:28.419Z"
   },
   {
    "duration": 46,
    "start_time": "2023-04-18T23:34:31.826Z"
   },
   {
    "duration": 30,
    "start_time": "2023-04-18T23:34:35.035Z"
   },
   {
    "duration": 30,
    "start_time": "2023-04-18T23:35:04.763Z"
   },
   {
    "duration": 29,
    "start_time": "2023-04-18T23:37:02.176Z"
   },
   {
    "duration": 5,
    "start_time": "2023-04-18T23:50:06.590Z"
   },
   {
    "duration": 25,
    "start_time": "2023-04-18T23:50:12.458Z"
   },
   {
    "duration": 52,
    "start_time": "2023-04-18T23:51:30.746Z"
   },
   {
    "duration": 2,
    "start_time": "2023-04-18T23:51:36.622Z"
   },
   {
    "duration": 3,
    "start_time": "2023-04-18T23:51:41.070Z"
   },
   {
    "duration": 6,
    "start_time": "2023-04-18T23:52:06.060Z"
   },
   {
    "duration": 5,
    "start_time": "2023-04-18T23:56:55.998Z"
   },
   {
    "duration": 5,
    "start_time": "2023-04-18T23:57:19.868Z"
   },
   {
    "duration": 5,
    "start_time": "2023-04-19T00:01:02.878Z"
   },
   {
    "duration": 4,
    "start_time": "2023-04-19T00:01:09.616Z"
   },
   {
    "duration": 4,
    "start_time": "2023-04-19T00:01:33.334Z"
   },
   {
    "duration": 14,
    "start_time": "2023-04-19T00:01:44.302Z"
   },
   {
    "duration": 21,
    "start_time": "2023-04-19T00:01:50.100Z"
   },
   {
    "duration": 23,
    "start_time": "2023-04-19T00:01:59.371Z"
   },
   {
    "duration": 22,
    "start_time": "2023-04-19T00:02:17.448Z"
   },
   {
    "duration": 22,
    "start_time": "2023-04-19T00:02:33.833Z"
   },
   {
    "duration": 24,
    "start_time": "2023-04-19T00:02:38.549Z"
   },
   {
    "duration": 271,
    "start_time": "2023-04-19T00:04:58.504Z"
   },
   {
    "duration": 180,
    "start_time": "2023-04-19T00:05:04.408Z"
   },
   {
    "duration": 9,
    "start_time": "2023-04-19T00:05:19.935Z"
   },
   {
    "duration": 210,
    "start_time": "2023-04-19T00:05:52.675Z"
   },
   {
    "duration": 210,
    "start_time": "2023-04-19T00:06:06.576Z"
   },
   {
    "duration": 228,
    "start_time": "2023-04-19T00:06:10.180Z"
   },
   {
    "duration": 195,
    "start_time": "2023-04-19T00:06:18.062Z"
   },
   {
    "duration": 187,
    "start_time": "2023-04-19T00:06:22.737Z"
   },
   {
    "duration": 201,
    "start_time": "2023-04-19T00:07:08.617Z"
   },
   {
    "duration": 198,
    "start_time": "2023-04-19T00:07:12.850Z"
   },
   {
    "duration": 200,
    "start_time": "2023-04-19T00:07:24.626Z"
   },
   {
    "duration": 191,
    "start_time": "2023-04-19T00:07:27.601Z"
   },
   {
    "duration": 308,
    "start_time": "2023-04-19T00:07:49.486Z"
   },
   {
    "duration": 189,
    "start_time": "2023-04-19T00:07:54.685Z"
   },
   {
    "duration": 263,
    "start_time": "2023-04-19T00:08:00.103Z"
   },
   {
    "duration": 218,
    "start_time": "2023-04-19T00:08:17.305Z"
   },
   {
    "duration": 181,
    "start_time": "2023-04-19T00:08:31.960Z"
   },
   {
    "duration": 190,
    "start_time": "2023-04-19T00:08:44.486Z"
   },
   {
    "duration": 188,
    "start_time": "2023-04-19T00:08:49.221Z"
   },
   {
    "duration": 230,
    "start_time": "2023-04-19T00:08:57.041Z"
   },
   {
    "duration": 21,
    "start_time": "2023-04-19T00:10:50.517Z"
   },
   {
    "duration": 36,
    "start_time": "2023-04-19T00:11:39.657Z"
   },
   {
    "duration": 203,
    "start_time": "2023-04-19T00:13:48.629Z"
   },
   {
    "duration": 173,
    "start_time": "2023-04-19T00:14:16.387Z"
   },
   {
    "duration": 265,
    "start_time": "2023-04-19T00:14:28.426Z"
   },
   {
    "duration": 30,
    "start_time": "2023-04-19T00:17:26.655Z"
   },
   {
    "duration": 23,
    "start_time": "2023-04-19T00:17:32.960Z"
   },
   {
    "duration": 28,
    "start_time": "2023-04-19T00:17:40.045Z"
   },
   {
    "duration": 587,
    "start_time": "2023-04-19T00:18:49.890Z"
   },
   {
    "duration": 16,
    "start_time": "2023-04-19T00:19:20.385Z"
   },
   {
    "duration": 12,
    "start_time": "2023-04-19T00:19:24.978Z"
   },
   {
    "duration": 206,
    "start_time": "2023-04-19T00:19:32.903Z"
   },
   {
    "duration": 16,
    "start_time": "2023-04-19T00:20:01.775Z"
   },
   {
    "duration": 9,
    "start_time": "2023-04-19T00:20:17.412Z"
   },
   {
    "duration": 7,
    "start_time": "2023-04-19T00:20:32.296Z"
   },
   {
    "duration": 16,
    "start_time": "2023-04-19T00:21:12.658Z"
   },
   {
    "duration": 20,
    "start_time": "2023-04-19T00:22:35.957Z"
   },
   {
    "duration": 16,
    "start_time": "2023-04-19T00:28:07.059Z"
   },
   {
    "duration": 14,
    "start_time": "2023-04-19T00:28:18.727Z"
   },
   {
    "duration": 15,
    "start_time": "2023-04-19T00:28:35.431Z"
   },
   {
    "duration": 18,
    "start_time": "2023-04-19T00:28:39.877Z"
   },
   {
    "duration": 14,
    "start_time": "2023-04-19T00:29:00.278Z"
   },
   {
    "duration": 14,
    "start_time": "2023-04-19T00:29:34.379Z"
   },
   {
    "duration": 16,
    "start_time": "2023-04-19T00:29:42.813Z"
   },
   {
    "duration": 13,
    "start_time": "2023-04-19T00:29:52.611Z"
   },
   {
    "duration": 44,
    "start_time": "2023-04-19T00:30:28.736Z"
   },
   {
    "duration": 6,
    "start_time": "2023-04-19T00:30:31.161Z"
   },
   {
    "duration": 6,
    "start_time": "2023-04-19T00:30:48.673Z"
   },
   {
    "duration": 17,
    "start_time": "2023-04-19T00:31:19.146Z"
   },
   {
    "duration": 17,
    "start_time": "2023-04-19T00:31:24.445Z"
   },
   {
    "duration": 17,
    "start_time": "2023-04-19T00:31:33.980Z"
   },
   {
    "duration": 29,
    "start_time": "2023-04-19T00:33:28.210Z"
   },
   {
    "duration": 14,
    "start_time": "2023-04-19T00:33:33.967Z"
   },
   {
    "duration": 22,
    "start_time": "2023-04-19T00:33:39.536Z"
   },
   {
    "duration": 18,
    "start_time": "2023-04-19T00:34:37.663Z"
   },
   {
    "duration": 22,
    "start_time": "2023-04-19T00:34:38.184Z"
   },
   {
    "duration": 958,
    "start_time": "2023-04-19T00:34:57.057Z"
   },
   {
    "duration": 136,
    "start_time": "2023-04-19T00:34:58.017Z"
   },
   {
    "duration": 10,
    "start_time": "2023-04-19T00:34:58.155Z"
   },
   {
    "duration": 17,
    "start_time": "2023-04-19T00:34:58.167Z"
   },
   {
    "duration": 11,
    "start_time": "2023-04-19T00:34:58.185Z"
   },
   {
    "duration": 14,
    "start_time": "2023-04-19T00:34:58.197Z"
   },
   {
    "duration": 59,
    "start_time": "2023-04-19T00:34:58.213Z"
   },
   {
    "duration": 95,
    "start_time": "2023-04-19T00:34:58.273Z"
   },
   {
    "duration": 105,
    "start_time": "2023-04-19T00:34:58.369Z"
   },
   {
    "duration": 68,
    "start_time": "2023-04-19T00:34:58.476Z"
   },
   {
    "duration": 18,
    "start_time": "2023-04-19T00:34:58.545Z"
   },
   {
    "duration": 41,
    "start_time": "2023-04-19T00:34:58.564Z"
   },
   {
    "duration": 8,
    "start_time": "2023-04-19T00:34:58.607Z"
   },
   {
    "duration": 23,
    "start_time": "2023-04-19T00:34:58.616Z"
   },
   {
    "duration": 3,
    "start_time": "2023-04-19T00:34:58.641Z"
   },
   {
    "duration": 6,
    "start_time": "2023-04-19T00:34:58.645Z"
   },
   {
    "duration": 6,
    "start_time": "2023-04-19T00:34:58.652Z"
   },
   {
    "duration": 44,
    "start_time": "2023-04-19T00:34:58.659Z"
   },
   {
    "duration": 268,
    "start_time": "2023-04-19T00:34:58.704Z"
   },
   {
    "duration": 39,
    "start_time": "2023-04-19T00:34:58.974Z"
   },
   {
    "duration": 16,
    "start_time": "2023-04-19T00:34:59.015Z"
   },
   {
    "duration": 12,
    "start_time": "2023-04-19T00:34:59.032Z"
   },
   {
    "duration": 22,
    "start_time": "2023-04-19T00:34:59.045Z"
   },
   {
    "duration": 976,
    "start_time": "2023-04-19T00:36:13.165Z"
   },
   {
    "duration": 139,
    "start_time": "2023-04-19T00:36:14.142Z"
   },
   {
    "duration": 11,
    "start_time": "2023-04-19T00:36:14.283Z"
   },
   {
    "duration": 16,
    "start_time": "2023-04-19T00:36:14.296Z"
   },
   {
    "duration": 3,
    "start_time": "2023-04-19T00:36:14.313Z"
   },
   {
    "duration": 14,
    "start_time": "2023-04-19T00:36:14.317Z"
   },
   {
    "duration": 73,
    "start_time": "2023-04-19T00:36:14.332Z"
   },
   {
    "duration": 74,
    "start_time": "2023-04-19T00:36:14.407Z"
   },
   {
    "duration": 112,
    "start_time": "2023-04-19T00:36:14.493Z"
   },
   {
    "duration": 68,
    "start_time": "2023-04-19T00:36:14.607Z"
   },
   {
    "duration": 32,
    "start_time": "2023-04-19T00:36:14.676Z"
   },
   {
    "duration": 32,
    "start_time": "2023-04-19T00:36:14.710Z"
   },
   {
    "duration": 8,
    "start_time": "2023-04-19T00:36:14.744Z"
   },
   {
    "duration": 48,
    "start_time": "2023-04-19T00:36:14.755Z"
   },
   {
    "duration": 3,
    "start_time": "2023-04-19T00:36:14.805Z"
   },
   {
    "duration": 24,
    "start_time": "2023-04-19T00:36:14.809Z"
   },
   {
    "duration": 13,
    "start_time": "2023-04-19T00:36:14.835Z"
   },
   {
    "duration": 41,
    "start_time": "2023-04-19T00:36:14.849Z"
   },
   {
    "duration": 278,
    "start_time": "2023-04-19T00:36:14.892Z"
   },
   {
    "duration": 42,
    "start_time": "2023-04-19T00:36:15.171Z"
   },
   {
    "duration": 18,
    "start_time": "2023-04-19T00:36:15.214Z"
   },
   {
    "duration": 11,
    "start_time": "2023-04-19T00:36:15.233Z"
   },
   {
    "duration": 23,
    "start_time": "2023-04-19T00:36:15.245Z"
   },
   {
    "duration": 312,
    "start_time": "2023-04-19T00:36:30.532Z"
   },
   {
    "duration": 9,
    "start_time": "2023-04-19T00:37:05.989Z"
   },
   {
    "duration": 5,
    "start_time": "2023-04-19T00:38:02.431Z"
   },
   {
    "duration": 223,
    "start_time": "2023-04-19T00:38:09.101Z"
   },
   {
    "duration": 19,
    "start_time": "2023-04-19T00:38:23.494Z"
   },
   {
    "duration": 6,
    "start_time": "2023-04-19T00:38:26.464Z"
   },
   {
    "duration": 18,
    "start_time": "2023-04-19T00:38:47.966Z"
   },
   {
    "duration": 22,
    "start_time": "2023-04-19T00:38:49.446Z"
   },
   {
    "duration": 5,
    "start_time": "2023-04-19T00:38:50.621Z"
   },
   {
    "duration": 13,
    "start_time": "2023-04-19T01:28:59.640Z"
   },
   {
    "duration": 15,
    "start_time": "2023-04-19T01:29:03.799Z"
   },
   {
    "duration": 14,
    "start_time": "2023-04-19T01:29:15.341Z"
   },
   {
    "duration": 39,
    "start_time": "2023-04-19T01:29:18.836Z"
   },
   {
    "duration": 15,
    "start_time": "2023-04-19T01:29:26.422Z"
   },
   {
    "duration": 46,
    "start_time": "2023-04-19T01:29:59.699Z"
   },
   {
    "duration": 27,
    "start_time": "2023-04-19T01:31:54.300Z"
   },
   {
    "duration": 30,
    "start_time": "2023-04-19T01:32:12.966Z"
   },
   {
    "duration": 31,
    "start_time": "2023-04-19T01:32:25.943Z"
   },
   {
    "duration": 31,
    "start_time": "2023-04-19T01:32:30.864Z"
   },
   {
    "duration": 140,
    "start_time": "2023-04-19T01:33:47.020Z"
   },
   {
    "duration": 28,
    "start_time": "2023-04-19T01:33:54.187Z"
   },
   {
    "duration": 139,
    "start_time": "2023-04-19T01:33:59.732Z"
   },
   {
    "duration": 26,
    "start_time": "2023-04-19T01:34:17.721Z"
   },
   {
    "duration": 49,
    "start_time": "2023-04-19T01:35:53.081Z"
   },
   {
    "duration": 7,
    "start_time": "2023-04-19T01:39:08.155Z"
   },
   {
    "duration": 13,
    "start_time": "2023-04-19T01:41:00.815Z"
   },
   {
    "duration": 59,
    "start_time": "2023-04-19T01:41:08.752Z"
   },
   {
    "duration": 68,
    "start_time": "2023-04-19T01:41:41.362Z"
   },
   {
    "duration": 58,
    "start_time": "2023-04-19T01:41:46.054Z"
   },
   {
    "duration": 55,
    "start_time": "2023-04-19T01:41:49.887Z"
   },
   {
    "duration": 24,
    "start_time": "2023-04-19T01:42:19.258Z"
   },
   {
    "duration": 52,
    "start_time": "2023-04-19T01:42:25.477Z"
   },
   {
    "duration": 50,
    "start_time": "2023-04-19T01:42:35.576Z"
   },
   {
    "duration": 48,
    "start_time": "2023-04-19T01:42:42.603Z"
   },
   {
    "duration": 47,
    "start_time": "2023-04-19T01:42:48.334Z"
   },
   {
    "duration": 46,
    "start_time": "2023-04-19T01:42:56.913Z"
   },
   {
    "duration": 54,
    "start_time": "2023-04-19T01:43:13.127Z"
   },
   {
    "duration": 15,
    "start_time": "2023-04-19T01:43:23.535Z"
   },
   {
    "duration": 57,
    "start_time": "2023-04-19T01:44:22.493Z"
   },
   {
    "duration": 56,
    "start_time": "2023-04-19T01:44:31.784Z"
   },
   {
    "duration": 57,
    "start_time": "2023-04-19T01:45:19.094Z"
   },
   {
    "duration": 55,
    "start_time": "2023-04-19T01:45:34.704Z"
   },
   {
    "duration": 56,
    "start_time": "2023-04-19T01:46:06.385Z"
   },
   {
    "duration": 53,
    "start_time": "2023-04-19T01:46:31.614Z"
   },
   {
    "duration": 44,
    "start_time": "2023-04-19T01:52:12.037Z"
   },
   {
    "duration": 40,
    "start_time": "2023-04-19T01:52:24.440Z"
   },
   {
    "duration": 9,
    "start_time": "2023-04-19T01:52:35.873Z"
   },
   {
    "duration": 4,
    "start_time": "2023-04-19T01:52:48.139Z"
   },
   {
    "duration": 4,
    "start_time": "2023-04-19T01:52:50.997Z"
   },
   {
    "duration": 677,
    "start_time": "2023-04-19T01:53:15.989Z"
   },
   {
    "duration": 4,
    "start_time": "2023-04-19T01:53:22.706Z"
   },
   {
    "duration": 7,
    "start_time": "2023-04-19T01:53:28.279Z"
   },
   {
    "duration": 4,
    "start_time": "2023-04-19T01:53:30.729Z"
   },
   {
    "duration": 4,
    "start_time": "2023-04-19T01:53:37.055Z"
   },
   {
    "duration": 52,
    "start_time": "2023-04-19T01:55:40.544Z"
   },
   {
    "duration": 5,
    "start_time": "2023-04-19T01:55:53.689Z"
   },
   {
    "duration": 54,
    "start_time": "2023-04-19T01:56:41.549Z"
   },
   {
    "duration": 49,
    "start_time": "2023-04-19T01:56:45.771Z"
   },
   {
    "duration": 48,
    "start_time": "2023-04-19T01:56:49.850Z"
   },
   {
    "duration": 57,
    "start_time": "2023-04-19T01:57:04.023Z"
   },
   {
    "duration": 6,
    "start_time": "2023-04-19T01:57:06.590Z"
   },
   {
    "duration": 7,
    "start_time": "2023-04-19T01:57:42.304Z"
   },
   {
    "duration": 7,
    "start_time": "2023-04-19T01:57:45.971Z"
   },
   {
    "duration": 3,
    "start_time": "2023-04-19T01:58:02.911Z"
   },
   {
    "duration": 6,
    "start_time": "2023-04-19T01:58:06.076Z"
   },
   {
    "duration": 4,
    "start_time": "2023-04-19T01:58:35.505Z"
   },
   {
    "duration": 6,
    "start_time": "2023-04-19T01:58:44.145Z"
   },
   {
    "duration": 7,
    "start_time": "2023-04-19T01:59:17.871Z"
   },
   {
    "duration": 46,
    "start_time": "2023-04-19T02:14:41.101Z"
   },
   {
    "duration": 4,
    "start_time": "2023-04-19T02:51:45.030Z"
   },
   {
    "duration": 8,
    "start_time": "2023-04-19T02:51:53.157Z"
   },
   {
    "duration": 202,
    "start_time": "2023-04-19T02:51:59.023Z"
   },
   {
    "duration": 12,
    "start_time": "2023-04-19T02:52:01.367Z"
   },
   {
    "duration": 4,
    "start_time": "2023-04-19T02:52:09.730Z"
   },
   {
    "duration": 64,
    "start_time": "2023-04-19T02:57:45.307Z"
   },
   {
    "duration": 6,
    "start_time": "2023-04-19T02:57:48.095Z"
   },
   {
    "duration": 70,
    "start_time": "2023-04-19T02:58:08.143Z"
   },
   {
    "duration": 6,
    "start_time": "2023-04-19T02:58:10.165Z"
   },
   {
    "duration": 3,
    "start_time": "2023-04-19T02:59:06.240Z"
   },
   {
    "duration": 6,
    "start_time": "2023-04-19T02:59:08.932Z"
   },
   {
    "duration": 4,
    "start_time": "2023-04-19T03:00:05.277Z"
   },
   {
    "duration": 7,
    "start_time": "2023-04-19T03:00:07.992Z"
   },
   {
    "duration": 713,
    "start_time": "2023-04-19T03:01:10.420Z"
   },
   {
    "duration": 4,
    "start_time": "2023-04-19T03:01:19.320Z"
   },
   {
    "duration": 4,
    "start_time": "2023-04-19T03:01:19.730Z"
   },
   {
    "duration": 4,
    "start_time": "2023-04-19T03:01:20.079Z"
   },
   {
    "duration": 7,
    "start_time": "2023-04-19T03:01:22.414Z"
   },
   {
    "duration": 7,
    "start_time": "2023-04-19T03:02:13.684Z"
   },
   {
    "duration": 4,
    "start_time": "2023-04-19T03:02:31.911Z"
   },
   {
    "duration": 4,
    "start_time": "2023-04-19T03:02:32.509Z"
   },
   {
    "duration": 4,
    "start_time": "2023-04-19T03:02:32.897Z"
   },
   {
    "duration": 7,
    "start_time": "2023-04-19T03:02:33.313Z"
   },
   {
    "duration": 9,
    "start_time": "2023-04-19T03:02:57.806Z"
   },
   {
    "duration": 8,
    "start_time": "2023-04-19T03:03:03.344Z"
   },
   {
    "duration": 7,
    "start_time": "2023-04-19T03:03:08.895Z"
   },
   {
    "duration": 3,
    "start_time": "2023-04-19T03:03:16.455Z"
   },
   {
    "duration": 7,
    "start_time": "2023-04-19T03:03:18.575Z"
   },
   {
    "duration": 3,
    "start_time": "2023-04-19T03:03:36.267Z"
   },
   {
    "duration": 8,
    "start_time": "2023-04-19T03:03:36.723Z"
   },
   {
    "duration": 4,
    "start_time": "2023-04-19T03:03:39.321Z"
   },
   {
    "duration": 6,
    "start_time": "2023-04-19T03:03:39.903Z"
   },
   {
    "duration": 6,
    "start_time": "2023-04-19T03:03:40.484Z"
   },
   {
    "duration": 6,
    "start_time": "2023-04-19T03:03:46.426Z"
   },
   {
    "duration": 9,
    "start_time": "2023-04-19T03:03:58.899Z"
   },
   {
    "duration": 7,
    "start_time": "2023-04-19T03:04:00.603Z"
   },
   {
    "duration": 9,
    "start_time": "2023-04-19T03:04:07.770Z"
   },
   {
    "duration": 8,
    "start_time": "2023-04-19T03:04:09.641Z"
   },
   {
    "duration": 4,
    "start_time": "2023-04-19T03:05:16.150Z"
   },
   {
    "duration": 8,
    "start_time": "2023-04-19T03:05:16.618Z"
   },
   {
    "duration": 6,
    "start_time": "2023-04-19T03:05:21.863Z"
   },
   {
    "duration": 3,
    "start_time": "2023-04-19T03:05:42.061Z"
   },
   {
    "duration": 65,
    "start_time": "2023-04-19T03:05:49.728Z"
   },
   {
    "duration": 3,
    "start_time": "2023-04-19T03:05:50.250Z"
   },
   {
    "duration": 3,
    "start_time": "2023-04-19T03:05:50.630Z"
   },
   {
    "duration": 3,
    "start_time": "2023-04-19T03:05:51.021Z"
   },
   {
    "duration": 7,
    "start_time": "2023-04-19T03:05:51.406Z"
   },
   {
    "duration": 6,
    "start_time": "2023-04-19T03:05:51.937Z"
   },
   {
    "duration": 4,
    "start_time": "2023-04-19T03:10:50.999Z"
   },
   {
    "duration": 8,
    "start_time": "2023-04-19T03:10:59.179Z"
   },
   {
    "duration": 4,
    "start_time": "2023-04-19T03:11:03.272Z"
   },
   {
    "duration": 3,
    "start_time": "2023-04-19T03:11:12.100Z"
   },
   {
    "duration": 4,
    "start_time": "2023-04-19T03:11:18.147Z"
   },
   {
    "duration": 4,
    "start_time": "2023-04-19T03:11:32.867Z"
   },
   {
    "duration": 8,
    "start_time": "2023-04-19T03:12:40.160Z"
   },
   {
    "duration": 10,
    "start_time": "2023-04-19T03:12:45.694Z"
   },
   {
    "duration": 3,
    "start_time": "2023-04-19T03:12:59.615Z"
   },
   {
    "duration": 10,
    "start_time": "2023-04-19T03:13:19.622Z"
   },
   {
    "duration": 8,
    "start_time": "2023-04-19T03:13:50.347Z"
   },
   {
    "duration": 9,
    "start_time": "2023-04-19T03:13:57.493Z"
   },
   {
    "duration": 9,
    "start_time": "2023-04-19T03:14:05.735Z"
   },
   {
    "duration": 3,
    "start_time": "2023-04-19T03:14:59.504Z"
   },
   {
    "duration": 3,
    "start_time": "2023-04-19T03:15:09.862Z"
   },
   {
    "duration": 34,
    "start_time": "2023-04-19T03:17:23.694Z"
   },
   {
    "duration": 8,
    "start_time": "2023-04-19T03:35:16.884Z"
   },
   {
    "duration": 1231,
    "start_time": "2023-04-19T21:11:14.657Z"
   },
   {
    "duration": 493,
    "start_time": "2023-04-19T21:11:15.890Z"
   },
   {
    "duration": 14,
    "start_time": "2023-04-19T21:11:16.384Z"
   },
   {
    "duration": 21,
    "start_time": "2023-04-19T21:11:16.401Z"
   },
   {
    "duration": 3,
    "start_time": "2023-04-19T21:11:16.423Z"
   },
   {
    "duration": 16,
    "start_time": "2023-04-19T21:11:16.428Z"
   },
   {
    "duration": 65,
    "start_time": "2023-04-19T21:11:16.446Z"
   },
   {
    "duration": 91,
    "start_time": "2023-04-19T21:11:16.512Z"
   },
   {
    "duration": 111,
    "start_time": "2023-04-19T21:11:16.605Z"
   },
   {
    "duration": 66,
    "start_time": "2023-04-19T21:11:16.719Z"
   },
   {
    "duration": 24,
    "start_time": "2023-04-19T21:11:16.787Z"
   },
   {
    "duration": 47,
    "start_time": "2023-04-19T21:11:16.812Z"
   },
   {
    "duration": 9,
    "start_time": "2023-04-19T21:11:16.860Z"
   },
   {
    "duration": 26,
    "start_time": "2023-04-19T21:11:16.871Z"
   },
   {
    "duration": 4,
    "start_time": "2023-04-19T21:11:16.899Z"
   },
   {
    "duration": 9,
    "start_time": "2023-04-19T21:11:16.904Z"
   },
   {
    "duration": 9,
    "start_time": "2023-04-19T21:11:16.934Z"
   },
   {
    "duration": 36,
    "start_time": "2023-04-19T21:11:16.945Z"
   },
   {
    "duration": 290,
    "start_time": "2023-04-19T21:11:16.983Z"
   },
   {
    "duration": 40,
    "start_time": "2023-04-19T21:11:17.275Z"
   },
   {
    "duration": 34,
    "start_time": "2023-04-19T21:11:17.316Z"
   },
   {
    "duration": 11,
    "start_time": "2023-04-19T21:11:17.352Z"
   },
   {
    "duration": 14,
    "start_time": "2023-04-19T21:11:17.365Z"
   },
   {
    "duration": 56,
    "start_time": "2023-04-19T21:11:17.380Z"
   },
   {
    "duration": 65,
    "start_time": "2023-04-19T21:11:17.438Z"
   },
   {
    "duration": 72,
    "start_time": "2023-04-19T21:11:17.505Z"
   },
   {
    "duration": 6,
    "start_time": "2023-04-19T21:11:17.579Z"
   },
   {
    "duration": 3,
    "start_time": "2023-04-19T21:11:17.587Z"
   },
   {
    "duration": 11,
    "start_time": "2023-04-19T21:11:17.592Z"
   },
   {
    "duration": 93,
    "start_time": "2023-04-19T21:11:17.604Z"
   },
   {
    "duration": 4,
    "start_time": "2023-04-19T21:11:17.699Z"
   },
   {
    "duration": 6,
    "start_time": "2023-04-19T21:11:17.705Z"
   },
   {
    "duration": 6,
    "start_time": "2023-04-19T21:11:17.713Z"
   },
   {
    "duration": 20,
    "start_time": "2023-04-19T21:11:17.720Z"
   },
   {
    "duration": 9,
    "start_time": "2023-04-19T21:11:17.741Z"
   },
   {
    "duration": 47,
    "start_time": "2023-04-19T21:11:17.752Z"
   },
   {
    "duration": 7,
    "start_time": "2023-04-19T21:11:17.801Z"
   },
   {
    "duration": 130,
    "start_time": "2023-04-19T21:29:46.649Z"
   },
   {
    "duration": 80,
    "start_time": "2023-04-19T21:30:04.391Z"
   },
   {
    "duration": 41,
    "start_time": "2023-04-19T21:30:42.404Z"
   },
   {
    "duration": 8,
    "start_time": "2023-04-19T21:30:46.541Z"
   },
   {
    "duration": 115,
    "start_time": "2023-04-19T21:31:32.167Z"
   },
   {
    "duration": 7,
    "start_time": "2023-04-19T21:31:35.906Z"
   },
   {
    "duration": 5,
    "start_time": "2023-04-19T21:49:44.280Z"
   },
   {
    "duration": 119,
    "start_time": "2023-04-19T21:51:20.075Z"
   },
   {
    "duration": 8,
    "start_time": "2023-04-19T21:51:20.530Z"
   },
   {
    "duration": 5,
    "start_time": "2023-04-19T21:58:57.571Z"
   },
   {
    "duration": 1162,
    "start_time": "2023-04-19T21:59:04.594Z"
   },
   {
    "duration": 5,
    "start_time": "2023-04-19T21:59:59.575Z"
   },
   {
    "duration": 1854,
    "start_time": "2023-04-19T22:00:01.100Z"
   },
   {
    "duration": 79,
    "start_time": "2023-04-19T22:00:40.729Z"
   },
   {
    "duration": 1247,
    "start_time": "2023-04-19T22:00:46.108Z"
   },
   {
    "duration": 114,
    "start_time": "2023-04-19T22:03:06.220Z"
   },
   {
    "duration": 7,
    "start_time": "2023-04-19T22:03:06.951Z"
   },
   {
    "duration": 5,
    "start_time": "2023-04-19T22:03:07.967Z"
   },
   {
    "duration": 5,
    "start_time": "2023-04-19T22:03:08.729Z"
   },
   {
    "duration": 12,
    "start_time": "2023-04-19T22:03:10.148Z"
   },
   {
    "duration": 5,
    "start_time": "2023-04-19T22:03:11.772Z"
   },
   {
    "duration": 5,
    "start_time": "2023-04-19T22:03:24.169Z"
   },
   {
    "duration": 5,
    "start_time": "2023-04-19T22:03:31.099Z"
   },
   {
    "duration": 15,
    "start_time": "2023-04-19T22:03:31.613Z"
   },
   {
    "duration": 4,
    "start_time": "2023-04-19T22:04:09.005Z"
   },
   {
    "duration": 15,
    "start_time": "2023-04-19T22:04:13.300Z"
   },
   {
    "duration": 4,
    "start_time": "2023-04-19T22:04:24.372Z"
   },
   {
    "duration": 4,
    "start_time": "2023-04-19T22:04:27.217Z"
   },
   {
    "duration": 11,
    "start_time": "2023-04-19T22:04:27.995Z"
   },
   {
    "duration": 6,
    "start_time": "2023-04-19T22:06:15.021Z"
   },
   {
    "duration": 9,
    "start_time": "2023-04-19T22:06:17.032Z"
   },
   {
    "duration": 9,
    "start_time": "2023-04-19T22:06:36.457Z"
   },
   {
    "duration": 105,
    "start_time": "2023-04-19T22:11:12.003Z"
   },
   {
    "duration": 4,
    "start_time": "2023-04-19T22:16:46.070Z"
   },
   {
    "duration": 5,
    "start_time": "2023-04-19T22:17:49.136Z"
   },
   {
    "duration": 10,
    "start_time": "2023-04-19T22:17:51.471Z"
   },
   {
    "duration": 6,
    "start_time": "2023-04-19T22:18:37.783Z"
   },
   {
    "duration": 11,
    "start_time": "2023-04-19T22:18:39.151Z"
   },
   {
    "duration": 1264,
    "start_time": "2023-04-19T22:22:06.471Z"
   },
   {
    "duration": 71,
    "start_time": "2023-04-19T22:24:55.646Z"
   },
   {
    "duration": 76,
    "start_time": "2023-04-19T22:25:08.545Z"
   },
   {
    "duration": 75,
    "start_time": "2023-04-19T22:25:21.917Z"
   },
   {
    "duration": 15,
    "start_time": "2023-04-19T22:25:28.893Z"
   },
   {
    "duration": 23,
    "start_time": "2023-04-19T22:25:49.295Z"
   },
   {
    "duration": 1189,
    "start_time": "2023-04-19T22:25:54.289Z"
   },
   {
    "duration": 1160,
    "start_time": "2023-04-19T22:25:58.450Z"
   },
   {
    "duration": 5,
    "start_time": "2023-04-19T22:26:06.995Z"
   },
   {
    "duration": 13,
    "start_time": "2023-04-19T22:26:23.132Z"
   },
   {
    "duration": 13,
    "start_time": "2023-04-19T22:27:12.115Z"
   },
   {
    "duration": 1143,
    "start_time": "2023-04-19T22:27:28.010Z"
   },
   {
    "duration": 1595,
    "start_time": "2023-04-19T22:28:10.582Z"
   },
   {
    "duration": 1109,
    "start_time": "2023-04-19T22:28:18.413Z"
   },
   {
    "duration": 1180,
    "start_time": "2023-04-19T22:28:27.994Z"
   },
   {
    "duration": 102,
    "start_time": "2023-04-19T22:28:33.844Z"
   },
   {
    "duration": 6,
    "start_time": "2023-04-19T22:28:34.321Z"
   },
   {
    "duration": 5,
    "start_time": "2023-04-19T22:28:41.811Z"
   },
   {
    "duration": 8,
    "start_time": "2023-04-19T22:28:49.211Z"
   },
   {
    "duration": 104,
    "start_time": "2023-04-19T22:29:16.539Z"
   },
   {
    "duration": 7,
    "start_time": "2023-04-19T22:29:17.181Z"
   },
   {
    "duration": 11,
    "start_time": "2023-04-19T22:29:43.348Z"
   },
   {
    "duration": 6,
    "start_time": "2023-04-19T22:29:57.841Z"
   },
   {
    "duration": 8,
    "start_time": "2023-04-19T22:29:58.639Z"
   },
   {
    "duration": 11,
    "start_time": "2023-04-19T22:31:34.620Z"
   },
   {
    "duration": 102,
    "start_time": "2023-04-19T22:31:59.280Z"
   },
   {
    "duration": 6,
    "start_time": "2023-04-19T22:32:00.869Z"
   },
   {
    "duration": 1191,
    "start_time": "2023-04-19T22:32:06.770Z"
   },
   {
    "duration": 1207,
    "start_time": "2023-04-19T22:32:31.960Z"
   },
   {
    "duration": 1114,
    "start_time": "2023-04-19T22:32:39.246Z"
   },
   {
    "duration": 2,
    "start_time": "2023-04-19T22:32:56.177Z"
   },
   {
    "duration": 116,
    "start_time": "2023-04-19T22:33:07.911Z"
   },
   {
    "duration": 7,
    "start_time": "2023-04-19T22:33:08.463Z"
   },
   {
    "duration": 1165,
    "start_time": "2023-04-19T22:33:21.073Z"
   },
   {
    "duration": 4,
    "start_time": "2023-04-19T22:33:31.751Z"
   },
   {
    "duration": 4,
    "start_time": "2023-04-19T22:33:38.477Z"
   },
   {
    "duration": 10,
    "start_time": "2023-04-19T22:34:02.596Z"
   },
   {
    "duration": 7,
    "start_time": "2023-04-19T22:34:14.997Z"
   },
   {
    "duration": 106,
    "start_time": "2023-04-19T22:35:12.681Z"
   },
   {
    "duration": 7,
    "start_time": "2023-04-19T22:35:13.236Z"
   },
   {
    "duration": 5,
    "start_time": "2023-04-19T22:35:22.645Z"
   },
   {
    "duration": 7,
    "start_time": "2023-04-19T22:35:29.094Z"
   },
   {
    "duration": 4,
    "start_time": "2023-04-19T22:35:57.145Z"
   },
   {
    "duration": 9,
    "start_time": "2023-04-19T22:36:02.098Z"
   },
   {
    "duration": 101,
    "start_time": "2023-04-19T22:36:18.850Z"
   },
   {
    "duration": 8,
    "start_time": "2023-04-19T22:36:19.295Z"
   },
   {
    "duration": 8,
    "start_time": "2023-04-19T22:37:33.119Z"
   },
   {
    "duration": 114,
    "start_time": "2023-04-19T22:38:08.546Z"
   },
   {
    "duration": 7,
    "start_time": "2023-04-19T22:38:08.960Z"
   },
   {
    "duration": 5,
    "start_time": "2023-04-19T22:38:15.535Z"
   },
   {
    "duration": 9,
    "start_time": "2023-04-19T22:38:18.099Z"
   },
   {
    "duration": 1221,
    "start_time": "2023-04-19T22:38:28.421Z"
   },
   {
    "duration": 1294,
    "start_time": "2023-04-19T22:38:33.615Z"
   },
   {
    "duration": 1188,
    "start_time": "2023-04-19T22:38:41.281Z"
   },
   {
    "duration": 1264,
    "start_time": "2023-04-19T22:38:44.288Z"
   },
   {
    "duration": 7,
    "start_time": "2023-04-19T22:38:47.113Z"
   },
   {
    "duration": 5,
    "start_time": "2023-04-19T22:38:59.172Z"
   },
   {
    "duration": 4,
    "start_time": "2023-04-19T22:39:16.655Z"
   },
   {
    "duration": 1146,
    "start_time": "2023-04-19T22:39:24.665Z"
   },
   {
    "duration": 5,
    "start_time": "2023-04-19T22:39:28.215Z"
   },
   {
    "duration": 7,
    "start_time": "2023-04-19T22:39:34.028Z"
   },
   {
    "duration": 8,
    "start_time": "2023-04-19T22:40:03.756Z"
   },
   {
    "duration": 7,
    "start_time": "2023-04-19T22:40:07.016Z"
   },
   {
    "duration": 10,
    "start_time": "2023-04-19T22:40:13.694Z"
   },
   {
    "duration": 7,
    "start_time": "2023-04-19T22:40:15.991Z"
   },
   {
    "duration": 9,
    "start_time": "2023-04-19T22:40:36.138Z"
   },
   {
    "duration": 8,
    "start_time": "2023-04-19T22:40:45.939Z"
   },
   {
    "duration": 6,
    "start_time": "2023-04-19T22:41:09.778Z"
   },
   {
    "duration": 14,
    "start_time": "2023-04-19T22:41:36.297Z"
   },
   {
    "duration": 4,
    "start_time": "2023-04-19T22:43:15.759Z"
   },
   {
    "duration": 8,
    "start_time": "2023-04-19T22:43:20.097Z"
   },
   {
    "duration": 54,
    "start_time": "2023-04-19T22:43:28.377Z"
   },
   {
    "duration": 44,
    "start_time": "2023-04-19T22:43:31.923Z"
   },
   {
    "duration": 12,
    "start_time": "2023-04-19T22:43:35.830Z"
   },
   {
    "duration": 1051,
    "start_time": "2023-04-19T22:43:43.869Z"
   },
   {
    "duration": 166,
    "start_time": "2023-04-19T22:43:44.921Z"
   },
   {
    "duration": 12,
    "start_time": "2023-04-19T22:43:45.089Z"
   },
   {
    "duration": 33,
    "start_time": "2023-04-19T22:43:45.103Z"
   },
   {
    "duration": 4,
    "start_time": "2023-04-19T22:43:45.137Z"
   },
   {
    "duration": 21,
    "start_time": "2023-04-19T22:43:45.142Z"
   },
   {
    "duration": 76,
    "start_time": "2023-04-19T22:43:45.164Z"
   },
   {
    "duration": 102,
    "start_time": "2023-04-19T22:43:45.242Z"
   },
   {
    "duration": 123,
    "start_time": "2023-04-19T22:43:45.345Z"
   },
   {
    "duration": 73,
    "start_time": "2023-04-19T22:43:45.470Z"
   },
   {
    "duration": 28,
    "start_time": "2023-04-19T22:43:45.545Z"
   },
   {
    "duration": 65,
    "start_time": "2023-04-19T22:43:45.575Z"
   },
   {
    "duration": 11,
    "start_time": "2023-04-19T22:43:45.641Z"
   },
   {
    "duration": 51,
    "start_time": "2023-04-19T22:43:45.655Z"
   },
   {
    "duration": 4,
    "start_time": "2023-04-19T22:43:45.708Z"
   },
   {
    "duration": 26,
    "start_time": "2023-04-19T22:43:45.714Z"
   },
   {
    "duration": 8,
    "start_time": "2023-04-19T22:43:45.742Z"
   },
   {
    "duration": 44,
    "start_time": "2023-04-19T22:43:45.751Z"
   },
   {
    "duration": 304,
    "start_time": "2023-04-19T22:43:45.796Z"
   },
   {
    "duration": 51,
    "start_time": "2023-04-19T22:43:46.102Z"
   },
   {
    "duration": 19,
    "start_time": "2023-04-19T22:43:46.155Z"
   },
   {
    "duration": 13,
    "start_time": "2023-04-19T22:43:46.175Z"
   },
   {
    "duration": 15,
    "start_time": "2023-04-19T22:43:46.190Z"
   },
   {
    "duration": 57,
    "start_time": "2023-04-19T22:43:46.206Z"
   },
   {
    "duration": 84,
    "start_time": "2023-04-19T22:43:46.265Z"
   },
   {
    "duration": 60,
    "start_time": "2023-04-19T22:43:46.351Z"
   },
   {
    "duration": 21,
    "start_time": "2023-04-19T22:43:46.413Z"
   },
   {
    "duration": 4,
    "start_time": "2023-04-19T22:43:46.436Z"
   },
   {
    "duration": 10,
    "start_time": "2023-04-19T22:43:46.441Z"
   },
   {
    "duration": 116,
    "start_time": "2023-04-19T22:43:46.452Z"
   },
   {
    "duration": 4,
    "start_time": "2023-04-19T22:43:46.570Z"
   },
   {
    "duration": 11,
    "start_time": "2023-04-19T22:43:46.576Z"
   },
   {
    "duration": 7,
    "start_time": "2023-04-19T22:43:46.588Z"
   },
   {
    "duration": 15,
    "start_time": "2023-04-19T22:43:46.596Z"
   },
   {
    "duration": 6,
    "start_time": "2023-04-19T22:43:46.613Z"
   },
   {
    "duration": 63,
    "start_time": "2023-04-19T22:43:46.621Z"
   },
   {
    "duration": 8,
    "start_time": "2023-04-19T22:43:46.686Z"
   },
   {
    "duration": 130,
    "start_time": "2023-04-19T22:43:46.696Z"
   },
   {
    "duration": 8,
    "start_time": "2023-04-19T22:43:46.827Z"
   },
   {
    "duration": 10,
    "start_time": "2023-04-19T22:43:46.836Z"
   },
   {
    "duration": 14,
    "start_time": "2023-04-19T22:43:46.852Z"
   },
   {
    "duration": 19,
    "start_time": "2023-04-19T22:43:46.868Z"
   },
   {
    "duration": 9,
    "start_time": "2023-04-19T22:43:46.889Z"
   },
   {
    "duration": 18,
    "start_time": "2023-04-19T22:43:46.900Z"
   },
   {
    "duration": 8,
    "start_time": "2023-04-19T22:43:46.920Z"
   },
   {
    "duration": 13,
    "start_time": "2023-04-19T22:43:46.929Z"
   },
   {
    "duration": 8,
    "start_time": "2023-04-19T22:43:46.944Z"
   },
   {
    "duration": 11,
    "start_time": "2023-04-19T22:43:46.953Z"
   },
   {
    "duration": 4,
    "start_time": "2023-04-19T22:43:46.966Z"
   },
   {
    "duration": 10,
    "start_time": "2023-04-19T22:43:46.971Z"
   },
   {
    "duration": 68,
    "start_time": "2023-04-19T22:43:46.982Z"
   },
   {
    "duration": 13,
    "start_time": "2023-04-19T22:43:47.052Z"
   },
   {
    "duration": 13,
    "start_time": "2023-04-19T22:50:35.247Z"
   },
   {
    "duration": 1049,
    "start_time": "2023-04-19T22:50:47.821Z"
   },
   {
    "duration": 153,
    "start_time": "2023-04-19T22:50:48.872Z"
   },
   {
    "duration": 12,
    "start_time": "2023-04-19T22:50:49.027Z"
   },
   {
    "duration": 27,
    "start_time": "2023-04-19T22:50:49.041Z"
   },
   {
    "duration": 3,
    "start_time": "2023-04-19T22:50:49.071Z"
   },
   {
    "duration": 17,
    "start_time": "2023-04-19T22:50:49.076Z"
   },
   {
    "duration": 74,
    "start_time": "2023-04-19T22:50:49.095Z"
   },
   {
    "duration": 90,
    "start_time": "2023-04-19T22:50:49.171Z"
   },
   {
    "duration": 119,
    "start_time": "2023-04-19T22:50:49.263Z"
   },
   {
    "duration": 61,
    "start_time": "2023-04-19T22:50:49.384Z"
   },
   {
    "duration": 21,
    "start_time": "2023-04-19T22:50:49.447Z"
   },
   {
    "duration": 33,
    "start_time": "2023-04-19T22:50:49.469Z"
   },
   {
    "duration": 8,
    "start_time": "2023-04-19T22:50:49.504Z"
   },
   {
    "duration": 25,
    "start_time": "2023-04-19T22:50:49.534Z"
   },
   {
    "duration": 4,
    "start_time": "2023-04-19T22:50:49.560Z"
   },
   {
    "duration": 18,
    "start_time": "2023-04-19T22:50:49.565Z"
   },
   {
    "duration": 7,
    "start_time": "2023-04-19T22:50:49.584Z"
   },
   {
    "duration": 28,
    "start_time": "2023-04-19T22:50:49.593Z"
   },
   {
    "duration": 296,
    "start_time": "2023-04-19T22:50:49.622Z"
   },
   {
    "duration": 41,
    "start_time": "2023-04-19T22:50:49.920Z"
   },
   {
    "duration": 18,
    "start_time": "2023-04-19T22:50:49.962Z"
   },
   {
    "duration": 11,
    "start_time": "2023-04-19T22:50:49.982Z"
   },
   {
    "duration": 14,
    "start_time": "2023-04-19T22:50:49.995Z"
   },
   {
    "duration": 51,
    "start_time": "2023-04-19T22:50:50.011Z"
   },
   {
    "duration": 76,
    "start_time": "2023-04-19T22:50:50.064Z"
   },
   {
    "duration": 56,
    "start_time": "2023-04-19T22:50:50.141Z"
   },
   {
    "duration": 6,
    "start_time": "2023-04-19T22:50:50.198Z"
   },
   {
    "duration": 5,
    "start_time": "2023-04-19T22:50:50.206Z"
   },
   {
    "duration": 22,
    "start_time": "2023-04-19T22:50:50.213Z"
   },
   {
    "duration": 76,
    "start_time": "2023-04-19T22:50:50.236Z"
   },
   {
    "duration": 3,
    "start_time": "2023-04-19T22:50:50.313Z"
   },
   {
    "duration": 18,
    "start_time": "2023-04-19T22:50:50.318Z"
   },
   {
    "duration": 6,
    "start_time": "2023-04-19T22:50:50.337Z"
   },
   {
    "duration": 10,
    "start_time": "2023-04-19T22:50:50.344Z"
   },
   {
    "duration": 6,
    "start_time": "2023-04-19T22:50:50.355Z"
   },
   {
    "duration": 45,
    "start_time": "2023-04-19T22:50:50.363Z"
   },
   {
    "duration": 8,
    "start_time": "2023-04-19T22:50:50.409Z"
   },
   {
    "duration": 127,
    "start_time": "2023-04-19T22:50:50.418Z"
   },
   {
    "duration": 7,
    "start_time": "2023-04-19T22:50:50.547Z"
   },
   {
    "duration": 10,
    "start_time": "2023-04-19T22:50:50.556Z"
   },
   {
    "duration": 18,
    "start_time": "2023-04-19T22:50:50.569Z"
   },
   {
    "duration": 14,
    "start_time": "2023-04-19T22:50:50.588Z"
   },
   {
    "duration": 2,
    "start_time": "2023-04-19T22:50:50.604Z"
   },
   {
    "duration": 15,
    "start_time": "2023-04-19T22:50:50.608Z"
   },
   {
    "duration": 11,
    "start_time": "2023-04-19T22:50:50.624Z"
   },
   {
    "duration": 13,
    "start_time": "2023-04-19T22:50:50.636Z"
   },
   {
    "duration": 7,
    "start_time": "2023-04-19T22:50:50.651Z"
   },
   {
    "duration": 11,
    "start_time": "2023-04-19T22:50:50.659Z"
   },
   {
    "duration": 6,
    "start_time": "2023-04-19T22:50:50.671Z"
   },
   {
    "duration": 14,
    "start_time": "2023-04-19T22:50:50.679Z"
   },
   {
    "duration": 57,
    "start_time": "2023-04-19T22:50:50.695Z"
   },
   {
    "duration": 13,
    "start_time": "2023-04-19T22:50:50.753Z"
   },
   {
    "duration": 13,
    "start_time": "2023-04-19T22:51:04.728Z"
   },
   {
    "duration": 1066,
    "start_time": "2023-04-19T22:51:15.712Z"
   },
   {
    "duration": 151,
    "start_time": "2023-04-19T22:51:16.780Z"
   },
   {
    "duration": 11,
    "start_time": "2023-04-19T22:51:16.932Z"
   },
   {
    "duration": 20,
    "start_time": "2023-04-19T22:51:16.945Z"
   },
   {
    "duration": 3,
    "start_time": "2023-04-19T22:51:16.966Z"
   },
   {
    "duration": 15,
    "start_time": "2023-04-19T22:51:16.970Z"
   },
   {
    "duration": 81,
    "start_time": "2023-04-19T22:51:16.987Z"
   },
   {
    "duration": 80,
    "start_time": "2023-04-19T22:51:17.070Z"
   },
   {
    "duration": 112,
    "start_time": "2023-04-19T22:51:17.152Z"
   },
   {
    "duration": 69,
    "start_time": "2023-04-19T22:51:17.267Z"
   },
   {
    "duration": 23,
    "start_time": "2023-04-19T22:51:17.338Z"
   },
   {
    "duration": 31,
    "start_time": "2023-04-19T22:51:17.362Z"
   },
   {
    "duration": 9,
    "start_time": "2023-04-19T22:51:17.395Z"
   },
   {
    "duration": 49,
    "start_time": "2023-04-19T22:51:17.405Z"
   },
   {
    "duration": 3,
    "start_time": "2023-04-19T22:51:17.455Z"
   },
   {
    "duration": 10,
    "start_time": "2023-04-19T22:51:17.459Z"
   },
   {
    "duration": 5,
    "start_time": "2023-04-19T22:51:17.470Z"
   },
   {
    "duration": 29,
    "start_time": "2023-04-19T22:51:17.477Z"
   },
   {
    "duration": 307,
    "start_time": "2023-04-19T22:51:17.508Z"
   },
   {
    "duration": 45,
    "start_time": "2023-04-19T22:51:17.817Z"
   },
   {
    "duration": 18,
    "start_time": "2023-04-19T22:51:17.863Z"
   },
   {
    "duration": 12,
    "start_time": "2023-04-19T22:51:17.882Z"
   },
   {
    "duration": 14,
    "start_time": "2023-04-19T22:51:17.896Z"
   },
   {
    "duration": 28,
    "start_time": "2023-04-19T22:51:17.934Z"
   },
   {
    "duration": 75,
    "start_time": "2023-04-19T22:51:17.964Z"
   },
   {
    "duration": 56,
    "start_time": "2023-04-19T22:51:18.040Z"
   },
   {
    "duration": 7,
    "start_time": "2023-04-19T22:51:18.097Z"
   },
   {
    "duration": 8,
    "start_time": "2023-04-19T22:51:18.106Z"
   },
   {
    "duration": 20,
    "start_time": "2023-04-19T22:51:18.115Z"
   },
   {
    "duration": 77,
    "start_time": "2023-04-19T22:51:18.136Z"
   },
   {
    "duration": 3,
    "start_time": "2023-04-19T22:51:18.214Z"
   },
   {
    "duration": 3,
    "start_time": "2023-04-19T22:51:18.235Z"
   },
   {
    "duration": 6,
    "start_time": "2023-04-19T22:51:18.239Z"
   },
   {
    "duration": 12,
    "start_time": "2023-04-19T22:51:18.247Z"
   },
   {
    "duration": 7,
    "start_time": "2023-04-19T22:51:18.261Z"
   },
   {
    "duration": 43,
    "start_time": "2023-04-19T22:51:18.270Z"
   },
   {
    "duration": 21,
    "start_time": "2023-04-19T22:51:18.314Z"
   },
   {
    "duration": 111,
    "start_time": "2023-04-19T22:51:18.337Z"
   },
   {
    "duration": 7,
    "start_time": "2023-04-19T22:51:18.449Z"
   },
   {
    "duration": 6,
    "start_time": "2023-04-19T22:51:18.457Z"
   },
   {
    "duration": 8,
    "start_time": "2023-04-19T22:51:18.464Z"
   },
   {
    "duration": 19,
    "start_time": "2023-04-19T22:51:18.474Z"
   },
   {
    "duration": 14,
    "start_time": "2023-04-19T22:51:18.495Z"
   },
   {
    "duration": 14,
    "start_time": "2023-04-19T22:51:18.510Z"
   },
   {
    "duration": 10,
    "start_time": "2023-04-19T22:51:18.525Z"
   },
   {
    "duration": 17,
    "start_time": "2023-04-19T22:51:18.536Z"
   },
   {
    "duration": 8,
    "start_time": "2023-04-19T22:51:18.554Z"
   },
   {
    "duration": 11,
    "start_time": "2023-04-19T22:51:18.563Z"
   },
   {
    "duration": 6,
    "start_time": "2023-04-19T22:51:18.575Z"
   },
   {
    "duration": 10,
    "start_time": "2023-04-19T22:51:18.582Z"
   },
   {
    "duration": 7,
    "start_time": "2023-04-19T22:51:18.593Z"
   },
   {
    "duration": 11,
    "start_time": "2023-04-19T22:51:18.602Z"
   },
   {
    "duration": 9,
    "start_time": "2023-04-19T22:51:55.589Z"
   },
   {
    "duration": 137,
    "start_time": "2023-04-19T22:52:10.841Z"
   },
   {
    "duration": 6,
    "start_time": "2023-04-19T22:52:11.311Z"
   },
   {
    "duration": 5,
    "start_time": "2023-04-19T22:52:15.991Z"
   },
   {
    "duration": 7,
    "start_time": "2023-04-19T22:52:17.863Z"
   },
   {
    "duration": 3,
    "start_time": "2023-04-19T22:52:40.549Z"
   },
   {
    "duration": 7,
    "start_time": "2023-04-19T22:52:47.961Z"
   },
   {
    "duration": 3,
    "start_time": "2023-04-19T22:53:46.034Z"
   },
   {
    "duration": 8,
    "start_time": "2023-04-19T22:53:46.578Z"
   },
   {
    "duration": 3,
    "start_time": "2023-04-19T22:53:52.797Z"
   },
   {
    "duration": 10,
    "start_time": "2023-04-19T22:53:53.333Z"
   },
   {
    "duration": 108,
    "start_time": "2023-04-19T22:54:28.768Z"
   },
   {
    "duration": 6,
    "start_time": "2023-04-19T22:54:29.169Z"
   },
   {
    "duration": 3,
    "start_time": "2023-04-19T22:54:33.577Z"
   },
   {
    "duration": 7,
    "start_time": "2023-04-19T22:54:34.083Z"
   },
   {
    "duration": 5,
    "start_time": "2023-04-19T22:54:38.904Z"
   },
   {
    "duration": 8,
    "start_time": "2023-04-19T22:54:41.215Z"
   },
   {
    "duration": 3,
    "start_time": "2023-04-19T22:54:43.175Z"
   },
   {
    "duration": 10,
    "start_time": "2023-04-19T22:54:43.895Z"
   },
   {
    "duration": 15,
    "start_time": "2023-04-19T22:55:46.346Z"
   },
   {
    "duration": 10,
    "start_time": "2023-04-19T22:55:52.025Z"
   },
   {
    "duration": 10,
    "start_time": "2023-04-19T22:55:56.497Z"
   },
   {
    "duration": 9,
    "start_time": "2023-04-19T22:55:57.150Z"
   },
   {
    "duration": 10,
    "start_time": "2023-04-19T22:56:58.315Z"
   },
   {
    "duration": 1132,
    "start_time": "2023-04-19T22:57:34.735Z"
   },
   {
    "duration": 154,
    "start_time": "2023-04-19T22:57:35.869Z"
   },
   {
    "duration": 16,
    "start_time": "2023-04-19T22:57:36.025Z"
   },
   {
    "duration": 21,
    "start_time": "2023-04-19T22:57:36.044Z"
   },
   {
    "duration": 3,
    "start_time": "2023-04-19T22:57:36.067Z"
   },
   {
    "duration": 21,
    "start_time": "2023-04-19T22:57:36.072Z"
   },
   {
    "duration": 81,
    "start_time": "2023-04-19T22:57:36.094Z"
   },
   {
    "duration": 90,
    "start_time": "2023-04-19T22:57:36.177Z"
   },
   {
    "duration": 109,
    "start_time": "2023-04-19T22:57:36.269Z"
   },
   {
    "duration": 70,
    "start_time": "2023-04-19T22:57:36.382Z"
   },
   {
    "duration": 24,
    "start_time": "2023-04-19T22:57:36.454Z"
   },
   {
    "duration": 33,
    "start_time": "2023-04-19T22:57:36.480Z"
   },
   {
    "duration": 9,
    "start_time": "2023-04-19T22:57:36.534Z"
   },
   {
    "duration": 41,
    "start_time": "2023-04-19T22:57:36.544Z"
   },
   {
    "duration": 3,
    "start_time": "2023-04-19T22:57:36.587Z"
   },
   {
    "duration": 16,
    "start_time": "2023-04-19T22:57:36.591Z"
   },
   {
    "duration": 8,
    "start_time": "2023-04-19T22:57:36.608Z"
   },
   {
    "duration": 34,
    "start_time": "2023-04-19T22:57:36.617Z"
   },
   {
    "duration": 299,
    "start_time": "2023-04-19T22:57:36.653Z"
   },
   {
    "duration": 37,
    "start_time": "2023-04-19T22:57:36.954Z"
   },
   {
    "duration": 18,
    "start_time": "2023-04-19T22:57:36.993Z"
   },
   {
    "duration": 33,
    "start_time": "2023-04-19T22:57:37.012Z"
   },
   {
    "duration": 13,
    "start_time": "2023-04-19T22:57:37.047Z"
   },
   {
    "duration": 29,
    "start_time": "2023-04-19T22:57:37.062Z"
   },
   {
    "duration": 88,
    "start_time": "2023-04-19T22:57:37.093Z"
   },
   {
    "duration": 67,
    "start_time": "2023-04-19T22:57:37.183Z"
   },
   {
    "duration": 6,
    "start_time": "2023-04-19T22:57:37.252Z"
   },
   {
    "duration": 5,
    "start_time": "2023-04-19T22:57:37.261Z"
   },
   {
    "duration": 19,
    "start_time": "2023-04-19T22:57:37.268Z"
   },
   {
    "duration": 98,
    "start_time": "2023-04-19T22:57:37.289Z"
   },
   {
    "duration": 3,
    "start_time": "2023-04-19T22:57:37.389Z"
   },
   {
    "duration": 8,
    "start_time": "2023-04-19T22:57:37.393Z"
   },
   {
    "duration": 11,
    "start_time": "2023-04-19T22:57:37.403Z"
   },
   {
    "duration": 27,
    "start_time": "2023-04-19T22:57:37.415Z"
   },
   {
    "duration": 12,
    "start_time": "2023-04-19T22:57:37.444Z"
   },
   {
    "duration": 53,
    "start_time": "2023-04-19T22:57:37.458Z"
   },
   {
    "duration": 9,
    "start_time": "2023-04-19T22:57:37.513Z"
   },
   {
    "duration": 118,
    "start_time": "2023-04-19T22:57:37.524Z"
   },
   {
    "duration": 8,
    "start_time": "2023-04-19T22:57:37.644Z"
   },
   {
    "duration": 6,
    "start_time": "2023-04-19T22:57:37.654Z"
   },
   {
    "duration": 6,
    "start_time": "2023-04-19T22:57:37.662Z"
   },
   {
    "duration": 15,
    "start_time": "2023-04-19T22:57:37.670Z"
   },
   {
    "duration": 3,
    "start_time": "2023-04-19T22:57:37.686Z"
   },
   {
    "duration": 13,
    "start_time": "2023-04-19T22:57:37.691Z"
   },
   {
    "duration": 30,
    "start_time": "2023-04-19T22:57:37.706Z"
   },
   {
    "duration": 11,
    "start_time": "2023-04-19T22:57:37.737Z"
   },
   {
    "duration": 12,
    "start_time": "2023-04-19T22:57:37.749Z"
   },
   {
    "duration": 1181,
    "start_time": "2023-04-19T22:57:52.835Z"
   },
   {
    "duration": 105,
    "start_time": "2023-04-19T22:58:17.838Z"
   },
   {
    "duration": 7,
    "start_time": "2023-04-19T22:58:18.449Z"
   },
   {
    "duration": 1206,
    "start_time": "2023-04-19T22:58:25.129Z"
   },
   {
    "duration": 115,
    "start_time": "2023-04-19T22:58:30.539Z"
   },
   {
    "duration": 7,
    "start_time": "2023-04-19T22:58:31.554Z"
   },
   {
    "duration": 5,
    "start_time": "2023-04-19T22:58:32.121Z"
   },
   {
    "duration": 5,
    "start_time": "2023-04-19T22:58:32.554Z"
   },
   {
    "duration": 10,
    "start_time": "2023-04-19T22:58:34.344Z"
   },
   {
    "duration": 85,
    "start_time": "2023-04-19T22:59:14.535Z"
   },
   {
    "duration": 3,
    "start_time": "2023-04-19T22:59:18.155Z"
   },
   {
    "duration": 3,
    "start_time": "2023-04-19T22:59:21.632Z"
   },
   {
    "duration": 3,
    "start_time": "2023-04-19T22:59:24.471Z"
   },
   {
    "duration": 12,
    "start_time": "2023-04-19T22:59:33.248Z"
   },
   {
    "duration": 4,
    "start_time": "2023-04-19T22:59:43.539Z"
   },
   {
    "duration": 4,
    "start_time": "2023-04-19T23:00:16.452Z"
   },
   {
    "duration": 7,
    "start_time": "2023-04-19T23:00:22.888Z"
   },
   {
    "duration": 1082,
    "start_time": "2023-04-19T23:00:45.498Z"
   },
   {
    "duration": 157,
    "start_time": "2023-04-19T23:00:46.582Z"
   },
   {
    "duration": 12,
    "start_time": "2023-04-19T23:00:46.741Z"
   },
   {
    "duration": 56,
    "start_time": "2023-04-19T23:00:46.754Z"
   },
   {
    "duration": 32,
    "start_time": "2023-04-19T23:00:46.812Z"
   },
   {
    "duration": 57,
    "start_time": "2023-04-19T23:00:46.846Z"
   },
   {
    "duration": 103,
    "start_time": "2023-04-19T23:00:46.905Z"
   },
   {
    "duration": 126,
    "start_time": "2023-04-19T23:00:47.010Z"
   },
   {
    "duration": 112,
    "start_time": "2023-04-19T23:00:47.138Z"
   },
   {
    "duration": 87,
    "start_time": "2023-04-19T23:00:47.251Z"
   },
   {
    "duration": 22,
    "start_time": "2023-04-19T23:00:47.339Z"
   },
   {
    "duration": 64,
    "start_time": "2023-04-19T23:00:47.363Z"
   },
   {
    "duration": 11,
    "start_time": "2023-04-19T23:00:47.429Z"
   },
   {
    "duration": 71,
    "start_time": "2023-04-19T23:00:47.443Z"
   },
   {
    "duration": 12,
    "start_time": "2023-04-19T23:00:47.515Z"
   },
   {
    "duration": 41,
    "start_time": "2023-04-19T23:00:47.528Z"
   },
   {
    "duration": 40,
    "start_time": "2023-04-19T23:00:47.571Z"
   },
   {
    "duration": 66,
    "start_time": "2023-04-19T23:00:47.612Z"
   },
   {
    "duration": 318,
    "start_time": "2023-04-19T23:00:47.679Z"
   },
   {
    "duration": 46,
    "start_time": "2023-04-19T23:00:47.998Z"
   },
   {
    "duration": 44,
    "start_time": "2023-04-19T23:00:48.047Z"
   },
   {
    "duration": 62,
    "start_time": "2023-04-19T23:00:48.093Z"
   },
   {
    "duration": 65,
    "start_time": "2023-04-19T23:00:48.158Z"
   },
   {
    "duration": 67,
    "start_time": "2023-04-19T23:00:48.225Z"
   },
   {
    "duration": 74,
    "start_time": "2023-04-19T23:00:48.293Z"
   },
   {
    "duration": 66,
    "start_time": "2023-04-19T23:00:48.368Z"
   },
   {
    "duration": 27,
    "start_time": "2023-04-19T23:00:48.436Z"
   },
   {
    "duration": 50,
    "start_time": "2023-04-19T23:00:48.464Z"
   },
   {
    "duration": 33,
    "start_time": "2023-04-19T23:00:48.516Z"
   },
   {
    "duration": 114,
    "start_time": "2023-04-19T23:00:48.550Z"
   },
   {
    "duration": 3,
    "start_time": "2023-04-19T23:00:48.666Z"
   },
   {
    "duration": 58,
    "start_time": "2023-04-19T23:00:48.670Z"
   },
   {
    "duration": 52,
    "start_time": "2023-04-19T23:00:48.730Z"
   },
   {
    "duration": 76,
    "start_time": "2023-04-19T23:00:48.783Z"
   },
   {
    "duration": 54,
    "start_time": "2023-04-19T23:00:48.861Z"
   },
   {
    "duration": 80,
    "start_time": "2023-04-19T23:00:48.917Z"
   },
   {
    "duration": 21,
    "start_time": "2023-04-19T23:00:48.999Z"
   },
   {
    "duration": 147,
    "start_time": "2023-04-19T23:00:49.022Z"
   },
   {
    "duration": 6,
    "start_time": "2023-04-19T23:00:49.171Z"
   },
   {
    "duration": 38,
    "start_time": "2023-04-19T23:00:49.178Z"
   },
   {
    "duration": 38,
    "start_time": "2023-04-19T23:00:49.219Z"
   },
   {
    "duration": 72,
    "start_time": "2023-04-19T23:00:49.258Z"
   },
   {
    "duration": 39,
    "start_time": "2023-04-19T23:00:49.331Z"
   },
   {
    "duration": 69,
    "start_time": "2023-04-19T23:00:49.372Z"
   },
   {
    "duration": 31,
    "start_time": "2023-04-19T23:00:49.443Z"
   },
   {
    "duration": 42,
    "start_time": "2023-04-19T23:00:49.476Z"
   },
   {
    "duration": 55,
    "start_time": "2023-04-19T23:00:49.520Z"
   },
   {
    "duration": 66,
    "start_time": "2023-04-19T23:00:49.576Z"
   },
   {
    "duration": 51,
    "start_time": "2023-04-19T23:00:49.644Z"
   },
   {
    "duration": 4,
    "start_time": "2023-04-19T23:01:44.226Z"
   },
   {
    "duration": 9,
    "start_time": "2023-04-19T23:01:47.451Z"
   },
   {
    "duration": 1096,
    "start_time": "2023-04-19T23:02:09.324Z"
   },
   {
    "duration": 158,
    "start_time": "2023-04-19T23:02:10.422Z"
   },
   {
    "duration": 12,
    "start_time": "2023-04-19T23:02:10.582Z"
   },
   {
    "duration": 21,
    "start_time": "2023-04-19T23:02:10.596Z"
   },
   {
    "duration": 4,
    "start_time": "2023-04-19T23:02:10.634Z"
   },
   {
    "duration": 15,
    "start_time": "2023-04-19T23:02:10.639Z"
   },
   {
    "duration": 80,
    "start_time": "2023-04-19T23:02:10.656Z"
   },
   {
    "duration": 82,
    "start_time": "2023-04-19T23:02:10.737Z"
   },
   {
    "duration": 118,
    "start_time": "2023-04-19T23:02:10.821Z"
   },
   {
    "duration": 67,
    "start_time": "2023-04-19T23:02:10.942Z"
   },
   {
    "duration": 44,
    "start_time": "2023-04-19T23:02:11.011Z"
   },
   {
    "duration": 35,
    "start_time": "2023-04-19T23:02:11.057Z"
   },
   {
    "duration": 9,
    "start_time": "2023-04-19T23:02:11.093Z"
   },
   {
    "duration": 53,
    "start_time": "2023-04-19T23:02:11.103Z"
   },
   {
    "duration": 4,
    "start_time": "2023-04-19T23:02:11.157Z"
   },
   {
    "duration": 8,
    "start_time": "2023-04-19T23:02:11.162Z"
   },
   {
    "duration": 5,
    "start_time": "2023-04-19T23:02:11.172Z"
   },
   {
    "duration": 56,
    "start_time": "2023-04-19T23:02:11.179Z"
   },
   {
    "duration": 323,
    "start_time": "2023-04-19T23:02:11.236Z"
   },
   {
    "duration": 40,
    "start_time": "2023-04-19T23:02:11.561Z"
   },
   {
    "duration": 36,
    "start_time": "2023-04-19T23:02:11.603Z"
   },
   {
    "duration": 13,
    "start_time": "2023-04-19T23:02:11.641Z"
   },
   {
    "duration": 15,
    "start_time": "2023-04-19T23:02:11.656Z"
   },
   {
    "duration": 32,
    "start_time": "2023-04-19T23:02:11.673Z"
   },
   {
    "duration": 97,
    "start_time": "2023-04-19T23:02:11.706Z"
   },
   {
    "duration": 75,
    "start_time": "2023-04-19T23:02:11.805Z"
   },
   {
    "duration": 7,
    "start_time": "2023-04-19T23:02:11.882Z"
   },
   {
    "duration": 7,
    "start_time": "2023-04-19T23:02:11.892Z"
   },
   {
    "duration": 12,
    "start_time": "2023-04-19T23:02:11.900Z"
   },
   {
    "duration": 92,
    "start_time": "2023-04-19T23:02:11.913Z"
   },
   {
    "duration": 3,
    "start_time": "2023-04-19T23:02:12.007Z"
   },
   {
    "duration": 6,
    "start_time": "2023-04-19T23:02:12.012Z"
   },
   {
    "duration": 15,
    "start_time": "2023-04-19T23:02:12.019Z"
   },
   {
    "duration": 7,
    "start_time": "2023-04-19T23:02:12.036Z"
   },
   {
    "duration": 13,
    "start_time": "2023-04-19T23:02:12.044Z"
   },
   {
    "duration": 47,
    "start_time": "2023-04-19T23:02:12.059Z"
   },
   {
    "duration": 8,
    "start_time": "2023-04-19T23:02:12.108Z"
   },
   {
    "duration": 127,
    "start_time": "2023-04-19T23:02:12.118Z"
   },
   {
    "duration": 8,
    "start_time": "2023-04-19T23:02:12.247Z"
   },
   {
    "duration": 13,
    "start_time": "2023-04-19T23:02:12.257Z"
   },
   {
    "duration": 7,
    "start_time": "2023-04-19T23:02:12.272Z"
   },
   {
    "duration": 27,
    "start_time": "2023-04-19T23:02:12.280Z"
   },
   {
    "duration": 3,
    "start_time": "2023-04-19T23:02:12.309Z"
   },
   {
    "duration": 20,
    "start_time": "2023-04-19T23:02:12.314Z"
   },
   {
    "duration": 8,
    "start_time": "2023-04-19T23:02:12.336Z"
   },
   {
    "duration": 4,
    "start_time": "2023-04-19T23:02:12.346Z"
   },
   {
    "duration": 9,
    "start_time": "2023-04-19T23:02:12.351Z"
   },
   {
    "duration": 12,
    "start_time": "2023-04-19T23:02:12.362Z"
   },
   {
    "duration": 4,
    "start_time": "2023-04-19T23:02:12.376Z"
   },
   {
    "duration": 10,
    "start_time": "2023-04-19T23:02:12.382Z"
   },
   {
    "duration": 9,
    "start_time": "2023-04-19T23:02:19.799Z"
   },
   {
    "duration": 1024,
    "start_time": "2023-04-19T23:03:40.167Z"
   },
   {
    "duration": 171,
    "start_time": "2023-04-19T23:03:41.193Z"
   },
   {
    "duration": 12,
    "start_time": "2023-04-19T23:03:41.366Z"
   },
   {
    "duration": 21,
    "start_time": "2023-04-19T23:03:41.380Z"
   },
   {
    "duration": 3,
    "start_time": "2023-04-19T23:03:41.403Z"
   },
   {
    "duration": 38,
    "start_time": "2023-04-19T23:03:41.407Z"
   },
   {
    "duration": 71,
    "start_time": "2023-04-19T23:03:41.446Z"
   },
   {
    "duration": 85,
    "start_time": "2023-04-19T23:03:41.518Z"
   },
   {
    "duration": 111,
    "start_time": "2023-04-19T23:03:41.604Z"
   },
   {
    "duration": 67,
    "start_time": "2023-04-19T23:03:41.718Z"
   },
   {
    "duration": 23,
    "start_time": "2023-04-19T23:03:41.786Z"
   },
   {
    "duration": 46,
    "start_time": "2023-04-19T23:03:41.810Z"
   },
   {
    "duration": 9,
    "start_time": "2023-04-19T23:03:41.857Z"
   },
   {
    "duration": 31,
    "start_time": "2023-04-19T23:03:41.868Z"
   },
   {
    "duration": 3,
    "start_time": "2023-04-19T23:03:41.901Z"
   },
   {
    "duration": 29,
    "start_time": "2023-04-19T23:03:41.906Z"
   },
   {
    "duration": 7,
    "start_time": "2023-04-19T23:03:41.936Z"
   },
   {
    "duration": 30,
    "start_time": "2023-04-19T23:03:41.945Z"
   },
   {
    "duration": 314,
    "start_time": "2023-04-19T23:03:41.976Z"
   },
   {
    "duration": 55,
    "start_time": "2023-04-19T23:03:42.291Z"
   },
   {
    "duration": 19,
    "start_time": "2023-04-19T23:03:42.347Z"
   },
   {
    "duration": 14,
    "start_time": "2023-04-19T23:03:42.367Z"
   },
   {
    "duration": 15,
    "start_time": "2023-04-19T23:03:42.383Z"
   },
   {
    "duration": 44,
    "start_time": "2023-04-19T23:03:42.400Z"
   },
   {
    "duration": 67,
    "start_time": "2023-04-19T23:03:42.446Z"
   },
   {
    "duration": 62,
    "start_time": "2023-04-19T23:03:42.515Z"
   },
   {
    "duration": 7,
    "start_time": "2023-04-19T23:03:42.578Z"
   },
   {
    "duration": 5,
    "start_time": "2023-04-19T23:03:42.588Z"
   },
   {
    "duration": 10,
    "start_time": "2023-04-19T23:03:42.595Z"
   },
   {
    "duration": 85,
    "start_time": "2023-04-19T23:03:42.606Z"
   },
   {
    "duration": 4,
    "start_time": "2023-04-19T23:03:42.692Z"
   },
   {
    "duration": 14,
    "start_time": "2023-04-19T23:03:42.697Z"
   },
   {
    "duration": 22,
    "start_time": "2023-04-19T23:03:42.712Z"
   },
   {
    "duration": 12,
    "start_time": "2023-04-19T23:03:42.736Z"
   },
   {
    "duration": 19,
    "start_time": "2023-04-19T23:03:42.750Z"
   },
   {
    "duration": 44,
    "start_time": "2023-04-19T23:03:42.770Z"
   },
   {
    "duration": 7,
    "start_time": "2023-04-19T23:03:42.816Z"
   },
   {
    "duration": 169,
    "start_time": "2023-04-19T23:03:42.825Z"
   },
   {
    "duration": 7,
    "start_time": "2023-04-19T23:03:42.996Z"
   },
   {
    "duration": 29,
    "start_time": "2023-04-19T23:03:43.005Z"
   },
   {
    "duration": 5,
    "start_time": "2023-04-19T23:03:43.036Z"
   },
   {
    "duration": 19,
    "start_time": "2023-04-19T23:03:43.043Z"
   },
   {
    "duration": 6,
    "start_time": "2023-04-19T23:03:43.064Z"
   },
   {
    "duration": 17,
    "start_time": "2023-04-19T23:03:43.071Z"
   },
   {
    "duration": 10,
    "start_time": "2023-04-19T23:03:43.089Z"
   },
   {
    "duration": 12,
    "start_time": "2023-04-19T23:03:43.100Z"
   },
   {
    "duration": 10,
    "start_time": "2023-04-19T23:03:43.113Z"
   },
   {
    "duration": 9,
    "start_time": "2023-04-19T23:03:43.124Z"
   },
   {
    "duration": 3,
    "start_time": "2023-04-19T23:03:48.917Z"
   },
   {
    "duration": 8,
    "start_time": "2023-04-19T23:03:51.402Z"
   },
   {
    "duration": 3,
    "start_time": "2023-04-19T23:04:09.479Z"
   },
   {
    "duration": 11,
    "start_time": "2023-04-19T23:04:12.095Z"
   },
   {
    "duration": 1083,
    "start_time": "2023-04-19T23:04:42.771Z"
   },
   {
    "duration": 168,
    "start_time": "2023-04-19T23:04:43.856Z"
   },
   {
    "duration": 13,
    "start_time": "2023-04-19T23:04:44.025Z"
   },
   {
    "duration": 22,
    "start_time": "2023-04-19T23:04:44.041Z"
   },
   {
    "duration": 4,
    "start_time": "2023-04-19T23:04:44.065Z"
   },
   {
    "duration": 20,
    "start_time": "2023-04-19T23:04:44.071Z"
   },
   {
    "duration": 86,
    "start_time": "2023-04-19T23:04:44.092Z"
   },
   {
    "duration": 95,
    "start_time": "2023-04-19T23:04:44.180Z"
   },
   {
    "duration": 118,
    "start_time": "2023-04-19T23:04:44.276Z"
   },
   {
    "duration": 70,
    "start_time": "2023-04-19T23:04:44.397Z"
   },
   {
    "duration": 23,
    "start_time": "2023-04-19T23:04:44.469Z"
   },
   {
    "duration": 48,
    "start_time": "2023-04-19T23:04:44.493Z"
   },
   {
    "duration": 12,
    "start_time": "2023-04-19T23:04:44.543Z"
   },
   {
    "duration": 45,
    "start_time": "2023-04-19T23:04:44.557Z"
   },
   {
    "duration": 4,
    "start_time": "2023-04-19T23:04:44.604Z"
   },
   {
    "duration": 36,
    "start_time": "2023-04-19T23:04:44.609Z"
   },
   {
    "duration": 11,
    "start_time": "2023-04-19T23:04:44.647Z"
   },
   {
    "duration": 42,
    "start_time": "2023-04-19T23:04:44.660Z"
   },
   {
    "duration": 338,
    "start_time": "2023-04-19T23:04:44.704Z"
   },
   {
    "duration": 44,
    "start_time": "2023-04-19T23:04:45.044Z"
   },
   {
    "duration": 21,
    "start_time": "2023-04-19T23:04:45.089Z"
   },
   {
    "duration": 13,
    "start_time": "2023-04-19T23:04:45.134Z"
   },
   {
    "duration": 26,
    "start_time": "2023-04-19T23:04:45.149Z"
   },
   {
    "duration": 52,
    "start_time": "2023-04-19T23:04:45.176Z"
   },
   {
    "duration": 79,
    "start_time": "2023-04-19T23:04:45.230Z"
   },
   {
    "duration": 77,
    "start_time": "2023-04-19T23:04:45.310Z"
   },
   {
    "duration": 10,
    "start_time": "2023-04-19T23:04:45.390Z"
   },
   {
    "duration": 11,
    "start_time": "2023-04-19T23:04:45.405Z"
   },
   {
    "duration": 27,
    "start_time": "2023-04-19T23:04:45.418Z"
   },
   {
    "duration": 96,
    "start_time": "2023-04-19T23:04:45.447Z"
   },
   {
    "duration": 4,
    "start_time": "2023-04-19T23:04:45.545Z"
   },
   {
    "duration": 17,
    "start_time": "2023-04-19T23:04:45.550Z"
   },
   {
    "duration": 20,
    "start_time": "2023-04-19T23:04:45.569Z"
   },
   {
    "duration": 10,
    "start_time": "2023-04-19T23:04:45.591Z"
   },
   {
    "duration": 10,
    "start_time": "2023-04-19T23:04:45.602Z"
   },
   {
    "duration": 52,
    "start_time": "2023-04-19T23:04:45.614Z"
   },
   {
    "duration": 8,
    "start_time": "2023-04-19T23:04:45.667Z"
   },
   {
    "duration": 146,
    "start_time": "2023-04-19T23:04:45.676Z"
   },
   {
    "duration": 11,
    "start_time": "2023-04-19T23:04:45.824Z"
   },
   {
    "duration": 12,
    "start_time": "2023-04-19T23:04:45.837Z"
   },
   {
    "duration": 13,
    "start_time": "2023-04-19T23:04:45.851Z"
   },
   {
    "duration": 18,
    "start_time": "2023-04-19T23:04:45.865Z"
   },
   {
    "duration": 6,
    "start_time": "2023-04-19T23:04:45.885Z"
   },
   {
    "duration": 11,
    "start_time": "2023-04-19T23:04:45.893Z"
   },
   {
    "duration": 1346,
    "start_time": "2023-04-19T23:04:49.321Z"
   },
   {
    "duration": 3,
    "start_time": "2023-04-19T23:05:54.363Z"
   },
   {
    "duration": 10,
    "start_time": "2023-04-19T23:05:57.189Z"
   },
   {
    "duration": 9,
    "start_time": "2023-04-19T23:06:00.371Z"
   },
   {
    "duration": 1018,
    "start_time": "2023-04-19T23:07:18.053Z"
   },
   {
    "duration": 150,
    "start_time": "2023-04-19T23:07:19.073Z"
   },
   {
    "duration": 10,
    "start_time": "2023-04-19T23:07:19.225Z"
   },
   {
    "duration": 22,
    "start_time": "2023-04-19T23:07:19.237Z"
   },
   {
    "duration": 2,
    "start_time": "2023-04-19T23:07:19.261Z"
   },
   {
    "duration": 19,
    "start_time": "2023-04-19T23:07:19.265Z"
   },
   {
    "duration": 78,
    "start_time": "2023-04-19T23:07:19.285Z"
   },
   {
    "duration": 81,
    "start_time": "2023-04-19T23:07:19.365Z"
   },
   {
    "duration": 108,
    "start_time": "2023-04-19T23:07:19.447Z"
   },
   {
    "duration": 59,
    "start_time": "2023-04-19T23:07:19.557Z"
   },
   {
    "duration": 35,
    "start_time": "2023-04-19T23:07:19.617Z"
   },
   {
    "duration": 31,
    "start_time": "2023-04-19T23:07:19.653Z"
   },
   {
    "duration": 9,
    "start_time": "2023-04-19T23:07:19.686Z"
   },
   {
    "duration": 53,
    "start_time": "2023-04-19T23:07:19.696Z"
   },
   {
    "duration": 4,
    "start_time": "2023-04-19T23:07:19.751Z"
   },
   {
    "duration": 23,
    "start_time": "2023-04-19T23:07:19.756Z"
   },
   {
    "duration": 7,
    "start_time": "2023-04-19T23:07:19.780Z"
   },
   {
    "duration": 28,
    "start_time": "2023-04-19T23:07:19.788Z"
   },
   {
    "duration": 289,
    "start_time": "2023-04-19T23:07:19.817Z"
   },
   {
    "duration": 45,
    "start_time": "2023-04-19T23:07:20.107Z"
   },
   {
    "duration": 21,
    "start_time": "2023-04-19T23:07:20.154Z"
   },
   {
    "duration": 12,
    "start_time": "2023-04-19T23:07:20.177Z"
   },
   {
    "duration": 13,
    "start_time": "2023-04-19T23:07:20.190Z"
   },
   {
    "duration": 56,
    "start_time": "2023-04-19T23:07:20.204Z"
   },
   {
    "duration": 73,
    "start_time": "2023-04-19T23:07:20.261Z"
   },
   {
    "duration": 55,
    "start_time": "2023-04-19T23:07:20.336Z"
   },
   {
    "duration": 6,
    "start_time": "2023-04-19T23:07:20.393Z"
   },
   {
    "duration": 13,
    "start_time": "2023-04-19T23:07:20.402Z"
   },
   {
    "duration": 9,
    "start_time": "2023-04-19T23:07:20.417Z"
   },
   {
    "duration": 81,
    "start_time": "2023-04-19T23:07:20.427Z"
   },
   {
    "duration": 3,
    "start_time": "2023-04-19T23:07:20.510Z"
   },
   {
    "duration": 8,
    "start_time": "2023-04-19T23:07:20.515Z"
   },
   {
    "duration": 12,
    "start_time": "2023-04-19T23:07:20.524Z"
   },
   {
    "duration": 9,
    "start_time": "2023-04-19T23:07:20.537Z"
   },
   {
    "duration": 6,
    "start_time": "2023-04-19T23:07:20.547Z"
   },
   {
    "duration": 43,
    "start_time": "2023-04-19T23:07:20.554Z"
   },
   {
    "duration": 8,
    "start_time": "2023-04-19T23:07:20.598Z"
   },
   {
    "duration": 129,
    "start_time": "2023-04-19T23:07:20.607Z"
   },
   {
    "duration": 7,
    "start_time": "2023-04-19T23:07:20.737Z"
   },
   {
    "duration": 12,
    "start_time": "2023-04-19T23:07:20.745Z"
   },
   {
    "duration": 7,
    "start_time": "2023-04-19T23:07:20.759Z"
   },
   {
    "duration": 20,
    "start_time": "2023-04-19T23:07:20.767Z"
   },
   {
    "duration": 7,
    "start_time": "2023-04-19T23:07:20.788Z"
   },
   {
    "duration": 18,
    "start_time": "2023-04-19T23:07:20.796Z"
   },
   {
    "duration": 6,
    "start_time": "2023-04-19T23:07:20.815Z"
   },
   {
    "duration": 15,
    "start_time": "2023-04-19T23:07:20.823Z"
   },
   {
    "duration": 24,
    "start_time": "2023-04-19T23:07:20.839Z"
   },
   {
    "duration": 10,
    "start_time": "2023-04-19T23:07:28.974Z"
   },
   {
    "duration": 1052,
    "start_time": "2023-04-19T23:08:50.457Z"
   },
   {
    "duration": 152,
    "start_time": "2023-04-19T23:08:51.510Z"
   },
   {
    "duration": 11,
    "start_time": "2023-04-19T23:08:51.664Z"
   },
   {
    "duration": 21,
    "start_time": "2023-04-19T23:08:51.677Z"
   },
   {
    "duration": 3,
    "start_time": "2023-04-19T23:08:51.700Z"
   },
   {
    "duration": 31,
    "start_time": "2023-04-19T23:08:51.705Z"
   },
   {
    "duration": 80,
    "start_time": "2023-04-19T23:08:51.738Z"
   },
   {
    "duration": 79,
    "start_time": "2023-04-19T23:08:51.819Z"
   },
   {
    "duration": 105,
    "start_time": "2023-04-19T23:08:51.900Z"
   },
   {
    "duration": 74,
    "start_time": "2023-04-19T23:08:52.006Z"
   },
   {
    "duration": 22,
    "start_time": "2023-04-19T23:08:52.081Z"
   },
   {
    "duration": 40,
    "start_time": "2023-04-19T23:08:52.105Z"
   },
   {
    "duration": 8,
    "start_time": "2023-04-19T23:08:52.146Z"
   },
   {
    "duration": 26,
    "start_time": "2023-04-19T23:08:52.158Z"
   },
   {
    "duration": 3,
    "start_time": "2023-04-19T23:08:52.186Z"
   },
   {
    "duration": 9,
    "start_time": "2023-04-19T23:08:52.191Z"
   },
   {
    "duration": 7,
    "start_time": "2023-04-19T23:08:52.201Z"
   },
   {
    "duration": 28,
    "start_time": "2023-04-19T23:08:52.234Z"
   },
   {
    "duration": 289,
    "start_time": "2023-04-19T23:08:52.264Z"
   },
   {
    "duration": 37,
    "start_time": "2023-04-19T23:08:52.554Z"
   },
   {
    "duration": 18,
    "start_time": "2023-04-19T23:08:52.592Z"
   },
   {
    "duration": 32,
    "start_time": "2023-04-19T23:08:52.611Z"
   },
   {
    "duration": 14,
    "start_time": "2023-04-19T23:08:52.644Z"
   },
   {
    "duration": 30,
    "start_time": "2023-04-19T23:08:52.659Z"
   },
   {
    "duration": 82,
    "start_time": "2023-04-19T23:08:52.691Z"
   },
   {
    "duration": 66,
    "start_time": "2023-04-19T23:08:52.774Z"
   },
   {
    "duration": 8,
    "start_time": "2023-04-19T23:08:52.841Z"
   },
   {
    "duration": 4,
    "start_time": "2023-04-19T23:08:52.850Z"
   },
   {
    "duration": 12,
    "start_time": "2023-04-19T23:08:52.855Z"
   },
   {
    "duration": 90,
    "start_time": "2023-04-19T23:08:52.868Z"
   },
   {
    "duration": 3,
    "start_time": "2023-04-19T23:08:52.960Z"
   },
   {
    "duration": 13,
    "start_time": "2023-04-19T23:08:52.964Z"
   },
   {
    "duration": 7,
    "start_time": "2023-04-19T23:08:52.978Z"
   },
   {
    "duration": 10,
    "start_time": "2023-04-19T23:08:52.986Z"
   },
   {
    "duration": 6,
    "start_time": "2023-04-19T23:08:52.997Z"
   },
   {
    "duration": 50,
    "start_time": "2023-04-19T23:08:53.005Z"
   },
   {
    "duration": 8,
    "start_time": "2023-04-19T23:08:53.056Z"
   },
   {
    "duration": 114,
    "start_time": "2023-04-19T23:08:53.065Z"
   },
   {
    "duration": 6,
    "start_time": "2023-04-19T23:08:53.180Z"
   },
   {
    "duration": 12,
    "start_time": "2023-04-19T23:08:53.188Z"
   },
   {
    "duration": 13,
    "start_time": "2023-04-19T23:08:53.203Z"
   },
   {
    "duration": 20,
    "start_time": "2023-04-19T23:08:53.217Z"
   },
   {
    "duration": 28,
    "start_time": "2023-04-19T23:08:53.238Z"
   },
   {
    "duration": 21,
    "start_time": "2023-04-19T23:08:53.268Z"
   },
   {
    "duration": 12,
    "start_time": "2023-04-19T23:11:14.653Z"
   },
   {
    "duration": 73,
    "start_time": "2023-04-19T23:14:27.312Z"
   },
   {
    "duration": 5,
    "start_time": "2023-04-19T23:14:46.663Z"
   },
   {
    "duration": 4,
    "start_time": "2023-04-19T23:15:03.558Z"
   },
   {
    "duration": 4,
    "start_time": "2023-04-19T23:15:30.135Z"
   },
   {
    "duration": 5,
    "start_time": "2023-04-19T23:15:34.599Z"
   },
   {
    "duration": 4,
    "start_time": "2023-04-19T23:15:41.841Z"
   },
   {
    "duration": 5,
    "start_time": "2023-04-19T23:15:42.297Z"
   },
   {
    "duration": 8,
    "start_time": "2023-04-19T23:17:05.193Z"
   },
   {
    "duration": 98,
    "start_time": "2023-04-19T23:17:35.615Z"
   },
   {
    "duration": 18,
    "start_time": "2023-04-19T23:17:40.070Z"
   },
   {
    "duration": 10,
    "start_time": "2023-04-19T23:17:46.721Z"
   },
   {
    "duration": 6,
    "start_time": "2023-04-19T23:17:55.090Z"
   },
   {
    "duration": 9,
    "start_time": "2023-04-19T23:18:06.379Z"
   },
   {
    "duration": 8,
    "start_time": "2023-04-20T01:00:34.747Z"
   },
   {
    "duration": 1272,
    "start_time": "2023-04-20T01:00:46.069Z"
   },
   {
    "duration": 6,
    "start_time": "2023-04-20T01:01:01.488Z"
   },
   {
    "duration": 8,
    "start_time": "2023-04-20T01:01:05.229Z"
   },
   {
    "duration": 13,
    "start_time": "2023-04-20T01:01:10.462Z"
   },
   {
    "duration": 14,
    "start_time": "2023-04-20T01:01:38.938Z"
   },
   {
    "duration": 10,
    "start_time": "2023-04-20T01:01:46.474Z"
   },
   {
    "duration": 6,
    "start_time": "2023-04-20T01:02:01.195Z"
   },
   {
    "duration": 8,
    "start_time": "2023-04-20T01:02:35.921Z"
   },
   {
    "duration": 7,
    "start_time": "2023-04-20T01:02:53.742Z"
   },
   {
    "duration": 17,
    "start_time": "2023-04-20T01:03:17.271Z"
   },
   {
    "duration": 15,
    "start_time": "2023-04-20T01:03:23.257Z"
   },
   {
    "duration": 7,
    "start_time": "2023-04-20T01:03:42.922Z"
   },
   {
    "duration": 7,
    "start_time": "2023-04-20T01:03:48.311Z"
   },
   {
    "duration": 8,
    "start_time": "2023-04-20T01:04:02.328Z"
   },
   {
    "duration": 11,
    "start_time": "2023-04-20T01:05:15.775Z"
   },
   {
    "duration": 9,
    "start_time": "2023-04-20T01:06:52.962Z"
   },
   {
    "duration": 78,
    "start_time": "2023-04-20T01:07:33.985Z"
   },
   {
    "duration": 9,
    "start_time": "2023-04-20T01:13:28.112Z"
   },
   {
    "duration": 11,
    "start_time": "2023-04-20T01:13:46.217Z"
   },
   {
    "duration": 9,
    "start_time": "2023-04-20T01:14:05.932Z"
   },
   {
    "duration": 10,
    "start_time": "2023-04-20T01:14:18.051Z"
   },
   {
    "duration": 1102,
    "start_time": "2023-04-20T01:14:50.784Z"
   },
   {
    "duration": 154,
    "start_time": "2023-04-20T01:14:51.888Z"
   },
   {
    "duration": 11,
    "start_time": "2023-04-20T01:14:52.044Z"
   },
   {
    "duration": 37,
    "start_time": "2023-04-20T01:14:52.057Z"
   },
   {
    "duration": 18,
    "start_time": "2023-04-20T01:14:52.096Z"
   },
   {
    "duration": 25,
    "start_time": "2023-04-20T01:14:52.116Z"
   },
   {
    "duration": 67,
    "start_time": "2023-04-20T01:14:52.144Z"
   },
   {
    "duration": 87,
    "start_time": "2023-04-20T01:14:52.213Z"
   },
   {
    "duration": 123,
    "start_time": "2023-04-20T01:14:52.303Z"
   },
   {
    "duration": 69,
    "start_time": "2023-04-20T01:14:52.429Z"
   },
   {
    "duration": 36,
    "start_time": "2023-04-20T01:14:52.500Z"
   },
   {
    "duration": 47,
    "start_time": "2023-04-20T01:14:52.539Z"
   },
   {
    "duration": 9,
    "start_time": "2023-04-20T01:14:52.589Z"
   },
   {
    "duration": 56,
    "start_time": "2023-04-20T01:14:52.600Z"
   },
   {
    "duration": 4,
    "start_time": "2023-04-20T01:14:52.658Z"
   },
   {
    "duration": 19,
    "start_time": "2023-04-20T01:14:52.664Z"
   },
   {
    "duration": 18,
    "start_time": "2023-04-20T01:14:52.685Z"
   },
   {
    "duration": 38,
    "start_time": "2023-04-20T01:14:52.705Z"
   },
   {
    "duration": 297,
    "start_time": "2023-04-20T01:14:52.745Z"
   },
   {
    "duration": 39,
    "start_time": "2023-04-20T01:14:53.044Z"
   },
   {
    "duration": 19,
    "start_time": "2023-04-20T01:14:53.085Z"
   },
   {
    "duration": 35,
    "start_time": "2023-04-20T01:14:53.106Z"
   },
   {
    "duration": 36,
    "start_time": "2023-04-20T01:14:53.143Z"
   },
   {
    "duration": 31,
    "start_time": "2023-04-20T01:14:53.181Z"
   },
   {
    "duration": 81,
    "start_time": "2023-04-20T01:14:53.214Z"
   },
   {
    "duration": 65,
    "start_time": "2023-04-20T01:14:53.297Z"
   },
   {
    "duration": 8,
    "start_time": "2023-04-20T01:14:53.363Z"
   },
   {
    "duration": 6,
    "start_time": "2023-04-20T01:14:53.374Z"
   },
   {
    "duration": 11,
    "start_time": "2023-04-20T01:14:53.381Z"
   },
   {
    "duration": 100,
    "start_time": "2023-04-20T01:14:53.393Z"
   },
   {
    "duration": 3,
    "start_time": "2023-04-20T01:14:53.495Z"
   },
   {
    "duration": 22,
    "start_time": "2023-04-20T01:14:53.501Z"
   },
   {
    "duration": 12,
    "start_time": "2023-04-20T01:14:53.526Z"
   },
   {
    "duration": 11,
    "start_time": "2023-04-20T01:14:53.540Z"
   },
   {
    "duration": 7,
    "start_time": "2023-04-20T01:14:53.553Z"
   },
   {
    "duration": 56,
    "start_time": "2023-04-20T01:14:53.562Z"
   },
   {
    "duration": 8,
    "start_time": "2023-04-20T01:14:53.619Z"
   },
   {
    "duration": 114,
    "start_time": "2023-04-20T01:14:53.634Z"
   },
   {
    "duration": 7,
    "start_time": "2023-04-20T01:14:53.750Z"
   },
   {
    "duration": 10,
    "start_time": "2023-04-20T01:14:53.759Z"
   },
   {
    "duration": 13,
    "start_time": "2023-04-20T01:14:53.771Z"
   },
   {
    "duration": 22,
    "start_time": "2023-04-20T01:14:53.785Z"
   },
   {
    "duration": 13,
    "start_time": "2023-04-20T01:14:53.809Z"
   },
   {
    "duration": 31,
    "start_time": "2023-04-20T01:14:53.824Z"
   },
   {
    "duration": 40,
    "start_time": "2023-04-20T01:14:53.857Z"
   },
   {
    "duration": 17,
    "start_time": "2023-04-20T01:14:53.898Z"
   },
   {
    "duration": 13,
    "start_time": "2023-04-20T01:14:53.917Z"
   },
   {
    "duration": 28,
    "start_time": "2023-04-20T01:14:53.931Z"
   },
   {
    "duration": 15,
    "start_time": "2023-04-20T01:14:53.960Z"
   },
   {
    "duration": 21,
    "start_time": "2023-04-20T01:14:53.976Z"
   },
   {
    "duration": 23,
    "start_time": "2023-04-20T01:14:53.999Z"
   },
   {
    "duration": 15,
    "start_time": "2023-04-20T01:14:54.023Z"
   },
   {
    "duration": 25,
    "start_time": "2023-04-20T01:14:54.039Z"
   },
   {
    "duration": 4,
    "start_time": "2023-04-20T01:15:46.591Z"
   },
   {
    "duration": 5,
    "start_time": "2023-04-20T01:15:47.183Z"
   },
   {
    "duration": 1072,
    "start_time": "2023-04-20T01:36:36.603Z"
   },
   {
    "duration": 168,
    "start_time": "2023-04-20T01:36:37.677Z"
   },
   {
    "duration": 13,
    "start_time": "2023-04-20T01:36:37.847Z"
   },
   {
    "duration": 22,
    "start_time": "2023-04-20T01:36:37.862Z"
   },
   {
    "duration": 3,
    "start_time": "2023-04-20T01:36:37.886Z"
   },
   {
    "duration": 22,
    "start_time": "2023-04-20T01:36:37.890Z"
   },
   {
    "duration": 79,
    "start_time": "2023-04-20T01:36:37.913Z"
   },
   {
    "duration": 84,
    "start_time": "2023-04-20T01:36:37.993Z"
   },
   {
    "duration": 114,
    "start_time": "2023-04-20T01:36:38.079Z"
   },
   {
    "duration": 70,
    "start_time": "2023-04-20T01:36:38.196Z"
   },
   {
    "duration": 26,
    "start_time": "2023-04-20T01:36:38.267Z"
   },
   {
    "duration": 52,
    "start_time": "2023-04-20T01:36:38.295Z"
   },
   {
    "duration": 9,
    "start_time": "2023-04-20T01:36:38.349Z"
   },
   {
    "duration": 32,
    "start_time": "2023-04-20T01:36:38.360Z"
   },
   {
    "duration": 4,
    "start_time": "2023-04-20T01:36:38.393Z"
   },
   {
    "duration": 8,
    "start_time": "2023-04-20T01:36:38.398Z"
   },
   {
    "duration": 29,
    "start_time": "2023-04-20T01:36:38.407Z"
   },
   {
    "duration": 33,
    "start_time": "2023-04-20T01:36:38.437Z"
   },
   {
    "duration": 299,
    "start_time": "2023-04-20T01:36:38.471Z"
   },
   {
    "duration": 37,
    "start_time": "2023-04-20T01:36:38.772Z"
   },
   {
    "duration": 34,
    "start_time": "2023-04-20T01:36:38.811Z"
   },
   {
    "duration": 12,
    "start_time": "2023-04-20T01:36:38.847Z"
   },
   {
    "duration": 16,
    "start_time": "2023-04-20T01:36:38.860Z"
   },
   {
    "duration": 30,
    "start_time": "2023-04-20T01:36:38.877Z"
   },
   {
    "duration": 88,
    "start_time": "2023-04-20T01:36:38.908Z"
   },
   {
    "duration": 65,
    "start_time": "2023-04-20T01:36:38.998Z"
   },
   {
    "duration": 6,
    "start_time": "2023-04-20T01:36:39.064Z"
   },
   {
    "duration": 9,
    "start_time": "2023-04-20T01:36:39.073Z"
   },
   {
    "duration": 10,
    "start_time": "2023-04-20T01:36:39.084Z"
   },
   {
    "duration": 88,
    "start_time": "2023-04-20T01:36:39.096Z"
   },
   {
    "duration": 4,
    "start_time": "2023-04-20T01:36:39.186Z"
   },
   {
    "duration": 7,
    "start_time": "2023-04-20T01:36:39.191Z"
   },
   {
    "duration": 6,
    "start_time": "2023-04-20T01:36:39.200Z"
   },
   {
    "duration": 9,
    "start_time": "2023-04-20T01:36:39.208Z"
   },
   {
    "duration": 16,
    "start_time": "2023-04-20T01:36:39.218Z"
   },
   {
    "duration": 42,
    "start_time": "2023-04-20T01:36:39.236Z"
   },
   {
    "duration": 132,
    "start_time": "2023-04-20T01:36:39.280Z"
   },
   {
    "duration": 8,
    "start_time": "2023-04-20T01:36:39.413Z"
   },
   {
    "duration": 15,
    "start_time": "2023-04-20T01:36:39.434Z"
   },
   {
    "duration": 19,
    "start_time": "2023-04-20T01:36:39.450Z"
   },
   {
    "duration": 16,
    "start_time": "2023-04-20T01:36:39.471Z"
   },
   {
    "duration": 9,
    "start_time": "2023-04-20T01:36:39.489Z"
   },
   {
    "duration": 16,
    "start_time": "2023-04-20T01:36:39.499Z"
   },
   {
    "duration": 14,
    "start_time": "2023-04-20T01:36:39.516Z"
   },
   {
    "duration": 7,
    "start_time": "2023-04-20T01:36:39.532Z"
   },
   {
    "duration": 15,
    "start_time": "2023-04-20T01:36:39.541Z"
   },
   {
    "duration": 18,
    "start_time": "2023-04-20T01:36:39.557Z"
   },
   {
    "duration": 10,
    "start_time": "2023-04-20T01:36:39.576Z"
   },
   {
    "duration": 16,
    "start_time": "2023-04-20T01:36:39.587Z"
   },
   {
    "duration": 11,
    "start_time": "2023-04-20T01:36:39.604Z"
   },
   {
    "duration": 25,
    "start_time": "2023-04-20T01:36:39.616Z"
   },
   {
    "duration": 11,
    "start_time": "2023-04-20T01:36:39.643Z"
   },
   {
    "duration": 5,
    "start_time": "2023-04-20T01:37:01.015Z"
   },
   {
    "duration": 6,
    "start_time": "2023-04-20T01:37:03.274Z"
   },
   {
    "duration": 9,
    "start_time": "2023-04-20T01:37:04.239Z"
   },
   {
    "duration": 9,
    "start_time": "2023-04-20T01:37:05.528Z"
   },
   {
    "duration": 8,
    "start_time": "2023-04-20T01:37:05.941Z"
   },
   {
    "duration": 9,
    "start_time": "2023-04-20T01:37:09.155Z"
   },
   {
    "duration": 8,
    "start_time": "2023-04-20T01:37:10.324Z"
   },
   {
    "duration": 8,
    "start_time": "2023-04-20T01:37:10.666Z"
   },
   {
    "duration": 10,
    "start_time": "2023-04-20T01:37:14.950Z"
   },
   {
    "duration": 13,
    "start_time": "2023-04-20T01:37:16.382Z"
   },
   {
    "duration": 9,
    "start_time": "2023-04-20T01:37:18.251Z"
   },
   {
    "duration": 11,
    "start_time": "2023-04-20T01:37:19.278Z"
   },
   {
    "duration": 9,
    "start_time": "2023-04-20T01:37:20.278Z"
   },
   {
    "duration": 12,
    "start_time": "2023-04-20T01:37:21.276Z"
   },
   {
    "duration": 1317,
    "start_time": "2023-04-20T09:41:29.163Z"
   },
   {
    "duration": 661,
    "start_time": "2023-04-20T09:41:30.483Z"
   },
   {
    "duration": 13,
    "start_time": "2023-04-20T09:41:31.146Z"
   },
   {
    "duration": 42,
    "start_time": "2023-04-20T09:41:31.161Z"
   },
   {
    "duration": 26,
    "start_time": "2023-04-20T09:41:31.205Z"
   },
   {
    "duration": 49,
    "start_time": "2023-04-20T09:41:31.232Z"
   },
   {
    "duration": 89,
    "start_time": "2023-04-20T09:41:31.283Z"
   },
   {
    "duration": 91,
    "start_time": "2023-04-20T09:41:31.374Z"
   },
   {
    "duration": 118,
    "start_time": "2023-04-20T09:41:31.466Z"
   },
   {
    "duration": 76,
    "start_time": "2023-04-20T09:41:31.587Z"
   },
   {
    "duration": 25,
    "start_time": "2023-04-20T09:41:31.664Z"
   },
   {
    "duration": 56,
    "start_time": "2023-04-20T09:41:31.691Z"
   },
   {
    "duration": 57,
    "start_time": "2023-04-20T09:41:31.748Z"
   },
   {
    "duration": 53,
    "start_time": "2023-04-20T09:41:31.807Z"
   },
   {
    "duration": 4,
    "start_time": "2023-04-20T09:41:31.862Z"
   },
   {
    "duration": 24,
    "start_time": "2023-04-20T09:41:31.868Z"
   },
   {
    "duration": 20,
    "start_time": "2023-04-20T09:41:31.894Z"
   },
   {
    "duration": 51,
    "start_time": "2023-04-20T09:41:31.916Z"
   },
   {
    "duration": 322,
    "start_time": "2023-04-20T09:41:31.968Z"
   },
   {
    "duration": 47,
    "start_time": "2023-04-20T09:41:32.291Z"
   },
   {
    "duration": 20,
    "start_time": "2023-04-20T09:41:32.340Z"
   },
   {
    "duration": 18,
    "start_time": "2023-04-20T09:41:32.362Z"
   },
   {
    "duration": 14,
    "start_time": "2023-04-20T09:41:32.381Z"
   },
   {
    "duration": 57,
    "start_time": "2023-04-20T09:41:32.397Z"
   },
   {
    "duration": 99,
    "start_time": "2023-04-20T09:41:32.456Z"
   },
   {
    "duration": 88,
    "start_time": "2023-04-20T09:41:32.557Z"
   },
   {
    "duration": 8,
    "start_time": "2023-04-20T09:41:32.647Z"
   },
   {
    "duration": 27,
    "start_time": "2023-04-20T09:41:32.660Z"
   },
   {
    "duration": 33,
    "start_time": "2023-04-20T09:41:32.690Z"
   },
   {
    "duration": 100,
    "start_time": "2023-04-20T09:41:32.725Z"
   },
   {
    "duration": 4,
    "start_time": "2023-04-20T09:41:32.827Z"
   },
   {
    "duration": 12,
    "start_time": "2023-04-20T09:41:32.832Z"
   },
   {
    "duration": 11,
    "start_time": "2023-04-20T09:41:32.846Z"
   },
   {
    "duration": 37,
    "start_time": "2023-04-20T09:41:32.859Z"
   },
   {
    "duration": 28,
    "start_time": "2023-04-20T09:41:32.898Z"
   },
   {
    "duration": 51,
    "start_time": "2023-04-20T09:41:32.928Z"
   },
   {
    "duration": 118,
    "start_time": "2023-04-20T09:41:32.982Z"
   },
   {
    "duration": 8,
    "start_time": "2023-04-20T09:41:33.101Z"
   },
   {
    "duration": 24,
    "start_time": "2023-04-20T09:41:33.111Z"
   },
   {
    "duration": 18,
    "start_time": "2023-04-20T09:41:33.137Z"
   },
   {
    "duration": 32,
    "start_time": "2023-04-20T09:41:33.156Z"
   },
   {
    "duration": 36,
    "start_time": "2023-04-20T09:41:33.189Z"
   },
   {
    "duration": 26,
    "start_time": "2023-04-20T09:41:33.227Z"
   },
   {
    "duration": 19,
    "start_time": "2023-04-20T09:41:33.255Z"
   },
   {
    "duration": 26,
    "start_time": "2023-04-20T09:41:33.276Z"
   },
   {
    "duration": 25,
    "start_time": "2023-04-20T09:41:33.304Z"
   },
   {
    "duration": 28,
    "start_time": "2023-04-20T09:41:33.331Z"
   },
   {
    "duration": 20,
    "start_time": "2023-04-20T09:41:33.361Z"
   },
   {
    "duration": 29,
    "start_time": "2023-04-20T09:41:33.383Z"
   },
   {
    "duration": 32,
    "start_time": "2023-04-20T09:41:33.414Z"
   },
   {
    "duration": 22,
    "start_time": "2023-04-20T09:41:33.448Z"
   },
   {
    "duration": 36,
    "start_time": "2023-04-20T09:41:33.472Z"
   },
   {
    "duration": 49,
    "start_time": "2023-04-20T18:07:10.922Z"
   },
   {
    "duration": 1306,
    "start_time": "2023-04-20T18:07:16.670Z"
   },
   {
    "duration": 663,
    "start_time": "2023-04-20T18:07:17.978Z"
   },
   {
    "duration": 13,
    "start_time": "2023-04-20T18:07:18.642Z"
   },
   {
    "duration": 26,
    "start_time": "2023-04-20T18:07:18.657Z"
   },
   {
    "duration": 9,
    "start_time": "2023-04-20T18:07:18.684Z"
   },
   {
    "duration": 22,
    "start_time": "2023-04-20T18:07:18.695Z"
   },
   {
    "duration": 75,
    "start_time": "2023-04-20T18:07:18.720Z"
   },
   {
    "duration": 119,
    "start_time": "2023-04-20T18:07:18.797Z"
   },
   {
    "duration": 115,
    "start_time": "2023-04-20T18:07:18.918Z"
   },
   {
    "duration": 66,
    "start_time": "2023-04-20T18:07:19.035Z"
   },
   {
    "duration": 31,
    "start_time": "2023-04-20T18:07:19.103Z"
   },
   {
    "duration": 52,
    "start_time": "2023-04-20T18:07:19.135Z"
   },
   {
    "duration": 9,
    "start_time": "2023-04-20T18:07:19.189Z"
   },
   {
    "duration": 39,
    "start_time": "2023-04-20T18:07:19.200Z"
   },
   {
    "duration": 4,
    "start_time": "2023-04-20T18:07:19.241Z"
   },
   {
    "duration": 27,
    "start_time": "2023-04-20T18:07:19.247Z"
   },
   {
    "duration": 8,
    "start_time": "2023-04-20T18:07:19.276Z"
   },
   {
    "duration": 56,
    "start_time": "2023-04-20T18:07:19.286Z"
   },
   {
    "duration": 334,
    "start_time": "2023-04-20T18:07:19.344Z"
   },
   {
    "duration": 51,
    "start_time": "2023-04-20T18:07:19.680Z"
   },
   {
    "duration": 22,
    "start_time": "2023-04-20T18:07:19.733Z"
   },
   {
    "duration": 17,
    "start_time": "2023-04-20T18:07:19.756Z"
   },
   {
    "duration": 26,
    "start_time": "2023-04-20T18:07:19.775Z"
   },
   {
    "duration": 52,
    "start_time": "2023-04-20T18:07:19.803Z"
   },
   {
    "duration": 81,
    "start_time": "2023-04-20T18:07:19.858Z"
   },
   {
    "duration": 66,
    "start_time": "2023-04-20T18:07:19.941Z"
   },
   {
    "duration": 7,
    "start_time": "2023-04-20T18:07:20.018Z"
   },
   {
    "duration": 29,
    "start_time": "2023-04-20T18:07:20.029Z"
   },
   {
    "duration": 21,
    "start_time": "2023-04-20T18:07:20.060Z"
   },
   {
    "duration": 107,
    "start_time": "2023-04-20T18:07:20.083Z"
   },
   {
    "duration": 4,
    "start_time": "2023-04-20T18:07:20.192Z"
   },
   {
    "duration": 34,
    "start_time": "2023-04-20T18:07:20.197Z"
   },
   {
    "duration": 32,
    "start_time": "2023-04-20T18:07:20.233Z"
   },
   {
    "duration": 21,
    "start_time": "2023-04-20T18:07:20.267Z"
   },
   {
    "duration": 44,
    "start_time": "2023-04-20T18:07:20.290Z"
   },
   {
    "duration": 67,
    "start_time": "2023-04-20T18:07:20.336Z"
   },
   {
    "duration": 109,
    "start_time": "2023-04-20T18:07:20.405Z"
   },
   {
    "duration": 7,
    "start_time": "2023-04-20T18:07:20.516Z"
   },
   {
    "duration": 34,
    "start_time": "2023-04-20T18:07:20.525Z"
   },
   {
    "duration": 26,
    "start_time": "2023-04-20T18:07:20.560Z"
   },
   {
    "duration": 50,
    "start_time": "2023-04-20T18:07:20.587Z"
   },
   {
    "duration": 23,
    "start_time": "2023-04-20T18:07:20.639Z"
   },
   {
    "duration": 38,
    "start_time": "2023-04-20T18:07:20.664Z"
   },
   {
    "duration": 26,
    "start_time": "2023-04-20T18:07:20.704Z"
   },
   {
    "duration": 22,
    "start_time": "2023-04-20T18:07:20.732Z"
   },
   {
    "duration": 30,
    "start_time": "2023-04-20T18:07:20.755Z"
   },
   {
    "duration": 30,
    "start_time": "2023-04-20T18:07:20.787Z"
   },
   {
    "duration": 23,
    "start_time": "2023-04-20T18:07:20.819Z"
   },
   {
    "duration": 25,
    "start_time": "2023-04-20T18:07:20.844Z"
   },
   {
    "duration": 25,
    "start_time": "2023-04-20T18:07:20.872Z"
   },
   {
    "duration": 31,
    "start_time": "2023-04-20T18:07:20.899Z"
   },
   {
    "duration": 32,
    "start_time": "2023-04-20T18:07:20.932Z"
   },
   {
    "duration": 4,
    "start_time": "2023-04-20T18:09:36.169Z"
   },
   {
    "duration": 7,
    "start_time": "2023-04-20T18:09:38.699Z"
   },
   {
    "duration": 3,
    "start_time": "2023-04-20T18:09:55.125Z"
   },
   {
    "duration": 209,
    "start_time": "2023-04-20T18:09:55.130Z"
   },
   {
    "duration": 7,
    "start_time": "2023-04-20T18:09:55.341Z"
   },
   {
    "duration": 58,
    "start_time": "2023-04-20T18:09:55.350Z"
   },
   {
    "duration": 24,
    "start_time": "2023-04-20T18:09:55.411Z"
   },
   {
    "duration": 58,
    "start_time": "2023-04-20T18:09:55.436Z"
   },
   {
    "duration": 106,
    "start_time": "2023-04-20T18:09:55.496Z"
   },
   {
    "duration": 85,
    "start_time": "2023-04-20T18:09:55.604Z"
   },
   {
    "duration": 104,
    "start_time": "2023-04-20T18:09:55.690Z"
   },
   {
    "duration": 74,
    "start_time": "2023-04-20T18:09:55.796Z"
   },
   {
    "duration": 25,
    "start_time": "2023-04-20T18:09:55.872Z"
   },
   {
    "duration": 55,
    "start_time": "2023-04-20T18:09:55.898Z"
   },
   {
    "duration": 9,
    "start_time": "2023-04-20T18:09:55.956Z"
   },
   {
    "duration": 74,
    "start_time": "2023-04-20T18:09:55.967Z"
   },
   {
    "duration": 5,
    "start_time": "2023-04-20T18:09:56.042Z"
   },
   {
    "duration": 33,
    "start_time": "2023-04-20T18:09:56.048Z"
   },
   {
    "duration": 61,
    "start_time": "2023-04-20T18:09:56.083Z"
   },
   {
    "duration": 95,
    "start_time": "2023-04-20T18:09:56.146Z"
   },
   {
    "duration": 285,
    "start_time": "2023-04-20T18:09:56.243Z"
   },
   {
    "duration": 41,
    "start_time": "2023-04-20T18:09:56.530Z"
   },
   {
    "duration": 19,
    "start_time": "2023-04-20T18:09:56.573Z"
   },
   {
    "duration": 8,
    "start_time": "2023-04-20T18:09:58.365Z"
   },
   {
    "duration": 7,
    "start_time": "2023-04-20T18:10:04.045Z"
   },
   {
    "duration": 7,
    "start_time": "2023-04-20T18:10:27.488Z"
   },
   {
    "duration": 9,
    "start_time": "2023-04-20T18:11:23.718Z"
   },
   {
    "duration": 8,
    "start_time": "2023-04-20T18:11:27.016Z"
   },
   {
    "duration": 9,
    "start_time": "2023-04-20T18:11:47.253Z"
   },
   {
    "duration": 17,
    "start_time": "2023-04-20T18:11:56.550Z"
   },
   {
    "duration": 20,
    "start_time": "2023-04-20T18:12:27.792Z"
   },
   {
    "duration": 13,
    "start_time": "2023-04-20T18:12:40.200Z"
   },
   {
    "duration": 21,
    "start_time": "2023-04-20T18:12:59.183Z"
   },
   {
    "duration": 17634,
    "start_time": "2023-04-20T18:14:00.528Z"
   },
   {
    "duration": 4,
    "start_time": "2023-04-20T18:14:26.210Z"
   },
   {
    "duration": 18044,
    "start_time": "2023-04-20T18:14:35.834Z"
   },
   {
    "duration": 4,
    "start_time": "2023-04-20T18:14:57.452Z"
   },
   {
    "duration": 1120,
    "start_time": "2023-04-20T18:30:23.961Z"
   },
   {
    "duration": 182,
    "start_time": "2023-04-20T18:30:25.083Z"
   },
   {
    "duration": 12,
    "start_time": "2023-04-20T18:30:25.267Z"
   },
   {
    "duration": 50,
    "start_time": "2023-04-20T18:30:25.281Z"
   },
   {
    "duration": 4,
    "start_time": "2023-04-20T18:30:25.332Z"
   },
   {
    "duration": 21,
    "start_time": "2023-04-20T18:30:25.337Z"
   },
   {
    "duration": 78,
    "start_time": "2023-04-20T18:30:25.360Z"
   },
   {
    "duration": 116,
    "start_time": "2023-04-20T18:30:25.440Z"
   },
   {
    "duration": 127,
    "start_time": "2023-04-20T18:30:25.557Z"
   },
   {
    "duration": 76,
    "start_time": "2023-04-20T18:30:25.687Z"
   },
   {
    "duration": 27,
    "start_time": "2023-04-20T18:30:25.765Z"
   },
   {
    "duration": 53,
    "start_time": "2023-04-20T18:30:25.793Z"
   },
   {
    "duration": 10,
    "start_time": "2023-04-20T18:30:25.848Z"
   },
   {
    "duration": 39,
    "start_time": "2023-04-20T18:30:25.860Z"
   },
   {
    "duration": 16,
    "start_time": "2023-04-20T18:30:25.901Z"
   },
   {
    "duration": 10,
    "start_time": "2023-04-20T18:30:25.919Z"
   },
   {
    "duration": 19,
    "start_time": "2023-04-20T18:30:25.931Z"
   },
   {
    "duration": 39,
    "start_time": "2023-04-20T18:30:25.952Z"
   },
   {
    "duration": 340,
    "start_time": "2023-04-20T18:30:25.993Z"
   },
   {
    "duration": 43,
    "start_time": "2023-04-20T18:30:26.335Z"
   },
   {
    "duration": 38,
    "start_time": "2023-04-20T18:30:26.381Z"
   },
   {
    "duration": 53,
    "start_time": "2023-04-20T18:30:26.421Z"
   },
   {
    "duration": 0,
    "start_time": "2023-04-20T18:30:26.476Z"
   },
   {
    "duration": 0,
    "start_time": "2023-04-20T18:30:26.477Z"
   },
   {
    "duration": 0,
    "start_time": "2023-04-20T18:30:26.478Z"
   },
   {
    "duration": 1,
    "start_time": "2023-04-20T18:30:26.479Z"
   },
   {
    "duration": 0,
    "start_time": "2023-04-20T18:30:26.481Z"
   },
   {
    "duration": 0,
    "start_time": "2023-04-20T18:30:26.482Z"
   },
   {
    "duration": 0,
    "start_time": "2023-04-20T18:30:26.483Z"
   },
   {
    "duration": 0,
    "start_time": "2023-04-20T18:30:26.484Z"
   },
   {
    "duration": 0,
    "start_time": "2023-04-20T18:30:26.484Z"
   },
   {
    "duration": 0,
    "start_time": "2023-04-20T18:30:26.485Z"
   },
   {
    "duration": 0,
    "start_time": "2023-04-20T18:30:26.486Z"
   },
   {
    "duration": 0,
    "start_time": "2023-04-20T18:30:26.487Z"
   },
   {
    "duration": 0,
    "start_time": "2023-04-20T18:30:26.488Z"
   },
   {
    "duration": 0,
    "start_time": "2023-04-20T18:30:26.489Z"
   },
   {
    "duration": 0,
    "start_time": "2023-04-20T18:30:26.490Z"
   },
   {
    "duration": 0,
    "start_time": "2023-04-20T18:30:26.491Z"
   },
   {
    "duration": 0,
    "start_time": "2023-04-20T18:30:26.492Z"
   },
   {
    "duration": 0,
    "start_time": "2023-04-20T18:30:26.493Z"
   },
   {
    "duration": 0,
    "start_time": "2023-04-20T18:30:26.493Z"
   },
   {
    "duration": 0,
    "start_time": "2023-04-20T18:30:26.495Z"
   },
   {
    "duration": 0,
    "start_time": "2023-04-20T18:30:26.496Z"
   },
   {
    "duration": 0,
    "start_time": "2023-04-20T18:30:26.496Z"
   },
   {
    "duration": 0,
    "start_time": "2023-04-20T18:30:26.497Z"
   },
   {
    "duration": 0,
    "start_time": "2023-04-20T18:30:26.498Z"
   },
   {
    "duration": 0,
    "start_time": "2023-04-20T18:30:26.499Z"
   },
   {
    "duration": 0,
    "start_time": "2023-04-20T18:30:26.501Z"
   },
   {
    "duration": 0,
    "start_time": "2023-04-20T18:30:26.502Z"
   },
   {
    "duration": 0,
    "start_time": "2023-04-20T18:30:26.503Z"
   },
   {
    "duration": 0,
    "start_time": "2023-04-20T18:30:26.504Z"
   },
   {
    "duration": 0,
    "start_time": "2023-04-20T18:30:26.505Z"
   },
   {
    "duration": 0,
    "start_time": "2023-04-20T18:30:26.506Z"
   },
   {
    "duration": 0,
    "start_time": "2023-04-20T18:30:26.518Z"
   },
   {
    "duration": 17592,
    "start_time": "2023-04-20T18:30:52.895Z"
   },
   {
    "duration": 4,
    "start_time": "2023-04-20T18:31:13.323Z"
   },
   {
    "duration": 1108,
    "start_time": "2023-04-20T18:56:39.163Z"
   },
   {
    "duration": 170,
    "start_time": "2023-04-20T18:56:40.272Z"
   },
   {
    "duration": 13,
    "start_time": "2023-04-20T18:56:40.444Z"
   },
   {
    "duration": 22,
    "start_time": "2023-04-20T18:56:40.460Z"
   },
   {
    "duration": 4,
    "start_time": "2023-04-20T18:56:40.483Z"
   },
   {
    "duration": 38,
    "start_time": "2023-04-20T18:56:40.488Z"
   },
   {
    "duration": 72,
    "start_time": "2023-04-20T18:56:40.528Z"
   },
   {
    "duration": 98,
    "start_time": "2023-04-20T18:56:40.603Z"
   },
   {
    "duration": 124,
    "start_time": "2023-04-20T18:56:40.703Z"
   },
   {
    "duration": 66,
    "start_time": "2023-04-20T18:56:40.830Z"
   },
   {
    "duration": 39,
    "start_time": "2023-04-20T18:56:40.898Z"
   },
   {
    "duration": 38,
    "start_time": "2023-04-20T18:56:40.938Z"
   },
   {
    "duration": 9,
    "start_time": "2023-04-20T18:56:40.977Z"
   },
   {
    "duration": 52,
    "start_time": "2023-04-20T18:56:40.988Z"
   },
   {
    "duration": 4,
    "start_time": "2023-04-20T18:56:41.042Z"
   },
   {
    "duration": 8,
    "start_time": "2023-04-20T18:56:41.047Z"
   },
   {
    "duration": 13,
    "start_time": "2023-04-20T18:56:41.056Z"
   },
   {
    "duration": 31,
    "start_time": "2023-04-20T18:56:41.071Z"
   },
   {
    "duration": 326,
    "start_time": "2023-04-20T18:56:41.118Z"
   },
   {
    "duration": 41,
    "start_time": "2023-04-20T18:56:41.445Z"
   },
   {
    "duration": 34,
    "start_time": "2023-04-20T18:56:41.488Z"
   },
   {
    "duration": 17437,
    "start_time": "2023-04-20T18:56:41.523Z"
   },
   {
    "duration": 4,
    "start_time": "2023-04-20T18:56:58.962Z"
   },
   {
    "duration": 15,
    "start_time": "2023-04-20T18:56:58.968Z"
   },
   {
    "duration": 23,
    "start_time": "2023-04-20T18:56:58.985Z"
   },
   {
    "duration": 37,
    "start_time": "2023-04-20T18:56:59.010Z"
   },
   {
    "duration": 88,
    "start_time": "2023-04-20T18:56:59.049Z"
   },
   {
    "duration": 77,
    "start_time": "2023-04-20T18:56:59.141Z"
   },
   {
    "duration": 7,
    "start_time": "2023-04-20T18:56:59.220Z"
   },
   {
    "duration": 10,
    "start_time": "2023-04-20T18:56:59.228Z"
   },
   {
    "duration": 13,
    "start_time": "2023-04-20T18:56:59.239Z"
   },
   {
    "duration": 97,
    "start_time": "2023-04-20T18:56:59.254Z"
   },
   {
    "duration": 3,
    "start_time": "2023-04-20T18:56:59.353Z"
   },
   {
    "duration": 21,
    "start_time": "2023-04-20T18:56:59.358Z"
   },
   {
    "duration": 28,
    "start_time": "2023-04-20T18:56:59.381Z"
   },
   {
    "duration": 16,
    "start_time": "2023-04-20T18:56:59.411Z"
   },
   {
    "duration": 12,
    "start_time": "2023-04-20T18:56:59.429Z"
   },
   {
    "duration": 56,
    "start_time": "2023-04-20T18:56:59.442Z"
   },
   {
    "duration": 115,
    "start_time": "2023-04-20T18:56:59.500Z"
   },
   {
    "duration": 7,
    "start_time": "2023-04-20T18:56:59.618Z"
   },
   {
    "duration": 10,
    "start_time": "2023-04-20T18:56:59.627Z"
   },
   {
    "duration": 19,
    "start_time": "2023-04-20T18:56:59.638Z"
   },
   {
    "duration": 28,
    "start_time": "2023-04-20T18:56:59.658Z"
   },
   {
    "duration": 25,
    "start_time": "2023-04-20T18:56:59.687Z"
   },
   {
    "duration": 23,
    "start_time": "2023-04-20T18:56:59.714Z"
   },
   {
    "duration": 20,
    "start_time": "2023-04-20T18:56:59.739Z"
   },
   {
    "duration": 18,
    "start_time": "2023-04-20T18:56:59.761Z"
   },
   {
    "duration": 18,
    "start_time": "2023-04-20T18:56:59.781Z"
   },
   {
    "duration": 21,
    "start_time": "2023-04-20T18:56:59.800Z"
   },
   {
    "duration": 13,
    "start_time": "2023-04-20T18:56:59.823Z"
   },
   {
    "duration": 20,
    "start_time": "2023-04-20T18:56:59.837Z"
   },
   {
    "duration": 10,
    "start_time": "2023-04-20T18:56:59.859Z"
   },
   {
    "duration": 10,
    "start_time": "2023-04-20T18:56:59.870Z"
   },
   {
    "duration": 9,
    "start_time": "2023-04-20T18:56:59.882Z"
   }
  ],
  "kernelspec": {
   "display_name": "Python 3 (ipykernel)",
   "language": "python",
   "name": "python3"
  },
  "language_info": {
   "codemirror_mode": {
    "name": "ipython",
    "version": 3
   },
   "file_extension": ".py",
   "mimetype": "text/x-python",
   "name": "python",
   "nbconvert_exporter": "python",
   "pygments_lexer": "ipython3",
   "version": "3.9.5"
  },
  "toc": {
   "base_numbering": 1,
   "nav_menu": {},
   "number_sections": false,
   "sideBar": true,
   "skip_h1_title": false,
   "title_cell": "Table of Contents",
   "title_sidebar": "Contents",
   "toc_cell": false,
   "toc_position": {
    "height": "calc(100% - 180px)",
    "left": "10px",
    "top": "150px",
    "width": "165px"
   },
   "toc_section_display": true,
   "toc_window_display": false
  }
 },
 "nbformat": 4,
 "nbformat_minor": 5
}
