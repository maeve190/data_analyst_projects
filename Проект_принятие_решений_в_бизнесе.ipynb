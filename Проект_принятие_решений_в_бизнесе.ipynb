{
 "cells": [
  {
   "cell_type": "markdown",
   "id": "9570386b",
   "metadata": {},
   "source": [
    "# Проектная работа"
   ]
  },
  {
   "cell_type": "markdown",
   "id": "9d851d9c",
   "metadata": {},
   "source": [
    "**Цель исследования:**\n",
    "1. Приоритизация подготовленных гипотез.\n",
    "<br>\n",
    "2. Анализ результатов A/B-теста.\n",
    "\n",
    "**Ход исследования:**\n",
    " 1. Использование методов ICE и RICE для приоритезации гипотез .\n",
    " 2. Анализ A/B-теста с помощью графиков и расчета различных параметров."
   ]
  },
  {
   "cell_type": "code",
   "execution_count": 1,
   "id": "027237d2",
   "metadata": {},
   "outputs": [],
   "source": [
    "import pandas as pd\n",
    "import datetime as dt\n",
    "import numpy as np\n",
    "import matplotlib.pyplot as plt\n",
    "from pandas.plotting import register_matplotlib_converters\n",
    "import scipy.stats as stats"
   ]
  },
  {
   "cell_type": "markdown",
   "id": "556ef28e",
   "metadata": {},
   "source": [
    "## Часть 1. Приоритизация гипотез."
   ]
  },
  {
   "cell_type": "code",
   "execution_count": 2,
   "id": "8afc0aed",
   "metadata": {},
   "outputs": [],
   "source": [
    "hypothesis = pd.read_csv('/datasets/hypothesis.csv')"
   ]
  },
  {
   "cell_type": "code",
   "execution_count": 3,
   "id": "6821490d",
   "metadata": {},
   "outputs": [],
   "source": [
    "hypothesis.columns = hypothesis.columns.str.lower()"
   ]
  },
  {
   "cell_type": "code",
   "execution_count": 4,
   "id": "88594fad",
   "metadata": {},
   "outputs": [
    {
     "data": {
      "text/html": [
       "<div>\n",
       "<style scoped>\n",
       "    .dataframe tbody tr th:only-of-type {\n",
       "        vertical-align: middle;\n",
       "    }\n",
       "\n",
       "    .dataframe tbody tr th {\n",
       "        vertical-align: top;\n",
       "    }\n",
       "\n",
       "    .dataframe thead th {\n",
       "        text-align: right;\n",
       "    }\n",
       "</style>\n",
       "<table border=\"1\" class=\"dataframe\">\n",
       "  <thead>\n",
       "    <tr style=\"text-align: right;\">\n",
       "      <th></th>\n",
       "      <th>hypothesis</th>\n",
       "      <th>reach</th>\n",
       "      <th>impact</th>\n",
       "      <th>confidence</th>\n",
       "      <th>efforts</th>\n",
       "    </tr>\n",
       "  </thead>\n",
       "  <tbody>\n",
       "    <tr>\n",
       "      <th>0</th>\n",
       "      <td>Добавить два новых канала привлечения трафика, что позволит привлекать на 30% больше пользователей</td>\n",
       "      <td>3</td>\n",
       "      <td>10</td>\n",
       "      <td>8</td>\n",
       "      <td>6</td>\n",
       "    </tr>\n",
       "    <tr>\n",
       "      <th>1</th>\n",
       "      <td>Запустить собственную службу доставки, что сократит срок доставки заказов</td>\n",
       "      <td>2</td>\n",
       "      <td>5</td>\n",
       "      <td>4</td>\n",
       "      <td>10</td>\n",
       "    </tr>\n",
       "    <tr>\n",
       "      <th>2</th>\n",
       "      <td>Добавить блоки рекомендаций товаров на сайт интернет магазина, чтобы повысить конверсию и средний чек заказа</td>\n",
       "      <td>8</td>\n",
       "      <td>3</td>\n",
       "      <td>7</td>\n",
       "      <td>3</td>\n",
       "    </tr>\n",
       "    <tr>\n",
       "      <th>3</th>\n",
       "      <td>Изменить структура категорий, что увеличит конверсию, т.к. пользователи быстрее найдут нужный товар</td>\n",
       "      <td>8</td>\n",
       "      <td>3</td>\n",
       "      <td>3</td>\n",
       "      <td>8</td>\n",
       "    </tr>\n",
       "    <tr>\n",
       "      <th>4</th>\n",
       "      <td>Изменить цвет фона главной страницы, чтобы увеличить вовлеченность пользователей</td>\n",
       "      <td>3</td>\n",
       "      <td>1</td>\n",
       "      <td>1</td>\n",
       "      <td>1</td>\n",
       "    </tr>\n",
       "    <tr>\n",
       "      <th>5</th>\n",
       "      <td>Добавить страницу отзывов клиентов о магазине, что позволит увеличить количество заказов</td>\n",
       "      <td>3</td>\n",
       "      <td>2</td>\n",
       "      <td>2</td>\n",
       "      <td>3</td>\n",
       "    </tr>\n",
       "    <tr>\n",
       "      <th>6</th>\n",
       "      <td>Показать на главной странице баннеры с актуальными акциями и распродажами, чтобы увеличить конверсию</td>\n",
       "      <td>5</td>\n",
       "      <td>3</td>\n",
       "      <td>8</td>\n",
       "      <td>3</td>\n",
       "    </tr>\n",
       "    <tr>\n",
       "      <th>7</th>\n",
       "      <td>Добавить форму подписки на все основные страницы, чтобы собрать базу клиентов для email-рассылок</td>\n",
       "      <td>10</td>\n",
       "      <td>7</td>\n",
       "      <td>8</td>\n",
       "      <td>5</td>\n",
       "    </tr>\n",
       "    <tr>\n",
       "      <th>8</th>\n",
       "      <td>Запустить акцию, дающую скидку на товар в день рождения</td>\n",
       "      <td>1</td>\n",
       "      <td>9</td>\n",
       "      <td>9</td>\n",
       "      <td>5</td>\n",
       "    </tr>\n",
       "  </tbody>\n",
       "</table>\n",
       "</div>"
      ],
      "text/plain": [
       "                                                                                                     hypothesis  \\\n",
       "0  Добавить два новых канала привлечения трафика, что позволит привлекать на 30% больше пользователей             \n",
       "1  Запустить собственную службу доставки, что сократит срок доставки заказов                                      \n",
       "2  Добавить блоки рекомендаций товаров на сайт интернет магазина, чтобы повысить конверсию и средний чек заказа   \n",
       "3  Изменить структура категорий, что увеличит конверсию, т.к. пользователи быстрее найдут нужный товар            \n",
       "4  Изменить цвет фона главной страницы, чтобы увеличить вовлеченность пользователей                               \n",
       "5  Добавить страницу отзывов клиентов о магазине, что позволит увеличить количество заказов                       \n",
       "6  Показать на главной странице баннеры с актуальными акциями и распродажами, чтобы увеличить конверсию           \n",
       "7  Добавить форму подписки на все основные страницы, чтобы собрать базу клиентов для email-рассылок               \n",
       "8  Запустить акцию, дающую скидку на товар в день рождения                                                        \n",
       "\n",
       "   reach  impact  confidence  efforts  \n",
       "0  3      10      8           6        \n",
       "1  2      5       4           10       \n",
       "2  8      3       7           3        \n",
       "3  8      3       3           8        \n",
       "4  3      1       1           1        \n",
       "5  3      2       2           3        \n",
       "6  5      3       8           3        \n",
       "7  10     7       8           5        \n",
       "8  1      9       9           5        "
      ]
     },
     "execution_count": 4,
     "metadata": {},
     "output_type": "execute_result"
    }
   ],
   "source": [
    "pd.options.display.max_colwidth = 1\n",
    "hypothesis"
   ]
  },
  {
   "cell_type": "markdown",
   "id": "4ee454f3",
   "metadata": {},
   "source": [
    "**Расчитаем параметр ICE**"
   ]
  },
  {
   "cell_type": "code",
   "execution_count": 5,
   "id": "a3a38767",
   "metadata": {},
   "outputs": [],
   "source": [
    "hypothesis['ICE'] = hypothesis['impact']*hypothesis['confidence']/hypothesis['efforts']"
   ]
  },
  {
   "cell_type": "code",
   "execution_count": 6,
   "id": "792a2360",
   "metadata": {},
   "outputs": [],
   "source": [
    "hypothesis['ICE'] = round(hypothesis['ICE'], 3)"
   ]
  },
  {
   "cell_type": "code",
   "execution_count": 7,
   "id": "787f0f42",
   "metadata": {
    "scrolled": true
   },
   "outputs": [
    {
     "data": {
      "text/html": [
       "<div>\n",
       "<style scoped>\n",
       "    .dataframe tbody tr th:only-of-type {\n",
       "        vertical-align: middle;\n",
       "    }\n",
       "\n",
       "    .dataframe tbody tr th {\n",
       "        vertical-align: top;\n",
       "    }\n",
       "\n",
       "    .dataframe thead th {\n",
       "        text-align: right;\n",
       "    }\n",
       "</style>\n",
       "<table border=\"1\" class=\"dataframe\">\n",
       "  <thead>\n",
       "    <tr style=\"text-align: right;\">\n",
       "      <th></th>\n",
       "      <th>hypothesis</th>\n",
       "      <th>ICE</th>\n",
       "    </tr>\n",
       "  </thead>\n",
       "  <tbody>\n",
       "    <tr>\n",
       "      <th>8</th>\n",
       "      <td>Запустить акцию, дающую скидку на товар в день рождения</td>\n",
       "      <td>16.200</td>\n",
       "    </tr>\n",
       "    <tr>\n",
       "      <th>0</th>\n",
       "      <td>Добавить два новых канала привлечения трафика, что позволит привлекать на 30% больше пользователей</td>\n",
       "      <td>13.333</td>\n",
       "    </tr>\n",
       "    <tr>\n",
       "      <th>7</th>\n",
       "      <td>Добавить форму подписки на все основные страницы, чтобы собрать базу клиентов для email-рассылок</td>\n",
       "      <td>11.200</td>\n",
       "    </tr>\n",
       "    <tr>\n",
       "      <th>6</th>\n",
       "      <td>Показать на главной странице баннеры с актуальными акциями и распродажами, чтобы увеличить конверсию</td>\n",
       "      <td>8.000</td>\n",
       "    </tr>\n",
       "    <tr>\n",
       "      <th>2</th>\n",
       "      <td>Добавить блоки рекомендаций товаров на сайт интернет магазина, чтобы повысить конверсию и средний чек заказа</td>\n",
       "      <td>7.000</td>\n",
       "    </tr>\n",
       "    <tr>\n",
       "      <th>1</th>\n",
       "      <td>Запустить собственную службу доставки, что сократит срок доставки заказов</td>\n",
       "      <td>2.000</td>\n",
       "    </tr>\n",
       "    <tr>\n",
       "      <th>5</th>\n",
       "      <td>Добавить страницу отзывов клиентов о магазине, что позволит увеличить количество заказов</td>\n",
       "      <td>1.333</td>\n",
       "    </tr>\n",
       "    <tr>\n",
       "      <th>3</th>\n",
       "      <td>Изменить структура категорий, что увеличит конверсию, т.к. пользователи быстрее найдут нужный товар</td>\n",
       "      <td>1.125</td>\n",
       "    </tr>\n",
       "    <tr>\n",
       "      <th>4</th>\n",
       "      <td>Изменить цвет фона главной страницы, чтобы увеличить вовлеченность пользователей</td>\n",
       "      <td>1.000</td>\n",
       "    </tr>\n",
       "  </tbody>\n",
       "</table>\n",
       "</div>"
      ],
      "text/plain": [
       "                                                                                                     hypothesis  \\\n",
       "8  Запустить акцию, дающую скидку на товар в день рождения                                                        \n",
       "0  Добавить два новых канала привлечения трафика, что позволит привлекать на 30% больше пользователей             \n",
       "7  Добавить форму подписки на все основные страницы, чтобы собрать базу клиентов для email-рассылок               \n",
       "6  Показать на главной странице баннеры с актуальными акциями и распродажами, чтобы увеличить конверсию           \n",
       "2  Добавить блоки рекомендаций товаров на сайт интернет магазина, чтобы повысить конверсию и средний чек заказа   \n",
       "1  Запустить собственную службу доставки, что сократит срок доставки заказов                                      \n",
       "5  Добавить страницу отзывов клиентов о магазине, что позволит увеличить количество заказов                       \n",
       "3  Изменить структура категорий, что увеличит конверсию, т.к. пользователи быстрее найдут нужный товар            \n",
       "4  Изменить цвет фона главной страницы, чтобы увеличить вовлеченность пользователей                               \n",
       "\n",
       "      ICE  \n",
       "8  16.200  \n",
       "0  13.333  \n",
       "7  11.200  \n",
       "6  8.000   \n",
       "2  7.000   \n",
       "1  2.000   \n",
       "5  1.333   \n",
       "3  1.125   \n",
       "4  1.000   "
      ]
     },
     "execution_count": 7,
     "metadata": {},
     "output_type": "execute_result"
    }
   ],
   "source": [
    "hypothesis.sort_values(by='ICE', ascending=False)[['hypothesis', 'ICE']]"
   ]
  },
  {
   "cell_type": "markdown",
   "id": "434219b8",
   "metadata": {},
   "source": [
    "**Самыми перспективными гипотезами, по параметру ICE являются:**\n",
    "<br>\n",
    "    1)Запустить акцию, дающую скидку на товар в день рождения<br>\n",
    "    2)Добавить два новых канала привлечения трафика, что позволит привлекать на 30% больше пользователей<br>\n",
    "    3)Добавить форму подписки на все основные страницы, чтобы собрать базу клиентов для email-рассылок"
   ]
  },
  {
   "cell_type": "markdown",
   "id": "70a6b0c9",
   "metadata": {},
   "source": [
    "**Расчитаем параметр RICE**"
   ]
  },
  {
   "cell_type": "code",
   "execution_count": 8,
   "id": "640b6426",
   "metadata": {},
   "outputs": [],
   "source": [
    "hypothesis['RICE'] = hypothesis['impact']*hypothesis['confidence']*hypothesis['reach']/hypothesis['efforts']"
   ]
  },
  {
   "cell_type": "code",
   "execution_count": 9,
   "id": "87b86829",
   "metadata": {},
   "outputs": [
    {
     "data": {
      "text/html": [
       "<div>\n",
       "<style scoped>\n",
       "    .dataframe tbody tr th:only-of-type {\n",
       "        vertical-align: middle;\n",
       "    }\n",
       "\n",
       "    .dataframe tbody tr th {\n",
       "        vertical-align: top;\n",
       "    }\n",
       "\n",
       "    .dataframe thead th {\n",
       "        text-align: right;\n",
       "    }\n",
       "</style>\n",
       "<table border=\"1\" class=\"dataframe\">\n",
       "  <thead>\n",
       "    <tr style=\"text-align: right;\">\n",
       "      <th></th>\n",
       "      <th>hypothesis</th>\n",
       "      <th>RICE</th>\n",
       "    </tr>\n",
       "  </thead>\n",
       "  <tbody>\n",
       "    <tr>\n",
       "      <th>7</th>\n",
       "      <td>Добавить форму подписки на все основные страницы, чтобы собрать базу клиентов для email-рассылок</td>\n",
       "      <td>112.0</td>\n",
       "    </tr>\n",
       "    <tr>\n",
       "      <th>2</th>\n",
       "      <td>Добавить блоки рекомендаций товаров на сайт интернет магазина, чтобы повысить конверсию и средний чек заказа</td>\n",
       "      <td>56.0</td>\n",
       "    </tr>\n",
       "    <tr>\n",
       "      <th>0</th>\n",
       "      <td>Добавить два новых канала привлечения трафика, что позволит привлекать на 30% больше пользователей</td>\n",
       "      <td>40.0</td>\n",
       "    </tr>\n",
       "    <tr>\n",
       "      <th>6</th>\n",
       "      <td>Показать на главной странице баннеры с актуальными акциями и распродажами, чтобы увеличить конверсию</td>\n",
       "      <td>40.0</td>\n",
       "    </tr>\n",
       "    <tr>\n",
       "      <th>8</th>\n",
       "      <td>Запустить акцию, дающую скидку на товар в день рождения</td>\n",
       "      <td>16.2</td>\n",
       "    </tr>\n",
       "    <tr>\n",
       "      <th>3</th>\n",
       "      <td>Изменить структура категорий, что увеличит конверсию, т.к. пользователи быстрее найдут нужный товар</td>\n",
       "      <td>9.0</td>\n",
       "    </tr>\n",
       "    <tr>\n",
       "      <th>1</th>\n",
       "      <td>Запустить собственную службу доставки, что сократит срок доставки заказов</td>\n",
       "      <td>4.0</td>\n",
       "    </tr>\n",
       "    <tr>\n",
       "      <th>5</th>\n",
       "      <td>Добавить страницу отзывов клиентов о магазине, что позволит увеличить количество заказов</td>\n",
       "      <td>4.0</td>\n",
       "    </tr>\n",
       "    <tr>\n",
       "      <th>4</th>\n",
       "      <td>Изменить цвет фона главной страницы, чтобы увеличить вовлеченность пользователей</td>\n",
       "      <td>3.0</td>\n",
       "    </tr>\n",
       "  </tbody>\n",
       "</table>\n",
       "</div>"
      ],
      "text/plain": [
       "                                                                                                     hypothesis  \\\n",
       "7  Добавить форму подписки на все основные страницы, чтобы собрать базу клиентов для email-рассылок               \n",
       "2  Добавить блоки рекомендаций товаров на сайт интернет магазина, чтобы повысить конверсию и средний чек заказа   \n",
       "0  Добавить два новых канала привлечения трафика, что позволит привлекать на 30% больше пользователей             \n",
       "6  Показать на главной странице баннеры с актуальными акциями и распродажами, чтобы увеличить конверсию           \n",
       "8  Запустить акцию, дающую скидку на товар в день рождения                                                        \n",
       "3  Изменить структура категорий, что увеличит конверсию, т.к. пользователи быстрее найдут нужный товар            \n",
       "1  Запустить собственную службу доставки, что сократит срок доставки заказов                                      \n",
       "5  Добавить страницу отзывов клиентов о магазине, что позволит увеличить количество заказов                       \n",
       "4  Изменить цвет фона главной страницы, чтобы увеличить вовлеченность пользователей                               \n",
       "\n",
       "    RICE  \n",
       "7  112.0  \n",
       "2  56.0   \n",
       "0  40.0   \n",
       "6  40.0   \n",
       "8  16.2   \n",
       "3  9.0    \n",
       "1  4.0    \n",
       "5  4.0    \n",
       "4  3.0    "
      ]
     },
     "execution_count": 9,
     "metadata": {},
     "output_type": "execute_result"
    }
   ],
   "source": [
    "hypothesis.sort_values(by='RICE', ascending=False)[['hypothesis', 'RICE']]"
   ]
  },
  {
   "cell_type": "markdown",
   "id": "0c11c03a",
   "metadata": {},
   "source": [
    "**Самыми перспективными гипотезами, по параметру RICE являются:**\n",
    "<br>\n",
    "    1)Добавить форму подписки на все основные страницы, чтобы собрать базу клиентов для email-рассылок<br>\n",
    "    2)Добавить блоки рекомендаций товаров на сайт интернет магазина, чтобы повысить конверсию и средний чек заказа<br>\n",
    "    3)Добавить два новых канала привлечения трафика, что позволит привлекать на 30% больше пользователей<br>\n",
    "    4)Показать на главной странице баннеры с актуальными акциями и распродажами, чтобы увеличить конверсию"
   ]
  },
  {
   "cell_type": "markdown",
   "id": "b6e51ad9",
   "metadata": {},
   "source": [
    "**При приоритизации гипотез с помощью метода RICE, используется параметр reach, который влияет на результат, поэтому есть разница в топах гипотез, составленных по фреймворкам ICE и RICE**"
   ]
  },
  {
   "cell_type": "markdown",
   "id": "3ef98ff5",
   "metadata": {},
   "source": [
    "## Часть 2. Анализ A/B-теста"
   ]
  },
  {
   "cell_type": "code",
   "execution_count": 10,
   "id": "7e1ad22b",
   "metadata": {},
   "outputs": [],
   "source": [
    "orders = pd.read_csv('/datasets/orders.csv')\n",
    "visitors = pd.read_csv('/datasets/visitors.csv')"
   ]
  },
  {
   "cell_type": "code",
   "execution_count": 11,
   "id": "e5485db2",
   "metadata": {},
   "outputs": [
    {
     "data": {
      "text/html": [
       "<div>\n",
       "<style scoped>\n",
       "    .dataframe tbody tr th:only-of-type {\n",
       "        vertical-align: middle;\n",
       "    }\n",
       "\n",
       "    .dataframe tbody tr th {\n",
       "        vertical-align: top;\n",
       "    }\n",
       "\n",
       "    .dataframe thead th {\n",
       "        text-align: right;\n",
       "    }\n",
       "</style>\n",
       "<table border=\"1\" class=\"dataframe\">\n",
       "  <thead>\n",
       "    <tr style=\"text-align: right;\">\n",
       "      <th></th>\n",
       "      <th>transactionId</th>\n",
       "      <th>visitorId</th>\n",
       "      <th>date</th>\n",
       "      <th>revenue</th>\n",
       "      <th>group</th>\n",
       "    </tr>\n",
       "  </thead>\n",
       "  <tbody>\n",
       "    <tr>\n",
       "      <th>0</th>\n",
       "      <td>3667963787</td>\n",
       "      <td>3312258926</td>\n",
       "      <td>2019-08-15</td>\n",
       "      <td>1650</td>\n",
       "      <td>B</td>\n",
       "    </tr>\n",
       "    <tr>\n",
       "      <th>1</th>\n",
       "      <td>2804400009</td>\n",
       "      <td>3642806036</td>\n",
       "      <td>2019-08-15</td>\n",
       "      <td>730</td>\n",
       "      <td>B</td>\n",
       "    </tr>\n",
       "    <tr>\n",
       "      <th>2</th>\n",
       "      <td>2961555356</td>\n",
       "      <td>4069496402</td>\n",
       "      <td>2019-08-15</td>\n",
       "      <td>400</td>\n",
       "      <td>A</td>\n",
       "    </tr>\n",
       "    <tr>\n",
       "      <th>3</th>\n",
       "      <td>3797467345</td>\n",
       "      <td>1196621759</td>\n",
       "      <td>2019-08-15</td>\n",
       "      <td>9759</td>\n",
       "      <td>B</td>\n",
       "    </tr>\n",
       "    <tr>\n",
       "      <th>4</th>\n",
       "      <td>2282983706</td>\n",
       "      <td>2322279887</td>\n",
       "      <td>2019-08-15</td>\n",
       "      <td>2308</td>\n",
       "      <td>B</td>\n",
       "    </tr>\n",
       "  </tbody>\n",
       "</table>\n",
       "</div>"
      ],
      "text/plain": [
       "   transactionId   visitorId        date  revenue group\n",
       "0  3667963787     3312258926  2019-08-15  1650     B   \n",
       "1  2804400009     3642806036  2019-08-15  730      B   \n",
       "2  2961555356     4069496402  2019-08-15  400      A   \n",
       "3  3797467345     1196621759  2019-08-15  9759     B   \n",
       "4  2282983706     2322279887  2019-08-15  2308     B   "
      ]
     },
     "execution_count": 11,
     "metadata": {},
     "output_type": "execute_result"
    }
   ],
   "source": [
    "orders.head()"
   ]
  },
  {
   "cell_type": "code",
   "execution_count": 12,
   "id": "b5b977cf",
   "metadata": {},
   "outputs": [],
   "source": [
    "orders.rename(columns = {'transactionId':'transaction_id', 'visitorId':'visitor_id'}, inplace = True )"
   ]
  },
  {
   "cell_type": "code",
   "execution_count": 13,
   "id": "024322d9",
   "metadata": {},
   "outputs": [
    {
     "name": "stdout",
     "output_type": "stream",
     "text": [
      "<class 'pandas.core.frame.DataFrame'>\n",
      "RangeIndex: 1197 entries, 0 to 1196\n",
      "Data columns (total 5 columns):\n",
      " #   Column          Non-Null Count  Dtype \n",
      "---  ------          --------------  ----- \n",
      " 0   transaction_id  1197 non-null   int64 \n",
      " 1   visitor_id      1197 non-null   int64 \n",
      " 2   date            1197 non-null   object\n",
      " 3   revenue         1197 non-null   int64 \n",
      " 4   group           1197 non-null   object\n",
      "dtypes: int64(3), object(2)\n",
      "memory usage: 46.9+ KB\n"
     ]
    }
   ],
   "source": [
    "orders.info()"
   ]
  },
  {
   "cell_type": "code",
   "execution_count": 14,
   "id": "a96a57b3",
   "metadata": {},
   "outputs": [
    {
     "data": {
      "text/html": [
       "<div>\n",
       "<style scoped>\n",
       "    .dataframe tbody tr th:only-of-type {\n",
       "        vertical-align: middle;\n",
       "    }\n",
       "\n",
       "    .dataframe tbody tr th {\n",
       "        vertical-align: top;\n",
       "    }\n",
       "\n",
       "    .dataframe thead th {\n",
       "        text-align: right;\n",
       "    }\n",
       "</style>\n",
       "<table border=\"1\" class=\"dataframe\">\n",
       "  <thead>\n",
       "    <tr style=\"text-align: right;\">\n",
       "      <th></th>\n",
       "      <th>date</th>\n",
       "      <th>group</th>\n",
       "      <th>visitors</th>\n",
       "    </tr>\n",
       "  </thead>\n",
       "  <tbody>\n",
       "    <tr>\n",
       "      <th>0</th>\n",
       "      <td>2019-08-01</td>\n",
       "      <td>A</td>\n",
       "      <td>719</td>\n",
       "    </tr>\n",
       "    <tr>\n",
       "      <th>1</th>\n",
       "      <td>2019-08-02</td>\n",
       "      <td>A</td>\n",
       "      <td>619</td>\n",
       "    </tr>\n",
       "    <tr>\n",
       "      <th>2</th>\n",
       "      <td>2019-08-03</td>\n",
       "      <td>A</td>\n",
       "      <td>507</td>\n",
       "    </tr>\n",
       "    <tr>\n",
       "      <th>3</th>\n",
       "      <td>2019-08-04</td>\n",
       "      <td>A</td>\n",
       "      <td>717</td>\n",
       "    </tr>\n",
       "    <tr>\n",
       "      <th>4</th>\n",
       "      <td>2019-08-05</td>\n",
       "      <td>A</td>\n",
       "      <td>756</td>\n",
       "    </tr>\n",
       "  </tbody>\n",
       "</table>\n",
       "</div>"
      ],
      "text/plain": [
       "         date group  visitors\n",
       "0  2019-08-01  A     719     \n",
       "1  2019-08-02  A     619     \n",
       "2  2019-08-03  A     507     \n",
       "3  2019-08-04  A     717     \n",
       "4  2019-08-05  A     756     "
      ]
     },
     "execution_count": 14,
     "metadata": {},
     "output_type": "execute_result"
    }
   ],
   "source": [
    "visitors.head()"
   ]
  },
  {
   "cell_type": "code",
   "execution_count": 15,
   "id": "f045ceb4",
   "metadata": {},
   "outputs": [
    {
     "name": "stdout",
     "output_type": "stream",
     "text": [
      "<class 'pandas.core.frame.DataFrame'>\n",
      "RangeIndex: 62 entries, 0 to 61\n",
      "Data columns (total 3 columns):\n",
      " #   Column    Non-Null Count  Dtype \n",
      "---  ------    --------------  ----- \n",
      " 0   date      62 non-null     object\n",
      " 1   group     62 non-null     object\n",
      " 2   visitors  62 non-null     int64 \n",
      "dtypes: int64(1), object(2)\n",
      "memory usage: 1.6+ KB\n"
     ]
    }
   ],
   "source": [
    "visitors.info()"
   ]
  },
  {
   "cell_type": "code",
   "execution_count": 16,
   "id": "8897300f",
   "metadata": {},
   "outputs": [
    {
     "data": {
      "text/plain": [
       "0"
      ]
     },
     "execution_count": 16,
     "metadata": {},
     "output_type": "execute_result"
    }
   ],
   "source": [
    "orders.duplicated().sum()"
   ]
  },
  {
   "cell_type": "code",
   "execution_count": 17,
   "id": "8585910b",
   "metadata": {},
   "outputs": [
    {
     "data": {
      "text/plain": [
       "0"
      ]
     },
     "execution_count": 17,
     "metadata": {},
     "output_type": "execute_result"
    }
   ],
   "source": [
    "visitors.duplicated().sum()"
   ]
  },
  {
   "cell_type": "code",
   "execution_count": 18,
   "id": "c0ef8486",
   "metadata": {
    "scrolled": true
   },
   "outputs": [],
   "source": [
    "orders['date'] = pd.to_datetime(orders['date'])\n",
    "visitors['date'] = pd.to_datetime(visitors['date'])"
   ]
  },
  {
   "cell_type": "code",
   "execution_count": 19,
   "id": "fcadd486",
   "metadata": {
    "scrolled": true
   },
   "outputs": [
    {
     "name": "stdout",
     "output_type": "stream",
     "text": [
      "<class 'pandas.core.frame.DataFrame'>\n",
      "RangeIndex: 1197 entries, 0 to 1196\n",
      "Data columns (total 5 columns):\n",
      " #   Column          Non-Null Count  Dtype         \n",
      "---  ------          --------------  -----         \n",
      " 0   transaction_id  1197 non-null   int64         \n",
      " 1   visitor_id      1197 non-null   int64         \n",
      " 2   date            1197 non-null   datetime64[ns]\n",
      " 3   revenue         1197 non-null   int64         \n",
      " 4   group           1197 non-null   object        \n",
      "dtypes: datetime64[ns](1), int64(3), object(1)\n",
      "memory usage: 46.9+ KB\n"
     ]
    }
   ],
   "source": [
    "orders.info()"
   ]
  },
  {
   "cell_type": "code",
   "execution_count": 20,
   "id": "364fba66",
   "metadata": {
    "scrolled": true
   },
   "outputs": [
    {
     "name": "stdout",
     "output_type": "stream",
     "text": [
      "<class 'pandas.core.frame.DataFrame'>\n",
      "RangeIndex: 62 entries, 0 to 61\n",
      "Data columns (total 3 columns):\n",
      " #   Column    Non-Null Count  Dtype         \n",
      "---  ------    --------------  -----         \n",
      " 0   date      62 non-null     datetime64[ns]\n",
      " 1   group     62 non-null     object        \n",
      " 2   visitors  62 non-null     int64         \n",
      "dtypes: datetime64[ns](1), int64(1), object(1)\n",
      "memory usage: 1.6+ KB\n"
     ]
    }
   ],
   "source": [
    "visitors.info()"
   ]
  },
  {
   "cell_type": "markdown",
   "id": "d165fbbb",
   "metadata": {},
   "source": [
    "**Проверим, есть ли пользователи, оказавшиеся в обеих группах одновременно.**"
   ]
  },
  {
   "cell_type": "code",
   "execution_count": 21,
   "id": "9350a820",
   "metadata": {},
   "outputs": [
    {
     "data": {
      "text/plain": [
       "1031"
      ]
     },
     "execution_count": 21,
     "metadata": {},
     "output_type": "execute_result"
    }
   ],
   "source": [
    "orders['visitor_id'].nunique()"
   ]
  },
  {
   "cell_type": "code",
   "execution_count": 22,
   "id": "354d25ca",
   "metadata": {
    "scrolled": true
   },
   "outputs": [
    {
     "data": {
      "text/plain": [
       "visitor_id    1089\n",
       "dtype: int64"
      ]
     },
     "execution_count": 22,
     "metadata": {},
     "output_type": "execute_result"
    }
   ],
   "source": [
    "orders.pivot_table(index='group', values='visitor_id', aggfunc='nunique').sum()"
   ]
  },
  {
   "cell_type": "markdown",
   "id": "7f86ec6e",
   "metadata": {},
   "source": [
    "**Количество уникальных пользователей во всей таблице и сумма уникальных пользователей в каждой группе отличаются, значит у нас есть пользователи, попавшие в обе группы, удалим их.**"
   ]
  },
  {
   "cell_type": "code",
   "execution_count": 23,
   "id": "7596a2df",
   "metadata": {},
   "outputs": [],
   "source": [
    "for v_id in list(orders.query('group==\"B\"')['visitor_id']):\n",
    "    if v_id in list(orders.query('group==\"A\"')['visitor_id']):\n",
    "        orders = orders.query('visitor_id!=@v_id')   "
   ]
  },
  {
   "cell_type": "code",
   "execution_count": 24,
   "id": "b584daa8",
   "metadata": {},
   "outputs": [
    {
     "data": {
      "text/plain": [
       "973"
      ]
     },
     "execution_count": 24,
     "metadata": {},
     "output_type": "execute_result"
    }
   ],
   "source": [
    "orders.groupby('group')['visitor_id'].nunique().sum()"
   ]
  },
  {
   "cell_type": "code",
   "execution_count": 25,
   "id": "752140e9",
   "metadata": {},
   "outputs": [
    {
     "data": {
      "text/plain": [
       "973"
      ]
     },
     "execution_count": 25,
     "metadata": {},
     "output_type": "execute_result"
    }
   ],
   "source": [
    "orders['visitor_id'].nunique()"
   ]
  },
  {
   "cell_type": "code",
   "execution_count": 26,
   "id": "a21351d7",
   "metadata": {},
   "outputs": [
    {
     "name": "stdout",
     "output_type": "stream",
     "text": [
      "<class 'pandas.core.frame.DataFrame'>\n",
      "Int64Index: 1016 entries, 0 to 1196\n",
      "Data columns (total 5 columns):\n",
      " #   Column          Non-Null Count  Dtype         \n",
      "---  ------          --------------  -----         \n",
      " 0   transaction_id  1016 non-null   int64         \n",
      " 1   visitor_id      1016 non-null   int64         \n",
      " 2   date            1016 non-null   datetime64[ns]\n",
      " 3   revenue         1016 non-null   int64         \n",
      " 4   group           1016 non-null   object        \n",
      "dtypes: datetime64[ns](1), int64(3), object(1)\n",
      "memory usage: 47.6+ KB\n"
     ]
    }
   ],
   "source": [
    "orders.info()"
   ]
  },
  {
   "cell_type": "code",
   "execution_count": 27,
   "id": "9a729c1e",
   "metadata": {},
   "outputs": [
    {
     "data": {
      "text/plain": [
       "31"
      ]
     },
     "execution_count": 27,
     "metadata": {},
     "output_type": "execute_result"
    }
   ],
   "source": [
    "orders['date'].nunique()"
   ]
  },
  {
   "cell_type": "markdown",
   "id": "44c2f51c",
   "metadata": {},
   "source": [
    "**По итогу предобработки данных в таблицах не было обнаружено очевидных дубликатов, названия столбцов были изменены в соответствии с \"хорошим стилем\", были изменены типы данных в столбцах с датами, также были удалены данные по пользователям, оказавшихся в обеих сравниваемых группах.**"
   ]
  },
  {
   "cell_type": "markdown",
   "id": "bb172620",
   "metadata": {},
   "source": [
    "### Построим график кумулятивной выручки по дням и группам. "
   ]
  },
  {
   "cell_type": "code",
   "execution_count": 28,
   "id": "b785a2d0",
   "metadata": {},
   "outputs": [],
   "source": [
    "#Создадим датафреймы с кумулятивным количеством заказов и кумулятивной выручкой по дням в группах А и B\n",
    "datesGroups = orders[['date', 'group']].drop_duplicates()\n",
    "\n",
    "ordersAggregated = datesGroups.apply(\n",
    "    lambda x: orders[\n",
    "        np.logical_and(\n",
    "            orders['date'] <= x['date'], orders['group'] == x['group']\n",
    "        )\n",
    "    ].agg(\n",
    "        {\n",
    "            'date': 'max',\n",
    "            'group': 'max',\n",
    "            'transaction_id': 'nunique',\n",
    "            'visitor_id': 'nunique',\n",
    "            'revenue': 'sum',\n",
    "        }\n",
    "    ),\n",
    "    axis=1,\n",
    ").sort_values(by=['date', 'group'])\n",
    "\n",
    "visitorsAggregated = datesGroups.apply(\n",
    "    lambda x: visitors[\n",
    "        np.logical_and(\n",
    "            visitors['date'] <= x['date'], visitors['group'] == x['group']\n",
    "        )\n",
    "    ].agg({'date': 'max', 'group': 'max', 'visitors': 'sum'}),\n",
    "    axis=1,\n",
    ").sort_values(by=['date', 'group'])\n",
    "\n",
    "cumulativeData = ordersAggregated.merge(\n",
    "    visitorsAggregated, left_on=['date', 'group'], right_on=['date', 'group']\n",
    ")\n",
    "cumulativeData.columns = [\n",
    "    'date',\n",
    "    'group',\n",
    "    'orders',\n",
    "    'buyers',\n",
    "    'revenue',\n",
    "    'visitors',\n",
    "]\n",
    "\n",
    "cumulativeRevenueA = cumulativeData[cumulativeData['group']=='A'][['date','revenue', 'orders']]\n",
    "                                                                  \n",
    "cumulativeRevenueB = cumulativeData[cumulativeData['group']=='B'][['date','revenue', 'orders']]"
   ]
  },
  {
   "cell_type": "code",
   "execution_count": 29,
   "id": "abc27684",
   "metadata": {},
   "outputs": [
    {
     "data": {
      "image/png": "[encoded data removed]",
      "text/plain": [
       "<Figure size 864x504 with 1 Axes>"
      ]
     },
     "metadata": {
      "needs_background": "light"
     },
     "output_type": "display_data"
    }
   ],
   "source": [
    "plt.figure(figsize=(12,7))\n",
    "\n",
    "#Строим график выручки группы А\n",
    "plt.plot(cumulativeRevenueA['date'], cumulativeRevenueA['revenue'], label='A')\n",
    "#Строим график выручки группы B\n",
    "plt.plot(cumulativeRevenueB['date'], cumulativeRevenueB['revenue'], label='B')\n",
    "plt.title('Кумулятивная выручка по группам')\n",
    "plt.legend(title='Группа') \n",
    "plt.grid()\n",
    "plt.xlabel('Дата'), plt.ylabel('Выручка')\n",
    "plt.xticks(rotation = 90);"
   ]
  },
  {
   "cell_type": "markdown",
   "id": "07bc748a",
   "metadata": {},
   "source": [
    "**Выручка группы А практически равномерно увеличивается на протяжении всего промежутка времени, а выручка группы B в одном моменте резко выросла и увеличила свой отрыв от группы A, это может свидетельствовать об очень больших заказах.**"
   ]
  },
  {
   "cell_type": "markdown",
   "id": "48ec272a",
   "metadata": {},
   "source": [
    "### Построим график график кумулятивного среднего чека по группам. "
   ]
  },
  {
   "cell_type": "code",
   "execution_count": 30,
   "id": "213b226e",
   "metadata": {},
   "outputs": [
    {
     "data": {
      "image/png": "[encoded data removed]",
      "text/plain": [
       "<Figure size 864x504 with 1 Axes>"
      ]
     },
     "metadata": {
      "needs_background": "light"
     },
     "output_type": "display_data"
    }
   ],
   "source": [
    "plt.figure(figsize=(12,7))\n",
    "plt.plot(cumulativeRevenueA['date'], cumulativeRevenueA['revenue']/cumulativeRevenueA['orders'], label='A')\n",
    "plt.plot(cumulativeRevenueB['date'], cumulativeRevenueB['revenue']/cumulativeRevenueB['orders'], label='B')\n",
    "plt.title('Кумулятивный средний чек по группам')\n",
    "plt.legend(title='Группа') \n",
    "plt.grid()\n",
    "plt.xlabel('Дата'), plt.ylabel('Средний чек')\n",
    "plt.xticks(rotation = 90);"
   ]
  },
  {
   "cell_type": "markdown",
   "id": "53e35af8",
   "metadata": {},
   "source": [
    "**Средний чек по группам сильно колеблется, для группы A во второй половине эксперимента он стал относительно стабильным.** "
   ]
  },
  {
   "cell_type": "markdown",
   "id": "96adc37d",
   "metadata": {},
   "source": [
    "### Построим график относительного изменения кумулятивного среднего чека группы B к группе A. "
   ]
  },
  {
   "cell_type": "code",
   "execution_count": 31,
   "id": "da197aa4",
   "metadata": {},
   "outputs": [],
   "source": [
    "mergedCumulativeRevenue = cumulativeRevenueA.merge(cumulativeRevenueB, left_on='date', right_on='date', how='left', suffixes=['A', 'B'])"
   ]
  },
  {
   "cell_type": "code",
   "execution_count": 32,
   "id": "454c087f",
   "metadata": {},
   "outputs": [
    {
     "data": {
      "image/png": "[encoded data removed]",
      "text/plain": [
       "<Figure size 864x504 with 1 Axes>"
      ]
     },
     "metadata": {
      "needs_background": "light"
     },
     "output_type": "display_data"
    }
   ],
   "source": [
    "plt.figure(figsize=(12,7))\n",
    "plt.plot(mergedCumulativeRevenue['date'], (mergedCumulativeRevenue['revenueB']/mergedCumulativeRevenue['ordersB'])/(mergedCumulativeRevenue['revenueA']/mergedCumulativeRevenue['ordersA'])-1)\n",
    "plt.axhline(y=0, color='black', linestyle='--') \n",
    "plt.title('Относительное изменение кумулятивного среднего чека группы B к группе A') \n",
    "plt.grid()\n",
    "plt.xlabel('Дата'), plt.ylabel('Отношение')\n",
    "plt.xticks(rotation = 90);"
   ]
  },
  {
   "cell_type": "markdown",
   "id": "9765f424",
   "metadata": {},
   "source": [
    "**График сильно скачет, в некоторые даты отношение средних чеков резко меняется, что говорит о выбросах.**"
   ]
  },
  {
   "cell_type": "markdown",
   "id": "fcbac3d5",
   "metadata": {},
   "source": [
    "### Построим график кумулятивного среднего количества заказов на посетителя по группам."
   ]
  },
  {
   "cell_type": "code",
   "execution_count": 33,
   "id": "80d219d8",
   "metadata": {},
   "outputs": [
    {
     "data": {
      "image/png": "[encoded data removed]",
      "text/plain": [
       "<Figure size 864x504 with 1 Axes>"
      ]
     },
     "metadata": {
      "needs_background": "light"
     },
     "output_type": "display_data"
    }
   ],
   "source": [
    "cumulativeData['conversion'] = cumulativeData['orders']/cumulativeData['visitors']\n",
    "cumulativeDataA = cumulativeData[cumulativeData['group']=='A']\n",
    "cumulativeDataB = cumulativeData[cumulativeData['group']=='B']\n",
    "\n",
    "plt.figure(figsize=(12,7))\n",
    "plt.plot(cumulativeDataA['date'], cumulativeDataA['conversion'], label='A')\n",
    "plt.plot(cumulativeDataB['date'], cumulativeDataB['conversion'], label='B')\n",
    "plt.legend(title='Группа')\n",
    "plt.title('Кумулятивное среднее количество заказов на посетителя по группам') \n",
    "plt.grid()\n",
    "plt.xlabel('Дата'), plt.ylabel('Среднее кол-во заказов')\n",
    "plt.xticks(rotation = 90);\n",
    "plt.axis(ymin = 0.02, ymax = 0.045);"
   ]
  },
  {
   "cell_type": "markdown",
   "id": "f902f2ff",
   "metadata": {},
   "source": [
    "**В начале эксперимента среднее количество заказов на пользователя в группе A выше, чем в группе B, но достаточно быстро этот показатель в группе B вырывается вверх и колеблется в районе 3%, среднее количество заказов в группе A находится в районе 2.5%, разница меджу группами незначительная.**"
   ]
  },
  {
   "cell_type": "markdown",
   "id": "2ea45544",
   "metadata": {},
   "source": [
    "### Построим график относительного изменения кумулятивного среднего количества заказов на посетителя группы B к группе A. "
   ]
  },
  {
   "cell_type": "code",
   "execution_count": 34,
   "id": "373e844f",
   "metadata": {},
   "outputs": [
    {
     "data": {
      "image/png": "[encoded data removed]",
      "text/plain": [
       "<Figure size 864x504 with 1 Axes>"
      ]
     },
     "metadata": {
      "needs_background": "light"
     },
     "output_type": "display_data"
    }
   ],
   "source": [
    "mergedCumulativeConversions = cumulativeDataA[['date','conversion']].merge(cumulativeDataB[['date','conversion']], left_on='date', right_on='date', how='left', suffixes=['A', 'B'])\n",
    "\n",
    "plt.figure(figsize=(12,7))\n",
    "plt.plot(mergedCumulativeConversions['date'], mergedCumulativeConversions['conversionB']/mergedCumulativeConversions['conversionA']-1, label=\"Относительный прирост среднего количества заказов на посетителя группы B относительно группы A\")\n",
    "plt.legend()\n",
    "plt.title('Относительное изменение кумулятивного среднего количества заказов на посетителя группы B к группе A') \n",
    "plt.grid()\n",
    "plt.xlabel('Дата'), plt.ylabel('Отношение')\n",
    "plt.xticks(rotation = 90);\n",
    "plt.axis(ymin = 0.02, ymax = 0.045);\n",
    "plt.axhline(y=0, color='black', linestyle='--')\n",
    "plt.axis(ymin = -0.3, ymax = 0.3);"
   ]
  },
  {
   "cell_type": "markdown",
   "id": "6cc8ef32",
   "metadata": {},
   "source": [
    "**В начале группа B была хуже группы A чуть более, чем на 10 процентов, но практически сразу вырвалась вперед, хоть и среднее количество заказов на посетителя определенное время падало, но в конце параметр снова начал расти, в среднем прирост колеблется между 10 и 20%.**"
   ]
  },
  {
   "cell_type": "markdown",
   "id": "d3a32b7d",
   "metadata": {},
   "source": [
    "### Построим точечный график количества заказов по пользователям. "
   ]
  },
  {
   "cell_type": "code",
   "execution_count": 35,
   "id": "0d48c60e",
   "metadata": {},
   "outputs": [
    {
     "data": {
      "image/png": "[encoded data removed]",
      "text/plain": [
       "<Figure size 864x504 with 1 Axes>"
      ]
     },
     "metadata": {
      "needs_background": "light"
     },
     "output_type": "display_data"
    }
   ],
   "source": [
    "ordersByUsers = (\n",
    "    orders.groupby('visitor_id', as_index=False)\n",
    "    .agg({'transaction_id': 'nunique'})\n",
    ")\n",
    "ordersByUsers.columns = ['visitor_id', 'orders']\n",
    "\n",
    "x_values = pd.Series(range(0, len(ordersByUsers)))\n",
    "\n",
    "plt.figure(figsize=(12,7))\n",
    "plt.scatter(x_values, ordersByUsers['orders']) \n",
    "plt.title('Количества заказов по пользователям') \n",
    "plt.xlabel('Пользователь'), plt.ylabel('Кол-во заказов');"
   ]
  },
  {
   "cell_type": "markdown",
   "id": "31f28c29",
   "metadata": {},
   "source": [
    "**Большинство пользователей с одним заказом, пользователей с тремя и более заказами совсем мало, они скорее всего являются выбросами, пользователей с двумя заказами больше, но они также могут быть аномалиями.**"
   ]
  },
  {
   "cell_type": "markdown",
   "id": "19579dd6",
   "metadata": {},
   "source": [
    "### Посчитаем 95-й и 99-й перцентили количества заказов на пользователя"
   ]
  },
  {
   "cell_type": "code",
   "execution_count": 36,
   "id": "1a375a72",
   "metadata": {},
   "outputs": [
    {
     "data": {
      "text/plain": [
       "array([1., 1., 2.])"
      ]
     },
     "execution_count": 36,
     "metadata": {},
     "output_type": "execute_result"
    }
   ],
   "source": [
    "np.percentile(ordersByUsers['orders'], [90, 95, 99])"
   ]
  },
  {
   "cell_type": "markdown",
   "id": "d42706a3",
   "metadata": {},
   "source": [
    "**10% пользователей заказали более 1 раза, 5% заказали также более одного раз. Будем считать, что пользователи, заказавшие товар более двух раз, являются выбросами**"
   ]
  },
  {
   "cell_type": "markdown",
   "id": "bae30302",
   "metadata": {},
   "source": [
    "### Построим точечный график стоимостей заказов. "
   ]
  },
  {
   "cell_type": "code",
   "execution_count": 37,
   "id": "936b3875",
   "metadata": {
    "scrolled": false
   },
   "outputs": [
    {
     "data": {
      "image/png": "[encoded data removed]",
      "text/plain": [
       "<Figure size 864x504 with 1 Axes>"
      ]
     },
     "metadata": {
      "needs_background": "light"
     },
     "output_type": "display_data"
    }
   ],
   "source": [
    "x_values = pd.Series(range(0, len(orders['revenue'])))\n",
    "plt.figure(figsize=(12,7))\n",
    "plt.scatter(x_values, orders['revenue']) \n",
    "plt.title('Суммы заказов') \n",
    "plt.xlabel('Заказ'), plt.ylabel('Сумма заказа');"
   ]
  },
  {
   "cell_type": "markdown",
   "id": "f1b778dc",
   "metadata": {},
   "source": [
    "**По графику не понятно, какие заказы считать выбросами, изменим мастаб по оси y.**"
   ]
  },
  {
   "cell_type": "code",
   "execution_count": 38,
   "id": "113328d8",
   "metadata": {},
   "outputs": [
    {
     "data": {
      "image/png": "[encoded data removed]",
      "text/plain": [
       "<Figure size 864x504 with 1 Axes>"
      ]
     },
     "metadata": {
      "needs_background": "light"
     },
     "output_type": "display_data"
    }
   ],
   "source": [
    "x_values = pd.Series(range(0, len(orders['revenue'])))\n",
    "plt.figure(figsize=(12,7))\n",
    "plt.scatter(x_values, orders['revenue']) \n",
    "plt.title('Суммы заказов') \n",
    "plt.xlabel('Заказ'), plt.ylabel('Сумма заказа');\n",
    "plt.axis(ymin = 0, ymax = 100000);"
   ]
  },
  {
   "cell_type": "markdown",
   "id": "1cebdc04",
   "metadata": {},
   "source": [
    "**Заказов, свыше 40000 не так много, скорее всего это выбросы.**"
   ]
  },
  {
   "cell_type": "markdown",
   "id": "4fb4caee",
   "metadata": {},
   "source": [
    "### Посчитаем 95-й и 99-й перцентили стоимости заказов"
   ]
  },
  {
   "cell_type": "code",
   "execution_count": 39,
   "id": "6e451886",
   "metadata": {},
   "outputs": [
    {
     "data": {
      "text/plain": [
       "array([17990., 26785., 53904.])"
      ]
     },
     "execution_count": 39,
     "metadata": {},
     "output_type": "execute_result"
    }
   ],
   "source": [
    "np.percentile(orders['revenue'], [90, 95, 99])"
   ]
  },
  {
   "cell_type": "markdown",
   "id": "43173f5c",
   "metadata": {},
   "source": [
    "**10% пользователей совершали заказы дороже 17990, 5% - дороже 26785. Примем 30000 за верхнюю границу и заказы выше этой суммы будем считать за выбросы.**  "
   ]
  },
  {
   "cell_type": "markdown",
   "id": "adcf652f",
   "metadata": {},
   "source": [
    "### Посчитаем статистическую значимость различий в среднем количестве заказов на посетителя между группами по «сырым» данным."
   ]
  },
  {
   "cell_type": "code",
   "execution_count": 40,
   "id": "13c718c0",
   "metadata": {},
   "outputs": [],
   "source": [
    "visitorsADaily = visitors[visitors['group'] == 'A'][['date', 'visitors']]\n",
    "visitorsADaily.columns = ['date', 'visitorsPerDateA']\n",
    "\n",
    "visitorsACummulative = visitorsADaily.apply(\n",
    "    lambda x: visitorsADaily[visitorsADaily['date'] <= x['date']].agg(\n",
    "        {'date': 'max', 'visitorsPerDateA': 'sum'}\n",
    "    ),\n",
    "    axis=1,\n",
    ")\n",
    "visitorsACummulative.columns = ['date', 'visitorsCummulativeA']\n",
    "\n",
    "visitorsBDaily = visitors[visitors['group'] == 'B'][['date', 'visitors']]\n",
    "visitorsBDaily.columns = ['date', 'visitorsPerDateB']\n",
    "\n",
    "visitorsBCummulative = visitorsBDaily.apply(\n",
    "    lambda x: visitorsBDaily[visitorsBDaily['date'] <= x['date']].agg(\n",
    "        {'date': 'max', 'visitorsPerDateB': 'sum'}\n",
    "    ),\n",
    "    axis=1,\n",
    ")\n",
    "visitorsBCummulative.columns = ['date', 'visitorsCummulativeB']\n",
    "\n",
    "ordersADaily = (\n",
    "    orders[orders['group'] == 'A'][['date', 'transaction_id', 'visitor_id', 'revenue']]\n",
    "    .groupby('date', as_index=False)\n",
    "    .agg({'transaction_id': pd.Series.nunique, 'revenue': 'sum'})\n",
    ")\n",
    "ordersADaily.columns = ['date', 'ordersPerDateA', 'revenuePerDateA']\n",
    "\n",
    "ordersACummulative = ordersADaily.apply(\n",
    "    lambda x: ordersADaily[ordersADaily['date'] <= x['date']].agg(\n",
    "        {'date': 'max', 'ordersPerDateA': 'sum', 'revenuePerDateA': 'sum'}\n",
    "    ),\n",
    "    axis=1,\n",
    ").sort_values(by=['date'])\n",
    "ordersACummulative.columns = [\n",
    "    'date',\n",
    "    'ordersCummulativeA',\n",
    "    'revenueCummulativeA',\n",
    "]\n",
    "\n",
    "ordersBDaily = (\n",
    "    orders[orders['group'] == 'B'][['date', 'transaction_id', 'visitor_id', 'revenue']]\n",
    "    .groupby('date', as_index=False)\n",
    "    .agg({'transaction_id': pd.Series.nunique, 'revenue': 'sum'})\n",
    ")\n",
    "ordersBDaily.columns = ['date', 'ordersPerDateB', 'revenuePerDateB']\n",
    "\n",
    "ordersBCummulative = ordersBDaily.apply(\n",
    "    lambda x: ordersBDaily[ordersBDaily['date'] <= x['date']].agg(\n",
    "        {'date': 'max', 'ordersPerDateB': 'sum', 'revenuePerDateB': 'sum'}\n",
    "    ),\n",
    "    axis=1,\n",
    ").sort_values(by=['date'])\n",
    "ordersBCummulative.columns = [\n",
    "    'date',\n",
    "    'ordersCummulativeB',\n",
    "    'revenueCummulativeB',\n",
    "]\n",
    "\n",
    "data = (\n",
    "    ordersADaily.merge(\n",
    "        ordersBDaily, left_on='date', right_on='date', how='left'\n",
    "    )\n",
    "    .merge(ordersACummulative, left_on='date', right_on='date', how='left')\n",
    "    .merge(ordersBCummulative, left_on='date', right_on='date', how='left')\n",
    "    .merge(visitorsADaily, left_on='date', right_on='date', how='left')\n",
    "    .merge(visitorsBDaily, left_on='date', right_on='date', how='left')\n",
    "    .merge(visitorsACummulative, left_on='date', right_on='date', how='left')\n",
    "    .merge(visitorsBCummulative, left_on='date', right_on='date', how='left')\n",
    ")"
   ]
  },
  {
   "cell_type": "markdown",
   "id": "1f5b308a",
   "metadata": {},
   "source": [
    "Сформулируем гипотезы:<br>\n",
    "    Нулевая: различий в среднем количестве заказов между группами нет. <br>\n",
    "    Альтернативная: различия в среднем между группами есть.<br>\n",
    "    \n",
    "Примем за критический уровень статистической значимости alpha = 0.05.<br>\n",
    "\n",
    "Для проверки гипотез будем использовать критерий Манна-Уитни."
   ]
  },
  {
   "cell_type": "code",
   "execution_count": 41,
   "id": "beb87263",
   "metadata": {},
   "outputs": [
    {
     "name": "stdout",
     "output_type": "stream",
     "text": [
      "P-value: 0.011\n",
      "Относительный прирост: 0.160\n"
     ]
    }
   ],
   "source": [
    "ordersByUsersA = (\n",
    "    orders[orders['group'] == 'A']\n",
    "    .groupby('visitor_id', as_index=False)\n",
    "    .agg({'transaction_id': pd.Series.nunique})\n",
    ")\n",
    "ordersByUsersA.columns = ['visitor_id', 'orders']\n",
    "\n",
    "ordersByUsersB = (\n",
    "    orders[orders['group'] == 'B']\n",
    "    .groupby('visitor_id', as_index=False)\n",
    "    .agg({'transaction_id': pd.Series.nunique})\n",
    ")\n",
    "ordersByUsersB.columns = ['visitor_id', 'orders'] \n",
    "\n",
    "sampleA = pd.concat(\n",
    "    [\n",
    "        ordersByUsersA['orders'],\n",
    "        pd.Series(\n",
    "            0,\n",
    "            index=np.arange(\n",
    "                data['visitorsPerDateA'].sum() - len(ordersByUsersA['orders'])\n",
    "            ),\n",
    "            name='orders',\n",
    "        ),\n",
    "    ],\n",
    "    axis=0,\n",
    ")\n",
    "\n",
    "sampleB = pd.concat(\n",
    "    [\n",
    "        ordersByUsersB['orders'],\n",
    "        pd.Series(\n",
    "            0,\n",
    "            index=np.arange(\n",
    "                data['visitorsPerDateB'].sum() - len(ordersByUsersB['orders'])\n",
    "            ),\n",
    "            name='orders',\n",
    "        ),\n",
    "    ],\n",
    "    axis=0,\n",
    ")\n",
    "\n",
    "print('P-value:',\"{0:.3f}\".format(stats.mannwhitneyu(sampleA, sampleB)[1]))\n",
    "print('Относительный прирост:',\"{0:.3f}\".format(sampleB.mean() / sampleA.mean() - 1))"
   ]
  },
  {
   "cell_type": "markdown",
   "id": "ee20d92b",
   "metadata": {},
   "source": [
    "**По «сырым» данным в среднем числе заказов групп A и B есть статистически значимые различия: p-value = 0.017 меньше 0.05, т.е. отвергаем нулевую гипотезу, относительный выигрыш группы B равен 16%.**"
   ]
  },
  {
   "cell_type": "markdown",
   "id": "cce3a540",
   "metadata": {},
   "source": [
    "### Посчитаем статистическую значимость различий в среднем чеке заказа между группами по «сырым» данным."
   ]
  },
  {
   "cell_type": "markdown",
   "id": "36cd8969",
   "metadata": {},
   "source": [
    "Гипотезы:<br>\n",
    "Нулевая гипотеза: различий в среднем чеке между группами нет. <br>Альтернативная гипотеза: различия в среднем чеке между группами есть. \n",
    "    \n",
    "Примем за критический уровень статистической значимости alpha = 0.05.<br>\n",
    "\n",
    "Для проверки гипотез будем использовать критерий Манна-Уитни."
   ]
  },
  {
   "cell_type": "code",
   "execution_count": 42,
   "id": "219e773b",
   "metadata": {},
   "outputs": [
    {
     "name": "stdout",
     "output_type": "stream",
     "text": [
      "P-value: 0.829\n",
      "Относительный прирост: 0.287\n"
     ]
    }
   ],
   "source": [
    "print('P-value:','{0:.3f}'.format(stats.mannwhitneyu(orders[orders['group']=='A']['revenue'], orders[orders['group']=='B']['revenue'])[1]))\n",
    "print('Относительный прирост:','{0:.3f}'.format(orders[orders['group']=='B']['revenue'].mean()/orders[orders['group']=='A']['revenue'].mean()-1)) "
   ]
  },
  {
   "cell_type": "markdown",
   "id": "48788ea9",
   "metadata": {},
   "source": [
    "**P-value значительно больше 0.05, значит стистически значимых различий в средних чеках между группами нет, нулевую гипотезу не отвертаем, хоть и средний чек группы B выше среднего чека группы A почти на 29%.**"
   ]
  },
  {
   "cell_type": "code",
   "execution_count": 43,
   "id": "17e44b19",
   "metadata": {},
   "outputs": [
    {
     "name": "stdout",
     "output_type": "stream",
     "text": [
      "Всего аномальных пользователей: 49\n"
     ]
    }
   ],
   "source": [
    "#Находим аномальных пользователей\n",
    "usersWithManyOrders = pd.concat(\n",
    "    [\n",
    "        ordersByUsersA[ordersByUsersA['orders'] > 2]['visitor_id'],\n",
    "        ordersByUsersB[ordersByUsersB['orders'] > 2]['visitor_id'],\n",
    "    ],\n",
    "    axis=0,\n",
    ")\n",
    "usersWithExpensiveOrders = orders[orders['revenue'] > 30000]['visitor_id']\n",
    "abnormalUsers = (\n",
    "    pd.concat([usersWithManyOrders, usersWithExpensiveOrders], axis=0)\n",
    "    .drop_duplicates()\n",
    "    .sort_values()\n",
    ")\n",
    "print('Всего аномальных пользователей:', len(abnormalUsers))"
   ]
  },
  {
   "cell_type": "code",
   "execution_count": 44,
   "id": "f9d662be",
   "metadata": {},
   "outputs": [],
   "source": [
    "sampleAFiltered = pd.concat(\n",
    "    [\n",
    "        ordersByUsersA[\n",
    "            np.logical_not(ordersByUsersA['visitor_id'].isin(abnormalUsers))\n",
    "        ]['orders'],\n",
    "        pd.Series(\n",
    "            0,\n",
    "            index=np.arange(\n",
    "                data['visitorsPerDateA'].sum() - len(ordersByUsersA['orders'])\n",
    "            ),\n",
    "            name='orders',\n",
    "        ),\n",
    "    ],\n",
    "    axis=0,\n",
    ")\n",
    "\n",
    "sampleBFiltered = pd.concat(\n",
    "    [\n",
    "        ordersByUsersB[\n",
    "            np.logical_not(ordersByUsersB['visitor_id'].isin(abnormalUsers))\n",
    "        ]['orders'],\n",
    "        pd.Series(\n",
    "            0,\n",
    "            index=np.arange(\n",
    "                data['visitorsPerDateB'].sum() - len(ordersByUsersB['orders'])\n",
    "            ),\n",
    "            name='orders',\n",
    "        ),\n",
    "    ],\n",
    "    axis=0,\n",
    ")"
   ]
  },
  {
   "cell_type": "markdown",
   "id": "b5600fc0",
   "metadata": {},
   "source": [
    "### Посчитаем статистическую значимость различий в среднем количестве заказов на посетителя между группами по «очищенным» данным."
   ]
  },
  {
   "cell_type": "code",
   "execution_count": 45,
   "id": "8e96e245",
   "metadata": {},
   "outputs": [
    {
     "name": "stdout",
     "output_type": "stream",
     "text": [
      "P-value: 0.010\n",
      "Относительный прирост: 0.187\n"
     ]
    }
   ],
   "source": [
    "print('P-value:','{0:.3f}'.format(stats.mannwhitneyu(sampleAFiltered, sampleBFiltered)[1]))\n",
    "print('Относительный прирост:','{0:.3f}'.format(sampleBFiltered.mean()/sampleAFiltered.mean()-1)) "
   ]
  },
  {
   "cell_type": "markdown",
   "id": "44f1d23d",
   "metadata": {},
   "source": [
    "**По очищенным данным в среднем количестве заказов также есть различия, группы B лучше группы A.**"
   ]
  },
  {
   "cell_type": "markdown",
   "id": "70b80bcb",
   "metadata": {},
   "source": [
    "### Посчитаем статистическую значимость различий в среднем чеке заказа между группами по «очищенным» данным."
   ]
  },
  {
   "cell_type": "code",
   "execution_count": 46,
   "id": "002eaed8",
   "metadata": {},
   "outputs": [
    {
     "name": "stdout",
     "output_type": "stream",
     "text": [
      "P-value: 0.741\n",
      "Относительный прирост:-0.027\n"
     ]
    }
   ],
   "source": [
    "print('P-value:',\n",
    "    '{0:.3f}'.format(\n",
    "        stats.mannwhitneyu(\n",
    "            orders[\n",
    "                np.logical_and(\n",
    "                    orders['group'] == 'A',\n",
    "                    np.logical_not(orders['visitor_id'].isin(abnormalUsers)),\n",
    "                )\n",
    "            ]['revenue'],\n",
    "            orders[\n",
    "                np.logical_and(\n",
    "                    orders['group'] == 'B',\n",
    "                    np.logical_not(orders['visitor_id'].isin(abnormalUsers)),\n",
    "                )\n",
    "            ]['revenue'],\n",
    "        )[1]\n",
    "    )\n",
    ")\n",
    "\n",
    "print('Относительный прирост:'\n",
    "    \"{0:.3f}\".format(\n",
    "        orders[\n",
    "            np.logical_and(\n",
    "                orders['group'] == 'B',\n",
    "                np.logical_not(orders['visitor_id'].isin(abnormalUsers)),\n",
    "            )\n",
    "        ]['revenue'].mean()\n",
    "        / orders[\n",
    "            np.logical_and(\n",
    "                orders['group'] == 'A',\n",
    "                np.logical_not(orders['visitor_id'].isin(abnormalUsers)),\n",
    "            )\n",
    "        ]['revenue'].mean()\n",
    "        - 1\n",
    "    )\n",
    ") "
   ]
  },
  {
   "cell_type": "markdown",
   "id": "f5a95298",
   "metadata": {},
   "source": [
    "**P-value не сильно изменился, но разница между группами изменилась на 32 процента.**"
   ]
  },
  {
   "cell_type": "markdown",
   "id": "d5330c11",
   "metadata": {},
   "source": [
    "### Решение по результатам теста"
   ]
  },
  {
   "cell_type": "markdown",
   "id": "60b5aae5",
   "metadata": {},
   "source": [
    "**Тест завершен, по его результатам группы A и B практически не имеют различий в средней сумме заказа, но среднее количество заказов в группе B больше, значит выручка в группе B также больше, поэтому фиксируем победу B.**"
   ]
  },
  {
   "cell_type": "markdown",
   "id": "b89ed3f8",
   "metadata": {},
   "source": [
    "## Вывод"
   ]
  },
  {
   "cell_type": "markdown",
   "id": "40144b86",
   "metadata": {},
   "source": [
    "**В исходных данных были обнаружены и исправлены проблемы: были изменены названия столбцов в соответствии с \"хорошим стилем\", изменены типы данных в столбцах с данными, были удалены данные по пользователям, оказавшимся в обеих тестируемых группах, явных дубликатов обнаружено не было.**<br>\n",
    "\n",
    "**Была проведена приоритезация гипотез, По фреймворку ICE, самыми перспективными гипотезами оказались:<br>\n",
    "1)Запустить акцию, дающую скидку на товар в день рождения<br>\n",
    "2)Добавить два новых канала привлечения трафика, что позволит привлекать на 30% больше пользователей<br>\n",
    "3)Добавить форму подписки на все основные страницы, чтобы собрать базу клиентов для email-рассылок**<br>\n",
    "\n",
    "**По фреймворку RICE самыми перспективными гипотезами являются:**<br>\n",
    "**1)Добавить форму подписки на все основные страницы, чтобы собрать базу клиентов для email-рассылок**<br>\n",
    "**2)Добавить блоки рекомендаций товаров на сайт интернет магазина, чтобы повысить конверсию и средний чек заказа**<br>\n",
    "**3)Добавить два новых канала привлечения трафика, что позволит привлекать на 30% больше пользователей**<br>\n",
    "**4)Показать на главной странице баннеры с актуальными акциями и распродажами, чтобы увеличить конверсию**\n",
    "**<br>\n",
    "\n",
    "**В ходе анализа A/B-теста было выяснено, что выручка группы B выше, чем группы A.** <br>\n",
    "\n",
    "**Средние чеки на протяжении теста сильно колебались в обеих группах, но в группе B этот показатель выше.<br>\n",
    "Среднее количество заказов в начале теста было выше в группе A, но практически сразу группа B вырвалась вперед и сохраняла лидирующую позицию по этому показателю до конца эксперимента.**\n",
    "\n",
    "**В данных были обнаружены выбросы: пользователи с более, чем двумя покупками и заказы, более чем на 30000 оказались аномалиями.**\n",
    "<br>\n",
    "\n",
    "**По \"сырым данным\" между группами выявились различия в среднем числе заказов, относительный выигрыш группы B оказался равен 16%. В средних чеках значимых различий не было обнаружено.**<br>\n",
    "\n",
    "**По \"очищенным данным\" ситуация схожая: разницы в средних суммах заказов нет, но группа B выигрывает по среднему числу заказов, из-за чего был сделан вывод, что тест необходимо завершить, группа B оказалась выигрышней.** "
   ]
  }
 ],
 "metadata": {
  "ExecuteTimeLog": [
   {
    "duration": 70,
    "start_time": "2023-04-15T21:08:00.684Z"
   },
   {
    "duration": 724,
    "start_time": "2023-04-15T21:08:06.452Z"
   },
   {
    "duration": 228,
    "start_time": "2023-04-15T21:08:09.816Z"
   },
   {
    "duration": 11,
    "start_time": "2023-04-15T21:42:22.650Z"
   },
   {
    "duration": 7,
    "start_time": "2023-04-15T21:42:30.891Z"
   },
   {
    "duration": 10,
    "start_time": "2023-04-15T21:42:41.131Z"
   },
   {
    "duration": 9,
    "start_time": "2023-04-15T21:42:49.134Z"
   },
   {
    "duration": 5,
    "start_time": "2023-04-15T21:43:35.601Z"
   },
   {
    "duration": 33,
    "start_time": "2023-04-15T21:43:42.711Z"
   },
   {
    "duration": 21,
    "start_time": "2023-04-15T21:43:48.571Z"
   },
   {
    "duration": 8,
    "start_time": "2023-04-15T21:46:30.613Z"
   },
   {
    "duration": 3,
    "start_time": "2023-04-15T21:46:35.190Z"
   },
   {
    "duration": 15,
    "start_time": "2023-04-15T21:46:40.268Z"
   },
   {
    "duration": 13,
    "start_time": "2023-04-15T21:46:56.131Z"
   },
   {
    "duration": 590,
    "start_time": "2023-04-15T21:47:07.358Z"
   },
   {
    "duration": 26,
    "start_time": "2023-04-15T21:47:07.950Z"
   },
   {
    "duration": 2,
    "start_time": "2023-04-15T21:47:07.978Z"
   },
   {
    "duration": 11,
    "start_time": "2023-04-15T21:47:07.981Z"
   },
   {
    "duration": 4,
    "start_time": "2023-04-15T21:47:07.994Z"
   },
   {
    "duration": 10,
    "start_time": "2023-04-15T21:47:08.000Z"
   },
   {
    "duration": 77,
    "start_time": "2023-04-15T21:47:08.011Z"
   },
   {
    "duration": 0,
    "start_time": "2023-04-15T21:47:08.089Z"
   },
   {
    "duration": 0,
    "start_time": "2023-04-15T21:47:08.090Z"
   },
   {
    "duration": 0,
    "start_time": "2023-04-15T21:47:08.091Z"
   },
   {
    "duration": 0,
    "start_time": "2023-04-15T21:47:08.092Z"
   },
   {
    "duration": 0,
    "start_time": "2023-04-15T21:47:08.092Z"
   },
   {
    "duration": 0,
    "start_time": "2023-04-15T21:47:08.094Z"
   },
   {
    "duration": 0,
    "start_time": "2023-04-15T21:47:08.095Z"
   },
   {
    "duration": 0,
    "start_time": "2023-04-15T21:47:08.095Z"
   },
   {
    "duration": 0,
    "start_time": "2023-04-15T21:47:08.096Z"
   },
   {
    "duration": 0,
    "start_time": "2023-04-15T21:47:08.097Z"
   },
   {
    "duration": 5,
    "start_time": "2023-04-15T21:47:32.678Z"
   },
   {
    "duration": 9,
    "start_time": "2023-04-15T21:47:34.004Z"
   },
   {
    "duration": 5,
    "start_time": "2023-04-15T21:47:37.827Z"
   },
   {
    "duration": 61,
    "start_time": "2023-04-15T21:47:40.002Z"
   },
   {
    "duration": 8,
    "start_time": "2023-04-15T21:47:40.557Z"
   },
   {
    "duration": 3,
    "start_time": "2023-04-15T21:47:41.952Z"
   },
   {
    "duration": 11,
    "start_time": "2023-04-15T21:47:42.511Z"
   },
   {
    "duration": 7,
    "start_time": "2023-04-15T21:47:43.524Z"
   },
   {
    "duration": 8,
    "start_time": "2023-04-15T21:47:44.172Z"
   },
   {
    "duration": 5,
    "start_time": "2023-04-15T21:47:45.165Z"
   },
   {
    "duration": 5,
    "start_time": "2023-04-15T21:47:45.919Z"
   },
   {
    "duration": 8,
    "start_time": "2023-04-15T22:38:47.753Z"
   },
   {
    "duration": 7,
    "start_time": "2023-04-15T22:38:59.967Z"
   },
   {
    "duration": 8,
    "start_time": "2023-04-15T22:39:10.090Z"
   },
   {
    "duration": 7,
    "start_time": "2023-04-15T22:39:15.161Z"
   },
   {
    "duration": 95,
    "start_time": "2023-04-15T22:40:10.979Z"
   },
   {
    "duration": 3,
    "start_time": "2023-04-15T22:40:33.625Z"
   },
   {
    "duration": 24,
    "start_time": "2023-04-15T22:40:36.647Z"
   },
   {
    "duration": 503,
    "start_time": "2023-04-15T22:41:18.120Z"
   },
   {
    "duration": 211,
    "start_time": "2023-04-15T22:43:12.952Z"
   },
   {
    "duration": 264,
    "start_time": "2023-04-15T22:43:26.339Z"
   },
   {
    "duration": 300,
    "start_time": "2023-04-15T22:43:33.838Z"
   },
   {
    "duration": 266,
    "start_time": "2023-04-15T22:43:37.660Z"
   },
   {
    "duration": 103,
    "start_time": "2023-04-15T22:43:53.584Z"
   },
   {
    "duration": 279,
    "start_time": "2023-04-15T22:44:10.263Z"
   },
   {
    "duration": 258,
    "start_time": "2023-04-15T22:44:17.477Z"
   },
   {
    "duration": 275,
    "start_time": "2023-04-15T22:44:30.237Z"
   },
   {
    "duration": 256,
    "start_time": "2023-04-15T22:45:40.366Z"
   },
   {
    "duration": 328,
    "start_time": "2023-04-15T22:47:25.972Z"
   },
   {
    "duration": 283,
    "start_time": "2023-04-15T22:47:33.696Z"
   },
   {
    "duration": 260,
    "start_time": "2023-04-15T22:47:39.682Z"
   },
   {
    "duration": 252,
    "start_time": "2023-04-15T22:47:44.064Z"
   },
   {
    "duration": 340,
    "start_time": "2023-04-15T22:48:01.573Z"
   },
   {
    "duration": 292,
    "start_time": "2023-04-15T22:48:09.141Z"
   },
   {
    "duration": 306,
    "start_time": "2023-04-15T22:48:14.268Z"
   },
   {
    "duration": 234,
    "start_time": "2023-04-15T23:27:58.989Z"
   },
   {
    "duration": 297,
    "start_time": "2023-04-15T23:38:04.807Z"
   },
   {
    "duration": 281,
    "start_time": "2023-04-15T23:55:15.010Z"
   },
   {
    "duration": 314,
    "start_time": "2023-04-15T23:55:29.983Z"
   },
   {
    "duration": 286,
    "start_time": "2023-04-15T23:55:52.561Z"
   },
   {
    "duration": 303,
    "start_time": "2023-04-15T23:56:25.884Z"
   },
   {
    "duration": 102,
    "start_time": "2023-04-15T23:58:23.050Z"
   },
   {
    "duration": 5,
    "start_time": "2023-04-16T00:15:04.855Z"
   },
   {
    "duration": 272,
    "start_time": "2023-04-16T00:15:21.725Z"
   },
   {
    "duration": 405,
    "start_time": "2023-04-16T00:15:36.441Z"
   },
   {
    "duration": 469,
    "start_time": "2023-04-16T00:16:13.191Z"
   },
   {
    "duration": 376,
    "start_time": "2023-04-16T00:17:02.987Z"
   },
   {
    "duration": 237,
    "start_time": "2023-04-16T01:52:42.180Z"
   },
   {
    "duration": 253,
    "start_time": "2023-04-16T01:53:05.429Z"
   },
   {
    "duration": 244,
    "start_time": "2023-04-16T01:56:08.914Z"
   },
   {
    "duration": 226,
    "start_time": "2023-04-16T01:56:50.183Z"
   },
   {
    "duration": 270,
    "start_time": "2023-04-16T01:58:04.470Z"
   },
   {
    "duration": 221,
    "start_time": "2023-04-16T01:58:21.591Z"
   },
   {
    "duration": 224,
    "start_time": "2023-04-16T01:59:20.747Z"
   },
   {
    "duration": 243,
    "start_time": "2023-04-16T02:00:07.802Z"
   },
   {
    "duration": 245,
    "start_time": "2023-04-16T02:00:13.592Z"
   },
   {
    "duration": 308,
    "start_time": "2023-04-16T02:00:36.110Z"
   },
   {
    "duration": 219,
    "start_time": "2023-04-16T02:05:51.425Z"
   },
   {
    "duration": 214,
    "start_time": "2023-04-16T02:06:45.182Z"
   },
   {
    "duration": 215,
    "start_time": "2023-04-16T02:06:58.930Z"
   },
   {
    "duration": 233,
    "start_time": "2023-04-16T02:07:04.629Z"
   },
   {
    "duration": 197,
    "start_time": "2023-04-16T02:07:14.724Z"
   },
   {
    "duration": 212,
    "start_time": "2023-04-16T02:07:17.325Z"
   },
   {
    "duration": 230,
    "start_time": "2023-04-16T02:07:28.187Z"
   },
   {
    "duration": 222,
    "start_time": "2023-04-16T02:07:32.577Z"
   },
   {
    "duration": 232,
    "start_time": "2023-04-16T02:07:35.654Z"
   },
   {
    "duration": 207,
    "start_time": "2023-04-16T02:07:47.421Z"
   },
   {
    "duration": 294,
    "start_time": "2023-04-16T02:07:53.545Z"
   },
   {
    "duration": 212,
    "start_time": "2023-04-16T02:08:01.966Z"
   },
   {
    "duration": 349,
    "start_time": "2023-04-16T02:08:33.700Z"
   },
   {
    "duration": 345,
    "start_time": "2023-04-16T02:08:40.320Z"
   },
   {
    "duration": 264,
    "start_time": "2023-04-16T02:08:45.860Z"
   },
   {
    "duration": 297,
    "start_time": "2023-04-16T02:09:05.585Z"
   },
   {
    "duration": 295,
    "start_time": "2023-04-16T02:09:37.053Z"
   },
   {
    "duration": 255,
    "start_time": "2023-04-16T02:10:45.256Z"
   },
   {
    "duration": 316,
    "start_time": "2023-04-16T02:11:05.703Z"
   },
   {
    "duration": 308,
    "start_time": "2023-04-16T02:27:51.512Z"
   },
   {
    "duration": 333,
    "start_time": "2023-04-16T02:28:19.962Z"
   },
   {
    "duration": 432,
    "start_time": "2023-04-16T02:29:23.768Z"
   },
   {
    "duration": 282,
    "start_time": "2023-04-16T02:29:51.524Z"
   },
   {
    "duration": 396,
    "start_time": "2023-04-16T02:30:28.631Z"
   },
   {
    "duration": 365,
    "start_time": "2023-04-16T02:31:38.609Z"
   },
   {
    "duration": 417,
    "start_time": "2023-04-16T02:38:14.019Z"
   },
   {
    "duration": 9,
    "start_time": "2023-04-16T03:39:07.484Z"
   },
   {
    "duration": 20,
    "start_time": "2023-04-16T03:39:41.161Z"
   },
   {
    "duration": 12,
    "start_time": "2023-04-16T03:39:56.381Z"
   },
   {
    "duration": 11,
    "start_time": "2023-04-16T03:40:14.319Z"
   },
   {
    "duration": 106,
    "start_time": "2023-04-16T03:40:24.935Z"
   },
   {
    "duration": 161,
    "start_time": "2023-04-16T03:40:55.664Z"
   },
   {
    "duration": 146,
    "start_time": "2023-04-16T03:44:55.386Z"
   },
   {
    "duration": 137,
    "start_time": "2023-04-16T03:45:06.790Z"
   },
   {
    "duration": 10,
    "start_time": "2023-04-16T03:48:32.648Z"
   },
   {
    "duration": 5,
    "start_time": "2023-04-16T03:48:48.236Z"
   },
   {
    "duration": 156,
    "start_time": "2023-04-16T03:51:17.216Z"
   },
   {
    "duration": 143,
    "start_time": "2023-04-16T03:51:23.242Z"
   },
   {
    "duration": 172,
    "start_time": "2023-04-16T03:51:36.245Z"
   },
   {
    "duration": 141,
    "start_time": "2023-04-16T03:51:48.285Z"
   },
   {
    "duration": 4,
    "start_time": "2023-04-16T03:55:39.765Z"
   },
   {
    "duration": 5,
    "start_time": "2023-04-16T03:59:07.360Z"
   },
   {
    "duration": 226,
    "start_time": "2023-04-16T04:06:16.070Z"
   },
   {
    "duration": 165,
    "start_time": "2023-04-16T04:07:47.627Z"
   },
   {
    "duration": 9,
    "start_time": "2023-04-16T04:09:07.104Z"
   },
   {
    "duration": 6,
    "start_time": "2023-04-16T04:09:14.151Z"
   },
   {
    "duration": 440,
    "start_time": "2023-04-16T04:18:41.188Z"
   },
   {
    "duration": 147,
    "start_time": "2023-04-16T04:19:44.371Z"
   },
   {
    "duration": 148,
    "start_time": "2023-04-16T04:19:53.623Z"
   },
   {
    "duration": 146,
    "start_time": "2023-04-16T04:19:59.616Z"
   },
   {
    "duration": 181,
    "start_time": "2023-04-16T04:20:15.941Z"
   },
   {
    "duration": 147,
    "start_time": "2023-04-16T04:20:45.172Z"
   },
   {
    "duration": 538,
    "start_time": "2023-04-16T04:21:15.690Z"
   },
   {
    "duration": 206,
    "start_time": "2023-04-16T04:21:30.454Z"
   },
   {
    "duration": 6,
    "start_time": "2023-04-16T04:23:34.536Z"
   },
   {
    "duration": 195,
    "start_time": "2023-04-16T04:45:56.857Z"
   },
   {
    "duration": 140,
    "start_time": "2023-04-16T04:46:00.752Z"
   },
   {
    "duration": 377,
    "start_time": "2023-04-16T04:46:17.924Z"
   },
   {
    "duration": 243,
    "start_time": "2023-04-16T04:46:21.550Z"
   },
   {
    "duration": 151,
    "start_time": "2023-04-16T04:49:22.284Z"
   },
   {
    "duration": 10,
    "start_time": "2023-04-16T04:55:53.211Z"
   },
   {
    "duration": 2272,
    "start_time": "2023-04-16T05:01:26.139Z"
   },
   {
    "duration": 15,
    "start_time": "2023-04-16T05:01:40.189Z"
   },
   {
    "duration": 10,
    "start_time": "2023-04-16T05:01:46.290Z"
   },
   {
    "duration": 17,
    "start_time": "2023-04-16T05:03:15.443Z"
   },
   {
    "duration": 8,
    "start_time": "2023-04-16T05:03:42.325Z"
   },
   {
    "duration": 7,
    "start_time": "2023-04-16T05:04:28.198Z"
   },
   {
    "duration": 21,
    "start_time": "2023-04-16T05:04:48.944Z"
   },
   {
    "duration": 19,
    "start_time": "2023-04-16T05:09:04.329Z"
   },
   {
    "duration": 2,
    "start_time": "2023-04-16T05:13:36.305Z"
   },
   {
    "duration": 1106,
    "start_time": "2023-04-16T05:22:29.205Z"
   },
   {
    "duration": 28,
    "start_time": "2023-04-16T05:22:30.313Z"
   },
   {
    "duration": 15,
    "start_time": "2023-04-16T05:22:30.343Z"
   },
   {
    "duration": 52,
    "start_time": "2023-04-16T05:22:30.360Z"
   },
   {
    "duration": 53,
    "start_time": "2023-04-16T05:22:30.413Z"
   },
   {
    "duration": 48,
    "start_time": "2023-04-16T05:22:30.468Z"
   },
   {
    "duration": 42,
    "start_time": "2023-04-16T05:22:30.518Z"
   },
   {
    "duration": 46,
    "start_time": "2023-04-16T05:22:30.561Z"
   },
   {
    "duration": 25,
    "start_time": "2023-04-16T05:22:30.608Z"
   },
   {
    "duration": 98,
    "start_time": "2023-04-16T05:22:30.637Z"
   },
   {
    "duration": 7,
    "start_time": "2023-04-16T05:22:30.737Z"
   },
   {
    "duration": 54,
    "start_time": "2023-04-16T05:22:30.747Z"
   },
   {
    "duration": 35,
    "start_time": "2023-04-16T05:22:30.803Z"
   },
   {
    "duration": 32,
    "start_time": "2023-04-16T05:22:30.841Z"
   },
   {
    "duration": 39,
    "start_time": "2023-04-16T05:22:30.874Z"
   },
   {
    "duration": 30,
    "start_time": "2023-04-16T05:22:30.914Z"
   },
   {
    "duration": 52,
    "start_time": "2023-04-16T05:22:30.946Z"
   },
   {
    "duration": 34,
    "start_time": "2023-04-16T05:22:31.000Z"
   },
   {
    "duration": 346,
    "start_time": "2023-04-16T05:22:31.036Z"
   },
   {
    "duration": 311,
    "start_time": "2023-04-16T05:22:31.384Z"
   },
   {
    "duration": 310,
    "start_time": "2023-04-16T05:22:31.696Z"
   },
   {
    "duration": 6,
    "start_time": "2023-04-16T05:22:32.007Z"
   },
   {
    "duration": 374,
    "start_time": "2023-04-16T05:22:32.015Z"
   },
   {
    "duration": 297,
    "start_time": "2023-04-16T05:22:32.390Z"
   },
   {
    "duration": 405,
    "start_time": "2023-04-16T05:22:32.689Z"
   },
   {
    "duration": 156,
    "start_time": "2023-04-16T05:22:33.095Z"
   },
   {
    "duration": 4,
    "start_time": "2023-04-16T05:22:33.253Z"
   },
   {
    "duration": 166,
    "start_time": "2023-04-16T05:22:33.260Z"
   },
   {
    "duration": 164,
    "start_time": "2023-04-16T05:22:33.427Z"
   },
   {
    "duration": 5,
    "start_time": "2023-04-16T05:22:33.592Z"
   },
   {
    "duration": 208,
    "start_time": "2023-04-16T05:22:33.598Z"
   },
   {
    "duration": 154,
    "start_time": "2023-04-16T05:22:33.808Z"
   },
   {
    "duration": 15,
    "start_time": "2023-04-16T05:22:33.964Z"
   },
   {
    "duration": 15,
    "start_time": "2023-04-16T05:22:33.981Z"
   },
   {
    "duration": 11,
    "start_time": "2023-04-16T05:22:33.998Z"
   },
   {
    "duration": 21,
    "start_time": "2023-04-16T05:22:34.010Z"
   },
   {
    "duration": 12,
    "start_time": "2023-04-16T05:22:34.033Z"
   },
   {
    "duration": 1225,
    "start_time": "2023-04-16T05:33:03.299Z"
   },
   {
    "duration": 98,
    "start_time": "2023-04-16T05:33:04.525Z"
   },
   {
    "duration": 3,
    "start_time": "2023-04-16T05:33:04.624Z"
   },
   {
    "duration": 25,
    "start_time": "2023-04-16T05:33:04.629Z"
   },
   {
    "duration": 9,
    "start_time": "2023-04-16T05:33:04.656Z"
   },
   {
    "duration": 31,
    "start_time": "2023-04-16T05:33:04.666Z"
   },
   {
    "duration": 19,
    "start_time": "2023-04-16T05:33:04.702Z"
   },
   {
    "duration": 11,
    "start_time": "2023-04-16T05:33:04.723Z"
   },
   {
    "duration": 188,
    "start_time": "2023-04-16T05:33:04.736Z"
   },
   {
    "duration": 9,
    "start_time": "2023-04-16T05:33:04.925Z"
   },
   {
    "duration": 15,
    "start_time": "2023-04-16T05:33:04.937Z"
   },
   {
    "duration": 13,
    "start_time": "2023-04-16T05:33:04.953Z"
   },
   {
    "duration": 26,
    "start_time": "2023-04-16T05:33:04.968Z"
   },
   {
    "duration": 22,
    "start_time": "2023-04-16T05:33:05.005Z"
   },
   {
    "duration": 24,
    "start_time": "2023-04-16T05:33:05.028Z"
   },
   {
    "duration": 65,
    "start_time": "2023-04-16T05:33:05.053Z"
   },
   {
    "duration": 31,
    "start_time": "2023-04-16T05:33:05.120Z"
   },
   {
    "duration": 307,
    "start_time": "2023-04-16T05:33:05.152Z"
   },
   {
    "duration": 363,
    "start_time": "2023-04-16T05:33:05.461Z"
   },
   {
    "duration": 380,
    "start_time": "2023-04-16T05:33:05.825Z"
   },
   {
    "duration": 12,
    "start_time": "2023-04-16T05:33:06.207Z"
   },
   {
    "duration": 426,
    "start_time": "2023-04-16T05:33:06.221Z"
   },
   {
    "duration": 307,
    "start_time": "2023-04-16T05:33:06.648Z"
   },
   {
    "duration": 428,
    "start_time": "2023-04-16T05:33:06.956Z"
   },
   {
    "duration": 143,
    "start_time": "2023-04-16T05:33:07.394Z"
   },
   {
    "duration": 5,
    "start_time": "2023-04-16T05:33:07.539Z"
   },
   {
    "duration": 184,
    "start_time": "2023-04-16T05:33:07.546Z"
   },
   {
    "duration": 168,
    "start_time": "2023-04-16T05:33:07.732Z"
   },
   {
    "duration": 7,
    "start_time": "2023-04-16T05:33:07.905Z"
   },
   {
    "duration": 202,
    "start_time": "2023-04-16T05:33:07.913Z"
   },
   {
    "duration": 203,
    "start_time": "2023-04-16T05:33:08.116Z"
   },
   {
    "duration": 10,
    "start_time": "2023-04-16T05:33:08.321Z"
   },
   {
    "duration": 21,
    "start_time": "2023-04-16T05:33:08.333Z"
   },
   {
    "duration": 9,
    "start_time": "2023-04-16T05:33:08.356Z"
   },
   {
    "duration": 32,
    "start_time": "2023-04-16T05:33:08.366Z"
   },
   {
    "duration": 15,
    "start_time": "2023-04-16T05:33:08.400Z"
   },
   {
    "duration": 1151,
    "start_time": "2023-04-16T05:49:37.803Z"
   },
   {
    "duration": 45,
    "start_time": "2023-04-16T05:49:38.956Z"
   },
   {
    "duration": 3,
    "start_time": "2023-04-16T05:49:39.003Z"
   },
   {
    "duration": 19,
    "start_time": "2023-04-16T05:49:39.010Z"
   },
   {
    "duration": 6,
    "start_time": "2023-04-16T05:49:39.035Z"
   },
   {
    "duration": 14,
    "start_time": "2023-04-16T05:49:39.042Z"
   },
   {
    "duration": 7,
    "start_time": "2023-04-16T05:49:39.058Z"
   },
   {
    "duration": 19,
    "start_time": "2023-04-16T05:49:39.066Z"
   },
   {
    "duration": 127,
    "start_time": "2023-04-16T05:49:39.087Z"
   },
   {
    "duration": 8,
    "start_time": "2023-04-16T05:49:39.216Z"
   },
   {
    "duration": 14,
    "start_time": "2023-04-16T05:49:39.225Z"
   },
   {
    "duration": 16,
    "start_time": "2023-04-16T05:49:39.241Z"
   },
   {
    "duration": 34,
    "start_time": "2023-04-16T05:49:39.259Z"
   },
   {
    "duration": 13,
    "start_time": "2023-04-16T05:49:39.308Z"
   },
   {
    "duration": 12,
    "start_time": "2023-04-16T05:49:39.322Z"
   },
   {
    "duration": 18,
    "start_time": "2023-04-16T05:49:39.335Z"
   },
   {
    "duration": 8,
    "start_time": "2023-04-16T05:49:39.354Z"
   },
   {
    "duration": 330,
    "start_time": "2023-04-16T05:49:39.364Z"
   },
   {
    "duration": 339,
    "start_time": "2023-04-16T05:49:39.697Z"
   },
   {
    "duration": 361,
    "start_time": "2023-04-16T05:49:40.038Z"
   },
   {
    "duration": 17,
    "start_time": "2023-04-16T05:49:40.400Z"
   },
   {
    "duration": 430,
    "start_time": "2023-04-16T05:49:40.419Z"
   },
   {
    "duration": 384,
    "start_time": "2023-04-16T05:49:40.851Z"
   },
   {
    "duration": 477,
    "start_time": "2023-04-16T05:49:41.236Z"
   },
   {
    "duration": 149,
    "start_time": "2023-04-16T05:49:41.715Z"
   },
   {
    "duration": 7,
    "start_time": "2023-04-16T05:49:41.866Z"
   },
   {
    "duration": 222,
    "start_time": "2023-04-16T05:49:41.883Z"
   },
   {
    "duration": 183,
    "start_time": "2023-04-16T05:49:42.107Z"
   },
   {
    "duration": 5,
    "start_time": "2023-04-16T05:49:42.294Z"
   },
   {
    "duration": 198,
    "start_time": "2023-04-16T05:49:42.301Z"
   },
   {
    "duration": 182,
    "start_time": "2023-04-16T05:49:42.503Z"
   },
   {
    "duration": 13,
    "start_time": "2023-04-16T05:49:42.695Z"
   },
   {
    "duration": 25,
    "start_time": "2023-04-16T05:49:42.710Z"
   },
   {
    "duration": 33,
    "start_time": "2023-04-16T05:49:42.736Z"
   },
   {
    "duration": 87,
    "start_time": "2023-04-16T05:49:42.771Z"
   },
   {
    "duration": 16,
    "start_time": "2023-04-16T05:49:42.859Z"
   },
   {
    "duration": 24,
    "start_time": "2023-04-16T05:58:57.072Z"
   },
   {
    "duration": 1188,
    "start_time": "2023-04-16T06:18:43.024Z"
   },
   {
    "duration": 28,
    "start_time": "2023-04-16T06:18:44.224Z"
   },
   {
    "duration": 2,
    "start_time": "2023-04-16T06:18:44.254Z"
   },
   {
    "duration": 74,
    "start_time": "2023-04-16T06:18:44.258Z"
   },
   {
    "duration": 5,
    "start_time": "2023-04-16T06:18:44.334Z"
   },
   {
    "duration": 11,
    "start_time": "2023-04-16T06:18:44.340Z"
   },
   {
    "duration": 8,
    "start_time": "2023-04-16T06:18:44.353Z"
   },
   {
    "duration": 23,
    "start_time": "2023-04-16T06:18:44.362Z"
   },
   {
    "duration": 68,
    "start_time": "2023-04-16T06:18:44.386Z"
   },
   {
    "duration": 9,
    "start_time": "2023-04-16T06:18:44.455Z"
   },
   {
    "duration": 54,
    "start_time": "2023-04-16T06:18:44.465Z"
   },
   {
    "duration": 15,
    "start_time": "2023-04-16T06:18:44.521Z"
   },
   {
    "duration": 7,
    "start_time": "2023-04-16T06:18:44.538Z"
   },
   {
    "duration": 11,
    "start_time": "2023-04-16T06:18:44.547Z"
   },
   {
    "duration": 6,
    "start_time": "2023-04-16T06:18:44.559Z"
   },
   {
    "duration": 6,
    "start_time": "2023-04-16T06:18:44.567Z"
   },
   {
    "duration": 45,
    "start_time": "2023-04-16T06:18:44.595Z"
   },
   {
    "duration": 292,
    "start_time": "2023-04-16T06:18:44.642Z"
   },
   {
    "duration": 485,
    "start_time": "2023-04-16T06:18:44.936Z"
   },
   {
    "duration": 341,
    "start_time": "2023-04-16T06:18:45.423Z"
   },
   {
    "duration": 19,
    "start_time": "2023-04-16T06:18:45.766Z"
   },
   {
    "duration": 455,
    "start_time": "2023-04-16T06:18:45.787Z"
   },
   {
    "duration": 372,
    "start_time": "2023-04-16T06:18:46.245Z"
   },
   {
    "duration": 444,
    "start_time": "2023-04-16T06:18:46.618Z"
   },
   {
    "duration": 173,
    "start_time": "2023-04-16T06:18:47.064Z"
   },
   {
    "duration": 7,
    "start_time": "2023-04-16T06:18:47.239Z"
   },
   {
    "duration": 212,
    "start_time": "2023-04-16T06:18:47.248Z"
   },
   {
    "duration": 187,
    "start_time": "2023-04-16T06:18:47.461Z"
   },
   {
    "duration": 5,
    "start_time": "2023-04-16T06:18:47.650Z"
   },
   {
    "duration": 205,
    "start_time": "2023-04-16T06:18:47.657Z"
   },
   {
    "duration": 203,
    "start_time": "2023-04-16T06:18:47.864Z"
   },
   {
    "duration": 41,
    "start_time": "2023-04-16T06:18:48.068Z"
   },
   {
    "duration": 15,
    "start_time": "2023-04-16T06:18:48.115Z"
   },
   {
    "duration": 18,
    "start_time": "2023-04-16T06:18:48.132Z"
   },
   {
    "duration": 29,
    "start_time": "2023-04-16T06:18:48.152Z"
   },
   {
    "duration": 18,
    "start_time": "2023-04-16T06:18:48.183Z"
   },
   {
    "duration": 1117,
    "start_time": "2023-04-16T06:19:01.834Z"
   },
   {
    "duration": 91,
    "start_time": "2023-04-16T06:19:02.952Z"
   },
   {
    "duration": 87,
    "start_time": "2023-04-16T06:19:03.045Z"
   },
   {
    "duration": 102,
    "start_time": "2023-04-16T06:19:03.134Z"
   },
   {
    "duration": 50,
    "start_time": "2023-04-16T06:19:03.238Z"
   },
   {
    "duration": 55,
    "start_time": "2023-04-16T06:19:03.289Z"
   },
   {
    "duration": 81,
    "start_time": "2023-04-16T06:19:03.346Z"
   },
   {
    "duration": 20,
    "start_time": "2023-04-16T06:19:03.429Z"
   },
   {
    "duration": 90,
    "start_time": "2023-04-16T06:19:03.450Z"
   },
   {
    "duration": 7,
    "start_time": "2023-04-16T06:19:03.541Z"
   },
   {
    "duration": 7,
    "start_time": "2023-04-16T06:19:03.550Z"
   },
   {
    "duration": 35,
    "start_time": "2023-04-16T06:19:03.558Z"
   },
   {
    "duration": 47,
    "start_time": "2023-04-16T06:19:03.594Z"
   },
   {
    "duration": 12,
    "start_time": "2023-04-16T06:19:03.644Z"
   },
   {
    "duration": 12,
    "start_time": "2023-04-16T06:19:03.658Z"
   },
   {
    "duration": 62,
    "start_time": "2023-04-16T06:19:03.671Z"
   },
   {
    "duration": 11,
    "start_time": "2023-04-16T06:19:03.735Z"
   },
   {
    "duration": 304,
    "start_time": "2023-04-16T06:19:03.748Z"
   },
   {
    "duration": 346,
    "start_time": "2023-04-16T06:19:04.054Z"
   },
   {
    "duration": 331,
    "start_time": "2023-04-16T06:19:04.401Z"
   },
   {
    "duration": 5,
    "start_time": "2023-04-16T06:19:04.734Z"
   },
   {
    "duration": 409,
    "start_time": "2023-04-16T06:19:04.741Z"
   },
   {
    "duration": 315,
    "start_time": "2023-04-16T06:19:05.151Z"
   },
   {
    "duration": 468,
    "start_time": "2023-04-16T06:19:05.467Z"
   },
   {
    "duration": 196,
    "start_time": "2023-04-16T06:19:05.937Z"
   },
   {
    "duration": 5,
    "start_time": "2023-04-16T06:19:06.135Z"
   },
   {
    "duration": 212,
    "start_time": "2023-04-16T06:19:06.142Z"
   },
   {
    "duration": 208,
    "start_time": "2023-04-16T06:19:06.355Z"
   },
   {
    "duration": 40,
    "start_time": "2023-04-16T06:19:06.565Z"
   },
   {
    "duration": 294,
    "start_time": "2023-04-16T06:19:06.606Z"
   },
   {
    "duration": 214,
    "start_time": "2023-04-16T06:19:06.907Z"
   },
   {
    "duration": 17,
    "start_time": "2023-04-16T06:19:07.123Z"
   },
   {
    "duration": 8,
    "start_time": "2023-04-16T06:19:07.142Z"
   },
   {
    "duration": 10,
    "start_time": "2023-04-16T06:19:07.152Z"
   },
   {
    "duration": 38,
    "start_time": "2023-04-16T06:19:07.163Z"
   },
   {
    "duration": 20,
    "start_time": "2023-04-16T06:19:07.203Z"
   },
   {
    "duration": 49,
    "start_time": "2023-04-16T15:58:07.623Z"
   },
   {
    "duration": 10,
    "start_time": "2023-04-16T15:58:10.330Z"
   },
   {
    "duration": 1185,
    "start_time": "2023-04-16T15:58:13.791Z"
   },
   {
    "duration": 64,
    "start_time": "2023-04-16T15:58:15.238Z"
   },
   {
    "duration": 6,
    "start_time": "2023-04-16T15:58:15.936Z"
   },
   {
    "duration": 3,
    "start_time": "2023-04-16T15:58:16.516Z"
   },
   {
    "duration": 12,
    "start_time": "2023-04-16T15:58:32.080Z"
   },
   {
    "duration": 14,
    "start_time": "2023-04-16T15:58:40.432Z"
   },
   {
    "duration": 7,
    "start_time": "2023-04-16T15:58:45.216Z"
   },
   {
    "duration": 5,
    "start_time": "2023-04-16T16:01:30.689Z"
   },
   {
    "duration": 3,
    "start_time": "2023-04-16T16:01:31.321Z"
   },
   {
    "duration": 9,
    "start_time": "2023-04-16T16:01:31.993Z"
   },
   {
    "duration": 4,
    "start_time": "2023-04-16T16:01:51.951Z"
   },
   {
    "duration": 10,
    "start_time": "2023-04-16T16:01:53.791Z"
   },
   {
    "duration": 4,
    "start_time": "2023-04-16T16:02:02.748Z"
   },
   {
    "duration": 10,
    "start_time": "2023-04-16T16:02:04.287Z"
   },
   {
    "duration": 4,
    "start_time": "2023-04-16T16:02:19.697Z"
   },
   {
    "duration": 9,
    "start_time": "2023-04-16T16:02:20.294Z"
   },
   {
    "duration": 974,
    "start_time": "2023-04-16T16:05:39.794Z"
   },
   {
    "duration": 23,
    "start_time": "2023-04-16T16:05:40.770Z"
   },
   {
    "duration": 3,
    "start_time": "2023-04-16T16:05:40.794Z"
   },
   {
    "duration": 20,
    "start_time": "2023-04-16T16:05:40.799Z"
   },
   {
    "duration": 5,
    "start_time": "2023-04-16T16:05:40.820Z"
   },
   {
    "duration": 5,
    "start_time": "2023-04-16T16:05:40.827Z"
   },
   {
    "duration": 14,
    "start_time": "2023-04-16T16:05:40.833Z"
   },
   {
    "duration": 7,
    "start_time": "2023-04-16T16:05:40.848Z"
   },
   {
    "duration": 16,
    "start_time": "2023-04-16T16:05:40.857Z"
   },
   {
    "duration": 134,
    "start_time": "2023-04-16T16:05:40.875Z"
   },
   {
    "duration": 7,
    "start_time": "2023-04-16T16:05:41.011Z"
   },
   {
    "duration": 23,
    "start_time": "2023-04-16T16:05:41.020Z"
   },
   {
    "duration": 20,
    "start_time": "2023-04-16T16:05:41.044Z"
   },
   {
    "duration": 16,
    "start_time": "2023-04-16T16:05:41.066Z"
   },
   {
    "duration": 10,
    "start_time": "2023-04-16T16:05:41.083Z"
   },
   {
    "duration": 8,
    "start_time": "2023-04-16T16:05:41.094Z"
   },
   {
    "duration": 6,
    "start_time": "2023-04-16T16:05:41.103Z"
   },
   {
    "duration": 7,
    "start_time": "2023-04-16T16:05:41.111Z"
   },
   {
    "duration": 241,
    "start_time": "2023-04-16T16:05:41.120Z"
   },
   {
    "duration": 285,
    "start_time": "2023-04-16T16:05:41.362Z"
   },
   {
    "duration": 279,
    "start_time": "2023-04-16T16:05:41.649Z"
   },
   {
    "duration": 9,
    "start_time": "2023-04-16T16:05:41.930Z"
   },
   {
    "duration": 388,
    "start_time": "2023-04-16T16:05:41.940Z"
   },
   {
    "duration": 406,
    "start_time": "2023-04-16T16:05:42.330Z"
   },
   {
    "duration": 384,
    "start_time": "2023-04-16T16:05:42.738Z"
   },
   {
    "duration": 137,
    "start_time": "2023-04-16T16:05:43.123Z"
   },
   {
    "duration": 5,
    "start_time": "2023-04-16T16:05:43.262Z"
   },
   {
    "duration": 150,
    "start_time": "2023-04-16T16:05:43.270Z"
   },
   {
    "duration": 150,
    "start_time": "2023-04-16T16:05:43.422Z"
   },
   {
    "duration": 5,
    "start_time": "2023-04-16T16:05:43.574Z"
   },
   {
    "duration": 189,
    "start_time": "2023-04-16T16:05:43.580Z"
   },
   {
    "duration": 166,
    "start_time": "2023-04-16T16:05:43.771Z"
   },
   {
    "duration": 9,
    "start_time": "2023-04-16T16:05:43.939Z"
   },
   {
    "duration": 14,
    "start_time": "2023-04-16T16:05:43.950Z"
   },
   {
    "duration": 8,
    "start_time": "2023-04-16T16:05:43.966Z"
   },
   {
    "duration": 33,
    "start_time": "2023-04-16T16:05:43.975Z"
   },
   {
    "duration": 31,
    "start_time": "2023-04-16T16:05:44.010Z"
   },
   {
    "duration": 11,
    "start_time": "2023-04-16T16:06:28.732Z"
   },
   {
    "duration": 10,
    "start_time": "2023-04-16T16:06:45.194Z"
   },
   {
    "duration": 10,
    "start_time": "2023-04-16T16:06:47.249Z"
   },
   {
    "duration": 6,
    "start_time": "2023-04-16T16:06:58.555Z"
   },
   {
    "duration": 9,
    "start_time": "2023-04-16T16:07:14.516Z"
   },
   {
    "duration": 4,
    "start_time": "2023-04-16T16:15:41.500Z"
   },
   {
    "duration": 84,
    "start_time": "2023-04-16T16:16:40.307Z"
   },
   {
    "duration": 11,
    "start_time": "2023-04-16T16:16:44.612Z"
   },
   {
    "duration": 11,
    "start_time": "2023-04-16T16:16:50.699Z"
   },
   {
    "duration": 14,
    "start_time": "2023-04-16T16:17:00.751Z"
   },
   {
    "duration": 4,
    "start_time": "2023-04-16T16:17:06.301Z"
   },
   {
    "duration": 17,
    "start_time": "2023-04-16T16:17:12.602Z"
   },
   {
    "duration": 17,
    "start_time": "2023-04-16T16:25:22.348Z"
   },
   {
    "duration": 14,
    "start_time": "2023-04-16T16:25:36.642Z"
   },
   {
    "duration": 6,
    "start_time": "2023-04-16T16:25:45.256Z"
   },
   {
    "duration": 6,
    "start_time": "2023-04-16T16:25:59.255Z"
   },
   {
    "duration": 9,
    "start_time": "2023-04-16T16:26:18.715Z"
   },
   {
    "duration": 4,
    "start_time": "2023-04-16T16:29:56.252Z"
   },
   {
    "duration": 4,
    "start_time": "2023-04-16T16:30:21.232Z"
   },
   {
    "duration": 6,
    "start_time": "2023-04-16T16:30:33.331Z"
   },
   {
    "duration": 921,
    "start_time": "2023-04-16T16:42:13.398Z"
   },
   {
    "duration": 3,
    "start_time": "2023-04-16T16:42:20.775Z"
   },
   {
    "duration": 679,
    "start_time": "2023-04-16T16:42:49.308Z"
   },
   {
    "duration": 4,
    "start_time": "2023-04-16T16:42:55.499Z"
   },
   {
    "duration": 8,
    "start_time": "2023-04-16T16:43:30.518Z"
   },
   {
    "duration": 544,
    "start_time": "2023-04-16T16:43:42.327Z"
   },
   {
    "duration": 11,
    "start_time": "2023-04-16T16:43:49.913Z"
   },
   {
    "duration": 865,
    "start_time": "2023-04-16T16:44:08.079Z"
   },
   {
    "duration": 4,
    "start_time": "2023-04-16T16:44:09.624Z"
   },
   {
    "duration": 4,
    "start_time": "2023-04-16T16:44:20.879Z"
   },
   {
    "duration": 3,
    "start_time": "2023-04-16T16:45:18.276Z"
   },
   {
    "duration": 965,
    "start_time": "2023-04-16T16:45:30.437Z"
   },
   {
    "duration": 4,
    "start_time": "2023-04-16T16:45:31.404Z"
   },
   {
    "duration": 791,
    "start_time": "2023-04-16T16:45:32.134Z"
   },
   {
    "duration": 4,
    "start_time": "2023-04-16T16:45:32.926Z"
   },
   {
    "duration": 43,
    "start_time": "2023-04-16T16:45:38.914Z"
   },
   {
    "duration": 4,
    "start_time": "2023-04-16T16:45:40.896Z"
   },
   {
    "duration": 4,
    "start_time": "2023-04-16T16:45:52.702Z"
   },
   {
    "duration": 8,
    "start_time": "2023-04-16T16:46:09.974Z"
   },
   {
    "duration": 9,
    "start_time": "2023-04-16T16:46:18.583Z"
   },
   {
    "duration": 4,
    "start_time": "2023-04-16T16:46:21.822Z"
   },
   {
    "duration": 940,
    "start_time": "2023-04-16T16:48:35.863Z"
   },
   {
    "duration": 10,
    "start_time": "2023-04-16T16:48:43.738Z"
   },
   {
    "duration": 693,
    "start_time": "2023-04-16T16:49:12.927Z"
   },
   {
    "duration": 9,
    "start_time": "2023-04-16T16:49:17.918Z"
   },
   {
    "duration": 4,
    "start_time": "2023-04-16T16:50:32.989Z"
   },
   {
    "duration": 10,
    "start_time": "2023-04-16T16:51:04.434Z"
   },
   {
    "duration": 997,
    "start_time": "2023-04-16T16:51:40.759Z"
   },
   {
    "duration": 23,
    "start_time": "2023-04-16T16:51:41.758Z"
   },
   {
    "duration": 3,
    "start_time": "2023-04-16T16:51:41.782Z"
   },
   {
    "duration": 14,
    "start_time": "2023-04-16T16:51:41.787Z"
   },
   {
    "duration": 4,
    "start_time": "2023-04-16T16:51:41.802Z"
   },
   {
    "duration": 4,
    "start_time": "2023-04-16T16:51:41.807Z"
   },
   {
    "duration": 11,
    "start_time": "2023-04-16T16:51:41.812Z"
   },
   {
    "duration": 5,
    "start_time": "2023-04-16T16:51:41.824Z"
   },
   {
    "duration": 13,
    "start_time": "2023-04-16T16:51:41.830Z"
   },
   {
    "duration": 40,
    "start_time": "2023-04-16T16:51:41.845Z"
   },
   {
    "duration": 7,
    "start_time": "2023-04-16T16:51:41.886Z"
   },
   {
    "duration": 5,
    "start_time": "2023-04-16T16:51:41.895Z"
   },
   {
    "duration": 14,
    "start_time": "2023-04-16T16:51:41.901Z"
   },
   {
    "duration": 10,
    "start_time": "2023-04-16T16:51:41.917Z"
   },
   {
    "duration": 43,
    "start_time": "2023-04-16T16:51:41.929Z"
   },
   {
    "duration": 15,
    "start_time": "2023-04-16T16:51:41.974Z"
   },
   {
    "duration": 5,
    "start_time": "2023-04-16T16:51:41.990Z"
   },
   {
    "duration": 5,
    "start_time": "2023-04-16T16:51:41.996Z"
   },
   {
    "duration": 10,
    "start_time": "2023-04-16T16:51:42.003Z"
   },
   {
    "duration": 9,
    "start_time": "2023-04-16T16:51:42.015Z"
   },
   {
    "duration": 14,
    "start_time": "2023-04-16T16:51:42.025Z"
   },
   {
    "duration": 16,
    "start_time": "2023-04-16T16:51:42.040Z"
   },
   {
    "duration": 1009,
    "start_time": "2023-04-16T16:51:42.058Z"
   },
   {
    "duration": 593,
    "start_time": "2023-04-16T16:51:43.068Z"
   },
   {
    "duration": 9,
    "start_time": "2023-04-16T16:51:43.662Z"
   },
   {
    "duration": 257,
    "start_time": "2023-04-16T16:51:43.673Z"
   },
   {
    "duration": 265,
    "start_time": "2023-04-16T16:51:43.932Z"
   },
   {
    "duration": 203,
    "start_time": "2023-04-16T16:51:44.200Z"
   },
   {
    "duration": 7,
    "start_time": "2023-04-16T16:51:44.405Z"
   },
   {
    "duration": 303,
    "start_time": "2023-04-16T16:51:44.413Z"
   },
   {
    "duration": 211,
    "start_time": "2023-04-16T16:51:44.717Z"
   },
   {
    "duration": 323,
    "start_time": "2023-04-16T16:51:44.930Z"
   },
   {
    "duration": 148,
    "start_time": "2023-04-16T16:51:45.254Z"
   },
   {
    "duration": 5,
    "start_time": "2023-04-16T16:51:45.404Z"
   },
   {
    "duration": 157,
    "start_time": "2023-04-16T16:51:45.411Z"
   },
   {
    "duration": 140,
    "start_time": "2023-04-16T16:51:45.569Z"
   },
   {
    "duration": 5,
    "start_time": "2023-04-16T16:51:45.711Z"
   },
   {
    "duration": 277,
    "start_time": "2023-04-16T16:51:45.717Z"
   },
   {
    "duration": 141,
    "start_time": "2023-04-16T16:51:45.996Z"
   },
   {
    "duration": 9,
    "start_time": "2023-04-16T16:51:46.138Z"
   },
   {
    "duration": 10,
    "start_time": "2023-04-16T16:51:46.149Z"
   },
   {
    "duration": 10,
    "start_time": "2023-04-16T16:51:46.160Z"
   },
   {
    "duration": 28,
    "start_time": "2023-04-16T16:51:46.171Z"
   },
   {
    "duration": 12,
    "start_time": "2023-04-16T16:51:46.201Z"
   },
   {
    "duration": 47,
    "start_time": "2023-04-16T16:56:22.010Z"
   },
   {
    "duration": 3,
    "start_time": "2023-04-16T16:56:25.019Z"
   },
   {
    "duration": 10,
    "start_time": "2023-04-16T16:56:25.839Z"
   },
   {
    "duration": 7,
    "start_time": "2023-04-16T16:56:26.471Z"
   },
   {
    "duration": 15,
    "start_time": "2023-04-16T16:56:27.874Z"
   },
   {
    "duration": 7,
    "start_time": "2023-04-16T16:56:28.435Z"
   },
   {
    "duration": 5,
    "start_time": "2023-04-16T16:56:29.334Z"
   },
   {
    "duration": 5,
    "start_time": "2023-04-16T16:56:30.222Z"
   },
   {
    "duration": 12,
    "start_time": "2023-04-16T16:56:30.705Z"
   },
   {
    "duration": 12,
    "start_time": "2023-04-16T16:56:35.825Z"
   },
   {
    "duration": 5,
    "start_time": "2023-04-16T16:56:36.473Z"
   },
   {
    "duration": 10,
    "start_time": "2023-04-16T16:56:39.722Z"
   },
   {
    "duration": 784,
    "start_time": "2023-04-16T16:56:43.922Z"
   },
   {
    "duration": 10,
    "start_time": "2023-04-16T16:56:44.707Z"
   },
   {
    "duration": 3,
    "start_time": "2023-04-16T16:57:43.618Z"
   },
   {
    "duration": 25,
    "start_time": "2023-04-16T16:57:43.622Z"
   },
   {
    "duration": 3,
    "start_time": "2023-04-16T16:57:43.648Z"
   },
   {
    "duration": 10,
    "start_time": "2023-04-16T16:57:43.652Z"
   },
   {
    "duration": 4,
    "start_time": "2023-04-16T16:57:43.664Z"
   },
   {
    "duration": 5,
    "start_time": "2023-04-16T16:57:43.669Z"
   },
   {
    "duration": 10,
    "start_time": "2023-04-16T16:57:43.675Z"
   },
   {
    "duration": 5,
    "start_time": "2023-04-16T16:57:43.686Z"
   },
   {
    "duration": 9,
    "start_time": "2023-04-16T16:57:43.692Z"
   },
   {
    "duration": 42,
    "start_time": "2023-04-16T16:57:43.702Z"
   },
   {
    "duration": 7,
    "start_time": "2023-04-16T16:57:43.745Z"
   },
   {
    "duration": 4,
    "start_time": "2023-04-16T16:57:43.753Z"
   },
   {
    "duration": 9,
    "start_time": "2023-04-16T16:57:43.759Z"
   },
   {
    "duration": 7,
    "start_time": "2023-04-16T16:57:43.769Z"
   },
   {
    "duration": 9,
    "start_time": "2023-04-16T16:57:43.777Z"
   },
   {
    "duration": 5,
    "start_time": "2023-04-16T16:57:43.788Z"
   },
   {
    "duration": 4,
    "start_time": "2023-04-16T16:57:43.794Z"
   },
   {
    "duration": 6,
    "start_time": "2023-04-16T16:57:43.799Z"
   },
   {
    "duration": 34,
    "start_time": "2023-04-16T16:57:43.806Z"
   },
   {
    "duration": 8,
    "start_time": "2023-04-16T16:57:43.841Z"
   },
   {
    "duration": 9,
    "start_time": "2023-04-16T16:57:43.850Z"
   },
   {
    "duration": 813,
    "start_time": "2023-04-16T16:59:37.468Z"
   },
   {
    "duration": 4,
    "start_time": "2023-04-16T16:59:44.617Z"
   },
   {
    "duration": 7,
    "start_time": "2023-04-16T17:00:21.478Z"
   },
   {
    "duration": 8,
    "start_time": "2023-04-16T17:00:31.710Z"
   },
   {
    "duration": 9,
    "start_time": "2023-04-16T17:00:43.018Z"
   },
   {
    "duration": 13,
    "start_time": "2023-04-16T17:01:13.262Z"
   },
   {
    "duration": 34,
    "start_time": "2023-04-16T17:01:32.873Z"
   },
   {
    "duration": 55,
    "start_time": "2023-04-16T17:01:45.371Z"
   },
   {
    "duration": 13,
    "start_time": "2023-04-16T17:01:52.275Z"
   },
   {
    "duration": 11,
    "start_time": "2023-04-16T17:02:07.021Z"
   },
   {
    "duration": 11,
    "start_time": "2023-04-16T17:02:20.034Z"
   },
   {
    "duration": 12,
    "start_time": "2023-04-16T17:02:34.129Z"
   },
   {
    "duration": 12,
    "start_time": "2023-04-16T17:02:38.313Z"
   },
   {
    "duration": 1051,
    "start_time": "2023-04-16T17:04:31.675Z"
   },
   {
    "duration": 11,
    "start_time": "2023-04-16T17:04:36.731Z"
   },
   {
    "duration": 10,
    "start_time": "2023-04-16T17:04:47.477Z"
   },
   {
    "duration": 4,
    "start_time": "2023-04-16T17:04:48.921Z"
   },
   {
    "duration": 5,
    "start_time": "2023-04-16T17:05:36.938Z"
   },
   {
    "duration": 5,
    "start_time": "2023-04-16T17:05:43.908Z"
   },
   {
    "duration": 5,
    "start_time": "2023-04-16T17:05:51.644Z"
   },
   {
    "duration": 10,
    "start_time": "2023-04-16T17:07:08.947Z"
   },
   {
    "duration": 49,
    "start_time": "2023-04-16T17:08:40.918Z"
   },
   {
    "duration": 1177,
    "start_time": "2023-04-16T17:13:02.404Z"
   },
   {
    "duration": 23,
    "start_time": "2023-04-16T17:13:03.583Z"
   },
   {
    "duration": 3,
    "start_time": "2023-04-16T17:13:03.607Z"
   },
   {
    "duration": 15,
    "start_time": "2023-04-16T17:13:03.611Z"
   },
   {
    "duration": 10,
    "start_time": "2023-04-16T17:13:03.628Z"
   },
   {
    "duration": 11,
    "start_time": "2023-04-16T17:13:03.640Z"
   },
   {
    "duration": 15,
    "start_time": "2023-04-16T17:13:03.653Z"
   },
   {
    "duration": 7,
    "start_time": "2023-04-16T17:13:03.669Z"
   },
   {
    "duration": 21,
    "start_time": "2023-04-16T17:13:03.677Z"
   },
   {
    "duration": 46,
    "start_time": "2023-04-16T17:13:03.699Z"
   },
   {
    "duration": 8,
    "start_time": "2023-04-16T17:13:03.747Z"
   },
   {
    "duration": 9,
    "start_time": "2023-04-16T17:13:03.756Z"
   },
   {
    "duration": 20,
    "start_time": "2023-04-16T17:13:03.767Z"
   },
   {
    "duration": 11,
    "start_time": "2023-04-16T17:13:03.790Z"
   },
   {
    "duration": 14,
    "start_time": "2023-04-16T17:13:03.803Z"
   },
   {
    "duration": 14,
    "start_time": "2023-04-16T17:13:03.819Z"
   },
   {
    "duration": 6,
    "start_time": "2023-04-16T17:13:03.834Z"
   },
   {
    "duration": 10,
    "start_time": "2023-04-16T17:13:03.842Z"
   },
   {
    "duration": 20,
    "start_time": "2023-04-16T17:13:03.853Z"
   },
   {
    "duration": 11,
    "start_time": "2023-04-16T17:13:03.874Z"
   },
   {
    "duration": 7,
    "start_time": "2023-04-16T17:13:03.887Z"
   },
   {
    "duration": 14,
    "start_time": "2023-04-16T17:13:03.896Z"
   },
   {
    "duration": 978,
    "start_time": "2023-04-16T17:13:03.911Z"
   },
   {
    "duration": 7,
    "start_time": "2023-04-16T17:13:04.891Z"
   },
   {
    "duration": 11,
    "start_time": "2023-04-16T17:13:04.899Z"
   },
   {
    "duration": 15,
    "start_time": "2023-04-16T17:13:04.912Z"
   },
   {
    "duration": 375,
    "start_time": "2023-04-16T17:13:04.937Z"
   },
   {
    "duration": 388,
    "start_time": "2023-04-16T17:13:05.314Z"
   },
   {
    "duration": 301,
    "start_time": "2023-04-16T17:13:05.704Z"
   },
   {
    "duration": 7,
    "start_time": "2023-04-16T17:13:06.007Z"
   },
   {
    "duration": 343,
    "start_time": "2023-04-16T17:13:06.015Z"
   },
   {
    "duration": 237,
    "start_time": "2023-04-16T17:13:06.360Z"
   },
   {
    "duration": 404,
    "start_time": "2023-04-16T17:13:06.599Z"
   },
   {
    "duration": 221,
    "start_time": "2023-04-16T17:13:07.006Z"
   },
   {
    "duration": 9,
    "start_time": "2023-04-16T17:13:07.228Z"
   },
   {
    "duration": 150,
    "start_time": "2023-04-16T17:13:07.239Z"
   },
   {
    "duration": 147,
    "start_time": "2023-04-16T17:13:07.391Z"
   },
   {
    "duration": 5,
    "start_time": "2023-04-16T17:13:07.540Z"
   },
   {
    "duration": 266,
    "start_time": "2023-04-16T17:13:07.547Z"
   },
   {
    "duration": 161,
    "start_time": "2023-04-16T17:13:07.815Z"
   },
   {
    "duration": 9,
    "start_time": "2023-04-16T17:13:07.979Z"
   },
   {
    "duration": 9,
    "start_time": "2023-04-16T17:13:07.990Z"
   },
   {
    "duration": 28,
    "start_time": "2023-04-16T17:13:08.000Z"
   },
   {
    "duration": 21,
    "start_time": "2023-04-16T17:13:08.030Z"
   },
   {
    "duration": 12,
    "start_time": "2023-04-16T17:13:08.053Z"
   },
   {
    "duration": 5,
    "start_time": "2023-04-16T17:15:06.059Z"
   },
   {
    "duration": 159,
    "start_time": "2023-04-16T17:32:32.814Z"
   },
   {
    "duration": 126,
    "start_time": "2023-04-16T17:32:41.020Z"
   },
   {
    "duration": 141,
    "start_time": "2023-04-16T17:32:54.120Z"
   },
   {
    "duration": 10,
    "start_time": "2023-04-16T17:34:57.857Z"
   },
   {
    "duration": 18,
    "start_time": "2023-04-16T17:37:27.226Z"
   },
   {
    "duration": 14,
    "start_time": "2023-04-16T17:38:29.322Z"
   },
   {
    "duration": 1012,
    "start_time": "2023-04-16T18:11:52.437Z"
   },
   {
    "duration": 22,
    "start_time": "2023-04-16T18:11:53.450Z"
   },
   {
    "duration": 3,
    "start_time": "2023-04-16T18:11:53.473Z"
   },
   {
    "duration": 24,
    "start_time": "2023-04-16T18:11:53.477Z"
   },
   {
    "duration": 18,
    "start_time": "2023-04-16T18:11:53.502Z"
   },
   {
    "duration": 8,
    "start_time": "2023-04-16T18:11:53.521Z"
   },
   {
    "duration": 16,
    "start_time": "2023-04-16T18:11:53.530Z"
   },
   {
    "duration": 7,
    "start_time": "2023-04-16T18:11:53.547Z"
   },
   {
    "duration": 15,
    "start_time": "2023-04-16T18:11:53.556Z"
   },
   {
    "duration": 50,
    "start_time": "2023-04-16T18:11:53.573Z"
   },
   {
    "duration": 7,
    "start_time": "2023-04-16T18:11:53.624Z"
   },
   {
    "duration": 21,
    "start_time": "2023-04-16T18:11:53.632Z"
   },
   {
    "duration": 12,
    "start_time": "2023-04-16T18:11:53.654Z"
   },
   {
    "duration": 12,
    "start_time": "2023-04-16T18:11:53.667Z"
   },
   {
    "duration": 9,
    "start_time": "2023-04-16T18:11:53.680Z"
   },
   {
    "duration": 5,
    "start_time": "2023-04-16T18:11:53.690Z"
   },
   {
    "duration": 5,
    "start_time": "2023-04-16T18:11:53.697Z"
   },
   {
    "duration": 12,
    "start_time": "2023-04-16T18:11:53.703Z"
   },
   {
    "duration": 10,
    "start_time": "2023-04-16T18:11:53.716Z"
   },
   {
    "duration": 9,
    "start_time": "2023-04-16T18:11:53.727Z"
   },
   {
    "duration": 5,
    "start_time": "2023-04-16T18:11:53.737Z"
   },
   {
    "duration": 10,
    "start_time": "2023-04-16T18:11:53.743Z"
   },
   {
    "duration": 867,
    "start_time": "2023-04-16T18:11:53.754Z"
   },
   {
    "duration": 5,
    "start_time": "2023-04-16T18:11:54.622Z"
   },
   {
    "duration": 9,
    "start_time": "2023-04-16T18:11:54.628Z"
   },
   {
    "duration": 9,
    "start_time": "2023-04-16T18:11:54.638Z"
   },
   {
    "duration": 6,
    "start_time": "2023-04-16T18:11:54.648Z"
   },
   {
    "duration": 261,
    "start_time": "2023-04-16T18:11:54.657Z"
   },
   {
    "duration": 264,
    "start_time": "2023-04-16T18:11:54.920Z"
   },
   {
    "duration": 202,
    "start_time": "2023-04-16T18:11:55.186Z"
   },
   {
    "duration": 6,
    "start_time": "2023-04-16T18:11:55.390Z"
   },
   {
    "duration": 269,
    "start_time": "2023-04-16T18:11:55.397Z"
   },
   {
    "duration": 210,
    "start_time": "2023-04-16T18:11:55.668Z"
   },
   {
    "duration": 297,
    "start_time": "2023-04-16T18:11:55.880Z"
   },
   {
    "duration": 143,
    "start_time": "2023-04-16T18:11:56.178Z"
   },
   {
    "duration": 15,
    "start_time": "2023-04-16T18:11:56.322Z"
   },
   {
    "duration": 136,
    "start_time": "2023-04-16T18:11:56.338Z"
   },
   {
    "duration": 135,
    "start_time": "2023-04-16T18:11:56.475Z"
   },
   {
    "duration": 4,
    "start_time": "2023-04-16T18:11:56.612Z"
   },
   {
    "duration": 261,
    "start_time": "2023-04-16T18:11:56.618Z"
   },
   {
    "duration": 137,
    "start_time": "2023-04-16T18:11:56.881Z"
   },
   {
    "duration": 7,
    "start_time": "2023-04-16T18:11:57.020Z"
   },
   {
    "duration": 7,
    "start_time": "2023-04-16T18:11:57.035Z"
   },
   {
    "duration": 20,
    "start_time": "2023-04-16T18:11:57.044Z"
   },
   {
    "duration": 19,
    "start_time": "2023-04-16T18:11:57.066Z"
   },
   {
    "duration": 12,
    "start_time": "2023-04-16T18:11:57.087Z"
   },
   {
    "duration": 1177,
    "start_time": "2023-04-17T04:59:10.644Z"
   },
   {
    "duration": 23,
    "start_time": "2023-04-17T04:59:11.823Z"
   },
   {
    "duration": 3,
    "start_time": "2023-04-17T04:59:11.848Z"
   },
   {
    "duration": 27,
    "start_time": "2023-04-17T04:59:11.853Z"
   },
   {
    "duration": 6,
    "start_time": "2023-04-17T04:59:11.882Z"
   },
   {
    "duration": 4,
    "start_time": "2023-04-17T04:59:11.892Z"
   },
   {
    "duration": 16,
    "start_time": "2023-04-17T04:59:11.897Z"
   },
   {
    "duration": 7,
    "start_time": "2023-04-17T04:59:11.915Z"
   },
   {
    "duration": 13,
    "start_time": "2023-04-17T04:59:11.924Z"
   },
   {
    "duration": 55,
    "start_time": "2023-04-17T04:59:11.941Z"
   },
   {
    "duration": 8,
    "start_time": "2023-04-17T04:59:11.998Z"
   },
   {
    "duration": 10,
    "start_time": "2023-04-17T04:59:12.007Z"
   },
   {
    "duration": 14,
    "start_time": "2023-04-17T04:59:12.018Z"
   },
   {
    "duration": 8,
    "start_time": "2023-04-17T04:59:12.033Z"
   },
   {
    "duration": 12,
    "start_time": "2023-04-17T04:59:12.043Z"
   },
   {
    "duration": 22,
    "start_time": "2023-04-17T04:59:12.058Z"
   },
   {
    "duration": 5,
    "start_time": "2023-04-17T04:59:12.088Z"
   },
   {
    "duration": 18,
    "start_time": "2023-04-17T04:59:12.094Z"
   },
   {
    "duration": 20,
    "start_time": "2023-04-17T04:59:12.113Z"
   },
   {
    "duration": 16,
    "start_time": "2023-04-17T04:59:12.135Z"
   },
   {
    "duration": 18,
    "start_time": "2023-04-17T04:59:12.153Z"
   },
   {
    "duration": 23,
    "start_time": "2023-04-17T04:59:12.173Z"
   },
   {
    "duration": 1040,
    "start_time": "2023-04-17T04:59:12.197Z"
   },
   {
    "duration": 6,
    "start_time": "2023-04-17T04:59:13.238Z"
   },
   {
    "duration": 3,
    "start_time": "2023-04-17T04:59:13.256Z"
   },
   {
    "duration": 26,
    "start_time": "2023-04-17T04:59:13.268Z"
   },
   {
    "duration": 6,
    "start_time": "2023-04-17T04:59:13.296Z"
   },
   {
    "duration": 335,
    "start_time": "2023-04-17T04:59:13.308Z"
   },
   {
    "duration": 352,
    "start_time": "2023-04-17T04:59:13.645Z"
   },
   {
    "duration": 308,
    "start_time": "2023-04-17T04:59:13.999Z"
   },
   {
    "duration": 7,
    "start_time": "2023-04-17T04:59:14.309Z"
   },
   {
    "duration": 354,
    "start_time": "2023-04-17T04:59:14.318Z"
   },
   {
    "duration": 251,
    "start_time": "2023-04-17T04:59:14.674Z"
   },
   {
    "duration": 390,
    "start_time": "2023-04-17T04:59:14.927Z"
   },
   {
    "duration": 180,
    "start_time": "2023-04-17T04:59:15.318Z"
   },
   {
    "duration": 5,
    "start_time": "2023-04-17T04:59:15.500Z"
   },
   {
    "duration": 171,
    "start_time": "2023-04-17T04:59:15.507Z"
   },
   {
    "duration": 156,
    "start_time": "2023-04-17T04:59:15.679Z"
   },
   {
    "duration": 7,
    "start_time": "2023-04-17T04:59:15.837Z"
   },
   {
    "duration": 288,
    "start_time": "2023-04-17T04:59:15.863Z"
   },
   {
    "duration": 178,
    "start_time": "2023-04-17T04:59:16.152Z"
   },
   {
    "duration": 9,
    "start_time": "2023-04-17T04:59:16.332Z"
   },
   {
    "duration": 21,
    "start_time": "2023-04-17T04:59:16.364Z"
   },
   {
    "duration": 26,
    "start_time": "2023-04-17T04:59:16.387Z"
   },
   {
    "duration": 30,
    "start_time": "2023-04-17T04:59:16.415Z"
   },
   {
    "duration": 21,
    "start_time": "2023-04-17T04:59:16.447Z"
   },
   {
    "duration": 1139,
    "start_time": "2023-04-17T05:08:18.641Z"
   },
   {
    "duration": 23,
    "start_time": "2023-04-17T05:08:19.783Z"
   },
   {
    "duration": 3,
    "start_time": "2023-04-17T05:08:19.808Z"
   },
   {
    "duration": 31,
    "start_time": "2023-04-17T05:08:19.812Z"
   },
   {
    "duration": 6,
    "start_time": "2023-04-17T05:08:19.845Z"
   },
   {
    "duration": 5,
    "start_time": "2023-04-17T05:08:19.854Z"
   },
   {
    "duration": 18,
    "start_time": "2023-04-17T05:08:19.861Z"
   },
   {
    "duration": 6,
    "start_time": "2023-04-17T05:08:19.881Z"
   },
   {
    "duration": 31,
    "start_time": "2023-04-17T05:08:19.889Z"
   },
   {
    "duration": 58,
    "start_time": "2023-04-17T05:08:19.922Z"
   },
   {
    "duration": 9,
    "start_time": "2023-04-17T05:08:19.981Z"
   },
   {
    "duration": 22,
    "start_time": "2023-04-17T05:08:19.993Z"
   },
   {
    "duration": 34,
    "start_time": "2023-04-17T05:08:20.017Z"
   },
   {
    "duration": 26,
    "start_time": "2023-04-17T05:08:20.054Z"
   },
   {
    "duration": 14,
    "start_time": "2023-04-17T05:08:20.083Z"
   },
   {
    "duration": 26,
    "start_time": "2023-04-17T05:08:20.099Z"
   },
   {
    "duration": 6,
    "start_time": "2023-04-17T05:08:20.128Z"
   },
   {
    "duration": 10,
    "start_time": "2023-04-17T05:08:20.136Z"
   },
   {
    "duration": 26,
    "start_time": "2023-04-17T05:08:20.148Z"
   },
   {
    "duration": 11,
    "start_time": "2023-04-17T05:08:20.177Z"
   },
   {
    "duration": 19,
    "start_time": "2023-04-17T05:08:20.190Z"
   },
   {
    "duration": 24,
    "start_time": "2023-04-17T05:08:20.211Z"
   },
   {
    "duration": 1050,
    "start_time": "2023-04-17T05:08:20.237Z"
   },
   {
    "duration": 7,
    "start_time": "2023-04-17T05:08:21.289Z"
   },
   {
    "duration": 5,
    "start_time": "2023-04-17T05:08:21.298Z"
   },
   {
    "duration": 11,
    "start_time": "2023-04-17T05:08:21.305Z"
   },
   {
    "duration": 7,
    "start_time": "2023-04-17T05:08:21.318Z"
   },
   {
    "duration": 316,
    "start_time": "2023-04-17T05:08:21.326Z"
   },
   {
    "duration": 332,
    "start_time": "2023-04-17T05:08:21.643Z"
   },
   {
    "duration": 254,
    "start_time": "2023-04-17T05:08:21.977Z"
   },
   {
    "duration": 8,
    "start_time": "2023-04-17T05:08:22.234Z"
   },
   {
    "duration": 345,
    "start_time": "2023-04-17T05:08:22.244Z"
   },
   {
    "duration": 285,
    "start_time": "2023-04-17T05:08:22.591Z"
   },
   {
    "duration": 338,
    "start_time": "2023-04-17T05:08:22.878Z"
   },
   {
    "duration": 180,
    "start_time": "2023-04-17T05:08:23.218Z"
   },
   {
    "duration": 5,
    "start_time": "2023-04-17T05:08:23.399Z"
   },
   {
    "duration": 190,
    "start_time": "2023-04-17T05:08:23.406Z"
   },
   {
    "duration": 243,
    "start_time": "2023-04-17T05:08:23.598Z"
   },
   {
    "duration": 7,
    "start_time": "2023-04-17T05:08:23.843Z"
   },
   {
    "duration": 388,
    "start_time": "2023-04-17T05:08:23.858Z"
   },
   {
    "duration": 152,
    "start_time": "2023-04-17T05:08:24.249Z"
   },
   {
    "duration": 11,
    "start_time": "2023-04-17T05:08:24.403Z"
   },
   {
    "duration": 8,
    "start_time": "2023-04-17T05:08:24.416Z"
   },
   {
    "duration": 39,
    "start_time": "2023-04-17T05:08:24.427Z"
   },
   {
    "duration": 23,
    "start_time": "2023-04-17T05:08:24.469Z"
   },
   {
    "duration": 16,
    "start_time": "2023-04-17T05:08:24.493Z"
   },
   {
    "duration": 1390,
    "start_time": "2023-04-18T02:51:33.730Z"
   },
   {
    "duration": 66,
    "start_time": "2023-04-18T02:51:35.128Z"
   },
   {
    "duration": 20,
    "start_time": "2023-04-18T02:51:35.195Z"
   },
   {
    "duration": 31,
    "start_time": "2023-04-18T02:51:35.217Z"
   },
   {
    "duration": 62,
    "start_time": "2023-04-18T02:51:35.250Z"
   },
   {
    "duration": 6,
    "start_time": "2023-04-18T02:51:35.314Z"
   },
   {
    "duration": 66,
    "start_time": "2023-04-18T02:51:35.322Z"
   },
   {
    "duration": 25,
    "start_time": "2023-04-18T02:51:35.390Z"
   },
   {
    "duration": 13,
    "start_time": "2023-04-18T02:51:35.417Z"
   },
   {
    "duration": 151,
    "start_time": "2023-04-18T02:51:35.433Z"
   },
   {
    "duration": 11,
    "start_time": "2023-04-18T02:51:35.591Z"
   },
   {
    "duration": 15,
    "start_time": "2023-04-18T02:51:35.604Z"
   },
   {
    "duration": 22,
    "start_time": "2023-04-18T02:51:35.620Z"
   },
   {
    "duration": 56,
    "start_time": "2023-04-18T02:51:35.646Z"
   },
   {
    "duration": 17,
    "start_time": "2023-04-18T02:51:35.703Z"
   },
   {
    "duration": 8,
    "start_time": "2023-04-18T02:51:35.721Z"
   },
   {
    "duration": 24,
    "start_time": "2023-04-18T02:51:35.731Z"
   },
   {
    "duration": 17,
    "start_time": "2023-04-18T02:51:35.759Z"
   },
   {
    "duration": 39,
    "start_time": "2023-04-18T02:51:35.780Z"
   },
   {
    "duration": 24,
    "start_time": "2023-04-18T02:51:35.820Z"
   },
   {
    "duration": 55,
    "start_time": "2023-04-18T02:51:35.846Z"
   },
   {
    "duration": 17,
    "start_time": "2023-04-18T02:51:35.903Z"
   },
   {
    "duration": 1118,
    "start_time": "2023-04-18T02:51:35.922Z"
   },
   {
    "duration": 6,
    "start_time": "2023-04-18T02:51:37.046Z"
   },
   {
    "duration": 7,
    "start_time": "2023-04-18T02:51:37.057Z"
   },
   {
    "duration": 45,
    "start_time": "2023-04-18T02:51:37.066Z"
   },
   {
    "duration": 16,
    "start_time": "2023-04-18T02:51:37.112Z"
   },
   {
    "duration": 334,
    "start_time": "2023-04-18T02:51:37.131Z"
   },
   {
    "duration": 346,
    "start_time": "2023-04-18T02:51:37.468Z"
   },
   {
    "duration": 297,
    "start_time": "2023-04-18T02:51:37.816Z"
   },
   {
    "duration": 7,
    "start_time": "2023-04-18T02:51:38.114Z"
   },
   {
    "duration": 387,
    "start_time": "2023-04-18T02:51:38.122Z"
   },
   {
    "duration": 305,
    "start_time": "2023-04-18T02:51:38.511Z"
   },
   {
    "duration": 384,
    "start_time": "2023-04-18T02:51:38.817Z"
   },
   {
    "duration": 209,
    "start_time": "2023-04-18T02:51:39.204Z"
   },
   {
    "duration": 5,
    "start_time": "2023-04-18T02:51:39.414Z"
   },
   {
    "duration": 190,
    "start_time": "2023-04-18T02:51:39.421Z"
   },
   {
    "duration": 193,
    "start_time": "2023-04-18T02:51:39.614Z"
   },
   {
    "duration": 5,
    "start_time": "2023-04-18T02:51:39.809Z"
   },
   {
    "duration": 371,
    "start_time": "2023-04-18T02:51:39.816Z"
   },
   {
    "duration": 204,
    "start_time": "2023-04-18T02:51:40.188Z"
   },
   {
    "duration": 11,
    "start_time": "2023-04-18T02:51:40.399Z"
   },
   {
    "duration": 9,
    "start_time": "2023-04-18T02:51:40.411Z"
   },
   {
    "duration": 26,
    "start_time": "2023-04-18T02:51:40.421Z"
   },
   {
    "duration": 58,
    "start_time": "2023-04-18T02:51:40.462Z"
   },
   {
    "duration": 32,
    "start_time": "2023-04-18T02:51:40.523Z"
   },
   {
    "duration": 1271,
    "start_time": "2023-04-18T02:54:03.997Z"
   },
   {
    "duration": 44,
    "start_time": "2023-04-18T02:54:05.277Z"
   },
   {
    "duration": 9,
    "start_time": "2023-04-18T02:54:05.324Z"
   },
   {
    "duration": 75,
    "start_time": "2023-04-18T02:54:05.347Z"
   },
   {
    "duration": 6,
    "start_time": "2023-04-18T02:54:05.425Z"
   },
   {
    "duration": 67,
    "start_time": "2023-04-18T02:54:05.432Z"
   },
   {
    "duration": 23,
    "start_time": "2023-04-18T02:54:05.501Z"
   },
   {
    "duration": 5,
    "start_time": "2023-04-18T02:54:05.526Z"
   },
   {
    "duration": 68,
    "start_time": "2023-04-18T02:54:05.532Z"
   },
   {
    "duration": 83,
    "start_time": "2023-04-18T02:54:05.601Z"
   },
   {
    "duration": 9,
    "start_time": "2023-04-18T02:54:05.687Z"
   },
   {
    "duration": 11,
    "start_time": "2023-04-18T02:54:05.698Z"
   },
   {
    "duration": 16,
    "start_time": "2023-04-18T02:54:05.710Z"
   },
   {
    "duration": 75,
    "start_time": "2023-04-18T02:54:05.729Z"
   },
   {
    "duration": 14,
    "start_time": "2023-04-18T02:54:05.806Z"
   },
   {
    "duration": 8,
    "start_time": "2023-04-18T02:54:05.821Z"
   },
   {
    "duration": 16,
    "start_time": "2023-04-18T02:54:05.831Z"
   },
   {
    "duration": 54,
    "start_time": "2023-04-18T02:54:05.849Z"
   },
   {
    "duration": 20,
    "start_time": "2023-04-18T02:54:05.905Z"
   },
   {
    "duration": 14,
    "start_time": "2023-04-18T02:54:05.927Z"
   },
   {
    "duration": 57,
    "start_time": "2023-04-18T02:54:05.942Z"
   },
   {
    "duration": 14,
    "start_time": "2023-04-18T02:54:06.001Z"
   },
   {
    "duration": 1187,
    "start_time": "2023-04-18T02:54:06.016Z"
   },
   {
    "duration": 5,
    "start_time": "2023-04-18T02:54:07.205Z"
   },
   {
    "duration": 7,
    "start_time": "2023-04-18T02:54:07.212Z"
   },
   {
    "duration": 62,
    "start_time": "2023-04-18T02:54:07.236Z"
   },
   {
    "duration": 19,
    "start_time": "2023-04-18T02:54:07.300Z"
   },
   {
    "duration": 351,
    "start_time": "2023-04-18T02:54:07.321Z"
   },
   {
    "duration": 376,
    "start_time": "2023-04-18T02:54:07.673Z"
   },
   {
    "duration": 291,
    "start_time": "2023-04-18T02:54:08.051Z"
   },
   {
    "duration": 13,
    "start_time": "2023-04-18T02:54:08.350Z"
   },
   {
    "duration": 365,
    "start_time": "2023-04-18T02:54:08.365Z"
   },
   {
    "duration": 291,
    "start_time": "2023-04-18T02:54:08.732Z"
   },
   {
    "duration": 472,
    "start_time": "2023-04-18T02:54:09.024Z"
   },
   {
    "duration": 211,
    "start_time": "2023-04-18T02:54:09.498Z"
   },
   {
    "duration": 6,
    "start_time": "2023-04-18T02:54:09.711Z"
   },
   {
    "duration": 201,
    "start_time": "2023-04-18T02:54:09.719Z"
   },
   {
    "duration": 199,
    "start_time": "2023-04-18T02:54:09.922Z"
   },
   {
    "duration": 5,
    "start_time": "2023-04-18T02:54:10.123Z"
   },
   {
    "duration": 355,
    "start_time": "2023-04-18T02:54:10.130Z"
   },
   {
    "duration": 194,
    "start_time": "2023-04-18T02:54:10.489Z"
   },
   {
    "duration": 16,
    "start_time": "2023-04-18T02:54:10.684Z"
   },
   {
    "duration": 31,
    "start_time": "2023-04-18T02:54:10.702Z"
   },
   {
    "duration": 75,
    "start_time": "2023-04-18T02:54:10.745Z"
   },
   {
    "duration": 45,
    "start_time": "2023-04-18T02:54:10.822Z"
   },
   {
    "duration": 24,
    "start_time": "2023-04-18T02:54:10.869Z"
   }
  ],
  "kernelspec": {
   "display_name": "Python 3 (ipykernel)",
   "language": "python",
   "name": "python3"
  },
  "language_info": {
   "codemirror_mode": {
    "name": "ipython",
    "version": 3
   },
   "file_extension": ".py",
   "mimetype": "text/x-python",
   "name": "python",
   "nbconvert_exporter": "python",
   "pygments_lexer": "ipython3",
   "version": "3.9.5"
  },
  "toc": {
   "base_numbering": 1,
   "nav_menu": {},
   "number_sections": true,
   "sideBar": true,
   "skip_h1_title": true,
   "title_cell": "Table of Contents",
   "title_sidebar": "Contents",
   "toc_cell": false,
   "toc_position": {},
   "toc_section_display": true,
   "toc_window_display": false
  }
 },
 "nbformat": 4,
 "nbformat_minor": 5
}
