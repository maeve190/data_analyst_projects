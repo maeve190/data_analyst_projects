{
 "cells": [
  {
   "cell_type": "markdown",
   "metadata": {},
   "source": [
    "# Исследование объявлений о продаже квартир"
   ]
  },
  {
   "cell_type": "markdown",
   "metadata": {},
   "source": [
    "### Обзор данных. "
   ]
  },
  {
   "cell_type": "code",
   "execution_count": 1,
   "metadata": {},
   "outputs": [
    {
     "name": "stdout",
     "output_type": "stream",
     "text": [
      "<class 'pandas.core.frame.DataFrame'>\n",
      "RangeIndex: 23699 entries, 0 to 23698\n",
      "Data columns (total 22 columns):\n",
      " #   Column                Non-Null Count  Dtype  \n",
      "---  ------                --------------  -----  \n",
      " 0   total_images          23699 non-null  int64  \n",
      " 1   last_price            23699 non-null  float64\n",
      " 2   total_area            23699 non-null  float64\n",
      " 3   first_day_exposition  23699 non-null  object \n",
      " 4   rooms                 23699 non-null  int64  \n",
      " 5   ceiling_height        14504 non-null  float64\n",
      " 6   floors_total          23613 non-null  float64\n",
      " 7   living_area           21796 non-null  float64\n",
      " 8   floor                 23699 non-null  int64  \n",
      " 9   is_apartment          2775 non-null   object \n",
      " 10  studio                23699 non-null  bool   \n",
      " 11  open_plan             23699 non-null  bool   \n",
      " 12  kitchen_area          21421 non-null  float64\n",
      " 13  balcony               12180 non-null  float64\n",
      " 14  locality_name         23650 non-null  object \n",
      " 15  airports_nearest      18157 non-null  float64\n",
      " 16  cityCenters_nearest   18180 non-null  float64\n",
      " 17  parks_around3000      18181 non-null  float64\n",
      " 18  parks_nearest         8079 non-null   float64\n",
      " 19  ponds_around3000      18181 non-null  float64\n",
      " 20  ponds_nearest         9110 non-null   float64\n",
      " 21  days_exposition       20518 non-null  float64\n",
      "dtypes: bool(2), float64(14), int64(3), object(3)\n",
      "memory usage: 3.7+ MB\n"
     ]
    },
    {
     "data": {
      "text/html": [
       "<div>\n",
       "<style scoped>\n",
       "    .dataframe tbody tr th:only-of-type {\n",
       "        vertical-align: middle;\n",
       "    }\n",
       "\n",
       "    .dataframe tbody tr th {\n",
       "        vertical-align: top;\n",
       "    }\n",
       "\n",
       "    .dataframe thead th {\n",
       "        text-align: right;\n",
       "    }\n",
       "</style>\n",
       "<table border=\"1\" class=\"dataframe\">\n",
       "  <thead>\n",
       "    <tr style=\"text-align: right;\">\n",
       "      <th></th>\n",
       "      <th>total_images</th>\n",
       "      <th>last_price</th>\n",
       "      <th>total_area</th>\n",
       "      <th>first_day_exposition</th>\n",
       "      <th>rooms</th>\n",
       "      <th>ceiling_height</th>\n",
       "      <th>floors_total</th>\n",
       "      <th>living_area</th>\n",
       "      <th>floor</th>\n",
       "      <th>is_apartment</th>\n",
       "      <th>...</th>\n",
       "      <th>kitchen_area</th>\n",
       "      <th>balcony</th>\n",
       "      <th>locality_name</th>\n",
       "      <th>airports_nearest</th>\n",
       "      <th>cityCenters_nearest</th>\n",
       "      <th>parks_around3000</th>\n",
       "      <th>parks_nearest</th>\n",
       "      <th>ponds_around3000</th>\n",
       "      <th>ponds_nearest</th>\n",
       "      <th>days_exposition</th>\n",
       "    </tr>\n",
       "  </thead>\n",
       "  <tbody>\n",
       "    <tr>\n",
       "      <th>0</th>\n",
       "      <td>20</td>\n",
       "      <td>13000000.0</td>\n",
       "      <td>108.00</td>\n",
       "      <td>2019-03-07T00:00:00</td>\n",
       "      <td>3</td>\n",
       "      <td>2.70</td>\n",
       "      <td>16.0</td>\n",
       "      <td>51.00</td>\n",
       "      <td>8</td>\n",
       "      <td>NaN</td>\n",
       "      <td>...</td>\n",
       "      <td>25.00</td>\n",
       "      <td>NaN</td>\n",
       "      <td>Санкт-Петербург</td>\n",
       "      <td>18863.0</td>\n",
       "      <td>16028.0</td>\n",
       "      <td>1.0</td>\n",
       "      <td>482.0</td>\n",
       "      <td>2.0</td>\n",
       "      <td>755.0</td>\n",
       "      <td>NaN</td>\n",
       "    </tr>\n",
       "    <tr>\n",
       "      <th>1</th>\n",
       "      <td>7</td>\n",
       "      <td>3350000.0</td>\n",
       "      <td>40.40</td>\n",
       "      <td>2018-12-04T00:00:00</td>\n",
       "      <td>1</td>\n",
       "      <td>NaN</td>\n",
       "      <td>11.0</td>\n",
       "      <td>18.60</td>\n",
       "      <td>1</td>\n",
       "      <td>NaN</td>\n",
       "      <td>...</td>\n",
       "      <td>11.00</td>\n",
       "      <td>2.0</td>\n",
       "      <td>посёлок Шушары</td>\n",
       "      <td>12817.0</td>\n",
       "      <td>18603.0</td>\n",
       "      <td>0.0</td>\n",
       "      <td>NaN</td>\n",
       "      <td>0.0</td>\n",
       "      <td>NaN</td>\n",
       "      <td>81.0</td>\n",
       "    </tr>\n",
       "    <tr>\n",
       "      <th>2</th>\n",
       "      <td>10</td>\n",
       "      <td>5196000.0</td>\n",
       "      <td>56.00</td>\n",
       "      <td>2015-08-20T00:00:00</td>\n",
       "      <td>2</td>\n",
       "      <td>NaN</td>\n",
       "      <td>5.0</td>\n",
       "      <td>34.30</td>\n",
       "      <td>4</td>\n",
       "      <td>NaN</td>\n",
       "      <td>...</td>\n",
       "      <td>8.30</td>\n",
       "      <td>0.0</td>\n",
       "      <td>Санкт-Петербург</td>\n",
       "      <td>21741.0</td>\n",
       "      <td>13933.0</td>\n",
       "      <td>1.0</td>\n",
       "      <td>90.0</td>\n",
       "      <td>2.0</td>\n",
       "      <td>574.0</td>\n",
       "      <td>558.0</td>\n",
       "    </tr>\n",
       "    <tr>\n",
       "      <th>3</th>\n",
       "      <td>0</td>\n",
       "      <td>64900000.0</td>\n",
       "      <td>159.00</td>\n",
       "      <td>2015-07-24T00:00:00</td>\n",
       "      <td>3</td>\n",
       "      <td>NaN</td>\n",
       "      <td>14.0</td>\n",
       "      <td>NaN</td>\n",
       "      <td>9</td>\n",
       "      <td>NaN</td>\n",
       "      <td>...</td>\n",
       "      <td>NaN</td>\n",
       "      <td>0.0</td>\n",
       "      <td>Санкт-Петербург</td>\n",
       "      <td>28098.0</td>\n",
       "      <td>6800.0</td>\n",
       "      <td>2.0</td>\n",
       "      <td>84.0</td>\n",
       "      <td>3.0</td>\n",
       "      <td>234.0</td>\n",
       "      <td>424.0</td>\n",
       "    </tr>\n",
       "    <tr>\n",
       "      <th>4</th>\n",
       "      <td>2</td>\n",
       "      <td>10000000.0</td>\n",
       "      <td>100.00</td>\n",
       "      <td>2018-06-19T00:00:00</td>\n",
       "      <td>2</td>\n",
       "      <td>3.03</td>\n",
       "      <td>14.0</td>\n",
       "      <td>32.00</td>\n",
       "      <td>13</td>\n",
       "      <td>NaN</td>\n",
       "      <td>...</td>\n",
       "      <td>41.00</td>\n",
       "      <td>NaN</td>\n",
       "      <td>Санкт-Петербург</td>\n",
       "      <td>31856.0</td>\n",
       "      <td>8098.0</td>\n",
       "      <td>2.0</td>\n",
       "      <td>112.0</td>\n",
       "      <td>1.0</td>\n",
       "      <td>48.0</td>\n",
       "      <td>121.0</td>\n",
       "    </tr>\n",
       "    <tr>\n",
       "      <th>5</th>\n",
       "      <td>10</td>\n",
       "      <td>2890000.0</td>\n",
       "      <td>30.40</td>\n",
       "      <td>2018-09-10T00:00:00</td>\n",
       "      <td>1</td>\n",
       "      <td>NaN</td>\n",
       "      <td>12.0</td>\n",
       "      <td>14.40</td>\n",
       "      <td>5</td>\n",
       "      <td>NaN</td>\n",
       "      <td>...</td>\n",
       "      <td>9.10</td>\n",
       "      <td>NaN</td>\n",
       "      <td>городской посёлок Янино-1</td>\n",
       "      <td>NaN</td>\n",
       "      <td>NaN</td>\n",
       "      <td>NaN</td>\n",
       "      <td>NaN</td>\n",
       "      <td>NaN</td>\n",
       "      <td>NaN</td>\n",
       "      <td>55.0</td>\n",
       "    </tr>\n",
       "    <tr>\n",
       "      <th>6</th>\n",
       "      <td>6</td>\n",
       "      <td>3700000.0</td>\n",
       "      <td>37.30</td>\n",
       "      <td>2017-11-02T00:00:00</td>\n",
       "      <td>1</td>\n",
       "      <td>NaN</td>\n",
       "      <td>26.0</td>\n",
       "      <td>10.60</td>\n",
       "      <td>6</td>\n",
       "      <td>NaN</td>\n",
       "      <td>...</td>\n",
       "      <td>14.40</td>\n",
       "      <td>1.0</td>\n",
       "      <td>посёлок Парголово</td>\n",
       "      <td>52996.0</td>\n",
       "      <td>19143.0</td>\n",
       "      <td>0.0</td>\n",
       "      <td>NaN</td>\n",
       "      <td>0.0</td>\n",
       "      <td>NaN</td>\n",
       "      <td>155.0</td>\n",
       "    </tr>\n",
       "    <tr>\n",
       "      <th>7</th>\n",
       "      <td>5</td>\n",
       "      <td>7915000.0</td>\n",
       "      <td>71.60</td>\n",
       "      <td>2019-04-18T00:00:00</td>\n",
       "      <td>2</td>\n",
       "      <td>NaN</td>\n",
       "      <td>24.0</td>\n",
       "      <td>NaN</td>\n",
       "      <td>22</td>\n",
       "      <td>NaN</td>\n",
       "      <td>...</td>\n",
       "      <td>18.90</td>\n",
       "      <td>2.0</td>\n",
       "      <td>Санкт-Петербург</td>\n",
       "      <td>23982.0</td>\n",
       "      <td>11634.0</td>\n",
       "      <td>0.0</td>\n",
       "      <td>NaN</td>\n",
       "      <td>0.0</td>\n",
       "      <td>NaN</td>\n",
       "      <td>NaN</td>\n",
       "    </tr>\n",
       "    <tr>\n",
       "      <th>8</th>\n",
       "      <td>20</td>\n",
       "      <td>2900000.0</td>\n",
       "      <td>33.16</td>\n",
       "      <td>2018-05-23T00:00:00</td>\n",
       "      <td>1</td>\n",
       "      <td>NaN</td>\n",
       "      <td>27.0</td>\n",
       "      <td>15.43</td>\n",
       "      <td>26</td>\n",
       "      <td>NaN</td>\n",
       "      <td>...</td>\n",
       "      <td>8.81</td>\n",
       "      <td>NaN</td>\n",
       "      <td>посёлок Мурино</td>\n",
       "      <td>NaN</td>\n",
       "      <td>NaN</td>\n",
       "      <td>NaN</td>\n",
       "      <td>NaN</td>\n",
       "      <td>NaN</td>\n",
       "      <td>NaN</td>\n",
       "      <td>189.0</td>\n",
       "    </tr>\n",
       "    <tr>\n",
       "      <th>9</th>\n",
       "      <td>18</td>\n",
       "      <td>5400000.0</td>\n",
       "      <td>61.00</td>\n",
       "      <td>2017-02-26T00:00:00</td>\n",
       "      <td>3</td>\n",
       "      <td>2.50</td>\n",
       "      <td>9.0</td>\n",
       "      <td>43.60</td>\n",
       "      <td>7</td>\n",
       "      <td>NaN</td>\n",
       "      <td>...</td>\n",
       "      <td>6.50</td>\n",
       "      <td>2.0</td>\n",
       "      <td>Санкт-Петербург</td>\n",
       "      <td>50898.0</td>\n",
       "      <td>15008.0</td>\n",
       "      <td>0.0</td>\n",
       "      <td>NaN</td>\n",
       "      <td>0.0</td>\n",
       "      <td>NaN</td>\n",
       "      <td>289.0</td>\n",
       "    </tr>\n",
       "  </tbody>\n",
       "</table>\n",
       "<p>10 rows × 22 columns</p>\n",
       "</div>"
      ],
      "text/plain": [
       "   total_images  last_price  total_area first_day_exposition  rooms  \\\n",
       "0            20  13000000.0      108.00  2019-03-07T00:00:00      3   \n",
       "1             7   3350000.0       40.40  2018-12-04T00:00:00      1   \n",
       "2            10   5196000.0       56.00  2015-08-20T00:00:00      2   \n",
       "3             0  64900000.0      159.00  2015-07-24T00:00:00      3   \n",
       "4             2  10000000.0      100.00  2018-06-19T00:00:00      2   \n",
       "5            10   2890000.0       30.40  2018-09-10T00:00:00      1   \n",
       "6             6   3700000.0       37.30  2017-11-02T00:00:00      1   \n",
       "7             5   7915000.0       71.60  2019-04-18T00:00:00      2   \n",
       "8            20   2900000.0       33.16  2018-05-23T00:00:00      1   \n",
       "9            18   5400000.0       61.00  2017-02-26T00:00:00      3   \n",
       "\n",
       "   ceiling_height  floors_total  living_area  floor is_apartment  ...  \\\n",
       "0            2.70          16.0        51.00      8          NaN  ...   \n",
       "1             NaN          11.0        18.60      1          NaN  ...   \n",
       "2             NaN           5.0        34.30      4          NaN  ...   \n",
       "3             NaN          14.0          NaN      9          NaN  ...   \n",
       "4            3.03          14.0        32.00     13          NaN  ...   \n",
       "5             NaN          12.0        14.40      5          NaN  ...   \n",
       "6             NaN          26.0        10.60      6          NaN  ...   \n",
       "7             NaN          24.0          NaN     22          NaN  ...   \n",
       "8             NaN          27.0        15.43     26          NaN  ...   \n",
       "9            2.50           9.0        43.60      7          NaN  ...   \n",
       "\n",
       "   kitchen_area  balcony              locality_name  airports_nearest  \\\n",
       "0         25.00      NaN            Санкт-Петербург           18863.0   \n",
       "1         11.00      2.0             посёлок Шушары           12817.0   \n",
       "2          8.30      0.0            Санкт-Петербург           21741.0   \n",
       "3           NaN      0.0            Санкт-Петербург           28098.0   \n",
       "4         41.00      NaN            Санкт-Петербург           31856.0   \n",
       "5          9.10      NaN  городской посёлок Янино-1               NaN   \n",
       "6         14.40      1.0          посёлок Парголово           52996.0   \n",
       "7         18.90      2.0            Санкт-Петербург           23982.0   \n",
       "8          8.81      NaN             посёлок Мурино               NaN   \n",
       "9          6.50      2.0            Санкт-Петербург           50898.0   \n",
       "\n",
       "  cityCenters_nearest  parks_around3000  parks_nearest  ponds_around3000  \\\n",
       "0             16028.0               1.0          482.0               2.0   \n",
       "1             18603.0               0.0            NaN               0.0   \n",
       "2             13933.0               1.0           90.0               2.0   \n",
       "3              6800.0               2.0           84.0               3.0   \n",
       "4              8098.0               2.0          112.0               1.0   \n",
       "5                 NaN               NaN            NaN               NaN   \n",
       "6             19143.0               0.0            NaN               0.0   \n",
       "7             11634.0               0.0            NaN               0.0   \n",
       "8                 NaN               NaN            NaN               NaN   \n",
       "9             15008.0               0.0            NaN               0.0   \n",
       "\n",
       "   ponds_nearest  days_exposition  \n",
       "0          755.0              NaN  \n",
       "1            NaN             81.0  \n",
       "2          574.0            558.0  \n",
       "3          234.0            424.0  \n",
       "4           48.0            121.0  \n",
       "5            NaN             55.0  \n",
       "6            NaN            155.0  \n",
       "7            NaN              NaN  \n",
       "8            NaN            189.0  \n",
       "9            NaN            289.0  \n",
       "\n",
       "[10 rows x 22 columns]"
      ]
     },
     "execution_count": 1,
     "metadata": {},
     "output_type": "execute_result"
    }
   ],
   "source": [
    "import pandas as pd\n",
    "data = pd.read_csv('/datasets/real_estate_data.csv', delimiter='\\t')\n",
    "data.info()\n",
    "data.head(10)"
   ]
  },
  {
   "cell_type": "code",
   "execution_count": 2,
   "metadata": {},
   "outputs": [
    {
     "data": {
      "image/png": "[encoded data removed]",
      "text/plain": [
       "<Figure size 1080x1440 with 20 Axes>"
      ]
     },
     "metadata": {
      "needs_background": "light"
     },
     "output_type": "display_data"
    }
   ],
   "source": [
    "data.hist(figsize=(15, 20));"
   ]
  },
  {
   "cell_type": "markdown",
   "metadata": {},
   "source": [
    "### Предобработка данных"
   ]
  },
  {
   "cell_type": "code",
   "execution_count": 3,
   "metadata": {},
   "outputs": [
    {
     "data": {
      "text/plain": [
       "0"
      ]
     },
     "execution_count": 3,
     "metadata": {},
     "output_type": "execute_result"
    }
   ],
   "source": [
    "data.duplicated().sum()"
   ]
  },
  {
   "cell_type": "markdown",
   "metadata": {},
   "source": [
    "<div class=\"alert alert-block alert-success\">✔️\n",
    "    \n",
    "\n",
    "__Комментарий от ревьюера №2__\n",
    "\n",
    "Проверка на дубликаты - основа предобработки данных\n",
    "</div>"
   ]
  },
  {
   "cell_type": "markdown",
   "metadata": {},
   "source": [
    "Подсчитаем количество пропущенных значений"
   ]
  },
  {
   "cell_type": "code",
   "execution_count": 4,
   "metadata": {
    "scrolled": false
   },
   "outputs": [
    {
     "data": {
      "text/plain": [
       "total_images                0\n",
       "last_price                  0\n",
       "total_area                  0\n",
       "first_day_exposition        0\n",
       "rooms                       0\n",
       "ceiling_height           9195\n",
       "floors_total               86\n",
       "living_area              1903\n",
       "floor                       0\n",
       "is_apartment            20924\n",
       "studio                      0\n",
       "open_plan                   0\n",
       "kitchen_area             2278\n",
       "balcony                 11519\n",
       "locality_name              49\n",
       "airports_nearest         5542\n",
       "cityCenters_nearest      5519\n",
       "parks_around3000         5518\n",
       "parks_nearest           15620\n",
       "ponds_around3000         5518\n",
       "ponds_nearest           14589\n",
       "days_exposition          3181\n",
       "dtype: int64"
      ]
     },
     "execution_count": 4,
     "metadata": {},
     "output_type": "execute_result"
    }
   ],
   "source": [
    "data.isna().sum()"
   ]
  },
  {
   "cell_type": "markdown",
   "metadata": {},
   "source": [
    "**Заполняем пропуки в колонке с высотой потолков медианным значением по всему столбцу**"
   ]
  },
  {
   "cell_type": "code",
   "execution_count": 5,
   "metadata": {},
   "outputs": [
    {
     "name": "stdout",
     "output_type": "stream",
     "text": [
      "Пропусков: 0\n"
     ]
    }
   ],
   "source": [
    "data.loc[data['ceiling_height'].isna(), 'ceiling_height'] = data['ceiling_height'].median()\n",
    "print('Пропусков:', data['ceiling_height'].isna().sum())"
   ]
  },
  {
   "cell_type": "markdown",
   "metadata": {},
   "source": [
    "**Таким же образом заполняем пропуски в столбце 'floors_total'**"
   ]
  },
  {
   "cell_type": "code",
   "execution_count": 6,
   "metadata": {},
   "outputs": [
    {
     "name": "stdout",
     "output_type": "stream",
     "text": [
      "Пропусков: 0\n"
     ]
    }
   ],
   "source": [
    "data.loc[data['floors_total'].isna(), 'floors_total'] = data['floors_total'].median()\n",
    "print('Пропусков:', data['floors_total'].isna().sum())"
   ]
  },
  {
   "cell_type": "markdown",
   "metadata": {},
   "source": [
    "**Заполним пропуски в столбце 'living_area' через разницу total_area и kitchen_area там, где известа площадь кухни**"
   ]
  },
  {
   "cell_type": "code",
   "execution_count": 7,
   "metadata": {},
   "outputs": [
    {
     "name": "stdout",
     "output_type": "stream",
     "text": [
      "Пропусков до: 1903\n",
      "Пропусков после: 1464\n"
     ]
    }
   ],
   "source": [
    "print('Пропусков до:', data['living_area'].isna().sum())\n",
    "data.loc[data['living_area'].isna(), 'living_area'] = data['total_area'] - data['kitchen_area']\n",
    "print('Пропусков после:', data['living_area'].isna().sum())"
   ]
  },
  {
   "cell_type": "markdown",
   "metadata": {},
   "source": [
    "**Сделаем то же самое для пропущенных значений в столбце 'kitchen_area'**"
   ]
  },
  {
   "cell_type": "code",
   "execution_count": 8,
   "metadata": {},
   "outputs": [
    {
     "name": "stdout",
     "output_type": "stream",
     "text": [
      "Пропусков до: 2278\n",
      "Пропусков после: 1464\n"
     ]
    }
   ],
   "source": [
    "print('Пропусков до:', data['kitchen_area'].isna().sum())\n",
    "data.loc[data['kitchen_area'].isna(), 'kitchen_area'] = data['total_area'] - data['living_area']\n",
    "print('Пропусков после:', data['kitchen_area'].isna().sum())"
   ]
  },
  {
   "cell_type": "markdown",
   "metadata": {},
   "source": [
    "**Заполним остальные пропyщенные значения в столбцах с площадью кухни и жилой площадью**"
   ]
  },
  {
   "cell_type": "code",
   "execution_count": 9,
   "metadata": {},
   "outputs": [],
   "source": [
    "#Найдем отношение жилой площади к общей\n",
    "data['living_total_area_ratio'] = data['living_area'] / data['total_area']\n"
   ]
  },
  {
   "cell_type": "code",
   "execution_count": 10,
   "metadata": {},
   "outputs": [],
   "source": [
    "#Заполняем пропуски в 'living_total_area_ratio' медианными значениями для квартир, сгруппированных по количеству комнат\n",
    "for room in data['rooms'].unique():\n",
    "    data.loc[(data['living_total_area_ratio'].isna())&(data['rooms']==room), 'living_total_area_ratio'] = (\n",
    "    data.loc[data['rooms']==room, 'living_total_area_ratio'].median()   \n",
    "    )"
   ]
  },
  {
   "cell_type": "code",
   "execution_count": 11,
   "metadata": {},
   "outputs": [],
   "source": [
    "#Заполним оставшиеся пропуски в столбце 'living_area', умножив общую площадь на 'living_total_area_ratio'\n",
    "data.loc[data['living_area'].isna(), 'living_area'] = data['total_area'] * data['living_total_area_ratio']"
   ]
  },
  {
   "cell_type": "code",
   "execution_count": 12,
   "metadata": {},
   "outputs": [],
   "source": [
    "#Заполним оставшиеся пропуски в столбце 'kitcken_area' как разницу total_area и living_area\n",
    "data.loc[data['kitchen_area'].isna(), 'kitchen_area'] = data['total_area'] - data['living_area']"
   ]
  },
  {
   "cell_type": "markdown",
   "metadata": {},
   "source": [
    "**Заполним пропуски в столбце 'is_apartment' булевыми значениями 'False', т.к. пропуски в данном случае скорее всего говорят о том, что объект не является апартаментами**"
   ]
  },
  {
   "cell_type": "code",
   "execution_count": 13,
   "metadata": {},
   "outputs": [
    {
     "name": "stdout",
     "output_type": "stream",
     "text": [
      "Пропусков до: 20924\n",
      "Пропусков после: 0\n"
     ]
    }
   ],
   "source": [
    "print('Пропусков до:', data['is_apartment'].isna().sum())\n",
    "data.loc[data['is_apartment'].isna(), 'is_apartment'] = False\n",
    "print('Пропусков после:', data['is_apartment'].isna().sum())"
   ]
  },
  {
   "cell_type": "markdown",
   "metadata": {},
   "source": [
    "**Также заменим пропущенные значения в столбце 'balcony' на 0**"
   ]
  },
  {
   "cell_type": "code",
   "execution_count": 14,
   "metadata": {},
   "outputs": [
    {
     "name": "stdout",
     "output_type": "stream",
     "text": [
      "Пропусков до: 11519\n",
      "Пропусков после: 0\n"
     ]
    }
   ],
   "source": [
    "print('Пропусков до:', data['balcony'].isna().sum())\n",
    "data.loc[data['balcony'].isna(), 'balcony'] = 0\n",
    "print('Пропусков после:', data['balcony'].isna().sum())"
   ]
  },
  {
   "cell_type": "markdown",
   "metadata": {},
   "source": [
    "**Пропуски в колонке 'locality_name' заполним словом 'unknown', т.к. по имеющимся данным нельзя точно определить населенный пункт**"
   ]
  },
  {
   "cell_type": "code",
   "execution_count": 15,
   "metadata": {},
   "outputs": [
    {
     "name": "stdout",
     "output_type": "stream",
     "text": [
      "Пропуски до: 49\n",
      "Пропуски после: 0\n"
     ]
    }
   ],
   "source": [
    "print('Пропуски до:',data['locality_name'].isna().sum())\n",
    "data.loc[data['locality_name'].isna(), 'locality_name'] = 'unknown'\n",
    "print('Пропуски после:', data['locality_name'].isna().sum())"
   ]
  },
  {
   "cell_type": "markdown",
   "metadata": {},
   "source": [
    "**Заполним пропуски в колонке 'cityCenters_nearest' медианными значениями с группировкой по населенному пункту**"
   ]
  },
  {
   "cell_type": "code",
   "execution_count": 16,
   "metadata": {},
   "outputs": [
    {
     "name": "stdout",
     "output_type": "stream",
     "text": [
      "Пропуски до: 5519\n",
      "Пропуски после: 5386\n"
     ]
    }
   ],
   "source": [
    "print('Пропуски до:',data['cityCenters_nearest'].isna().sum())\n",
    "for locality in data['locality_name'].unique():\n",
    "    data.loc[(data['cityCenters_nearest'].isna())&(data['locality_name'] == locality), 'cityCenters_nearest'] = (\n",
    "        data.loc[(data['locality_name'] == locality)&(~data['cityCenters_nearest'].isna()), 'cityCenters_nearest'].median()\n",
    "        )\n",
    "print('Пропуски после:',data['cityCenters_nearest'].isna().sum())"
   ]
  },
  {
   "cell_type": "markdown",
   "metadata": {},
   "source": [
    "**Большая часть пропусков осталась, заполним их медианным значением по всему столбцу**"
   ]
  },
  {
   "cell_type": "code",
   "execution_count": 17,
   "metadata": {},
   "outputs": [
    {
     "name": "stdout",
     "output_type": "stream",
     "text": [
      "Пропуски до: 5386\n",
      "Пропуски после: 0\n"
     ]
    }
   ],
   "source": [
    "print('Пропуски до:',data['cityCenters_nearest'].isna().sum())\n",
    "data.loc[data['cityCenters_nearest'].isna(), 'cityCenters_nearest'] = data['cityCenters_nearest'].median()\n",
    "print('Пропуски после:',data['cityCenters_nearest'].isna().sum())"
   ]
  },
  {
   "cell_type": "markdown",
   "metadata": {},
   "source": [
    "**Пропущенные значения в колонке 'days_exposition' скорее всего говорят о том, что объявление не снято с публикации, оставим пропуски.**\n",
    "\n",
    "**Также не будем заполнять пропуски в колонках 'parks_around3000', 'parks_nearest', 'ponds_around3000', 'ponds_nearest', т.к. эта информация не важна для исследования.**   "
   ]
  },
  {
   "cell_type": "markdown",
   "metadata": {},
   "source": [
    "**Посмотрим на количество пропусков после заполнения**"
   ]
  },
  {
   "cell_type": "code",
   "execution_count": 18,
   "metadata": {},
   "outputs": [
    {
     "data": {
      "text/plain": [
       "total_images                   0\n",
       "last_price                     0\n",
       "total_area                     0\n",
       "first_day_exposition           0\n",
       "rooms                          0\n",
       "ceiling_height                 0\n",
       "floors_total                   0\n",
       "living_area                    0\n",
       "floor                          0\n",
       "is_apartment                   0\n",
       "studio                         0\n",
       "open_plan                      0\n",
       "kitchen_area                   0\n",
       "balcony                        0\n",
       "locality_name                  0\n",
       "airports_nearest            5542\n",
       "cityCenters_nearest            0\n",
       "parks_around3000            5518\n",
       "parks_nearest              15620\n",
       "ponds_around3000            5518\n",
       "ponds_nearest              14589\n",
       "days_exposition             3181\n",
       "living_total_area_ratio        0\n",
       "dtype: int64"
      ]
     },
     "execution_count": 18,
     "metadata": {},
     "output_type": "execute_result"
    }
   ],
   "source": [
    "data.isna().sum()"
   ]
  },
  {
   "cell_type": "markdown",
   "metadata": {},
   "source": [
    "**Изменим тип данных столбца 'first_day_exposition' на datetime64, т.к. здесь указывается дата**"
   ]
  },
  {
   "cell_type": "code",
   "execution_count": 19,
   "metadata": {},
   "outputs": [],
   "source": [
    "data['first_day_exposition'] = pd.to_datetime(data['first_day_exposition'], format = '%Y-%m-%dT%H:%M:%S')"
   ]
  },
  {
   "cell_type": "markdown",
   "metadata": {},
   "source": [
    "**Изменим тип данных столбца 'floors_total' на целочисленный, т.к. количество этажей во всех домах целое**"
   ]
  },
  {
   "cell_type": "code",
   "execution_count": 20,
   "metadata": {},
   "outputs": [],
   "source": [
    "data['floors_total'] = data['floors_total'].astype('int') "
   ]
  },
  {
   "cell_type": "markdown",
   "metadata": {},
   "source": [
    "**Изменим тип данных столбца 'is_apartment' на булевый, т.к. все значения в нем соответствуют значениям True/False**"
   ]
  },
  {
   "cell_type": "code",
   "execution_count": 21,
   "metadata": {},
   "outputs": [],
   "source": [
    "data['is_apartment'] = data['is_apartment'].astype('bool') "
   ]
  },
  {
   "cell_type": "markdown",
   "metadata": {},
   "source": [
    "**Изменим тип данных столбца 'balcony' на целочисленный, т.к. количество балконов - целое число**"
   ]
  },
  {
   "cell_type": "code",
   "execution_count": 22,
   "metadata": {},
   "outputs": [],
   "source": [
    "data['balcony'] = data['balcony'].astype('int') "
   ]
  },
  {
   "cell_type": "markdown",
   "metadata": {},
   "source": [
    "**Изменить тип столбца 'days_exposition' не получится, т.к. у нас остались пропущенные значения в нем**"
   ]
  },
  {
   "cell_type": "code",
   "execution_count": 23,
   "metadata": {},
   "outputs": [],
   "source": [
    "data['last_price'] = data['last_price'].astype('int')"
   ]
  },
  {
   "cell_type": "markdown",
   "metadata": {},
   "source": [
    "**Удалим неявные дубликаты в столбце 'locality_name', оставим только названия населенного пункта, без их типов**"
   ]
  },
  {
   "cell_type": "code",
   "execution_count": 24,
   "metadata": {},
   "outputs": [
    {
     "data": {
      "text/plain": [
       "365"
      ]
     },
     "execution_count": 24,
     "metadata": {},
     "output_type": "execute_result"
    }
   ],
   "source": [
    "len(data['locality_name'].unique()) #Проверим количество населенных пунктов "
   ]
  },
  {
   "cell_type": "code",
   "execution_count": 25,
   "metadata": {
    "scrolled": true
   },
   "outputs": [
    {
     "data": {
      "text/plain": [
       "310"
      ]
     },
     "execution_count": 25,
     "metadata": {},
     "output_type": "execute_result"
    }
   ],
   "source": [
    "#Создаем список с ненужными словами в названии населенных пунктов\n",
    "unnecessary_words = ['поселок','посёлок ', 'городского типа', 'городской', 'деревня', 'село', 'товарищество', 'садовое', 'садоводческое некоммерческое', 'при железнодорожной станции']\n",
    "#Удаляем ненужные слова\n",
    "for word in unnecessary_words:\n",
    "    data['locality_name'] = data['locality_name'].str.replace(word, '').str.strip()\n",
    "len(data['locality_name'].unique()) #Выводим количество населенных пунтов после удаления лишних слов "
   ]
  },
  {
   "cell_type": "markdown",
   "metadata": {},
   "source": [
    "**В столбце 'ceiling_height' есть двузначные значения, например, 27 метров, скорее всего это 2.7 метра, поделим все значения выше 20 метров на 10**  "
   ]
  },
  {
   "cell_type": "code",
   "execution_count": 26,
   "metadata": {
    "scrolled": true
   },
   "outputs": [
    {
     "data": {
      "text/plain": [
       "array([  2.7 ,   2.65,   3.03,   2.5 ,   2.67,   2.56,   3.05,   2.75,\n",
       "         2.6 ,   2.9 ,   2.8 ,   2.55,   3.  ,   3.2 ,   2.61,   3.25,\n",
       "         3.45,   2.77,   2.85,   2.64,   2.57,   4.15,   3.5 ,   3.3 ,\n",
       "         2.71,   4.  ,   2.47,   2.73,   2.84,   3.1 ,   2.34,   3.4 ,\n",
       "         3.06,   2.72,   2.54,   2.51,   2.78,   2.76,  25.  ,   2.58,\n",
       "         3.7 ,   2.52,   5.2 ,   2.87,   2.66,   2.59,   2.  ,   2.45,\n",
       "         3.6 ,   2.92,   3.11,   3.13,   3.8 ,   3.15,   3.55,   3.16,\n",
       "         3.62,   3.12,   2.53,   2.74,   2.96,   2.46,   5.3 ,   5.  ,\n",
       "         2.79,   2.95,   4.06,   2.94,   3.82,   3.54,   3.53,   2.83,\n",
       "         4.7 ,   2.4 ,   3.38,   3.01,   5.6 ,   3.65,   3.9 ,   3.18,\n",
       "         3.35,   2.3 ,   3.57,   2.48,   2.62,   2.82,   3.98,   2.63,\n",
       "         3.83,   3.52,   3.95,   3.75,   2.88,   3.67,   3.87,   3.66,\n",
       "         3.85,   3.86,   4.19,   3.24,   4.8 ,   4.5 ,   4.2 ,   3.36,\n",
       "        32.  ,   3.08,   3.68,   3.07,   3.37,   3.09,   8.  ,   3.26,\n",
       "         3.34,   2.81,   3.44,   2.97,   3.14,   4.37,   2.68,   3.22,\n",
       "         3.27,  27.  ,   4.1 ,   2.93,   3.46,  24.  ,   3.47,   3.33,\n",
       "         3.63,   3.32,  26.  ,   1.2 ,   8.3 ,   2.98,   2.86,   3.17,\n",
       "         4.4 ,   3.28,   3.04,   4.45,   5.5 ,   3.84,   3.23,   3.02,\n",
       "         3.21,   3.43,   3.78,   4.3 ,   3.39,   2.69,   3.31,   4.65,\n",
       "         3.56,   2.2 ,   3.51,   3.93,   3.42,   2.99,   3.49,  14.  ,\n",
       "         4.14,   2.91,   3.88,   1.75,   4.25,   3.29,  20.  ,   2.25,\n",
       "         3.76,   3.69,   6.  ,  22.6 ,   2.89,   3.58,   5.8 ,  27.5 ,\n",
       "         2.49,   4.9 ,   3.48,  10.3 ,   1.  , 100.  ,   3.59])"
      ]
     },
     "execution_count": 26,
     "metadata": {},
     "output_type": "execute_result"
    }
   ],
   "source": [
    "data['ceiling_height'].unique()"
   ]
  },
  {
   "cell_type": "code",
   "execution_count": 27,
   "metadata": {},
   "outputs": [],
   "source": [
    "data.loc[data['ceiling_height']>20, 'ceiling_height'] = data.loc[data['ceiling_height'] > 20, 'ceiling_height'] / 10 "
   ]
  },
  {
   "cell_type": "markdown",
   "metadata": {},
   "source": [
    "**Остались еще аномальные значения, изучим графики**"
   ]
  },
  {
   "cell_type": "code",
   "execution_count": 28,
   "metadata": {},
   "outputs": [
    {
     "data": {
      "image/png": "[encoded data removed]",
      "text/plain": [
       "<Figure size 432x288 with 1 Axes>"
      ]
     },
     "metadata": {
      "needs_background": "light"
     },
     "output_type": "display_data"
    }
   ],
   "source": [
    "import matplotlib.pyplot as plt \n",
    "plt.ylim(1,4)\n",
    "data.boxplot('ceiling_height');"
   ]
  },
  {
   "cell_type": "markdown",
   "metadata": {},
   "source": [
    "**По диаграмме размаха выбросы - значения ниже 2.45 и выше 2.85, но если значений ниже 2.45 немного, то значений выше 2.85 достаточно много, посмотрим на гистограмму**"
   ]
  },
  {
   "cell_type": "code",
   "execution_count": 29,
   "metadata": {},
   "outputs": [
    {
     "data": {
      "image/png": "[encoded data removed]",
      "text/plain": [
       "<Figure size 432x288 with 1 Axes>"
      ]
     },
     "metadata": {
      "needs_background": "light"
     },
     "output_type": "display_data"
    }
   ],
   "source": [
    "data.hist('ceiling_height', bins = 20, range = (2,4));"
   ]
  },
  {
   "cell_type": "code",
   "execution_count": 30,
   "metadata": {},
   "outputs": [
    {
     "data": {
      "image/png": "[encoded data removed]",
      "text/plain": [
       "<Figure size 432x288 with 1 Axes>"
      ]
     },
     "metadata": {
      "needs_background": "light"
     },
     "output_type": "display_data"
    }
   ],
   "source": [
    "data.hist('ceiling_height', bins = 10, range = (3,4));"
   ]
  },
  {
   "cell_type": "markdown",
   "metadata": {},
   "source": [
    "**По гистограммам видно, что значений выше 3.1 не так много, так что их можно удалить, также логично, что высота потолков в домах 2.85-3.1 метра не так редко встречается и принимать их за аномальные значения будет ошибкой, поэтому удаляем строки, где высота потолков ниже 2.5 метров и выше 3.1 метра**"
   ]
  },
  {
   "cell_type": "code",
   "execution_count": 31,
   "metadata": {},
   "outputs": [],
   "source": [
    "data = data.loc[data['ceiling_height'] <= 3.1]\n",
    "data = data.loc[data['ceiling_height'] >= 2.5]"
   ]
  },
  {
   "cell_type": "markdown",
   "metadata": {},
   "source": [
    "**Изучим диаграмму размаха для цен на квартиры**"
   ]
  },
  {
   "cell_type": "code",
   "execution_count": 32,
   "metadata": {},
   "outputs": [
    {
     "data": {
      "image/png": "[encoded data removed]",
      "text/plain": [
       "<Figure size 432x288 with 1 Axes>"
      ]
     },
     "metadata": {
      "needs_background": "light"
     },
     "output_type": "display_data"
    }
   ],
   "source": [
    "plt.ylim(-1000000,30000000)\n",
    "data.boxplot('last_price');"
   ]
  },
  {
   "cell_type": "markdown",
   "metadata": {},
   "source": [
    "**Все квартиры, стоящие дороже 11000000 являются выбросами, необходимо удалить их, посмотрим на их количество**"
   ]
  },
  {
   "cell_type": "code",
   "execution_count": 33,
   "metadata": {},
   "outputs": [
    {
     "data": {
      "text/plain": [
       "1763"
      ]
     },
     "execution_count": 33,
     "metadata": {},
     "output_type": "execute_result"
    }
   ],
   "source": [
    "len(data.query('last_price>11000000'))"
   ]
  },
  {
   "cell_type": "markdown",
   "metadata": {},
   "source": [
    "**1763 квартиры на фоне их общего количества не так много, поэтому можем их удалить**"
   ]
  },
  {
   "cell_type": "markdown",
   "metadata": {},
   "source": [
    "**Посмотрим на самые дешевые квартиры** "
   ]
  },
  {
   "cell_type": "code",
   "execution_count": 34,
   "metadata": {
    "scrolled": false
   },
   "outputs": [
    {
     "data": {
      "text/html": [
       "<div>\n",
       "<style scoped>\n",
       "    .dataframe tbody tr th:only-of-type {\n",
       "        vertical-align: middle;\n",
       "    }\n",
       "\n",
       "    .dataframe tbody tr th {\n",
       "        vertical-align: top;\n",
       "    }\n",
       "\n",
       "    .dataframe thead th {\n",
       "        text-align: right;\n",
       "    }\n",
       "</style>\n",
       "<table border=\"1\" class=\"dataframe\">\n",
       "  <thead>\n",
       "    <tr style=\"text-align: right;\">\n",
       "      <th></th>\n",
       "      <th>total_images</th>\n",
       "      <th>last_price</th>\n",
       "      <th>total_area</th>\n",
       "      <th>first_day_exposition</th>\n",
       "      <th>rooms</th>\n",
       "      <th>ceiling_height</th>\n",
       "      <th>floors_total</th>\n",
       "      <th>living_area</th>\n",
       "      <th>floor</th>\n",
       "      <th>is_apartment</th>\n",
       "      <th>...</th>\n",
       "      <th>balcony</th>\n",
       "      <th>locality_name</th>\n",
       "      <th>airports_nearest</th>\n",
       "      <th>cityCenters_nearest</th>\n",
       "      <th>parks_around3000</th>\n",
       "      <th>parks_nearest</th>\n",
       "      <th>ponds_around3000</th>\n",
       "      <th>ponds_nearest</th>\n",
       "      <th>days_exposition</th>\n",
       "      <th>living_total_area_ratio</th>\n",
       "    </tr>\n",
       "  </thead>\n",
       "  <tbody>\n",
       "    <tr>\n",
       "      <th>8793</th>\n",
       "      <td>7</td>\n",
       "      <td>12190</td>\n",
       "      <td>109.0</td>\n",
       "      <td>2019-03-20</td>\n",
       "      <td>2</td>\n",
       "      <td>2.75</td>\n",
       "      <td>25</td>\n",
       "      <td>32.000000</td>\n",
       "      <td>25</td>\n",
       "      <td>False</td>\n",
       "      <td>...</td>\n",
       "      <td>0</td>\n",
       "      <td>Санкт-Петербург</td>\n",
       "      <td>36421.0</td>\n",
       "      <td>9176.0</td>\n",
       "      <td>1.0</td>\n",
       "      <td>805.0</td>\n",
       "      <td>0.0</td>\n",
       "      <td>NaN</td>\n",
       "      <td>8.0</td>\n",
       "      <td>0.293578</td>\n",
       "    </tr>\n",
       "    <tr>\n",
       "      <th>17456</th>\n",
       "      <td>7</td>\n",
       "      <td>430000</td>\n",
       "      <td>30.4</td>\n",
       "      <td>2019-04-22</td>\n",
       "      <td>1</td>\n",
       "      <td>2.65</td>\n",
       "      <td>2</td>\n",
       "      <td>16.000000</td>\n",
       "      <td>1</td>\n",
       "      <td>False</td>\n",
       "      <td>...</td>\n",
       "      <td>0</td>\n",
       "      <td>Сланцы</td>\n",
       "      <td>NaN</td>\n",
       "      <td>13095.0</td>\n",
       "      <td>NaN</td>\n",
       "      <td>NaN</td>\n",
       "      <td>NaN</td>\n",
       "      <td>NaN</td>\n",
       "      <td>NaN</td>\n",
       "      <td>0.526316</td>\n",
       "    </tr>\n",
       "    <tr>\n",
       "      <th>14911</th>\n",
       "      <td>5</td>\n",
       "      <td>430000</td>\n",
       "      <td>54.0</td>\n",
       "      <td>2018-06-26</td>\n",
       "      <td>2</td>\n",
       "      <td>2.65</td>\n",
       "      <td>3</td>\n",
       "      <td>31.701975</td>\n",
       "      <td>3</td>\n",
       "      <td>False</td>\n",
       "      <td>...</td>\n",
       "      <td>0</td>\n",
       "      <td>станции Свирь</td>\n",
       "      <td>NaN</td>\n",
       "      <td>13095.0</td>\n",
       "      <td>NaN</td>\n",
       "      <td>NaN</td>\n",
       "      <td>NaN</td>\n",
       "      <td>NaN</td>\n",
       "      <td>44.0</td>\n",
       "      <td>0.587074</td>\n",
       "    </tr>\n",
       "    <tr>\n",
       "      <th>16274</th>\n",
       "      <td>18</td>\n",
       "      <td>440000</td>\n",
       "      <td>40.0</td>\n",
       "      <td>2018-07-10</td>\n",
       "      <td>1</td>\n",
       "      <td>2.65</td>\n",
       "      <td>5</td>\n",
       "      <td>19.390863</td>\n",
       "      <td>1</td>\n",
       "      <td>False</td>\n",
       "      <td>...</td>\n",
       "      <td>0</td>\n",
       "      <td>Старополье</td>\n",
       "      <td>NaN</td>\n",
       "      <td>13095.0</td>\n",
       "      <td>NaN</td>\n",
       "      <td>NaN</td>\n",
       "      <td>NaN</td>\n",
       "      <td>NaN</td>\n",
       "      <td>45.0</td>\n",
       "      <td>0.484772</td>\n",
       "    </tr>\n",
       "    <tr>\n",
       "      <th>9581</th>\n",
       "      <td>7</td>\n",
       "      <td>450000</td>\n",
       "      <td>43.4</td>\n",
       "      <td>2018-08-31</td>\n",
       "      <td>2</td>\n",
       "      <td>2.65</td>\n",
       "      <td>5</td>\n",
       "      <td>30.300000</td>\n",
       "      <td>3</td>\n",
       "      <td>False</td>\n",
       "      <td>...</td>\n",
       "      <td>0</td>\n",
       "      <td>Старополье</td>\n",
       "      <td>NaN</td>\n",
       "      <td>13095.0</td>\n",
       "      <td>NaN</td>\n",
       "      <td>NaN</td>\n",
       "      <td>NaN</td>\n",
       "      <td>NaN</td>\n",
       "      <td>96.0</td>\n",
       "      <td>0.698157</td>\n",
       "    </tr>\n",
       "    <tr>\n",
       "      <th>5698</th>\n",
       "      <td>7</td>\n",
       "      <td>450000</td>\n",
       "      <td>42.0</td>\n",
       "      <td>2017-07-31</td>\n",
       "      <td>2</td>\n",
       "      <td>2.65</td>\n",
       "      <td>1</td>\n",
       "      <td>23.000000</td>\n",
       "      <td>1</td>\n",
       "      <td>False</td>\n",
       "      <td>...</td>\n",
       "      <td>0</td>\n",
       "      <td>Будогощь</td>\n",
       "      <td>NaN</td>\n",
       "      <td>13095.0</td>\n",
       "      <td>NaN</td>\n",
       "      <td>NaN</td>\n",
       "      <td>NaN</td>\n",
       "      <td>NaN</td>\n",
       "      <td>233.0</td>\n",
       "      <td>0.547619</td>\n",
       "    </tr>\n",
       "    <tr>\n",
       "      <th>17676</th>\n",
       "      <td>0</td>\n",
       "      <td>450000</td>\n",
       "      <td>36.5</td>\n",
       "      <td>2018-02-01</td>\n",
       "      <td>1</td>\n",
       "      <td>2.65</td>\n",
       "      <td>5</td>\n",
       "      <td>17.300000</td>\n",
       "      <td>4</td>\n",
       "      <td>False</td>\n",
       "      <td>...</td>\n",
       "      <td>1</td>\n",
       "      <td>Ям-Тесово</td>\n",
       "      <td>NaN</td>\n",
       "      <td>13095.0</td>\n",
       "      <td>NaN</td>\n",
       "      <td>NaN</td>\n",
       "      <td>NaN</td>\n",
       "      <td>NaN</td>\n",
       "      <td>120.0</td>\n",
       "      <td>0.473973</td>\n",
       "    </tr>\n",
       "    <tr>\n",
       "      <th>16219</th>\n",
       "      <td>14</td>\n",
       "      <td>450000</td>\n",
       "      <td>38.5</td>\n",
       "      <td>2018-07-11</td>\n",
       "      <td>2</td>\n",
       "      <td>2.65</td>\n",
       "      <td>2</td>\n",
       "      <td>22.602334</td>\n",
       "      <td>1</td>\n",
       "      <td>False</td>\n",
       "      <td>...</td>\n",
       "      <td>0</td>\n",
       "      <td>Вахнова Кара</td>\n",
       "      <td>NaN</td>\n",
       "      <td>13095.0</td>\n",
       "      <td>NaN</td>\n",
       "      <td>NaN</td>\n",
       "      <td>NaN</td>\n",
       "      <td>NaN</td>\n",
       "      <td>45.0</td>\n",
       "      <td>0.587074</td>\n",
       "    </tr>\n",
       "    <tr>\n",
       "      <th>21912</th>\n",
       "      <td>0</td>\n",
       "      <td>470000</td>\n",
       "      <td>37.0</td>\n",
       "      <td>2018-02-18</td>\n",
       "      <td>1</td>\n",
       "      <td>2.65</td>\n",
       "      <td>3</td>\n",
       "      <td>17.936548</td>\n",
       "      <td>3</td>\n",
       "      <td>False</td>\n",
       "      <td>...</td>\n",
       "      <td>0</td>\n",
       "      <td>Совхозный</td>\n",
       "      <td>NaN</td>\n",
       "      <td>13095.0</td>\n",
       "      <td>NaN</td>\n",
       "      <td>NaN</td>\n",
       "      <td>NaN</td>\n",
       "      <td>NaN</td>\n",
       "      <td>45.0</td>\n",
       "      <td>0.484772</td>\n",
       "    </tr>\n",
       "    <tr>\n",
       "      <th>18867</th>\n",
       "      <td>1</td>\n",
       "      <td>470000</td>\n",
       "      <td>41.0</td>\n",
       "      <td>2018-02-11</td>\n",
       "      <td>1</td>\n",
       "      <td>2.65</td>\n",
       "      <td>5</td>\n",
       "      <td>32.000000</td>\n",
       "      <td>3</td>\n",
       "      <td>False</td>\n",
       "      <td>...</td>\n",
       "      <td>0</td>\n",
       "      <td>Выскатка</td>\n",
       "      <td>NaN</td>\n",
       "      <td>13095.0</td>\n",
       "      <td>NaN</td>\n",
       "      <td>NaN</td>\n",
       "      <td>NaN</td>\n",
       "      <td>NaN</td>\n",
       "      <td>46.0</td>\n",
       "      <td>0.780488</td>\n",
       "    </tr>\n",
       "  </tbody>\n",
       "</table>\n",
       "<p>10 rows × 23 columns</p>\n",
       "</div>"
      ],
      "text/plain": [
       "       total_images  last_price  total_area first_day_exposition  rooms  \\\n",
       "8793              7       12190       109.0           2019-03-20      2   \n",
       "17456             7      430000        30.4           2019-04-22      1   \n",
       "14911             5      430000        54.0           2018-06-26      2   \n",
       "16274            18      440000        40.0           2018-07-10      1   \n",
       "9581              7      450000        43.4           2018-08-31      2   \n",
       "5698              7      450000        42.0           2017-07-31      2   \n",
       "17676             0      450000        36.5           2018-02-01      1   \n",
       "16219            14      450000        38.5           2018-07-11      2   \n",
       "21912             0      470000        37.0           2018-02-18      1   \n",
       "18867             1      470000        41.0           2018-02-11      1   \n",
       "\n",
       "       ceiling_height  floors_total  living_area  floor  is_apartment  ...  \\\n",
       "8793             2.75            25    32.000000     25         False  ...   \n",
       "17456            2.65             2    16.000000      1         False  ...   \n",
       "14911            2.65             3    31.701975      3         False  ...   \n",
       "16274            2.65             5    19.390863      1         False  ...   \n",
       "9581             2.65             5    30.300000      3         False  ...   \n",
       "5698             2.65             1    23.000000      1         False  ...   \n",
       "17676            2.65             5    17.300000      4         False  ...   \n",
       "16219            2.65             2    22.602334      1         False  ...   \n",
       "21912            2.65             3    17.936548      3         False  ...   \n",
       "18867            2.65             5    32.000000      3         False  ...   \n",
       "\n",
       "       balcony    locality_name  airports_nearest  cityCenters_nearest  \\\n",
       "8793         0  Санкт-Петербург           36421.0               9176.0   \n",
       "17456        0           Сланцы               NaN              13095.0   \n",
       "14911        0    станции Свирь               NaN              13095.0   \n",
       "16274        0       Старополье               NaN              13095.0   \n",
       "9581         0       Старополье               NaN              13095.0   \n",
       "5698         0         Будогощь               NaN              13095.0   \n",
       "17676        1        Ям-Тесово               NaN              13095.0   \n",
       "16219        0     Вахнова Кара               NaN              13095.0   \n",
       "21912        0        Совхозный               NaN              13095.0   \n",
       "18867        0         Выскатка               NaN              13095.0   \n",
       "\n",
       "      parks_around3000  parks_nearest  ponds_around3000  ponds_nearest  \\\n",
       "8793               1.0          805.0               0.0            NaN   \n",
       "17456              NaN            NaN               NaN            NaN   \n",
       "14911              NaN            NaN               NaN            NaN   \n",
       "16274              NaN            NaN               NaN            NaN   \n",
       "9581               NaN            NaN               NaN            NaN   \n",
       "5698               NaN            NaN               NaN            NaN   \n",
       "17676              NaN            NaN               NaN            NaN   \n",
       "16219              NaN            NaN               NaN            NaN   \n",
       "21912              NaN            NaN               NaN            NaN   \n",
       "18867              NaN            NaN               NaN            NaN   \n",
       "\n",
       "       days_exposition  living_total_area_ratio  \n",
       "8793               8.0                 0.293578  \n",
       "17456              NaN                 0.526316  \n",
       "14911             44.0                 0.587074  \n",
       "16274             45.0                 0.484772  \n",
       "9581              96.0                 0.698157  \n",
       "5698             233.0                 0.547619  \n",
       "17676            120.0                 0.473973  \n",
       "16219             45.0                 0.587074  \n",
       "21912             45.0                 0.484772  \n",
       "18867             46.0                 0.780488  \n",
       "\n",
       "[10 rows x 23 columns]"
      ]
     },
     "execution_count": 34,
     "metadata": {},
     "output_type": "execute_result"
    }
   ],
   "source": [
    "data.sort_values('last_price').head(10)"
   ]
  },
  {
   "cell_type": "markdown",
   "metadata": {},
   "source": [
    "**Самая дешевая квартира стоит 12190 рублей, но квартира не может столько стоить, особенно в Санкт-Петерберге, скорее всего это 12 миллионов рублей, нормальная цена для квартиры площадью 109 метров, поэтому удаляем все квартиры, стоящие дороже 11 миллионов и изменим значение самое дешевой квартиры на 12 миллионов**"
   ]
  },
  {
   "cell_type": "code",
   "execution_count": 35,
   "metadata": {},
   "outputs": [],
   "source": [
    "data = data.loc[data['last_price'] <= 11000000]\n",
    "data.loc[data['last_price'] == data['last_price'].min(), 'last_price'] = data.loc[data['last_price'] == data['last_price'].min(), 'last_price'] * 100 "
   ]
  },
  {
   "cell_type": "markdown",
   "metadata": {},
   "source": [
    "**Посмотрим на диаграмму размаха для площадей квартир**"
   ]
  },
  {
   "cell_type": "code",
   "execution_count": 36,
   "metadata": {
    "scrolled": true
   },
   "outputs": [
    {
     "data": {
      "image/png": "[encoded data removed]",
      "text/plain": [
       "<Figure size 432x288 with 1 Axes>"
      ]
     },
     "metadata": {
      "needs_background": "light"
     },
     "output_type": "display_data"
    }
   ],
   "source": [
    "data.boxplot('total_area');"
   ]
  },
  {
   "cell_type": "markdown",
   "metadata": {},
   "source": [
    "**Квартиры с плодью более 97 квадратных метров являются выбросами, посмотрим на их количество**"
   ]
  },
  {
   "cell_type": "code",
   "execution_count": 37,
   "metadata": {},
   "outputs": [
    {
     "data": {
      "text/plain": [
       "420"
      ]
     },
     "execution_count": 37,
     "metadata": {},
     "output_type": "execute_result"
    }
   ],
   "source": [
    "len(data.query('total_area>97'))"
   ]
  },
  {
   "cell_type": "code",
   "execution_count": 38,
   "metadata": {},
   "outputs": [],
   "source": [
    "#Оставляем квартиры площадью <= 97 кв.м.\n",
    "data = data.loc[data['total_area']<=97]"
   ]
  },
  {
   "cell_type": "code",
   "execution_count": 39,
   "metadata": {},
   "outputs": [
    {
     "data": {
      "text/plain": [
       "20244"
      ]
     },
     "execution_count": 39,
     "metadata": {},
     "output_type": "execute_result"
    }
   ],
   "source": [
    "len(data)"
   ]
  },
  {
   "cell_type": "markdown",
   "metadata": {},
   "source": [
    "**В итоге у нас осталось 20244 наблюдей от начальных 23699**"
   ]
  },
  {
   "cell_type": "markdown",
   "metadata": {},
   "source": [
    "**В исходных данных были обнаружены пропущенные значения в колонках с высотой потолков, количесвтом этажей в доме, жилой и кухонной площадями, апартаменты, в колонке с количеством балконов, названияем населенного пункта, с расстояниями до ближайшего аэропорта, парка, до центра города, до ближайщего водоема, в колонках с количеством парков и водоемов в радиусе 3000 метров, также пропуски в колонке с количеством дней, прошедших после размещения обявления, большинство пропусков были заполнены, но осталось много пропущенных значений.**\n",
    "\n",
    "**Явных дубликатов не было обнаружено, но были удалены неявные дубликаты из столбца с названиями населенных пунктов, выбросы в столбцах с высотой потолков, ценами на квартиры, общей, жилой и кухонной площадями.**  "
   ]
  },
  {
   "cell_type": "markdown",
   "metadata": {},
   "source": [
    "### Посчитайте и добавьте в таблицу новые столбцы"
   ]
  },
  {
   "cell_type": "code",
   "execution_count": 40,
   "metadata": {},
   "outputs": [],
   "source": [
    "#Добавляем столбец с ценой одного квадратного метра\n",
    "data['price_per_meter'] = data['last_price'] / data['total_area']"
   ]
  },
  {
   "cell_type": "code",
   "execution_count": 41,
   "metadata": {},
   "outputs": [],
   "source": [
    "#Добавляем столбец с днем недели публикации объявления\n",
    "data['week_day'] = data['first_day_exposition'].dt.weekday"
   ]
  },
  {
   "cell_type": "code",
   "execution_count": 42,
   "metadata": {},
   "outputs": [],
   "source": [
    "#Добавляем столбец с месяцем публикации объявления\n",
    "data['month'] = data['first_day_exposition'].dt.month_name()"
   ]
  },
  {
   "cell_type": "code",
   "execution_count": 43,
   "metadata": {},
   "outputs": [],
   "source": [
    "#Добавляем столбец с годом публикации объявления\n",
    "data['year'] = data['first_day_exposition'].dt.year"
   ]
  },
  {
   "cell_type": "code",
   "execution_count": 44,
   "metadata": {},
   "outputs": [],
   "source": [
    "#Добавляем столбец с типом этажа с помощью функции\n",
    "def floor_type(data):\n",
    "    floor = data['floor']\n",
    "    if floor == 1:\n",
    "        return 'первый'\n",
    "    elif floor == data['floors_total']:\n",
    "        return 'последний'\n",
    "    else:\n",
    "        return 'Другой'\n",
    "data['floor_type'] = data.apply(floor_type, axis = 1)"
   ]
  },
  {
   "cell_type": "code",
   "execution_count": 45,
   "metadata": {},
   "outputs": [],
   "source": [
    "#Добавляем столбец с расстоянием до центра города в километрах \n",
    "data['cityCenters_nearest_km'] = data['cityCenters_nearest'] / 1000\n",
    "data['cityCenters_nearest_km'] = data['cityCenters_nearest_km'].round(0)\n",
    "data['cityCenters_nearest_km'] = data['cityCenters_nearest_km'].astype('int')"
   ]
  },
  {
   "cell_type": "markdown",
   "metadata": {},
   "source": [
    "### Проведите исследовательский анализ данных"
   ]
  },
  {
   "cell_type": "code",
   "execution_count": 46,
   "metadata": {
    "scrolled": true
   },
   "outputs": [
    {
     "data": {
      "image/png": "[encoded data removed]",
      "text/plain": [
       "<Figure size 432x288 with 1 Axes>"
      ]
     },
     "metadata": {
      "needs_background": "light"
     },
     "output_type": "display_data"
    }
   ],
   "source": [
    "#Строим гистограмму для общей площади квартиры\n",
    "data['total_area'].hist(bins=30);"
   ]
  },
  {
   "cell_type": "markdown",
   "metadata": {},
   "source": [
    "**Больше всего квартир площадью 30-60 квадратных метров, наибольшее количество квартир площадью около 45 квадратных метров, меньше всего квартир площадью менее 30 и более 85 квадратных метров**"
   ]
  },
  {
   "cell_type": "code",
   "execution_count": 47,
   "metadata": {
    "scrolled": true
   },
   "outputs": [
    {
     "data": {
      "image/png": "[encoded data removed]",
      "text/plain": [
       "<Figure size 432x288 with 1 Axes>"
      ]
     },
     "metadata": {
      "needs_background": "light"
     },
     "output_type": "display_data"
    }
   ],
   "source": [
    "#Строим гистограмму для жилой площади квартиры\n",
    "data['living_area'].hist(bins=30, range=(5,80));"
   ]
  },
  {
   "cell_type": "markdown",
   "metadata": {},
   "source": [
    "**Есть большие пики квартир с жилой площадью 15-20 квадратных метров, их около 5800, в промежутке 20-30 метров меньше всего квартир с площадью около 22,5-25 квадратных метров, всего их около 300, еще два пика у квартир с площадью 27,5-32,5 метра, много квартир в промежутке 32,5-45 метров(около 4500), далее, с возрастанием площади, количество квартир уменьшается, меньше всего квартир с жилой площадью менее 12,5 и более 55 квадратных метров** "
   ]
  },
  {
   "cell_type": "code",
   "execution_count": 48,
   "metadata": {
    "scrolled": true
   },
   "outputs": [
    {
     "data": {
      "image/png": "[encoded data removed]",
      "text/plain": [
       "<Figure size 432x288 with 1 Axes>"
      ]
     },
     "metadata": {
      "needs_background": "light"
     },
     "output_type": "display_data"
    }
   ],
   "source": [
    "#Строим гистограмму для площади кухни\n",
    "data['kitchen_area'].hist(bins=30, range=(0,40));"
   ]
  },
  {
   "cell_type": "markdown",
   "metadata": {},
   "source": [
    "**В основном в квартирах площадь кухни занимает 5-11 квадратных метра, также много квартир с площадью кухни 11-13 метров, квартир, где кухня занимает менее 5 и более 13 метров меньше всего**"
   ]
  },
  {
   "cell_type": "code",
   "execution_count": 49,
   "metadata": {},
   "outputs": [
    {
     "data": {
      "image/png": "[encoded data removed]",
      "text/plain": [
       "<Figure size 432x288 with 1 Axes>"
      ]
     },
     "metadata": {
      "needs_background": "light"
     },
     "output_type": "display_data"
    }
   ],
   "source": [
    "#Строим гистограмму для цен\n",
    "data['last_price'].hist(bins=30);"
   ]
  },
  {
   "cell_type": "markdown",
   "metadata": {},
   "source": [
    "**Квартиры в оснвном стоят 3-5 миллионов рублей, количество квартир, которые дешевле и дороже данного диапазона постепенно уменьшается** "
   ]
  },
  {
   "cell_type": "code",
   "execution_count": 50,
   "metadata": {
    "scrolled": false
   },
   "outputs": [
    {
     "data": {
      "image/png": "[encoded data removed]",
      "text/plain": [
       "<Figure size 432x288 with 1 Axes>"
      ]
     },
     "metadata": {
      "needs_background": "light"
     },
     "output_type": "display_data"
    }
   ],
   "source": [
    "#Строим гистограмму для количества комнат\n",
    "data['rooms'].hist(bins=6);"
   ]
  },
  {
   "cell_type": "markdown",
   "metadata": {},
   "source": [
    "**Больше всего однокомнатных квартир, их почти 8000, немного меньше двухкомнатных, около 7300, количество трехкомнатных квартир чуть меньше 4500, меньше всего же квартир с 0,4,5,6 комнатами, их общее количество не превышает 1000**"
   ]
  },
  {
   "cell_type": "code",
   "execution_count": 51,
   "metadata": {
    "scrolled": true
   },
   "outputs": [
    {
     "data": {
      "image/png": "[encoded data removed]",
      "text/plain": [
       "<Figure size 432x288 with 1 Axes>"
      ]
     },
     "metadata": {
      "needs_background": "light"
     },
     "output_type": "display_data"
    }
   ],
   "source": [
    "#Строим гистограмму для высоты потолков\n",
    "data['ceiling_height'].hist(bins=10);"
   ]
  },
  {
   "cell_type": "markdown",
   "metadata": {},
   "source": [
    "**В основном потолки во всех квартирах около 2.65 метров, также много квартир c высотой потолков 2.5-2.55 метров, остальных значений меньше**"
   ]
  },
  {
   "cell_type": "code",
   "execution_count": 52,
   "metadata": {
    "scrolled": false
   },
   "outputs": [
    {
     "data": {
      "image/png": "[encoded data removed]",
      "text/plain": [
       "<Figure size 432x288 with 1 Axes>"
      ]
     },
     "metadata": {
      "needs_background": "light"
     },
     "output_type": "display_data"
    }
   ],
   "source": [
    "#Строим гистограмму для этажей квартир\n",
    "data['floor'].hist(bins=31);"
   ]
  },
  {
   "cell_type": "markdown",
   "metadata": {},
   "source": [
    "**Большинство квартир находятся на 1-5 этажах, для каждого этажа их более 2000, примерно по 1000 квартир с этажами 6-9, далее количество квартир уменьшается с возрастанием этажа** "
   ]
  },
  {
   "cell_type": "code",
   "execution_count": 53,
   "metadata": {
    "scrolled": true
   },
   "outputs": [
    {
     "data": {
      "image/png": "[encoded data removed]",
      "text/plain": [
       "<Figure size 432x288 with 1 Axes>"
      ]
     },
     "metadata": {
      "needs_background": "light"
     },
     "output_type": "display_data"
    }
   ],
   "source": [
    "#Строим гистограмму для типов этажей\n",
    "data['floor_type'].hist(bins=3);"
   ]
  },
  {
   "cell_type": "markdown",
   "metadata": {},
   "source": [
    "**Более 14500 квартир находятся не на первом и не на последнем этаже, квартир, которые находятся на первом или на последнем этаже, более 5000 в сумме**"
   ]
  },
  {
   "cell_type": "code",
   "execution_count": 54,
   "metadata": {
    "scrolled": true
   },
   "outputs": [
    {
     "data": {
      "image/png": "[encoded data removed]",
      "text/plain": [
       "<Figure size 432x288 with 1 Axes>"
      ]
     },
     "metadata": {
      "needs_background": "light"
     },
     "output_type": "display_data"
    }
   ],
   "source": [
    "#Строим гистограмму для этажности домов\n",
    "data['floors_total'].hist(bins=20, range = (0,40));"
   ]
  },
  {
   "cell_type": "markdown",
   "metadata": {},
   "source": [
    "**Большинство квартир находятся в домах с 5 и 9 этажами**"
   ]
  },
  {
   "cell_type": "code",
   "execution_count": 55,
   "metadata": {
    "scrolled": false
   },
   "outputs": [
    {
     "data": {
      "image/png": "[encoded data removed]",
      "text/plain": [
       "<Figure size 432x288 with 1 Axes>"
      ]
     },
     "metadata": {
      "needs_background": "light"
     },
     "output_type": "display_data"
    }
   ],
   "source": [
    "#Строим гистограмму для расстояний от дома до центра города в метрах\n",
    "data['cityCenters_nearest'].hist(bins=30);"
   ]
  },
  {
   "cell_type": "markdown",
   "metadata": {},
   "source": [
    "**Пик находится на промежутке 11000-14000 метров, квартир на этом расстоянии от центра более 8000, также около 5000 квартир находится на расстоянии 14000-19000 метров, с уменьшением и возрастанием расстояния до центра от этих диапазонов, количество квартир уменьшается**"
   ]
  },
  {
   "cell_type": "code",
   "execution_count": 56,
   "metadata": {},
   "outputs": [
    {
     "data": {
      "image/png": "[encoded data removed]",
      "text/plain": [
       "<Figure size 432x288 with 1 Axes>"
      ]
     },
     "metadata": {
      "needs_background": "light"
     },
     "output_type": "display_data"
    }
   ],
   "source": [
    "#Строим гистограмму для расстояний от дома до аэропорта\n",
    "data['airports_nearest'].hist(bins=30);"
   ]
  },
  {
   "cell_type": "markdown",
   "metadata": {},
   "source": [
    "**Много домов находится на расстоянии 11-20 километров от аэропорта, основная масса домов находится на расстоянии от 9 до 54 километров до аэропортов, домов, находящихся ближе и дальше не много**"
   ]
  },
  {
   "cell_type": "code",
   "execution_count": 57,
   "metadata": {
    "scrolled": true
   },
   "outputs": [
    {
     "data": {
      "image/png": "[encoded data removed]",
      "text/plain": [
       "<Figure size 432x288 with 1 Axes>"
      ]
     },
     "metadata": {
      "needs_background": "light"
     },
     "output_type": "display_data"
    }
   ],
   "source": [
    "#Строим гистограмму для расстояний от дома до ближайшего парка\n",
    "data['parks_nearest'].hist(bins=20, range =(0,1000));"
   ]
  },
  {
   "cell_type": "code",
   "execution_count": 58,
   "metadata": {},
   "outputs": [
    {
     "data": {
      "image/png": "[encoded data removed]",
      "text/plain": [
       "<Figure size 432x288 with 1 Axes>"
      ]
     },
     "metadata": {
      "needs_background": "light"
     },
     "output_type": "display_data"
    }
   ],
   "source": [
    "data['parks_nearest'].hist(bins=30);"
   ]
  },
  {
   "cell_type": "markdown",
   "metadata": {},
   "source": [
    "**Большинство домов находится на расстоянии до 750 метров до ближайщего парка, многие дома расположены в 350-550 метрах от парка, домов, отдаленных от парка более чем на 950 метров, совсем мало**"
   ]
  },
  {
   "cell_type": "code",
   "execution_count": 59,
   "metadata": {
    "scrolled": true
   },
   "outputs": [
    {
     "data": {
      "image/png": "[encoded data removed]",
      "text/plain": [
       "<Figure size 432x288 with 1 Axes>"
      ]
     },
     "metadata": {
      "needs_background": "light"
     },
     "output_type": "display_data"
    }
   ],
   "source": [
    "#Строим гистограмму для дня публикации объявления\n",
    "data['week_day'].hist(bins=7);"
   ]
  },
  {
   "cell_type": "markdown",
   "metadata": {},
   "source": [
    "**В выходной день публикуется в среднем в два раза меньше объявлений, чем в будний день, причем из будних дней в понедельник публикуется меньше всего объявлений**"
   ]
  },
  {
   "cell_type": "code",
   "execution_count": 60,
   "metadata": {},
   "outputs": [
    {
     "data": {
      "image/png": "[encoded data removed]",
      "text/plain": [
       "<Figure size 1080x432 with 1 Axes>"
      ]
     },
     "metadata": {
      "needs_background": "light"
     },
     "output_type": "display_data"
    }
   ],
   "source": [
    "#Строим гистограмму для месяца публикации объявления\n",
    "data['month'].hist(bins=12, figsize=(15,6));"
   ]
  },
  {
   "cell_type": "markdown",
   "metadata": {},
   "source": [
    "**Меньше всего объявлений публикуется в мае, больше всего в феврале**"
   ]
  },
  {
   "cell_type": "code",
   "execution_count": 61,
   "metadata": {
    "scrolled": true
   },
   "outputs": [
    {
     "data": {
      "image/png": "[encoded data removed]",
      "text/plain": [
       "<Figure size 432x288 with 1 Axes>"
      ]
     },
     "metadata": {
      "needs_background": "light"
     },
     "output_type": "display_data"
    }
   ],
   "source": [
    "data['days_exposition'].hist(bins=30);"
   ]
  },
  {
   "cell_type": "code",
   "execution_count": 62,
   "metadata": {
    "scrolled": true
   },
   "outputs": [
    {
     "data": {
      "image/png": "[encoded data removed]",
      "text/plain": [
       "<Figure size 432x288 with 1 Axes>"
      ]
     },
     "metadata": {
      "needs_background": "light"
     },
     "output_type": "display_data"
    }
   ],
   "source": [
    "data['days_exposition'].hist(bins=25, range=(0,200));"
   ]
  },
  {
   "cell_type": "markdown",
   "metadata": {},
   "source": [
    "**Большинство квартир продается в первые четыре месяца после публикации объявления, есть большие пики в районе 40-50 дней и в районе 55-65 дней, в основном чем дольше висят объявления, тем меньше продается квартир**"
   ]
  },
  {
   "cell_type": "code",
   "execution_count": 63,
   "metadata": {
    "scrolled": true
   },
   "outputs": [
    {
     "data": {
      "text/plain": [
       "count    17866.000000\n",
       "mean       168.716277\n",
       "std        206.807987\n",
       "min          1.000000\n",
       "25%         43.000000\n",
       "50%         89.000000\n",
       "75%        213.000000\n",
       "max       1580.000000\n",
       "Name: days_exposition, dtype: float64"
      ]
     },
     "execution_count": 63,
     "metadata": {},
     "output_type": "execute_result"
    }
   ],
   "source": [
    "data['days_exposition'].describe()"
   ]
  },
  {
   "cell_type": "markdown",
   "metadata": {},
   "source": [
    "**В среднем квартиры продаются 169 дней, медианное значение - 89 дней, есть квартира, которая была продана за 1 день, а есть квартира, которая продавалась почти 4,5 года**"
   ]
  },
  {
   "cell_type": "code",
   "execution_count": 64,
   "metadata": {
    "scrolled": true
   },
   "outputs": [
    {
     "data": {
      "image/png": "[encoded data removed]",
      "text/plain": [
       "<Figure size 432x288 with 1 Axes>"
      ]
     },
     "metadata": {
      "needs_background": "light"
     },
     "output_type": "display_data"
    }
   ],
   "source": [
    "#Построим диаграмму размаха\n",
    "data.boxplot('days_exposition');"
   ]
  },
  {
   "cell_type": "markdown",
   "metadata": {},
   "source": [
    "**Продажи, которые занимали более 468, можно назвать долгими** "
   ]
  },
  {
   "cell_type": "code",
   "execution_count": 65,
   "metadata": {
    "scrolled": true
   },
   "outputs": [
    {
     "name": "stdout",
     "output_type": "stream",
     "text": [
      "Таких продаж было: 1509\n"
     ]
    }
   ],
   "source": [
    "print('Таких продаж было:', len(data.query('days_exposition>468')))"
   ]
  },
  {
   "cell_type": "markdown",
   "metadata": {},
   "source": [
    "**Изучим зависимость цен на квартиры и разных факторов**"
   ]
  },
  {
   "cell_type": "code",
   "execution_count": 66,
   "metadata": {},
   "outputs": [
    {
     "data": {
      "text/plain": [
       "0.6571955345514696"
      ]
     },
     "execution_count": 66,
     "metadata": {},
     "output_type": "execute_result"
    }
   ],
   "source": [
    "#Коэффициент корреляции цены и общей площади\n",
    "data['last_price'].corr(data['total_area'])"
   ]
  },
  {
   "cell_type": "markdown",
   "metadata": {},
   "source": [
    "**Коэффициент корреляции равен 0.66, т.е. зависимость есть, посмотрим на диаграмму рассеяния**"
   ]
  },
  {
   "cell_type": "code",
   "execution_count": 67,
   "metadata": {},
   "outputs": [
    {
     "data": {
      "image/png": "[encoded data removed]",
      "text/plain": [
       "<Figure size 720x720 with 1 Axes>"
      ]
     },
     "metadata": {
      "needs_background": "light"
     },
     "output_type": "display_data"
    }
   ],
   "source": [
    "data.plot(x='last_price', y='total_area', kind='scatter', figsize=(10, 10));"
   ]
  },
  {
   "cell_type": "markdown",
   "metadata": {},
   "source": [
    "**В основном чем больше площадь квартиры, тем выше цена, но есть много квартир, в которых с увеличением площади квартиры цена не увеличивается и наоборот**"
   ]
  },
  {
   "cell_type": "code",
   "execution_count": 68,
   "metadata": {},
   "outputs": [
    {
     "data": {
      "text/plain": [
       "0.5102545121973507"
      ]
     },
     "execution_count": 68,
     "metadata": {},
     "output_type": "execute_result"
    }
   ],
   "source": [
    "#Коэффициент корреляции цены и жилой площади\n",
    "data['last_price'].corr(data['living_area'])"
   ]
  },
  {
   "cell_type": "markdown",
   "metadata": {},
   "source": [
    "**Есть зависимость, но небольшая**"
   ]
  },
  {
   "cell_type": "code",
   "execution_count": 69,
   "metadata": {
    "scrolled": false
   },
   "outputs": [
    {
     "data": {
      "image/png": "[encoded data removed]",
      "text/plain": [
       "<Figure size 720x720 with 1 Axes>"
      ]
     },
     "metadata": {
      "needs_background": "light"
     },
     "output_type": "display_data"
    }
   ],
   "source": [
    "data.plot(x='last_price', y='living_area', kind='scatter', figsize=(10, 10));"
   ]
  },
  {
   "cell_type": "markdown",
   "metadata": {},
   "source": [
    "**На графике зависимость также явно не выражается, много дорогих квартир имеют малую жилую площадь, также много дешевых квартир имеют большую жилую площадь**  "
   ]
  },
  {
   "cell_type": "code",
   "execution_count": 70,
   "metadata": {},
   "outputs": [
    {
     "data": {
      "text/plain": [
       "0.32712278214843904"
      ]
     },
     "execution_count": 70,
     "metadata": {},
     "output_type": "execute_result"
    }
   ],
   "source": [
    "#Коэффициент корреляции цены и площади кухни\n",
    "data['last_price'].corr(data['kitchen_area'])"
   ]
  },
  {
   "cell_type": "markdown",
   "metadata": {},
   "source": [
    "**Коэффициент корреляции низкий, зависимости цены от площади кухни практически нет**"
   ]
  },
  {
   "cell_type": "code",
   "execution_count": 71,
   "metadata": {
    "scrolled": false
   },
   "outputs": [
    {
     "data": {
      "image/png": "[encoded data removed]",
      "text/plain": [
       "<Figure size 720x720 with 1 Axes>"
      ]
     },
     "metadata": {
      "needs_background": "light"
     },
     "output_type": "display_data"
    }
   ],
   "source": [
    "data.plot(x='last_price', y='kitchen_area', kind='scatter', figsize=(10, 10));"
   ]
  },
  {
   "cell_type": "markdown",
   "metadata": {},
   "source": [
    "**На графике также видно, что площадь кухни редко влияет на цену квартиры**"
   ]
  },
  {
   "cell_type": "markdown",
   "metadata": {},
   "source": [
    "**Посмотрим на зависимость цены квартиры от количества комнат**"
   ]
  },
  {
   "cell_type": "code",
   "execution_count": 72,
   "metadata": {},
   "outputs": [
    {
     "data": {
      "image/png": "[encoded data removed]",
      "text/plain": [
       "<Figure size 432x288 with 1 Axes>"
      ]
     },
     "metadata": {
      "needs_background": "light"
     },
     "output_type": "display_data"
    }
   ],
   "source": [
    "#Создаем сводную таблицу с медианной ценой по количеству комнат  \n",
    "pivot_price_rooms = data.pivot_table(index = 'rooms', values = 'last_price', aggfunc = 'median')\n",
    "pivot_price_rooms.plot(kind='bar', grid = True);"
   ]
  },
  {
   "cell_type": "markdown",
   "metadata": {},
   "source": [
    "**Почти все квартиры стоят дороже с увеличением числа комнат, единственным исключением являются пятикомнатные квартиры, они стоят дешевле трехкомнатных и четырехкомнатных**"
   ]
  },
  {
   "cell_type": "code",
   "execution_count": 73,
   "metadata": {},
   "outputs": [
    {
     "data": {
      "image/png": "[encoded data removed]",
      "text/plain": [
       "<Figure size 432x288 with 1 Axes>"
      ]
     },
     "metadata": {
      "needs_background": "light"
     },
     "output_type": "display_data"
    }
   ],
   "source": [
    "#Создаем сводную таблицу с медианной ценой по типу этажа \n",
    "pivot_price_floor = data.pivot_table(index = 'floor_type', values = 'last_price', aggfunc = 'median')\n",
    "pivot_price_floor.plot(kind='bar', grid = True);"
   ]
  },
  {
   "cell_type": "markdown",
   "metadata": {},
   "source": [
    "**Квартиры, находящиеся на первом этаже стоят дешевле всего, а квартиры, находящиеся не на первом и не на последнем этажах в основном стоят дороже всего**"
   ]
  },
  {
   "cell_type": "code",
   "execution_count": 74,
   "metadata": {},
   "outputs": [
    {
     "data": {
      "image/png": "[encoded data removed]",
      "text/plain": [
       "<Figure size 432x288 with 1 Axes>"
      ]
     },
     "metadata": {
      "needs_background": "light"
     },
     "output_type": "display_data"
    }
   ],
   "source": [
    "#Создаем сводную таблицу с медианной ценой по дню публикации объявления\n",
    "pivot_price_day = data.pivot_table(index = 'week_day', values = 'last_price', aggfunc = 'median')\n",
    "pivot_price_day.plot(kind='bar', grid = True);"
   ]
  },
  {
   "cell_type": "markdown",
   "metadata": {},
   "source": [
    "**День публикации объявления практически никак не влияет на цену квартиры**"
   ]
  },
  {
   "cell_type": "code",
   "execution_count": 75,
   "metadata": {},
   "outputs": [
    {
     "data": {
      "image/png": "[encoded data removed]",
      "text/plain": [
       "<Figure size 432x288 with 1 Axes>"
      ]
     },
     "metadata": {
      "needs_background": "light"
     },
     "output_type": "display_data"
    }
   ],
   "source": [
    "#Создаем сводную таблицу с медианной ценой по месяцу публикации объявления\n",
    "pivot_price_month = data.pivot_table(index = 'month', values = 'last_price', aggfunc = 'median')\n",
    "pivot_price_month.plot(kind='bar', grid = True);"
   ]
  },
  {
   "cell_type": "markdown",
   "metadata": {},
   "source": [
    "**Квартиры, объявления на которые выставлялись в апреле, продавались немного дороже, по сравнению с остальными месяцами, но разница небольшая, так что можно сказать, что месяц публикации никак не влияет на цену квартиры**"
   ]
  },
  {
   "cell_type": "code",
   "execution_count": 76,
   "metadata": {
    "scrolled": true
   },
   "outputs": [
    {
     "data": {
      "image/png": "[encoded data removed]",
      "text/plain": [
       "<Figure size 432x288 with 1 Axes>"
      ]
     },
     "metadata": {
      "needs_background": "light"
     },
     "output_type": "display_data"
    }
   ],
   "source": [
    "#Создаем сводную таблицу с медианной ценой по году публикации объявления\n",
    "pivot_price_year = data.pivot_table(index = 'year', values = 'last_price', aggfunc = 'median')\n",
    "pivot_price_year.plot(kind='bar', grid = True);"
   ]
  },
  {
   "cell_type": "markdown",
   "metadata": {},
   "source": [
    "<div class=\"alert alert-info\">\n",
    "Добавил график с медианными значениями площади квартир по годам"
   ]
  },
  {
   "cell_type": "code",
   "execution_count": 77,
   "metadata": {},
   "outputs": [
    {
     "data": {
      "image/png": "[encoded data removed]",
      "text/plain": [
       "<Figure size 432x288 with 1 Axes>"
      ]
     },
     "metadata": {
      "needs_background": "light"
     },
     "output_type": "display_data"
    }
   ],
   "source": [
    "pivot_area_year = data.pivot_table(index = 'year', values = 'total_area', aggfunc = 'median')\n",
    "pivot_area_year.plot(kind='bar', grid = True);"
   ]
  },
  {
   "cell_type": "markdown",
   "metadata": {},
   "source": [
    "**Дешевле всего квартиры продавались в 2016 и 2017 годах, немного дороже в 2018, еще дороже в 2015, 2019 и 2014 годах соответственно**"
   ]
  },
  {
   "cell_type": "code",
   "execution_count": 78,
   "metadata": {},
   "outputs": [
    {
     "data": {
      "text/html": [
       "<div>\n",
       "<style scoped>\n",
       "    .dataframe tbody tr th:only-of-type {\n",
       "        vertical-align: middle;\n",
       "    }\n",
       "\n",
       "    .dataframe tbody tr th {\n",
       "        vertical-align: top;\n",
       "    }\n",
       "\n",
       "    .dataframe thead th {\n",
       "        text-align: right;\n",
       "    }\n",
       "</style>\n",
       "<table border=\"1\" class=\"dataframe\">\n",
       "  <thead>\n",
       "    <tr style=\"text-align: right;\">\n",
       "      <th></th>\n",
       "      <th>price_per_meter</th>\n",
       "    </tr>\n",
       "    <tr>\n",
       "      <th>locality_name</th>\n",
       "      <th></th>\n",
       "    </tr>\n",
       "  </thead>\n",
       "  <tbody>\n",
       "    <tr>\n",
       "      <th>Санкт-Петербург</th>\n",
       "      <td>105305.469833</td>\n",
       "    </tr>\n",
       "    <tr>\n",
       "      <th>Пушкин</th>\n",
       "      <td>100406.148067</td>\n",
       "    </tr>\n",
       "    <tr>\n",
       "      <th>Кудрово</th>\n",
       "      <td>95211.008966</td>\n",
       "    </tr>\n",
       "    <tr>\n",
       "      <th>Парголово</th>\n",
       "      <td>90641.010283</td>\n",
       "    </tr>\n",
       "    <tr>\n",
       "      <th>Мурино</th>\n",
       "      <td>86145.213913</td>\n",
       "    </tr>\n",
       "    <tr>\n",
       "      <th>Шушары</th>\n",
       "      <td>78765.715097</td>\n",
       "    </tr>\n",
       "    <tr>\n",
       "      <th>Колпино</th>\n",
       "      <td>75434.836312</td>\n",
       "    </tr>\n",
       "    <tr>\n",
       "      <th>Гатчина</th>\n",
       "      <td>68523.238914</td>\n",
       "    </tr>\n",
       "    <tr>\n",
       "      <th>Всеволожск</th>\n",
       "      <td>67109.527389</td>\n",
       "    </tr>\n",
       "    <tr>\n",
       "      <th>Выборг</th>\n",
       "      <td>57985.896052</td>\n",
       "    </tr>\n",
       "  </tbody>\n",
       "</table>\n",
       "</div>"
      ],
      "text/plain": [
       "                 price_per_meter\n",
       "locality_name                   \n",
       "Санкт-Петербург    105305.469833\n",
       "Пушкин             100406.148067\n",
       "Кудрово             95211.008966\n",
       "Парголово           90641.010283\n",
       "Мурино              86145.213913\n",
       "Шушары              78765.715097\n",
       "Колпино             75434.836312\n",
       "Гатчина             68523.238914\n",
       "Всеволожск          67109.527389\n",
       "Выборг              57985.896052"
      ]
     },
     "execution_count": 78,
     "metadata": {},
     "output_type": "execute_result"
    }
   ],
   "source": [
    "localities = list(data['locality_name'].value_counts().head(10).index) #создаем список населенных пунктов с наибольшим числом объявлений\n",
    "pivot1 = data.pivot_table(index = 'locality_name', values = 'price_per_meter', aggfunc = 'mean') #создаем сводную таблицу с населенными пунктами и средней ценой за 1 кв.м.\n",
    "pivot1 = pivot1.loc[pivot1.index.isin(localities)] #выбираем те населенные пункты, которые входят в список 'localities'\n",
    "pivot1.sort_values(by='price_per_meter', ascending = False) #сортируем таблицу по убыванию"
   ]
  },
  {
   "cell_type": "markdown",
   "metadata": {},
   "source": [
    "**Из топ-10 населенных пунтов по объявлениям цена за один квадратный метр выше всего в Санкт-Петербурге, а ниже всего в Выборге**"
   ]
  },
  {
   "cell_type": "code",
   "execution_count": 79,
   "metadata": {},
   "outputs": [
    {
     "data": {
      "text/html": [
       "<div>\n",
       "<style scoped>\n",
       "    .dataframe tbody tr th:only-of-type {\n",
       "        vertical-align: middle;\n",
       "    }\n",
       "\n",
       "    .dataframe tbody tr th {\n",
       "        vertical-align: top;\n",
       "    }\n",
       "\n",
       "    .dataframe thead th {\n",
       "        text-align: right;\n",
       "    }\n",
       "</style>\n",
       "<table border=\"1\" class=\"dataframe\">\n",
       "  <thead>\n",
       "    <tr style=\"text-align: right;\">\n",
       "      <th></th>\n",
       "      <th>price_per_meter</th>\n",
       "    </tr>\n",
       "    <tr>\n",
       "      <th>cityCenters_nearest_km</th>\n",
       "      <th></th>\n",
       "    </tr>\n",
       "  </thead>\n",
       "  <tbody>\n",
       "    <tr>\n",
       "      <th>5</th>\n",
       "      <td>125623.201513</td>\n",
       "    </tr>\n",
       "    <tr>\n",
       "      <th>6</th>\n",
       "      <td>124251.187759</td>\n",
       "    </tr>\n",
       "    <tr>\n",
       "      <th>1</th>\n",
       "      <td>120210.379377</td>\n",
       "    </tr>\n",
       "    <tr>\n",
       "      <th>4</th>\n",
       "      <td>118479.927066</td>\n",
       "    </tr>\n",
       "    <tr>\n",
       "      <th>2</th>\n",
       "      <td>118214.219943</td>\n",
       "    </tr>\n",
       "    <tr>\n",
       "      <th>7</th>\n",
       "      <td>116648.376021</td>\n",
       "    </tr>\n",
       "    <tr>\n",
       "      <th>8</th>\n",
       "      <td>116252.828532</td>\n",
       "    </tr>\n",
       "    <tr>\n",
       "      <th>0</th>\n",
       "      <td>110780.312125</td>\n",
       "    </tr>\n",
       "    <tr>\n",
       "      <th>3</th>\n",
       "      <td>110722.318045</td>\n",
       "    </tr>\n",
       "    <tr>\n",
       "      <th>10</th>\n",
       "      <td>108003.220530</td>\n",
       "    </tr>\n",
       "    <tr>\n",
       "      <th>9</th>\n",
       "      <td>106800.707477</td>\n",
       "    </tr>\n",
       "    <tr>\n",
       "      <th>13</th>\n",
       "      <td>106007.161550</td>\n",
       "    </tr>\n",
       "    <tr>\n",
       "      <th>12</th>\n",
       "      <td>105963.734912</td>\n",
       "    </tr>\n",
       "    <tr>\n",
       "      <th>11</th>\n",
       "      <td>104200.332736</td>\n",
       "    </tr>\n",
       "    <tr>\n",
       "      <th>20</th>\n",
       "      <td>103918.020975</td>\n",
       "    </tr>\n",
       "    <tr>\n",
       "      <th>14</th>\n",
       "      <td>103629.432155</td>\n",
       "    </tr>\n",
       "    <tr>\n",
       "      <th>15</th>\n",
       "      <td>102469.837100</td>\n",
       "    </tr>\n",
       "    <tr>\n",
       "      <th>16</th>\n",
       "      <td>99522.171506</td>\n",
       "    </tr>\n",
       "    <tr>\n",
       "      <th>19</th>\n",
       "      <td>97584.689878</td>\n",
       "    </tr>\n",
       "    <tr>\n",
       "      <th>18</th>\n",
       "      <td>96163.712231</td>\n",
       "    </tr>\n",
       "    <tr>\n",
       "      <th>17</th>\n",
       "      <td>95229.755250</td>\n",
       "    </tr>\n",
       "    <tr>\n",
       "      <th>21</th>\n",
       "      <td>93921.750341</td>\n",
       "    </tr>\n",
       "    <tr>\n",
       "      <th>23</th>\n",
       "      <td>92117.742705</td>\n",
       "    </tr>\n",
       "    <tr>\n",
       "      <th>25</th>\n",
       "      <td>91945.203802</td>\n",
       "    </tr>\n",
       "    <tr>\n",
       "      <th>22</th>\n",
       "      <td>91231.273390</td>\n",
       "    </tr>\n",
       "    <tr>\n",
       "      <th>26</th>\n",
       "      <td>90185.004769</td>\n",
       "    </tr>\n",
       "    <tr>\n",
       "      <th>24</th>\n",
       "      <td>85736.904595</td>\n",
       "    </tr>\n",
       "    <tr>\n",
       "      <th>28</th>\n",
       "      <td>83277.489795</td>\n",
       "    </tr>\n",
       "    <tr>\n",
       "      <th>29</th>\n",
       "      <td>76812.431042</td>\n",
       "    </tr>\n",
       "    <tr>\n",
       "      <th>27</th>\n",
       "      <td>70312.500000</td>\n",
       "    </tr>\n",
       "  </tbody>\n",
       "</table>\n",
       "</div>"
      ],
      "text/plain": [
       "                        price_per_meter\n",
       "cityCenters_nearest_km                 \n",
       "5                         125623.201513\n",
       "6                         124251.187759\n",
       "1                         120210.379377\n",
       "4                         118479.927066\n",
       "2                         118214.219943\n",
       "7                         116648.376021\n",
       "8                         116252.828532\n",
       "0                         110780.312125\n",
       "3                         110722.318045\n",
       "10                        108003.220530\n",
       "9                         106800.707477\n",
       "13                        106007.161550\n",
       "12                        105963.734912\n",
       "11                        104200.332736\n",
       "20                        103918.020975\n",
       "14                        103629.432155\n",
       "15                        102469.837100\n",
       "16                         99522.171506\n",
       "19                         97584.689878\n",
       "18                         96163.712231\n",
       "17                         95229.755250\n",
       "21                         93921.750341\n",
       "23                         92117.742705\n",
       "25                         91945.203802\n",
       "22                         91231.273390\n",
       "26                         90185.004769\n",
       "24                         85736.904595\n",
       "28                         83277.489795\n",
       "29                         76812.431042\n",
       "27                         70312.500000"
      ]
     },
     "execution_count": 79,
     "metadata": {},
     "output_type": "execute_result"
    }
   ],
   "source": [
    "#Создаем сводную таблицу для Санкт-Петербурга со средней стоимостью 1 кв.м. по каждому километру до центра города\n",
    "data.loc[data['locality_name']=='Санкт-Петербург'].pivot_table(index = 'cityCenters_nearest_km', values = 'price_per_meter', aggfunc = 'mean').sort_values(by='price_per_meter', ascending=False)"
   ]
  },
  {
   "cell_type": "code",
   "execution_count": 81,
   "metadata": {},
   "outputs": [
    {
     "data": {
      "image/png": "[encoded data removed]",
      "text/plain": [
       "<Figure size 576x432 with 1 Axes>"
      ]
     },
     "metadata": {
      "needs_background": "light"
     },
     "output_type": "display_data"
    }
   ],
   "source": [
    "pivot_avgprice = data.loc[data['locality_name']=='Санкт-Петербург'].pivot_table(index = 'cityCenters_nearest_km', values = 'price_per_meter', aggfunc = 'mean').sort_values(by='price_per_meter', ascending=False)\n",
    "pivot_avgprice.sort_values(by = 'cityCenters_nearest_km').plot(kind = 'bar', figsize = (8,6), title = 'Заголовок');"
   ]
  },
  {
   "cell_type": "markdown",
   "metadata": {},
   "source": [
    "**В основном цена квадратного метра уменьшается по степени удаленности от центра города, но не всегда, например, цена в центре города ниже, чем в 1-2 и 4-8 километрах от центра**"
   ]
  },
  {
   "cell_type": "markdown",
   "metadata": {},
   "source": [
    "**Цены на квартиры в основном зависят от общей площади, количества комнат и от того на каком этаже находится квартира, также средняя цена за квадратный метр отличается в разных населенных пунктах, в Санкт-Петербурге она еще и завсист от степени удаленности от центра**"
   ]
  },
  {
   "cell_type": "markdown",
   "metadata": {},
   "source": [
    "### Общий вывод"
   ]
  },
  {
   "cell_type": "markdown",
   "metadata": {},
   "source": [
    "**В начальных данных были обнаружены пропуски и неявные дубликаты, в проекте была выполнена предобработка данных, заполнены пропуски там, где это было возможно, удалены дубликаты и выбросы, исследованы различные параметры данных и зависимости цен на квартиры от различных факторов**\n",
    "\n",
    "**В Санкт-Петербурге и соседних населенных пунктах за период 2014-2019 годов в большинстве объявлений на продажу были выставлены квартиры с площадью 30-60 квадратных метров, с жилой площадью 15-20 и 27,5-32,5 квадратных метра, с площадью кухни 5-13 квадратных метра.**\n",
    "\n",
    "**Большинство квартир находились в ценовом диапазоне 3-5 миллионов рублей, больше всего было выставлено 1-комнатных квартир, также много выставлено 2-х и 3-х комнатных квартир, почти во всех квартирах высота потолков около 2.65 метров.**\n",
    "\n",
    "**Выставленные на продажу квартиры находятся в основном на 1-5 этажах, также много квартир на 6-9 эатажах, большинство квартир находятся не на первом и не на последнем этажах, выставленные квартиры в большинстве случаев находятся в пятиэтажных и девятиэтажных домах.**\n",
    "\n",
    "**Большая часть квартир находится на расстоянии 11-14 километров от центра города, многие дома находятся на расстоянии 11-20 километров от аэропорта, расстояние до ближаешего парка от домов в среднем составляет 350-550 метров, и количество домов уменьшается по мере уменьшения или увеличения расстояния от этого диапазона.**\n",
    "\n",
    "**В выходной день публикуется в среднем в два раза меньше объявлений, чем в будний день, причем из будних дней в понедельник публикуется меньше всего объявлений, также меньше всего объявлений публикуется в мае, больше всего в феврале.**\n",
    "\n",
    "**Чаще всего квартиры продавались за 40-50 и 55-65 дней после публикации объявления, большинство квартир продается за первые четыре месяца, но есть квартиры, которые продавались в первые дни или были проданы более чем через четыре года.**\n",
    "\n",
    "**Стоимость квартиры часто зависит от ее общей площади, но зависимоть цены от площади кухни и жилой площади прослеживается слабо. Также на цену влияет количество комнат, чем их больше, тем медианная цена на квартиру выше, за исключением пятикомнатных квартир, они стоят дешевле 3-х и 4-х комнатных. Медианная цена выше у квартир, находящихся не на первом и не на последнем этаже, при этом цена на квартиры, находящихся на первом этаже ниже, чем на квартиры, находящихся на последнем. А вот день и месяц публикации объявления практически не сказываются на цене квартиры, только в годе публикации прослеживается зависимость: дороже всего квартиры продавались в 2014 году, далее в 2015-2017 годах идет спад цен, что вызвано уменьшением площадей выставляемых на продажу квартир, в 2018-2019 годах не происходит увелечение медианной площади выставляемых квартир, но идет рост цен.**\n",
    "\n",
    "**Больше всего объявлений было выставлено в таких населенных пунктах, как Санкт-Петербург, Пушкин, Кудрово, Парголово, Мурино, Шушары, Колпино, Гатчина, Всеволожск, Выборг. Расположены они по убыванию цены за один квадратный метр.**\n",
    "\n",
    "**Зачастую цена за квадратный метр в Санкт-Петербурге уменьшается с каждым километром от центра города, дороже всего стоимость квадратного метра в центре или в 1-10 километрах от центра, там она варьируется в районе 107-126 тысяч за квадратный метр, на расстоянии же 27-29 километров от центра средняя цена за квадратный метр 70-83 тысячи рублей.**"
   ]
  }
 ],
 "metadata": {
  "ExecuteTimeLog": [
   {
    "duration": 672,
    "start_time": "2022-11-09T17:35:22.060Z"
   },
   {
    "duration": 96,
    "start_time": "2022-11-09T17:35:36.853Z"
   },
   {
    "duration": 462,
    "start_time": "2022-11-09T17:35:56.612Z"
   },
   {
    "duration": 85,
    "start_time": "2022-11-09T17:46:47.980Z"
   },
   {
    "duration": 93,
    "start_time": "2022-11-09T17:48:28.668Z"
   },
   {
    "duration": 99,
    "start_time": "2022-11-09T17:48:38.852Z"
   },
   {
    "duration": 91,
    "start_time": "2022-11-09T17:48:46.575Z"
   },
   {
    "duration": 86,
    "start_time": "2022-11-09T17:49:04.813Z"
   },
   {
    "duration": 87,
    "start_time": "2022-11-09T17:51:00.968Z"
   },
   {
    "duration": 7,
    "start_time": "2022-11-09T17:52:57.318Z"
   },
   {
    "duration": 102,
    "start_time": "2022-11-09T17:53:12.041Z"
   },
   {
    "duration": 102,
    "start_time": "2022-11-09T17:53:18.164Z"
   },
   {
    "duration": 117,
    "start_time": "2022-11-09T17:53:26.513Z"
   },
   {
    "duration": 2018,
    "start_time": "2022-11-09T17:53:41.747Z"
   },
   {
    "duration": 1886,
    "start_time": "2022-11-09T17:53:56.469Z"
   },
   {
    "duration": 2018,
    "start_time": "2022-11-09T17:54:23.450Z"
   },
   {
    "duration": 113,
    "start_time": "2022-11-09T17:54:41.280Z"
   },
   {
    "duration": 1868,
    "start_time": "2022-11-09T17:55:06.281Z"
   },
   {
    "duration": 524,
    "start_time": "2022-11-09T18:01:04.868Z"
   },
   {
    "duration": 2251,
    "start_time": "2022-11-09T18:01:05.394Z"
   },
   {
    "duration": 48,
    "start_time": "2022-11-09T18:21:25.107Z"
   },
   {
    "duration": 6,
    "start_time": "2022-11-09T18:21:42.250Z"
   },
   {
    "duration": 56,
    "start_time": "2022-11-09T18:21:48.248Z"
   },
   {
    "duration": 78,
    "start_time": "2022-11-09T18:22:02.339Z"
   },
   {
    "duration": 47,
    "start_time": "2022-11-09T18:22:04.019Z"
   },
   {
    "duration": 8,
    "start_time": "2022-11-09T18:22:24.324Z"
   },
   {
    "duration": 10,
    "start_time": "2022-11-09T18:23:01.873Z"
   },
   {
    "duration": 6,
    "start_time": "2022-11-09T18:29:50.619Z"
   },
   {
    "duration": 5,
    "start_time": "2022-11-09T18:43:07.340Z"
   },
   {
    "duration": 8,
    "start_time": "2022-11-09T19:10:09.984Z"
   },
   {
    "duration": 5,
    "start_time": "2022-11-09T19:10:31.282Z"
   },
   {
    "duration": 7,
    "start_time": "2022-11-09T19:10:40.121Z"
   },
   {
    "duration": 15,
    "start_time": "2022-11-09T19:10:58.567Z"
   },
   {
    "duration": 6,
    "start_time": "2022-11-09T19:13:17.597Z"
   },
   {
    "duration": 5,
    "start_time": "2022-11-09T19:14:10.015Z"
   },
   {
    "duration": 8,
    "start_time": "2022-11-09T19:14:25.906Z"
   },
   {
    "duration": 6,
    "start_time": "2022-11-09T19:14:28.448Z"
   },
   {
    "duration": 5,
    "start_time": "2022-11-09T19:14:35.159Z"
   },
   {
    "duration": 5,
    "start_time": "2022-11-09T19:14:38.312Z"
   },
   {
    "duration": 8,
    "start_time": "2022-11-09T19:16:27.256Z"
   },
   {
    "duration": 12,
    "start_time": "2022-11-09T19:38:07.416Z"
   },
   {
    "duration": 8,
    "start_time": "2022-11-09T19:38:14.869Z"
   },
   {
    "duration": 118,
    "start_time": "2022-11-09T19:39:24.629Z"
   },
   {
    "duration": 1932,
    "start_time": "2022-11-09T19:39:24.749Z"
   },
   {
    "duration": 9,
    "start_time": "2022-11-09T19:39:26.683Z"
   },
   {
    "duration": 13,
    "start_time": "2022-11-09T19:39:26.693Z"
   },
   {
    "duration": 14,
    "start_time": "2022-11-09T19:39:26.708Z"
   },
   {
    "duration": 7,
    "start_time": "2022-11-09T19:39:28.562Z"
   },
   {
    "duration": 7,
    "start_time": "2022-11-09T19:41:51.583Z"
   },
   {
    "duration": 25,
    "start_time": "2022-11-09T19:44:35.397Z"
   },
   {
    "duration": 7,
    "start_time": "2022-11-09T19:49:19.181Z"
   },
   {
    "duration": 4,
    "start_time": "2022-11-09T19:49:55.084Z"
   },
   {
    "duration": 15,
    "start_time": "2022-11-09T19:51:11.883Z"
   },
   {
    "duration": 14,
    "start_time": "2022-11-09T19:54:13.945Z"
   },
   {
    "duration": 9,
    "start_time": "2022-11-09T19:56:16.680Z"
   },
   {
    "duration": 739,
    "start_time": "2022-11-09T19:56:23.338Z"
   },
   {
    "duration": 14,
    "start_time": "2022-11-09T19:56:29.720Z"
   },
   {
    "duration": 703,
    "start_time": "2022-11-09T19:56:33.669Z"
   },
   {
    "duration": 15,
    "start_time": "2022-11-09T19:56:41.339Z"
   },
   {
    "duration": 11,
    "start_time": "2022-11-09T19:56:45.199Z"
   },
   {
    "duration": 9,
    "start_time": "2022-11-09T19:58:15.880Z"
   },
   {
    "duration": 26,
    "start_time": "2022-11-09T19:59:09.300Z"
   },
   {
    "duration": 5,
    "start_time": "2022-11-09T19:59:27.679Z"
   },
   {
    "duration": 33,
    "start_time": "2022-11-09T20:00:43.058Z"
   },
   {
    "duration": 128,
    "start_time": "2022-11-09T20:01:33.982Z"
   },
   {
    "duration": 2060,
    "start_time": "2022-11-09T20:01:34.112Z"
   },
   {
    "duration": 9,
    "start_time": "2022-11-09T20:01:36.174Z"
   },
   {
    "duration": 7,
    "start_time": "2022-11-09T20:01:36.185Z"
   },
   {
    "duration": 14,
    "start_time": "2022-11-09T20:01:36.194Z"
   },
   {
    "duration": 15,
    "start_time": "2022-11-09T20:01:36.209Z"
   },
   {
    "duration": 17,
    "start_time": "2022-11-09T20:01:36.225Z"
   },
   {
    "duration": 32,
    "start_time": "2022-11-09T20:01:36.244Z"
   },
   {
    "duration": 28,
    "start_time": "2022-11-09T20:07:27.600Z"
   },
   {
    "duration": 5,
    "start_time": "2022-11-09T20:07:30.142Z"
   },
   {
    "duration": 32,
    "start_time": "2022-11-09T20:11:11.490Z"
   },
   {
    "duration": 31,
    "start_time": "2022-11-09T20:11:21.407Z"
   },
   {
    "duration": 127,
    "start_time": "2022-11-09T20:16:25.535Z"
   },
   {
    "duration": 34,
    "start_time": "2022-11-09T20:17:58.372Z"
   },
   {
    "duration": 8,
    "start_time": "2022-11-09T20:18:07.638Z"
   },
   {
    "duration": 676,
    "start_time": "2022-11-09T20:18:23.668Z"
   },
   {
    "duration": 830,
    "start_time": "2022-11-09T20:31:07.072Z"
   },
   {
    "duration": 115,
    "start_time": "2022-11-09T20:31:39.705Z"
   },
   {
    "duration": 1975,
    "start_time": "2022-11-09T20:31:39.822Z"
   },
   {
    "duration": 10,
    "start_time": "2022-11-09T20:31:41.799Z"
   },
   {
    "duration": 7,
    "start_time": "2022-11-09T20:31:41.812Z"
   },
   {
    "duration": 6,
    "start_time": "2022-11-09T20:31:41.823Z"
   },
   {
    "duration": 38,
    "start_time": "2022-11-09T20:31:41.830Z"
   },
   {
    "duration": 11,
    "start_time": "2022-11-09T20:31:41.870Z"
   },
   {
    "duration": 4,
    "start_time": "2022-11-09T20:31:41.883Z"
   },
   {
    "duration": 38,
    "start_time": "2022-11-09T20:31:41.889Z"
   },
   {
    "duration": 7,
    "start_time": "2022-11-09T20:31:43.944Z"
   },
   {
    "duration": 7,
    "start_time": "2022-11-09T20:32:39.824Z"
   },
   {
    "duration": 6,
    "start_time": "2022-11-09T20:32:57.675Z"
   },
   {
    "duration": 7,
    "start_time": "2022-11-09T20:34:31.218Z"
   },
   {
    "duration": 8,
    "start_time": "2022-11-09T20:34:41.046Z"
   },
   {
    "duration": 8,
    "start_time": "2022-11-09T20:34:52.422Z"
   },
   {
    "duration": 5,
    "start_time": "2022-11-09T20:35:48.208Z"
   },
   {
    "duration": 6,
    "start_time": "2022-11-09T20:35:50.161Z"
   },
   {
    "duration": 571,
    "start_time": "2022-11-09T20:36:08.336Z"
   },
   {
    "duration": 2263,
    "start_time": "2022-11-09T20:36:08.910Z"
   },
   {
    "duration": 10,
    "start_time": "2022-11-09T20:36:11.175Z"
   },
   {
    "duration": 8,
    "start_time": "2022-11-09T20:36:11.187Z"
   },
   {
    "duration": 7,
    "start_time": "2022-11-09T20:36:11.197Z"
   },
   {
    "duration": 16,
    "start_time": "2022-11-09T20:36:11.206Z"
   },
   {
    "duration": 16,
    "start_time": "2022-11-09T20:36:11.224Z"
   },
   {
    "duration": 26,
    "start_time": "2022-11-09T20:36:11.242Z"
   },
   {
    "duration": 42,
    "start_time": "2022-11-09T20:36:11.270Z"
   },
   {
    "duration": 6,
    "start_time": "2022-11-09T20:36:11.315Z"
   },
   {
    "duration": 32,
    "start_time": "2022-11-09T20:36:11.322Z"
   },
   {
    "duration": 5,
    "start_time": "2022-11-09T20:36:18.976Z"
   },
   {
    "duration": 842,
    "start_time": "2022-11-09T20:37:22.569Z"
   },
   {
    "duration": 7,
    "start_time": "2022-11-09T20:37:28.828Z"
   },
   {
    "duration": 45,
    "start_time": "2022-11-09T20:38:48.326Z"
   },
   {
    "duration": 10,
    "start_time": "2022-11-09T20:42:51.127Z"
   },
   {
    "duration": 55,
    "start_time": "2022-11-09T20:43:18.205Z"
   },
   {
    "duration": 8,
    "start_time": "2022-11-09T20:43:43.627Z"
   },
   {
    "duration": 151,
    "start_time": "2022-11-09T20:43:53.928Z"
   },
   {
    "duration": 2564,
    "start_time": "2022-11-09T20:43:54.082Z"
   },
   {
    "duration": 20,
    "start_time": "2022-11-09T20:43:56.649Z"
   },
   {
    "duration": 10,
    "start_time": "2022-11-09T20:43:56.672Z"
   },
   {
    "duration": 24,
    "start_time": "2022-11-09T20:43:56.684Z"
   },
   {
    "duration": 22,
    "start_time": "2022-11-09T20:43:56.710Z"
   },
   {
    "duration": 16,
    "start_time": "2022-11-09T20:43:56.734Z"
   },
   {
    "duration": 6,
    "start_time": "2022-11-09T20:43:56.752Z"
   },
   {
    "duration": 43,
    "start_time": "2022-11-09T20:43:56.759Z"
   },
   {
    "duration": 6,
    "start_time": "2022-11-09T20:43:56.805Z"
   },
   {
    "duration": 10,
    "start_time": "2022-11-09T20:43:56.813Z"
   },
   {
    "duration": 17,
    "start_time": "2022-11-09T20:43:56.825Z"
   },
   {
    "duration": 8,
    "start_time": "2022-11-09T20:45:34.756Z"
   },
   {
    "duration": 8,
    "start_time": "2022-11-09T20:46:44.310Z"
   },
   {
    "duration": 65,
    "start_time": "2022-11-09T20:48:18.239Z"
   },
   {
    "duration": 48,
    "start_time": "2022-11-11T15:18:43.918Z"
   },
   {
    "duration": 790,
    "start_time": "2022-11-11T15:18:53.953Z"
   },
   {
    "duration": 2532,
    "start_time": "2022-11-11T15:18:54.745Z"
   },
   {
    "duration": 9,
    "start_time": "2022-11-11T15:18:57.279Z"
   },
   {
    "duration": 7,
    "start_time": "2022-11-11T15:18:57.290Z"
   },
   {
    "duration": 6,
    "start_time": "2022-11-11T15:18:57.299Z"
   },
   {
    "duration": 8,
    "start_time": "2022-11-11T15:18:57.307Z"
   },
   {
    "duration": 9,
    "start_time": "2022-11-11T15:18:57.317Z"
   },
   {
    "duration": 6,
    "start_time": "2022-11-11T15:18:57.328Z"
   },
   {
    "duration": 34,
    "start_time": "2022-11-11T15:18:57.367Z"
   },
   {
    "duration": 4,
    "start_time": "2022-11-11T15:18:57.403Z"
   },
   {
    "duration": 7,
    "start_time": "2022-11-11T15:18:57.409Z"
   },
   {
    "duration": 13,
    "start_time": "2022-11-11T15:18:57.418Z"
   },
   {
    "duration": 8,
    "start_time": "2022-11-11T15:18:57.433Z"
   },
   {
    "duration": 38,
    "start_time": "2022-11-11T15:18:58.353Z"
   },
   {
    "duration": 40,
    "start_time": "2022-11-11T15:31:30.160Z"
   },
   {
    "duration": 7,
    "start_time": "2022-11-11T15:31:57.213Z"
   },
   {
    "duration": 45,
    "start_time": "2022-11-11T15:37:51.174Z"
   },
   {
    "duration": 473,
    "start_time": "2022-11-11T15:38:05.325Z"
   },
   {
    "duration": 2,
    "start_time": "2022-11-11T15:44:23.448Z"
   },
   {
    "duration": 43,
    "start_time": "2022-11-11T15:44:44.751Z"
   },
   {
    "duration": 122,
    "start_time": "2022-11-11T15:45:13.885Z"
   },
   {
    "duration": 2190,
    "start_time": "2022-11-11T15:45:14.009Z"
   },
   {
    "duration": 10,
    "start_time": "2022-11-11T15:45:16.201Z"
   },
   {
    "duration": 7,
    "start_time": "2022-11-11T15:45:16.214Z"
   },
   {
    "duration": 26,
    "start_time": "2022-11-11T15:45:16.225Z"
   },
   {
    "duration": 19,
    "start_time": "2022-11-11T15:45:16.253Z"
   },
   {
    "duration": 23,
    "start_time": "2022-11-11T15:45:16.273Z"
   },
   {
    "duration": 4,
    "start_time": "2022-11-11T15:45:16.299Z"
   },
   {
    "duration": 39,
    "start_time": "2022-11-11T15:45:16.305Z"
   },
   {
    "duration": 5,
    "start_time": "2022-11-11T15:45:16.346Z"
   },
   {
    "duration": 19,
    "start_time": "2022-11-11T15:45:16.353Z"
   },
   {
    "duration": 20,
    "start_time": "2022-11-11T15:45:16.374Z"
   },
   {
    "duration": 9,
    "start_time": "2022-11-11T15:45:16.396Z"
   },
   {
    "duration": 9,
    "start_time": "2022-11-11T15:45:19.228Z"
   },
   {
    "duration": 66,
    "start_time": "2022-11-11T15:45:21.841Z"
   },
   {
    "duration": 1451,
    "start_time": "2022-11-11T15:45:27.941Z"
   },
   {
    "duration": 130,
    "start_time": "2022-11-11T15:46:54.007Z"
   },
   {
    "duration": 2088,
    "start_time": "2022-11-11T15:46:54.139Z"
   },
   {
    "duration": 9,
    "start_time": "2022-11-11T15:46:56.229Z"
   },
   {
    "duration": 10,
    "start_time": "2022-11-11T15:46:56.240Z"
   },
   {
    "duration": 8,
    "start_time": "2022-11-11T15:46:56.269Z"
   },
   {
    "duration": 33,
    "start_time": "2022-11-11T15:46:56.278Z"
   },
   {
    "duration": 16,
    "start_time": "2022-11-11T15:46:56.313Z"
   },
   {
    "duration": 8,
    "start_time": "2022-11-11T15:46:56.331Z"
   },
   {
    "duration": 35,
    "start_time": "2022-11-11T15:46:56.341Z"
   },
   {
    "duration": 5,
    "start_time": "2022-11-11T15:46:56.378Z"
   },
   {
    "duration": 10,
    "start_time": "2022-11-11T15:46:56.385Z"
   },
   {
    "duration": 13,
    "start_time": "2022-11-11T15:46:56.397Z"
   },
   {
    "duration": 23,
    "start_time": "2022-11-11T15:46:56.412Z"
   },
   {
    "duration": 21,
    "start_time": "2022-11-11T15:46:56.438Z"
   },
   {
    "duration": 1422,
    "start_time": "2022-11-11T15:46:58.181Z"
   },
   {
    "duration": 8,
    "start_time": "2022-11-11T15:47:29.467Z"
   },
   {
    "duration": 5,
    "start_time": "2022-11-11T15:47:35.089Z"
   },
   {
    "duration": 128,
    "start_time": "2022-11-11T15:47:38.988Z"
   },
   {
    "duration": 2027,
    "start_time": "2022-11-11T15:47:39.118Z"
   },
   {
    "duration": 9,
    "start_time": "2022-11-11T15:47:41.146Z"
   },
   {
    "duration": 17,
    "start_time": "2022-11-11T15:47:41.157Z"
   },
   {
    "duration": 17,
    "start_time": "2022-11-11T15:47:41.176Z"
   },
   {
    "duration": 9,
    "start_time": "2022-11-11T15:47:41.194Z"
   },
   {
    "duration": 8,
    "start_time": "2022-11-11T15:47:41.204Z"
   },
   {
    "duration": 4,
    "start_time": "2022-11-11T15:47:41.213Z"
   },
   {
    "duration": 30,
    "start_time": "2022-11-11T15:47:41.219Z"
   },
   {
    "duration": 6,
    "start_time": "2022-11-11T15:47:41.279Z"
   },
   {
    "duration": 11,
    "start_time": "2022-11-11T15:47:41.286Z"
   },
   {
    "duration": 15,
    "start_time": "2022-11-11T15:47:41.298Z"
   },
   {
    "duration": 8,
    "start_time": "2022-11-11T15:47:41.316Z"
   },
   {
    "duration": 12,
    "start_time": "2022-11-11T15:47:41.325Z"
   },
   {
    "duration": 1495,
    "start_time": "2022-11-11T15:47:41.339Z"
   },
   {
    "duration": 4,
    "start_time": "2022-11-11T15:47:51.062Z"
   },
   {
    "duration": 134,
    "start_time": "2022-11-11T15:50:19.285Z"
   },
   {
    "duration": 1941,
    "start_time": "2022-11-11T15:50:19.421Z"
   },
   {
    "duration": 15,
    "start_time": "2022-11-11T15:50:21.368Z"
   },
   {
    "duration": 8,
    "start_time": "2022-11-11T15:50:21.385Z"
   },
   {
    "duration": 7,
    "start_time": "2022-11-11T15:50:21.395Z"
   },
   {
    "duration": 7,
    "start_time": "2022-11-11T15:50:21.403Z"
   },
   {
    "duration": 7,
    "start_time": "2022-11-11T15:50:21.412Z"
   },
   {
    "duration": 6,
    "start_time": "2022-11-11T15:50:21.421Z"
   },
   {
    "duration": 68,
    "start_time": "2022-11-11T15:50:21.428Z"
   },
   {
    "duration": 5,
    "start_time": "2022-11-11T15:50:21.498Z"
   },
   {
    "duration": 13,
    "start_time": "2022-11-11T15:50:21.504Z"
   },
   {
    "duration": 9,
    "start_time": "2022-11-11T15:50:21.518Z"
   },
   {
    "duration": 6,
    "start_time": "2022-11-11T15:50:21.529Z"
   },
   {
    "duration": 31,
    "start_time": "2022-11-11T15:50:21.537Z"
   },
   {
    "duration": 8,
    "start_time": "2022-11-11T15:50:24.680Z"
   },
   {
    "duration": 9,
    "start_time": "2022-11-11T16:17:11.493Z"
   },
   {
    "duration": 9,
    "start_time": "2022-11-11T16:17:25.698Z"
   },
   {
    "duration": 8,
    "start_time": "2022-11-11T16:17:48.863Z"
   },
   {
    "duration": 9,
    "start_time": "2022-11-11T16:18:23.156Z"
   },
   {
    "duration": 7,
    "start_time": "2022-11-11T16:18:29.845Z"
   },
   {
    "duration": 4,
    "start_time": "2022-11-11T16:19:14.203Z"
   },
   {
    "duration": 1285,
    "start_time": "2022-11-11T16:19:23.306Z"
   },
   {
    "duration": 5,
    "start_time": "2022-11-11T16:19:24.994Z"
   },
   {
    "duration": 6,
    "start_time": "2022-11-11T16:19:33.223Z"
   },
   {
    "duration": 38,
    "start_time": "2022-11-11T16:19:45.335Z"
   },
   {
    "duration": 7,
    "start_time": "2022-11-11T16:20:00.908Z"
   },
   {
    "duration": 6,
    "start_time": "2022-11-11T16:20:14.191Z"
   },
   {
    "duration": 4,
    "start_time": "2022-11-11T16:21:53.414Z"
   },
   {
    "duration": 41,
    "start_time": "2022-11-11T16:21:57.016Z"
   },
   {
    "duration": 4,
    "start_time": "2022-11-11T16:22:06.303Z"
   },
   {
    "duration": 45,
    "start_time": "2022-11-11T16:22:14.574Z"
   },
   {
    "duration": 7,
    "start_time": "2022-11-11T16:22:28.457Z"
   },
   {
    "duration": 7,
    "start_time": "2022-11-11T16:22:41.027Z"
   },
   {
    "duration": 8,
    "start_time": "2022-11-11T16:22:52.509Z"
   },
   {
    "duration": 8,
    "start_time": "2022-11-11T16:23:10.438Z"
   },
   {
    "duration": 133,
    "start_time": "2022-11-11T16:26:46.967Z"
   },
   {
    "duration": 2043,
    "start_time": "2022-11-11T16:26:47.103Z"
   },
   {
    "duration": 9,
    "start_time": "2022-11-11T16:26:49.148Z"
   },
   {
    "duration": 13,
    "start_time": "2022-11-11T16:26:49.158Z"
   },
   {
    "duration": 7,
    "start_time": "2022-11-11T16:26:49.173Z"
   },
   {
    "duration": 11,
    "start_time": "2022-11-11T16:26:49.181Z"
   },
   {
    "duration": 7,
    "start_time": "2022-11-11T16:26:49.194Z"
   },
   {
    "duration": 4,
    "start_time": "2022-11-11T16:26:49.202Z"
   },
   {
    "duration": 28,
    "start_time": "2022-11-11T16:26:49.208Z"
   },
   {
    "duration": 32,
    "start_time": "2022-11-11T16:26:49.237Z"
   },
   {
    "duration": 5,
    "start_time": "2022-11-11T16:26:49.270Z"
   },
   {
    "duration": 9,
    "start_time": "2022-11-11T16:26:49.277Z"
   },
   {
    "duration": 11,
    "start_time": "2022-11-11T16:26:49.288Z"
   },
   {
    "duration": 10,
    "start_time": "2022-11-11T16:26:49.301Z"
   },
   {
    "duration": 1294,
    "start_time": "2022-11-11T16:26:53.429Z"
   },
   {
    "duration": 7,
    "start_time": "2022-11-11T16:30:02.677Z"
   },
   {
    "duration": 9,
    "start_time": "2022-11-11T16:39:54.306Z"
   },
   {
    "duration": 349,
    "start_time": "2022-11-11T16:56:33.402Z"
   },
   {
    "duration": 334,
    "start_time": "2022-11-11T16:57:46.739Z"
   },
   {
    "duration": 8,
    "start_time": "2022-11-11T16:58:21.609Z"
   },
   {
    "duration": 25,
    "start_time": "2022-11-11T16:58:33.357Z"
   },
   {
    "duration": 12,
    "start_time": "2022-11-11T16:58:46.520Z"
   },
   {
    "duration": 5,
    "start_time": "2022-11-11T17:00:35.656Z"
   },
   {
    "duration": 4,
    "start_time": "2022-11-11T17:02:56.815Z"
   },
   {
    "duration": 783,
    "start_time": "2022-11-11T17:05:23.353Z"
   },
   {
    "duration": 6,
    "start_time": "2022-11-11T17:05:29.072Z"
   },
   {
    "duration": 9,
    "start_time": "2022-11-11T17:06:26.922Z"
   },
   {
    "duration": 126,
    "start_time": "2022-11-11T17:06:33.427Z"
   },
   {
    "duration": 1909,
    "start_time": "2022-11-11T17:06:33.555Z"
   },
   {
    "duration": 10,
    "start_time": "2022-11-11T17:06:35.466Z"
   },
   {
    "duration": 36,
    "start_time": "2022-11-11T17:06:35.477Z"
   },
   {
    "duration": 13,
    "start_time": "2022-11-11T17:06:35.516Z"
   },
   {
    "duration": 28,
    "start_time": "2022-11-11T17:06:35.531Z"
   },
   {
    "duration": 39,
    "start_time": "2022-11-11T17:06:35.561Z"
   },
   {
    "duration": 25,
    "start_time": "2022-11-11T17:06:35.602Z"
   },
   {
    "duration": 60,
    "start_time": "2022-11-11T17:06:35.629Z"
   },
   {
    "duration": 5,
    "start_time": "2022-11-11T17:06:35.691Z"
   },
   {
    "duration": 9,
    "start_time": "2022-11-11T17:06:35.698Z"
   },
   {
    "duration": 9,
    "start_time": "2022-11-11T17:06:36.999Z"
   },
   {
    "duration": 6,
    "start_time": "2022-11-11T17:06:41.795Z"
   },
   {
    "duration": 4,
    "start_time": "2022-11-11T17:07:18.122Z"
   },
   {
    "duration": 5,
    "start_time": "2022-11-11T17:08:59.139Z"
   },
   {
    "duration": 29,
    "start_time": "2022-11-11T17:10:01.791Z"
   },
   {
    "duration": 132,
    "start_time": "2022-11-11T17:10:10.355Z"
   },
   {
    "duration": 2009,
    "start_time": "2022-11-11T17:10:10.489Z"
   },
   {
    "duration": 11,
    "start_time": "2022-11-11T17:10:12.500Z"
   },
   {
    "duration": 19,
    "start_time": "2022-11-11T17:10:12.513Z"
   },
   {
    "duration": 6,
    "start_time": "2022-11-11T17:10:12.534Z"
   },
   {
    "duration": 7,
    "start_time": "2022-11-11T17:10:12.541Z"
   },
   {
    "duration": 27,
    "start_time": "2022-11-11T17:10:12.549Z"
   },
   {
    "duration": 3,
    "start_time": "2022-11-11T17:10:12.578Z"
   },
   {
    "duration": 33,
    "start_time": "2022-11-11T17:10:12.582Z"
   },
   {
    "duration": 4,
    "start_time": "2022-11-11T17:10:12.617Z"
   },
   {
    "duration": 6,
    "start_time": "2022-11-11T17:10:12.623Z"
   },
   {
    "duration": 25,
    "start_time": "2022-11-11T17:10:12.630Z"
   },
   {
    "duration": 23,
    "start_time": "2022-11-11T17:10:12.657Z"
   },
   {
    "duration": 9,
    "start_time": "2022-11-11T17:10:12.683Z"
   },
   {
    "duration": 1279,
    "start_time": "2022-11-11T17:10:12.693Z"
   },
   {
    "duration": 6,
    "start_time": "2022-11-11T17:10:13.973Z"
   },
   {
    "duration": 10,
    "start_time": "2022-11-11T17:10:13.981Z"
   },
   {
    "duration": 8,
    "start_time": "2022-11-11T17:10:13.992Z"
   },
   {
    "duration": 8,
    "start_time": "2022-11-11T17:10:14.002Z"
   },
   {
    "duration": 5,
    "start_time": "2022-11-11T17:10:14.012Z"
   },
   {
    "duration": 16,
    "start_time": "2022-11-11T17:10:15.590Z"
   },
   {
    "duration": 5,
    "start_time": "2022-11-11T17:10:28.034Z"
   },
   {
    "duration": 5,
    "start_time": "2022-11-11T17:11:14.086Z"
   },
   {
    "duration": 18,
    "start_time": "2022-11-11T17:13:43.782Z"
   },
   {
    "duration": 14,
    "start_time": "2022-11-11T17:13:56.042Z"
   },
   {
    "duration": 55,
    "start_time": "2022-11-11T17:15:14.934Z"
   },
   {
    "duration": 278,
    "start_time": "2022-11-11T17:15:21.621Z"
   },
   {
    "duration": 6,
    "start_time": "2022-11-11T17:15:32.272Z"
   },
   {
    "duration": 13,
    "start_time": "2022-11-11T17:18:25.334Z"
   },
   {
    "duration": 7,
    "start_time": "2022-11-11T20:09:12.032Z"
   },
   {
    "duration": 10,
    "start_time": "2022-11-11T20:09:36.471Z"
   },
   {
    "duration": 9,
    "start_time": "2022-11-11T20:10:01.375Z"
   },
   {
    "duration": 8,
    "start_time": "2022-11-11T20:10:12.304Z"
   },
   {
    "duration": 8,
    "start_time": "2022-11-11T20:10:21.030Z"
   },
   {
    "duration": 10,
    "start_time": "2022-11-11T20:11:23.064Z"
   },
   {
    "duration": 8,
    "start_time": "2022-11-11T20:12:20.902Z"
   },
   {
    "duration": 52,
    "start_time": "2022-11-11T20:13:09.310Z"
   },
   {
    "duration": 8,
    "start_time": "2022-11-11T20:13:31.794Z"
   },
   {
    "duration": 15,
    "start_time": "2022-11-11T20:13:38.076Z"
   },
   {
    "duration": 9,
    "start_time": "2022-11-11T20:14:04.356Z"
   },
   {
    "duration": 8,
    "start_time": "2022-11-11T20:14:45.491Z"
   },
   {
    "duration": 8,
    "start_time": "2022-11-11T20:14:48.923Z"
   },
   {
    "duration": 7,
    "start_time": "2022-11-11T20:14:52.141Z"
   },
   {
    "duration": 105,
    "start_time": "2022-11-11T20:33:31.729Z"
   },
   {
    "duration": 7,
    "start_time": "2022-11-11T20:33:38.857Z"
   },
   {
    "duration": 116,
    "start_time": "2022-11-11T20:34:00.942Z"
   },
   {
    "duration": 6,
    "start_time": "2022-11-11T20:34:04.032Z"
   },
   {
    "duration": 182,
    "start_time": "2022-11-11T20:35:00.259Z"
   },
   {
    "duration": 6,
    "start_time": "2022-11-11T20:35:02.536Z"
   },
   {
    "duration": 120,
    "start_time": "2022-11-11T20:39:54.680Z"
   },
   {
    "duration": 1888,
    "start_time": "2022-11-11T20:39:54.802Z"
   },
   {
    "duration": 11,
    "start_time": "2022-11-11T20:39:56.692Z"
   },
   {
    "duration": 7,
    "start_time": "2022-11-11T20:39:56.705Z"
   },
   {
    "duration": 6,
    "start_time": "2022-11-11T20:39:56.715Z"
   },
   {
    "duration": 7,
    "start_time": "2022-11-11T20:39:56.723Z"
   },
   {
    "duration": 41,
    "start_time": "2022-11-11T20:39:56.732Z"
   },
   {
    "duration": 4,
    "start_time": "2022-11-11T20:39:56.776Z"
   },
   {
    "duration": 33,
    "start_time": "2022-11-11T20:39:56.781Z"
   },
   {
    "duration": 5,
    "start_time": "2022-11-11T20:39:56.816Z"
   },
   {
    "duration": 5,
    "start_time": "2022-11-11T20:39:56.823Z"
   },
   {
    "duration": 42,
    "start_time": "2022-11-11T20:39:56.830Z"
   },
   {
    "duration": 7,
    "start_time": "2022-11-11T20:39:56.874Z"
   },
   {
    "duration": 9,
    "start_time": "2022-11-11T20:39:56.884Z"
   },
   {
    "duration": 1458,
    "start_time": "2022-11-11T20:39:56.895Z"
   },
   {
    "duration": 15,
    "start_time": "2022-11-11T20:39:58.355Z"
   },
   {
    "duration": 10,
    "start_time": "2022-11-11T20:39:58.372Z"
   },
   {
    "duration": 8,
    "start_time": "2022-11-11T20:39:58.384Z"
   },
   {
    "duration": 5,
    "start_time": "2022-11-11T20:39:58.393Z"
   },
   {
    "duration": 6,
    "start_time": "2022-11-11T20:39:58.400Z"
   },
   {
    "duration": 8,
    "start_time": "2022-11-11T20:39:58.407Z"
   },
   {
    "duration": 175,
    "start_time": "2022-11-11T20:40:01.584Z"
   },
   {
    "duration": 119,
    "start_time": "2022-11-11T20:40:29.849Z"
   },
   {
    "duration": 1859,
    "start_time": "2022-11-11T20:40:29.970Z"
   },
   {
    "duration": 9,
    "start_time": "2022-11-11T20:40:31.830Z"
   },
   {
    "duration": 12,
    "start_time": "2022-11-11T20:40:31.841Z"
   },
   {
    "duration": 5,
    "start_time": "2022-11-11T20:40:31.868Z"
   },
   {
    "duration": 9,
    "start_time": "2022-11-11T20:40:31.875Z"
   },
   {
    "duration": 7,
    "start_time": "2022-11-11T20:40:31.885Z"
   },
   {
    "duration": 4,
    "start_time": "2022-11-11T20:40:31.894Z"
   },
   {
    "duration": 43,
    "start_time": "2022-11-11T20:40:31.899Z"
   },
   {
    "duration": 5,
    "start_time": "2022-11-11T20:40:31.943Z"
   },
   {
    "duration": 19,
    "start_time": "2022-11-11T20:40:31.949Z"
   },
   {
    "duration": 12,
    "start_time": "2022-11-11T20:40:31.970Z"
   },
   {
    "duration": 11,
    "start_time": "2022-11-11T20:40:31.984Z"
   },
   {
    "duration": 8,
    "start_time": "2022-11-11T20:40:31.998Z"
   },
   {
    "duration": 1251,
    "start_time": "2022-11-11T20:40:32.007Z"
   },
   {
    "duration": 12,
    "start_time": "2022-11-11T20:40:33.260Z"
   },
   {
    "duration": 12,
    "start_time": "2022-11-11T20:40:33.273Z"
   },
   {
    "duration": 7,
    "start_time": "2022-11-11T20:40:33.287Z"
   },
   {
    "duration": 6,
    "start_time": "2022-11-11T20:40:33.296Z"
   },
   {
    "duration": 6,
    "start_time": "2022-11-11T20:40:33.303Z"
   },
   {
    "duration": 7,
    "start_time": "2022-11-11T20:40:33.310Z"
   },
   {
    "duration": 173,
    "start_time": "2022-11-11T20:40:39.030Z"
   },
   {
    "duration": 161,
    "start_time": "2022-11-11T20:40:55.172Z"
   },
   {
    "duration": 121,
    "start_time": "2022-11-11T20:41:31.173Z"
   },
   {
    "duration": 1807,
    "start_time": "2022-11-11T20:41:31.296Z"
   },
   {
    "duration": 10,
    "start_time": "2022-11-11T20:41:33.104Z"
   },
   {
    "duration": 6,
    "start_time": "2022-11-11T20:41:33.116Z"
   },
   {
    "duration": 6,
    "start_time": "2022-11-11T20:41:33.124Z"
   },
   {
    "duration": 10,
    "start_time": "2022-11-11T20:41:33.131Z"
   },
   {
    "duration": 8,
    "start_time": "2022-11-11T20:41:33.169Z"
   },
   {
    "duration": 4,
    "start_time": "2022-11-11T20:41:33.178Z"
   },
   {
    "duration": 32,
    "start_time": "2022-11-11T20:41:33.184Z"
   },
   {
    "duration": 4,
    "start_time": "2022-11-11T20:41:33.219Z"
   },
   {
    "duration": 9,
    "start_time": "2022-11-11T20:41:33.225Z"
   },
   {
    "duration": 9,
    "start_time": "2022-11-11T20:41:33.235Z"
   },
   {
    "duration": 6,
    "start_time": "2022-11-11T20:41:33.268Z"
   },
   {
    "duration": 9,
    "start_time": "2022-11-11T20:41:33.276Z"
   },
   {
    "duration": 1270,
    "start_time": "2022-11-11T20:41:33.286Z"
   },
   {
    "duration": 14,
    "start_time": "2022-11-11T20:41:34.558Z"
   },
   {
    "duration": 12,
    "start_time": "2022-11-11T20:41:34.574Z"
   },
   {
    "duration": 7,
    "start_time": "2022-11-11T20:41:34.587Z"
   },
   {
    "duration": 5,
    "start_time": "2022-11-11T20:41:34.596Z"
   },
   {
    "duration": 5,
    "start_time": "2022-11-11T20:41:34.603Z"
   },
   {
    "duration": 6,
    "start_time": "2022-11-11T20:41:34.609Z"
   },
   {
    "duration": 5,
    "start_time": "2022-11-11T20:41:50.685Z"
   },
   {
    "duration": 177,
    "start_time": "2022-11-11T20:42:16.649Z"
   },
   {
    "duration": 6,
    "start_time": "2022-11-11T20:42:30.249Z"
   },
   {
    "duration": 148,
    "start_time": "2022-11-11T20:42:35.848Z"
   },
   {
    "duration": 2172,
    "start_time": "2022-11-11T20:42:35.999Z"
   },
   {
    "duration": 9,
    "start_time": "2022-11-11T20:42:38.173Z"
   },
   {
    "duration": 15,
    "start_time": "2022-11-11T20:42:38.183Z"
   },
   {
    "duration": 10,
    "start_time": "2022-11-11T20:42:38.201Z"
   },
   {
    "duration": 15,
    "start_time": "2022-11-11T20:42:38.213Z"
   },
   {
    "duration": 10,
    "start_time": "2022-11-11T20:42:38.230Z"
   },
   {
    "duration": 5,
    "start_time": "2022-11-11T20:42:38.242Z"
   },
   {
    "duration": 51,
    "start_time": "2022-11-11T20:42:38.248Z"
   },
   {
    "duration": 5,
    "start_time": "2022-11-11T20:42:38.301Z"
   },
   {
    "duration": 10,
    "start_time": "2022-11-11T20:42:38.307Z"
   },
   {
    "duration": 21,
    "start_time": "2022-11-11T20:42:38.318Z"
   },
   {
    "duration": 9,
    "start_time": "2022-11-11T20:42:38.340Z"
   },
   {
    "duration": 14,
    "start_time": "2022-11-11T20:42:38.352Z"
   },
   {
    "duration": 1269,
    "start_time": "2022-11-11T20:42:38.367Z"
   },
   {
    "duration": 7,
    "start_time": "2022-11-11T20:42:39.638Z"
   },
   {
    "duration": 26,
    "start_time": "2022-11-11T20:42:39.646Z"
   },
   {
    "duration": 8,
    "start_time": "2022-11-11T20:42:39.673Z"
   },
   {
    "duration": 9,
    "start_time": "2022-11-11T20:42:39.682Z"
   },
   {
    "duration": 10,
    "start_time": "2022-11-11T20:42:39.693Z"
   },
   {
    "duration": 6,
    "start_time": "2022-11-11T20:42:39.705Z"
   },
   {
    "duration": 9,
    "start_time": "2022-11-11T20:42:39.712Z"
   },
   {
    "duration": 183,
    "start_time": "2022-11-11T20:43:03.646Z"
   },
   {
    "duration": 144,
    "start_time": "2022-11-11T20:43:25.931Z"
   },
   {
    "duration": 1953,
    "start_time": "2022-11-11T20:43:26.077Z"
   },
   {
    "duration": 9,
    "start_time": "2022-11-11T20:43:28.032Z"
   },
   {
    "duration": 6,
    "start_time": "2022-11-11T20:43:28.044Z"
   },
   {
    "duration": 20,
    "start_time": "2022-11-11T20:43:28.052Z"
   },
   {
    "duration": 7,
    "start_time": "2022-11-11T20:43:28.074Z"
   },
   {
    "duration": 9,
    "start_time": "2022-11-11T20:43:28.082Z"
   },
   {
    "duration": 4,
    "start_time": "2022-11-11T20:43:28.092Z"
   },
   {
    "duration": 32,
    "start_time": "2022-11-11T20:43:28.097Z"
   },
   {
    "duration": 36,
    "start_time": "2022-11-11T20:43:28.132Z"
   },
   {
    "duration": 5,
    "start_time": "2022-11-11T20:43:28.170Z"
   },
   {
    "duration": 11,
    "start_time": "2022-11-11T20:43:28.177Z"
   },
   {
    "duration": 7,
    "start_time": "2022-11-11T20:43:28.190Z"
   },
   {
    "duration": 8,
    "start_time": "2022-11-11T20:43:28.198Z"
   },
   {
    "duration": 1292,
    "start_time": "2022-11-11T20:43:28.208Z"
   },
   {
    "duration": 7,
    "start_time": "2022-11-11T20:43:29.502Z"
   },
   {
    "duration": 17,
    "start_time": "2022-11-11T20:43:29.510Z"
   },
   {
    "duration": 9,
    "start_time": "2022-11-11T20:43:29.528Z"
   },
   {
    "duration": 9,
    "start_time": "2022-11-11T20:43:29.538Z"
   },
   {
    "duration": 5,
    "start_time": "2022-11-11T20:43:29.567Z"
   },
   {
    "duration": 8,
    "start_time": "2022-11-11T20:43:29.573Z"
   },
   {
    "duration": 22,
    "start_time": "2022-11-11T20:43:29.583Z"
   },
   {
    "duration": 167,
    "start_time": "2022-11-11T20:43:31.238Z"
   },
   {
    "duration": 163,
    "start_time": "2022-11-11T20:43:35.543Z"
   },
   {
    "duration": 8,
    "start_time": "2022-11-11T20:46:13.493Z"
   },
   {
    "duration": 10,
    "start_time": "2022-11-11T20:55:38.937Z"
   },
   {
    "duration": 9,
    "start_time": "2022-11-11T20:56:07.102Z"
   },
   {
    "duration": 134,
    "start_time": "2022-11-11T20:56:35.570Z"
   },
   {
    "duration": 112,
    "start_time": "2022-11-11T20:59:39.737Z"
   },
   {
    "duration": 185,
    "start_time": "2022-11-11T20:59:51.196Z"
   },
   {
    "duration": 155,
    "start_time": "2022-11-11T21:00:05.937Z"
   },
   {
    "duration": 119,
    "start_time": "2022-11-11T21:01:01.161Z"
   },
   {
    "duration": 110,
    "start_time": "2022-11-11T21:01:07.309Z"
   },
   {
    "duration": 117,
    "start_time": "2022-11-11T21:02:38.047Z"
   },
   {
    "duration": 106,
    "start_time": "2022-11-11T21:02:50.779Z"
   },
   {
    "duration": 121,
    "start_time": "2022-11-11T21:03:30.691Z"
   },
   {
    "duration": 6,
    "start_time": "2022-11-11T21:19:50.789Z"
   },
   {
    "duration": 6,
    "start_time": "2022-11-11T21:19:53.279Z"
   },
   {
    "duration": 116,
    "start_time": "2022-11-11T21:20:57.522Z"
   },
   {
    "duration": 348,
    "start_time": "2022-11-11T21:22:47.190Z"
   },
   {
    "duration": 7,
    "start_time": "2022-11-11T21:22:52.976Z"
   },
   {
    "duration": 7,
    "start_time": "2022-11-11T21:22:59.260Z"
   },
   {
    "duration": 127,
    "start_time": "2022-11-11T21:27:41.421Z"
   },
   {
    "duration": 132,
    "start_time": "2022-11-11T21:27:55.849Z"
   },
   {
    "duration": 137,
    "start_time": "2022-11-11T21:28:25.006Z"
   },
   {
    "duration": 115,
    "start_time": "2022-11-11T21:29:48.927Z"
   },
   {
    "duration": 239,
    "start_time": "2022-11-11T21:29:52.593Z"
   },
   {
    "duration": 187,
    "start_time": "2022-11-11T21:29:56.555Z"
   },
   {
    "duration": 155,
    "start_time": "2022-11-11T21:30:04.483Z"
   },
   {
    "duration": 172,
    "start_time": "2022-11-11T21:30:10.489Z"
   },
   {
    "duration": 174,
    "start_time": "2022-11-11T21:30:19.282Z"
   },
   {
    "duration": 8,
    "start_time": "2022-11-11T21:31:11.509Z"
   },
   {
    "duration": 204,
    "start_time": "2022-11-11T21:31:41.011Z"
   },
   {
    "duration": 192,
    "start_time": "2022-11-11T21:32:29.210Z"
   },
   {
    "duration": 513,
    "start_time": "2022-11-11T21:32:32.920Z"
   },
   {
    "duration": 171,
    "start_time": "2022-11-11T21:32:37.921Z"
   },
   {
    "duration": 174,
    "start_time": "2022-11-11T21:32:40.789Z"
   },
   {
    "duration": 195,
    "start_time": "2022-11-11T21:32:44.619Z"
   },
   {
    "duration": 181,
    "start_time": "2022-11-11T21:33:17.419Z"
   },
   {
    "duration": 183,
    "start_time": "2022-11-11T21:33:24.309Z"
   },
   {
    "duration": 135,
    "start_time": "2022-11-11T21:33:28.240Z"
   },
   {
    "duration": 196,
    "start_time": "2022-11-11T21:33:32.858Z"
   },
   {
    "duration": 193,
    "start_time": "2022-11-11T21:33:45.042Z"
   },
   {
    "duration": 166,
    "start_time": "2022-11-11T21:33:51.533Z"
   },
   {
    "duration": 162,
    "start_time": "2022-11-11T21:33:57.098Z"
   },
   {
    "duration": 160,
    "start_time": "2022-11-11T21:34:00.017Z"
   },
   {
    "duration": 7,
    "start_time": "2022-11-11T21:34:11.396Z"
   },
   {
    "duration": 7,
    "start_time": "2022-11-11T21:35:26.626Z"
   },
   {
    "duration": 8,
    "start_time": "2022-11-11T21:35:32.689Z"
   },
   {
    "duration": 6,
    "start_time": "2022-11-11T21:35:34.754Z"
   },
   {
    "duration": 7,
    "start_time": "2022-11-11T21:35:36.559Z"
   },
   {
    "duration": 7,
    "start_time": "2022-11-11T21:35:38.395Z"
   },
   {
    "duration": 7,
    "start_time": "2022-11-11T21:35:46.887Z"
   },
   {
    "duration": 7,
    "start_time": "2022-11-11T21:35:58.086Z"
   },
   {
    "duration": 7,
    "start_time": "2022-11-11T21:36:05.217Z"
   },
   {
    "duration": 186,
    "start_time": "2022-11-11T21:39:35.929Z"
   },
   {
    "duration": 177,
    "start_time": "2022-11-11T21:39:45.194Z"
   },
   {
    "duration": 8,
    "start_time": "2022-11-11T21:39:53.274Z"
   },
   {
    "duration": 7,
    "start_time": "2022-11-11T21:40:46.914Z"
   },
   {
    "duration": 7,
    "start_time": "2022-11-11T21:41:00.379Z"
   },
   {
    "duration": 136,
    "start_time": "2022-11-11T21:43:58.797Z"
   },
   {
    "duration": 1831,
    "start_time": "2022-11-11T21:43:58.936Z"
   },
   {
    "duration": 9,
    "start_time": "2022-11-11T21:44:00.769Z"
   },
   {
    "duration": 18,
    "start_time": "2022-11-11T21:44:00.781Z"
   },
   {
    "duration": 14,
    "start_time": "2022-11-11T21:44:00.800Z"
   },
   {
    "duration": 47,
    "start_time": "2022-11-11T21:44:00.816Z"
   },
   {
    "duration": 18,
    "start_time": "2022-11-11T21:44:00.865Z"
   },
   {
    "duration": 16,
    "start_time": "2022-11-11T21:44:00.885Z"
   },
   {
    "duration": 40,
    "start_time": "2022-11-11T21:44:00.902Z"
   },
   {
    "duration": 5,
    "start_time": "2022-11-11T21:44:00.944Z"
   },
   {
    "duration": 13,
    "start_time": "2022-11-11T21:44:00.951Z"
   },
   {
    "duration": 30,
    "start_time": "2022-11-11T21:44:00.966Z"
   },
   {
    "duration": 35,
    "start_time": "2022-11-11T21:44:00.999Z"
   },
   {
    "duration": 32,
    "start_time": "2022-11-11T21:44:01.035Z"
   },
   {
    "duration": 1242,
    "start_time": "2022-11-11T21:44:01.069Z"
   },
   {
    "duration": 7,
    "start_time": "2022-11-11T21:44:02.312Z"
   },
   {
    "duration": 15,
    "start_time": "2022-11-11T21:44:02.320Z"
   },
   {
    "duration": 22,
    "start_time": "2022-11-11T21:44:02.337Z"
   },
   {
    "duration": 13,
    "start_time": "2022-11-11T21:44:02.360Z"
   },
   {
    "duration": 21,
    "start_time": "2022-11-11T21:44:02.374Z"
   },
   {
    "duration": 12,
    "start_time": "2022-11-11T21:44:02.396Z"
   },
   {
    "duration": 7,
    "start_time": "2022-11-11T21:44:02.410Z"
   },
   {
    "duration": 165,
    "start_time": "2022-11-11T21:44:02.418Z"
   },
   {
    "duration": 6,
    "start_time": "2022-11-11T21:44:09.880Z"
   },
   {
    "duration": 4,
    "start_time": "2022-11-11T21:49:59.992Z"
   },
   {
    "duration": 126,
    "start_time": "2022-11-11T22:05:00.273Z"
   },
   {
    "duration": 113,
    "start_time": "2022-11-11T22:05:25.536Z"
   },
   {
    "duration": 113,
    "start_time": "2022-11-11T22:08:20.994Z"
   },
   {
    "duration": 179,
    "start_time": "2022-11-11T22:09:17.900Z"
   },
   {
    "duration": 164,
    "start_time": "2022-11-11T22:09:27.337Z"
   },
   {
    "duration": 173,
    "start_time": "2022-11-11T22:09:49.790Z"
   },
   {
    "duration": 154,
    "start_time": "2022-11-11T22:10:01.542Z"
   },
   {
    "duration": 162,
    "start_time": "2022-11-11T22:10:07.735Z"
   },
   {
    "duration": 167,
    "start_time": "2022-11-11T22:10:10.690Z"
   },
   {
    "duration": 154,
    "start_time": "2022-11-11T22:10:17.019Z"
   },
   {
    "duration": 8,
    "start_time": "2022-11-11T22:10:47.075Z"
   },
   {
    "duration": 7,
    "start_time": "2022-11-11T22:10:49.949Z"
   },
   {
    "duration": 7,
    "start_time": "2022-11-11T22:10:55.634Z"
   },
   {
    "duration": 6,
    "start_time": "2022-11-11T22:11:04.603Z"
   },
   {
    "duration": 6,
    "start_time": "2022-11-11T22:11:07.063Z"
   },
   {
    "duration": 8,
    "start_time": "2022-11-11T22:11:15.186Z"
   },
   {
    "duration": 147,
    "start_time": "2022-11-11T22:11:24.393Z"
   },
   {
    "duration": 138,
    "start_time": "2022-11-11T22:11:34.377Z"
   },
   {
    "duration": 161,
    "start_time": "2022-11-11T22:11:53.501Z"
   },
   {
    "duration": 7,
    "start_time": "2022-11-11T22:12:08.679Z"
   },
   {
    "duration": 7,
    "start_time": "2022-11-11T22:12:12.662Z"
   },
   {
    "duration": 7,
    "start_time": "2022-11-11T22:12:15.138Z"
   },
   {
    "duration": 7,
    "start_time": "2022-11-11T22:12:18.036Z"
   },
   {
    "duration": 139,
    "start_time": "2022-11-11T22:12:26.400Z"
   },
   {
    "duration": 7,
    "start_time": "2022-11-11T22:12:50.916Z"
   },
   {
    "duration": 158,
    "start_time": "2022-11-11T22:13:08.089Z"
   },
   {
    "duration": 144,
    "start_time": "2022-11-11T22:13:16.338Z"
   },
   {
    "duration": 130,
    "start_time": "2022-11-11T22:13:19.826Z"
   },
   {
    "duration": 158,
    "start_time": "2022-11-11T22:13:31.233Z"
   },
   {
    "duration": 164,
    "start_time": "2022-11-11T22:13:33.868Z"
   },
   {
    "duration": 8,
    "start_time": "2022-11-11T22:13:43.341Z"
   },
   {
    "duration": 134,
    "start_time": "2022-11-11T22:14:10.304Z"
   },
   {
    "duration": 8,
    "start_time": "2022-11-11T22:31:12.337Z"
   },
   {
    "duration": 9,
    "start_time": "2022-11-11T22:31:31.895Z"
   },
   {
    "duration": 8,
    "start_time": "2022-11-11T22:31:59.902Z"
   },
   {
    "duration": 8,
    "start_time": "2022-11-11T22:32:19.861Z"
   },
   {
    "duration": 13,
    "start_time": "2022-11-11T22:32:31.885Z"
   },
   {
    "duration": 4,
    "start_time": "2022-11-11T22:33:27.734Z"
   },
   {
    "duration": 139,
    "start_time": "2022-11-11T22:35:00.965Z"
   },
   {
    "duration": 2358,
    "start_time": "2022-11-11T22:35:01.106Z"
   },
   {
    "duration": 9,
    "start_time": "2022-11-11T22:35:03.467Z"
   },
   {
    "duration": 6,
    "start_time": "2022-11-11T22:35:03.478Z"
   },
   {
    "duration": 6,
    "start_time": "2022-11-11T22:35:03.486Z"
   },
   {
    "duration": 8,
    "start_time": "2022-11-11T22:35:03.494Z"
   },
   {
    "duration": 10,
    "start_time": "2022-11-11T22:35:03.504Z"
   },
   {
    "duration": 4,
    "start_time": "2022-11-11T22:35:03.516Z"
   },
   {
    "duration": 65,
    "start_time": "2022-11-11T22:35:03.521Z"
   },
   {
    "duration": 4,
    "start_time": "2022-11-11T22:35:03.589Z"
   },
   {
    "duration": 6,
    "start_time": "2022-11-11T22:35:03.595Z"
   },
   {
    "duration": 8,
    "start_time": "2022-11-11T22:35:03.603Z"
   },
   {
    "duration": 5,
    "start_time": "2022-11-11T22:35:03.613Z"
   },
   {
    "duration": 8,
    "start_time": "2022-11-11T22:35:03.620Z"
   },
   {
    "duration": 1308,
    "start_time": "2022-11-11T22:35:03.630Z"
   },
   {
    "duration": 6,
    "start_time": "2022-11-11T22:35:04.940Z"
   },
   {
    "duration": 21,
    "start_time": "2022-11-11T22:35:04.948Z"
   },
   {
    "duration": 8,
    "start_time": "2022-11-11T22:35:04.971Z"
   },
   {
    "duration": 7,
    "start_time": "2022-11-11T22:35:04.980Z"
   },
   {
    "duration": 5,
    "start_time": "2022-11-11T22:35:04.988Z"
   },
   {
    "duration": 7,
    "start_time": "2022-11-11T22:35:04.994Z"
   },
   {
    "duration": 7,
    "start_time": "2022-11-11T22:35:05.003Z"
   },
   {
    "duration": 195,
    "start_time": "2022-11-11T22:35:05.011Z"
   },
   {
    "duration": 6,
    "start_time": "2022-11-11T22:35:05.208Z"
   },
   {
    "duration": 7,
    "start_time": "2022-11-11T22:35:05.216Z"
   },
   {
    "duration": 132,
    "start_time": "2022-11-11T22:35:05.225Z"
   },
   {
    "duration": 177,
    "start_time": "2022-11-11T22:35:05.367Z"
   },
   {
    "duration": 147,
    "start_time": "2022-11-11T22:35:05.548Z"
   },
   {
    "duration": 11,
    "start_time": "2022-11-11T22:35:09.032Z"
   },
   {
    "duration": 9,
    "start_time": "2022-11-11T22:35:34.872Z"
   },
   {
    "duration": 5,
    "start_time": "2022-11-11T22:39:20.006Z"
   },
   {
    "duration": 4,
    "start_time": "2022-11-11T22:39:45.311Z"
   },
   {
    "duration": 5,
    "start_time": "2022-11-11T22:40:03.301Z"
   },
   {
    "duration": 133,
    "start_time": "2022-11-11T22:48:02.356Z"
   },
   {
    "duration": 102,
    "start_time": "2022-11-11T22:48:21.013Z"
   },
   {
    "duration": 118,
    "start_time": "2022-11-11T22:48:27.581Z"
   },
   {
    "duration": 114,
    "start_time": "2022-11-11T22:49:35.830Z"
   },
   {
    "duration": 116,
    "start_time": "2022-11-11T22:49:40.711Z"
   },
   {
    "duration": 124,
    "start_time": "2022-11-11T22:49:43.565Z"
   },
   {
    "duration": 123,
    "start_time": "2022-11-11T22:49:47.767Z"
   },
   {
    "duration": 110,
    "start_time": "2022-11-11T22:50:06.636Z"
   },
   {
    "duration": 117,
    "start_time": "2022-11-11T22:50:17.465Z"
   },
   {
    "duration": 105,
    "start_time": "2022-11-11T22:50:21.647Z"
   },
   {
    "duration": 104,
    "start_time": "2022-11-11T22:50:40.329Z"
   },
   {
    "duration": 108,
    "start_time": "2022-11-11T22:50:56.462Z"
   },
   {
    "duration": 100,
    "start_time": "2022-11-11T22:51:09.556Z"
   },
   {
    "duration": 118,
    "start_time": "2022-11-11T22:51:12.427Z"
   },
   {
    "duration": 101,
    "start_time": "2022-11-11T22:51:31.954Z"
   },
   {
    "duration": 6,
    "start_time": "2022-11-11T22:51:51.859Z"
   },
   {
    "duration": 117,
    "start_time": "2022-11-11T22:52:08.447Z"
   },
   {
    "duration": 114,
    "start_time": "2022-11-11T22:52:13.302Z"
   },
   {
    "duration": 108,
    "start_time": "2022-11-11T22:52:17.174Z"
   },
   {
    "duration": 106,
    "start_time": "2022-11-11T22:52:20.414Z"
   },
   {
    "duration": 107,
    "start_time": "2022-11-11T22:52:28.712Z"
   },
   {
    "duration": 4,
    "start_time": "2022-11-11T22:52:45.666Z"
   },
   {
    "duration": 6,
    "start_time": "2022-11-11T22:52:58.862Z"
   },
   {
    "duration": 104,
    "start_time": "2022-11-11T22:53:18.343Z"
   },
   {
    "duration": 120,
    "start_time": "2022-11-11T22:53:25.509Z"
   },
   {
    "duration": 248,
    "start_time": "2022-11-11T22:54:13.049Z"
   },
   {
    "duration": 248,
    "start_time": "2022-11-11T22:54:31.171Z"
   },
   {
    "duration": 292,
    "start_time": "2022-11-11T22:54:39.429Z"
   },
   {
    "duration": 249,
    "start_time": "2022-11-11T22:55:01.469Z"
   },
   {
    "duration": 124,
    "start_time": "2022-11-11T22:55:20.653Z"
   },
   {
    "duration": 119,
    "start_time": "2022-11-11T22:55:25.120Z"
   },
   {
    "duration": 4,
    "start_time": "2022-11-11T22:55:45.575Z"
   },
   {
    "duration": 144,
    "start_time": "2022-11-11T22:56:15.852Z"
   },
   {
    "duration": 119,
    "start_time": "2022-11-11T22:56:29.455Z"
   },
   {
    "duration": 281,
    "start_time": "2022-11-11T22:57:01.170Z"
   },
   {
    "duration": 253,
    "start_time": "2022-11-11T22:57:08.389Z"
   },
   {
    "duration": 257,
    "start_time": "2022-11-11T22:57:23.115Z"
   },
   {
    "duration": 214,
    "start_time": "2022-11-11T22:57:30.944Z"
   },
   {
    "duration": 191,
    "start_time": "2022-11-11T22:57:42.426Z"
   },
   {
    "duration": 8,
    "start_time": "2022-11-11T23:02:46.153Z"
   },
   {
    "duration": 189,
    "start_time": "2022-11-11T23:04:51.246Z"
   },
   {
    "duration": 205,
    "start_time": "2022-11-11T23:05:01.431Z"
   },
   {
    "duration": 52,
    "start_time": "2022-11-12T12:53:42.430Z"
   },
   {
    "duration": 616,
    "start_time": "2022-11-12T12:53:49.710Z"
   },
   {
    "duration": 2704,
    "start_time": "2022-11-12T12:53:50.328Z"
   },
   {
    "duration": 13,
    "start_time": "2022-11-12T12:53:53.034Z"
   },
   {
    "duration": 10,
    "start_time": "2022-11-12T12:53:53.049Z"
   },
   {
    "duration": 9,
    "start_time": "2022-11-12T12:53:53.062Z"
   },
   {
    "duration": 12,
    "start_time": "2022-11-12T12:53:53.072Z"
   },
   {
    "duration": 7,
    "start_time": "2022-11-12T12:53:53.086Z"
   },
   {
    "duration": 8,
    "start_time": "2022-11-12T12:53:53.095Z"
   },
   {
    "duration": 68,
    "start_time": "2022-11-12T12:53:53.105Z"
   },
   {
    "duration": 5,
    "start_time": "2022-11-12T12:53:53.175Z"
   },
   {
    "duration": 7,
    "start_time": "2022-11-12T12:53:53.182Z"
   },
   {
    "duration": 18,
    "start_time": "2022-11-12T12:53:53.191Z"
   },
   {
    "duration": 8,
    "start_time": "2022-11-12T12:53:53.210Z"
   },
   {
    "duration": 28,
    "start_time": "2022-11-12T12:53:53.222Z"
   },
   {
    "duration": 1559,
    "start_time": "2022-11-12T12:53:53.253Z"
   },
   {
    "duration": 10,
    "start_time": "2022-11-12T12:53:54.814Z"
   },
   {
    "duration": 15,
    "start_time": "2022-11-12T12:53:54.827Z"
   },
   {
    "duration": 13,
    "start_time": "2022-11-12T12:53:54.843Z"
   },
   {
    "duration": 10,
    "start_time": "2022-11-12T12:53:54.859Z"
   },
   {
    "duration": 9,
    "start_time": "2022-11-12T12:53:54.871Z"
   },
   {
    "duration": 9,
    "start_time": "2022-11-12T12:53:54.882Z"
   },
   {
    "duration": 8,
    "start_time": "2022-11-12T12:53:54.894Z"
   },
   {
    "duration": 243,
    "start_time": "2022-11-12T12:53:54.904Z"
   },
   {
    "duration": 7,
    "start_time": "2022-11-12T12:53:55.151Z"
   },
   {
    "duration": 6,
    "start_time": "2022-11-12T12:53:55.160Z"
   },
   {
    "duration": 159,
    "start_time": "2022-11-12T12:53:55.169Z"
   },
   {
    "duration": 226,
    "start_time": "2022-11-12T12:53:55.330Z"
   },
   {
    "duration": 176,
    "start_time": "2022-11-12T12:53:55.558Z"
   },
   {
    "duration": 15,
    "start_time": "2022-11-12T12:53:55.735Z"
   },
   {
    "duration": 6,
    "start_time": "2022-11-12T12:53:55.753Z"
   },
   {
    "duration": 174,
    "start_time": "2022-11-12T12:53:55.761Z"
   },
   {
    "duration": 243,
    "start_time": "2022-11-12T12:53:55.937Z"
   },
   {
    "duration": 9,
    "start_time": "2022-11-12T12:53:56.182Z"
   },
   {
    "duration": 52,
    "start_time": "2022-11-12T12:53:58.231Z"
   },
   {
    "duration": 10,
    "start_time": "2022-11-12T12:54:04.063Z"
   },
   {
    "duration": 45,
    "start_time": "2022-11-12T12:54:45.823Z"
   },
   {
    "duration": 250,
    "start_time": "2022-11-12T12:57:02.507Z"
   },
   {
    "duration": 135,
    "start_time": "2022-11-12T12:57:30.942Z"
   },
   {
    "duration": 137,
    "start_time": "2022-11-12T12:57:48.879Z"
   },
   {
    "duration": 144,
    "start_time": "2022-11-12T12:57:57.615Z"
   },
   {
    "duration": 47,
    "start_time": "2022-11-12T12:59:11.067Z"
   },
   {
    "duration": 45,
    "start_time": "2022-11-12T12:59:40.600Z"
   },
   {
    "duration": 8,
    "start_time": "2022-11-12T13:01:08.481Z"
   },
   {
    "duration": 8,
    "start_time": "2022-11-12T13:01:15.457Z"
   },
   {
    "duration": 7,
    "start_time": "2022-11-12T13:01:18.251Z"
   },
   {
    "duration": 8,
    "start_time": "2022-11-12T13:03:12.260Z"
   },
   {
    "duration": 8,
    "start_time": "2022-11-12T13:03:15.751Z"
   },
   {
    "duration": 7,
    "start_time": "2022-11-12T13:06:45.282Z"
   },
   {
    "duration": 34,
    "start_time": "2022-11-12T13:11:11.191Z"
   },
   {
    "duration": 1260,
    "start_time": "2022-11-12T13:16:45.072Z"
   },
   {
    "duration": 1233,
    "start_time": "2022-11-12T13:17:20.213Z"
   },
   {
    "duration": 4,
    "start_time": "2022-11-12T13:18:04.529Z"
   },
   {
    "duration": 8,
    "start_time": "2022-11-12T13:20:28.773Z"
   },
   {
    "duration": 19,
    "start_time": "2022-11-12T13:20:40.770Z"
   },
   {
    "duration": 14,
    "start_time": "2022-11-12T13:21:12.181Z"
   },
   {
    "duration": 175,
    "start_time": "2022-11-12T13:21:59.565Z"
   },
   {
    "duration": 2298,
    "start_time": "2022-11-12T13:21:59.743Z"
   },
   {
    "duration": 14,
    "start_time": "2022-11-12T13:22:02.043Z"
   },
   {
    "duration": 9,
    "start_time": "2022-11-12T13:22:02.059Z"
   },
   {
    "duration": 8,
    "start_time": "2022-11-12T13:22:02.070Z"
   },
   {
    "duration": 8,
    "start_time": "2022-11-12T13:22:02.080Z"
   },
   {
    "duration": 14,
    "start_time": "2022-11-12T13:22:02.090Z"
   },
   {
    "duration": 9,
    "start_time": "2022-11-12T13:22:02.106Z"
   },
   {
    "duration": 70,
    "start_time": "2022-11-12T13:22:02.117Z"
   },
   {
    "duration": 7,
    "start_time": "2022-11-12T13:22:02.190Z"
   },
   {
    "duration": 11,
    "start_time": "2022-11-12T13:22:02.200Z"
   },
   {
    "duration": 15,
    "start_time": "2022-11-12T13:22:02.212Z"
   },
   {
    "duration": 26,
    "start_time": "2022-11-12T13:22:02.229Z"
   },
   {
    "duration": 14,
    "start_time": "2022-11-12T13:22:02.257Z"
   },
   {
    "duration": 1567,
    "start_time": "2022-11-12T13:22:02.273Z"
   },
   {
    "duration": 15,
    "start_time": "2022-11-12T13:22:03.843Z"
   },
   {
    "duration": 30,
    "start_time": "2022-11-12T13:22:03.860Z"
   },
   {
    "duration": 10,
    "start_time": "2022-11-12T13:22:03.892Z"
   },
   {
    "duration": 10,
    "start_time": "2022-11-12T13:22:03.904Z"
   },
   {
    "duration": 8,
    "start_time": "2022-11-12T13:22:03.916Z"
   },
   {
    "duration": 8,
    "start_time": "2022-11-12T13:22:03.925Z"
   },
   {
    "duration": 22,
    "start_time": "2022-11-12T13:22:03.935Z"
   },
   {
    "duration": 227,
    "start_time": "2022-11-12T13:22:03.959Z"
   },
   {
    "duration": 8,
    "start_time": "2022-11-12T13:22:04.189Z"
   },
   {
    "duration": 9,
    "start_time": "2022-11-12T13:22:04.199Z"
   },
   {
    "duration": 181,
    "start_time": "2022-11-12T13:22:04.209Z"
   },
   {
    "duration": 191,
    "start_time": "2022-11-12T13:22:04.392Z"
   },
   {
    "duration": 167,
    "start_time": "2022-11-12T13:22:04.586Z"
   },
   {
    "duration": 10,
    "start_time": "2022-11-12T13:22:04.755Z"
   },
   {
    "duration": 159,
    "start_time": "2022-11-12T13:22:04.767Z"
   },
   {
    "duration": 10,
    "start_time": "2022-11-12T13:22:04.928Z"
   },
   {
    "duration": 43,
    "start_time": "2022-11-12T13:22:04.940Z"
   },
   {
    "duration": 7,
    "start_time": "2022-11-12T13:22:14.219Z"
   },
   {
    "duration": 34,
    "start_time": "2022-11-12T13:22:23.197Z"
   },
   {
    "duration": 9,
    "start_time": "2022-11-12T13:24:29.203Z"
   },
   {
    "duration": 38,
    "start_time": "2022-11-12T13:24:30.784Z"
   },
   {
    "duration": 16,
    "start_time": "2022-11-12T13:24:39.959Z"
   },
   {
    "duration": 603,
    "start_time": "2022-11-12T13:26:14.455Z"
   },
   {
    "duration": 2676,
    "start_time": "2022-11-12T13:26:15.060Z"
   },
   {
    "duration": 13,
    "start_time": "2022-11-12T13:26:17.738Z"
   },
   {
    "duration": 7,
    "start_time": "2022-11-12T13:26:17.754Z"
   },
   {
    "duration": 15,
    "start_time": "2022-11-12T13:26:17.763Z"
   },
   {
    "duration": 14,
    "start_time": "2022-11-12T13:26:17.780Z"
   },
   {
    "duration": 10,
    "start_time": "2022-11-12T13:26:17.796Z"
   },
   {
    "duration": 6,
    "start_time": "2022-11-12T13:26:17.808Z"
   },
   {
    "duration": 66,
    "start_time": "2022-11-12T13:26:17.816Z"
   },
   {
    "duration": 6,
    "start_time": "2022-11-12T13:26:17.884Z"
   },
   {
    "duration": 7,
    "start_time": "2022-11-12T13:26:17.892Z"
   },
   {
    "duration": 11,
    "start_time": "2022-11-12T13:26:17.901Z"
   },
   {
    "duration": 39,
    "start_time": "2022-11-12T13:26:17.914Z"
   },
   {
    "duration": 10,
    "start_time": "2022-11-12T13:26:17.955Z"
   },
   {
    "duration": 1669,
    "start_time": "2022-11-12T13:26:17.968Z"
   },
   {
    "duration": 16,
    "start_time": "2022-11-12T13:26:19.639Z"
   },
   {
    "duration": 35,
    "start_time": "2022-11-12T13:26:19.657Z"
   },
   {
    "duration": 22,
    "start_time": "2022-11-12T13:26:19.694Z"
   },
   {
    "duration": 20,
    "start_time": "2022-11-12T13:26:19.718Z"
   },
   {
    "duration": 20,
    "start_time": "2022-11-12T13:26:19.740Z"
   },
   {
    "duration": 16,
    "start_time": "2022-11-12T13:26:19.762Z"
   },
   {
    "duration": 13,
    "start_time": "2022-11-12T13:26:19.780Z"
   },
   {
    "duration": 206,
    "start_time": "2022-11-12T13:26:19.795Z"
   },
   {
    "duration": 6,
    "start_time": "2022-11-12T13:26:20.003Z"
   },
   {
    "duration": 12,
    "start_time": "2022-11-12T13:26:20.011Z"
   },
   {
    "duration": 156,
    "start_time": "2022-11-12T13:26:20.025Z"
   },
   {
    "duration": 212,
    "start_time": "2022-11-12T13:26:20.182Z"
   },
   {
    "duration": 159,
    "start_time": "2022-11-12T13:26:20.399Z"
   },
   {
    "duration": 21,
    "start_time": "2022-11-12T13:26:20.560Z"
   },
   {
    "duration": 152,
    "start_time": "2022-11-12T13:26:20.583Z"
   },
   {
    "duration": 24,
    "start_time": "2022-11-12T13:26:20.737Z"
   },
   {
    "duration": 41,
    "start_time": "2022-11-12T13:26:20.764Z"
   },
   {
    "duration": 12,
    "start_time": "2022-11-12T13:26:20.807Z"
   },
   {
    "duration": 110,
    "start_time": "2022-11-12T13:27:58.900Z"
   },
   {
    "duration": 12,
    "start_time": "2022-11-12T13:28:35.881Z"
   },
   {
    "duration": 42,
    "start_time": "2022-11-12T13:30:11.896Z"
   },
   {
    "duration": 78,
    "start_time": "2022-11-12T13:30:48.634Z"
   },
   {
    "duration": 8,
    "start_time": "2022-11-12T13:30:53.495Z"
   },
   {
    "duration": 7,
    "start_time": "2022-11-12T13:31:08.521Z"
   },
   {
    "duration": 10,
    "start_time": "2022-11-12T13:33:51.270Z"
   },
   {
    "duration": 8,
    "start_time": "2022-11-12T13:34:30.764Z"
   },
   {
    "duration": 14,
    "start_time": "2022-11-12T13:34:40.237Z"
   },
   {
    "duration": 4,
    "start_time": "2022-11-12T13:35:54.440Z"
   },
   {
    "duration": 4,
    "start_time": "2022-11-12T13:44:27.844Z"
   },
   {
    "duration": 41,
    "start_time": "2022-11-12T13:44:36.261Z"
   },
   {
    "duration": 11,
    "start_time": "2022-11-12T13:46:11.353Z"
   },
   {
    "duration": 6,
    "start_time": "2022-11-12T13:52:54.951Z"
   },
   {
    "duration": 40,
    "start_time": "2022-11-12T13:52:58.536Z"
   },
   {
    "duration": 5,
    "start_time": "2022-11-12T13:56:57.228Z"
   },
   {
    "duration": 38,
    "start_time": "2022-11-12T13:57:01.064Z"
   },
   {
    "duration": 4,
    "start_time": "2022-11-12T13:57:30.751Z"
   },
   {
    "duration": 41,
    "start_time": "2022-11-12T13:57:33.232Z"
   },
   {
    "duration": 11,
    "start_time": "2022-11-12T13:57:51.489Z"
   },
   {
    "duration": 39,
    "start_time": "2022-11-12T13:57:53.572Z"
   },
   {
    "duration": 6,
    "start_time": "2022-11-12T13:58:25.582Z"
   },
   {
    "duration": 40,
    "start_time": "2022-11-12T13:58:27.750Z"
   },
   {
    "duration": 79,
    "start_time": "2022-11-12T14:05:19.176Z"
   },
   {
    "duration": 71,
    "start_time": "2022-11-12T14:05:23.492Z"
   },
   {
    "duration": 177,
    "start_time": "2022-11-12T14:05:27.868Z"
   },
   {
    "duration": 262,
    "start_time": "2022-11-12T14:06:06.535Z"
   },
   {
    "duration": 41,
    "start_time": "2022-11-12T14:06:09.488Z"
   },
   {
    "duration": 6,
    "start_time": "2022-11-12T14:33:35.437Z"
   },
   {
    "duration": 44,
    "start_time": "2022-11-12T14:33:38.524Z"
   },
   {
    "duration": 19,
    "start_time": "2022-11-12T14:34:15.597Z"
   },
   {
    "duration": 209,
    "start_time": "2022-11-12T14:47:05.894Z"
   },
   {
    "duration": 177,
    "start_time": "2022-11-12T14:47:46.046Z"
   },
   {
    "duration": 176,
    "start_time": "2022-11-12T14:47:53.562Z"
   },
   {
    "duration": 225,
    "start_time": "2022-11-12T14:47:57.579Z"
   },
   {
    "duration": 318,
    "start_time": "2022-11-12T14:48:38.963Z"
   },
   {
    "duration": 180,
    "start_time": "2022-11-12T14:48:52.853Z"
   },
   {
    "duration": 270,
    "start_time": "2022-11-12T14:49:01.156Z"
   },
   {
    "duration": 197,
    "start_time": "2022-11-12T14:49:32.184Z"
   },
   {
    "duration": 310,
    "start_time": "2022-11-12T14:49:39.835Z"
   },
   {
    "duration": 163,
    "start_time": "2022-11-12T14:50:02.302Z"
   },
   {
    "duration": 235,
    "start_time": "2022-11-12T14:51:19.667Z"
   },
   {
    "duration": 199,
    "start_time": "2022-11-12T14:51:24.587Z"
   },
   {
    "duration": 165,
    "start_time": "2022-11-12T14:55:48.879Z"
   },
   {
    "duration": 198,
    "start_time": "2022-11-12T14:55:56.741Z"
   },
   {
    "duration": 156,
    "start_time": "2022-11-12T14:56:05.487Z"
   },
   {
    "duration": 165,
    "start_time": "2022-11-12T14:56:17.566Z"
   },
   {
    "duration": 197,
    "start_time": "2022-11-12T14:56:37.029Z"
   },
   {
    "duration": 156,
    "start_time": "2022-11-12T14:56:43.770Z"
   },
   {
    "duration": 339,
    "start_time": "2022-11-12T14:56:51.999Z"
   },
   {
    "duration": 259,
    "start_time": "2022-11-12T14:58:49.680Z"
   },
   {
    "duration": 210,
    "start_time": "2022-11-12T15:02:47.898Z"
   },
   {
    "duration": 267,
    "start_time": "2022-11-12T15:03:02.822Z"
   },
   {
    "duration": 206,
    "start_time": "2022-11-12T15:03:18.366Z"
   },
   {
    "duration": 197,
    "start_time": "2022-11-12T15:03:36.717Z"
   },
   {
    "duration": 218,
    "start_time": "2022-11-12T15:03:58.877Z"
   },
   {
    "duration": 186,
    "start_time": "2022-11-12T15:14:27.078Z"
   },
   {
    "duration": 204,
    "start_time": "2022-11-12T15:14:51.974Z"
   },
   {
    "duration": 196,
    "start_time": "2022-11-12T15:15:13.455Z"
   },
   {
    "duration": 189,
    "start_time": "2022-11-12T15:15:30.549Z"
   },
   {
    "duration": 210,
    "start_time": "2022-11-12T15:15:35.468Z"
   },
   {
    "duration": 256,
    "start_time": "2022-11-12T15:16:01.306Z"
   },
   {
    "duration": 208,
    "start_time": "2022-11-12T15:16:10.081Z"
   },
   {
    "duration": 240,
    "start_time": "2022-11-12T15:16:58.914Z"
   },
   {
    "duration": 3,
    "start_time": "2022-11-12T15:21:23.178Z"
   },
   {
    "duration": 290,
    "start_time": "2022-11-12T15:21:38.512Z"
   },
   {
    "duration": 296,
    "start_time": "2022-11-12T15:22:13.079Z"
   },
   {
    "duration": 161,
    "start_time": "2022-11-12T15:47:30.740Z"
   },
   {
    "duration": 39,
    "start_time": "2022-11-12T15:48:27.784Z"
   },
   {
    "duration": 17,
    "start_time": "2022-11-12T15:49:11.578Z"
   },
   {
    "duration": 9,
    "start_time": "2022-11-12T15:49:50.916Z"
   },
   {
    "duration": 165,
    "start_time": "2022-11-12T15:50:16.028Z"
   },
   {
    "duration": 9,
    "start_time": "2022-11-12T15:50:41.287Z"
   },
   {
    "duration": 157,
    "start_time": "2022-11-12T15:50:51.971Z"
   },
   {
    "duration": 165,
    "start_time": "2022-11-12T15:52:51.661Z"
   },
   {
    "duration": 161,
    "start_time": "2022-11-12T15:52:55.156Z"
   },
   {
    "duration": 6,
    "start_time": "2022-11-12T15:53:55.462Z"
   },
   {
    "duration": 146,
    "start_time": "2022-11-12T15:55:36.560Z"
   },
   {
    "duration": 181,
    "start_time": "2022-11-12T15:55:49.036Z"
   },
   {
    "duration": 157,
    "start_time": "2022-11-12T15:56:03.621Z"
   },
   {
    "duration": 193,
    "start_time": "2022-11-12T15:56:09.549Z"
   },
   {
    "duration": 153,
    "start_time": "2022-11-12T15:56:17.358Z"
   },
   {
    "duration": 5,
    "start_time": "2022-11-12T15:56:22.690Z"
   },
   {
    "duration": 177,
    "start_time": "2022-11-12T15:56:24.743Z"
   },
   {
    "duration": 179,
    "start_time": "2022-11-12T15:56:38.718Z"
   },
   {
    "duration": 7,
    "start_time": "2022-11-12T15:57:39.913Z"
   },
   {
    "duration": 6,
    "start_time": "2022-11-12T15:57:51.475Z"
   },
   {
    "duration": 130,
    "start_time": "2022-11-12T15:58:42.354Z"
   },
   {
    "duration": 18,
    "start_time": "2022-11-12T15:58:44.471Z"
   },
   {
    "duration": 12,
    "start_time": "2022-11-12T15:58:49.768Z"
   },
   {
    "duration": 9,
    "start_time": "2022-11-12T15:59:07.053Z"
   },
   {
    "duration": 12,
    "start_time": "2022-11-12T15:59:11.370Z"
   },
   {
    "duration": 9,
    "start_time": "2022-11-12T15:59:28.005Z"
   },
   {
    "duration": 19,
    "start_time": "2022-11-12T15:59:35.312Z"
   },
   {
    "duration": 9,
    "start_time": "2022-11-12T15:59:37.791Z"
   },
   {
    "duration": 65,
    "start_time": "2022-11-12T16:01:11.769Z"
   },
   {
    "duration": 11,
    "start_time": "2022-11-12T16:01:16.235Z"
   },
   {
    "duration": 180,
    "start_time": "2022-11-12T16:02:35.682Z"
   },
   {
    "duration": 152,
    "start_time": "2022-11-12T16:02:47.298Z"
   },
   {
    "duration": 266,
    "start_time": "2022-11-12T16:03:06.127Z"
   },
   {
    "duration": 198,
    "start_time": "2022-11-12T16:03:38.954Z"
   },
   {
    "duration": 163,
    "start_time": "2022-11-12T16:03:45.813Z"
   },
   {
    "duration": 208,
    "start_time": "2022-11-12T16:03:49.447Z"
   },
   {
    "duration": 160,
    "start_time": "2022-11-12T16:04:14.601Z"
   },
   {
    "duration": 200,
    "start_time": "2022-11-12T16:04:18.656Z"
   },
   {
    "duration": 163,
    "start_time": "2022-11-12T16:04:29.918Z"
   },
   {
    "duration": 462,
    "start_time": "2022-11-12T16:04:39.735Z"
   },
   {
    "duration": 5,
    "start_time": "2022-11-12T16:04:51.900Z"
   },
   {
    "duration": 179,
    "start_time": "2022-11-12T16:04:56.011Z"
   },
   {
    "duration": 191,
    "start_time": "2022-11-12T16:04:58.887Z"
   },
   {
    "duration": 12,
    "start_time": "2022-11-12T16:05:52.482Z"
   },
   {
    "duration": 13,
    "start_time": "2022-11-12T16:05:58.383Z"
   },
   {
    "duration": 11,
    "start_time": "2022-11-12T16:06:05.107Z"
   },
   {
    "duration": 10,
    "start_time": "2022-11-12T16:06:07.922Z"
   },
   {
    "duration": 11,
    "start_time": "2022-11-12T16:06:13.222Z"
   },
   {
    "duration": 11,
    "start_time": "2022-11-12T16:06:17.185Z"
   },
   {
    "duration": 11,
    "start_time": "2022-11-12T16:06:20.273Z"
   },
   {
    "duration": 11,
    "start_time": "2022-11-12T16:06:22.383Z"
   },
   {
    "duration": 10,
    "start_time": "2022-11-12T16:06:24.711Z"
   },
   {
    "duration": 10,
    "start_time": "2022-11-12T16:06:27.961Z"
   },
   {
    "duration": 11,
    "start_time": "2022-11-12T16:06:31.836Z"
   },
   {
    "duration": 170,
    "start_time": "2022-11-12T16:06:38.495Z"
   },
   {
    "duration": 175,
    "start_time": "2022-11-12T16:06:46.725Z"
   },
   {
    "duration": 182,
    "start_time": "2022-11-12T16:06:52.028Z"
   },
   {
    "duration": 167,
    "start_time": "2022-11-12T16:07:08.903Z"
   },
   {
    "duration": 218,
    "start_time": "2022-11-12T16:07:12.944Z"
   },
   {
    "duration": 219,
    "start_time": "2022-11-12T16:07:17.903Z"
   },
   {
    "duration": 175,
    "start_time": "2022-11-12T16:07:24.423Z"
   },
   {
    "duration": 12,
    "start_time": "2022-11-12T16:16:46.122Z"
   },
   {
    "duration": 12,
    "start_time": "2022-11-12T16:16:52.363Z"
   },
   {
    "duration": 12,
    "start_time": "2022-11-12T16:17:03.591Z"
   },
   {
    "duration": 12,
    "start_time": "2022-11-12T16:17:53.806Z"
   },
   {
    "duration": 135,
    "start_time": "2022-11-12T16:19:21.072Z"
   },
   {
    "duration": 14,
    "start_time": "2022-11-12T16:20:21.155Z"
   },
   {
    "duration": 11,
    "start_time": "2022-11-12T16:20:51.859Z"
   },
   {
    "duration": 10,
    "start_time": "2022-11-12T16:20:57.403Z"
   },
   {
    "duration": 12,
    "start_time": "2022-11-12T16:22:08.226Z"
   },
   {
    "duration": 1148,
    "start_time": "2022-11-12T16:22:50.914Z"
   },
   {
    "duration": 199,
    "start_time": "2022-11-12T16:23:06.667Z"
   },
   {
    "duration": 191,
    "start_time": "2022-11-12T16:23:24.767Z"
   },
   {
    "duration": 13,
    "start_time": "2022-11-12T16:24:02.422Z"
   },
   {
    "duration": 6,
    "start_time": "2022-11-12T16:24:16.474Z"
   },
   {
    "duration": 72,
    "start_time": "2022-11-12T16:24:43.704Z"
   },
   {
    "duration": 70,
    "start_time": "2022-11-12T16:24:56.448Z"
   },
   {
    "duration": 169,
    "start_time": "2022-11-12T16:25:02.691Z"
   },
   {
    "duration": 7,
    "start_time": "2022-11-12T16:25:40.440Z"
   },
   {
    "duration": 212,
    "start_time": "2022-11-12T17:26:47.821Z"
   },
   {
    "duration": 234,
    "start_time": "2022-11-12T17:26:57.063Z"
   },
   {
    "duration": 155,
    "start_time": "2022-11-12T17:27:29.901Z"
   },
   {
    "duration": 182,
    "start_time": "2022-11-12T17:27:48.259Z"
   },
   {
    "duration": 44,
    "start_time": "2022-11-12T17:28:27.820Z"
   },
   {
    "duration": 13,
    "start_time": "2022-11-12T17:28:33.659Z"
   },
   {
    "duration": 11,
    "start_time": "2022-11-12T17:28:45.940Z"
   },
   {
    "duration": 10,
    "start_time": "2022-11-12T17:28:49.942Z"
   },
   {
    "duration": 11,
    "start_time": "2022-11-12T17:28:59.051Z"
   },
   {
    "duration": 10,
    "start_time": "2022-11-12T17:29:07.890Z"
   },
   {
    "duration": 12,
    "start_time": "2022-11-12T17:29:12.067Z"
   },
   {
    "duration": 12,
    "start_time": "2022-11-12T17:29:15.289Z"
   },
   {
    "duration": 13,
    "start_time": "2022-11-12T17:29:17.287Z"
   },
   {
    "duration": 13,
    "start_time": "2022-11-12T17:29:19.912Z"
   },
   {
    "duration": 11,
    "start_time": "2022-11-12T17:29:24.114Z"
   },
   {
    "duration": 12,
    "start_time": "2022-11-12T17:29:28.888Z"
   },
   {
    "duration": 10,
    "start_time": "2022-11-12T17:29:38.932Z"
   },
   {
    "duration": 12,
    "start_time": "2022-11-12T17:29:41.448Z"
   },
   {
    "duration": 11,
    "start_time": "2022-11-12T17:29:43.866Z"
   },
   {
    "duration": 10,
    "start_time": "2022-11-12T17:29:51.241Z"
   },
   {
    "duration": 11,
    "start_time": "2022-11-12T17:29:55.364Z"
   },
   {
    "duration": 161,
    "start_time": "2022-11-12T17:30:02.677Z"
   },
   {
    "duration": 174,
    "start_time": "2022-11-12T17:32:40.873Z"
   },
   {
    "duration": 191,
    "start_time": "2022-11-12T17:32:45.304Z"
   },
   {
    "duration": 12,
    "start_time": "2022-11-12T17:32:50.790Z"
   },
   {
    "duration": 12,
    "start_time": "2022-11-12T17:32:53.340Z"
   },
   {
    "duration": 10,
    "start_time": "2022-11-12T17:33:54.507Z"
   },
   {
    "duration": 11,
    "start_time": "2022-11-12T17:33:59.007Z"
   },
   {
    "duration": 11,
    "start_time": "2022-11-12T17:34:06.740Z"
   },
   {
    "duration": 11,
    "start_time": "2022-11-12T17:34:09.443Z"
   },
   {
    "duration": 9,
    "start_time": "2022-11-12T17:34:18.266Z"
   },
   {
    "duration": 65,
    "start_time": "2022-11-14T15:59:37.468Z"
   },
   {
    "duration": 796,
    "start_time": "2022-11-14T15:59:42.285Z"
   },
   {
    "duration": 2300,
    "start_time": "2022-11-14T15:59:43.084Z"
   },
   {
    "duration": 11,
    "start_time": "2022-11-14T15:59:45.386Z"
   },
   {
    "duration": 31,
    "start_time": "2022-11-14T15:59:45.401Z"
   },
   {
    "duration": 13,
    "start_time": "2022-11-14T15:59:45.434Z"
   },
   {
    "duration": 12,
    "start_time": "2022-11-14T15:59:45.450Z"
   },
   {
    "duration": 17,
    "start_time": "2022-11-14T15:59:45.464Z"
   },
   {
    "duration": 10,
    "start_time": "2022-11-14T15:59:45.483Z"
   },
   {
    "duration": 52,
    "start_time": "2022-11-14T15:59:45.494Z"
   },
   {
    "duration": 10,
    "start_time": "2022-11-14T15:59:45.550Z"
   },
   {
    "duration": 9,
    "start_time": "2022-11-14T15:59:45.562Z"
   },
   {
    "duration": 19,
    "start_time": "2022-11-14T15:59:45.574Z"
   },
   {
    "duration": 6,
    "start_time": "2022-11-14T15:59:45.594Z"
   },
   {
    "duration": 9,
    "start_time": "2022-11-14T15:59:45.602Z"
   },
   {
    "duration": 1341,
    "start_time": "2022-11-14T15:59:45.612Z"
   },
   {
    "duration": 8,
    "start_time": "2022-11-14T15:59:46.959Z"
   },
   {
    "duration": 15,
    "start_time": "2022-11-14T15:59:46.968Z"
   },
   {
    "duration": 12,
    "start_time": "2022-11-14T15:59:46.985Z"
   },
   {
    "duration": 8,
    "start_time": "2022-11-14T15:59:46.999Z"
   },
   {
    "duration": 6,
    "start_time": "2022-11-14T15:59:47.009Z"
   },
   {
    "duration": 12,
    "start_time": "2022-11-14T15:59:47.017Z"
   },
   {
    "duration": 35,
    "start_time": "2022-11-14T15:59:47.031Z"
   },
   {
    "duration": 205,
    "start_time": "2022-11-14T15:59:47.067Z"
   },
   {
    "duration": 6,
    "start_time": "2022-11-14T15:59:47.273Z"
   },
   {
    "duration": 9,
    "start_time": "2022-11-14T15:59:47.281Z"
   },
   {
    "duration": 143,
    "start_time": "2022-11-14T15:59:47.292Z"
   },
   {
    "duration": 168,
    "start_time": "2022-11-14T15:59:47.437Z"
   },
   {
    "duration": 155,
    "start_time": "2022-11-14T15:59:47.610Z"
   },
   {
    "duration": 10,
    "start_time": "2022-11-14T15:59:47.767Z"
   },
   {
    "duration": 133,
    "start_time": "2022-11-14T15:59:47.779Z"
   },
   {
    "duration": 10,
    "start_time": "2022-11-14T15:59:47.915Z"
   },
   {
    "duration": 61,
    "start_time": "2022-11-14T15:59:47.927Z"
   },
   {
    "duration": 10,
    "start_time": "2022-11-14T15:59:47.990Z"
   },
   {
    "duration": 136,
    "start_time": "2022-11-14T15:59:48.002Z"
   },
   {
    "duration": 20,
    "start_time": "2022-11-14T15:59:48.140Z"
   },
   {
    "duration": 6,
    "start_time": "2022-11-14T15:59:48.161Z"
   },
   {
    "duration": 33,
    "start_time": "2022-11-14T15:59:48.168Z"
   },
   {
    "duration": 8,
    "start_time": "2022-11-14T15:59:48.203Z"
   },
   {
    "duration": 7,
    "start_time": "2022-11-14T15:59:48.213Z"
   },
   {
    "duration": 21,
    "start_time": "2022-11-14T15:59:48.221Z"
   },
   {
    "duration": 10,
    "start_time": "2022-11-14T15:59:48.244Z"
   },
   {
    "duration": 371,
    "start_time": "2022-11-14T15:59:48.257Z"
   },
   {
    "duration": 5,
    "start_time": "2022-11-14T15:59:48.631Z"
   },
   {
    "duration": 227,
    "start_time": "2022-11-14T15:59:48.638Z"
   },
   {
    "duration": 201,
    "start_time": "2022-11-14T15:59:48.867Z"
   },
   {
    "duration": 284,
    "start_time": "2022-11-14T15:59:49.071Z"
   },
   {
    "duration": 245,
    "start_time": "2022-11-14T15:59:49.360Z"
   },
   {
    "duration": 228,
    "start_time": "2022-11-14T15:59:49.608Z"
   },
   {
    "duration": 167,
    "start_time": "2022-11-14T15:59:49.838Z"
   },
   {
    "duration": 248,
    "start_time": "2022-11-14T15:59:50.006Z"
   },
   {
    "duration": 129,
    "start_time": "2022-11-14T15:59:50.259Z"
   },
   {
    "duration": 289,
    "start_time": "2022-11-14T15:59:50.389Z"
   },
   {
    "duration": 239,
    "start_time": "2022-11-14T15:59:50.680Z"
   },
   {
    "duration": 156,
    "start_time": "2022-11-14T15:59:53.646Z"
   },
   {
    "duration": 197,
    "start_time": "2022-11-14T16:00:07.240Z"
   },
   {
    "duration": 212,
    "start_time": "2022-11-14T16:00:18.349Z"
   },
   {
    "duration": 138,
    "start_time": "2022-11-14T16:02:34.438Z"
   },
   {
    "duration": 128,
    "start_time": "2022-11-14T16:02:48.553Z"
   },
   {
    "duration": 153,
    "start_time": "2022-11-14T16:02:56.966Z"
   },
   {
    "duration": 14,
    "start_time": "2022-11-14T16:03:34.578Z"
   },
   {
    "duration": 10,
    "start_time": "2022-11-14T16:03:39.400Z"
   },
   {
    "duration": 8,
    "start_time": "2022-11-14T16:03:42.241Z"
   },
   {
    "duration": 10,
    "start_time": "2022-11-14T16:04:02.742Z"
   },
   {
    "duration": 11,
    "start_time": "2022-11-14T16:04:05.437Z"
   },
   {
    "duration": 10,
    "start_time": "2022-11-14T16:04:19.052Z"
   },
   {
    "duration": 10,
    "start_time": "2022-11-14T16:04:21.823Z"
   },
   {
    "duration": 11,
    "start_time": "2022-11-14T16:04:26.740Z"
   },
   {
    "duration": 10,
    "start_time": "2022-11-14T16:04:30.389Z"
   },
   {
    "duration": 9,
    "start_time": "2022-11-14T16:04:36.419Z"
   },
   {
    "duration": 10,
    "start_time": "2022-11-14T16:04:43.188Z"
   },
   {
    "duration": 148,
    "start_time": "2022-11-14T16:06:37.394Z"
   },
   {
    "duration": 132,
    "start_time": "2022-11-14T16:06:53.500Z"
   },
   {
    "duration": 149,
    "start_time": "2022-11-14T16:07:23.027Z"
   },
   {
    "duration": 250,
    "start_time": "2022-11-14T16:07:45.039Z"
   },
   {
    "duration": 159,
    "start_time": "2022-11-14T16:08:49.056Z"
   },
   {
    "duration": 145,
    "start_time": "2022-11-14T16:08:51.796Z"
   },
   {
    "duration": 161,
    "start_time": "2022-11-14T16:08:58.952Z"
   },
   {
    "duration": 140,
    "start_time": "2022-11-14T16:09:21.454Z"
   },
   {
    "duration": 150,
    "start_time": "2022-11-14T16:10:34.229Z"
   },
   {
    "duration": 158,
    "start_time": "2022-11-14T16:12:09.337Z"
   },
   {
    "duration": 137,
    "start_time": "2022-11-14T16:12:41.326Z"
   },
   {
    "duration": 129,
    "start_time": "2022-11-14T16:13:52.311Z"
   },
   {
    "duration": 7,
    "start_time": "2022-11-14T16:15:24.764Z"
   },
   {
    "duration": 9,
    "start_time": "2022-11-14T16:15:27.748Z"
   },
   {
    "duration": 8,
    "start_time": "2022-11-14T16:15:30.793Z"
   },
   {
    "duration": 6,
    "start_time": "2022-11-14T16:15:42.090Z"
   },
   {
    "duration": 9,
    "start_time": "2022-11-14T16:15:45.354Z"
   },
   {
    "duration": 8,
    "start_time": "2022-11-14T16:15:48.086Z"
   },
   {
    "duration": 10,
    "start_time": "2022-11-14T16:15:51.205Z"
   },
   {
    "duration": 7,
    "start_time": "2022-11-14T16:15:54.269Z"
   },
   {
    "duration": 8,
    "start_time": "2022-11-14T16:15:56.604Z"
   },
   {
    "duration": 7,
    "start_time": "2022-11-14T16:15:59.884Z"
   },
   {
    "duration": 127,
    "start_time": "2022-11-14T16:17:07.216Z"
   },
   {
    "duration": 134,
    "start_time": "2022-11-14T16:17:12.774Z"
   },
   {
    "duration": 137,
    "start_time": "2022-11-14T16:18:07.106Z"
   },
   {
    "duration": 123,
    "start_time": "2022-11-14T16:18:20.264Z"
   },
   {
    "duration": 122,
    "start_time": "2022-11-14T16:20:25.209Z"
   },
   {
    "duration": 184,
    "start_time": "2022-11-14T16:23:42.364Z"
   },
   {
    "duration": 294,
    "start_time": "2022-11-14T16:23:58.950Z"
   },
   {
    "duration": 165,
    "start_time": "2022-11-14T16:24:04.741Z"
   },
   {
    "duration": 146,
    "start_time": "2022-11-14T16:27:53.939Z"
   },
   {
    "duration": 116,
    "start_time": "2022-11-14T16:28:19.156Z"
   },
   {
    "duration": 160,
    "start_time": "2022-11-14T16:28:23.685Z"
   },
   {
    "duration": 164,
    "start_time": "2022-11-14T16:28:28.545Z"
   },
   {
    "duration": 181,
    "start_time": "2022-11-14T16:28:34.215Z"
   },
   {
    "duration": 54,
    "start_time": "2022-11-14T16:55:18.731Z"
   },
   {
    "duration": 5,
    "start_time": "2022-11-14T16:55:25.118Z"
   },
   {
    "duration": 195,
    "start_time": "2022-11-14T17:01:39.111Z"
   },
   {
    "duration": 13,
    "start_time": "2022-11-14T17:04:01.134Z"
   },
   {
    "duration": 7,
    "start_time": "2022-11-14T17:04:03.094Z"
   },
   {
    "duration": 11,
    "start_time": "2022-11-14T17:04:05.143Z"
   },
   {
    "duration": 182,
    "start_time": "2022-11-14T17:04:33.738Z"
   },
   {
    "duration": 153,
    "start_time": "2022-11-14T17:04:36.893Z"
   },
   {
    "duration": 168,
    "start_time": "2022-11-14T17:05:31.565Z"
   },
   {
    "duration": 162,
    "start_time": "2022-11-14T17:05:43.756Z"
   },
   {
    "duration": 172,
    "start_time": "2022-11-14T17:05:55.666Z"
   },
   {
    "duration": 147,
    "start_time": "2022-11-14T17:06:27.402Z"
   },
   {
    "duration": 184,
    "start_time": "2022-11-14T17:06:34.284Z"
   },
   {
    "duration": 19,
    "start_time": "2022-11-14T17:08:30.692Z"
   },
   {
    "duration": 119,
    "start_time": "2022-11-14T17:08:39.249Z"
   },
   {
    "duration": 153,
    "start_time": "2022-11-14T17:09:46.659Z"
   },
   {
    "duration": 148,
    "start_time": "2022-11-14T17:09:56.450Z"
   },
   {
    "duration": 141,
    "start_time": "2022-11-14T17:09:59.804Z"
   },
   {
    "duration": 358,
    "start_time": "2022-11-14T17:10:12.562Z"
   },
   {
    "duration": 167,
    "start_time": "2022-11-14T17:11:01.703Z"
   },
   {
    "duration": 20,
    "start_time": "2022-11-14T17:11:20.884Z"
   },
   {
    "duration": 7,
    "start_time": "2022-11-14T17:11:23.422Z"
   },
   {
    "duration": 7,
    "start_time": "2022-11-14T17:11:31.374Z"
   },
   {
    "duration": 7,
    "start_time": "2022-11-14T17:11:34.254Z"
   },
   {
    "duration": 9,
    "start_time": "2022-11-14T17:11:38.270Z"
   },
   {
    "duration": 7,
    "start_time": "2022-11-14T17:11:45.191Z"
   },
   {
    "duration": 128,
    "start_time": "2022-11-14T17:12:03.932Z"
   },
   {
    "duration": 6,
    "start_time": "2022-11-14T17:12:15.061Z"
   },
   {
    "duration": 6,
    "start_time": "2022-11-14T17:12:17.166Z"
   },
   {
    "duration": 7,
    "start_time": "2022-11-14T17:12:19.719Z"
   },
   {
    "duration": 7,
    "start_time": "2022-11-14T17:12:23.050Z"
   },
   {
    "duration": 8,
    "start_time": "2022-11-14T17:12:43.987Z"
   },
   {
    "duration": 9,
    "start_time": "2022-11-14T17:12:53.875Z"
   },
   {
    "duration": 140,
    "start_time": "2022-11-14T17:13:12.110Z"
   },
   {
    "duration": 7,
    "start_time": "2022-11-14T17:13:21.209Z"
   },
   {
    "duration": 8,
    "start_time": "2022-11-14T17:13:24.743Z"
   },
   {
    "duration": 7,
    "start_time": "2022-11-14T17:13:40.295Z"
   },
   {
    "duration": 8,
    "start_time": "2022-11-14T17:13:42.698Z"
   },
   {
    "duration": 26,
    "start_time": "2022-11-14T17:13:46.678Z"
   },
   {
    "duration": 8,
    "start_time": "2022-11-14T17:13:48.581Z"
   },
   {
    "duration": 7,
    "start_time": "2022-11-14T17:13:51.760Z"
   },
   {
    "duration": 7,
    "start_time": "2022-11-14T17:14:10.107Z"
   },
   {
    "duration": 8,
    "start_time": "2022-11-14T17:14:55.297Z"
   },
   {
    "duration": 7,
    "start_time": "2022-11-14T17:14:57.994Z"
   },
   {
    "duration": 8,
    "start_time": "2022-11-14T17:15:01.068Z"
   },
   {
    "duration": 8,
    "start_time": "2022-11-14T17:15:03.831Z"
   },
   {
    "duration": 9,
    "start_time": "2022-11-14T17:15:09.905Z"
   },
   {
    "duration": 7,
    "start_time": "2022-11-14T17:15:17.384Z"
   },
   {
    "duration": 9,
    "start_time": "2022-11-14T17:15:20.063Z"
   },
   {
    "duration": 9,
    "start_time": "2022-11-14T17:15:22.504Z"
   },
   {
    "duration": 9,
    "start_time": "2022-11-14T17:15:35.120Z"
   },
   {
    "duration": 8,
    "start_time": "2022-11-14T17:15:43.244Z"
   },
   {
    "duration": 7,
    "start_time": "2022-11-14T17:15:46.511Z"
   },
   {
    "duration": 13,
    "start_time": "2022-11-14T17:16:07.189Z"
   },
   {
    "duration": 3,
    "start_time": "2022-11-14T17:16:21.705Z"
   },
   {
    "duration": 8,
    "start_time": "2022-11-14T17:16:39.953Z"
   },
   {
    "duration": 8,
    "start_time": "2022-11-14T17:16:47.072Z"
   },
   {
    "duration": 8,
    "start_time": "2022-11-14T17:17:54.637Z"
   },
   {
    "duration": 7,
    "start_time": "2022-11-14T17:18:03.033Z"
   },
   {
    "duration": 7,
    "start_time": "2022-11-14T17:18:06.631Z"
   },
   {
    "duration": 8,
    "start_time": "2022-11-14T17:18:30.529Z"
   },
   {
    "duration": 8,
    "start_time": "2022-11-14T17:22:03.731Z"
   },
   {
    "duration": 7,
    "start_time": "2022-11-14T17:22:06.233Z"
   },
   {
    "duration": 7,
    "start_time": "2022-11-14T17:22:21.996Z"
   },
   {
    "duration": 6,
    "start_time": "2022-11-14T17:22:25.258Z"
   },
   {
    "duration": 8,
    "start_time": "2022-11-14T17:26:17.788Z"
   },
   {
    "duration": 7,
    "start_time": "2022-11-14T17:26:54.677Z"
   },
   {
    "duration": 48,
    "start_time": "2022-11-14T17:26:56.643Z"
   },
   {
    "duration": 7,
    "start_time": "2022-11-14T17:27:01.687Z"
   },
   {
    "duration": 7,
    "start_time": "2022-11-14T17:27:12.211Z"
   },
   {
    "duration": 25062,
    "start_time": "2022-11-14T17:51:24.360Z"
   },
   {
    "duration": 60,
    "start_time": "2022-11-14T17:51:53.439Z"
   },
   {
    "duration": 6,
    "start_time": "2022-11-14T17:55:42.791Z"
   },
   {
    "duration": 6,
    "start_time": "2022-11-14T17:56:05.040Z"
   },
   {
    "duration": 5,
    "start_time": "2022-11-14T17:56:26.985Z"
   },
   {
    "duration": 4,
    "start_time": "2022-11-14T17:56:31.490Z"
   },
   {
    "duration": 766,
    "start_time": "2022-11-14T17:59:53.367Z"
   },
   {
    "duration": 153,
    "start_time": "2022-11-14T18:00:04.528Z"
   },
   {
    "duration": 268,
    "start_time": "2022-11-14T18:00:35.602Z"
   },
   {
    "duration": 247,
    "start_time": "2022-11-14T18:00:59.868Z"
   },
   {
    "duration": 3,
    "start_time": "2022-11-14T18:05:18.965Z"
   },
   {
    "duration": 7,
    "start_time": "2022-11-14T18:05:26.177Z"
   },
   {
    "duration": 7,
    "start_time": "2022-11-14T18:05:33.851Z"
   },
   {
    "duration": 723,
    "start_time": "2022-11-14T18:06:46.569Z"
   },
   {
    "duration": 6,
    "start_time": "2022-11-14T18:07:00.450Z"
   },
   {
    "duration": 9,
    "start_time": "2022-11-14T18:07:14.451Z"
   },
   {
    "duration": 12,
    "start_time": "2022-11-14T18:08:21.187Z"
   },
   {
    "duration": 2521,
    "start_time": "2022-11-14T18:08:36.354Z"
   },
   {
    "duration": 2223,
    "start_time": "2022-11-14T18:09:00.027Z"
   },
   {
    "duration": 5,
    "start_time": "2022-11-14T18:23:54.131Z"
   },
   {
    "duration": 208,
    "start_time": "2022-11-14T18:24:01.186Z"
   },
   {
    "duration": 5,
    "start_time": "2022-11-14T18:33:27.814Z"
   },
   {
    "duration": 193,
    "start_time": "2022-11-14T18:35:58.347Z"
   },
   {
    "duration": 212,
    "start_time": "2022-11-14T18:38:08.375Z"
   },
   {
    "duration": 210,
    "start_time": "2022-11-14T18:38:16.227Z"
   },
   {
    "duration": 196,
    "start_time": "2022-11-14T18:38:24.068Z"
   },
   {
    "duration": 5,
    "start_time": "2022-11-14T20:39:45.470Z"
   },
   {
    "duration": 227,
    "start_time": "2022-11-14T20:40:04.794Z"
   },
   {
    "duration": 9,
    "start_time": "2022-11-14T20:48:22.866Z"
   },
   {
    "duration": 17,
    "start_time": "2022-11-14T20:48:49.645Z"
   },
   {
    "duration": 858,
    "start_time": "2022-11-14T20:49:08.087Z"
   },
   {
    "duration": 138,
    "start_time": "2022-11-14T20:49:35.606Z"
   },
   {
    "duration": 98,
    "start_time": "2022-11-14T20:50:25.929Z"
   },
   {
    "duration": 17,
    "start_time": "2022-11-14T20:50:55.671Z"
   },
   {
    "duration": 217,
    "start_time": "2022-11-14T20:51:24.684Z"
   },
   {
    "duration": 132,
    "start_time": "2022-11-14T20:52:03.974Z"
   },
   {
    "duration": 680,
    "start_time": "2022-11-14T20:52:13.637Z"
   },
   {
    "duration": 96,
    "start_time": "2022-11-14T20:52:48.745Z"
   },
   {
    "duration": 669,
    "start_time": "2022-11-14T20:55:16.958Z"
   },
   {
    "duration": 11,
    "start_time": "2022-11-14T20:55:31.114Z"
   },
   {
    "duration": 141,
    "start_time": "2022-11-14T20:56:43.886Z"
   },
   {
    "duration": 130,
    "start_time": "2022-11-14T20:56:52.205Z"
   },
   {
    "duration": 783,
    "start_time": "2022-11-14T20:58:22.911Z"
   },
   {
    "duration": 863,
    "start_time": "2022-11-14T20:58:40.692Z"
   },
   {
    "duration": 795,
    "start_time": "2022-11-14T20:58:51.114Z"
   },
   {
    "duration": 12,
    "start_time": "2022-11-14T20:59:05.375Z"
   },
   {
    "duration": 12,
    "start_time": "2022-11-14T20:59:08.950Z"
   },
   {
    "duration": 676,
    "start_time": "2022-11-14T21:04:44.252Z"
   },
   {
    "duration": 830,
    "start_time": "2022-11-14T21:04:50.348Z"
   },
   {
    "duration": 13,
    "start_time": "2022-11-14T21:05:03.111Z"
   },
   {
    "duration": 12,
    "start_time": "2022-11-14T21:05:08.381Z"
   },
   {
    "duration": 141,
    "start_time": "2022-11-14T21:05:17.470Z"
   },
   {
    "duration": 14,
    "start_time": "2022-11-14T21:05:54.189Z"
   },
   {
    "duration": 15,
    "start_time": "2022-11-14T21:06:01.739Z"
   },
   {
    "duration": 14,
    "start_time": "2022-11-14T21:06:09.467Z"
   },
   {
    "duration": 1109,
    "start_time": "2022-11-14T21:06:20.854Z"
   },
   {
    "duration": 17,
    "start_time": "2022-11-14T21:06:32.765Z"
   },
   {
    "duration": 127,
    "start_time": "2022-11-14T21:09:41.808Z"
   },
   {
    "duration": 163,
    "start_time": "2022-11-14T21:10:11.906Z"
   },
   {
    "duration": 131,
    "start_time": "2022-11-14T21:11:40.340Z"
   },
   {
    "duration": 146,
    "start_time": "2022-11-14T21:12:16.309Z"
   },
   {
    "duration": 109,
    "start_time": "2022-11-14T21:16:43.246Z"
   },
   {
    "duration": 120,
    "start_time": "2022-11-14T21:18:39.003Z"
   },
   {
    "duration": 109,
    "start_time": "2022-11-14T21:18:43.193Z"
   },
   {
    "duration": 13,
    "start_time": "2022-11-14T21:20:52.589Z"
   },
   {
    "duration": 14,
    "start_time": "2022-11-14T21:21:31.958Z"
   },
   {
    "duration": 115,
    "start_time": "2022-11-14T21:21:43.642Z"
   },
   {
    "duration": 159,
    "start_time": "2022-11-14T21:22:56.059Z"
   },
   {
    "duration": 121,
    "start_time": "2022-11-14T21:25:12.563Z"
   },
   {
    "duration": 7,
    "start_time": "2022-11-14T22:34:21.168Z"
   },
   {
    "duration": 7,
    "start_time": "2022-11-14T22:34:24.360Z"
   },
   {
    "duration": 9,
    "start_time": "2022-11-14T22:34:35.943Z"
   },
   {
    "duration": 7,
    "start_time": "2022-11-14T22:34:38.811Z"
   },
   {
    "duration": 6,
    "start_time": "2022-11-14T22:35:42.651Z"
   },
   {
    "duration": 7,
    "start_time": "2022-11-14T22:35:53.271Z"
   },
   {
    "duration": 6,
    "start_time": "2022-11-14T22:37:08.407Z"
   },
   {
    "duration": 6,
    "start_time": "2022-11-14T22:37:19.531Z"
   },
   {
    "duration": 12,
    "start_time": "2022-11-14T22:37:51.887Z"
   },
   {
    "duration": 61,
    "start_time": "2022-11-14T22:39:50.046Z"
   },
   {
    "duration": 47,
    "start_time": "2022-11-14T22:40:09.134Z"
   },
   {
    "duration": 12,
    "start_time": "2022-11-14T22:40:18.526Z"
   },
   {
    "duration": 48,
    "start_time": "2022-11-14T22:40:26.743Z"
   },
   {
    "duration": 10,
    "start_time": "2022-11-14T22:40:42.578Z"
   },
   {
    "duration": 45,
    "start_time": "2022-11-14T22:41:55.591Z"
   },
   {
    "duration": 15,
    "start_time": "2022-11-14T22:42:03.093Z"
   },
   {
    "duration": 14,
    "start_time": "2022-11-14T22:43:54.873Z"
   },
   {
    "duration": 39,
    "start_time": "2022-11-14T22:48:00.418Z"
   },
   {
    "duration": 11,
    "start_time": "2022-11-14T22:49:02.312Z"
   },
   {
    "duration": 17,
    "start_time": "2022-11-14T22:49:13.710Z"
   },
   {
    "duration": 18,
    "start_time": "2022-11-14T22:49:29.217Z"
   },
   {
    "duration": 12,
    "start_time": "2022-11-14T22:50:07.386Z"
   },
   {
    "duration": 16,
    "start_time": "2022-11-14T22:51:17.029Z"
   },
   {
    "duration": 24,
    "start_time": "2022-11-14T22:51:55.656Z"
   },
   {
    "duration": 20,
    "start_time": "2022-11-14T22:52:02.343Z"
   },
   {
    "duration": 14,
    "start_time": "2022-11-14T22:52:27.680Z"
   },
   {
    "duration": 636,
    "start_time": "2022-11-14T22:53:47.375Z"
   },
   {
    "duration": 627,
    "start_time": "2022-11-14T22:53:53.754Z"
   },
   {
    "duration": 14,
    "start_time": "2022-11-14T22:55:16.688Z"
   },
   {
    "duration": 16,
    "start_time": "2022-11-14T22:55:29.110Z"
   },
   {
    "duration": 12,
    "start_time": "2022-11-14T22:55:34.106Z"
   },
   {
    "duration": 19,
    "start_time": "2022-11-14T22:58:26.978Z"
   },
   {
    "duration": 19,
    "start_time": "2022-11-14T22:59:14.877Z"
   },
   {
    "duration": 693,
    "start_time": "2022-11-14T22:59:53.551Z"
   },
   {
    "duration": 14,
    "start_time": "2022-11-14T23:00:23.408Z"
   },
   {
    "duration": 14,
    "start_time": "2022-11-14T23:00:57.285Z"
   },
   {
    "duration": 19,
    "start_time": "2022-11-14T23:01:05.331Z"
   },
   {
    "duration": 16,
    "start_time": "2022-11-14T23:01:24.801Z"
   },
   {
    "duration": 22,
    "start_time": "2022-11-14T23:01:42.565Z"
   },
   {
    "duration": 16,
    "start_time": "2022-11-14T23:02:23.911Z"
   },
   {
    "duration": 27,
    "start_time": "2022-11-14T23:04:14.403Z"
   },
   {
    "duration": 17,
    "start_time": "2022-11-14T23:05:02.747Z"
   },
   {
    "duration": 17,
    "start_time": "2022-11-14T23:05:08.331Z"
   },
   {
    "duration": 45,
    "start_time": "2022-11-14T23:05:15.839Z"
   },
   {
    "duration": 13,
    "start_time": "2022-11-14T23:07:25.336Z"
   },
   {
    "duration": 16,
    "start_time": "2022-11-14T23:07:29.876Z"
   },
   {
    "duration": 4,
    "start_time": "2022-11-14T23:07:48.443Z"
   },
   {
    "duration": 16,
    "start_time": "2022-11-14T23:08:21.152Z"
   },
   {
    "duration": 17,
    "start_time": "2022-11-14T23:08:36.032Z"
   },
   {
    "duration": 17,
    "start_time": "2022-11-14T23:08:48.631Z"
   },
   {
    "duration": 27,
    "start_time": "2022-11-14T23:22:40.578Z"
   },
   {
    "duration": 12,
    "start_time": "2022-11-14T23:22:59.666Z"
   },
   {
    "duration": 19,
    "start_time": "2022-11-14T23:24:37.998Z"
   },
   {
    "duration": 17,
    "start_time": "2022-11-14T23:26:08.173Z"
   },
   {
    "duration": 132,
    "start_time": "2022-11-15T00:35:01.421Z"
   },
   {
    "duration": 1706,
    "start_time": "2022-11-15T00:35:01.555Z"
   },
   {
    "duration": 9,
    "start_time": "2022-11-15T00:35:03.262Z"
   },
   {
    "duration": 6,
    "start_time": "2022-11-15T00:35:03.272Z"
   },
   {
    "duration": 21,
    "start_time": "2022-11-15T00:35:03.279Z"
   },
   {
    "duration": 17,
    "start_time": "2022-11-15T00:35:03.302Z"
   },
   {
    "duration": 8,
    "start_time": "2022-11-15T00:35:03.321Z"
   },
   {
    "duration": 4,
    "start_time": "2022-11-15T00:35:03.331Z"
   },
   {
    "duration": 32,
    "start_time": "2022-11-15T00:35:03.336Z"
   },
   {
    "duration": 4,
    "start_time": "2022-11-15T00:35:03.370Z"
   },
   {
    "duration": 6,
    "start_time": "2022-11-15T00:35:03.376Z"
   },
   {
    "duration": 17,
    "start_time": "2022-11-15T00:35:03.384Z"
   },
   {
    "duration": 5,
    "start_time": "2022-11-15T00:35:03.402Z"
   },
   {
    "duration": 22,
    "start_time": "2022-11-15T00:35:03.408Z"
   },
   {
    "duration": 1187,
    "start_time": "2022-11-15T00:35:03.432Z"
   },
   {
    "duration": 6,
    "start_time": "2022-11-15T00:35:04.621Z"
   },
   {
    "duration": 10,
    "start_time": "2022-11-15T00:35:04.629Z"
   },
   {
    "duration": 10,
    "start_time": "2022-11-15T00:35:04.640Z"
   },
   {
    "duration": 10,
    "start_time": "2022-11-15T00:35:04.651Z"
   },
   {
    "duration": 8,
    "start_time": "2022-11-15T00:35:04.663Z"
   },
   {
    "duration": 27,
    "start_time": "2022-11-15T00:35:04.673Z"
   },
   {
    "duration": 10,
    "start_time": "2022-11-15T00:35:04.702Z"
   },
   {
    "duration": 169,
    "start_time": "2022-11-15T00:35:04.714Z"
   },
   {
    "duration": 6,
    "start_time": "2022-11-15T00:35:04.884Z"
   },
   {
    "duration": 10,
    "start_time": "2022-11-15T00:35:04.891Z"
   },
   {
    "duration": 115,
    "start_time": "2022-11-15T00:35:04.902Z"
   },
   {
    "duration": 156,
    "start_time": "2022-11-15T00:35:05.018Z"
   },
   {
    "duration": 126,
    "start_time": "2022-11-15T00:35:05.178Z"
   },
   {
    "duration": 7,
    "start_time": "2022-11-15T00:35:05.306Z"
   },
   {
    "duration": 115,
    "start_time": "2022-11-15T00:35:05.314Z"
   },
   {
    "duration": 8,
    "start_time": "2022-11-15T00:35:05.431Z"
   },
   {
    "duration": 28,
    "start_time": "2022-11-15T00:35:05.440Z"
   },
   {
    "duration": 28,
    "start_time": "2022-11-15T00:35:05.469Z"
   },
   {
    "duration": 86,
    "start_time": "2022-11-15T00:35:05.498Z"
   },
   {
    "duration": 16,
    "start_time": "2022-11-15T00:35:05.585Z"
   },
   {
    "duration": 5,
    "start_time": "2022-11-15T00:35:05.603Z"
   },
   {
    "duration": 4,
    "start_time": "2022-11-15T00:35:05.609Z"
   },
   {
    "duration": 7,
    "start_time": "2022-11-15T00:35:05.615Z"
   },
   {
    "duration": 18,
    "start_time": "2022-11-15T00:35:05.623Z"
   },
   {
    "duration": 11,
    "start_time": "2022-11-15T00:35:05.643Z"
   },
   {
    "duration": 6,
    "start_time": "2022-11-15T00:35:05.655Z"
   },
   {
    "duration": 221,
    "start_time": "2022-11-15T00:35:05.663Z"
   },
   {
    "duration": 5,
    "start_time": "2022-11-15T00:35:05.885Z"
   },
   {
    "duration": 151,
    "start_time": "2022-11-15T00:35:05.898Z"
   },
   {
    "duration": 152,
    "start_time": "2022-11-15T00:35:06.051Z"
   },
   {
    "duration": 161,
    "start_time": "2022-11-15T00:35:06.204Z"
   },
   {
    "duration": 155,
    "start_time": "2022-11-15T00:35:06.367Z"
   },
   {
    "duration": 128,
    "start_time": "2022-11-15T00:35:06.523Z"
   },
   {
    "duration": 132,
    "start_time": "2022-11-15T00:35:06.652Z"
   },
   {
    "duration": 145,
    "start_time": "2022-11-15T00:35:06.786Z"
   },
   {
    "duration": 109,
    "start_time": "2022-11-15T00:35:06.933Z"
   },
   {
    "duration": 141,
    "start_time": "2022-11-15T00:35:07.043Z"
   },
   {
    "duration": 148,
    "start_time": "2022-11-15T00:35:07.185Z"
   },
   {
    "duration": 140,
    "start_time": "2022-11-15T00:35:07.335Z"
   },
   {
    "duration": 130,
    "start_time": "2022-11-15T00:35:07.476Z"
   },
   {
    "duration": 141,
    "start_time": "2022-11-15T00:35:07.608Z"
   },
   {
    "duration": 122,
    "start_time": "2022-11-15T00:35:07.750Z"
   },
   {
    "duration": 163,
    "start_time": "2022-11-15T00:35:07.874Z"
   },
   {
    "duration": 150,
    "start_time": "2022-11-15T00:35:08.038Z"
   },
   {
    "duration": 156,
    "start_time": "2022-11-15T00:35:08.190Z"
   },
   {
    "duration": 8,
    "start_time": "2022-11-15T00:35:08.348Z"
   },
   {
    "duration": 126,
    "start_time": "2022-11-15T00:35:08.358Z"
   },
   {
    "duration": 18,
    "start_time": "2022-11-15T00:35:08.486Z"
   },
   {
    "duration": 5,
    "start_time": "2022-11-15T00:35:08.505Z"
   },
   {
    "duration": 204,
    "start_time": "2022-11-15T00:35:08.511Z"
   },
   {
    "duration": 6,
    "start_time": "2022-11-15T00:35:08.716Z"
   },
   {
    "duration": 211,
    "start_time": "2022-11-15T00:35:08.723Z"
   },
   {
    "duration": 5,
    "start_time": "2022-11-15T00:35:08.936Z"
   },
   {
    "duration": 210,
    "start_time": "2022-11-15T00:35:08.942Z"
   },
   {
    "duration": 145,
    "start_time": "2022-11-15T00:35:09.154Z"
   },
   {
    "duration": 112,
    "start_time": "2022-11-15T00:35:09.301Z"
   },
   {
    "duration": 128,
    "start_time": "2022-11-15T00:35:09.414Z"
   },
   {
    "duration": 173,
    "start_time": "2022-11-15T00:35:09.543Z"
   },
   {
    "duration": 138,
    "start_time": "2022-11-15T00:35:09.718Z"
   },
   {
    "duration": 18,
    "start_time": "2022-11-15T00:35:09.857Z"
   },
   {
    "duration": 41,
    "start_time": "2022-11-15T00:35:09.876Z"
   },
   {
    "duration": 513,
    "start_time": "2022-11-15T00:35:22.818Z"
   },
   {
    "duration": 1935,
    "start_time": "2022-11-15T00:35:23.335Z"
   },
   {
    "duration": 9,
    "start_time": "2022-11-15T00:35:25.272Z"
   },
   {
    "duration": 5,
    "start_time": "2022-11-15T00:35:25.283Z"
   },
   {
    "duration": 6,
    "start_time": "2022-11-15T00:35:25.289Z"
   },
   {
    "duration": 6,
    "start_time": "2022-11-15T00:35:25.296Z"
   },
   {
    "duration": 5,
    "start_time": "2022-11-15T00:35:25.303Z"
   },
   {
    "duration": 5,
    "start_time": "2022-11-15T00:35:25.309Z"
   },
   {
    "duration": 26,
    "start_time": "2022-11-15T00:35:25.316Z"
   },
   {
    "duration": 4,
    "start_time": "2022-11-15T00:35:25.343Z"
   },
   {
    "duration": 6,
    "start_time": "2022-11-15T00:35:25.348Z"
   },
   {
    "duration": 9,
    "start_time": "2022-11-15T00:35:25.355Z"
   },
   {
    "duration": 35,
    "start_time": "2022-11-15T00:35:25.365Z"
   },
   {
    "duration": 8,
    "start_time": "2022-11-15T00:35:25.402Z"
   },
   {
    "duration": 1194,
    "start_time": "2022-11-15T00:35:25.411Z"
   },
   {
    "duration": 6,
    "start_time": "2022-11-15T00:35:26.606Z"
   },
   {
    "duration": 9,
    "start_time": "2022-11-15T00:35:26.614Z"
   },
   {
    "duration": 7,
    "start_time": "2022-11-15T00:35:26.624Z"
   },
   {
    "duration": 7,
    "start_time": "2022-11-15T00:35:26.632Z"
   },
   {
    "duration": 4,
    "start_time": "2022-11-15T00:35:26.640Z"
   },
   {
    "duration": 7,
    "start_time": "2022-11-15T00:35:26.645Z"
   },
   {
    "duration": 6,
    "start_time": "2022-11-15T00:35:26.653Z"
   },
   {
    "duration": 196,
    "start_time": "2022-11-15T00:35:26.660Z"
   },
   {
    "duration": 6,
    "start_time": "2022-11-15T00:35:26.858Z"
   },
   {
    "duration": 7,
    "start_time": "2022-11-15T00:35:26.865Z"
   },
   {
    "duration": 118,
    "start_time": "2022-11-15T00:35:26.873Z"
   },
   {
    "duration": 164,
    "start_time": "2022-11-15T00:35:26.998Z"
   },
   {
    "duration": 135,
    "start_time": "2022-11-15T00:35:27.164Z"
   },
   {
    "duration": 9,
    "start_time": "2022-11-15T00:35:27.301Z"
   },
   {
    "duration": 118,
    "start_time": "2022-11-15T00:35:27.312Z"
   },
   {
    "duration": 9,
    "start_time": "2022-11-15T00:35:27.431Z"
   },
   {
    "duration": 29,
    "start_time": "2022-11-15T00:35:27.441Z"
   },
   {
    "duration": 28,
    "start_time": "2022-11-15T00:35:27.471Z"
   },
   {
    "duration": 98,
    "start_time": "2022-11-15T00:35:27.501Z"
   },
   {
    "duration": 7,
    "start_time": "2022-11-15T00:35:27.601Z"
   },
   {
    "duration": 14,
    "start_time": "2022-11-15T00:35:27.610Z"
   },
   {
    "duration": 24,
    "start_time": "2022-11-15T00:35:27.625Z"
   },
   {
    "duration": 19,
    "start_time": "2022-11-15T00:35:27.650Z"
   },
   {
    "duration": 12,
    "start_time": "2022-11-15T00:35:27.671Z"
   },
   {
    "duration": 9,
    "start_time": "2022-11-15T00:35:27.684Z"
   },
   {
    "duration": 9,
    "start_time": "2022-11-15T00:35:27.695Z"
   },
   {
    "duration": 291,
    "start_time": "2022-11-15T00:35:27.706Z"
   },
   {
    "duration": 4,
    "start_time": "2022-11-15T00:35:27.999Z"
   },
   {
    "duration": 151,
    "start_time": "2022-11-15T00:35:28.005Z"
   },
   {
    "duration": 153,
    "start_time": "2022-11-15T00:35:28.158Z"
   },
   {
    "duration": 163,
    "start_time": "2022-11-15T00:35:28.312Z"
   },
   {
    "duration": 151,
    "start_time": "2022-11-15T00:35:28.476Z"
   },
   {
    "duration": 131,
    "start_time": "2022-11-15T00:35:28.629Z"
   },
   {
    "duration": 122,
    "start_time": "2022-11-15T00:35:28.762Z"
   },
   {
    "duration": 155,
    "start_time": "2022-11-15T00:35:28.886Z"
   },
   {
    "duration": 108,
    "start_time": "2022-11-15T00:35:29.043Z"
   },
   {
    "duration": 146,
    "start_time": "2022-11-15T00:35:29.153Z"
   },
   {
    "duration": 235,
    "start_time": "2022-11-15T00:35:29.300Z"
   },
   {
    "duration": 142,
    "start_time": "2022-11-15T00:35:29.536Z"
   },
   {
    "duration": 130,
    "start_time": "2022-11-15T00:35:29.680Z"
   },
   {
    "duration": 142,
    "start_time": "2022-11-15T00:35:29.812Z"
   },
   {
    "duration": 134,
    "start_time": "2022-11-15T00:35:29.955Z"
   },
   {
    "duration": 174,
    "start_time": "2022-11-15T00:35:30.097Z"
   },
   {
    "duration": 156,
    "start_time": "2022-11-15T00:35:30.273Z"
   },
   {
    "duration": 164,
    "start_time": "2022-11-15T00:35:30.431Z"
   },
   {
    "duration": 9,
    "start_time": "2022-11-15T00:35:30.598Z"
   },
   {
    "duration": 131,
    "start_time": "2022-11-15T00:35:30.608Z"
   },
   {
    "duration": 12,
    "start_time": "2022-11-15T00:35:30.741Z"
   },
   {
    "duration": 18,
    "start_time": "2022-11-15T00:35:30.754Z"
   },
   {
    "duration": 238,
    "start_time": "2022-11-15T00:35:30.773Z"
   },
   {
    "duration": 6,
    "start_time": "2022-11-15T00:35:31.012Z"
   },
   {
    "duration": 214,
    "start_time": "2022-11-15T00:35:31.019Z"
   },
   {
    "duration": 6,
    "start_time": "2022-11-15T00:35:31.234Z"
   },
   {
    "duration": 200,
    "start_time": "2022-11-15T00:35:31.241Z"
   },
   {
    "duration": 141,
    "start_time": "2022-11-15T00:35:31.442Z"
   },
   {
    "duration": 115,
    "start_time": "2022-11-15T00:35:31.585Z"
   },
   {
    "duration": 240,
    "start_time": "2022-11-15T00:35:31.702Z"
   },
   {
    "duration": 172,
    "start_time": "2022-11-15T00:35:31.944Z"
   },
   {
    "duration": 135,
    "start_time": "2022-11-15T00:35:32.118Z"
   },
   {
    "duration": 17,
    "start_time": "2022-11-15T00:35:32.255Z"
   },
   {
    "duration": 29,
    "start_time": "2022-11-15T00:35:32.274Z"
   },
   {
    "duration": 687,
    "start_time": "2022-11-15T13:37:59.999Z"
   },
   {
    "duration": 2619,
    "start_time": "2022-11-15T13:38:00.688Z"
   },
   {
    "duration": 10,
    "start_time": "2022-11-15T13:38:03.309Z"
   },
   {
    "duration": 29,
    "start_time": "2022-11-15T13:38:03.321Z"
   },
   {
    "duration": 11,
    "start_time": "2022-11-15T13:38:03.352Z"
   },
   {
    "duration": 29,
    "start_time": "2022-11-15T13:38:03.364Z"
   },
   {
    "duration": 19,
    "start_time": "2022-11-15T13:38:03.395Z"
   },
   {
    "duration": 43,
    "start_time": "2022-11-15T13:38:03.416Z"
   },
   {
    "duration": 39,
    "start_time": "2022-11-15T13:38:03.460Z"
   },
   {
    "duration": 4,
    "start_time": "2022-11-15T13:38:03.502Z"
   },
   {
    "duration": 8,
    "start_time": "2022-11-15T13:38:03.508Z"
   },
   {
    "duration": 37,
    "start_time": "2022-11-15T13:38:03.518Z"
   },
   {
    "duration": 11,
    "start_time": "2022-11-15T13:38:03.557Z"
   },
   {
    "duration": 12,
    "start_time": "2022-11-15T13:38:03.570Z"
   },
   {
    "duration": 1547,
    "start_time": "2022-11-15T13:38:03.583Z"
   },
   {
    "duration": 14,
    "start_time": "2022-11-15T13:38:05.133Z"
   },
   {
    "duration": 36,
    "start_time": "2022-11-15T13:38:05.148Z"
   },
   {
    "duration": 8,
    "start_time": "2022-11-15T13:38:05.186Z"
   },
   {
    "duration": 38,
    "start_time": "2022-11-15T13:38:05.196Z"
   },
   {
    "duration": 32,
    "start_time": "2022-11-15T13:38:05.237Z"
   },
   {
    "duration": 16,
    "start_time": "2022-11-15T13:38:05.270Z"
   },
   {
    "duration": 8,
    "start_time": "2022-11-15T13:38:05.287Z"
   },
   {
    "duration": 270,
    "start_time": "2022-11-15T13:38:05.297Z"
   },
   {
    "duration": 6,
    "start_time": "2022-11-15T13:38:05.568Z"
   },
   {
    "duration": 8,
    "start_time": "2022-11-15T13:38:05.575Z"
   },
   {
    "duration": 146,
    "start_time": "2022-11-15T13:38:05.584Z"
   },
   {
    "duration": 224,
    "start_time": "2022-11-15T13:38:05.732Z"
   },
   {
    "duration": 158,
    "start_time": "2022-11-15T13:38:05.960Z"
   },
   {
    "duration": 15,
    "start_time": "2022-11-15T13:38:06.121Z"
   },
   {
    "duration": 145,
    "start_time": "2022-11-15T13:38:06.139Z"
   },
   {
    "duration": 9,
    "start_time": "2022-11-15T13:38:06.285Z"
   },
   {
    "duration": 70,
    "start_time": "2022-11-15T13:38:06.296Z"
   },
   {
    "duration": 8,
    "start_time": "2022-11-15T13:38:06.368Z"
   },
   {
    "duration": 153,
    "start_time": "2022-11-15T13:38:06.377Z"
   },
   {
    "duration": 8,
    "start_time": "2022-11-15T13:38:06.532Z"
   },
   {
    "duration": 21,
    "start_time": "2022-11-15T13:38:06.541Z"
   },
   {
    "duration": 16,
    "start_time": "2022-11-15T13:38:06.564Z"
   },
   {
    "duration": 29,
    "start_time": "2022-11-15T13:38:06.582Z"
   },
   {
    "duration": 26,
    "start_time": "2022-11-15T13:38:06.613Z"
   },
   {
    "duration": 30,
    "start_time": "2022-11-15T13:38:06.643Z"
   },
   {
    "duration": 15,
    "start_time": "2022-11-15T13:38:06.676Z"
   },
   {
    "duration": 403,
    "start_time": "2022-11-15T13:38:06.694Z"
   },
   {
    "duration": 6,
    "start_time": "2022-11-15T13:38:07.099Z"
   },
   {
    "duration": 218,
    "start_time": "2022-11-15T13:38:07.106Z"
   },
   {
    "duration": 191,
    "start_time": "2022-11-15T13:38:07.327Z"
   },
   {
    "duration": 217,
    "start_time": "2022-11-15T13:38:07.519Z"
   },
   {
    "duration": 219,
    "start_time": "2022-11-15T13:38:07.739Z"
   },
   {
    "duration": 172,
    "start_time": "2022-11-15T13:38:07.960Z"
   },
   {
    "duration": 158,
    "start_time": "2022-11-15T13:38:08.134Z"
   },
   {
    "duration": 173,
    "start_time": "2022-11-15T13:38:08.293Z"
   },
   {
    "duration": 134,
    "start_time": "2022-11-15T13:38:08.469Z"
   },
   {
    "duration": 286,
    "start_time": "2022-11-15T13:38:08.605Z"
   },
   {
    "duration": 204,
    "start_time": "2022-11-15T13:38:08.893Z"
   },
   {
    "duration": 188,
    "start_time": "2022-11-15T13:38:09.099Z"
   },
   {
    "duration": 182,
    "start_time": "2022-11-15T13:38:09.289Z"
   },
   {
    "duration": 199,
    "start_time": "2022-11-15T13:38:09.473Z"
   },
   {
    "duration": 166,
    "start_time": "2022-11-15T13:38:09.673Z"
   },
   {
    "duration": 246,
    "start_time": "2022-11-15T13:38:09.843Z"
   },
   {
    "duration": 231,
    "start_time": "2022-11-15T13:38:10.091Z"
   },
   {
    "duration": 188,
    "start_time": "2022-11-15T13:38:10.325Z"
   },
   {
    "duration": 16,
    "start_time": "2022-11-15T13:38:10.515Z"
   },
   {
    "duration": 148,
    "start_time": "2022-11-15T13:38:10.533Z"
   },
   {
    "duration": 10,
    "start_time": "2022-11-15T13:38:10.683Z"
   },
   {
    "duration": 10,
    "start_time": "2022-11-15T13:38:10.695Z"
   },
   {
    "duration": 284,
    "start_time": "2022-11-15T13:38:10.707Z"
   },
   {
    "duration": 5,
    "start_time": "2022-11-15T13:38:10.993Z"
   },
   {
    "duration": 278,
    "start_time": "2022-11-15T13:38:11.000Z"
   },
   {
    "duration": 6,
    "start_time": "2022-11-15T13:38:11.279Z"
   },
   {
    "duration": 281,
    "start_time": "2022-11-15T13:38:11.286Z"
   },
   {
    "duration": 190,
    "start_time": "2022-11-15T13:38:11.568Z"
   },
   {
    "duration": 291,
    "start_time": "2022-11-15T13:38:11.759Z"
   },
   {
    "duration": 159,
    "start_time": "2022-11-15T13:38:12.052Z"
   },
   {
    "duration": 209,
    "start_time": "2022-11-15T13:38:12.213Z"
   },
   {
    "duration": 631,
    "start_time": "2022-11-15T13:38:12.424Z"
   },
   {
    "duration": 21,
    "start_time": "2022-11-15T13:38:13.057Z"
   },
   {
    "duration": 268,
    "start_time": "2022-11-15T13:38:13.080Z"
   },
   {
    "duration": 562,
    "start_time": "2022-11-15T13:38:45.885Z"
   },
   {
    "duration": 2578,
    "start_time": "2022-11-15T13:38:46.449Z"
   },
   {
    "duration": 17,
    "start_time": "2022-11-15T13:38:49.030Z"
   },
   {
    "duration": 8,
    "start_time": "2022-11-15T13:38:49.050Z"
   },
   {
    "duration": 9,
    "start_time": "2022-11-15T13:38:49.060Z"
   },
   {
    "duration": 16,
    "start_time": "2022-11-15T13:38:49.071Z"
   },
   {
    "duration": 8,
    "start_time": "2022-11-15T13:38:49.089Z"
   },
   {
    "duration": 24,
    "start_time": "2022-11-15T13:38:49.099Z"
   },
   {
    "duration": 60,
    "start_time": "2022-11-15T13:38:49.125Z"
   },
   {
    "duration": 5,
    "start_time": "2022-11-15T13:38:49.188Z"
   },
   {
    "duration": 9,
    "start_time": "2022-11-15T13:38:49.195Z"
   },
   {
    "duration": 9,
    "start_time": "2022-11-15T13:38:49.205Z"
   },
   {
    "duration": 42,
    "start_time": "2022-11-15T13:38:49.216Z"
   },
   {
    "duration": 11,
    "start_time": "2022-11-15T13:38:49.260Z"
   },
   {
    "duration": 1533,
    "start_time": "2022-11-15T13:38:49.273Z"
   },
   {
    "duration": 19,
    "start_time": "2022-11-15T13:38:50.808Z"
   },
   {
    "duration": 26,
    "start_time": "2022-11-15T13:38:50.830Z"
   },
   {
    "duration": 8,
    "start_time": "2022-11-15T13:38:50.858Z"
   },
   {
    "duration": 9,
    "start_time": "2022-11-15T13:38:50.868Z"
   },
   {
    "duration": 8,
    "start_time": "2022-11-15T13:38:50.879Z"
   },
   {
    "duration": 13,
    "start_time": "2022-11-15T13:38:50.888Z"
   },
   {
    "duration": 6,
    "start_time": "2022-11-15T13:38:50.902Z"
   },
   {
    "duration": 248,
    "start_time": "2022-11-15T13:38:50.909Z"
   },
   {
    "duration": 5,
    "start_time": "2022-11-15T13:38:51.159Z"
   },
   {
    "duration": 6,
    "start_time": "2022-11-15T13:38:51.166Z"
   },
   {
    "duration": 173,
    "start_time": "2022-11-15T13:38:51.173Z"
   },
   {
    "duration": 183,
    "start_time": "2022-11-15T13:38:51.350Z"
   },
   {
    "duration": 179,
    "start_time": "2022-11-15T13:38:51.540Z"
   },
   {
    "duration": 13,
    "start_time": "2022-11-15T13:38:51.722Z"
   },
   {
    "duration": 152,
    "start_time": "2022-11-15T13:38:51.737Z"
   },
   {
    "duration": 9,
    "start_time": "2022-11-15T13:38:51.891Z"
   },
   {
    "duration": 66,
    "start_time": "2022-11-15T13:38:51.902Z"
   },
   {
    "duration": 8,
    "start_time": "2022-11-15T13:38:51.970Z"
   },
   {
    "duration": 122,
    "start_time": "2022-11-15T13:38:51.980Z"
   },
   {
    "duration": 8,
    "start_time": "2022-11-15T13:38:52.104Z"
   },
   {
    "duration": 40,
    "start_time": "2022-11-15T13:38:52.113Z"
   },
   {
    "duration": 14,
    "start_time": "2022-11-15T13:38:52.155Z"
   },
   {
    "duration": 7,
    "start_time": "2022-11-15T13:38:52.170Z"
   },
   {
    "duration": 8,
    "start_time": "2022-11-15T13:38:52.179Z"
   },
   {
    "duration": 15,
    "start_time": "2022-11-15T13:38:52.188Z"
   },
   {
    "duration": 7,
    "start_time": "2022-11-15T13:38:52.205Z"
   },
   {
    "duration": 367,
    "start_time": "2022-11-15T13:38:52.213Z"
   },
   {
    "duration": 5,
    "start_time": "2022-11-15T13:38:52.581Z"
   },
   {
    "duration": 192,
    "start_time": "2022-11-15T13:38:52.587Z"
   },
   {
    "duration": 202,
    "start_time": "2022-11-15T13:38:52.781Z"
   },
   {
    "duration": 204,
    "start_time": "2022-11-15T13:38:52.985Z"
   },
   {
    "duration": 202,
    "start_time": "2022-11-15T13:38:53.191Z"
   },
   {
    "duration": 157,
    "start_time": "2022-11-15T13:38:53.395Z"
   },
   {
    "duration": 154,
    "start_time": "2022-11-15T13:38:53.553Z"
   },
   {
    "duration": 201,
    "start_time": "2022-11-15T13:38:53.708Z"
   },
   {
    "duration": 152,
    "start_time": "2022-11-15T13:38:53.911Z"
   },
   {
    "duration": 210,
    "start_time": "2022-11-15T13:38:54.065Z"
   },
   {
    "duration": 356,
    "start_time": "2022-11-15T13:38:54.277Z"
   },
   {
    "duration": 202,
    "start_time": "2022-11-15T13:38:54.636Z"
   },
   {
    "duration": 166,
    "start_time": "2022-11-15T13:38:54.847Z"
   },
   {
    "duration": 195,
    "start_time": "2022-11-15T13:38:55.014Z"
   },
   {
    "duration": 177,
    "start_time": "2022-11-15T13:38:55.211Z"
   },
   {
    "duration": 209,
    "start_time": "2022-11-15T13:38:55.390Z"
   },
   {
    "duration": 213,
    "start_time": "2022-11-15T13:38:55.601Z"
   },
   {
    "duration": 221,
    "start_time": "2022-11-15T13:38:55.815Z"
   },
   {
    "duration": 11,
    "start_time": "2022-11-15T13:38:56.042Z"
   },
   {
    "duration": 175,
    "start_time": "2022-11-15T13:38:56.055Z"
   },
   {
    "duration": 15,
    "start_time": "2022-11-15T13:38:56.233Z"
   },
   {
    "duration": 8,
    "start_time": "2022-11-15T13:38:56.251Z"
   },
   {
    "duration": 297,
    "start_time": "2022-11-15T13:38:56.260Z"
   },
   {
    "duration": 5,
    "start_time": "2022-11-15T13:38:56.559Z"
   },
   {
    "duration": 275,
    "start_time": "2022-11-15T13:38:56.566Z"
   },
   {
    "duration": 7,
    "start_time": "2022-11-15T13:38:56.845Z"
   },
   {
    "duration": 262,
    "start_time": "2022-11-15T13:38:56.854Z"
   },
   {
    "duration": 200,
    "start_time": "2022-11-15T13:38:57.117Z"
   },
   {
    "duration": 165,
    "start_time": "2022-11-15T13:38:57.322Z"
   },
   {
    "duration": 287,
    "start_time": "2022-11-15T13:38:57.489Z"
   },
   {
    "duration": 232,
    "start_time": "2022-11-15T13:38:57.778Z"
   },
   {
    "duration": 185,
    "start_time": "2022-11-15T13:38:58.012Z"
   },
   {
    "duration": 20,
    "start_time": "2022-11-15T13:38:58.199Z"
   },
   {
    "duration": 26,
    "start_time": "2022-11-15T13:38:58.228Z"
   },
   {
    "duration": 21,
    "start_time": "2022-11-15T13:41:42.144Z"
   },
   {
    "duration": 44,
    "start_time": "2022-11-17T18:48:33.387Z"
   },
   {
    "duration": 818,
    "start_time": "2022-11-17T18:48:40.017Z"
   },
   {
    "duration": 2283,
    "start_time": "2022-11-17T18:48:40.837Z"
   },
   {
    "duration": 10,
    "start_time": "2022-11-17T18:48:43.122Z"
   },
   {
    "duration": 7,
    "start_time": "2022-11-17T18:48:43.133Z"
   },
   {
    "duration": 7,
    "start_time": "2022-11-17T18:48:43.143Z"
   },
   {
    "duration": 10,
    "start_time": "2022-11-17T18:48:43.151Z"
   },
   {
    "duration": 8,
    "start_time": "2022-11-17T18:48:43.162Z"
   },
   {
    "duration": 6,
    "start_time": "2022-11-17T18:48:43.172Z"
   },
   {
    "duration": 33,
    "start_time": "2022-11-17T18:48:43.215Z"
   },
   {
    "duration": 5,
    "start_time": "2022-11-17T18:48:43.250Z"
   },
   {
    "duration": 6,
    "start_time": "2022-11-17T18:48:43.257Z"
   },
   {
    "duration": 12,
    "start_time": "2022-11-17T18:48:43.265Z"
   },
   {
    "duration": 6,
    "start_time": "2022-11-17T18:48:43.279Z"
   },
   {
    "duration": 34,
    "start_time": "2022-11-17T18:48:43.288Z"
   },
   {
    "duration": 1331,
    "start_time": "2022-11-17T18:48:43.324Z"
   },
   {
    "duration": 7,
    "start_time": "2022-11-17T18:48:44.657Z"
   },
   {
    "duration": 10,
    "start_time": "2022-11-17T18:48:44.665Z"
   },
   {
    "duration": 8,
    "start_time": "2022-11-17T18:48:44.676Z"
   },
   {
    "duration": 8,
    "start_time": "2022-11-17T18:48:44.685Z"
   },
   {
    "duration": 6,
    "start_time": "2022-11-17T18:48:44.715Z"
   },
   {
    "duration": 10,
    "start_time": "2022-11-17T18:48:44.723Z"
   },
   {
    "duration": 28,
    "start_time": "2022-11-17T18:48:44.735Z"
   },
   {
    "duration": 5,
    "start_time": "2022-11-17T18:48:44.765Z"
   },
   {
    "duration": 193,
    "start_time": "2022-11-17T18:48:44.772Z"
   },
   {
    "duration": 6,
    "start_time": "2022-11-17T18:48:44.966Z"
   },
   {
    "duration": 7,
    "start_time": "2022-11-17T18:48:44.974Z"
   },
   {
    "duration": 124,
    "start_time": "2022-11-17T18:48:44.982Z"
   },
   {
    "duration": 169,
    "start_time": "2022-11-17T18:48:45.107Z"
   },
   {
    "duration": 148,
    "start_time": "2022-11-17T18:48:45.277Z"
   },
   {
    "duration": 10,
    "start_time": "2022-11-17T18:48:45.426Z"
   },
   {
    "duration": 122,
    "start_time": "2022-11-17T18:48:45.438Z"
   },
   {
    "duration": 9,
    "start_time": "2022-11-17T18:48:45.562Z"
   },
   {
    "duration": 44,
    "start_time": "2022-11-17T18:48:45.572Z"
   },
   {
    "duration": 10,
    "start_time": "2022-11-17T18:48:45.618Z"
   },
   {
    "duration": 110,
    "start_time": "2022-11-17T18:48:45.630Z"
   },
   {
    "duration": 7,
    "start_time": "2022-11-17T18:48:45.742Z"
   },
   {
    "duration": 7,
    "start_time": "2022-11-17T18:48:45.751Z"
   },
   {
    "duration": 3,
    "start_time": "2022-11-17T18:48:45.760Z"
   },
   {
    "duration": 4,
    "start_time": "2022-11-17T18:48:45.765Z"
   },
   {
    "duration": 6,
    "start_time": "2022-11-17T18:48:45.771Z"
   },
   {
    "duration": 10,
    "start_time": "2022-11-17T18:48:45.781Z"
   },
   {
    "duration": 27,
    "start_time": "2022-11-17T18:48:45.792Z"
   },
   {
    "duration": 320,
    "start_time": "2022-11-17T18:48:45.820Z"
   },
   {
    "duration": 5,
    "start_time": "2022-11-17T18:48:46.141Z"
   },
   {
    "duration": 163,
    "start_time": "2022-11-17T18:48:46.147Z"
   },
   {
    "duration": 180,
    "start_time": "2022-11-17T18:48:46.315Z"
   },
   {
    "duration": 190,
    "start_time": "2022-11-17T18:48:46.497Z"
   },
   {
    "duration": 171,
    "start_time": "2022-11-17T18:48:46.688Z"
   },
   {
    "duration": 176,
    "start_time": "2022-11-17T18:48:46.860Z"
   },
   {
    "duration": 166,
    "start_time": "2022-11-17T18:48:47.038Z"
   },
   {
    "duration": 165,
    "start_time": "2022-11-17T18:48:47.206Z"
   },
   {
    "duration": 115,
    "start_time": "2022-11-17T18:48:47.373Z"
   },
   {
    "duration": 258,
    "start_time": "2022-11-17T18:48:47.490Z"
   },
   {
    "duration": 177,
    "start_time": "2022-11-17T18:48:47.749Z"
   },
   {
    "duration": 170,
    "start_time": "2022-11-17T18:48:47.928Z"
   },
   {
    "duration": 159,
    "start_time": "2022-11-17T18:48:48.100Z"
   },
   {
    "duration": 167,
    "start_time": "2022-11-17T18:48:48.261Z"
   },
   {
    "duration": 140,
    "start_time": "2022-11-17T18:48:48.430Z"
   },
   {
    "duration": 182,
    "start_time": "2022-11-17T18:48:48.571Z"
   },
   {
    "duration": 165,
    "start_time": "2022-11-17T18:48:48.754Z"
   },
   {
    "duration": 187,
    "start_time": "2022-11-17T18:48:48.920Z"
   },
   {
    "duration": 15,
    "start_time": "2022-11-17T18:48:49.109Z"
   },
   {
    "duration": 148,
    "start_time": "2022-11-17T18:48:49.126Z"
   },
   {
    "duration": 9,
    "start_time": "2022-11-17T18:48:49.276Z"
   },
   {
    "duration": 5,
    "start_time": "2022-11-17T18:48:49.287Z"
   },
   {
    "duration": 253,
    "start_time": "2022-11-17T18:48:49.294Z"
   },
   {
    "duration": 5,
    "start_time": "2022-11-17T18:48:49.548Z"
   },
   {
    "duration": 238,
    "start_time": "2022-11-17T18:48:49.555Z"
   },
   {
    "duration": 6,
    "start_time": "2022-11-17T18:48:49.795Z"
   },
   {
    "duration": 258,
    "start_time": "2022-11-17T18:48:49.816Z"
   },
   {
    "duration": 175,
    "start_time": "2022-11-17T18:48:50.076Z"
   },
   {
    "duration": 245,
    "start_time": "2022-11-17T18:48:50.253Z"
   },
   {
    "duration": 158,
    "start_time": "2022-11-17T18:48:50.499Z"
   },
   {
    "duration": 192,
    "start_time": "2022-11-17T18:48:50.659Z"
   },
   {
    "duration": 156,
    "start_time": "2022-11-17T18:48:50.853Z"
   },
   {
    "duration": 19,
    "start_time": "2022-11-17T18:48:51.015Z"
   },
   {
    "duration": 18,
    "start_time": "2022-11-17T18:48:51.036Z"
   },
   {
    "duration": 4,
    "start_time": "2022-11-17T18:49:36.315Z"
   },
   {
    "duration": 25,
    "start_time": "2022-11-17T18:49:38.465Z"
   },
   {
    "duration": 130,
    "start_time": "2022-11-17T18:49:49.326Z"
   },
   {
    "duration": 1973,
    "start_time": "2022-11-17T18:49:49.458Z"
   },
   {
    "duration": 10,
    "start_time": "2022-11-17T18:49:51.432Z"
   },
   {
    "duration": 27,
    "start_time": "2022-11-17T18:49:51.444Z"
   },
   {
    "duration": 16,
    "start_time": "2022-11-17T18:49:51.473Z"
   },
   {
    "duration": 17,
    "start_time": "2022-11-17T18:49:51.491Z"
   },
   {
    "duration": 16,
    "start_time": "2022-11-17T18:49:51.509Z"
   },
   {
    "duration": 20,
    "start_time": "2022-11-17T18:49:51.527Z"
   },
   {
    "duration": 35,
    "start_time": "2022-11-17T18:49:51.548Z"
   },
   {
    "duration": 6,
    "start_time": "2022-11-17T18:49:51.585Z"
   },
   {
    "duration": 22,
    "start_time": "2022-11-17T18:49:51.592Z"
   },
   {
    "duration": 27,
    "start_time": "2022-11-17T18:49:51.615Z"
   },
   {
    "duration": 18,
    "start_time": "2022-11-17T18:49:51.644Z"
   },
   {
    "duration": 15,
    "start_time": "2022-11-17T18:49:51.665Z"
   },
   {
    "duration": 1378,
    "start_time": "2022-11-17T18:49:51.682Z"
   },
   {
    "duration": 7,
    "start_time": "2022-11-17T18:49:53.062Z"
   },
   {
    "duration": 13,
    "start_time": "2022-11-17T18:49:53.070Z"
   },
   {
    "duration": 7,
    "start_time": "2022-11-17T18:49:53.084Z"
   },
   {
    "duration": 22,
    "start_time": "2022-11-17T18:49:53.093Z"
   },
   {
    "duration": 4,
    "start_time": "2022-11-17T18:49:53.117Z"
   },
   {
    "duration": 12,
    "start_time": "2022-11-17T18:49:53.123Z"
   },
   {
    "duration": 5,
    "start_time": "2022-11-17T18:49:53.137Z"
   },
   {
    "duration": 27,
    "start_time": "2022-11-17T18:49:55.237Z"
   },
   {
    "duration": 4,
    "start_time": "2022-11-17T18:50:14.205Z"
   },
   {
    "duration": 25,
    "start_time": "2022-11-17T18:50:16.212Z"
   },
   {
    "duration": 37,
    "start_time": "2022-11-17T18:54:05.877Z"
   },
   {
    "duration": 8,
    "start_time": "2022-11-17T18:54:11.638Z"
   },
   {
    "duration": 22,
    "start_time": "2022-11-17T18:54:15.600Z"
   },
   {
    "duration": 22,
    "start_time": "2022-11-17T18:54:20.091Z"
   },
   {
    "duration": 51,
    "start_time": "2022-11-17T19:12:33.868Z"
   },
   {
    "duration": 43,
    "start_time": "2022-11-17T19:12:40.317Z"
   },
   {
    "duration": 18,
    "start_time": "2022-11-17T19:17:22.810Z"
   },
   {
    "duration": 16,
    "start_time": "2022-11-17T19:17:32.407Z"
   },
   {
    "duration": 590,
    "start_time": "2022-11-17T19:17:42.279Z"
   },
   {
    "duration": 2221,
    "start_time": "2022-11-17T19:17:42.871Z"
   },
   {
    "duration": 26,
    "start_time": "2022-11-17T19:17:45.093Z"
   },
   {
    "duration": 10,
    "start_time": "2022-11-17T19:17:45.121Z"
   },
   {
    "duration": 6,
    "start_time": "2022-11-17T19:17:45.132Z"
   },
   {
    "duration": 15,
    "start_time": "2022-11-17T19:17:45.140Z"
   },
   {
    "duration": 8,
    "start_time": "2022-11-17T19:17:45.157Z"
   },
   {
    "duration": 8,
    "start_time": "2022-11-17T19:17:45.167Z"
   },
   {
    "duration": 13,
    "start_time": "2022-11-17T19:17:45.177Z"
   },
   {
    "duration": 46,
    "start_time": "2022-11-17T19:17:45.194Z"
   },
   {
    "duration": 6,
    "start_time": "2022-11-17T19:17:45.242Z"
   },
   {
    "duration": 8,
    "start_time": "2022-11-17T19:17:45.249Z"
   },
   {
    "duration": 11,
    "start_time": "2022-11-17T19:17:45.258Z"
   },
   {
    "duration": 6,
    "start_time": "2022-11-17T19:17:45.271Z"
   },
   {
    "duration": 38,
    "start_time": "2022-11-17T19:17:45.278Z"
   },
   {
    "duration": 1401,
    "start_time": "2022-11-17T19:17:45.317Z"
   },
   {
    "duration": 7,
    "start_time": "2022-11-17T19:17:46.720Z"
   },
   {
    "duration": 13,
    "start_time": "2022-11-17T19:17:46.729Z"
   },
   {
    "duration": 8,
    "start_time": "2022-11-17T19:17:46.744Z"
   },
   {
    "duration": 12,
    "start_time": "2022-11-17T19:17:46.753Z"
   },
   {
    "duration": 9,
    "start_time": "2022-11-17T19:17:46.766Z"
   },
   {
    "duration": 7,
    "start_time": "2022-11-17T19:17:46.777Z"
   },
   {
    "duration": 5,
    "start_time": "2022-11-17T19:17:46.786Z"
   },
   {
    "duration": 23,
    "start_time": "2022-11-17T19:17:46.793Z"
   },
   {
    "duration": 189,
    "start_time": "2022-11-17T19:17:46.818Z"
   },
   {
    "duration": 11,
    "start_time": "2022-11-17T19:17:47.009Z"
   },
   {
    "duration": 7,
    "start_time": "2022-11-17T19:17:47.022Z"
   },
   {
    "duration": 136,
    "start_time": "2022-11-17T19:17:47.033Z"
   },
   {
    "duration": 169,
    "start_time": "2022-11-17T19:17:47.172Z"
   },
   {
    "duration": 140,
    "start_time": "2022-11-17T19:17:47.343Z"
   },
   {
    "duration": 8,
    "start_time": "2022-11-17T19:17:47.485Z"
   },
   {
    "duration": 142,
    "start_time": "2022-11-17T19:17:47.495Z"
   },
   {
    "duration": 10,
    "start_time": "2022-11-17T19:17:47.639Z"
   },
   {
    "duration": 31,
    "start_time": "2022-11-17T19:17:47.651Z"
   },
   {
    "duration": 31,
    "start_time": "2022-11-17T19:17:47.684Z"
   },
   {
    "duration": 109,
    "start_time": "2022-11-17T19:17:47.717Z"
   },
   {
    "duration": 7,
    "start_time": "2022-11-17T19:17:47.828Z"
   },
   {
    "duration": 8,
    "start_time": "2022-11-17T19:17:47.837Z"
   },
   {
    "duration": 6,
    "start_time": "2022-11-17T19:17:47.846Z"
   },
   {
    "duration": 9,
    "start_time": "2022-11-17T19:17:47.853Z"
   },
   {
    "duration": 6,
    "start_time": "2022-11-17T19:17:47.864Z"
   },
   {
    "duration": 9,
    "start_time": "2022-11-17T19:17:47.872Z"
   },
   {
    "duration": 9,
    "start_time": "2022-11-17T19:17:47.883Z"
   },
   {
    "duration": 348,
    "start_time": "2022-11-17T19:17:47.894Z"
   },
   {
    "duration": 6,
    "start_time": "2022-11-17T19:17:48.244Z"
   },
   {
    "duration": 164,
    "start_time": "2022-11-17T19:17:48.252Z"
   },
   {
    "duration": 170,
    "start_time": "2022-11-17T19:17:48.418Z"
   },
   {
    "duration": 188,
    "start_time": "2022-11-17T19:17:48.589Z"
   },
   {
    "duration": 171,
    "start_time": "2022-11-17T19:17:48.779Z"
   },
   {
    "duration": 165,
    "start_time": "2022-11-17T19:17:48.951Z"
   },
   {
    "duration": 157,
    "start_time": "2022-11-17T19:17:49.117Z"
   },
   {
    "duration": 167,
    "start_time": "2022-11-17T19:17:49.276Z"
   },
   {
    "duration": 127,
    "start_time": "2022-11-17T19:17:49.445Z"
   },
   {
    "duration": 166,
    "start_time": "2022-11-17T19:17:49.574Z"
   },
   {
    "duration": 283,
    "start_time": "2022-11-17T19:17:49.741Z"
   },
   {
    "duration": 175,
    "start_time": "2022-11-17T19:17:50.026Z"
   },
   {
    "duration": 143,
    "start_time": "2022-11-17T19:17:50.203Z"
   },
   {
    "duration": 161,
    "start_time": "2022-11-17T19:17:50.347Z"
   },
   {
    "duration": 143,
    "start_time": "2022-11-17T19:17:50.514Z"
   },
   {
    "duration": 181,
    "start_time": "2022-11-17T19:17:50.659Z"
   },
   {
    "duration": 176,
    "start_time": "2022-11-17T19:17:50.842Z"
   },
   {
    "duration": 180,
    "start_time": "2022-11-17T19:17:51.019Z"
   },
   {
    "duration": 23,
    "start_time": "2022-11-17T19:17:51.200Z"
   },
   {
    "duration": 148,
    "start_time": "2022-11-17T19:17:51.225Z"
   },
   {
    "duration": 12,
    "start_time": "2022-11-17T19:17:51.375Z"
   },
   {
    "duration": 24,
    "start_time": "2022-11-17T19:17:51.389Z"
   },
   {
    "duration": 226,
    "start_time": "2022-11-17T19:17:51.415Z"
   },
   {
    "duration": 5,
    "start_time": "2022-11-17T19:17:51.643Z"
   },
   {
    "duration": 224,
    "start_time": "2022-11-17T19:17:51.649Z"
   },
   {
    "duration": 5,
    "start_time": "2022-11-17T19:17:51.874Z"
   },
   {
    "duration": 231,
    "start_time": "2022-11-17T19:17:51.880Z"
   },
   {
    "duration": 163,
    "start_time": "2022-11-17T19:17:52.115Z"
   },
   {
    "duration": 129,
    "start_time": "2022-11-17T19:17:52.280Z"
   },
   {
    "duration": 266,
    "start_time": "2022-11-17T19:17:52.411Z"
   },
   {
    "duration": 176,
    "start_time": "2022-11-17T19:17:52.679Z"
   },
   {
    "duration": 150,
    "start_time": "2022-11-17T19:17:52.857Z"
   },
   {
    "duration": 18,
    "start_time": "2022-11-17T19:17:53.015Z"
   },
   {
    "duration": 18,
    "start_time": "2022-11-17T19:17:53.035Z"
   },
   {
    "duration": 14,
    "start_time": "2022-11-17T19:19:00.225Z"
   },
   {
    "duration": 127,
    "start_time": "2022-11-17T19:21:40.335Z"
   },
   {
    "duration": 14,
    "start_time": "2022-11-17T19:35:07.245Z"
   },
   {
    "duration": 18,
    "start_time": "2022-11-17T19:35:12.749Z"
   },
   {
    "duration": 755,
    "start_time": "2022-11-17T19:35:54.586Z"
   },
   {
    "duration": 754,
    "start_time": "2022-11-17T19:36:08.308Z"
   },
   {
    "duration": 738,
    "start_time": "2022-11-17T19:36:16.298Z"
   },
   {
    "duration": 20,
    "start_time": "2022-11-17T19:36:20.732Z"
   },
   {
    "duration": 140,
    "start_time": "2022-11-17T19:36:39.185Z"
   },
   {
    "duration": 171,
    "start_time": "2022-11-17T19:37:15.034Z"
   },
   {
    "duration": 160,
    "start_time": "2022-11-17T19:37:39.711Z"
   },
   {
    "duration": 175,
    "start_time": "2022-11-17T19:37:50.884Z"
   },
   {
    "duration": 295,
    "start_time": "2022-11-17T19:37:58.391Z"
   },
   {
    "duration": 146,
    "start_time": "2022-11-17T19:38:17.817Z"
   },
   {
    "duration": 21,
    "start_time": "2022-11-17T19:39:59.514Z"
   },
   {
    "duration": 19,
    "start_time": "2022-11-17T19:40:06.164Z"
   },
   {
    "duration": 20,
    "start_time": "2022-11-17T19:40:18.336Z"
   },
   {
    "duration": 18,
    "start_time": "2022-11-17T19:40:22.504Z"
   },
   {
    "duration": 18,
    "start_time": "2022-11-17T19:40:29.877Z"
   },
   {
    "duration": 139,
    "start_time": "2022-11-17T19:40:39.789Z"
   },
   {
    "duration": 16,
    "start_time": "2022-11-17T19:42:14.165Z"
   },
   {
    "duration": 18,
    "start_time": "2022-11-17T19:42:42.714Z"
   },
   {
    "duration": 21,
    "start_time": "2022-11-17T19:42:54.137Z"
   },
   {
    "duration": 143,
    "start_time": "2022-11-17T19:43:09.670Z"
   },
   {
    "duration": 320,
    "start_time": "2022-11-17T19:43:36.330Z"
   },
   {
    "duration": 269,
    "start_time": "2022-11-17T19:44:07.784Z"
   },
   {
    "duration": 286,
    "start_time": "2022-11-17T19:44:21.752Z"
   },
   {
    "duration": 294,
    "start_time": "2022-11-17T19:44:25.987Z"
   },
   {
    "duration": 433,
    "start_time": "2022-11-17T19:44:31.075Z"
   },
   {
    "duration": 325,
    "start_time": "2022-11-17T19:44:39.970Z"
   },
   {
    "duration": 353,
    "start_time": "2022-11-17T19:44:48.828Z"
   },
   {
    "duration": 323,
    "start_time": "2022-11-17T19:44:55.233Z"
   },
   {
    "duration": 306,
    "start_time": "2022-11-17T19:45:30.967Z"
   },
   {
    "duration": 20,
    "start_time": "2022-11-17T19:46:14.970Z"
   },
   {
    "duration": 4,
    "start_time": "2022-11-17T19:46:45.085Z"
   },
   {
    "duration": 7,
    "start_time": "2022-11-17T19:47:04.350Z"
   },
   {
    "duration": 20,
    "start_time": "2022-11-17T19:47:13.614Z"
   },
   {
    "duration": 14,
    "start_time": "2022-11-17T19:47:17.939Z"
   },
   {
    "duration": 267,
    "start_time": "2022-11-17T19:47:20.725Z"
   },
   {
    "duration": 269,
    "start_time": "2022-11-17T19:47:49.923Z"
   },
   {
    "duration": 266,
    "start_time": "2022-11-17T19:48:28.489Z"
   },
   {
    "duration": 126,
    "start_time": "2022-11-17T19:48:43.648Z"
   },
   {
    "duration": 131,
    "start_time": "2022-11-17T19:48:48.703Z"
   },
   {
    "duration": 172,
    "start_time": "2022-11-17T19:48:53.558Z"
   },
   {
    "duration": 132,
    "start_time": "2022-11-17T19:48:56.868Z"
   },
   {
    "duration": 119,
    "start_time": "2022-11-17T19:49:00.206Z"
   },
   {
    "duration": 144,
    "start_time": "2022-11-17T19:49:02.869Z"
   },
   {
    "duration": 208,
    "start_time": "2022-11-17T19:49:06.608Z"
   },
   {
    "duration": 278,
    "start_time": "2022-11-17T19:49:19.276Z"
   },
   {
    "duration": 2500,
    "start_time": "2022-11-17T19:50:44.476Z"
   },
   {
    "duration": 585,
    "start_time": "2022-11-17T19:50:55.422Z"
   },
   {
    "duration": 2146,
    "start_time": "2022-11-17T19:50:56.009Z"
   },
   {
    "duration": 28,
    "start_time": "2022-11-17T19:50:58.157Z"
   },
   {
    "duration": 9,
    "start_time": "2022-11-17T19:50:58.187Z"
   },
   {
    "duration": 20,
    "start_time": "2022-11-17T19:50:58.197Z"
   },
   {
    "duration": 21,
    "start_time": "2022-11-17T19:50:58.218Z"
   },
   {
    "duration": 31,
    "start_time": "2022-11-17T19:50:58.241Z"
   },
   {
    "duration": 14,
    "start_time": "2022-11-17T19:50:58.273Z"
   },
   {
    "duration": 11,
    "start_time": "2022-11-17T19:50:58.289Z"
   },
   {
    "duration": 41,
    "start_time": "2022-11-17T19:50:58.303Z"
   },
   {
    "duration": 4,
    "start_time": "2022-11-17T19:50:58.346Z"
   },
   {
    "duration": 16,
    "start_time": "2022-11-17T19:50:58.352Z"
   },
   {
    "duration": 19,
    "start_time": "2022-11-17T19:50:58.370Z"
   },
   {
    "duration": 28,
    "start_time": "2022-11-17T19:50:58.392Z"
   },
   {
    "duration": 31,
    "start_time": "2022-11-17T19:50:58.421Z"
   },
   {
    "duration": 1311,
    "start_time": "2022-11-17T19:50:58.454Z"
   },
   {
    "duration": 6,
    "start_time": "2022-11-17T19:50:59.767Z"
   },
   {
    "duration": 10,
    "start_time": "2022-11-17T19:50:59.775Z"
   },
   {
    "duration": 7,
    "start_time": "2022-11-17T19:50:59.787Z"
   },
   {
    "duration": 21,
    "start_time": "2022-11-17T19:50:59.795Z"
   },
   {
    "duration": 6,
    "start_time": "2022-11-17T19:50:59.817Z"
   },
   {
    "duration": 14,
    "start_time": "2022-11-17T19:50:59.824Z"
   },
   {
    "duration": 6,
    "start_time": "2022-11-17T19:50:59.839Z"
   },
   {
    "duration": 7,
    "start_time": "2022-11-17T19:50:59.846Z"
   },
   {
    "duration": 185,
    "start_time": "2022-11-17T19:50:59.856Z"
   },
   {
    "duration": 7,
    "start_time": "2022-11-17T19:51:00.043Z"
   },
   {
    "duration": 35,
    "start_time": "2022-11-17T19:51:00.051Z"
   },
   {
    "duration": 138,
    "start_time": "2022-11-17T19:51:00.091Z"
   },
   {
    "duration": 163,
    "start_time": "2022-11-17T19:51:00.231Z"
   },
   {
    "duration": 142,
    "start_time": "2022-11-17T19:51:00.395Z"
   },
   {
    "duration": 9,
    "start_time": "2022-11-17T19:51:00.539Z"
   },
   {
    "duration": 130,
    "start_time": "2022-11-17T19:51:00.549Z"
   },
   {
    "duration": 9,
    "start_time": "2022-11-17T19:51:00.681Z"
   },
   {
    "duration": 54,
    "start_time": "2022-11-17T19:51:00.691Z"
   },
   {
    "duration": 10,
    "start_time": "2022-11-17T19:51:00.747Z"
   },
   {
    "duration": 107,
    "start_time": "2022-11-17T19:51:00.759Z"
   },
   {
    "duration": 7,
    "start_time": "2022-11-17T19:51:00.868Z"
   },
   {
    "duration": 19,
    "start_time": "2022-11-17T19:51:00.877Z"
   },
   {
    "duration": 26,
    "start_time": "2022-11-17T19:51:00.898Z"
   },
   {
    "duration": 15,
    "start_time": "2022-11-17T19:51:00.926Z"
   },
   {
    "duration": 18,
    "start_time": "2022-11-17T19:51:00.943Z"
   },
   {
    "duration": 25,
    "start_time": "2022-11-17T19:51:00.963Z"
   },
   {
    "duration": 34,
    "start_time": "2022-11-17T19:51:00.990Z"
   },
   {
    "duration": 330,
    "start_time": "2022-11-17T19:51:01.025Z"
   },
   {
    "duration": 6,
    "start_time": "2022-11-17T19:51:01.356Z"
   },
   {
    "duration": 171,
    "start_time": "2022-11-17T19:51:01.363Z"
   },
   {
    "duration": 147,
    "start_time": "2022-11-17T19:51:01.536Z"
   },
   {
    "duration": 167,
    "start_time": "2022-11-17T19:51:01.685Z"
   },
   {
    "duration": 152,
    "start_time": "2022-11-17T19:51:01.854Z"
   },
   {
    "duration": 151,
    "start_time": "2022-11-17T19:51:02.008Z"
   },
   {
    "duration": 128,
    "start_time": "2022-11-17T19:51:02.161Z"
   },
   {
    "duration": 148,
    "start_time": "2022-11-17T19:51:02.291Z"
   },
   {
    "duration": 114,
    "start_time": "2022-11-17T19:51:02.440Z"
   },
   {
    "duration": 153,
    "start_time": "2022-11-17T19:51:02.556Z"
   },
   {
    "duration": 235,
    "start_time": "2022-11-17T19:51:02.716Z"
   },
   {
    "duration": 164,
    "start_time": "2022-11-17T19:51:02.953Z"
   },
   {
    "duration": 140,
    "start_time": "2022-11-17T19:51:03.119Z"
   },
   {
    "duration": 150,
    "start_time": "2022-11-17T19:51:03.261Z"
   },
   {
    "duration": 132,
    "start_time": "2022-11-17T19:51:03.416Z"
   },
   {
    "duration": 179,
    "start_time": "2022-11-17T19:51:03.550Z"
   },
   {
    "duration": 168,
    "start_time": "2022-11-17T19:51:03.731Z"
   },
   {
    "duration": 164,
    "start_time": "2022-11-17T19:51:03.901Z"
   },
   {
    "duration": 10,
    "start_time": "2022-11-17T19:51:04.067Z"
   },
   {
    "duration": 132,
    "start_time": "2022-11-17T19:51:04.079Z"
   },
   {
    "duration": 10,
    "start_time": "2022-11-17T19:51:04.213Z"
   },
   {
    "duration": 5,
    "start_time": "2022-11-17T19:51:04.224Z"
   },
   {
    "duration": 227,
    "start_time": "2022-11-17T19:51:04.231Z"
   },
   {
    "duration": 6,
    "start_time": "2022-11-17T19:51:04.460Z"
   },
   {
    "duration": 216,
    "start_time": "2022-11-17T19:51:04.467Z"
   },
   {
    "duration": 5,
    "start_time": "2022-11-17T19:51:04.685Z"
   },
   {
    "duration": 286,
    "start_time": "2022-11-17T19:51:04.691Z"
   },
   {
    "duration": 154,
    "start_time": "2022-11-17T19:51:04.978Z"
   },
   {
    "duration": 125,
    "start_time": "2022-11-17T19:51:05.133Z"
   },
   {
    "duration": 137,
    "start_time": "2022-11-17T19:51:05.260Z"
   },
   {
    "duration": 172,
    "start_time": "2022-11-17T19:51:05.399Z"
   },
   {
    "duration": 142,
    "start_time": "2022-11-17T19:51:05.573Z"
   },
   {
    "duration": 138,
    "start_time": "2022-11-17T19:51:05.717Z"
   },
   {
    "duration": 19,
    "start_time": "2022-11-17T19:51:05.857Z"
   },
   {
    "duration": 16,
    "start_time": "2022-11-17T19:51:05.878Z"
   },
   {
    "duration": 294,
    "start_time": "2022-11-17T19:51:05.916Z"
   },
   {
    "duration": 585,
    "start_time": "2022-11-17T20:14:17.820Z"
   },
   {
    "duration": 2257,
    "start_time": "2022-11-17T20:14:18.415Z"
   },
   {
    "duration": 27,
    "start_time": "2022-11-17T20:14:20.674Z"
   },
   {
    "duration": 10,
    "start_time": "2022-11-17T20:14:20.703Z"
   },
   {
    "duration": 24,
    "start_time": "2022-11-17T20:14:20.714Z"
   },
   {
    "duration": 19,
    "start_time": "2022-11-17T20:14:20.740Z"
   },
   {
    "duration": 19,
    "start_time": "2022-11-17T20:14:20.760Z"
   },
   {
    "duration": 19,
    "start_time": "2022-11-17T20:14:20.780Z"
   },
   {
    "duration": 5,
    "start_time": "2022-11-17T20:14:20.801Z"
   },
   {
    "duration": 37,
    "start_time": "2022-11-17T20:14:20.810Z"
   },
   {
    "duration": 5,
    "start_time": "2022-11-17T20:14:20.849Z"
   },
   {
    "duration": 12,
    "start_time": "2022-11-17T20:14:20.856Z"
   },
   {
    "duration": 12,
    "start_time": "2022-11-17T20:14:20.870Z"
   },
   {
    "duration": 6,
    "start_time": "2022-11-17T20:14:20.884Z"
   },
   {
    "duration": 30,
    "start_time": "2022-11-17T20:14:20.892Z"
   },
   {
    "duration": 1371,
    "start_time": "2022-11-17T20:14:20.924Z"
   },
   {
    "duration": 7,
    "start_time": "2022-11-17T20:14:22.296Z"
   },
   {
    "duration": 11,
    "start_time": "2022-11-17T20:14:22.315Z"
   },
   {
    "duration": 9,
    "start_time": "2022-11-17T20:14:22.327Z"
   },
   {
    "duration": 8,
    "start_time": "2022-11-17T20:14:22.337Z"
   },
   {
    "duration": 5,
    "start_time": "2022-11-17T20:14:22.348Z"
   },
   {
    "duration": 15,
    "start_time": "2022-11-17T20:14:22.354Z"
   },
   {
    "duration": 6,
    "start_time": "2022-11-17T20:14:22.370Z"
   },
   {
    "duration": 8,
    "start_time": "2022-11-17T20:14:22.377Z"
   },
   {
    "duration": 216,
    "start_time": "2022-11-17T20:14:22.386Z"
   },
   {
    "duration": 15,
    "start_time": "2022-11-17T20:14:22.605Z"
   },
   {
    "duration": 6,
    "start_time": "2022-11-17T20:14:22.621Z"
   },
   {
    "duration": 136,
    "start_time": "2022-11-17T20:14:22.631Z"
   },
   {
    "duration": 168,
    "start_time": "2022-11-17T20:14:22.769Z"
   },
   {
    "duration": 140,
    "start_time": "2022-11-17T20:14:22.939Z"
   },
   {
    "duration": 9,
    "start_time": "2022-11-17T20:14:23.081Z"
   },
   {
    "duration": 129,
    "start_time": "2022-11-17T20:14:23.092Z"
   },
   {
    "duration": 9,
    "start_time": "2022-11-17T20:14:23.223Z"
   },
   {
    "duration": 33,
    "start_time": "2022-11-17T20:14:23.233Z"
   },
   {
    "duration": 9,
    "start_time": "2022-11-17T20:14:23.268Z"
   },
   {
    "duration": 124,
    "start_time": "2022-11-17T20:14:23.279Z"
   },
   {
    "duration": 13,
    "start_time": "2022-11-17T20:14:23.405Z"
   },
   {
    "duration": 8,
    "start_time": "2022-11-17T20:14:23.420Z"
   },
   {
    "duration": 5,
    "start_time": "2022-11-17T20:14:23.430Z"
   },
   {
    "duration": 8,
    "start_time": "2022-11-17T20:14:23.436Z"
   },
   {
    "duration": 8,
    "start_time": "2022-11-17T20:14:23.446Z"
   },
   {
    "duration": 13,
    "start_time": "2022-11-17T20:14:23.455Z"
   },
   {
    "duration": 7,
    "start_time": "2022-11-17T20:14:23.470Z"
   },
   {
    "duration": 337,
    "start_time": "2022-11-17T20:14:23.478Z"
   },
   {
    "duration": 7,
    "start_time": "2022-11-17T20:14:23.817Z"
   },
   {
    "duration": 157,
    "start_time": "2022-11-17T20:14:23.825Z"
   },
   {
    "duration": 170,
    "start_time": "2022-11-17T20:14:23.984Z"
   },
   {
    "duration": 168,
    "start_time": "2022-11-17T20:14:24.156Z"
   },
   {
    "duration": 170,
    "start_time": "2022-11-17T20:14:24.326Z"
   },
   {
    "duration": 138,
    "start_time": "2022-11-17T20:14:24.498Z"
   },
   {
    "duration": 130,
    "start_time": "2022-11-17T20:14:24.638Z"
   },
   {
    "duration": 154,
    "start_time": "2022-11-17T20:14:24.770Z"
   },
   {
    "duration": 127,
    "start_time": "2022-11-17T20:14:24.926Z"
   },
   {
    "duration": 153,
    "start_time": "2022-11-17T20:14:25.055Z"
   },
   {
    "duration": 241,
    "start_time": "2022-11-17T20:14:25.209Z"
   },
   {
    "duration": 182,
    "start_time": "2022-11-17T20:14:25.453Z"
   },
   {
    "duration": 151,
    "start_time": "2022-11-17T20:14:25.637Z"
   },
   {
    "duration": 157,
    "start_time": "2022-11-17T20:14:25.790Z"
   },
   {
    "duration": 137,
    "start_time": "2022-11-17T20:14:25.949Z"
   },
   {
    "duration": 180,
    "start_time": "2022-11-17T20:14:26.088Z"
   },
   {
    "duration": 226,
    "start_time": "2022-11-17T20:14:26.271Z"
   },
   {
    "duration": 162,
    "start_time": "2022-11-17T20:14:26.499Z"
   },
   {
    "duration": 11,
    "start_time": "2022-11-17T20:14:26.663Z"
   },
   {
    "duration": 130,
    "start_time": "2022-11-17T20:14:26.675Z"
   },
   {
    "duration": 16,
    "start_time": "2022-11-17T20:14:26.807Z"
   },
   {
    "duration": 5,
    "start_time": "2022-11-17T20:14:26.825Z"
   },
   {
    "duration": 232,
    "start_time": "2022-11-17T20:14:26.831Z"
   },
   {
    "duration": 5,
    "start_time": "2022-11-17T20:14:27.064Z"
   },
   {
    "duration": 228,
    "start_time": "2022-11-17T20:14:27.071Z"
   },
   {
    "duration": 15,
    "start_time": "2022-11-17T20:14:27.301Z"
   },
   {
    "duration": 291,
    "start_time": "2022-11-17T20:14:27.318Z"
   },
   {
    "duration": 152,
    "start_time": "2022-11-17T20:14:27.615Z"
   },
   {
    "duration": 123,
    "start_time": "2022-11-17T20:14:27.769Z"
   },
   {
    "duration": 143,
    "start_time": "2022-11-17T20:14:27.894Z"
   },
   {
    "duration": 184,
    "start_time": "2022-11-17T20:14:28.039Z"
   },
   {
    "duration": 136,
    "start_time": "2022-11-17T20:14:28.225Z"
   },
   {
    "duration": 143,
    "start_time": "2022-11-17T20:14:28.363Z"
   },
   {
    "duration": 23,
    "start_time": "2022-11-17T20:14:28.508Z"
   },
   {
    "duration": 16,
    "start_time": "2022-11-17T20:14:28.533Z"
   },
   {
    "duration": 288,
    "start_time": "2022-11-17T20:14:28.551Z"
   },
   {
    "duration": 595,
    "start_time": "2022-11-17T21:26:24.780Z"
   },
   {
    "duration": 2404,
    "start_time": "2022-11-17T21:26:25.377Z"
   },
   {
    "duration": 38,
    "start_time": "2022-11-17T21:26:27.785Z"
   },
   {
    "duration": 10,
    "start_time": "2022-11-17T21:26:27.825Z"
   },
   {
    "duration": 8,
    "start_time": "2022-11-17T21:26:27.837Z"
   },
   {
    "duration": 7,
    "start_time": "2022-11-17T21:26:27.847Z"
   },
   {
    "duration": 8,
    "start_time": "2022-11-17T21:26:27.856Z"
   },
   {
    "duration": 12,
    "start_time": "2022-11-17T21:26:27.865Z"
   },
   {
    "duration": 36,
    "start_time": "2022-11-17T21:26:27.879Z"
   },
   {
    "duration": 43,
    "start_time": "2022-11-17T21:26:27.919Z"
   },
   {
    "duration": 6,
    "start_time": "2022-11-17T21:26:27.964Z"
   },
   {
    "duration": 9,
    "start_time": "2022-11-17T21:26:27.972Z"
   },
   {
    "duration": 36,
    "start_time": "2022-11-17T21:26:27.983Z"
   },
   {
    "duration": 6,
    "start_time": "2022-11-17T21:26:28.021Z"
   },
   {
    "duration": 19,
    "start_time": "2022-11-17T21:26:28.029Z"
   },
   {
    "duration": 1367,
    "start_time": "2022-11-17T21:26:28.050Z"
   },
   {
    "duration": 7,
    "start_time": "2022-11-17T21:26:29.419Z"
   },
   {
    "duration": 12,
    "start_time": "2022-11-17T21:26:29.428Z"
   },
   {
    "duration": 7,
    "start_time": "2022-11-17T21:26:29.442Z"
   },
   {
    "duration": 10,
    "start_time": "2022-11-17T21:26:29.451Z"
   },
   {
    "duration": 5,
    "start_time": "2022-11-17T21:26:29.463Z"
   },
   {
    "duration": 7,
    "start_time": "2022-11-17T21:26:29.470Z"
   },
   {
    "duration": 37,
    "start_time": "2022-11-17T21:26:29.478Z"
   },
   {
    "duration": 8,
    "start_time": "2022-11-17T21:26:29.516Z"
   },
   {
    "duration": 235,
    "start_time": "2022-11-17T21:26:29.526Z"
   },
   {
    "duration": 5,
    "start_time": "2022-11-17T21:26:29.763Z"
   },
   {
    "duration": 6,
    "start_time": "2022-11-17T21:26:29.770Z"
   },
   {
    "duration": 132,
    "start_time": "2022-11-17T21:26:29.782Z"
   },
   {
    "duration": 171,
    "start_time": "2022-11-17T21:26:29.915Z"
   },
   {
    "duration": 156,
    "start_time": "2022-11-17T21:26:30.087Z"
   },
   {
    "duration": 8,
    "start_time": "2022-11-17T21:26:30.244Z"
   },
   {
    "duration": 158,
    "start_time": "2022-11-17T21:26:30.254Z"
   },
   {
    "duration": 9,
    "start_time": "2022-11-17T21:26:30.414Z"
   },
   {
    "duration": 98,
    "start_time": "2022-11-17T21:26:30.424Z"
   },
   {
    "duration": 18,
    "start_time": "2022-11-17T21:26:30.524Z"
   },
   {
    "duration": 115,
    "start_time": "2022-11-17T21:26:30.544Z"
   },
   {
    "duration": 9,
    "start_time": "2022-11-17T21:26:30.660Z"
   },
   {
    "duration": 31,
    "start_time": "2022-11-17T21:26:30.671Z"
   },
   {
    "duration": 18,
    "start_time": "2022-11-17T21:26:30.704Z"
   },
   {
    "duration": 42,
    "start_time": "2022-11-17T21:26:30.724Z"
   },
   {
    "duration": 13,
    "start_time": "2022-11-17T21:26:30.767Z"
   },
   {
    "duration": 25,
    "start_time": "2022-11-17T21:26:30.781Z"
   },
   {
    "duration": 20,
    "start_time": "2022-11-17T21:26:30.807Z"
   },
   {
    "duration": 339,
    "start_time": "2022-11-17T21:26:30.829Z"
   },
   {
    "duration": 7,
    "start_time": "2022-11-17T21:26:31.169Z"
   },
   {
    "duration": 172,
    "start_time": "2022-11-17T21:26:31.179Z"
   },
   {
    "duration": 226,
    "start_time": "2022-11-17T21:26:31.352Z"
   },
   {
    "duration": 197,
    "start_time": "2022-11-17T21:26:31.579Z"
   },
   {
    "duration": 169,
    "start_time": "2022-11-17T21:26:31.778Z"
   },
   {
    "duration": 138,
    "start_time": "2022-11-17T21:26:31.948Z"
   },
   {
    "duration": 139,
    "start_time": "2022-11-17T21:26:32.087Z"
   },
   {
    "duration": 152,
    "start_time": "2022-11-17T21:26:32.229Z"
   },
   {
    "duration": 113,
    "start_time": "2022-11-17T21:26:32.383Z"
   },
   {
    "duration": 157,
    "start_time": "2022-11-17T21:26:32.497Z"
   },
   {
    "duration": 219,
    "start_time": "2022-11-17T21:26:32.656Z"
   },
   {
    "duration": 157,
    "start_time": "2022-11-17T21:26:32.876Z"
   },
   {
    "duration": 139,
    "start_time": "2022-11-17T21:26:33.034Z"
   },
   {
    "duration": 154,
    "start_time": "2022-11-17T21:26:33.175Z"
   },
   {
    "duration": 144,
    "start_time": "2022-11-17T21:26:33.331Z"
   },
   {
    "duration": 186,
    "start_time": "2022-11-17T21:26:33.477Z"
   },
   {
    "duration": 179,
    "start_time": "2022-11-17T21:26:33.665Z"
   },
   {
    "duration": 181,
    "start_time": "2022-11-17T21:26:33.848Z"
   },
   {
    "duration": 8,
    "start_time": "2022-11-17T21:26:34.031Z"
   },
   {
    "duration": 187,
    "start_time": "2022-11-17T21:26:34.041Z"
   },
   {
    "duration": 8,
    "start_time": "2022-11-17T21:26:34.229Z"
   },
   {
    "duration": 7,
    "start_time": "2022-11-17T21:26:34.239Z"
   },
   {
    "duration": 230,
    "start_time": "2022-11-17T21:26:34.247Z"
   },
   {
    "duration": 6,
    "start_time": "2022-11-17T21:26:34.479Z"
   },
   {
    "duration": 242,
    "start_time": "2022-11-17T21:26:34.487Z"
   },
   {
    "duration": 6,
    "start_time": "2022-11-17T21:26:34.731Z"
   },
   {
    "duration": 314,
    "start_time": "2022-11-17T21:26:34.739Z"
   },
   {
    "duration": 152,
    "start_time": "2022-11-17T21:26:35.055Z"
   },
   {
    "duration": 128,
    "start_time": "2022-11-17T21:26:35.212Z"
   },
   {
    "duration": 143,
    "start_time": "2022-11-17T21:26:35.342Z"
   },
   {
    "duration": 178,
    "start_time": "2022-11-17T21:26:35.487Z"
   },
   {
    "duration": 140,
    "start_time": "2022-11-17T21:26:35.667Z"
   },
   {
    "duration": 138,
    "start_time": "2022-11-17T21:26:35.808Z"
   },
   {
    "duration": 19,
    "start_time": "2022-11-17T21:26:35.948Z"
   },
   {
    "duration": 18,
    "start_time": "2022-11-17T21:26:35.969Z"
   },
   {
    "duration": 354,
    "start_time": "2022-11-17T21:26:35.988Z"
   },
   {
    "duration": 294,
    "start_time": "2022-11-17T21:28:02.682Z"
   }
  ],
  "kernelspec": {
   "display_name": "Python 3 (ipykernel)",
   "language": "python",
   "name": "python3"
  },
  "language_info": {
   "codemirror_mode": {
    "name": "ipython",
    "version": 3
   },
   "file_extension": ".py",
   "mimetype": "text/x-python",
   "name": "python",
   "nbconvert_exporter": "python",
   "pygments_lexer": "ipython3",
   "version": "3.9.5"
  },
  "toc": {
   "base_numbering": 1,
   "nav_menu": {},
   "number_sections": true,
   "sideBar": true,
   "skip_h1_title": true,
   "title_cell": "Table of Contents",
   "title_sidebar": "Contents",
   "toc_cell": false,
   "toc_position": {
    "height": "calc(100% - 180px)",
    "left": "10px",
    "top": "150px",
    "width": "165px"
   },
   "toc_section_display": true,
   "toc_window_display": false
  }
 },
 "nbformat": 4,
 "nbformat_minor": 2
}
